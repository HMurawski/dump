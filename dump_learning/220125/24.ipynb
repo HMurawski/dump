{
 "cells": [
  {
   "cell_type": "code",
   "execution_count": 1,
   "metadata": {},
   "outputs": [],
   "source": [
    "import numpy as np\n",
    "import pandas as pd\n"
   ]
  },
  {
   "cell_type": "code",
   "execution_count": 9,
   "metadata": {},
   "outputs": [
    {
     "name": "stdout",
     "output_type": "stream",
     "text": [
      "[[ 10  16  22  16  86  78   7  96  23  46]\n",
      " [ 25  87  88  24  13  43  11  56  38  55]\n",
      " [ 51  37   1  18   5  53  74  53  44  21]\n",
      " [ 40  59  88  67  99  89  77  20  75  26]\n",
      " [ 73  75  15   2  31  59   4   8   1  74]\n",
      " [ 52  61  47  70   1   7  84  17  82  56]\n",
      " [ 83  81  91  39  18  60  18  93  61  74]\n",
      " [ 56  66  88  38  17  24  97   8  44  79]\n",
      " [ 92  82 100  97  58  85  69  95  31  80]\n",
      " [ 90   2  73  94  16  76  56  14  12  52]]\n",
      "16 18 59\n",
      "[10 87  1 67 31  7 18  8 31 52]\n"
     ]
    }
   ],
   "source": [
    "#fancy indexing\n",
    "macierz = np.random.randint(low=1,high=101, size=(10,10))\n",
    "print(macierz)\n",
    "print(macierz[0,1], macierz[2,3], macierz[4,5])\n",
    "print(np.diag(macierz))"
   ]
  },
  {
   "cell_type": "code",
   "execution_count": 15,
   "metadata": {},
   "outputs": [
    {
     "name": "stdout",
     "output_type": "stream",
     "text": [
      "[[-1 -1 -1 -1 -1 -1  7 -1 23 -1]\n",
      " [25 87 -1 -1 13 43 11 -1 -1 55]\n",
      " [51 37  1 -1  5 53 -1 53 -1 21]\n",
      " [-1 59 -1 67 99 89 77 -1 75 -1]\n",
      " [73 75 15 -1 31 59 -1 -1  1 -1]\n",
      " [-1 61 47 -1  1  7 -1 17 -1 -1]\n",
      " [83 81 91 39 -1 -1 -1 93 61 -1]\n",
      " [-1 -1 -1 -1 17 -1 97 -1 -1 79]\n",
      " [-1 -1 -1 97 -1 85 69 95 31 -1]\n",
      " [-1 -1 73 -1 -1 -1 -1 -1 -1 -1]]\n"
     ]
    }
   ],
   "source": [
    "el_h_t_50 = macierz[macierz > 50]\n",
    "macierz[macierz % 2 == 0] = -1\n",
    "print(macierz)"
   ]
  },
  {
   "cell_type": "code",
   "execution_count": 16,
   "metadata": {},
   "outputs": [
    {
     "name": "stdout",
     "output_type": "stream",
     "text": [
      "[-1 -1 59]\n"
     ]
    }
   ],
   "source": [
    "rows = np.array([0, 2, 4])\n",
    "cols = np.array([1, 3, 5])\n",
    "print(macierz[rows, cols])"
   ]
  },
  {
   "cell_type": "code",
   "execution_count": 18,
   "metadata": {},
   "outputs": [
    {
     "name": "stdout",
     "output_type": "stream",
     "text": [
      "Suma dla elementow macierzy wiekszych niz 75: 220687\n",
      "Suma dla elementow mniejszych niz 25: 30029\n"
     ]
    }
   ],
   "source": [
    "macierz100 = np.random.randint(low=1,high=101, size=(100,100))\n",
    "print(f\"Suma dla elementow macierzy wiekszych niz 75: {np.sum(macierz100[macierz100 > 75])}\\nSuma dla elementow mniejszych niz 25: {np.sum(macierz100[macierz100 < 25])}\")"
   ]
  },
  {
   "cell_type": "code",
   "execution_count": 19,
   "metadata": {},
   "outputs": [
    {
     "name": "stdout",
     "output_type": "stream",
     "text": [
      "Suma dla elementów > 75: 220687, Średnia: 88.0634477254589, Liczba: 2506\n",
      "Suma dla elementów < 25: 30029, Średnia: 12.506872136609745, Liczba: 2401\n"
     ]
    }
   ],
   "source": [
    "suma_75 = np.sum(macierz100[macierz100 > 75])\n",
    "srednia_75 = np.mean(macierz100[macierz100 > 75])\n",
    "liczba_75 = np.sum(macierz100 > 75)\n",
    "\n",
    "suma_25 = np.sum(macierz100[macierz100 < 25])\n",
    "srednia_25 = np.mean(macierz100[macierz100 < 25])\n",
    "liczba_25 = np.sum(macierz100 < 25)\n",
    "\n",
    "print(f\"Suma dla elementów > 75: {suma_75}, Średnia: {srednia_75}, Liczba: {liczba_75}\")\n",
    "print(f\"Suma dla elementów < 25: {suma_25}, Średnia: {srednia_25}, Liczba: {liczba_25}\")\n"
   ]
  },
  {
   "cell_type": "code",
   "execution_count": 20,
   "metadata": {},
   "outputs": [
    {
     "name": "stdout",
     "output_type": "stream",
     "text": [
      "Procent elementów > 75: 25.06%\n",
      "Procent elementów < 25: 24.01%\n"
     ]
    }
   ],
   "source": [
    "total_elements = macierz100.size\n",
    "procent_75 = (liczba_75 / total_elements) * 100\n",
    "procent_25 = (liczba_25 / total_elements) * 100\n",
    "\n",
    "print(f\"Procent elementów > 75: {procent_75:.2f}%\")\n",
    "print(f\"Procent elementów < 25: {procent_25:.2f}%\")\n"
   ]
  },
  {
   "cell_type": "code",
   "execution_count": 32,
   "metadata": {},
   "outputs": [
    {
     "name": "stdout",
     "output_type": "stream",
     "text": [
      "[  1   1   1   1   1   1   1   1   1   1   2   2   2   2   2   2   3   3\n",
      "   3   3   3   3   3   3   3   3   3   3   3   3   3   3   4   4   4   4\n",
      "   4   4   4   5   5   5   5   5   5   5   5   5   5   5   5   5   6   6\n",
      "   6   6   6   6   6   6   6   6   7   7   7   7   7   7   8   8   8   8\n",
      "   8   8   8   8   8   8   8   8   8   8   9   9   9   9   9   9  10  10\n",
      "  10  10  10  10  10  10  10  11  11  11  11  11  11  11  12  12  12  12\n",
      "  12  12  12  12  12  13  13  13  13  13  13  13  13  13  13  13  14  14\n",
      "  14  14  14  14  14  14  14  15  15  15  15  15  15  15  15  15  16  16\n",
      "  16  16  16  16  16  16  16  16  16  16  16  17  17  17  17  17  17  17\n",
      "  17  17  17  18  18  18  18  18  18  18  18  18  18  18  18  19  19  19\n",
      "  19  19  19  19  20  20  20  20  20  20  20  20  21  21  21  21  21  21\n",
      "  22  22  22  22  22  22  22  22  22  22  22  22  22  22  22  22  22  23\n",
      "  23  23  23  23  23  23  23  23  23  24  24  24  24  24  24  24  24  24\n",
      "  24  24  24  24  25  25  25  25  25  25  26  26  26  26  26  26  26  26\n",
      "  26  26  26  26  26  26  26  27  27  27  27  27  27  27  27  27  28  28\n",
      "  28  28  28  28  29  29  29  29  29  29  29  29  30  30  30  30  30  30\n",
      "  30  30  31  31  31  31  31  31  31  32  32  32  32  32  32  32  32  32\n",
      "  32  32  32  32  32  33  33  33  33  33  33  33  33  33  33  33  33  33\n",
      "  33  33  33  34  34  34  34  34  34  34  35  35  35  35  35  35  35  35\n",
      "  35  36  36  36  36  36  36  36  37  37  37  37  37  37  37  37  37  37\n",
      "  37  38  38  38  38  38  38  38  38  39  39  39  39  39  39  39  39  39\n",
      "  39  39  39  40  40  40  40  40  40  40  40  40  40  40  40  40  40  41\n",
      "  41  41  41  41  41  41  41  41  41  42  42  42  42  42  42  42  42  42\n",
      "  42  42  42  42  42  42  42  43  43  43  43  43  43  43  43  43  43  43\n",
      "  44  44  44  44  44  44  44  44  44  44  44  44  44  45  45  45  45  45\n",
      "  45  45  45  45  45  45  45  45  46  46  46  46  46  46  46  46  46  47\n",
      "  47  47  47  47  47  47  47  47  47  48  48  48  48  48  48  48  48  48\n",
      "  48  49  49  49  49  49  50  50  50  50  50  50  50  50  50  50  50  50\n",
      "  51  51  51  51  51  51  51  51  51  51  51  51  51  51  52  52  52  52\n",
      "  52  52  52  52  52  52  52  52  52  53  53  53  53  53  53  53  53  53\n",
      "  53  53  54  54  54  54  54  54  54  54  54  54  54  54  54  55  55  55\n",
      "  55  55  55  55  55  55  55  55  56  56  56  56  56  56  56  56  56  57\n",
      "  57  57  57  57  57  57  57  58  58  58  58  58  58  58  58  58  58  58\n",
      "  58  58  58  58  59  59  59  59  59  59  59  59  59  59  59  59  59  59\n",
      "  59  60  60  60  60  60  61  61  61  61  61  61  62  62  62  62  62  62\n",
      "  62  62  62  62  62  62  62  63  63  63  63  63  63  63  63  63  63  64\n",
      "  64  64  64  64  64  64  64  64  64  64  64  65  65  65  65  65  65  65\n",
      "  65  65  65  65  66  66  66  66  66  66  66  66  66  66  66  67  67  67\n",
      "  67  67  67  67  67  67  68  68  68  68  68  68  68  68  68  68  69  69\n",
      "  69  69  69  69  69  69  69  69  69  69  69  69  70  70  70  70  70  70\n",
      "  71  71  71  71  71  71  71  72  72  72  72  72  72  72  72  72  72  72\n",
      "  73  73  73  73  73  73  73  73  73  73  73  73  74  74  74  74  74  74\n",
      "  74  75  75  75  75  75  75  75  75  75  75  76  76  76  76  76  76  76\n",
      "  76  76  77  77  77  77  77  77  77  77  77  77  78  78  78  78  78  78\n",
      "  78  78  78  78  78  78  79  79  79  79  79  80  80  80  80  80  80  81\n",
      "  81  81  81  81  81  81  81  81  81  81  81  82  82  82  82  82  82  82\n",
      "  82  83  83  83  83  83  83  83  83  83  83  83  83  83  84  84  84  84\n",
      "  84  84  84  85  85  85  85  85  85  85  85  85  85  85  85  86  86  86\n",
      "  86  86  86  86  86  86  87  87  87  87  87  87  87  87  87  87  88  88\n",
      "  88  88  88  88  88  88  88  88  89  89  89  89  89  89  89  89  89  89\n",
      "  89  90  90  90  90  90  90  91  91  91  91  91  91  91  91  91  91  91\n",
      "  91  92  92  92  92  92  92  92  92  93  93  93  93  93  93  94  94  94\n",
      "  94  94  94  94  95  95  95  95  95  95  95  95  95  95  96  96  96  96\n",
      "  96  96  96  96  96  96  96  97  97  97  97  97  97  97  97  97  97  97\n",
      "  98  98  98  98  98  98  98  98  98  99  99  99  99  99  99 100 100 100\n",
      " 100 100 100 100 100 100 100 100 100 100]\n",
      "[100 100 100 100 100 100 100 100 100 100 100 100 100  99  99  99  99  99\n",
      "  99  98  98  98  98  98  98  98  98  98  97  97  97  97  97  97  97  97\n",
      "  97  97  97  96  96  96  96  96  96  96  96  96  96  96  95  95  95  95\n",
      "  95  95  95  95  95  95  94  94  94  94  94  94  94  93  93  93  93  93\n",
      "  93  92  92  92  92  92  92  92  92  91  91  91  91  91  91  91  91  91\n",
      "  91  91  91  90  90  90  90  90  90  89  89  89  89  89  89  89  89  89\n",
      "  89  89  88  88  88  88  88  88  88  88  88  88  87  87  87  87  87  87\n",
      "  87  87  87  87  86  86  86  86  86  86  86  86  86  85  85  85  85  85\n",
      "  85  85  85  85  85  85  85  84  84  84  84  84  84  84  83  83  83  83\n",
      "  83  83  83  83  83  83  83  83  83  82  82  82  82  82  82  82  82  81\n",
      "  81  81  81  81  81  81  81  81  81  81  81  80  80  80  80  80  80  79\n",
      "  79  79  79  79  78  78  78  78  78  78  78  78  78  78  78  78  77  77\n",
      "  77  77  77  77  77  77  77  77  76  76  76  76  76  76  76  76  76  75\n",
      "  75  75  75  75  75  75  75  75  75  74  74  74  74  74  74  74  73  73\n",
      "  73  73  73  73  73  73  73  73  73  73  72  72  72  72  72  72  72  72\n",
      "  72  72  72  71  71  71  71  71  71  71  70  70  70  70  70  70  69  69\n",
      "  69  69  69  69  69  69  69  69  69  69  69  69  68  68  68  68  68  68\n",
      "  68  68  68  68  67  67  67  67  67  67  67  67  67  66  66  66  66  66\n",
      "  66  66  66  66  66  66  65  65  65  65  65  65  65  65  65  65  65  64\n",
      "  64  64  64  64  64  64  64  64  64  64  64  63  63  63  63  63  63  63\n",
      "  63  63  63  62  62  62  62  62  62  62  62  62  62  62  62  62  61  61\n",
      "  61  61  61  61  60  60  60  60  60  59  59  59  59  59  59  59  59  59\n",
      "  59  59  59  59  59  59  58  58  58  58  58  58  58  58  58  58  58  58\n",
      "  58  58  58  57  57  57  57  57  57  57  57  56  56  56  56  56  56  56\n",
      "  56  56  55  55  55  55  55  55  55  55  55  55  55  54  54  54  54  54\n",
      "  54  54  54  54  54  54  54  54  53  53  53  53  53  53  53  53  53  53\n",
      "  53  52  52  52  52  52  52  52  52  52  52  52  52  52  51  51  51  51\n",
      "  51  51  51  51  51  51  51  51  51  51  50  50  50  50  50  50  50  50\n",
      "  50  50  50  50  49  49  49  49  49  48  48  48  48  48  48  48  48  48\n",
      "  48  47  47  47  47  47  47  47  47  47  47  46  46  46  46  46  46  46\n",
      "  46  46  45  45  45  45  45  45  45  45  45  45  45  45  45  44  44  44\n",
      "  44  44  44  44  44  44  44  44  44  44  43  43  43  43  43  43  43  43\n",
      "  43  43  43  42  42  42  42  42  42  42  42  42  42  42  42  42  42  42\n",
      "  42  41  41  41  41  41  41  41  41  41  41  40  40  40  40  40  40  40\n",
      "  40  40  40  40  40  40  40  39  39  39  39  39  39  39  39  39  39  39\n",
      "  39  38  38  38  38  38  38  38  38  37  37  37  37  37  37  37  37  37\n",
      "  37  37  36  36  36  36  36  36  36  35  35  35  35  35  35  35  35  35\n",
      "  34  34  34  34  34  34  34  33  33  33  33  33  33  33  33  33  33  33\n",
      "  33  33  33  33  33  32  32  32  32  32  32  32  32  32  32  32  32  32\n",
      "  32  31  31  31  31  31  31  31  30  30  30  30  30  30  30  30  29  29\n",
      "  29  29  29  29  29  29  28  28  28  28  28  28  27  27  27  27  27  27\n",
      "  27  27  27  26  26  26  26  26  26  26  26  26  26  26  26  26  26  26\n",
      "  25  25  25  25  25  25  24  24  24  24  24  24  24  24  24  24  24  24\n",
      "  24  23  23  23  23  23  23  23  23  23  23  22  22  22  22  22  22  22\n",
      "  22  22  22  22  22  22  22  22  22  22  21  21  21  21  21  21  20  20\n",
      "  20  20  20  20  20  20  19  19  19  19  19  19  19  18  18  18  18  18\n",
      "  18  18  18  18  18  18  18  17  17  17  17  17  17  17  17  17  17  16\n",
      "  16  16  16  16  16  16  16  16  16  16  16  16  15  15  15  15  15  15\n",
      "  15  15  15  14  14  14  14  14  14  14  14  14  13  13  13  13  13  13\n",
      "  13  13  13  13  13  12  12  12  12  12  12  12  12  12  11  11  11  11\n",
      "  11  11  11  10  10  10  10  10  10  10  10  10   9   9   9   9   9   9\n",
      "   8   8   8   8   8   8   8   8   8   8   8   8   8   8   7   7   7   7\n",
      "   7   7   6   6   6   6   6   6   6   6   6   6   5   5   5   5   5   5\n",
      "   5   5   5   5   5   5   5   4   4   4   4   4   4   4   3   3   3   3\n",
      "   3   3   3   3   3   3   3   3   3   3   3   3   2   2   2   2   2   2\n",
      "   1   1   1   1   1   1   1   1   1   1]\n",
      "[100 100 100 100 100 100 100 100 100 100 100 100 100  99  99  99  99  99\n",
      "  99  98  98  98  98  98  98  98  98  98  97  97  97  97  97  97  97  97\n",
      "  97  97  97  96  96  96  96  96  96  96  96  96  96  96  95  95  95  95\n",
      "  95  95  95  95  95  95  94  94  94  94  94  94  94  93  93  93  93  93\n",
      "  93  92  92  92  92  92  92  92  92  91  91  91  91  91  91  91  91  91\n",
      "  91  91  91  90  90  90  90  90  90  89  89  89  89  89  89  89  89  89\n",
      "  89  89  88  88  88  88  88  88  88  88  88  88  87  87  87  87  87  87\n",
      "  87  87  87  87  86  86  86  86  86  86  86  86  86  85  85  85  85  85\n",
      "  85  85  85  85  85  85  85  84  84  84  84  84  84  84  83  83  83  83\n",
      "  83  83  83  83  83  83  83  83  83  82  82  82  82  82  82  82  82  81\n",
      "  81  81  81  81  81  81  81  81  81  81  81  80  80  80  80  80  80  79\n",
      "  79  79  79  79  78  78  78  78  78  78  78  78  78  78  78  78  77  77\n",
      "  77  77  77  77  77  77  77  77  76  76  76  76  76  76  76  76  76  75\n",
      "  75  75  75  75  75  75  75  75  75  74  74  74  74  74  74  74  73  73\n",
      "  73  73  73  73  73  73  73  73  73  73  72  72  72  72  72  72  72  72\n",
      "  72  72  72  71  71  71  71  71  71  71  70  70  70  70  70  70  69  69\n",
      "  69  69  69  69  69  69  69  69  69  69  69  69  68  68  68  68  68  68\n",
      "  68  68  68  68  67  67  67  67  67  67  67  67  67  66  66  66  66  66\n",
      "  66  66  66  66  66  66  65  65  65  65  65  65  65  65  65  65  65  64\n",
      "  64  64  64  64  64  64  64  64  64  64  64  63  63  63  63  63  63  63\n",
      "  63  63  63  62  62  62  62  62  62  62  62  62  62  62  62  62  61  61\n",
      "  61  61  61  61  60  60  60  60  60  59  59  59  59  59  59  59  59  59\n",
      "  59  59  59  59  59  59  58  58  58  58  58  58  58  58  58  58  58  58\n",
      "  58  58  58  57  57  57  57  57  57  57  57  56  56  56  56  56  56  56\n",
      "  56  56  55  55  55  55  55  55  55  55  55  55  55  54  54  54  54  54\n",
      "  54  54  54  54  54  54  54  54  53  53  53  53  53  53  53  53  53  53\n",
      "  53  52  52  52  52  52  52  52  52  52  52  52  52  52  51  51  51  51\n",
      "  51  51  51  51  51  51  51  51  51  51  50  50  50  50  50  50  50  50\n",
      "  50  50  50  50  49  49  49  49  49  48  48  48  48  48  48  48  48  48\n",
      "  48  47  47  47  47  47  47  47  47  47  47  46  46  46  46  46  46  46\n",
      "  46  46  45  45  45  45  45  45  45  45  45  45  45  45  45  44  44  44\n",
      "  44  44  44  44  44  44  44  44  44  44  43  43  43  43  43  43  43  43\n",
      "  43  43  43  42  42  42  42  42  42  42  42  42  42  42  42  42  42  42\n",
      "  42  41  41  41  41  41  41  41  41  41  41  40  40  40  40  40  40  40\n",
      "  40  40  40  40  40  40  40  39  39  39  39  39  39  39  39  39  39  39\n",
      "  39  38  38  38  38  38  38  38  38  37  37  37  37  37  37  37  37  37\n",
      "  37  37  36  36  36  36  36  36  36  35  35  35  35  35  35  35  35  35\n",
      "  34  34  34  34  34  34  34  33  33  33  33  33  33  33  33  33  33  33\n",
      "  33  33  33  33  33  32  32  32  32  32  32  32  32  32  32  32  32  32\n",
      "  32  31  31  31  31  31  31  31  30  30  30  30  30  30  30  30  29  29\n",
      "  29  29  29  29  29  29  28  28  28  28  28  28  27  27  27  27  27  27\n",
      "  27  27  27  26  26  26  26  26  26  26  26  26  26  26  26  26  26  26\n",
      "  25  25  25  25  25  25  24  24  24  24  24  24  24  24  24  24  24  24\n",
      "  24  23  23  23  23  23  23  23  23  23  23  22  22  22  22  22  22  22\n",
      "  22  22  22  22  22  22  22  22  22  22  21  21  21  21  21  21  20  20\n",
      "  20  20  20  20  20  20  19  19  19  19  19  19  19  18  18  18  18  18\n",
      "  18  18  18  18  18  18  18  17  17  17  17  17  17  17  17  17  17  16\n",
      "  16  16  16  16  16  16  16  16  16  16  16  16  15  15  15  15  15  15\n",
      "  15  15  15  14  14  14  14  14  14  14  14  14  13  13  13  13  13  13\n",
      "  13  13  13  13  13  12  12  12  12  12  12  12  12  12  11  11  11  11\n",
      "  11  11  11  10  10  10  10  10  10  10  10  10   9   9   9   9   9   9\n",
      "   8   8   8   8   8   8   8   8   8   8   8   8   8   8   7   7   7   7\n",
      "   7   7   6   6   6   6   6   6   6   6   6   6   5   5   5   5   5   5\n",
      "   5   5   5   5   5   5   5   4   4   4   4   4   4   4   3   3   3   3\n",
      "   3   3   3   3   3   3   3   3   3   3   3   3   2   2   2   2   2   2\n",
      "   1   1   1   1   1   1   1   1   1   1]\n",
      "Ilosc unikalnych liczb: 100\n"
     ]
    }
   ],
   "source": [
    "t1000 = np.random.randint(1,101, 1000)\n",
    "#rosnacy\n",
    "print(np.sort(t1000))\n",
    "#malejacy\n",
    "print(-np.sort(-t1000))\n",
    "print(np.sort(t1000)[::-1])\n",
    "uniques = np.unique(t1000)\n",
    "print(f\"Ilosc unikalnych liczb: {len(uniques)}\")"
   ]
  },
  {
   "cell_type": "code",
   "execution_count": 33,
   "metadata": {},
   "outputs": [
    {
     "name": "stdout",
     "output_type": "stream",
     "text": [
      "Unikalne wartości: [  1   2   3   4   5   6   7   8   9  10  11  12  13  14  15  16  17  18\n",
      "  19  20  21  22  23  24  25  26  27  28  29  30  31  32  33  34  35  36\n",
      "  37  38  39  40  41  42  43  44  45  46  47  48  49  50  51  52  53  54\n",
      "  55  56  57  58  59  60  61  62  63  64  65  66  67  68  69  70  71  72\n",
      "  73  74  75  76  77  78  79  80  81  82  83  84  85  86  87  88  89  90\n",
      "  91  92  93  94  95  96  97  98  99 100]\n",
      "Ich liczność: [10  6 16  7 13 10  6 14  6  9  7  9 11  9  9 13 10 12  7  8  6 17 10 13\n",
      "  6 15  9  6  8  8  7 14 16  7  9  7 11  8 12 14 10 16 11 13 13  9 10 10\n",
      "  5 12 14 13 11 13 11  9  8 15 15  5  6 13 10 12 11 11  9 10 14  6  7 11\n",
      " 12  7 10  9 10 12  5  6 12  8 13  7 12  9 10 10 11  6 12  8  6  7 10 11\n",
      " 11  9  6 13]\n"
     ]
    }
   ],
   "source": [
    "values, counts = np.unique(t1000, return_counts=True)\n",
    "print(f\"Unikalne wartości: {values}\")\n",
    "print(f\"Ich liczność: {counts}\")"
   ]
  },
  {
   "cell_type": "code",
   "execution_count": 34,
   "metadata": {},
   "outputs": [
    {
     "name": "stdout",
     "output_type": "stream",
     "text": [
      "Najczęstsze wartości: [ 22   3  42  33  58  26  59  40  51  69  32   8  45  24   5  83  44 100\n",
      "  54  16  62  52  81  73  78  85  91  39  64  50  18  55  13  66  43  72\n",
      "  53  65  37  89  96  97   6  77  88  68  95  63  17  87  75   1  48  41\n",
      "  23  47  76  67  27  10  12  46  35  15  86  56  98  14  38  20  30  29\n",
      "  57  92  82  36  94  34   4  84  31  19  74  71  11  80  28  61  21  93\n",
      "   2  90  70  25   9   7  99  79  60  49]\n",
      "Liczność: [17 16 16 16 15 15 15 14 14 14 14 14 13 13 13 13 13 13 13 13 13 13 12 12\n",
      " 12 12 12 12 12 12 12 11 11 11 11 11 11 11 11 11 11 11 10 10 10 10 10 10\n",
      " 10 10 10 10 10 10 10 10  9  9  9  9  9  9  9  9  9  9  9  9  8  8  8  8\n",
      "  8  8  8  7  7  7  7  7  7  7  7  7  7  6  6  6  6  6  6  6  6  6  6  6\n",
      "  6  5  5  5]\n"
     ]
    }
   ],
   "source": [
    "sorted_indices = np.argsort(-counts)  # Sortowanie malejące\n",
    "print(f\"Najczęstsze wartości: {values[sorted_indices]}\")\n",
    "print(f\"Liczność: {counts[sorted_indices]}\")"
   ]
  },
  {
   "cell_type": "code",
   "execution_count": 35,
   "metadata": {},
   "outputs": [
    {
     "data": {
      "image/png": "[encoded data removed]",
      "text/plain": [
       "<Figure size 640x480 with 1 Axes>"
      ]
     },
     "metadata": {},
     "output_type": "display_data"
    }
   ],
   "source": [
    "import matplotlib.pyplot as plt\n",
    "\n",
    "plt.bar(values, counts)\n",
    "plt.xlabel('Wartości')\n",
    "plt.ylabel('Liczność')\n",
    "plt.title('Rozkład wartości w tablicy')\n",
    "plt.show()"
   ]
  },
  {
   "cell_type": "code",
   "execution_count": null,
   "metadata": {},
   "outputs": [],
   "source": []
  }
 ],
 "metadata": {
  "kernelspec": {
   "display_name": "Python 3",
   "language": "python",
   "name": "python3"
  },
  "language_info": {
   "codemirror_mode": {
    "name": "ipython",
    "version": 3
   },
   "file_extension": ".py",
   "mimetype": "text/x-python",
   "name": "python",
   "nbconvert_exporter": "python",
   "pygments_lexer": "ipython3",
   "version": "3.11.3"
  }
 },
 "nbformat": 4,
 "nbformat_minor": 2
}
