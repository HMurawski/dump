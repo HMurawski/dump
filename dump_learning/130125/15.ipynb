{
 "cells": [
  {
   "cell_type": "code",
   "execution_count": 1,
   "metadata": {},
   "outputs": [],
   "source": [
    "import numpy as np\n",
    "import pandas as pd\n"
   ]
  },
  {
   "cell_type": "code",
   "execution_count": 2,
   "metadata": {},
   "outputs": [],
   "source": [
    "np.random.seed(42)\n",
    "data_with_missing = {\n",
    "    \"Main Port Name\": np.random.choice(\n",
    "        [\"Port A\", \"Port B\", \"Port C\", \"Port D\", None], 50\n",
    "    ),\n",
    "    \"Country Code\": np.random.choice(\n",
    "        [\"United States\", \"United Kingdom\", \"France\", \"Germany\", None], 50\n",
    "    ),\n",
    "    \"Channel Depth (m)\": np.random.choice([5, 15, 25, None], 50),\n",
    "    \"Harbor Size\": np.random.choice([\"Small\", \"Medium\", \"Large\", None], 50),\n",
    "    \"Anchorage Depth (m)\": np.random.choice([10, 20, None], 50),\n",
    "    \"Date\": pd.date_range(start=\"2020-01-01\", periods=50, freq=\"D\"),\n",
    "}\n",
    "\n",
    "df_with_missing = pd.DataFrame(data_with_missing)"
   ]
  },
  {
   "cell_type": "code",
   "execution_count": 3,
   "metadata": {},
   "outputs": [
    {
     "data": {
      "text/html": [
       "<div>\n",
       "<style scoped>\n",
       "    .dataframe tbody tr th:only-of-type {\n",
       "        vertical-align: middle;\n",
       "    }\n",
       "\n",
       "    .dataframe tbody tr th {\n",
       "        vertical-align: top;\n",
       "    }\n",
       "\n",
       "    .dataframe thead th {\n",
       "        text-align: right;\n",
       "    }\n",
       "</style>\n",
       "<table border=\"1\" class=\"dataframe\">\n",
       "  <thead>\n",
       "    <tr style=\"text-align: right;\">\n",
       "      <th></th>\n",
       "      <th>Main Port Name</th>\n",
       "      <th>Country Code</th>\n",
       "      <th>Channel Depth (m)</th>\n",
       "      <th>Harbor Size</th>\n",
       "      <th>Anchorage Depth (m)</th>\n",
       "      <th>Date</th>\n",
       "    </tr>\n",
       "  </thead>\n",
       "  <tbody>\n",
       "    <tr>\n",
       "      <th>0</th>\n",
       "      <td>Port D</td>\n",
       "      <td>Germany</td>\n",
       "      <td>None</td>\n",
       "      <td>Small</td>\n",
       "      <td>None</td>\n",
       "      <td>2020-01-01</td>\n",
       "    </tr>\n",
       "    <tr>\n",
       "      <th>1</th>\n",
       "      <td>None</td>\n",
       "      <td>Germany</td>\n",
       "      <td>25</td>\n",
       "      <td>Large</td>\n",
       "      <td>10</td>\n",
       "      <td>2020-01-02</td>\n",
       "    </tr>\n",
       "  </tbody>\n",
       "</table>\n",
       "</div>"
      ],
      "text/plain": [
       "  Main Port Name Country Code Channel Depth (m) Harbor Size  \\\n",
       "0         Port D      Germany              None       Small   \n",
       "1           None      Germany                25       Large   \n",
       "\n",
       "  Anchorage Depth (m)       Date  \n",
       "0                None 2020-01-01  \n",
       "1                  10 2020-01-02  "
      ]
     },
     "execution_count": 3,
     "metadata": {},
     "output_type": "execute_result"
    }
   ],
   "source": [
    "df_with_missing.head(2)"
   ]
  },
  {
   "cell_type": "code",
   "execution_count": 8,
   "metadata": {},
   "outputs": [
    {
     "data": {
      "text/plain": [
       "Main Port Name         20.0\n",
       "Country Code           18.0\n",
       "Channel Depth (m)      24.0\n",
       "Harbor Size            24.0\n",
       "Anchorage Depth (m)    30.0\n",
       "Date                    0.0\n",
       "dtype: float64"
      ]
     },
     "execution_count": 8,
     "metadata": {},
     "output_type": "execute_result"
    }
   ],
   "source": [
    "# Policz liczbę brakujących wartości w każdej kolumnie.\n",
    "# Znajdź procent brakujących danych w każdej kolumnie.\n",
    "missing_values = df_with_missing.isna().sum()\n",
    "#missing_values\n",
    "all_values = len(df_with_missing)\n",
    "pct_missing = (missing_values / all_values) * 100.0\n",
    "pct_missing"
   ]
  },
  {
   "cell_type": "code",
   "execution_count": 20,
   "metadata": {},
   "outputs": [
    {
     "data": {
      "text/html": [
       "<div>\n",
       "<style scoped>\n",
       "    .dataframe tbody tr th:only-of-type {\n",
       "        vertical-align: middle;\n",
       "    }\n",
       "\n",
       "    .dataframe tbody tr th {\n",
       "        vertical-align: top;\n",
       "    }\n",
       "\n",
       "    .dataframe thead th {\n",
       "        text-align: right;\n",
       "    }\n",
       "</style>\n",
       "<table border=\"1\" class=\"dataframe\">\n",
       "  <thead>\n",
       "    <tr style=\"text-align: right;\">\n",
       "      <th></th>\n",
       "      <th>Main Port Name</th>\n",
       "      <th>Country Code</th>\n",
       "      <th>Channel Depth (m)</th>\n",
       "      <th>Harbor Size</th>\n",
       "      <th>Date</th>\n",
       "    </tr>\n",
       "  </thead>\n",
       "  <tbody>\n",
       "    <tr>\n",
       "      <th>1</th>\n",
       "      <td>None</td>\n",
       "      <td>Germany</td>\n",
       "      <td>25</td>\n",
       "      <td>Large</td>\n",
       "      <td>2020-01-02</td>\n",
       "    </tr>\n",
       "    <tr>\n",
       "      <th>2</th>\n",
       "      <td>Port C</td>\n",
       "      <td>Germany</td>\n",
       "      <td>5</td>\n",
       "      <td>Large</td>\n",
       "      <td>2020-01-03</td>\n",
       "    </tr>\n",
       "    <tr>\n",
       "      <th>5</th>\n",
       "      <td>Port B</td>\n",
       "      <td>United States</td>\n",
       "      <td>15</td>\n",
       "      <td>Large</td>\n",
       "      <td>2020-01-06</td>\n",
       "    </tr>\n",
       "  </tbody>\n",
       "</table>\n",
       "</div>"
      ],
      "text/plain": [
       "  Main Port Name   Country Code Channel Depth (m) Harbor Size       Date\n",
       "1           None        Germany                25       Large 2020-01-02\n",
       "2         Port C        Germany                 5       Large 2020-01-03\n",
       "5         Port B  United States                15       Large 2020-01-06"
      ]
     },
     "execution_count": 20,
     "metadata": {},
     "output_type": "execute_result"
    }
   ],
   "source": [
    "# Usuń wiersze, które mają brakujące wartości w kolumnie Channel Depth (m).\n",
    "# Usuń kolumny, które mają więcej niż 30% brakujących danych.\n",
    "df_with_missing = df_with_missing.dropna(subset=[\"Channel Depth (m)\"])\n",
    "df_with_missing.head(3)\n",
    "\n",
    "#saving dataset without chosen columns\n",
    "keep_columns = pct_missing[pct_missing < 30].index\n",
    "df_cleaned = df_with_missing[keep_columns]\n",
    "df_cleaned.head(3)"
   ]
  },
  {
   "cell_type": "code",
   "execution_count": 19,
   "metadata": {},
   "outputs": [
    {
     "data": {
      "text/html": [
       "<div>\n",
       "<style scoped>\n",
       "    .dataframe tbody tr th:only-of-type {\n",
       "        vertical-align: middle;\n",
       "    }\n",
       "\n",
       "    .dataframe tbody tr th {\n",
       "        vertical-align: top;\n",
       "    }\n",
       "\n",
       "    .dataframe thead th {\n",
       "        text-align: right;\n",
       "    }\n",
       "</style>\n",
       "<table border=\"1\" class=\"dataframe\">\n",
       "  <thead>\n",
       "    <tr style=\"text-align: right;\">\n",
       "      <th></th>\n",
       "      <th>Main Port Name</th>\n",
       "      <th>Country Code</th>\n",
       "      <th>Channel Depth (m)</th>\n",
       "      <th>Harbor Size</th>\n",
       "      <th>Date</th>\n",
       "    </tr>\n",
       "  </thead>\n",
       "  <tbody>\n",
       "    <tr>\n",
       "      <th>1</th>\n",
       "      <td>None</td>\n",
       "      <td>Germany</td>\n",
       "      <td>25</td>\n",
       "      <td>Large</td>\n",
       "      <td>2020-01-02</td>\n",
       "    </tr>\n",
       "    <tr>\n",
       "      <th>2</th>\n",
       "      <td>Port C</td>\n",
       "      <td>Germany</td>\n",
       "      <td>5</td>\n",
       "      <td>Large</td>\n",
       "      <td>2020-01-03</td>\n",
       "    </tr>\n",
       "    <tr>\n",
       "      <th>5</th>\n",
       "      <td>Port B</td>\n",
       "      <td>United States</td>\n",
       "      <td>15</td>\n",
       "      <td>Large</td>\n",
       "      <td>2020-01-06</td>\n",
       "    </tr>\n",
       "  </tbody>\n",
       "</table>\n",
       "</div>"
      ],
      "text/plain": [
       "  Main Port Name   Country Code Channel Depth (m) Harbor Size       Date\n",
       "1           None        Germany                25       Large 2020-01-02\n",
       "2         Port C        Germany                 5       Large 2020-01-03\n",
       "5         Port B  United States                15       Large 2020-01-06"
      ]
     },
     "execution_count": 19,
     "metadata": {},
     "output_type": "execute_result"
    }
   ],
   "source": [
    "#dropping columns if condition met\n",
    "to_drop = pct_missing[pct_missing >= 30].index\n",
    "df_after_dropping = df_with_missing.drop(columns=to_drop)\n",
    "df_after_dropping.head(3)"
   ]
  },
  {
   "cell_type": "code",
   "execution_count": 22,
   "metadata": {},
   "outputs": [
    {
     "name": "stderr",
     "output_type": "stream",
     "text": [
      "C:\\Users\\USER\\AppData\\Local\\Temp\\ipykernel_19044\\6460757.py:8: FutureWarning: Downcasting object dtype arrays on .fillna, .ffill, .bfill is deprecated and will change in a future version. Call result.infer_objects(copy=False) instead. To opt-in to the future behavior, set `pd.set_option('future.no_silent_downcasting', True)`\n",
      "  df_with_missing[\"Channel Depth (m)\"].fillna(avg_ch)\n"
     ]
    },
    {
     "data": {
      "text/html": [
       "<div>\n",
       "<style scoped>\n",
       "    .dataframe tbody tr th:only-of-type {\n",
       "        vertical-align: middle;\n",
       "    }\n",
       "\n",
       "    .dataframe tbody tr th {\n",
       "        vertical-align: top;\n",
       "    }\n",
       "\n",
       "    .dataframe thead th {\n",
       "        text-align: right;\n",
       "    }\n",
       "</style>\n",
       "<table border=\"1\" class=\"dataframe\">\n",
       "  <thead>\n",
       "    <tr style=\"text-align: right;\">\n",
       "      <th></th>\n",
       "      <th>Main Port Name</th>\n",
       "      <th>Country Code</th>\n",
       "      <th>Channel Depth (m)</th>\n",
       "      <th>Harbor Size</th>\n",
       "      <th>Anchorage Depth (m)</th>\n",
       "      <th>Date</th>\n",
       "    </tr>\n",
       "  </thead>\n",
       "  <tbody>\n",
       "    <tr>\n",
       "      <th>1</th>\n",
       "      <td>None</td>\n",
       "      <td>Germany</td>\n",
       "      <td>25</td>\n",
       "      <td>Large</td>\n",
       "      <td>10</td>\n",
       "      <td>2020-01-02</td>\n",
       "    </tr>\n",
       "  </tbody>\n",
       "</table>\n",
       "</div>"
      ],
      "text/plain": [
       "  Main Port Name Country Code Channel Depth (m) Harbor Size  \\\n",
       "1           None      Germany                25       Large   \n",
       "\n",
       "  Anchorage Depth (m)       Date  \n",
       "1                  10 2020-01-02  "
      ]
     },
     "execution_count": 22,
     "metadata": {},
     "output_type": "execute_result"
    }
   ],
   "source": [
    "# Uzupełnij braki w kolumnie Channel Depth (m) średnią wartością tej kolumny.\n",
    "\n",
    "\n",
    "\n",
    "avg_ch = df_with_missing[\"Channel Depth (m)\"].mean()\n",
    "df_with_missing[\"Channel Depth (m)\"].fillna(avg_ch)\n",
    "df_with_missing.head(1)\n"
   ]
  },
  {
   "cell_type": "code",
   "execution_count": 32,
   "metadata": {},
   "outputs": [],
   "source": [
    "# W kolumnie Harbor Size:\n",
    "# Uzupełnij braki wartością \"Unknown\".\n",
    "df_with_missing[\"Harbor Size\"] =  df_with_missing[\"Harbor Size\"].fillna(\"Unknown\")\n"
   ]
  },
  {
   "cell_type": "code",
   "execution_count": 36,
   "metadata": {},
   "outputs": [
    {
     "name": "stderr",
     "output_type": "stream",
     "text": [
      "c:\\Users\\USER\\AppData\\Local\\Programs\\Python\\Python311\\Lib\\site-packages\\numpy\\lib\\nanfunctions.py:1215: RuntimeWarning: Mean of empty slice\n",
      "  return np.nanmean(a, axis, out=out, keepdims=keepdims)\n"
     ]
    }
   ],
   "source": [
    "# W kolumnie Anchorage Depth (m) (jeśli istnieje):\n",
    "# Uzupełnij brakujące wartości medianą dla każdego kraju (Country Code).\n",
    "median_anch = df_with_missing.groupby(\"Country Code\")[\"Anchorage Depth (m)\"].median()\n",
    "global_median = df_with_missing[\"Anchorage Depth (m)\"].median()\n",
    "\n",
    "df_with_missing[\"Anchorage Depth (m)\"] = df_with_missing.apply(\n",
    "    lambda row: median_anch[row[\"Country Code\"]]\n",
    "    if pd.notnull(row[\"Country Code\"]) and pd.notnull(median_anch[row[\"Country Code\"]])\n",
    "    else (global_median if pd.isnull(row[\"Anchorage Depth (m)\"]) else row[\"Anchorage Depth (m)\"]), axis=1\n",
    ")"
   ]
  },
  {
   "cell_type": "code",
   "execution_count": 37,
   "metadata": {},
   "outputs": [
    {
     "data": {
      "text/html": [
       "<div>\n",
       "<style scoped>\n",
       "    .dataframe tbody tr th:only-of-type {\n",
       "        vertical-align: middle;\n",
       "    }\n",
       "\n",
       "    .dataframe tbody tr th {\n",
       "        vertical-align: top;\n",
       "    }\n",
       "\n",
       "    .dataframe thead th {\n",
       "        text-align: right;\n",
       "    }\n",
       "</style>\n",
       "<table border=\"1\" class=\"dataframe\">\n",
       "  <thead>\n",
       "    <tr style=\"text-align: right;\">\n",
       "      <th></th>\n",
       "      <th>Main Port Name</th>\n",
       "      <th>Country Code</th>\n",
       "      <th>Channel Depth (m)</th>\n",
       "      <th>Harbor Size</th>\n",
       "      <th>Anchorage Depth (m)</th>\n",
       "      <th>Date</th>\n",
       "    </tr>\n",
       "  </thead>\n",
       "  <tbody>\n",
       "    <tr>\n",
       "      <th>1</th>\n",
       "      <td>None</td>\n",
       "      <td>Germany</td>\n",
       "      <td>25</td>\n",
       "      <td>Large</td>\n",
       "      <td>15.0</td>\n",
       "      <td>2020-01-02</td>\n",
       "    </tr>\n",
       "    <tr>\n",
       "      <th>2</th>\n",
       "      <td>Port C</td>\n",
       "      <td>Germany</td>\n",
       "      <td>5</td>\n",
       "      <td>Large</td>\n",
       "      <td>15.0</td>\n",
       "      <td>2020-01-03</td>\n",
       "    </tr>\n",
       "    <tr>\n",
       "      <th>5</th>\n",
       "      <td>Port B</td>\n",
       "      <td>United States</td>\n",
       "      <td>15</td>\n",
       "      <td>Large</td>\n",
       "      <td>20.0</td>\n",
       "      <td>2020-01-06</td>\n",
       "    </tr>\n",
       "    <tr>\n",
       "      <th>6</th>\n",
       "      <td>Port C</td>\n",
       "      <td>Germany</td>\n",
       "      <td>5</td>\n",
       "      <td>Small</td>\n",
       "      <td>15.0</td>\n",
       "      <td>2020-01-07</td>\n",
       "    </tr>\n",
       "    <tr>\n",
       "      <th>8</th>\n",
       "      <td>Port C</td>\n",
       "      <td>Germany</td>\n",
       "      <td>25</td>\n",
       "      <td>Small</td>\n",
       "      <td>15.0</td>\n",
       "      <td>2020-01-09</td>\n",
       "    </tr>\n",
       "    <tr>\n",
       "      <th>9</th>\n",
       "      <td>None</td>\n",
       "      <td>United Kingdom</td>\n",
       "      <td>25</td>\n",
       "      <td>Unknown</td>\n",
       "      <td>20.0</td>\n",
       "      <td>2020-01-10</td>\n",
       "    </tr>\n",
       "    <tr>\n",
       "      <th>10</th>\n",
       "      <td>Port D</td>\n",
       "      <td>United Kingdom</td>\n",
       "      <td>15</td>\n",
       "      <td>Large</td>\n",
       "      <td>20.0</td>\n",
       "      <td>2020-01-11</td>\n",
       "    </tr>\n",
       "    <tr>\n",
       "      <th>12</th>\n",
       "      <td>None</td>\n",
       "      <td>None</td>\n",
       "      <td>5</td>\n",
       "      <td>Large</td>\n",
       "      <td>20.0</td>\n",
       "      <td>2020-01-13</td>\n",
       "    </tr>\n",
       "    <tr>\n",
       "      <th>13</th>\n",
       "      <td>Port B</td>\n",
       "      <td>United Kingdom</td>\n",
       "      <td>25</td>\n",
       "      <td>Medium</td>\n",
       "      <td>20.0</td>\n",
       "      <td>2020-01-14</td>\n",
       "    </tr>\n",
       "    <tr>\n",
       "      <th>16</th>\n",
       "      <td>Port D</td>\n",
       "      <td>United Kingdom</td>\n",
       "      <td>15</td>\n",
       "      <td>Medium</td>\n",
       "      <td>20.0</td>\n",
       "      <td>2020-01-17</td>\n",
       "    </tr>\n",
       "    <tr>\n",
       "      <th>17</th>\n",
       "      <td>None</td>\n",
       "      <td>United Kingdom</td>\n",
       "      <td>25</td>\n",
       "      <td>Small</td>\n",
       "      <td>20.0</td>\n",
       "      <td>2020-01-18</td>\n",
       "    </tr>\n",
       "    <tr>\n",
       "      <th>18</th>\n",
       "      <td>Port A</td>\n",
       "      <td>Germany</td>\n",
       "      <td>25</td>\n",
       "      <td>Medium</td>\n",
       "      <td>15.0</td>\n",
       "      <td>2020-01-19</td>\n",
       "    </tr>\n",
       "    <tr>\n",
       "      <th>19</th>\n",
       "      <td>Port D</td>\n",
       "      <td>Germany</td>\n",
       "      <td>5</td>\n",
       "      <td>Small</td>\n",
       "      <td>15.0</td>\n",
       "      <td>2020-01-20</td>\n",
       "    </tr>\n",
       "    <tr>\n",
       "      <th>20</th>\n",
       "      <td>Port B</td>\n",
       "      <td>United States</td>\n",
       "      <td>25</td>\n",
       "      <td>Small</td>\n",
       "      <td>20.0</td>\n",
       "      <td>2020-01-21</td>\n",
       "    </tr>\n",
       "    <tr>\n",
       "      <th>21</th>\n",
       "      <td>None</td>\n",
       "      <td>None</td>\n",
       "      <td>5</td>\n",
       "      <td>Medium</td>\n",
       "      <td>10.0</td>\n",
       "      <td>2020-01-22</td>\n",
       "    </tr>\n",
       "    <tr>\n",
       "      <th>22</th>\n",
       "      <td>Port D</td>\n",
       "      <td>None</td>\n",
       "      <td>25</td>\n",
       "      <td>Unknown</td>\n",
       "      <td>10.0</td>\n",
       "      <td>2020-01-23</td>\n",
       "    </tr>\n",
       "    <tr>\n",
       "      <th>23</th>\n",
       "      <td>Port A</td>\n",
       "      <td>United Kingdom</td>\n",
       "      <td>15</td>\n",
       "      <td>Unknown</td>\n",
       "      <td>20.0</td>\n",
       "      <td>2020-01-24</td>\n",
       "    </tr>\n",
       "    <tr>\n",
       "      <th>24</th>\n",
       "      <td>Port A</td>\n",
       "      <td>None</td>\n",
       "      <td>25</td>\n",
       "      <td>Unknown</td>\n",
       "      <td>10.0</td>\n",
       "      <td>2020-01-25</td>\n",
       "    </tr>\n",
       "    <tr>\n",
       "      <th>25</th>\n",
       "      <td>Port C</td>\n",
       "      <td>United Kingdom</td>\n",
       "      <td>5</td>\n",
       "      <td>Unknown</td>\n",
       "      <td>20.0</td>\n",
       "      <td>2020-01-26</td>\n",
       "    </tr>\n",
       "    <tr>\n",
       "      <th>26</th>\n",
       "      <td>Port C</td>\n",
       "      <td>United States</td>\n",
       "      <td>5</td>\n",
       "      <td>Unknown</td>\n",
       "      <td>20.0</td>\n",
       "      <td>2020-01-27</td>\n",
       "    </tr>\n",
       "    <tr>\n",
       "      <th>27</th>\n",
       "      <td>Port B</td>\n",
       "      <td>Germany</td>\n",
       "      <td>15</td>\n",
       "      <td>Medium</td>\n",
       "      <td>15.0</td>\n",
       "      <td>2020-01-28</td>\n",
       "    </tr>\n",
       "    <tr>\n",
       "      <th>28</th>\n",
       "      <td>Port D</td>\n",
       "      <td>Germany</td>\n",
       "      <td>25</td>\n",
       "      <td>Medium</td>\n",
       "      <td>15.0</td>\n",
       "      <td>2020-01-29</td>\n",
       "    </tr>\n",
       "    <tr>\n",
       "      <th>29</th>\n",
       "      <td>Port D</td>\n",
       "      <td>Germany</td>\n",
       "      <td>25</td>\n",
       "      <td>Large</td>\n",
       "      <td>15.0</td>\n",
       "      <td>2020-01-30</td>\n",
       "    </tr>\n",
       "    <tr>\n",
       "      <th>30</th>\n",
       "      <td>Port C</td>\n",
       "      <td>None</td>\n",
       "      <td>15</td>\n",
       "      <td>Unknown</td>\n",
       "      <td>10.0</td>\n",
       "      <td>2020-01-31</td>\n",
       "    </tr>\n",
       "    <tr>\n",
       "      <th>31</th>\n",
       "      <td>Port D</td>\n",
       "      <td>United States</td>\n",
       "      <td>25</td>\n",
       "      <td>Medium</td>\n",
       "      <td>20.0</td>\n",
       "      <td>2020-02-01</td>\n",
       "    </tr>\n",
       "    <tr>\n",
       "      <th>32</th>\n",
       "      <td>Port D</td>\n",
       "      <td>None</td>\n",
       "      <td>25</td>\n",
       "      <td>Large</td>\n",
       "      <td>20.0</td>\n",
       "      <td>2020-02-02</td>\n",
       "    </tr>\n",
       "    <tr>\n",
       "      <th>33</th>\n",
       "      <td>Port A</td>\n",
       "      <td>None</td>\n",
       "      <td>5</td>\n",
       "      <td>Unknown</td>\n",
       "      <td>20.0</td>\n",
       "      <td>2020-02-03</td>\n",
       "    </tr>\n",
       "    <tr>\n",
       "      <th>34</th>\n",
       "      <td>Port C</td>\n",
       "      <td>United States</td>\n",
       "      <td>25</td>\n",
       "      <td>Small</td>\n",
       "      <td>20.0</td>\n",
       "      <td>2020-02-04</td>\n",
       "    </tr>\n",
       "    <tr>\n",
       "      <th>35</th>\n",
       "      <td>None</td>\n",
       "      <td>United States</td>\n",
       "      <td>25</td>\n",
       "      <td>Large</td>\n",
       "      <td>20.0</td>\n",
       "      <td>2020-02-05</td>\n",
       "    </tr>\n",
       "    <tr>\n",
       "      <th>36</th>\n",
       "      <td>Port C</td>\n",
       "      <td>United States</td>\n",
       "      <td>15</td>\n",
       "      <td>Medium</td>\n",
       "      <td>20.0</td>\n",
       "      <td>2020-02-06</td>\n",
       "    </tr>\n",
       "    <tr>\n",
       "      <th>37</th>\n",
       "      <td>None</td>\n",
       "      <td>United States</td>\n",
       "      <td>15</td>\n",
       "      <td>Small</td>\n",
       "      <td>20.0</td>\n",
       "      <td>2020-02-07</td>\n",
       "    </tr>\n",
       "    <tr>\n",
       "      <th>39</th>\n",
       "      <td>Port B</td>\n",
       "      <td>France</td>\n",
       "      <td>5</td>\n",
       "      <td>Small</td>\n",
       "      <td>20.0</td>\n",
       "      <td>2020-02-09</td>\n",
       "    </tr>\n",
       "    <tr>\n",
       "      <th>40</th>\n",
       "      <td>Port D</td>\n",
       "      <td>France</td>\n",
       "      <td>25</td>\n",
       "      <td>Large</td>\n",
       "      <td>20.0</td>\n",
       "      <td>2020-02-10</td>\n",
       "    </tr>\n",
       "    <tr>\n",
       "      <th>41</th>\n",
       "      <td>Port A</td>\n",
       "      <td>United States</td>\n",
       "      <td>25</td>\n",
       "      <td>Medium</td>\n",
       "      <td>20.0</td>\n",
       "      <td>2020-02-11</td>\n",
       "    </tr>\n",
       "    <tr>\n",
       "      <th>43</th>\n",
       "      <td>Port B</td>\n",
       "      <td>France</td>\n",
       "      <td>25</td>\n",
       "      <td>Unknown</td>\n",
       "      <td>20.0</td>\n",
       "      <td>2020-02-13</td>\n",
       "    </tr>\n",
       "    <tr>\n",
       "      <th>44</th>\n",
       "      <td>Port B</td>\n",
       "      <td>United States</td>\n",
       "      <td>5</td>\n",
       "      <td>Small</td>\n",
       "      <td>20.0</td>\n",
       "      <td>2020-02-14</td>\n",
       "    </tr>\n",
       "    <tr>\n",
       "      <th>46</th>\n",
       "      <td>Port B</td>\n",
       "      <td>None</td>\n",
       "      <td>5</td>\n",
       "      <td>Large</td>\n",
       "      <td>20.0</td>\n",
       "      <td>2020-02-16</td>\n",
       "    </tr>\n",
       "    <tr>\n",
       "      <th>49</th>\n",
       "      <td>Port D</td>\n",
       "      <td>United States</td>\n",
       "      <td>15</td>\n",
       "      <td>Unknown</td>\n",
       "      <td>20.0</td>\n",
       "      <td>2020-02-19</td>\n",
       "    </tr>\n",
       "  </tbody>\n",
       "</table>\n",
       "</div>"
      ],
      "text/plain": [
       "   Main Port Name    Country Code Channel Depth (m) Harbor Size  \\\n",
       "1            None         Germany                25       Large   \n",
       "2          Port C         Germany                 5       Large   \n",
       "5          Port B   United States                15       Large   \n",
       "6          Port C         Germany                 5       Small   \n",
       "8          Port C         Germany                25       Small   \n",
       "9            None  United Kingdom                25     Unknown   \n",
       "10         Port D  United Kingdom                15       Large   \n",
       "12           None            None                 5       Large   \n",
       "13         Port B  United Kingdom                25      Medium   \n",
       "16         Port D  United Kingdom                15      Medium   \n",
       "17           None  United Kingdom                25       Small   \n",
       "18         Port A         Germany                25      Medium   \n",
       "19         Port D         Germany                 5       Small   \n",
       "20         Port B   United States                25       Small   \n",
       "21           None            None                 5      Medium   \n",
       "22         Port D            None                25     Unknown   \n",
       "23         Port A  United Kingdom                15     Unknown   \n",
       "24         Port A            None                25     Unknown   \n",
       "25         Port C  United Kingdom                 5     Unknown   \n",
       "26         Port C   United States                 5     Unknown   \n",
       "27         Port B         Germany                15      Medium   \n",
       "28         Port D         Germany                25      Medium   \n",
       "29         Port D         Germany                25       Large   \n",
       "30         Port C            None                15     Unknown   \n",
       "31         Port D   United States                25      Medium   \n",
       "32         Port D            None                25       Large   \n",
       "33         Port A            None                 5     Unknown   \n",
       "34         Port C   United States                25       Small   \n",
       "35           None   United States                25       Large   \n",
       "36         Port C   United States                15      Medium   \n",
       "37           None   United States                15       Small   \n",
       "39         Port B          France                 5       Small   \n",
       "40         Port D          France                25       Large   \n",
       "41         Port A   United States                25      Medium   \n",
       "43         Port B          France                25     Unknown   \n",
       "44         Port B   United States                 5       Small   \n",
       "46         Port B            None                 5       Large   \n",
       "49         Port D   United States                15     Unknown   \n",
       "\n",
       "    Anchorage Depth (m)       Date  \n",
       "1                  15.0 2020-01-02  \n",
       "2                  15.0 2020-01-03  \n",
       "5                  20.0 2020-01-06  \n",
       "6                  15.0 2020-01-07  \n",
       "8                  15.0 2020-01-09  \n",
       "9                  20.0 2020-01-10  \n",
       "10                 20.0 2020-01-11  \n",
       "12                 20.0 2020-01-13  \n",
       "13                 20.0 2020-01-14  \n",
       "16                 20.0 2020-01-17  \n",
       "17                 20.0 2020-01-18  \n",
       "18                 15.0 2020-01-19  \n",
       "19                 15.0 2020-01-20  \n",
       "20                 20.0 2020-01-21  \n",
       "21                 10.0 2020-01-22  \n",
       "22                 10.0 2020-01-23  \n",
       "23                 20.0 2020-01-24  \n",
       "24                 10.0 2020-01-25  \n",
       "25                 20.0 2020-01-26  \n",
       "26                 20.0 2020-01-27  \n",
       "27                 15.0 2020-01-28  \n",
       "28                 15.0 2020-01-29  \n",
       "29                 15.0 2020-01-30  \n",
       "30                 10.0 2020-01-31  \n",
       "31                 20.0 2020-02-01  \n",
       "32                 20.0 2020-02-02  \n",
       "33                 20.0 2020-02-03  \n",
       "34                 20.0 2020-02-04  \n",
       "35                 20.0 2020-02-05  \n",
       "36                 20.0 2020-02-06  \n",
       "37                 20.0 2020-02-07  \n",
       "39                 20.0 2020-02-09  \n",
       "40                 20.0 2020-02-10  \n",
       "41                 20.0 2020-02-11  \n",
       "43                 20.0 2020-02-13  \n",
       "44                 20.0 2020-02-14  \n",
       "46                 20.0 2020-02-16  \n",
       "49                 20.0 2020-02-19  "
      ]
     },
     "execution_count": 37,
     "metadata": {},
     "output_type": "execute_result"
    }
   ],
   "source": [
    "df_with_missing"
   ]
  },
  {
   "cell_type": "code",
   "execution_count": 39,
   "metadata": {},
   "outputs": [
    {
     "data": {
      "text/plain": [
       "numpy.ndarray"
      ]
     },
     "execution_count": 39,
     "metadata": {},
     "output_type": "execute_result"
    }
   ],
   "source": [
    "#Utwórz tablicę numpy z listy [10, 20, 30, 40].\n",
    "l = [10,20,30,40]\n",
    "t = np.array(l)\n",
    "type(t)\n"
   ]
  },
  {
   "cell_type": "code",
   "execution_count": 49,
   "metadata": {},
   "outputs": [
    {
     "data": {
      "text/plain": [
       "array([[0, 1, 2],\n",
       "       [3, 4, 5]])"
      ]
     },
     "execution_count": 49,
     "metadata": {},
     "output_type": "execute_result"
    }
   ],
   "source": [
    "#Utwórz tablicę 2D (2x3) z wartościami od 1 do 6.\n",
    "t2 = np.arange(6).reshape((2,3))\n",
    "t2"
   ]
  },
  {
   "cell_type": "code",
   "execution_count": 43,
   "metadata": {},
   "outputs": [
    {
     "name": "stdout",
     "output_type": "stream",
     "text": [
      "[20 30 40 50]\n",
      "[ 40  60  80 100]\n"
     ]
    }
   ],
   "source": [
    "#Dodaj liczbę 5 do każdej wartości w pierwszej tablicy.\n",
    "t = t+5\n",
    "print(t)\n",
    "\n",
    "t = t*2\n",
    "print(t)"
   ]
  },
  {
   "cell_type": "code",
   "execution_count": 45,
   "metadata": {},
   "outputs": [
    {
     "data": {
      "text/plain": [
       "array([ 40.,  60.,  80., 100.])"
      ]
     },
     "execution_count": 45,
     "metadata": {},
     "output_type": "execute_result"
    }
   ],
   "source": [
    "t= t.astype(float)\n",
    "t"
   ]
  },
  {
   "cell_type": "code",
   "execution_count": 46,
   "metadata": {},
   "outputs": [
    {
     "name": "stdout",
     "output_type": "stream",
     "text": [
      "(4,)\n",
      "1\n"
     ]
    }
   ],
   "source": [
    "#Wyświetl kształt (shape) i liczbę wymiarów (ndim) dla obu tablic\n",
    "print(t.shape)\n",
    "print(t.ndim)"
   ]
  },
  {
   "cell_type": "code",
   "execution_count": 48,
   "metadata": {},
   "outputs": [
    {
     "name": "stdout",
     "output_type": "stream",
     "text": [
      "40.0\n",
      "60.0\n",
      "[60. 80.]\n"
     ]
    }
   ],
   "source": [
    "print(t[0])\n",
    "print(t[1])\n",
    "print(t[1:3])"
   ]
  },
  {
   "cell_type": "code",
   "execution_count": 55,
   "metadata": {},
   "outputs": [
    {
     "data": {
      "text/plain": [
       "array([[0, 1, 2],\n",
       "       [3, 4, 5]])"
      ]
     },
     "execution_count": 55,
     "metadata": {},
     "output_type": "execute_result"
    }
   ],
   "source": [
    "t2"
   ]
  },
  {
   "cell_type": "code",
   "execution_count": 56,
   "metadata": {},
   "outputs": [
    {
     "name": "stdout",
     "output_type": "stream",
     "text": [
      "[0 1 2] [1 4]\n"
     ]
    }
   ],
   "source": [
    "print(t2[0], t2[:, 1])"
   ]
  },
  {
   "cell_type": "code",
   "execution_count": 59,
   "metadata": {},
   "outputs": [
    {
     "name": "stdout",
     "output_type": "stream",
     "text": [
      "[0 1 2]\n",
      "[1 4]\n"
     ]
    }
   ],
   "source": [
    "print(t2[0])\n",
    "print(t2[:, 1])"
   ]
  },
  {
   "cell_type": "code",
   "execution_count": 62,
   "metadata": {},
   "outputs": [
    {
     "name": "stdout",
     "output_type": "stream",
     "text": [
      "[ 60.  80. 100.]\n",
      "[4 5]\n"
     ]
    }
   ],
   "source": [
    "# W tablicy t wybierz elementy większe niż 50.\n",
    "# W tablicy t2 wybierz wszystkie wartości, które są większe niż 3.\n",
    "liczby = t > 50\n",
    "print(t[liczby])\n",
    "more_than_3 = t2 > 3\n",
    "print(t2[more_than_3])"
   ]
  },
  {
   "cell_type": "code",
   "execution_count": 64,
   "metadata": {},
   "outputs": [
    {
     "name": "stdout",
     "output_type": "stream",
     "text": [
      "[40. 99. 99. 99.]\n",
      "[[0 1 2]\n",
      " [3 0 0]]\n"
     ]
    }
   ],
   "source": [
    "# Zmień wszystkie elementy tablicy t, które są większe niż 50, na wartość 99.\n",
    "# Zmień wszystkie wartości w tablicy t2, które są większe niż 3, na 0.\n",
    "t[liczby] = 99\n",
    "print(t)\n",
    "\n",
    "t2[more_than_3] = 0\n",
    "print(t2)\n"
   ]
  },
  {
   "cell_type": "code",
   "execution_count": 66,
   "metadata": {},
   "outputs": [
    {
     "name": "stdout",
     "output_type": "stream",
     "text": [
      "(4, 1)\n",
      "(2, 3, 1)\n"
     ]
    }
   ],
   "source": [
    "# zmień tablicę t (1D) na tablicę 2D o wymiarach (4, 1).\n",
    "\n",
    "\n",
    "t = t.reshape(4,1)\n",
    "print(t.shape)\n",
    "\n",
    "# Dodaj nowy wymiar do tablicy t2, aby miała kształt (2, 3, 1).\n",
    "t2 = t2.reshape((2,3,1))\n",
    "print(t2.shape)\n"
   ]
  },
  {
   "cell_type": "code",
   "execution_count": null,
   "metadata": {},
   "outputs": [],
   "source": []
  }
 ],
 "metadata": {
  "kernelspec": {
   "display_name": "Python 3",
   "language": "python",
   "name": "python3"
  },
  "language_info": {
   "codemirror_mode": {
    "name": "ipython",
    "version": 3
   },
   "file_extension": ".py",
   "mimetype": "text/x-python",
   "name": "python",
   "nbconvert_exporter": "python",
   "pygments_lexer": "ipython3",
   "version": "3.11.3"
  }
 },
 "nbformat": 4,
 "nbformat_minor": 2
}
