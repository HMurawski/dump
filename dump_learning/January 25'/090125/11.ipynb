{
 "cells": [
  {
   "cell_type": "code",
   "execution_count": 7,
   "metadata": {},
   "outputs": [
    {
     "data": {
      "text/html": [
       "<div>\n",
       "<style scoped>\n",
       "    .dataframe tbody tr th:only-of-type {\n",
       "        vertical-align: middle;\n",
       "    }\n",
       "\n",
       "    .dataframe tbody tr th {\n",
       "        vertical-align: top;\n",
       "    }\n",
       "\n",
       "    .dataframe thead th {\n",
       "        text-align: right;\n",
       "    }\n",
       "</style>\n",
       "<table border=\"1\" class=\"dataframe\">\n",
       "  <thead>\n",
       "    <tr style=\"text-align: right;\">\n",
       "      <th></th>\n",
       "      <th>Unnamed: 0</th>\n",
       "      <th>World Port Index Number</th>\n",
       "      <th>Region Name</th>\n",
       "      <th>Main Port Name</th>\n",
       "      <th>Country Code</th>\n",
       "      <th>World Water Body</th>\n",
       "      <th>Sailing Direction or Publication</th>\n",
       "      <th>Tidal Range (m)</th>\n",
       "      <th>Channel Depth (m)</th>\n",
       "      <th>Anchorage Depth (m)</th>\n",
       "      <th>...</th>\n",
       "      <th>Cranes - Mobile</th>\n",
       "      <th>Lifts - 0-24 Tons</th>\n",
       "      <th>Services - Longshoremen</th>\n",
       "      <th>Supplies - Provisions</th>\n",
       "      <th>Supplies - Potable Water</th>\n",
       "      <th>Supplies - Fuel Oil</th>\n",
       "      <th>Supplies - Diesel Oil</th>\n",
       "      <th>Repairs</th>\n",
       "      <th>Latitude</th>\n",
       "      <th>Longitude</th>\n",
       "    </tr>\n",
       "  </thead>\n",
       "  <tbody>\n",
       "    <tr>\n",
       "      <th>0</th>\n",
       "      <td>0</td>\n",
       "      <td>7950.0</td>\n",
       "      <td>United States E Coast -- 6585</td>\n",
       "      <td>Maurer</td>\n",
       "      <td>United States</td>\n",
       "      <td>North Atlantic Ocean</td>\n",
       "      <td>U.S. Coast Pilot 2 - Atlantic Coast: Cape Cod ...</td>\n",
       "      <td>1.5</td>\n",
       "      <td>11.0</td>\n",
       "      <td>11.0</td>\n",
       "      <td>...</td>\n",
       "      <td>Unknown</td>\n",
       "      <td>Unknown</td>\n",
       "      <td>Unknown</td>\n",
       "      <td>Yes</td>\n",
       "      <td>Yes</td>\n",
       "      <td>Yes</td>\n",
       "      <td>Yes</td>\n",
       "      <td>Moderate</td>\n",
       "      <td>40.533333</td>\n",
       "      <td>-74.25</td>\n",
       "    </tr>\n",
       "  </tbody>\n",
       "</table>\n",
       "<p>1 rows × 42 columns</p>\n",
       "</div>"
      ],
      "text/plain": [
       "   Unnamed: 0  World Port Index Number                    Region Name  \\\n",
       "0           0                   7950.0  United States E Coast -- 6585   \n",
       "\n",
       "  Main Port Name   Country Code      World Water Body  \\\n",
       "0         Maurer  United States  North Atlantic Ocean   \n",
       "\n",
       "                    Sailing Direction or Publication  Tidal Range (m)  \\\n",
       "0  U.S. Coast Pilot 2 - Atlantic Coast: Cape Cod ...              1.5   \n",
       "\n",
       "   Channel Depth (m)  Anchorage Depth (m)  ...  Cranes - Mobile  \\\n",
       "0               11.0                 11.0  ...          Unknown   \n",
       "\n",
       "   Lifts - 0-24 Tons Services - Longshoremen Supplies - Provisions  \\\n",
       "0            Unknown                 Unknown                   Yes   \n",
       "\n",
       "  Supplies - Potable Water Supplies - Fuel Oil Supplies - Diesel Oil  \\\n",
       "0                      Yes                 Yes                   Yes   \n",
       "\n",
       "    Repairs   Latitude Longitude  \n",
       "0  Moderate  40.533333    -74.25  \n",
       "\n",
       "[1 rows x 42 columns]"
      ]
     },
     "execution_count": 7,
     "metadata": {},
     "output_type": "execute_result"
    }
   ],
   "source": [
    "import pandas as pd\n",
    "file = \"Dataset_WorldPortIndex.csv\"\n",
    "df = pd.read_csv(file)\n",
    "df.head(1)"
   ]
  },
  {
   "cell_type": "code",
   "execution_count": 9,
   "metadata": {},
   "outputs": [
    {
     "data": {
      "text/plain": [
       "Country Code\n",
       "                      0.000000\n",
       "Albania               6.400000\n",
       "Algeria              10.752941\n",
       "American Samoa       23.200000\n",
       "Angola               14.419048\n",
       "                       ...    \n",
       "Vietnam               8.175000\n",
       "Wake Island          23.200000\n",
       "Wallis and Futuna     6.400000\n",
       "Western Sahara        6.250000\n",
       "Yemen                 5.140000\n",
       "Name: Channel Depth (m), Length: 196, dtype: float64"
      ]
     },
     "execution_count": 9,
     "metadata": {},
     "output_type": "execute_result"
    }
   ],
   "source": [
    "#Oblicz średnią wartość głębokości kanału (Channel Depth (m)) dla każdego kraju.\n",
    "avg_channel_depth = df.groupby(\"Country Code\")['Channel Depth (m)'].mean()\n",
    "avg_channel_depth"
   ]
  },
  {
   "cell_type": "code",
   "execution_count": 28,
   "metadata": {},
   "outputs": [
    {
     "name": "stdout",
     "output_type": "stream",
     "text": [
      " : 4\n",
      "Albania: 3\n",
      "Algeria: 17\n",
      "American Samoa: 1\n",
      "Angola: 21\n",
      "Antarctica: 8\n",
      "Antigua and Barbuda: 1\n",
      "Argentina: 37\n",
      "Aruba: 2\n",
      "Australia: 66\n",
      "Bahrain: 4\n",
      "Bangladesh: 2\n",
      "Barbados: 1\n",
      "Belgium: 7\n",
      "Belize: 2\n",
      "Benin: 1\n",
      "Bermuda: 4\n",
      "Bosnia and Herzegovina: 1\n",
      "Brazil: 45\n",
      "British Indian Ocean Territory: 1\n",
      "British Virgin Islands: 1\n",
      "Brunei: 5\n",
      "Bulgaria: 2\n",
      "Burma: 7\n",
      "Cabo Verde: 2\n",
      "Cambodia: 2\n",
      "Cameroon: 7\n",
      "Canada: 304\n",
      "Caribbean Netherlands: 4\n",
      "Cayman Islands: 2\n",
      "Chile: 39\n",
      "China: 68\n",
      "Christmas Island: 1\n",
      "Colombia: 14\n",
      "Comoros: 4\n",
      "Congo (Brazzaville): 5\n",
      "Congo (Kinshasa): 3\n",
      "Cook Islands: 1\n",
      "Costa Rica: 6\n",
      "Cote D'Ivoire: 5\n",
      "Croatia: 16\n",
      "Cuba: 34\n",
      "Curacao: 4\n",
      "Cyprus: 6\n",
      "Denmark: 69\n",
      "Djibouti: 2\n",
      "Dominica: 2\n",
      "Dominican Republic: 17\n",
      "Ecuador: 6\n",
      "Egypt: 30\n",
      "El Salvador: 3\n",
      "Equatorial Guinea: 7\n",
      "Eritrea: 2\n",
      "Estonia: 20\n",
      "Falkland Islands (Islas Malvinas): 1\n",
      "Faroe Islands: 9\n",
      "Federated States of Micronesia: 4\n",
      "Fiji: 5\n",
      "Finland: 37\n",
      "France: 65\n",
      "French Guiana: 1\n",
      "French Polynesia: 6\n",
      "Gabon: 9\n",
      "Georgia: 4\n",
      "Germany: 35\n",
      "Ghana: 4\n",
      "Gibraltar: 1\n",
      "Greece: 64\n",
      "Greenland: 22\n",
      "Grenada: 1\n",
      "Guadeloupe: 4\n",
      "Guam: 1\n",
      "Guatemala: 3\n",
      "Guernsey: 3\n",
      "Guinea: 4\n",
      "Guinea-Bissau: 2\n",
      "Guyana: 3\n",
      "Haiti: 5\n",
      "Honduras: 8\n",
      "Hong Kong: 1\n",
      "Iceland: 38\n",
      "India: 56\n",
      "Indonesia: 123\n",
      "Iran: 18\n",
      "Iraq: 6\n",
      "Ireland: 21\n",
      "Isle of Man: 2\n",
      "Israel: 5\n",
      "Italy: 123\n",
      "Jamaica: 11\n",
      "Japan: 163\n",
      "Jersey: 1\n",
      "Johnson Atoll: 1\n",
      "Jordan: 1\n",
      "Kenya: 4\n",
      "Kiribati: 3\n",
      "Kuwait: 6\n",
      "Latvia: 5\n",
      "Lebanon: 4\n",
      "Liberia: 4\n",
      "Libya: 14\n",
      "Lithuania: 2\n",
      "Macau: 1\n",
      "Madagascar: 13\n",
      "Malaysia: 35\n",
      "Maldives: 1\n",
      "Malta: 2\n",
      "Marshall Islands: 3\n",
      "Martinique: 1\n",
      "Mauritania: 2\n",
      "Mauritius: 2\n",
      "Mexico: 35\n",
      "Midway Islands: 1\n",
      "Monaco: 1\n",
      "Montenegro: 4\n",
      "Morocco: 12\n",
      "Mozambique: 11\n",
      "Namibia: 2\n",
      "Nauru: 1\n",
      "Netherlands: 18\n",
      "New Caledonia: 3\n",
      "New Zealand: 22\n",
      "Nicaragua: 5\n",
      "Nigeria: 28\n",
      "Niue: 1\n",
      "Norfolk Island: 1\n",
      "North Korea: 10\n",
      "Northern Mariana Islands: 3\n",
      "Norway: 137\n",
      "Oman: 7\n",
      "Pakistan: 3\n",
      "Palau: 1\n",
      "Panama: 12\n",
      "Papua New Guinea: 22\n",
      "Paraguay: 1\n",
      "Peru: 20\n",
      "Philippines: 70\n",
      "Poland: 10\n",
      "Portugal: 18\n",
      "Puerto Rico: 14\n",
      "Qatar: 6\n",
      "Reunion: 4\n",
      "Romania: 11\n",
      "Russia: 67\n",
      "Saint Helena, Ascension, and Tristan da Cunha: 4\n",
      "Saint Kitts and Nevis: 2\n",
      "Saint Lucia: 3\n",
      "Saint Pierre and Miquelon: 2\n",
      "Saint Vincent and the Grenadines (Windward Islands): 1\n",
      "Samoa: 1\n",
      "Sao Tome and Principe: 2\n",
      "Saudi Arabia: 16\n",
      "Senegal: 6\n",
      "Seychelles: 1\n",
      "Sierra Leone: 3\n",
      "Singapore: 5\n",
      "Sint Maarten: 2\n",
      "Slovenia: 2\n",
      "Solomon Islands: 6\n",
      "Somalia: 6\n",
      "South Africa: 8\n",
      "South Georgia and South Sandwich Islands: 3\n",
      "South Korea: 16\n",
      "Spain: 52\n",
      "Sri Lanka: 6\n",
      "Sudan: 4\n",
      "Suriname: 4\n",
      "Svalbard: 3\n",
      "Sweden: 92\n",
      "Syria: 3\n",
      "Taiwan: 8\n",
      "Tanzania: 8\n",
      "Thailand: 21\n",
      "The Bahamas: 6\n",
      "The Gambia: 1\n",
      "Timor-Leste: 1\n",
      "Togo: 2\n",
      "Tonga: 3\n",
      "Trinidad and Tobago: 10\n",
      "Tunisia: 16\n",
      "Turkey: 54\n",
      "Turks and Caicos Islands: 3\n",
      "Tuvalu: 1\n",
      "U.S. Virgin Islands: 6\n",
      "Ukraine: 26\n",
      "United Arab Emirates: 20\n",
      "United Kingdom: 185\n",
      "United States: 666\n",
      "Uruguay: 8\n",
      "Vanuatu: 3\n",
      "Venezuela: 31\n",
      "Vietnam: 16\n",
      "Wake Island: 1\n",
      "Wallis and Futuna: 1\n",
      "Western Sahara: 2\n",
      "Yemen: 10\n"
     ]
    }
   ],
   "source": [
    "#Policz liczbę portów w każdym kraju.\n",
    "sum_of_ports = df.groupby([\"Country Code\"])[\"Main Port Name\"].count()\n",
    "lista_portow = sum_of_ports.to_dict()\n",
    "for index, value in lista_portow.items():\n",
    "    print(f\"{index}: {value}\")\n"
   ]
  },
  {
   "cell_type": "code",
   "execution_count": 37,
   "metadata": {},
   "outputs": [
    {
     "name": "stdout",
     "output_type": "stream",
     "text": [
      "port size: Very Small, count:2135\n",
      "port size: Small, count:1030\n",
      "port size: Medium, count:366\n",
      "port size: Large, count:171\n",
      "port size:  , count:122\n"
     ]
    }
   ],
   "source": [
    "#Policz liczbę portów w każdej kategorii (Small, Medium, Large).\n",
    "ab = df['Harbor Size'].value_counts()\n",
    "for index, value in ab.items():\n",
    "    print(f\"port size: {index}, count:{value}\")"
   ]
  },
  {
   "cell_type": "code",
   "execution_count": 39,
   "metadata": {},
   "outputs": [
    {
     "data": {
      "text/plain": [
       "Harbor Size\n",
       "               4.360656\n",
       "Large         14.052047\n",
       "Medium        13.667213\n",
       "Small         11.833010\n",
       "Very Small    11.333349\n",
       "Name: Anchorage Depth (m), dtype: float64"
      ]
     },
     "execution_count": 39,
     "metadata": {},
     "output_type": "execute_result"
    }
   ],
   "source": [
    "#Oblicz średnią głębokość kotwicowiska (Anchorage Depth (m)) dla każdej kategorii.\n",
    "df.groupby(\"Harbor Size\")[\"Anchorage Depth (m)\"].mean()"
   ]
  },
  {
   "cell_type": "code",
   "execution_count": 61,
   "metadata": {},
   "outputs": [
    {
     "data": {
      "text/plain": [
       "Country Code\n",
       "                       0.0\n",
       "Albania               19.2\n",
       "Algeria              182.8\n",
       "American Samoa        23.2\n",
       "Angola               302.8\n",
       "                     ...  \n",
       "Vietnam              130.8\n",
       "Wake Island           23.2\n",
       "Wallis and Futuna      6.4\n",
       "Western Sahara        12.5\n",
       "Yemen                 51.4\n",
       "Name: Channel Depth (m), Length: 196, dtype: float64"
      ]
     },
     "execution_count": 61,
     "metadata": {},
     "output_type": "execute_result"
    }
   ],
   "source": [
    "#Utwórz grupę portów według Country Code i oblicz:\n",
    "#Łączną wartość głębokości kanału (Channel Depth (m)).\n",
    "\n",
    "\n",
    "df.groupby(\"Country Code\")[\"Channel Depth (m)\"].sum()\n",
    "\n"
   ]
  },
  {
   "cell_type": "code",
   "execution_count": 41,
   "metadata": {},
   "outputs": [
    {
     "data": {
      "text/plain": [
       "Country Code\n",
       "                      0.0\n",
       "Albania              11.0\n",
       "Algeria              14.0\n",
       "American Samoa       11.0\n",
       "Angola               23.2\n",
       "                     ... \n",
       "Vietnam              23.2\n",
       "Wake Island          12.5\n",
       "Wallis and Futuna     0.0\n",
       "Western Sahara        0.0\n",
       "Yemen                45.0\n",
       "Name: Oil Terminal Depth (m), Length: 196, dtype: float64"
      ]
     },
     "execution_count": 41,
     "metadata": {},
     "output_type": "execute_result"
    }
   ],
   "source": [
    "#Maksymalną wartość głębokości ropy naftowej (Oil Terminal Depth (m)).\n",
    "df.groupby(\"Country Code\")[\"Oil Terminal Depth (m)\"].max()"
   ]
  },
  {
   "cell_type": "code",
   "execution_count": 55,
   "metadata": {},
   "outputs": [
    {
     "data": {
      "text/html": [
       "<div>\n",
       "<style scoped>\n",
       "    .dataframe tbody tr th:only-of-type {\n",
       "        vertical-align: middle;\n",
       "    }\n",
       "\n",
       "    .dataframe tbody tr th {\n",
       "        vertical-align: top;\n",
       "    }\n",
       "\n",
       "    .dataframe thead th {\n",
       "        text-align: right;\n",
       "    }\n",
       "</style>\n",
       "<table border=\"1\" class=\"dataframe\">\n",
       "  <thead>\n",
       "    <tr style=\"text-align: right;\">\n",
       "      <th></th>\n",
       "      <th>Unnamed: 0</th>\n",
       "      <th>World Port Index Number</th>\n",
       "      <th>Region Name</th>\n",
       "      <th>Main Port Name</th>\n",
       "      <th>Country Code</th>\n",
       "      <th>World Water Body</th>\n",
       "      <th>Sailing Direction or Publication</th>\n",
       "      <th>Tidal Range (m)</th>\n",
       "      <th>Channel Depth (m)</th>\n",
       "      <th>Anchorage Depth (m)</th>\n",
       "      <th>...</th>\n",
       "      <th>Services - Longshoremen</th>\n",
       "      <th>Supplies - Provisions</th>\n",
       "      <th>Supplies - Potable Water</th>\n",
       "      <th>Supplies - Fuel Oil</th>\n",
       "      <th>Supplies - Diesel Oil</th>\n",
       "      <th>Repairs</th>\n",
       "      <th>Latitude</th>\n",
       "      <th>Longitude</th>\n",
       "      <th>Port Share_x</th>\n",
       "      <th>Port Share_y</th>\n",
       "    </tr>\n",
       "  </thead>\n",
       "  <tbody>\n",
       "    <tr>\n",
       "      <th>0</th>\n",
       "      <td>0</td>\n",
       "      <td>7950.0</td>\n",
       "      <td>United States E Coast -- 6585</td>\n",
       "      <td>Maurer</td>\n",
       "      <td>United States</td>\n",
       "      <td>North Atlantic Ocean</td>\n",
       "      <td>U.S. Coast Pilot 2 - Atlantic Coast: Cape Cod ...</td>\n",
       "      <td>1.5</td>\n",
       "      <td>11.0</td>\n",
       "      <td>11.0</td>\n",
       "      <td>...</td>\n",
       "      <td>Unknown</td>\n",
       "      <td>Yes</td>\n",
       "      <td>Yes</td>\n",
       "      <td>Yes</td>\n",
       "      <td>Yes</td>\n",
       "      <td>Moderate</td>\n",
       "      <td>40.533333</td>\n",
       "      <td>-74.25</td>\n",
       "      <td>17.42</td>\n",
       "      <td>17.42</td>\n",
       "    </tr>\n",
       "  </tbody>\n",
       "</table>\n",
       "<p>1 rows × 44 columns</p>\n",
       "</div>"
      ],
      "text/plain": [
       "   Unnamed: 0  World Port Index Number                    Region Name  \\\n",
       "0           0                   7950.0  United States E Coast -- 6585   \n",
       "\n",
       "  Main Port Name   Country Code      World Water Body  \\\n",
       "0         Maurer  United States  North Atlantic Ocean   \n",
       "\n",
       "                    Sailing Direction or Publication  Tidal Range (m)  \\\n",
       "0  U.S. Coast Pilot 2 - Atlantic Coast: Cape Cod ...              1.5   \n",
       "\n",
       "   Channel Depth (m)  Anchorage Depth (m)  ...  Services - Longshoremen  \\\n",
       "0               11.0                 11.0  ...                  Unknown   \n",
       "\n",
       "   Supplies - Provisions Supplies - Potable Water Supplies - Fuel Oil  \\\n",
       "0                    Yes                      Yes                 Yes   \n",
       "\n",
       "  Supplies - Diesel Oil   Repairs   Latitude Longitude Port Share_x  \\\n",
       "0                   Yes  Moderate  40.533333    -74.25        17.42   \n",
       "\n",
       "  Port Share_y  \n",
       "0        17.42  \n",
       "\n",
       "[1 rows x 44 columns]"
      ]
     },
     "execution_count": 55,
     "metadata": {},
     "output_type": "execute_result"
    }
   ],
   "source": [
    "#Dodaj nową kolumnę, która wskaże udział portów danego kraju w całkowitej liczbie portów w zbiorze.\n",
    "sum_of_ports = df.groupby([\"Country Code\"])[\"Main Port Name\"].count()\n",
    "all_ports = sum_of_ports.sum()\n",
    "pct_ports_overall = round(sum_of_ports / all_ports * 100,2)\n",
    "pct_ports_overall = pct_ports_overall.reset_index()\n",
    "pct_ports_overall = pct_ports_overall.rename(columns={\"Main Port Name\": \"Port Share\"})\n",
    "df = df.merge(pct_ports_overall, on=\"Country Code\", how='left')\n",
    "df.head(1)"
   ]
  },
  {
   "cell_type": "code",
   "execution_count": 56,
   "metadata": {},
   "outputs": [
    {
     "data": {
      "text/plain": [
       "Country Code    Harbor Size\n",
       "                                0.00\n",
       "Albania         Small           7.90\n",
       "                Very Small      5.65\n",
       "Algeria         Large          20.90\n",
       "                Medium         12.50\n",
       "                               ...  \n",
       "Western Sahara  Very Small      6.25\n",
       "Yemen           Large           0.00\n",
       "                Medium         11.30\n",
       "                Small           9.70\n",
       "                Very Small      1.88\n",
       "Name: Channel Depth (m), Length: 479, dtype: float64"
      ]
     },
     "execution_count": 56,
     "metadata": {},
     "output_type": "execute_result"
    }
   ],
   "source": [
    "# Utwórz grupy na podstawie Country Code i Harbor Size, a następnie:\n",
    "# Oblicz średnią wartość głębokości kanału (Channel Depth (m)) dla każdej grupy.\n",
    "\n",
    "\n",
    "df.groupby([\"Country Code\", \"Harbor Size\"])[\"Channel Depth (m)\"].mean()"
   ]
  },
  {
   "cell_type": "code",
   "execution_count": 59,
   "metadata": {},
   "outputs": [
    {
     "data": {
      "text/plain": [
       "Country Code    Harbor Size\n",
       "                               4\n",
       "Albania         Small          1\n",
       "                Very Small     2\n",
       "Algeria         Large          2\n",
       "                Medium         1\n",
       "                              ..\n",
       "Western Sahara  Very Small     2\n",
       "Yemen           Large          1\n",
       "                Medium         2\n",
       "                Small          2\n",
       "                Very Small     5\n",
       "Name: Main Port Name, Length: 479, dtype: int64"
      ]
     },
     "execution_count": 59,
     "metadata": {},
     "output_type": "execute_result"
    }
   ],
   "source": [
    "# Policz liczbę portów w każdej grupie.\n",
    "df.groupby([\"Country Code\", \"Harbor Size\"])[\"Main Port Name\"].count()"
   ]
  },
  {
   "cell_type": "code",
   "execution_count": 1,
   "metadata": {},
   "outputs": [],
   "source": [
    "import pandas as pd"
   ]
  },
  {
   "cell_type": "code",
   "execution_count": 2,
   "metadata": {},
   "outputs": [
    {
     "data": {
      "text/html": [
       "<div>\n",
       "<style scoped>\n",
       "    .dataframe tbody tr th:only-of-type {\n",
       "        vertical-align: middle;\n",
       "    }\n",
       "\n",
       "    .dataframe tbody tr th {\n",
       "        vertical-align: top;\n",
       "    }\n",
       "\n",
       "    .dataframe thead th {\n",
       "        text-align: right;\n",
       "    }\n",
       "</style>\n",
       "<table border=\"1\" class=\"dataframe\">\n",
       "  <thead>\n",
       "    <tr style=\"text-align: right;\">\n",
       "      <th></th>\n",
       "      <th>employee_id</th>\n",
       "      <th>name</th>\n",
       "      <th>department</th>\n",
       "    </tr>\n",
       "  </thead>\n",
       "  <tbody>\n",
       "    <tr>\n",
       "      <th>0</th>\n",
       "      <td>3</td>\n",
       "      <td>bob</td>\n",
       "      <td>b</td>\n",
       "    </tr>\n",
       "    <tr>\n",
       "      <th>1</th>\n",
       "      <td>90</td>\n",
       "      <td>jan</td>\n",
       "      <td>c</td>\n",
       "    </tr>\n",
       "    <tr>\n",
       "      <th>2</th>\n",
       "      <td>9</td>\n",
       "      <td>kasia</td>\n",
       "      <td>d</td>\n",
       "    </tr>\n",
       "  </tbody>\n",
       "</table>\n",
       "</div>"
      ],
      "text/plain": [
       "   employee_id   name department\n",
       "0            3    bob          b\n",
       "1           90    jan          c\n",
       "2            9  kasia          d"
      ]
     },
     "execution_count": 2,
     "metadata": {},
     "output_type": "execute_result"
    }
   ],
   "source": [
    "df = pd.DataFrame({\"employee_id\" : [3,90,9], \"name\" : ['bob', 'jan', 'kasia'], \"department\" : ['b', 'c', 'd']})\n",
    "df"
   ]
  },
  {
   "cell_type": "code",
   "execution_count": 4,
   "metadata": {},
   "outputs": [
    {
     "data": {
      "text/plain": [
       "pandas.core.frame.DataFrame"
      ]
     },
     "execution_count": 4,
     "metadata": {},
     "output_type": "execute_result"
    }
   ],
   "source": [
    "a = df[:3]\n",
    "type(a)"
   ]
  },
  {
   "cell_type": "code",
   "execution_count": null,
   "metadata": {},
   "outputs": [],
   "source": []
  }
 ],
 "metadata": {
  "kernelspec": {
   "display_name": "Python 3",
   "language": "python",
   "name": "python3"
  },
  "language_info": {
   "codemirror_mode": {
    "name": "ipython",
    "version": 3
   },
   "file_extension": ".py",
   "mimetype": "text/x-python",
   "name": "python",
   "nbconvert_exporter": "python",
   "pygments_lexer": "ipython3",
   "version": "3.11.3"
  }
 },
 "nbformat": 4,
 "nbformat_minor": 2
}
