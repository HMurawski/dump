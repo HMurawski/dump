{
 "cells": [
  {
   "cell_type": "code",
   "execution_count": 23,
   "metadata": {},
   "outputs": [],
   "source": [
    "import pandas as pd\n",
    "import numpy as np\n",
    "import matplotlib.pyplot as plt\n",
    "import seaborn as sns\n",
    "import random\n",
    "import timeit\n",
    "import sys"
   ]
  },
  {
   "cell_type": "code",
   "execution_count": 15,
   "metadata": {},
   "outputs": [
    {
     "data": {
      "text/plain": [
       "[15, 15, 15, 18, 17, 11, 20, 16, 12, 16]"
      ]
     },
     "execution_count": 15,
     "metadata": {},
     "output_type": "execute_result"
    }
   ],
   "source": [
    "def n_numpy(size= 10):\n",
    "    lista_n = np.random.randint(low=1, high=101, size=(size))\n",
    "    lista_n += 10\n",
    "    return lista_n\n",
    "\n",
    "def normal(size = 10):\n",
    "    r_list = []\n",
    "    size = size\n",
    "    for i in range(size):\n",
    "        r_list.append(random.randint(1,10))\n",
    "    r_10_list = [i + 10 for i in r_list]\n",
    "    return r_10_list\n",
    "\n",
    "\n",
    "\n"
   ]
  },
  {
   "cell_type": "code",
   "execution_count": 19,
   "metadata": {},
   "outputs": [
    {
     "name": "stdout",
     "output_type": "stream",
     "text": [
      "The difference of time is : 0.0008676999714225531\n",
      "The difference of time is : 0.045300800004042685\n"
     ]
    }
   ],
   "source": [
    "start = timeit.default_timer()\n",
    "n_numpy(100000)\n",
    "print(\"The difference of time is :\", \n",
    "              timeit.default_timer() - start)\n",
    "\n",
    "start = timeit.default_timer()\n",
    "normal(100000)\n",
    "print(\"The difference of time is :\", \n",
    "              timeit.default_timer() - start)"
   ]
  },
  {
   "cell_type": "code",
   "execution_count": 20,
   "metadata": {},
   "outputs": [
    {
     "name": "stdout",
     "output_type": "stream",
     "text": [
      "The difference of time is : 0.08615780004765838\n",
      "The difference of time is : 4.460761700000148\n"
     ]
    }
   ],
   "source": [
    "start = timeit.default_timer()\n",
    "n_numpy(10000000)\n",
    "print(\"The difference of time is :\", \n",
    "              timeit.default_timer() - start)\n",
    "\n",
    "start = timeit.default_timer()\n",
    "normal(10000000)\n",
    "print(\"The difference of time is :\", \n",
    "              timeit.default_timer() - start)"
   ]
  },
  {
   "cell_type": "code",
   "execution_count": 21,
   "metadata": {},
   "outputs": [
    {
     "name": "stdout",
     "output_type": "stream",
     "text": [
      "Size\tNumPy Time (s)\tPython Time (s)\n",
      "10000\t0.000163\t0.004088\n",
      "100000\t0.000804\t0.049209\n",
      "1000000\t0.009526\t0.406363\n",
      "10000000\t0.080262\t4.074191\n"
     ]
    }
   ],
   "source": [
    "def n_numpy(size=10):\n",
    "    lista_n = np.random.randint(low=1, high=101, size=size)\n",
    "    lista_n += 10\n",
    "    return lista_n\n",
    "\n",
    "# Pure Python function\n",
    "def normal(size=10):\n",
    "    r_list = [random.randint(1, 100) for _ in range(size)]\n",
    "    r_10_list = [i + 10 for i in r_list]\n",
    "    return r_10_list\n",
    "\n",
    "# Measuring execution time\n",
    "sizes = [10_000, 100_000, 1_000_000, 10_000_000]\n",
    "results = []\n",
    "\n",
    "for size in sizes:\n",
    "    start = timeit.default_timer()\n",
    "    n_numpy(size)\n",
    "    numpy_time = timeit.default_timer() - start\n",
    "\n",
    "    start = timeit.default_timer()\n",
    "    normal(size)\n",
    "    python_time = timeit.default_timer() - start\n",
    "\n",
    "    results.append((size, numpy_time, python_time))\n",
    "\n",
    "# Displaying results\n",
    "print(\"Size\\tNumPy Time (s)\\tPython Time (s)\")\n",
    "for size, numpy_time, python_time in results:\n",
    "    print(f\"{size}\\t{numpy_time:.6f}\\t{python_time:.6f}\")"
   ]
  },
  {
   "cell_type": "code",
   "execution_count": 22,
   "metadata": {},
   "outputs": [],
   "source": [
    "pyt_list = [random.randint(1,100) for _ in range(1_000_000)]\n",
    "np_list = np.random.randint(low=1, high=101, size=(1_000_000))"
   ]
  },
  {
   "cell_type": "code",
   "execution_count": 27,
   "metadata": {},
   "outputs": [
    {
     "name": "stdout",
     "output_type": "stream",
     "text": [
      "Pamiec: 8448728\n",
      "Pamiec np: 4000000\n",
      "Diff: 4448728\n"
     ]
    }
   ],
   "source": [
    "print(f\"Pamiec: {sys.getsizeof(pyt_list)}\")\n",
    "print(f\"Pamiec np: {np_list.nbytes}\")\n",
    "print(f\"Diff: {sys.getsizeof(pyt_list) - np_list.nbytes}\")"
   ]
  },
  {
   "cell_type": "code",
   "execution_count": 42,
   "metadata": {},
   "outputs": [],
   "source": [
    "macierz = np.random.randint(low=1, high=101, size=(1000,1000))"
   ]
  },
  {
   "cell_type": "code",
   "execution_count": 49,
   "metadata": {},
   "outputs": [
    {
     "name": "stdout",
     "output_type": "stream",
     "text": [
      "Suma: 50489776\n",
      "499547\n"
     ]
    }
   ],
   "source": [
    "print(f\"Suma: {np.sum(macierz)}\")\n",
    "print(f\"Srednia dla kolumn: {np.mean(macierz, axis=0)}\\nSrednia dla wierszy: {np.mean(macierz, axis=1)}\")\n",
    "el_higher_than_50 = len(macierz[macierz > 50])\n",
    "print(el_higher_than_50)"
   ]
  },
  {
   "cell_type": "code",
   "execution_count": 46,
   "metadata": {},
   "outputs": [
    {
     "name": "stdout",
     "output_type": "stream",
     "text": [
      "37724453\n",
      "Srednia dla kolumn: 75.51732469617474\n"
     ]
    }
   ],
   "source": [
    "modified_macierz = macierz[macierz > 50]\n",
    "print(np.sum(modified_macierz))\n",
    "print(f\"Srednia dla kolumn: {np.mean(modified_macierz, axis=0)}\")"
   ]
  },
  {
   "cell_type": "code",
   "execution_count": 50,
   "metadata": {},
   "outputs": [
    {
     "name": "stdout",
     "output_type": "stream",
     "text": [
      "Suma przy użyciu pętli: 50489776\n"
     ]
    }
   ],
   "source": [
    "total_sum = 0\n",
    "for row in macierz:\n",
    "    for el in row:\n",
    "        total_sum += el\n",
    "print(f\"Suma przy użyciu pętli: {total_sum}\")"
   ]
  },
  {
   "cell_type": "code",
   "execution_count": null,
   "metadata": {},
   "outputs": [],
   "source": []
  }
 ],
 "metadata": {
  "kernelspec": {
   "display_name": "Python 3",
   "language": "python",
   "name": "python3"
  },
  "language_info": {
   "codemirror_mode": {
    "name": "ipython",
    "version": 3
   },
   "file_extension": ".py",
   "mimetype": "text/x-python",
   "name": "python",
   "nbconvert_exporter": "python",
   "pygments_lexer": "ipython3",
   "version": "3.11.3"
  }
 },
 "nbformat": 4,
 "nbformat_minor": 2
}
