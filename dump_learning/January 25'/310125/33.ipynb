{
 "cells": [
  {
   "cell_type": "code",
   "execution_count": 3,
   "metadata": {},
   "outputs": [],
   "source": [
    "import pandas as pd\n",
    "import numpy as np\n",
    "import matplotlib.pyplot as plt\n",
    "import random\n",
    "from datetime import datetime, timedelta"
   ]
  },
  {
   "cell_type": "code",
   "execution_count": 4,
   "metadata": {},
   "outputs": [],
   "source": [
    "\n",
    "np.random.seed(42)\n",
    "random.seed(42)\n",
    "\n",
    "\n",
    "num_orders = 1000\n",
    "products = ['Laptop', 'Smartphone', 'Tablet', 'Headphones', 'Smartwatch']\n",
    "countries = ['USA', 'UK', 'Germany', 'France', 'Canada']\n",
    "\n",
    "# Tworzenie DataFrame\n",
    "data = {\n",
    "    'OrderID': range(1, num_orders + 1),\n",
    "    'OrderDate': [datetime.now() - timedelta(days=np.random.randint(1, 365)) for _ in range(num_orders)],\n",
    "    'Product': [random.choice(products) for _ in range(num_orders)],\n",
    "    'Quantity': np.random.randint(1, 10, size=num_orders),\n",
    "    'UnitPrice': np.random.uniform(100, 1000, size=num_orders).round(2),\n",
    "    'Country': [random.choice(countries) for _ in range(num_orders)]\n",
    "}\n",
    "\n",
    "df = pd.DataFrame(data)"
   ]
  },
  {
   "cell_type": "code",
   "execution_count": 5,
   "metadata": {},
   "outputs": [
    {
     "data": {
      "text/html": [
       "<div>\n",
       "<style scoped>\n",
       "    .dataframe tbody tr th:only-of-type {\n",
       "        vertical-align: middle;\n",
       "    }\n",
       "\n",
       "    .dataframe tbody tr th {\n",
       "        vertical-align: top;\n",
       "    }\n",
       "\n",
       "    .dataframe thead th {\n",
       "        text-align: right;\n",
       "    }\n",
       "</style>\n",
       "<table border=\"1\" class=\"dataframe\">\n",
       "  <thead>\n",
       "    <tr style=\"text-align: right;\">\n",
       "      <th></th>\n",
       "      <th>OrderID</th>\n",
       "      <th>OrderDate</th>\n",
       "      <th>Product</th>\n",
       "      <th>Quantity</th>\n",
       "      <th>UnitPrice</th>\n",
       "      <th>Country</th>\n",
       "    </tr>\n",
       "  </thead>\n",
       "  <tbody>\n",
       "    <tr>\n",
       "      <th>0</th>\n",
       "      <td>1</td>\n",
       "      <td>2024-10-20 20:58:59.112863</td>\n",
       "      <td>Laptop</td>\n",
       "      <td>2</td>\n",
       "      <td>708.26</td>\n",
       "      <td>Germany</td>\n",
       "    </tr>\n",
       "    <tr>\n",
       "      <th>1</th>\n",
       "      <td>2</td>\n",
       "      <td>2024-02-17 20:58:59.112863</td>\n",
       "      <td>Laptop</td>\n",
       "      <td>8</td>\n",
       "      <td>498.45</td>\n",
       "      <td>Germany</td>\n",
       "    </tr>\n",
       "    <tr>\n",
       "      <th>2</th>\n",
       "      <td>3</td>\n",
       "      <td>2024-05-05 20:58:59.112863</td>\n",
       "      <td>Tablet</td>\n",
       "      <td>2</td>\n",
       "      <td>501.21</td>\n",
       "      <td>Canada</td>\n",
       "    </tr>\n",
       "    <tr>\n",
       "      <th>3</th>\n",
       "      <td>4</td>\n",
       "      <td>2024-10-16 20:58:59.112863</td>\n",
       "      <td>Smartphone</td>\n",
       "      <td>4</td>\n",
       "      <td>752.07</td>\n",
       "      <td>Canada</td>\n",
       "    </tr>\n",
       "    <tr>\n",
       "      <th>4</th>\n",
       "      <td>5</td>\n",
       "      <td>2024-11-20 20:58:59.112863</td>\n",
       "      <td>Smartphone</td>\n",
       "      <td>1</td>\n",
       "      <td>114.24</td>\n",
       "      <td>France</td>\n",
       "    </tr>\n",
       "  </tbody>\n",
       "</table>\n",
       "</div>"
      ],
      "text/plain": [
       "   OrderID                  OrderDate     Product  Quantity  UnitPrice  \\\n",
       "0        1 2024-10-20 20:58:59.112863      Laptop         2     708.26   \n",
       "1        2 2024-02-17 20:58:59.112863      Laptop         8     498.45   \n",
       "2        3 2024-05-05 20:58:59.112863      Tablet         2     501.21   \n",
       "3        4 2024-10-16 20:58:59.112863  Smartphone         4     752.07   \n",
       "4        5 2024-11-20 20:58:59.112863  Smartphone         1     114.24   \n",
       "\n",
       "   Country  \n",
       "0  Germany  \n",
       "1  Germany  \n",
       "2   Canada  \n",
       "3   Canada  \n",
       "4   France  "
      ]
     },
     "execution_count": 5,
     "metadata": {},
     "output_type": "execute_result"
    }
   ],
   "source": [
    "df.head()\n"
   ]
  },
  {
   "cell_type": "code",
   "execution_count": 6,
   "metadata": {},
   "outputs": [],
   "source": [
    "df['TotalAmount'] = df['Quantity'] * df['UnitPrice']"
   ]
  },
  {
   "cell_type": "code",
   "execution_count": 7,
   "metadata": {},
   "outputs": [
    {
     "name": "stdout",
     "output_type": "stream",
     "text": [
      "Średnia wartość zamówienia: 2695.0985199999996\n",
      "Mediana wartości zamówienia: 2107.76\n",
      "Minimalna wartość zamówienia: 106.04\n",
      "Maksymalna wartość zamówienia: 8997.66\n",
      "Całkowita liczba sprzedanych produktów: 4975\n"
     ]
    }
   ],
   "source": [
    "print(\"Średnia wartość zamówienia:\", df['TotalAmount'].mean())\n",
    "print(\"Mediana wartości zamówienia:\", df['TotalAmount'].median())\n",
    "print(\"Minimalna wartość zamówienia:\", df['TotalAmount'].min())\n",
    "print(\"Maksymalna wartość zamówienia:\", df['TotalAmount'].max())\n",
    "print(\"Całkowita liczba sprzedanych produktów:\", df['Quantity'].sum())"
   ]
  },
  {
   "cell_type": "code",
   "execution_count": 8,
   "metadata": {},
   "outputs": [
    {
     "name": "stdout",
     "output_type": "stream",
     "text": [
      "Najczęściej sprzedawany produkt: Headphones\n"
     ]
    }
   ],
   "source": [
    "most_sold_product = df['Product'].value_counts().idxmax()\n",
    "print(\"Najczęściej sprzedawany produkt:\", most_sold_product)"
   ]
  },
  {
   "cell_type": "code",
   "execution_count": 10,
   "metadata": {},
   "outputs": [
    {
     "name": "stdout",
     "output_type": "stream",
     "text": [
      "Produkt generujący największy przychód: Headphones\n"
     ]
    }
   ],
   "source": [
    "revenue_by_product = df.groupby('Product')['TotalAmount'].sum()\n",
    "highest_revenue_product = revenue_by_product.idxmax()\n",
    "print(\"Produkt generujący największy przychód:\", highest_revenue_product)"
   ]
  },
  {
   "cell_type": "code",
   "execution_count": 11,
   "metadata": {},
   "outputs": [
    {
     "name": "stdout",
     "output_type": "stream",
     "text": [
      "Kraj z największą liczbą zamówień: Germany\n"
     ]
    }
   ],
   "source": [
    "# 3. Analiza geograficzna\n",
    "most_orders_country = df['Country'].value_counts().idxmax()\n",
    "print(\"Kraj z największą liczbą zamówień:\", most_orders_country)"
   ]
  },
  {
   "cell_type": "code",
   "execution_count": 12,
   "metadata": {},
   "outputs": [
    {
     "name": "stdout",
     "output_type": "stream",
     "text": [
      "Kraj z najwyższym średnim przychodem na zamówienie: USA\n"
     ]
    }
   ],
   "source": [
    "avg_revenue_by_country = df.groupby('Country')['TotalAmount'].mean()\n",
    "highest_avg_revenue_country = avg_revenue_by_country.idxmax()\n",
    "print(\"Kraj z najwyższym średnim przychodem na zamówienie:\", highest_avg_revenue_country)"
   ]
  },
  {
   "cell_type": "code",
   "execution_count": 13,
   "metadata": {},
   "outputs": [
    {
     "name": "stdout",
     "output_type": "stream",
     "text": [
      "Liczba zamówień w poszczególnych miesiącach:\n",
      "OrderMonth\n",
      "2024-02     77\n",
      "2024-03     76\n",
      "2024-04     76\n",
      "2024-05     88\n",
      "2024-06    100\n",
      "2024-07     77\n",
      "2024-08     83\n",
      "2024-09     95\n",
      "2024-10     98\n",
      "2024-11     57\n",
      "2024-12     95\n",
      "2025-01     78\n",
      "Freq: M, Name: count, dtype: int64\n"
     ]
    }
   ],
   "source": [
    "# 4. Analiza czasowa\n",
    "df['OrderMonth'] = df['OrderDate'].dt.to_period('M')\n",
    "orders_by_month = df['OrderMonth'].value_counts().sort_index()\n",
    "print(\"Liczba zamówień w poszczególnych miesiącach:\")\n",
    "print(orders_by_month)"
   ]
  },
  {
   "cell_type": "code",
   "execution_count": 14,
   "metadata": {},
   "outputs": [
    {
     "data": {
      "image/png": "[encoded data removed]",
      "text/plain": [
       "<Figure size 1000x600 with 1 Axes>"
      ]
     },
     "metadata": {},
     "output_type": "display_data"
    }
   ],
   "source": [
    "# Wykres liczby zamówień w poszczególnych miesiącach\n",
    "orders_by_month.plot(kind='bar', figsize=(10, 6))\n",
    "plt.title('Liczba zamówień w poszczególnych miesiącach')\n",
    "plt.xlabel('Miesiąc')\n",
    "plt.ylabel('Liczba zamówień')\n",
    "plt.show()"
   ]
  },
  {
   "cell_type": "code",
   "execution_count": 15,
   "metadata": {},
   "outputs": [
    {
     "data": {
      "image/png": "[encoded data removed]",
      "text/plain": [
       "<Figure size 1000x600 with 1 Axes>"
      ]
     },
     "metadata": {},
     "output_type": "display_data"
    }
   ],
   "source": [
    "# Wykres rozkładu przychodów w poszczególnych krajach\n",
    "revenue_by_country = df.groupby('Country')['TotalAmount'].sum()\n",
    "revenue_by_country.plot(kind='bar', figsize=(10, 6))\n",
    "plt.title('Przychody w poszczególnych krajach')\n",
    "plt.xlabel('Kraj')\n",
    "plt.ylabel('Przychód')\n",
    "plt.show()"
   ]
  },
  {
   "cell_type": "code",
   "execution_count": null,
   "metadata": {},
   "outputs": [],
   "source": []
  }
 ],
 "metadata": {
  "kernelspec": {
   "display_name": "Python 3",
   "language": "python",
   "name": "python3"
  },
  "language_info": {
   "codemirror_mode": {
    "name": "ipython",
    "version": 3
   },
   "file_extension": ".py",
   "mimetype": "text/x-python",
   "name": "python",
   "nbconvert_exporter": "python",
   "pygments_lexer": "ipython3",
   "version": "3.11.3"
  }
 },
 "nbformat": 4,
 "nbformat_minor": 2
}
