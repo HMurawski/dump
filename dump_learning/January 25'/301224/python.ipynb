{
 "cells": [
  {
   "cell_type": "code",
   "execution_count": 13,
   "metadata": {},
   "outputs": [
    {
     "name": "stdout",
     "output_type": "stream",
     "text": [
      "[1, 2, 3, 4, 5, 6, 7, 8, 9, 10]\n"
     ]
    }
   ],
   "source": [
    "lista = list(range(1,11))\n",
    "print(lista)"
   ]
  },
  {
   "cell_type": "code",
   "execution_count": 14,
   "metadata": {},
   "outputs": [
    {
     "name": "stdout",
     "output_type": "stream",
     "text": [
      "[1, 3, 5, 7, 9]\n"
     ]
    }
   ],
   "source": [
    "for l in lista:\n",
    "    if l % 2 == 0:\n",
    "        lista.remove(l)\n",
    "print(lista)\n"
   ]
  },
  {
   "cell_type": "code",
   "execution_count": 15,
   "metadata": {},
   "outputs": [
    {
     "name": "stdout",
     "output_type": "stream",
     "text": [
      "[1, 3, 5, 7, 9, 11]\n",
      "liczba elementow list: 6\n"
     ]
    }
   ],
   "source": [
    "lista.append(11)\n",
    "print(lista)\n",
    "print(f\"liczba elementow list: {len(lista)}\")"
   ]
  },
  {
   "cell_type": "code",
   "execution_count": 18,
   "metadata": {},
   "outputs": [
    {
     "name": "stdout",
     "output_type": "stream",
     "text": [
      "<class 'str'>\n"
     ]
    }
   ],
   "source": [
    "lista_txt = ['1','2','3','4','5']\n",
    "print(type(lista_txt[0]))"
   ]
  },
  {
   "cell_type": "code",
   "execution_count": 25,
   "metadata": {},
   "outputs": [
    {
     "name": "stdout",
     "output_type": "stream",
     "text": [
      "[1.0, 2.0, 3.0, 4.0, 5.0]\n"
     ]
    }
   ],
   "source": [
    "for t in range(len(lista_txt)):\n",
    "    lista_txt[t] = float(lista_txt[t])\n",
    "print(lista_txt)"
   ]
  },
  {
   "cell_type": "code",
   "execution_count": 27,
   "metadata": {},
   "outputs": [
    {
     "name": "stdout",
     "output_type": "stream",
     "text": [
      "3.0\n"
     ]
    }
   ],
   "source": [
    "srednia = sum(lista_txt) / len(lista_txt)\n",
    "print(srednia)"
   ]
  },
  {
   "cell_type": "code",
   "execution_count": 1,
   "metadata": {},
   "outputs": [],
   "source": [
    "owoce = {'jablko': 5,\n",
    "         'banan': 10,\n",
    "         'truskawka': 20}"
   ]
  },
  {
   "cell_type": "code",
   "execution_count": 3,
   "metadata": {},
   "outputs": [
    {
     "name": "stdout",
     "output_type": "stream",
     "text": [
      "{'jablko': 4, 'truskawka': 20, 'maliny': 30}\n"
     ]
    }
   ],
   "source": [
    "#dodanie\n",
    "owoce['maliny'] = 30\n",
    "\n",
    "#aktualizacja\n",
    "owoce['jablko'] = 4\n",
    "\n",
    "#usuniecie\n",
    "del owoce['banan']\n",
    "\n",
    "print(owoce)"
   ]
  },
  {
   "cell_type": "code",
   "execution_count": 5,
   "metadata": {},
   "outputs": [
    {
     "name": "stdout",
     "output_type": "stream",
     "text": [
      "jablko\n",
      "truskawka\n",
      "maliny\n",
      "4\n",
      "20\n",
      "30\n",
      "jablko kosztuje 4.\n",
      "truskawka kosztuje 20.\n",
      "maliny kosztuje 30.\n"
     ]
    }
   ],
   "source": [
    "#iterowanie\n",
    "for k in owoce.keys():\n",
    "    print(k)\n",
    "for v in owoce.values():\n",
    "    print(v)\n",
    "for key,value in owoce.items():\n",
    "    print(f\"{key} kosztuje {value}.\")"
   ]
  },
  {
   "cell_type": "code",
   "execution_count": null,
   "metadata": {},
   "outputs": [],
   "source": []
  }
 ],
 "metadata": {
  "kernelspec": {
   "display_name": "Python 3",
   "language": "python",
   "name": "python3"
  },
  "language_info": {
   "codemirror_mode": {
    "name": "ipython",
    "version": 3
   },
   "file_extension": ".py",
   "mimetype": "text/x-python",
   "name": "python",
   "nbconvert_exporter": "python",
   "pygments_lexer": "ipython3",
   "version": "3.11.3"
  }
 },
 "nbformat": 4,
 "nbformat_minor": 2
}
