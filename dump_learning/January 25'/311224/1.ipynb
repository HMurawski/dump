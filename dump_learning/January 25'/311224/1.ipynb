{
 "cells": [
  {
   "cell_type": "code",
   "execution_count": 9,
   "metadata": {},
   "outputs": [
    {
     "name": "stdout",
     "output_type": "stream",
     "text": [
      "[0, 1, 2, 3, 4]\n",
      "[1, 3]\n",
      "4\n"
     ]
    }
   ],
   "source": [
    "def filtruj_parzyste(lista):\n",
    "    for l in lista:\n",
    "        if l % 2 == 0:\n",
    "            lista.remove(l)\n",
    "    return lista\n",
    "\n",
    "#sprawdzenie dzialania\n",
    "l1 = list(range((5)))\n",
    "print(l1)\n",
    "l2 = filtruj_parzyste(l1)\n",
    "print(l2)\n",
    "\n",
    "#return [l for l in lista if l % 2 != 0]"
   ]
  },
  {
   "cell_type": "code",
   "execution_count": 10,
   "metadata": {},
   "outputs": [
    {
     "name": "stdout",
     "output_type": "stream",
     "text": [
      "(4, 2.0)\n"
     ]
    }
   ],
   "source": [
    "def suma_i_srednia(lista):\n",
    "    suma = sum(lista)\n",
    "    srednia = sum(lista) / len(lista)\n",
    "    wynik = (suma, srednia)\n",
    "    return wynik\n",
    "\n",
    "#spr\n",
    "w = suma_i_srednia(l2)\n",
    "print(w)"
   ]
  },
  {
   "cell_type": "code",
   "execution_count": 11,
   "metadata": {},
   "outputs": [
    {
     "name": "stdout",
     "output_type": "stream",
     "text": [
      "[[1, 2, 3], [4, 5, 6], [7, 8, 9]]\n"
     ]
    }
   ],
   "source": [
    "zagniezdzona = [[1, 2, 3], [4, 5, 6], [7, 8, 9]]"
   ]
  },
  {
   "cell_type": "code",
   "execution_count": 15,
   "metadata": {},
   "outputs": [
    {
     "name": "stdout",
     "output_type": "stream",
     "text": [
      "[1, 2, 3, 4, 5, 6, 7, 8, 9]\n"
     ]
    }
   ],
   "source": [
    "pojedyncza = []\n",
    "for l in zagniezdzona:\n",
    "    for _ in l:\n",
    "        pojedyncza.append(_)\n",
    "print(pojedyncza)"
   ]
  },
  {
   "cell_type": "code",
   "execution_count": 19,
   "metadata": {},
   "outputs": [
    {
     "name": "stdout",
     "output_type": "stream",
     "text": [
      "[1, 2, 3, 4, 5, 6, 7, 8, 9]\n"
     ]
    }
   ],
   "source": [
    "poj_comp = [l for z in zagniezdzona for l in z]\n",
    "print(poj_comp)"
   ]
  },
  {
   "cell_type": "code",
   "execution_count": 21,
   "metadata": {},
   "outputs": [],
   "source": [
    "zbior_A = {1,2,3,4,5}\n",
    "zbior_B = {3,4,5,6,7}"
   ]
  },
  {
   "cell_type": "code",
   "execution_count": 30,
   "metadata": {},
   "outputs": [
    {
     "name": "stdout",
     "output_type": "stream",
     "text": [
      "{3, 4, 5, 6, 7}\n",
      "{1, 2}\n",
      "{1, 2}\n"
     ]
    }
   ],
   "source": [
    "print(zbior_A & zbior_B) #wspolne\n",
    "print(zbior_A - zbior_B) #tylko w A\n",
    "print(zbior_A ^ zbior_B)"
   ]
  },
  {
   "cell_type": "code",
   "execution_count": 29,
   "metadata": {},
   "outputs": [
    {
     "name": "stdout",
     "output_type": "stream",
     "text": [
      "{1, 2, 3, 4, 5, 6, 7}\n"
     ]
    }
   ],
   "source": [
    "for i in zbior_B:\n",
    "    zbior_A.add(i)\n",
    "print(zbior_A) #jeden zbior"
   ]
  },
  {
   "cell_type": "code",
   "execution_count": null,
   "metadata": {},
   "outputs": [],
   "source": []
  }
 ],
 "metadata": {
  "kernelspec": {
   "display_name": "Python 3",
   "language": "python",
   "name": "python3"
  },
  "language_info": {
   "codemirror_mode": {
    "name": "ipython",
    "version": 3
   },
   "file_extension": ".py",
   "mimetype": "text/x-python",
   "name": "python",
   "nbconvert_exporter": "python",
   "pygments_lexer": "ipython3",
   "version": "3.11.3"
  }
 },
 "nbformat": 4,
 "nbformat_minor": 2
}
