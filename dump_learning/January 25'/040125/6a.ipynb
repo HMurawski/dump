{
 "cells": [
  {
   "cell_type": "code",
   "execution_count": 1,
   "metadata": {},
   "outputs": [],
   "source": [
    "import pandas as pd\n",
    "from datetime import datetime"
   ]
  },
  {
   "cell_type": "code",
   "execution_count": 2,
   "metadata": {},
   "outputs": [
    {
     "data": {
      "text/html": [
       "<div>\n",
       "<style scoped>\n",
       "    .dataframe tbody tr th:only-of-type {\n",
       "        vertical-align: middle;\n",
       "    }\n",
       "\n",
       "    .dataframe tbody tr th {\n",
       "        vertical-align: top;\n",
       "    }\n",
       "\n",
       "    .dataframe thead th {\n",
       "        text-align: right;\n",
       "    }\n",
       "</style>\n",
       "<table border=\"1\" class=\"dataframe\">\n",
       "  <thead>\n",
       "    <tr style=\"text-align: right;\">\n",
       "      <th></th>\n",
       "      <th>SaleID</th>\n",
       "      <th>Region</th>\n",
       "      <th>Amount</th>\n",
       "      <th>Date</th>\n",
       "    </tr>\n",
       "  </thead>\n",
       "  <tbody>\n",
       "    <tr>\n",
       "      <th>0</th>\n",
       "      <td>1</td>\n",
       "      <td>North</td>\n",
       "      <td>500</td>\n",
       "      <td>2024-01-01</td>\n",
       "    </tr>\n",
       "    <tr>\n",
       "      <th>1</th>\n",
       "      <td>2</td>\n",
       "      <td>South</td>\n",
       "      <td>300</td>\n",
       "      <td>2024-02-15</td>\n",
       "    </tr>\n",
       "  </tbody>\n",
       "</table>\n",
       "</div>"
      ],
      "text/plain": [
       "   SaleID Region  Amount        Date\n",
       "0       1  North     500  2024-01-01\n",
       "1       2  South     300  2024-02-15"
      ]
     },
     "execution_count": 2,
     "metadata": {},
     "output_type": "execute_result"
    }
   ],
   "source": [
    "df = pd.read_csv('sales.csv')\n",
    "df.head(2)"
   ]
  },
  {
   "cell_type": "code",
   "execution_count": 4,
   "metadata": {},
   "outputs": [
    {
     "name": "stdout",
     "output_type": "stream",
     "text": [
      "Transacstions count by Region:\n",
      "Region\n",
      "North    2\n",
      "South    2\n",
      "West     1\n",
      "Name: SaleID, dtype: int64\n",
      "Transacstions sales by Region:\n",
      "Region\n",
      "North    1200\n",
      "South    1300\n",
      "West      400\n",
      "Name: Amount, dtype: int64\n"
     ]
    }
   ],
   "source": [
    "tr_count_region = df.groupby('Region')['SaleID'].count()\n",
    "tr_sales_region = df.groupby('Region')['Amount'].sum()\n",
    "\n",
    "print(f\"Transacstions count by Region:\\n{tr_count_region}\\nTransacstions sales by Region:\\n{tr_sales_region}\")"
   ]
  },
  {
   "cell_type": "code",
   "execution_count": 19,
   "metadata": {},
   "outputs": [
    {
     "name": "stdout",
     "output_type": "stream",
     "text": [
      "Region with top sales: 1    South\n",
      "Name: Region, dtype: object\n"
     ]
    }
   ],
   "source": [
    "tr_sales_region_df = tr_sales_region.reset_index()\n",
    "top_sales_region = tr_sales_region_df[(tr_sales_region_df['Amount'] == tr_sales_region_df['Amount'].max())]\n",
    "print(f\"Region with top sales: {top_sales_region['Region']}\")\n"
   ]
  },
  {
   "cell_type": "code",
   "execution_count": 21,
   "metadata": {},
   "outputs": [
    {
     "name": "stdout",
     "output_type": "stream",
     "text": [
      "Region with lowest sales count: 2    West\n",
      "Name: Region, dtype: object\n"
     ]
    }
   ],
   "source": [
    "tr_count_region_df  = tr_count_region.reset_index() \n",
    "lowest_tr_count_region = tr_count_region_df[(tr_count_region_df['SaleID']) ==tr_count_region_df['SaleID'].min()]\n",
    "print(f\"Region with lowest sales count: {lowest_tr_count_region['Region']}\")"
   ]
  },
  {
   "cell_type": "code",
   "execution_count": 27,
   "metadata": {},
   "outputs": [
    {
     "data": {
      "text/html": [
       "<div>\n",
       "<style scoped>\n",
       "    .dataframe tbody tr th:only-of-type {\n",
       "        vertical-align: middle;\n",
       "    }\n",
       "\n",
       "    .dataframe tbody tr th {\n",
       "        vertical-align: top;\n",
       "    }\n",
       "\n",
       "    .dataframe thead th {\n",
       "        text-align: right;\n",
       "    }\n",
       "</style>\n",
       "<table border=\"1\" class=\"dataframe\">\n",
       "  <thead>\n",
       "    <tr style=\"text-align: right;\">\n",
       "      <th></th>\n",
       "      <th>Region</th>\n",
       "      <th>Pct_Region</th>\n",
       "    </tr>\n",
       "  </thead>\n",
       "  <tbody>\n",
       "    <tr>\n",
       "      <th>0</th>\n",
       "      <td>North</td>\n",
       "      <td>41.379310</td>\n",
       "    </tr>\n",
       "    <tr>\n",
       "      <th>1</th>\n",
       "      <td>South</td>\n",
       "      <td>44.827586</td>\n",
       "    </tr>\n",
       "    <tr>\n",
       "      <th>2</th>\n",
       "      <td>West</td>\n",
       "      <td>13.793103</td>\n",
       "    </tr>\n",
       "  </tbody>\n",
       "</table>\n",
       "</div>"
      ],
      "text/plain": [
       "  Region  Pct_Region\n",
       "0  North   41.379310\n",
       "1  South   44.827586\n",
       "2   West   13.793103"
      ]
     },
     "execution_count": 27,
     "metadata": {},
     "output_type": "execute_result"
    }
   ],
   "source": [
    "total_sales = df['Amount'].sum()\n",
    "\n",
    "pct_by_region = (tr_sales_region / total_sales) * 100\n",
    "region_df = pct_by_region.reset_index()\n",
    "region_df.columns = ['Region', 'Pct_Region']\n",
    "region_df\n",
    "\n"
   ]
  },
  {
   "cell_type": "code",
   "execution_count": 40,
   "metadata": {},
   "outputs": [
    {
     "data": {
      "text/html": [
       "<div>\n",
       "<style scoped>\n",
       "    .dataframe tbody tr th:only-of-type {\n",
       "        vertical-align: middle;\n",
       "    }\n",
       "\n",
       "    .dataframe tbody tr th {\n",
       "        vertical-align: top;\n",
       "    }\n",
       "\n",
       "    .dataframe thead th {\n",
       "        text-align: right;\n",
       "    }\n",
       "</style>\n",
       "<table border=\"1\" class=\"dataframe\">\n",
       "  <thead>\n",
       "    <tr style=\"text-align: right;\">\n",
       "      <th></th>\n",
       "      <th>SaleID</th>\n",
       "      <th>Region</th>\n",
       "      <th>Amount</th>\n",
       "      <th>Date</th>\n",
       "      <th>Pct_Region</th>\n",
       "    </tr>\n",
       "  </thead>\n",
       "  <tbody>\n",
       "    <tr>\n",
       "      <th>0</th>\n",
       "      <td>1</td>\n",
       "      <td>North</td>\n",
       "      <td>500</td>\n",
       "      <td>2024-01-01</td>\n",
       "      <td>41.38</td>\n",
       "    </tr>\n",
       "    <tr>\n",
       "      <th>1</th>\n",
       "      <td>2</td>\n",
       "      <td>South</td>\n",
       "      <td>300</td>\n",
       "      <td>2024-02-15</td>\n",
       "      <td>44.83</td>\n",
       "    </tr>\n",
       "    <tr>\n",
       "      <th>2</th>\n",
       "      <td>3</td>\n",
       "      <td>North</td>\n",
       "      <td>700</td>\n",
       "      <td>2024-03-10</td>\n",
       "      <td>41.38</td>\n",
       "    </tr>\n",
       "    <tr>\n",
       "      <th>3</th>\n",
       "      <td>4</td>\n",
       "      <td>West</td>\n",
       "      <td>400</td>\n",
       "      <td>2024-01-20</td>\n",
       "      <td>13.79</td>\n",
       "    </tr>\n",
       "    <tr>\n",
       "      <th>4</th>\n",
       "      <td>5</td>\n",
       "      <td>South</td>\n",
       "      <td>1000</td>\n",
       "      <td>2024-03-25</td>\n",
       "      <td>44.83</td>\n",
       "    </tr>\n",
       "  </tbody>\n",
       "</table>\n",
       "</div>"
      ],
      "text/plain": [
       "   SaleID Region  Amount        Date  Pct_Region\n",
       "0       1  North     500  2024-01-01       41.38\n",
       "1       2  South     300  2024-02-15       44.83\n",
       "2       3  North     700  2024-03-10       41.38\n",
       "3       4   West     400  2024-01-20       13.79\n",
       "4       5  South    1000  2024-03-25       44.83"
      ]
     },
     "execution_count": 40,
     "metadata": {},
     "output_type": "execute_result"
    }
   ],
   "source": [
    "df = df.drop(['Pct_Region_y', 'Pct_Region_x'], axis=1)\n",
    "df"
   ]
  },
  {
   "cell_type": "code",
   "execution_count": 42,
   "metadata": {},
   "outputs": [
    {
     "name": "stdout",
     "output_type": "stream",
     "text": [
      "   SaleID Region  Amount        Date  Pct_Region\n",
      "4       5  South    1000  2024-03-25       44.83\n",
      "   SaleID Region  Amount        Date  Pct_Region\n",
      "0       1  North     500  2024-01-01       41.38\n",
      "2       3  North     700  2024-03-10       41.38\n"
     ]
    }
   ],
   "source": [
    "#4. Filtrowanie danych\n",
    "\n",
    "tr_amount_h_700 = df[df['Amount'] > 700]\n",
    "print(tr_amount_h_700)\n",
    "\n",
    "tr_north_region = df[df['Region'] == \"North\"]\n",
    "print(tr_north_region)"
   ]
  },
  {
   "cell_type": "code",
   "execution_count": 43,
   "metadata": {},
   "outputs": [],
   "source": [
    "df['Date'] = pd.to_datetime(df['Date'])"
   ]
  },
  {
   "cell_type": "code",
   "execution_count": 48,
   "metadata": {},
   "outputs": [],
   "source": [
    "may_df = pd.read_csv('sales.csv')\n",
    "\n",
    "may_df['Date'] = pd.to_datetime(may_df['Date'])"
   ]
  },
  {
   "cell_type": "code",
   "execution_count": 50,
   "metadata": {},
   "outputs": [
    {
     "data": {
      "text/html": [
       "<div>\n",
       "<style scoped>\n",
       "    .dataframe tbody tr th:only-of-type {\n",
       "        vertical-align: middle;\n",
       "    }\n",
       "\n",
       "    .dataframe tbody tr th {\n",
       "        vertical-align: top;\n",
       "    }\n",
       "\n",
       "    .dataframe thead th {\n",
       "        text-align: right;\n",
       "    }\n",
       "</style>\n",
       "<table border=\"1\" class=\"dataframe\">\n",
       "  <thead>\n",
       "    <tr style=\"text-align: right;\">\n",
       "      <th></th>\n",
       "      <th>SaleID</th>\n",
       "      <th>Region</th>\n",
       "      <th>Amount</th>\n",
       "      <th>Date</th>\n",
       "    </tr>\n",
       "  </thead>\n",
       "  <tbody>\n",
       "    <tr>\n",
       "      <th>5</th>\n",
       "      <td>6</td>\n",
       "      <td>South</td>\n",
       "      <td>1000</td>\n",
       "      <td>2024-05-25</td>\n",
       "    </tr>\n",
       "  </tbody>\n",
       "</table>\n",
       "</div>"
      ],
      "text/plain": [
       "   SaleID Region  Amount       Date\n",
       "5       6  South    1000 2024-05-25"
      ]
     },
     "execution_count": 50,
     "metadata": {},
     "output_type": "execute_result"
    }
   ],
   "source": [
    "tr_may_2024 = may_df[(may_df['Date'].dt.month == 5) & (may_df['Date'].dt.year == 2024)]\n",
    "tr_may_2024"
   ]
  },
  {
   "cell_type": "code",
   "execution_count": 51,
   "metadata": {},
   "outputs": [],
   "source": [
    "#3. Tworzenie nowych kolumn\n",
    "def get_discount(amount):\n",
    "    if amount > 500:\n",
    "        return amount * 0.9\n",
    "    else:\n",
    "        return amount\n",
    "    \n",
    "def categorize(amount):\n",
    "    if amount < 300:\n",
    "        return \"Low\"\n",
    "    elif amount >= 300 and amount <= 700:\n",
    "        return \"Medium\"\n",
    "    elif amount > 700:\n",
    "        return \"High\"\n",
    "\n",
    "df['DiscountedAmount'] = df['Amount'].apply(get_discount)\n",
    "df['Category'] = df['Amount'].apply(categorize)\n"
   ]
  },
  {
   "cell_type": "code",
   "execution_count": 52,
   "metadata": {},
   "outputs": [
    {
     "data": {
      "text/html": [
       "<div>\n",
       "<style scoped>\n",
       "    .dataframe tbody tr th:only-of-type {\n",
       "        vertical-align: middle;\n",
       "    }\n",
       "\n",
       "    .dataframe tbody tr th {\n",
       "        vertical-align: top;\n",
       "    }\n",
       "\n",
       "    .dataframe thead th {\n",
       "        text-align: right;\n",
       "    }\n",
       "</style>\n",
       "<table border=\"1\" class=\"dataframe\">\n",
       "  <thead>\n",
       "    <tr style=\"text-align: right;\">\n",
       "      <th></th>\n",
       "      <th>SaleID</th>\n",
       "      <th>Region</th>\n",
       "      <th>Amount</th>\n",
       "      <th>Date</th>\n",
       "      <th>Pct_Region</th>\n",
       "      <th>DiscountedAmount</th>\n",
       "      <th>Category</th>\n",
       "    </tr>\n",
       "  </thead>\n",
       "  <tbody>\n",
       "    <tr>\n",
       "      <th>0</th>\n",
       "      <td>1</td>\n",
       "      <td>North</td>\n",
       "      <td>500</td>\n",
       "      <td>2024-01-01</td>\n",
       "      <td>41.38</td>\n",
       "      <td>500.0</td>\n",
       "      <td>Medium</td>\n",
       "    </tr>\n",
       "    <tr>\n",
       "      <th>1</th>\n",
       "      <td>2</td>\n",
       "      <td>South</td>\n",
       "      <td>300</td>\n",
       "      <td>2024-02-15</td>\n",
       "      <td>44.83</td>\n",
       "      <td>300.0</td>\n",
       "      <td>Medium</td>\n",
       "    </tr>\n",
       "    <tr>\n",
       "      <th>2</th>\n",
       "      <td>3</td>\n",
       "      <td>North</td>\n",
       "      <td>700</td>\n",
       "      <td>2024-03-10</td>\n",
       "      <td>41.38</td>\n",
       "      <td>630.0</td>\n",
       "      <td>Medium</td>\n",
       "    </tr>\n",
       "    <tr>\n",
       "      <th>3</th>\n",
       "      <td>4</td>\n",
       "      <td>West</td>\n",
       "      <td>400</td>\n",
       "      <td>2024-01-20</td>\n",
       "      <td>13.79</td>\n",
       "      <td>400.0</td>\n",
       "      <td>Medium</td>\n",
       "    </tr>\n",
       "    <tr>\n",
       "      <th>4</th>\n",
       "      <td>5</td>\n",
       "      <td>South</td>\n",
       "      <td>1000</td>\n",
       "      <td>2024-03-25</td>\n",
       "      <td>44.83</td>\n",
       "      <td>900.0</td>\n",
       "      <td>High</td>\n",
       "    </tr>\n",
       "  </tbody>\n",
       "</table>\n",
       "</div>"
      ],
      "text/plain": [
       "   SaleID Region  Amount       Date  Pct_Region  DiscountedAmount Category\n",
       "0       1  North     500 2024-01-01       41.38             500.0   Medium\n",
       "1       2  South     300 2024-02-15       44.83             300.0   Medium\n",
       "2       3  North     700 2024-03-10       41.38             630.0   Medium\n",
       "3       4   West     400 2024-01-20       13.79             400.0   Medium\n",
       "4       5  South    1000 2024-03-25       44.83             900.0     High"
      ]
     },
     "execution_count": 52,
     "metadata": {},
     "output_type": "execute_result"
    }
   ],
   "source": [
    "df"
   ]
  },
  {
   "cell_type": "code",
   "execution_count": null,
   "metadata": {},
   "outputs": [],
   "source": [
    "# df['Category'] = pd.cut(\n",
    "#     df['Amount'],\n",
    "#     bins=[-float('inf'), 300, 700, float('inf')],  # Przedziały\n",
    "#     labels=['Low', 'Medium', 'High']              # Etykiety\n",
    "# )\n"
   ]
  },
  {
   "cell_type": "code",
   "execution_count": 59,
   "metadata": {},
   "outputs": [
    {
     "data": {
      "text/html": [
       "<div>\n",
       "<style scoped>\n",
       "    .dataframe tbody tr th:only-of-type {\n",
       "        vertical-align: middle;\n",
       "    }\n",
       "\n",
       "    .dataframe tbody tr th {\n",
       "        vertical-align: top;\n",
       "    }\n",
       "\n",
       "    .dataframe thead th {\n",
       "        text-align: right;\n",
       "    }\n",
       "</style>\n",
       "<table border=\"1\" class=\"dataframe\">\n",
       "  <thead>\n",
       "    <tr style=\"text-align: right;\">\n",
       "      <th></th>\n",
       "      <th>SaleID</th>\n",
       "      <th>Region</th>\n",
       "      <th>Amount</th>\n",
       "      <th>Date</th>\n",
       "      <th>Pct_Region</th>\n",
       "      <th>DiscountedAmount</th>\n",
       "      <th>Category</th>\n",
       "      <th>Weekday</th>\n",
       "    </tr>\n",
       "  </thead>\n",
       "  <tbody>\n",
       "    <tr>\n",
       "      <th>1</th>\n",
       "      <td>2</td>\n",
       "      <td>South</td>\n",
       "      <td>300</td>\n",
       "      <td>2024-02-15</td>\n",
       "      <td>44.83</td>\n",
       "      <td>300.0</td>\n",
       "      <td>Medium</td>\n",
       "      <td>Thursday</td>\n",
       "    </tr>\n",
       "    <tr>\n",
       "      <th>2</th>\n",
       "      <td>3</td>\n",
       "      <td>North</td>\n",
       "      <td>700</td>\n",
       "      <td>2024-03-10</td>\n",
       "      <td>41.38</td>\n",
       "      <td>630.0</td>\n",
       "      <td>Medium</td>\n",
       "      <td>Sunday</td>\n",
       "    </tr>\n",
       "    <tr>\n",
       "      <th>4</th>\n",
       "      <td>5</td>\n",
       "      <td>South</td>\n",
       "      <td>1000</td>\n",
       "      <td>2024-03-25</td>\n",
       "      <td>44.83</td>\n",
       "      <td>900.0</td>\n",
       "      <td>High</td>\n",
       "      <td>Monday</td>\n",
       "    </tr>\n",
       "  </tbody>\n",
       "</table>\n",
       "</div>"
      ],
      "text/plain": [
       "   SaleID Region  Amount       Date  Pct_Region  DiscountedAmount Category  \\\n",
       "1       2  South     300 2024-02-15       44.83             300.0   Medium   \n",
       "2       3  North     700 2024-03-10       41.38             630.0   Medium   \n",
       "4       5  South    1000 2024-03-25       44.83             900.0     High   \n",
       "\n",
       "    Weekday  \n",
       "1  Thursday  \n",
       "2    Sunday  \n",
       "4    Monday  "
      ]
     },
     "execution_count": 59,
     "metadata": {},
     "output_type": "execute_result"
    }
   ],
   "source": [
    "#2. Praca z czasem\n",
    "#using different dates (2024-02-01 and 2024-04-01 to align with my dataset)\n",
    "start_date = datetime(2024, 2, 1)\n",
    "end_date = datetime(2024, 4,1)\n",
    "\n",
    "tr_dates = df[(df['Date'] >= start_date) & (df['Date'] <= end_date)]\n",
    "tr_dates = tr_dates.sort_values(by='Date')\n",
    "tr_dates"
   ]
  },
  {
   "cell_type": "code",
   "execution_count": 60,
   "metadata": {},
   "outputs": [
    {
     "name": "stdout",
     "output_type": "stream",
     "text": [
      "Różnica między datami wynosi: 39 dni.\n"
     ]
    }
   ],
   "source": [
    "dates_diff = tr_dates['Date'].max() - tr_dates['Date'].min()\n",
    "print(f\"Różnica między datami wynosi: {dates_diff.days} dni.\")\n"
   ]
  },
  {
   "cell_type": "code",
   "execution_count": 58,
   "metadata": {},
   "outputs": [
    {
     "data": {
      "text/html": [
       "<div>\n",
       "<style scoped>\n",
       "    .dataframe tbody tr th:only-of-type {\n",
       "        vertical-align: middle;\n",
       "    }\n",
       "\n",
       "    .dataframe tbody tr th {\n",
       "        vertical-align: top;\n",
       "    }\n",
       "\n",
       "    .dataframe thead th {\n",
       "        text-align: right;\n",
       "    }\n",
       "</style>\n",
       "<table border=\"1\" class=\"dataframe\">\n",
       "  <thead>\n",
       "    <tr style=\"text-align: right;\">\n",
       "      <th></th>\n",
       "      <th>SaleID</th>\n",
       "      <th>Region</th>\n",
       "      <th>Amount</th>\n",
       "      <th>Date</th>\n",
       "      <th>Pct_Region</th>\n",
       "      <th>DiscountedAmount</th>\n",
       "      <th>Category</th>\n",
       "      <th>Weekday</th>\n",
       "    </tr>\n",
       "  </thead>\n",
       "  <tbody>\n",
       "    <tr>\n",
       "      <th>0</th>\n",
       "      <td>1</td>\n",
       "      <td>North</td>\n",
       "      <td>500</td>\n",
       "      <td>2024-01-01</td>\n",
       "      <td>41.38</td>\n",
       "      <td>500.0</td>\n",
       "      <td>Medium</td>\n",
       "      <td>Monday</td>\n",
       "    </tr>\n",
       "    <tr>\n",
       "      <th>1</th>\n",
       "      <td>2</td>\n",
       "      <td>South</td>\n",
       "      <td>300</td>\n",
       "      <td>2024-02-15</td>\n",
       "      <td>44.83</td>\n",
       "      <td>300.0</td>\n",
       "      <td>Medium</td>\n",
       "      <td>Thursday</td>\n",
       "    </tr>\n",
       "    <tr>\n",
       "      <th>2</th>\n",
       "      <td>3</td>\n",
       "      <td>North</td>\n",
       "      <td>700</td>\n",
       "      <td>2024-03-10</td>\n",
       "      <td>41.38</td>\n",
       "      <td>630.0</td>\n",
       "      <td>Medium</td>\n",
       "      <td>Sunday</td>\n",
       "    </tr>\n",
       "    <tr>\n",
       "      <th>3</th>\n",
       "      <td>4</td>\n",
       "      <td>West</td>\n",
       "      <td>400</td>\n",
       "      <td>2024-01-20</td>\n",
       "      <td>13.79</td>\n",
       "      <td>400.0</td>\n",
       "      <td>Medium</td>\n",
       "      <td>Saturday</td>\n",
       "    </tr>\n",
       "    <tr>\n",
       "      <th>4</th>\n",
       "      <td>5</td>\n",
       "      <td>South</td>\n",
       "      <td>1000</td>\n",
       "      <td>2024-03-25</td>\n",
       "      <td>44.83</td>\n",
       "      <td>900.0</td>\n",
       "      <td>High</td>\n",
       "      <td>Monday</td>\n",
       "    </tr>\n",
       "  </tbody>\n",
       "</table>\n",
       "</div>"
      ],
      "text/plain": [
       "   SaleID Region  Amount       Date  Pct_Region  DiscountedAmount Category  \\\n",
       "0       1  North     500 2024-01-01       41.38             500.0   Medium   \n",
       "1       2  South     300 2024-02-15       44.83             300.0   Medium   \n",
       "2       3  North     700 2024-03-10       41.38             630.0   Medium   \n",
       "3       4   West     400 2024-01-20       13.79             400.0   Medium   \n",
       "4       5  South    1000 2024-03-25       44.83             900.0     High   \n",
       "\n",
       "    Weekday  \n",
       "0    Monday  \n",
       "1  Thursday  \n",
       "2    Sunday  \n",
       "3  Saturday  \n",
       "4    Monday  "
      ]
     },
     "execution_count": 58,
     "metadata": {},
     "output_type": "execute_result"
    }
   ],
   "source": [
    "df['Weekday'] = df['Date'].dt.day_name()\n",
    "df"
   ]
  },
  {
   "cell_type": "code",
   "execution_count": null,
   "metadata": {},
   "outputs": [],
   "source": []
  }
 ],
 "metadata": {
  "kernelspec": {
   "display_name": "Python 3",
   "language": "python",
   "name": "python3"
  },
  "language_info": {
   "codemirror_mode": {
    "name": "ipython",
    "version": 3
   },
   "file_extension": ".py",
   "mimetype": "text/x-python",
   "name": "python",
   "nbconvert_exporter": "python",
   "pygments_lexer": "ipython3",
   "version": "3.11.3"
  }
 },
 "nbformat": 4,
 "nbformat_minor": 2
}
