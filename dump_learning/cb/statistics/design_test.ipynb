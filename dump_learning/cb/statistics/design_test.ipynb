{
 "cells": [
  {
   "cell_type": "markdown",
   "id": "d4c0260f",
   "metadata": {},
   "source": [
    "## Problem Statement\n",
    "\n",
    "An e-commerce company is evaluating two different website designs to see which one results in higher customer engagement. Design A is the current design, while Design B incorporates new features aimed at improving user experience. The company hypothesizes that Design B will lead to a higher average time spent on the website by users.\n",
    "\n",
    "**Datasets:**\n",
    "- current_design.csv: Contains data for user interactions with the current website design (Design A), with columns user_id and time_spent_minutes.\n",
    "- new_design.csv: Contains data for user interactions with the new website design (Design B), with columns user_id and time_spent_minutes.\n",
    "\n",
    "**Objective:**\n",
    "- To determine whether Design B results in a higher average time spent on the website compared to Design A."
   ]
  },
  {
   "cell_type": "markdown",
   "id": "b946b9ad",
   "metadata": {},
   "source": [
    "**Steps to perform:**\n",
    "- Set the null and alternate hypothesis for this analysis.\n",
    "- Load the datasets current_design.csv and new_design.csv.\n",
    "- Calculate the mean and standard deviation of the time spent for both designs.\n",
    "- Determine the sizes of both groups.\n",
    "- Calculate the z-score to compare the means of both groups.\n",
    "- Set the significance level (alpha) at 5% for a right-tailed test.\n",
    "- Calculate the critical z-value for the right-tailed test at the 5% significance level.\n",
    "- Compare the calculated z-score with the critical z-value to decide whether to reject the null hypothesis.\n",
    "- Write down your observations in the end."
   ]
  },
  {
   "cell_type": "markdown",
   "id": "ae3dfabc",
   "metadata": {},
   "source": [
    "**Import Necessary Libraries**"
   ]
  },
  {
   "cell_type": "code",
   "execution_count": 3,
   "id": "55ce8a7f",
   "metadata": {},
   "outputs": [],
   "source": [
    "import pandas as pd\n",
    "import numpy as np\n",
    "from scipy import stats as st"
   ]
  },
  {
   "cell_type": "markdown",
   "id": "659d9a03",
   "metadata": {},
   "source": [
    "**Define hypothesis**\n",
    "\n"
   ]
  },
  {
   "cell_type": "markdown",
   "id": "e384e6b3",
   "metadata": {},
   "source": [
    "H0 - design B doesnt lead to higher time spend\n",
    "H1 - design B leads to higher time spend"
   ]
  },
  {
   "cell_type": "markdown",
   "id": "701b1225",
   "metadata": {},
   "source": [
    "**1: Load the datasets**"
   ]
  },
  {
   "cell_type": "code",
   "execution_count": 6,
   "id": "091fccee",
   "metadata": {},
   "outputs": [
    {
     "data": {
      "text/html": [
       "<div>\n",
       "<style scoped>\n",
       "    .dataframe tbody tr th:only-of-type {\n",
       "        vertical-align: middle;\n",
       "    }\n",
       "\n",
       "    .dataframe tbody tr th {\n",
       "        vertical-align: top;\n",
       "    }\n",
       "\n",
       "    .dataframe thead th {\n",
       "        text-align: right;\n",
       "    }\n",
       "</style>\n",
       "<table border=\"1\" class=\"dataframe\">\n",
       "  <thead>\n",
       "    <tr style=\"text-align: right;\">\n",
       "      <th></th>\n",
       "      <th>user_id</th>\n",
       "      <th>time_spent_minutes</th>\n",
       "    </tr>\n",
       "  </thead>\n",
       "  <tbody>\n",
       "    <tr>\n",
       "      <th>0</th>\n",
       "      <td>T001</td>\n",
       "      <td>7.49</td>\n",
       "    </tr>\n",
       "    <tr>\n",
       "      <th>1</th>\n",
       "      <td>T002</td>\n",
       "      <td>7.37</td>\n",
       "    </tr>\n",
       "    <tr>\n",
       "      <th>2</th>\n",
       "      <td>T003</td>\n",
       "      <td>7.32</td>\n",
       "    </tr>\n",
       "    <tr>\n",
       "      <th>3</th>\n",
       "      <td>T004</td>\n",
       "      <td>6.85</td>\n",
       "    </tr>\n",
       "    <tr>\n",
       "      <th>4</th>\n",
       "      <td>T005</td>\n",
       "      <td>7.10</td>\n",
       "    </tr>\n",
       "    <tr>\n",
       "      <th>...</th>\n",
       "      <td>...</td>\n",
       "      <td>...</td>\n",
       "    </tr>\n",
       "    <tr>\n",
       "      <th>95</th>\n",
       "      <td>T096</td>\n",
       "      <td>8.27</td>\n",
       "    </tr>\n",
       "    <tr>\n",
       "      <th>96</th>\n",
       "      <td>T097</td>\n",
       "      <td>7.79</td>\n",
       "    </tr>\n",
       "    <tr>\n",
       "      <th>97</th>\n",
       "      <td>T098</td>\n",
       "      <td>8.99</td>\n",
       "    </tr>\n",
       "    <tr>\n",
       "      <th>98</th>\n",
       "      <td>T099</td>\n",
       "      <td>7.12</td>\n",
       "    </tr>\n",
       "    <tr>\n",
       "      <th>99</th>\n",
       "      <td>T100</td>\n",
       "      <td>8.79</td>\n",
       "    </tr>\n",
       "  </tbody>\n",
       "</table>\n",
       "<p>100 rows × 2 columns</p>\n",
       "</div>"
      ],
      "text/plain": [
       "   user_id  time_spent_minutes\n",
       "0     T001                7.49\n",
       "1     T002                7.37\n",
       "2     T003                7.32\n",
       "3     T004                6.85\n",
       "4     T005                7.10\n",
       "..     ...                 ...\n",
       "95    T096                8.27\n",
       "96    T097                7.79\n",
       "97    T098                8.99\n",
       "98    T099                7.12\n",
       "99    T100                8.79\n",
       "\n",
       "[100 rows x 2 columns]"
      ]
     },
     "execution_count": 6,
     "metadata": {},
     "output_type": "execute_result"
    }
   ],
   "source": [
    "df_a = pd.read_csv(\"..\\\\datasets\\\\current_design.csv\")\n",
    "df_b = pd.read_csv(\"..\\\\datasets\\\\new_design.csv\")\n",
    "\n",
    "df_b"
   ]
  },
  {
   "cell_type": "markdown",
   "id": "66ef2266",
   "metadata": {},
   "source": [
    "**2: Calculate the mean and standard deviation of the time spent for both designs.**"
   ]
  },
  {
   "cell_type": "code",
   "execution_count": 7,
   "id": "c074aa36",
   "metadata": {},
   "outputs": [
    {
     "data": {
      "text/plain": [
       "(6.015199999999998, 0.6182550877553322)"
      ]
     },
     "execution_count": 7,
     "metadata": {},
     "output_type": "execute_result"
    }
   ],
   "source": [
    "#control statistics\n",
    "mean_a = df_a[\"time_spent_minutes\"].mean()\n",
    "std_a = df_a[\"time_spent_minutes\"].std()\n",
    "mean_a, std_a"
   ]
  },
  {
   "cell_type": "code",
   "execution_count": 8,
   "id": "bbadf26f",
   "metadata": {},
   "outputs": [
    {
     "data": {
      "text/plain": [
       "(8.062599999999998, 0.9025257711981236)"
      ]
     },
     "execution_count": 8,
     "metadata": {},
     "output_type": "execute_result"
    }
   ],
   "source": [
    "#test statistics\n",
    "mean_b = df_b[\"time_spent_minutes\"].mean()\n",
    "std_b = df_b[\"time_spent_minutes\"].std()\n",
    "mean_b, std_b"
   ]
  },
  {
   "cell_type": "markdown",
   "id": "534af8ed",
   "metadata": {},
   "source": [
    "**3: Test using rejection region (i.e. critical z value)**"
   ]
  },
  {
   "cell_type": "code",
   "execution_count": 11,
   "id": "c29a8a53",
   "metadata": {},
   "outputs": [
    {
     "data": {
      "text/plain": [
       "(0.0038223935353535353, 0.008145527676767678)"
      ]
     },
     "execution_count": 11,
     "metadata": {},
     "output_type": "execute_result"
    }
   ],
   "source": [
    "a = std_a**2/df_a.shape[0]\n",
    "b = std_b**2/df_b.shape[0]\n",
    "a, b"
   ]
  },
  {
   "cell_type": "code",
   "execution_count": 18,
   "id": "b0af8b96",
   "metadata": {},
   "outputs": [
    {
     "data": {
      "text/plain": [
       "18.715151117476786"
      ]
     },
     "execution_count": 18,
     "metadata": {},
     "output_type": "execute_result"
    }
   ],
   "source": [
    "z_score = (mean_b - mean_a) / np.sqrt(a+b)\n",
    "z_score"
   ]
  },
  {
   "cell_type": "code",
   "execution_count": 19,
   "id": "ea9c7905",
   "metadata": {},
   "outputs": [
    {
     "data": {
      "text/plain": [
       "1.6448536269514722"
      ]
     },
     "execution_count": 19,
     "metadata": {},
     "output_type": "execute_result"
    }
   ],
   "source": [
    "alpha = 0.05\n",
    "\n",
    "z_critical_value = st.norm.ppf(1 - alpha)\n",
    "z_critical_value"
   ]
  },
  {
   "cell_type": "code",
   "execution_count": 21,
   "id": "05f30303",
   "metadata": {},
   "outputs": [
    {
     "data": {
      "text/plain": [
       "True"
      ]
     },
     "execution_count": 21,
     "metadata": {},
     "output_type": "execute_result"
    }
   ],
   "source": [
    "z_score > z_critical_value"
   ]
  },
  {
   "cell_type": "code",
   "execution_count": 16,
   "id": "9f6ac35f",
   "metadata": {},
   "outputs": [
    {
     "data": {
      "text/plain": [
       "1.8628166660545397e-78"
      ]
     },
     "execution_count": 16,
     "metadata": {},
     "output_type": "execute_result"
    }
   ],
   "source": [
    "p_value = st.norm.cdf(z_score)\n",
    "p_value"
   ]
  },
  {
   "cell_type": "code",
   "execution_count": 17,
   "id": "74271577",
   "metadata": {},
   "outputs": [
    {
     "data": {
      "text/plain": [
       "True"
      ]
     },
     "execution_count": 17,
     "metadata": {},
     "output_type": "execute_result"
    }
   ],
   "source": [
    "p_value < alpha"
   ]
  },
  {
   "cell_type": "markdown",
   "id": "768ad5cb",
   "metadata": {},
   "source": [
    "### Observations and Conclusion\n",
    "\n",
    "- As you can see above, since the Z score is higher than the critical z value, it falls inside the rejection region. Hence we will reject our null hypothesis and accept the alternate hypothesis that Design B leads to a higher average time spent on the website compared to Design A"
   ]
  },
  {
   "cell_type": "markdown",
   "id": "e373ebfd",
   "metadata": {},
   "source": [
    "## t-test"
   ]
  },
  {
   "cell_type": "code",
   "execution_count": 25,
   "id": "caa30531",
   "metadata": {},
   "outputs": [
    {
     "name": "stdout",
     "output_type": "stream",
     "text": [
      "T-stat: 18.715, P-value: 0.00000\n",
      "Reject H0\n"
     ]
    }
   ],
   "source": [
    "from scipy.stats import ttest_ind\n",
    "\n",
    "t_stat, p_value = ttest_ind(df_b[\"time_spent_minutes\"],\n",
    "                            df_a[\"time_spent_minutes\"],\n",
    "                            ) \n",
    "print(f\"T-stat: {t_stat:.3f}, P-value: {p_value:.5f}\")\n",
    "print(\"Reject H0\" if p_value < 0.05 else \"Fail to reject H0\")\n"
   ]
  },
  {
   "cell_type": "markdown",
   "id": "eb6fbe29",
   "metadata": {},
   "source": [
    "Based on the t-test results (T-stat = 18.715, p < 0.00001), we reject the null hypothesis and conclude that users spend significantly more time on the website with Design B compared to Design A. This suggests that the new design successfully increases user engagement."
   ]
  },
  {
   "cell_type": "markdown",
   "id": "a8fa86f2",
   "metadata": {},
   "source": []
  }
 ],
 "metadata": {
  "kernelspec": {
   "display_name": "Python 3",
   "language": "python",
   "name": "python3"
  },
  "language_info": {
   "codemirror_mode": {
    "name": "ipython",
    "version": 3
   },
   "file_extension": ".py",
   "mimetype": "text/x-python",
   "name": "python",
   "nbconvert_exporter": "python",
   "pygments_lexer": "ipython3",
   "version": "3.11.3"
  }
 },
 "nbformat": 4,
 "nbformat_minor": 5
}
