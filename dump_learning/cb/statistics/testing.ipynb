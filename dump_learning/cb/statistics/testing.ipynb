{
 "cells": [
  {
   "cell_type": "code",
   "execution_count": 4,
   "id": "42e7a34d",
   "metadata": {},
   "outputs": [],
   "source": [
    "import pandas as pd\n",
    "import numpy as np"
   ]
  },
  {
   "cell_type": "code",
   "execution_count": 2,
   "id": "c1679cfd",
   "metadata": {},
   "outputs": [
    {
     "data": {
      "text/html": [
       "<div>\n",
       "<style scoped>\n",
       "    .dataframe tbody tr th:only-of-type {\n",
       "        vertical-align: middle;\n",
       "    }\n",
       "\n",
       "    .dataframe tbody tr th {\n",
       "        vertical-align: top;\n",
       "    }\n",
       "\n",
       "    .dataframe thead th {\n",
       "        text-align: right;\n",
       "    }\n",
       "</style>\n",
       "<table border=\"1\" class=\"dataframe\">\n",
       "  <thead>\n",
       "    <tr style=\"text-align: right;\">\n",
       "      <th></th>\n",
       "      <th>name</th>\n",
       "      <th>score</th>\n",
       "    </tr>\n",
       "  </thead>\n",
       "  <tbody>\n",
       "    <tr>\n",
       "      <th>0</th>\n",
       "      <td>Rishi</td>\n",
       "      <td>78</td>\n",
       "    </tr>\n",
       "    <tr>\n",
       "      <th>1</th>\n",
       "      <td>Arjun</td>\n",
       "      <td>71</td>\n",
       "    </tr>\n",
       "    <tr>\n",
       "      <th>2</th>\n",
       "      <td>Lakshmi</td>\n",
       "      <td>68</td>\n",
       "    </tr>\n",
       "    <tr>\n",
       "      <th>3</th>\n",
       "      <td>Aditi</td>\n",
       "      <td>81</td>\n",
       "    </tr>\n",
       "    <tr>\n",
       "      <th>4</th>\n",
       "      <td>Aisha</td>\n",
       "      <td>85</td>\n",
       "    </tr>\n",
       "    <tr>\n",
       "      <th>5</th>\n",
       "      <td>Ethan</td>\n",
       "      <td>84</td>\n",
       "    </tr>\n",
       "    <tr>\n",
       "      <th>6</th>\n",
       "      <td>Isha</td>\n",
       "      <td>67</td>\n",
       "    </tr>\n",
       "    <tr>\n",
       "      <th>7</th>\n",
       "      <td>Meera</td>\n",
       "      <td>72</td>\n",
       "    </tr>\n",
       "    <tr>\n",
       "      <th>8</th>\n",
       "      <td>Priya</td>\n",
       "      <td>78</td>\n",
       "    </tr>\n",
       "    <tr>\n",
       "      <th>9</th>\n",
       "      <td>Chloe</td>\n",
       "      <td>85</td>\n",
       "    </tr>\n",
       "    <tr>\n",
       "      <th>10</th>\n",
       "      <td>Ananya</td>\n",
       "      <td>70</td>\n",
       "    </tr>\n",
       "    <tr>\n",
       "      <th>11</th>\n",
       "      <td>Sanjay</td>\n",
       "      <td>73</td>\n",
       "    </tr>\n",
       "    <tr>\n",
       "      <th>12</th>\n",
       "      <td>Sophia</td>\n",
       "      <td>64</td>\n",
       "    </tr>\n",
       "    <tr>\n",
       "      <th>13</th>\n",
       "      <td>Vivek</td>\n",
       "      <td>63</td>\n",
       "    </tr>\n",
       "    <tr>\n",
       "      <th>14</th>\n",
       "      <td>Anil</td>\n",
       "      <td>83</td>\n",
       "    </tr>\n",
       "    <tr>\n",
       "      <th>15</th>\n",
       "      <td>Neha</td>\n",
       "      <td>89</td>\n",
       "    </tr>\n",
       "    <tr>\n",
       "      <th>16</th>\n",
       "      <td>Rohan</td>\n",
       "      <td>74</td>\n",
       "    </tr>\n",
       "    <tr>\n",
       "      <th>17</th>\n",
       "      <td>Robert</td>\n",
       "      <td>85</td>\n",
       "    </tr>\n",
       "    <tr>\n",
       "      <th>18</th>\n",
       "      <td>Emily</td>\n",
       "      <td>79</td>\n",
       "    </tr>\n",
       "    <tr>\n",
       "      <th>19</th>\n",
       "      <td>Simran</td>\n",
       "      <td>69</td>\n",
       "    </tr>\n",
       "  </tbody>\n",
       "</table>\n",
       "</div>"
      ],
      "text/plain": [
       "       name  score\n",
       "0     Rishi     78\n",
       "1     Arjun     71\n",
       "2   Lakshmi     68\n",
       "3     Aditi     81\n",
       "4     Aisha     85\n",
       "5     Ethan     84\n",
       "6      Isha     67\n",
       "7     Meera     72\n",
       "8     Priya     78\n",
       "9     Chloe     85\n",
       "10   Ananya     70\n",
       "11   Sanjay     73\n",
       "12   Sophia     64\n",
       "13    Vivek     63\n",
       "14     Anil     83\n",
       "15     Neha     89\n",
       "16    Rohan     74\n",
       "17   Robert     85\n",
       "18    Emily     79\n",
       "19   Simran     69"
      ]
     },
     "execution_count": 2,
     "metadata": {},
     "output_type": "execute_result"
    }
   ],
   "source": [
    "df = pd.read_csv(\"..\\\\datasets\\\\exam_scores.csv\")\n",
    "df"
   ]
  },
  {
   "cell_type": "code",
   "execution_count": 6,
   "id": "144e065c",
   "metadata": {},
   "outputs": [],
   "source": [
    "population_mean = 72"
   ]
  },
  {
   "cell_type": "code",
   "execution_count": 3,
   "id": "793c4d07",
   "metadata": {},
   "outputs": [
    {
     "data": {
      "text/plain": [
       "(75.9, 20, 7.826406044855286)"
      ]
     },
     "execution_count": 3,
     "metadata": {},
     "output_type": "execute_result"
    }
   ],
   "source": [
    "sample_mean = df[\"score\"].mean()\n",
    "sample_std = df[\"score\"].std()\n",
    "sample_size = df.shape[0]\n",
    "sample_mean, sample_size, sample_std"
   ]
  },
  {
   "cell_type": "code",
   "execution_count": 5,
   "id": "9e258fbd",
   "metadata": {},
   "outputs": [
    {
     "data": {
      "text/plain": [
       "1.7500375935811687"
      ]
     },
     "execution_count": 5,
     "metadata": {},
     "output_type": "execute_result"
    }
   ],
   "source": [
    "sample_standard_error = sample_std / (np.sqrt(sample_size))\n",
    "sample_standard_error"
   ]
  },
  {
   "cell_type": "code",
   "execution_count": 7,
   "id": "aa4613c0",
   "metadata": {},
   "outputs": [
    {
     "data": {
      "text/plain": [
       "2.2285235553250526"
      ]
     },
     "execution_count": 7,
     "metadata": {},
     "output_type": "execute_result"
    }
   ],
   "source": [
    "t_stats = (sample_mean - population_mean) / sample_standard_error\n",
    "t_stats"
   ]
  },
  {
   "cell_type": "code",
   "execution_count": 8,
   "id": "67e59019",
   "metadata": {},
   "outputs": [],
   "source": [
    "t_critical = 1.729"
   ]
  },
  {
   "cell_type": "code",
   "execution_count": 9,
   "id": "60834563",
   "metadata": {},
   "outputs": [],
   "source": [
    "from scipy import stats"
   ]
  },
  {
   "cell_type": "code",
   "execution_count": 10,
   "id": "c618d580",
   "metadata": {},
   "outputs": [
    {
     "data": {
      "text/plain": [
       "(2.228523555325052, 0.019059543933267798)"
      ]
     },
     "execution_count": 10,
     "metadata": {},
     "output_type": "execute_result"
    }
   ],
   "source": [
    "t_stat_one_sample , p_value_one_sample = stats.ttest_1samp(df[\"score\"], population_mean, alternative=\"greater\")\n",
    "t_stat_one_sample, p_value_one_sample"
   ]
  },
  {
   "cell_type": "code",
   "execution_count": 11,
   "id": "9ac22859",
   "metadata": {},
   "outputs": [
    {
     "data": {
      "text/plain": [
       "True"
      ]
     },
     "execution_count": 11,
     "metadata": {},
     "output_type": "execute_result"
    }
   ],
   "source": [
    "p_value_one_sample < 0.05"
   ]
  },
  {
   "cell_type": "code",
   "execution_count": 13,
   "id": "2127a7cd",
   "metadata": {},
   "outputs": [
    {
     "name": "stdout",
     "output_type": "stream",
     "text": [
      "Chi2: 12.033333333333333\n",
      "p-value: 0.0005225753951242464\n",
      "Degrees of freedom: 1\n",
      "Expected table:\n",
      "[[30. 30.]\n",
      " [30. 30.]]\n"
     ]
    }
   ],
   "source": [
    "\n",
    "# Tworzymy tabelę kontyngencji\n",
    "data = [[40, 20],\n",
    "        [20, 40]]\n",
    "\n",
    "# Test chi-kwadrat\n",
    "chi2, p, dof, expected = stats.chi2_contingency(data)\n",
    "\n",
    "print(f\"Chi2: {chi2}\")\n",
    "print(f\"p-value: {p}\")\n",
    "print(f\"Degrees of freedom: {dof}\")\n",
    "print(\"Expected table:\")\n",
    "print(expected)\n"
   ]
  },
  {
   "cell_type": "code",
   "execution_count": 14,
   "id": "ef77af27",
   "metadata": {},
   "outputs": [],
   "source": [
    "expected = np.array([40,60,30,70])\n",
    "sales = np.array([45,55,35,65])"
   ]
  },
  {
   "cell_type": "code",
   "execution_count": 16,
   "id": "ffd76fd2",
   "metadata": {},
   "outputs": [
    {
     "data": {
      "text/plain": [
       "(2.232142857142857, 0.5256450109609307)"
      ]
     },
     "execution_count": 16,
     "metadata": {},
     "output_type": "execute_result"
    }
   ],
   "source": [
    "chi_stat, p_value = stats.chisquare(sales, expected)\n",
    "chi_stat, p_value"
   ]
  },
  {
   "cell_type": "code",
   "execution_count": 17,
   "id": "0e12b3b5",
   "metadata": {},
   "outputs": [
    {
     "data": {
      "text/plain": [
       "False"
      ]
     },
     "execution_count": 17,
     "metadata": {},
     "output_type": "execute_result"
    }
   ],
   "source": [
    "p_value < 0.05"
   ]
  },
  {
   "cell_type": "code",
   "execution_count": 18,
   "id": "38bc4f0f",
   "metadata": {},
   "outputs": [
    {
     "name": "stdout",
     "output_type": "stream",
     "text": [
      "Chi2: 15.930923150510196\n",
      "p-value: 6.569655956344659e-05\n",
      "Degrees of freedom: 1\n",
      "Expected table:\n",
      "[[37.33333333 32.66666667]\n",
      " [42.66666667 37.33333333]]\n"
     ]
    }
   ],
   "source": [
    "data = [[50, 20],\n",
    "        [30, 50]]\n",
    "\n",
    "chi2, p, dof, expected = stats.chi2_contingency(data)\n",
    "\n",
    "print(f\"Chi2: {chi2}\")\n",
    "print(f\"p-value: {p}\")\n",
    "print(f\"Degrees of freedom: {dof}\")\n",
    "print(\"Expected table:\")\n",
    "print(expected)\n"
   ]
  },
  {
   "cell_type": "code",
   "execution_count": 19,
   "id": "a516c37f",
   "metadata": {},
   "outputs": [
    {
     "data": {
      "text/plain": [
       "True"
      ]
     },
     "execution_count": 19,
     "metadata": {},
     "output_type": "execute_result"
    }
   ],
   "source": [
    "p < 0.05"
   ]
  },
  {
   "cell_type": "code",
   "execution_count": 20,
   "id": "6574c4ef",
   "metadata": {},
   "outputs": [
    {
     "data": {
      "text/plain": [
       "Chi2ContingencyResult(statistic=15.930923150510196, pvalue=6.569655956344659e-05, dof=1, expected_freq=array([[37.33333333, 32.66666667],\n",
       "       [42.66666667, 37.33333333]]))"
      ]
     },
     "execution_count": 20,
     "metadata": {},
     "output_type": "execute_result"
    }
   ],
   "source": [
    "stats.chi2_contingency(data)"
   ]
  },
  {
   "cell_type": "code",
   "execution_count": null,
   "id": "52b91f7e",
   "metadata": {},
   "outputs": [],
   "source": []
  }
 ],
 "metadata": {
  "kernelspec": {
   "display_name": "Python 3",
   "language": "python",
   "name": "python3"
  },
  "language_info": {
   "codemirror_mode": {
    "name": "ipython",
    "version": 3
   },
   "file_extension": ".py",
   "mimetype": "text/x-python",
   "name": "python",
   "nbconvert_exporter": "python",
   "pygments_lexer": "ipython3",
   "version": "3.11.3"
  }
 },
 "nbformat": 4,
 "nbformat_minor": 5
}
