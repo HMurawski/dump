{
 "cells": [
  {
   "cell_type": "code",
   "execution_count": 1,
   "id": "ece8dad1",
   "metadata": {},
   "outputs": [],
   "source": [
    "import pandas as pd\n",
    "from scipy import stats\n",
    "import numpy as np"
   ]
  },
  {
   "cell_type": "code",
   "execution_count": 3,
   "id": "03b856c8",
   "metadata": {},
   "outputs": [],
   "source": [
    "df_control = pd.read_csv(\"..\\\\datasets\\\\control_group.csv\")\n",
    "df_test = pd.read_csv(\"..\\\\datasets\\\\test_group.csv\")"
   ]
  },
  {
   "cell_type": "code",
   "execution_count": 4,
   "id": "25d67dd1",
   "metadata": {},
   "outputs": [
    {
     "data": {
      "text/html": [
       "<div>\n",
       "<style scoped>\n",
       "    .dataframe tbody tr th:only-of-type {\n",
       "        vertical-align: middle;\n",
       "    }\n",
       "\n",
       "    .dataframe tbody tr th {\n",
       "        vertical-align: top;\n",
       "    }\n",
       "\n",
       "    .dataframe thead th {\n",
       "        text-align: right;\n",
       "    }\n",
       "</style>\n",
       "<table border=\"1\" class=\"dataframe\">\n",
       "  <thead>\n",
       "    <tr style=\"text-align: right;\">\n",
       "      <th></th>\n",
       "      <th>person_id</th>\n",
       "      <th>recovery_time_hrs</th>\n",
       "    </tr>\n",
       "  </thead>\n",
       "  <tbody>\n",
       "    <tr>\n",
       "      <th>0</th>\n",
       "      <td>C001</td>\n",
       "      <td>4.4</td>\n",
       "    </tr>\n",
       "    <tr>\n",
       "      <th>1</th>\n",
       "      <td>C002</td>\n",
       "      <td>4.1</td>\n",
       "    </tr>\n",
       "    <tr>\n",
       "      <th>2</th>\n",
       "      <td>C003</td>\n",
       "      <td>3.2</td>\n",
       "    </tr>\n",
       "    <tr>\n",
       "      <th>3</th>\n",
       "      <td>C004</td>\n",
       "      <td>4.3</td>\n",
       "    </tr>\n",
       "    <tr>\n",
       "      <th>4</th>\n",
       "      <td>C005</td>\n",
       "      <td>4.9</td>\n",
       "    </tr>\n",
       "  </tbody>\n",
       "</table>\n",
       "</div>"
      ],
      "text/plain": [
       "  person_id  recovery_time_hrs\n",
       "0      C001                4.4\n",
       "1      C002                4.1\n",
       "2      C003                3.2\n",
       "3      C004                4.3\n",
       "4      C005                4.9"
      ]
     },
     "execution_count": 4,
     "metadata": {},
     "output_type": "execute_result"
    }
   ],
   "source": [
    "df_control.head()\n"
   ]
  },
  {
   "cell_type": "code",
   "execution_count": 5,
   "id": "6b84e2bb",
   "metadata": {},
   "outputs": [
    {
     "data": {
      "text/html": [
       "<div>\n",
       "<style scoped>\n",
       "    .dataframe tbody tr th:only-of-type {\n",
       "        vertical-align: middle;\n",
       "    }\n",
       "\n",
       "    .dataframe tbody tr th {\n",
       "        vertical-align: top;\n",
       "    }\n",
       "\n",
       "    .dataframe thead th {\n",
       "        text-align: right;\n",
       "    }\n",
       "</style>\n",
       "<table border=\"1\" class=\"dataframe\">\n",
       "  <thead>\n",
       "    <tr style=\"text-align: right;\">\n",
       "      <th></th>\n",
       "      <th>person_id</th>\n",
       "      <th>recovery_time_hrs</th>\n",
       "    </tr>\n",
       "  </thead>\n",
       "  <tbody>\n",
       "    <tr>\n",
       "      <th>0</th>\n",
       "      <td>T001</td>\n",
       "      <td>3.7</td>\n",
       "    </tr>\n",
       "    <tr>\n",
       "      <th>1</th>\n",
       "      <td>T002</td>\n",
       "      <td>4.1</td>\n",
       "    </tr>\n",
       "    <tr>\n",
       "      <th>2</th>\n",
       "      <td>T003</td>\n",
       "      <td>3.7</td>\n",
       "    </tr>\n",
       "    <tr>\n",
       "      <th>3</th>\n",
       "      <td>T004</td>\n",
       "      <td>3.9</td>\n",
       "    </tr>\n",
       "    <tr>\n",
       "      <th>4</th>\n",
       "      <td>T005</td>\n",
       "      <td>3.7</td>\n",
       "    </tr>\n",
       "  </tbody>\n",
       "</table>\n",
       "</div>"
      ],
      "text/plain": [
       "  person_id  recovery_time_hrs\n",
       "0      T001                3.7\n",
       "1      T002                4.1\n",
       "2      T003                3.7\n",
       "3      T004                3.9\n",
       "4      T005                3.7"
      ]
     },
     "execution_count": 5,
     "metadata": {},
     "output_type": "execute_result"
    }
   ],
   "source": [
    "df_test.head()"
   ]
  },
  {
   "cell_type": "code",
   "execution_count": 6,
   "id": "f4158d7b",
   "metadata": {},
   "outputs": [
    {
     "name": "stdout",
     "output_type": "stream",
     "text": [
      "4.000769230769231 130 0.4795825306420972\n"
     ]
    }
   ],
   "source": [
    "control_mean = df_control[\"recovery_time_hrs\"].mean()\n",
    "control_std = df_control[\"recovery_time_hrs\"].std()\n",
    "control_size = df_control.shape[0]\n",
    "\n",
    "print(control_mean, control_size, control_std)"
   ]
  },
  {
   "cell_type": "code",
   "execution_count": 7,
   "id": "0da370f5",
   "metadata": {},
   "outputs": [
    {
     "name": "stdout",
     "output_type": "stream",
     "text": [
      "3.9119999999999995 100 0.31567788210852726\n"
     ]
    }
   ],
   "source": [
    "test_mean = df_test[\"recovery_time_hrs\"].mean()\n",
    "test_std = df_test[\"recovery_time_hrs\"].std()\n",
    "test_size = df_test.shape[0]\n",
    "\n",
    "print(test_mean, test_size, test_std)"
   ]
  },
  {
   "cell_type": "code",
   "execution_count": 8,
   "id": "7e098cf6",
   "metadata": {},
   "outputs": [],
   "source": [
    "a = control_std**2/control_size\n",
    "b = test_std**2/test_size"
   ]
  },
  {
   "cell_type": "code",
   "execution_count": 9,
   "id": "28d4738c",
   "metadata": {},
   "outputs": [
    {
     "data": {
      "text/plain": [
       "1.6879356404646"
      ]
     },
     "execution_count": 9,
     "metadata": {},
     "output_type": "execute_result"
    }
   ],
   "source": [
    "z_score = (control_mean - test_mean) / np.sqrt(a+b)\n",
    "z_score"
   ]
  },
  {
   "cell_type": "code",
   "execution_count": 10,
   "id": "7d2b4558",
   "metadata": {},
   "outputs": [
    {
     "data": {
      "text/plain": [
       "1.6448536269514722"
      ]
     },
     "execution_count": 10,
     "metadata": {},
     "output_type": "execute_result"
    }
   ],
   "source": [
    "alpha = 0.05\n",
    "critical_z_value = stats.norm.ppf(1 - alpha)\n",
    "critical_z_value"
   ]
  },
  {
   "cell_type": "code",
   "execution_count": 11,
   "id": "b6f8d2ca",
   "metadata": {},
   "outputs": [
    {
     "data": {
      "text/plain": [
       "True"
      ]
     },
     "execution_count": 11,
     "metadata": {},
     "output_type": "execute_result"
    }
   ],
   "source": [
    "z_score > critical_z_value"
   ]
  },
  {
   "cell_type": "code",
   "execution_count": 12,
   "id": "35c56df2",
   "metadata": {},
   "outputs": [
    {
     "data": {
      "text/plain": [
       "0.0457117920646507"
      ]
     },
     "execution_count": 12,
     "metadata": {},
     "output_type": "execute_result"
    }
   ],
   "source": [
    "p_value = 1 - stats.norm.cdf(z_score)\n",
    "p_value"
   ]
  },
  {
   "cell_type": "code",
   "execution_count": 13,
   "id": "5657e5a4",
   "metadata": {},
   "outputs": [
    {
     "data": {
      "text/plain": [
       "True"
      ]
     },
     "execution_count": 13,
     "metadata": {},
     "output_type": "execute_result"
    }
   ],
   "source": [
    "p_value < alpha"
   ]
  },
  {
   "cell_type": "code",
   "execution_count": 14,
   "id": "bb67df39",
   "metadata": {},
   "outputs": [
    {
     "name": "stdout",
     "output_type": "stream",
     "text": [
      "T-stat: 1.688, P-value: 0.09282\n",
      "Fail to reject H0\n"
     ]
    }
   ],
   "source": [
    "from scipy.stats import ttest_ind\n",
    "\n",
    "t_stat, p_value = ttest_ind(df_control[\"recovery_time_hrs\"],\n",
    "                            df_test[\"recovery_time_hrs\"],\n",
    "                            equal_var=False)  # Welch's t-test\n",
    "\n",
    "print(f\"T-stat: {t_stat:.3f}, P-value: {p_value:.5f}\")\n",
    "print(\"Reject H0\" if p_value < 0.05 else \"Fail to reject H0\")\n"
   ]
  },
  {
   "cell_type": "code",
   "execution_count": null,
   "id": "78c3c4e3",
   "metadata": {},
   "outputs": [],
   "source": []
  }
 ],
 "metadata": {
  "kernelspec": {
   "display_name": "Python 3",
   "language": "python",
   "name": "python3"
  },
  "language_info": {
   "codemirror_mode": {
    "name": "ipython",
    "version": 3
   },
   "file_extension": ".py",
   "mimetype": "text/x-python",
   "name": "python",
   "nbconvert_exporter": "python",
   "pygments_lexer": "ipython3",
   "version": "3.11.3"
  }
 },
 "nbformat": 4,
 "nbformat_minor": 5
}
