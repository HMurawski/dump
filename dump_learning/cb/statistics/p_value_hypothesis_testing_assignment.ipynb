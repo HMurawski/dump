{
 "cells": [
  {
   "cell_type": "markdown",
   "id": "cc95e533",
   "metadata": {},
   "source": [
    "## Problem Statement\n",
    "\n",
    "A company has recently implemented a new marketing campaign for one of its products. The company wants to assess if this campaign has significantly increased the product's average monthly sales by more than 15%.\n",
    "To evaluate the impact of this campaign, the company has compiled a sample dataset named **\"monthly_sales_data.csv\"**. It contains the following columns:\n",
    "\n",
    "- **product_id:** A unique identifier for each product.\n",
    "- **sales_increase_pct:** The percentage increase in monthly sales for each product as a result of the new marketing campaign.\n",
    "\n",
    "\n",
    "The primary goal of the analysis is to determine whether this campaign increased the product's average monthly sales by more than 15%.\n"
   ]
  },
  {
   "cell_type": "code",
   "execution_count": 19,
   "id": "61a244f1",
   "metadata": {},
   "outputs": [],
   "source": [
    "#given population parameters\n",
    "\n",
    "population_mean = 15  #(This implies that before the new campaign, the average increase in sales was around 12%)\n",
    "population_std_dev = 5  #(variability)"
   ]
  },
  {
   "cell_type": "code",
   "execution_count": null,
   "id": "f40f9bb8",
   "metadata": {},
   "outputs": [],
   "source": []
  },
  {
   "cell_type": "markdown",
   "id": "fa078eaf",
   "metadata": {},
   "source": [
    "**Import Necessary Libraries**"
   ]
  },
  {
   "cell_type": "code",
   "execution_count": 1,
   "id": "a54057a8",
   "metadata": {},
   "outputs": [],
   "source": [
    "import pandas as pd\n",
    "import numpy as np\n",
    "from scipy import stats"
   ]
  },
  {
   "cell_type": "markdown",
   "id": "0386ef8f",
   "metadata": {},
   "source": [
    "### Task1: Data Import\n",
    "\n",
    "1. Import the data from the \"monthly_sales_data.csv\" file.\n",
    "2. display the number of rows and columns. \n",
    "3. Display the first few rows of the dataset to get an overview.\n"
   ]
  },
  {
   "cell_type": "code",
   "execution_count": 2,
   "id": "cb9e0ad1",
   "metadata": {},
   "outputs": [
    {
     "data": {
      "text/html": [
       "<div>\n",
       "<style scoped>\n",
       "    .dataframe tbody tr th:only-of-type {\n",
       "        vertical-align: middle;\n",
       "    }\n",
       "\n",
       "    .dataframe tbody tr th {\n",
       "        vertical-align: top;\n",
       "    }\n",
       "\n",
       "    .dataframe thead th {\n",
       "        text-align: right;\n",
       "    }\n",
       "</style>\n",
       "<table border=\"1\" class=\"dataframe\">\n",
       "  <thead>\n",
       "    <tr style=\"text-align: right;\">\n",
       "      <th></th>\n",
       "      <th>product_id</th>\n",
       "      <th>sales_increase_pct</th>\n",
       "    </tr>\n",
       "  </thead>\n",
       "  <tbody>\n",
       "    <tr>\n",
       "      <th>0</th>\n",
       "      <td>P0001</td>\n",
       "      <td>19.23</td>\n",
       "    </tr>\n",
       "    <tr>\n",
       "      <th>1</th>\n",
       "      <td>P0002</td>\n",
       "      <td>25.47</td>\n",
       "    </tr>\n",
       "    <tr>\n",
       "      <th>2</th>\n",
       "      <td>P0003</td>\n",
       "      <td>19.16</td>\n",
       "    </tr>\n",
       "    <tr>\n",
       "      <th>3</th>\n",
       "      <td>P0004</td>\n",
       "      <td>17.77</td>\n",
       "    </tr>\n",
       "    <tr>\n",
       "      <th>4</th>\n",
       "      <td>P0005</td>\n",
       "      <td>11.35</td>\n",
       "    </tr>\n",
       "    <tr>\n",
       "      <th>...</th>\n",
       "      <td>...</td>\n",
       "      <td>...</td>\n",
       "    </tr>\n",
       "    <tr>\n",
       "      <th>95</th>\n",
       "      <td>P0096</td>\n",
       "      <td>18.52</td>\n",
       "    </tr>\n",
       "    <tr>\n",
       "      <th>96</th>\n",
       "      <td>P0097</td>\n",
       "      <td>19.75</td>\n",
       "    </tr>\n",
       "    <tr>\n",
       "      <th>97</th>\n",
       "      <td>P0098</td>\n",
       "      <td>16.45</td>\n",
       "    </tr>\n",
       "    <tr>\n",
       "      <th>98</th>\n",
       "      <td>P0099</td>\n",
       "      <td>12.95</td>\n",
       "    </tr>\n",
       "    <tr>\n",
       "      <th>99</th>\n",
       "      <td>P0100</td>\n",
       "      <td>20.03</td>\n",
       "    </tr>\n",
       "  </tbody>\n",
       "</table>\n",
       "<p>100 rows × 2 columns</p>\n",
       "</div>"
      ],
      "text/plain": [
       "   product_id  sales_increase_pct\n",
       "0       P0001               19.23\n",
       "1       P0002               25.47\n",
       "2       P0003               19.16\n",
       "3       P0004               17.77\n",
       "4       P0005               11.35\n",
       "..        ...                 ...\n",
       "95      P0096               18.52\n",
       "96      P0097               19.75\n",
       "97      P0098               16.45\n",
       "98      P0099               12.95\n",
       "99      P0100               20.03\n",
       "\n",
       "[100 rows x 2 columns]"
      ]
     },
     "execution_count": 2,
     "metadata": {},
     "output_type": "execute_result"
    }
   ],
   "source": [
    "df = pd.read_csv(\"../datasets/monthly_sales_data.csv\")\n",
    "df"
   ]
  },
  {
   "cell_type": "markdown",
   "id": "d5d44102",
   "metadata": {},
   "source": [
    "### Task2: Define Hypotheses\n",
    "\n",
    "- State the null and alternative hypotheses based on the given scenario."
   ]
  },
  {
   "cell_type": "markdown",
   "id": "18e9c544",
   "metadata": {},
   "source": [
    "null -> monthly sales are increased by less than 15%\n",
    "h1 -> monthly sales are increased by more than 15%"
   ]
  },
  {
   "cell_type": "markdown",
   "id": "7bca31a1",
   "metadata": {},
   "source": [
    "### Task3: Calculate Test Statistics\n",
    "\n",
    "- Compute the sample mean of cost_reduction_pct.\n",
    "- Determine the sample size.\n",
    "- Calculate the standard error using the provided population standard deviation.\n",
    "- Compute the Z-score for the test statistic"
   ]
  },
  {
   "cell_type": "code",
   "execution_count": 3,
   "id": "9e1ecec6",
   "metadata": {},
   "outputs": [
    {
     "data": {
      "text/plain": [
       "15.4845"
      ]
     },
     "execution_count": 3,
     "metadata": {},
     "output_type": "execute_result"
    }
   ],
   "source": [
    "#1. sample mean of cost_reduction_pct\n",
    "sample_mean = df[\"sales_increase_pct\"].mean()\n",
    "sample_mean"
   ]
  },
  {
   "cell_type": "code",
   "execution_count": 4,
   "id": "10423a86",
   "metadata": {},
   "outputs": [
    {
     "data": {
      "text/plain": [
       "100"
      ]
     },
     "execution_count": 4,
     "metadata": {},
     "output_type": "execute_result"
    }
   ],
   "source": [
    "#2. sample size\n",
    "sample_size = df.shape[0]\n",
    "sample_size"
   ]
  },
  {
   "cell_type": "code",
   "execution_count": 8,
   "id": "b0b85b12",
   "metadata": {},
   "outputs": [
    {
     "data": {
      "text/plain": [
       "0.5"
      ]
     },
     "execution_count": 8,
     "metadata": {},
     "output_type": "execute_result"
    }
   ],
   "source": [
    "#3. standard error\n",
    "standard_error = population_std_dev / np.sqrt(sample_size)\n",
    "standard_error"
   ]
  },
  {
   "cell_type": "code",
   "execution_count": 20,
   "id": "5514ffe1",
   "metadata": {},
   "outputs": [
    {
     "data": {
      "text/plain": [
       "0.9690000000000012"
      ]
     },
     "execution_count": 20,
     "metadata": {},
     "output_type": "execute_result"
    }
   ],
   "source": [
    "#4. z_score\n",
    "z_score = (sample_mean - population_mean) / standard_error\n",
    "z_score"
   ]
  },
  {
   "cell_type": "markdown",
   "id": "2dc258c4",
   "metadata": {},
   "source": [
    "### Task4: Calculate the P-Value\n",
    "\n",
    "- Set the significance level (e.g., alpha = 0.05).\n",
    "- Calculate the p-value associated with the obtained z-score."
   ]
  },
  {
   "cell_type": "code",
   "execution_count": 21,
   "id": "1bb71c91",
   "metadata": {},
   "outputs": [],
   "source": [
    "#defining significance level\n",
    "alpha = 0.05"
   ]
  },
  {
   "cell_type": "code",
   "execution_count": 22,
   "id": "a3cf9b0b",
   "metadata": {},
   "outputs": [
    {
     "data": {
      "text/plain": [
       "1.6448536269514722"
      ]
     },
     "execution_count": 22,
     "metadata": {},
     "output_type": "execute_result"
    }
   ],
   "source": [
    "#additional check with z_critical\n",
    "z_critical = stats.norm.ppf(1-alpha)\n",
    "z_critical"
   ]
  },
  {
   "cell_type": "code",
   "execution_count": 23,
   "id": "2b68905c",
   "metadata": {},
   "outputs": [
    {
     "data": {
      "text/plain": [
       "False"
      ]
     },
     "execution_count": 23,
     "metadata": {},
     "output_type": "execute_result"
    }
   ],
   "source": [
    "z_score > z_critical"
   ]
  },
  {
   "cell_type": "code",
   "execution_count": 24,
   "id": "2f3f77f1",
   "metadata": {},
   "outputs": [
    {
     "data": {
      "text/plain": [
       "0.16627259458894816"
      ]
     },
     "execution_count": 24,
     "metadata": {},
     "output_type": "execute_result"
    }
   ],
   "source": [
    "#p-value\n",
    "p_value = 1 - stats.norm.cdf(z_score)\n",
    "p_value"
   ]
  },
  {
   "cell_type": "markdown",
   "id": "f6be7304",
   "metadata": {},
   "source": [
    "### Task5: Decision Making\n",
    "\n",
    "- Compare the calculated p-value with the alpha.\n",
    "- Decide whether to reject or fail to reject the null hypothesis.\n",
    "- Write a conclusion summarizing the findings."
   ]
  },
  {
   "cell_type": "markdown",
   "id": "a50bddd1",
   "metadata": {},
   "source": [
    " Final Conclusion\n",
    "Sample mean: 15.48\n",
    "\n",
    "Hypothesized mean (H₀): 15%\n",
    "\n",
    "Z-score: 0.97\n",
    "\n",
    "p-value: 0.16\n",
    "\n",
    "Significance level (α): 0.05\n",
    "\n",
    "Since the p-value (0.16) is greater than the significance level (0.05), we fail to reject the null hypothesis.\n",
    "\n",
    "There is not enough statistical evidence to conclude that the marketing campaign has increased the average monthly sales by more than 15%.\n",
    "\n",
    "This outcome was also confirmed by comparing the z-score to the critical z-value."
   ]
  }
 ],
 "metadata": {
  "kernelspec": {
   "display_name": "Python 3",
   "language": "python",
   "name": "python3"
  },
  "language_info": {
   "codemirror_mode": {
    "name": "ipython",
    "version": 3
   },
   "file_extension": ".py",
   "mimetype": "text/x-python",
   "name": "python",
   "nbconvert_exporter": "python",
   "pygments_lexer": "ipython3",
   "version": "3.11.3"
  }
 },
 "nbformat": 4,
 "nbformat_minor": 5
}
