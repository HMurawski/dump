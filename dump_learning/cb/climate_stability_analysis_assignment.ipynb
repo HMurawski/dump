{
 "cells": [
  {
   "cell_type": "markdown",
   "id": "61c6fd18",
   "metadata": {},
   "source": [
    "### Comparing Weather Temperature Variability for Agricultural Investment Decisions\n",
    "\n",
    "**context:** An agricultural investment firm is in the process of deciding on a location for a new farming project. Understanding that **consistent** and predictable weather conditions are vital for successful agriculture, the firm aims to evaluate and compare two potential cities based on their temperature stability. The key factor in this decision-making process is the variability in average daily temperatures, as it directly impacts crop growth and agricultural planning.\n",
    "\n",
    "The firm has provided a dataset, named **\"climate_stability_comparison.xlsx\"**, to aid in this assessment. This dataset includes the following columns:\n",
    "\n",
    "- **month:** Indicates the month of the year.\n",
    "- **Avg Temp City A (°C):** The average daily temperature for City A in each month, measured in degrees Celsius.\n",
    "- **Avg Temp City B (°C):** The average daily temperature for City B in each month, measured in degrees Celsius."
   ]
  },
  {
   "cell_type": "code",
   "execution_count": 2,
   "id": "5131e23a",
   "metadata": {},
   "outputs": [
    {
     "data": {
      "text/html": [
       "<div>\n",
       "<style scoped>\n",
       "    .dataframe tbody tr th:only-of-type {\n",
       "        vertical-align: middle;\n",
       "    }\n",
       "\n",
       "    .dataframe tbody tr th {\n",
       "        vertical-align: top;\n",
       "    }\n",
       "\n",
       "    .dataframe thead th {\n",
       "        text-align: right;\n",
       "    }\n",
       "</style>\n",
       "<table border=\"1\" class=\"dataframe\">\n",
       "  <thead>\n",
       "    <tr style=\"text-align: right;\">\n",
       "      <th></th>\n",
       "      <th>month</th>\n",
       "      <th>Avg Temp City A (°C)</th>\n",
       "      <th>Avg Temp City B (°C)</th>\n",
       "    </tr>\n",
       "  </thead>\n",
       "  <tbody>\n",
       "    <tr>\n",
       "      <th>0</th>\n",
       "      <td>January</td>\n",
       "      <td>14</td>\n",
       "      <td>13</td>\n",
       "    </tr>\n",
       "    <tr>\n",
       "      <th>1</th>\n",
       "      <td>February</td>\n",
       "      <td>15</td>\n",
       "      <td>16</td>\n",
       "    </tr>\n",
       "    <tr>\n",
       "      <th>2</th>\n",
       "      <td>March</td>\n",
       "      <td>14</td>\n",
       "      <td>18</td>\n",
       "    </tr>\n",
       "    <tr>\n",
       "      <th>3</th>\n",
       "      <td>April</td>\n",
       "      <td>16</td>\n",
       "      <td>20</td>\n",
       "    </tr>\n",
       "    <tr>\n",
       "      <th>4</th>\n",
       "      <td>May</td>\n",
       "      <td>17</td>\n",
       "      <td>19</td>\n",
       "    </tr>\n",
       "  </tbody>\n",
       "</table>\n",
       "</div>"
      ],
      "text/plain": [
       "      month  Avg Temp City A (°C)  Avg Temp City B (°C)\n",
       "0   January                    14                    13\n",
       "1  February                    15                    16\n",
       "2     March                    14                    18\n",
       "3     April                    16                    20\n",
       "4       May                    17                    19"
      ]
     },
     "execution_count": 2,
     "metadata": {},
     "output_type": "execute_result"
    }
   ],
   "source": [
    "import pandas as pd\n",
    "df = pd.read_excel(\"climate_stability_comparison.xlsx\")\n",
    "df.head()"
   ]
  },
  {
   "cell_type": "markdown",
   "id": "8f7f7cf8",
   "metadata": {},
   "source": [
    "### Task Objective\n",
    "\n",
    "- Calculate the standard deviation for average temperatures in both cities.\n",
    "- Determine which city has a higher temperature variability.\n",
    "- Decide on the city with more stable (lower variability) temperatures for agricultural investment."
   ]
  },
  {
   "cell_type": "code",
   "execution_count": 12,
   "id": "faf52c1c",
   "metadata": {},
   "outputs": [
    {
     "name": "stdout",
     "output_type": "stream",
     "text": [
      "Std A:1.729862492345632\n",
      "Std B:4.266678503771459\n",
      "2.992424242424242 18.204545454545453\n"
     ]
    }
   ],
   "source": [
    "#std_A, std_B = df[\"Avg Temp City A (°C)\"].std(), df[\"Avg Temp City B (°C)\"].std()\n",
    "std_A, std_B = df[[\"Avg Temp City A (°C)\", \"Avg Temp City B (°C)\"]].std()\n",
    "print(f\"Std A:{std_A}\\nStd B:{std_B}\")\n",
    "A_variance = df[\"Avg Temp City A (°C)\"].var()\n",
    "B_variance = df[\"Avg Temp City B (°C)\"].var()\n",
    "print(A_variance, B_variance)"
   ]
  },
  {
   "cell_type": "markdown",
   "id": "81dad177",
   "metadata": {},
   "source": [
    "Decision: City B is more stable - smaller variance and std."
   ]
  }
 ],
 "metadata": {
  "kernelspec": {
   "display_name": "Python 3",
   "language": "python",
   "name": "python3"
  },
  "language_info": {
   "codemirror_mode": {
    "name": "ipython",
    "version": 3
   },
   "file_extension": ".py",
   "mimetype": "text/x-python",
   "name": "python",
   "nbconvert_exporter": "python",
   "pygments_lexer": "ipython3",
   "version": "3.11.3"
  }
 },
 "nbformat": 4,
 "nbformat_minor": 5
}
