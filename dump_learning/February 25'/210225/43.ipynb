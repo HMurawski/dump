{
 "cells": [
  {
   "cell_type": "code",
   "execution_count": 3,
   "metadata": {},
   "outputs": [
    {
     "name": "stdout",
     "output_type": "stream",
     "text": [
      "Pochodna f(x): 3*x**2 + 4*x - 5\n"
     ]
    }
   ],
   "source": [
    "import sympy as sp\n",
    "\n",
    "# Definiujemy zmienną x i funkcję f(x)\n",
    "x = sp.Symbol('x')\n",
    "f = x**3 + 2*x**2 - 5*x + 7\n",
    "\n",
    "# Obliczamy pochodną\n",
    "f_prime = sp.diff(f, x)\n",
    "print(\"Pochodna f(x):\", f_prime)\n"
   ]
  },
  {
   "cell_type": "code",
   "execution_count": 4,
   "metadata": {},
   "outputs": [
    {
     "name": "stdout",
     "output_type": "stream",
     "text": [
      "Pochodna w x=2: 15\n"
     ]
    }
   ],
   "source": [
    "# Obliczamy pochodną w x=2\n",
    "f_prime_value = f_prime.subs(x, 2)\n",
    "print(\"Pochodna w x=2:\", f_prime_value)\n"
   ]
  },
  {
   "cell_type": "code",
   "execution_count": 5,
   "metadata": {},
   "outputs": [
    {
     "name": "stdout",
     "output_type": "stream",
     "text": [
      "Pochodna po x: 2*x + 3*y\n",
      "Pochodna po y: 3*x + 2*y\n"
     ]
    }
   ],
   "source": [
    "# Definiujemy zmienne x, y i funkcję g(x, y)\n",
    "y = sp.Symbol('y')\n",
    "g = x**2 + 3*x*y + y**2\n",
    "\n",
    "# Pochodne cząstkowe\n",
    "g_dx = sp.diff(g, x)  # Pochodna po x\n",
    "g_dy = sp.diff(g, y)  # Pochodna po y\n",
    "\n",
    "print(\"Pochodna po x:\", g_dx)\n",
    "print(\"Pochodna po y:\", g_dy)\n"
   ]
  },
  {
   "cell_type": "code",
   "execution_count": 6,
   "metadata": {},
   "outputs": [
    {
     "name": "stdout",
     "output_type": "stream",
     "text": [
      "Gradient:\n",
      " Matrix([[2*x + 3*y], [3*x + 2*y]])\n"
     ]
    }
   ],
   "source": [
    "# Gradient funkcji g(x, y)\n",
    "gradient = sp.Matrix([g_dx, g_dy])\n",
    "print(\"Gradient:\\n\", gradient)\n"
   ]
  },
  {
   "cell_type": "code",
   "execution_count": 7,
   "metadata": {},
   "outputs": [
    {
     "name": "stdout",
     "output_type": "stream",
     "text": [
      "Iteracja 1: w = 1.2062, J(w) = 7.0735\n",
      "Iteracja 2: w = 0.6650, J(w) = 4.4371\n",
      "Iteracja 3: w = 0.2320, J(w) = 2.7497\n",
      "Iteracja 4: w = -0.1144, J(w) = 1.6698\n",
      "Iteracja 5: w = -0.3915, J(w) = 0.9787\n",
      "Iteracja 6: w = -0.6132, J(w) = 0.5364\n",
      "Iteracja 7: w = -0.7906, J(w) = 0.2533\n",
      "Iteracja 8: w = -0.9325, J(w) = 0.0721\n",
      "Iteracja 9: w = -1.0460, J(w) = -0.0439\n",
      "Iteracja 10: w = -1.1368, J(w) = -0.1181\n"
     ]
    }
   ],
   "source": [
    "import numpy as np\n",
    "\n",
    "# Funkcja kosztu J(w) = w^2 + 3w + 2\n",
    "def cost_function(w):\n",
    "    return w**2 + 3*w + 2\n",
    "\n",
    "# Pochodna funkcji kosztu\n",
    "def cost_derivative(w):\n",
    "    return 2*w + 3\n",
    "\n",
    "# Gradient Descent\n",
    "def gradient_descent(learning_rate=0.1, epochs=10):\n",
    "    w = np.random.randn()  # Inicjalizacja losowego w\n",
    "    for i in range(epochs):\n",
    "        grad = cost_derivative(w)\n",
    "        w -= learning_rate * grad  # Aktualizacja wag\n",
    "        print(f\"Iteracja {i+1}: w = {w:.4f}, J(w) = {cost_function(w):.4f}\")\n",
    "\n",
    "gradient_descent()\n"
   ]
  },
  {
   "cell_type": "code",
   "execution_count": 8,
   "metadata": {},
   "outputs": [],
   "source": [
    "from scipy.sparse import csr_matrix\n",
    "\n",
    "# Tworzenie macierzy rzadkiej\n",
    "A_sparse = csr_matrix([[1, 0, 0], [0, 0, 2], [0, 3, 0]])\n",
    "\n",
    "# Konwersja do pełnej macierzy\n",
    "A_dense = A_sparse.toarray()\n"
   ]
  },
  {
   "cell_type": "code",
   "execution_count": 9,
   "metadata": {},
   "outputs": [],
   "source": [
    "from sklearn.linear_model import LinearRegression\n",
    "\n",
    "# Dane wejściowe\n",
    "X = np.array([[1], [2], [3], [4], [5]])\n",
    "y = np.array([2.2, 2.8, 3.6, 4.5, 5.1])\n",
    "\n",
    "# Model regresji\n",
    "model = LinearRegression()\n",
    "model.fit(X, y)\n",
    "\n",
    "# Predykcja\n",
    "y_pred = model.predict(X)\n"
   ]
  },
  {
   "cell_type": "code",
   "execution_count": 10,
   "metadata": {},
   "outputs": [],
   "source": [
    "v1 = np.array([1, 2, 3])\n",
    "v2 = np.array([4, 5, 6])\n",
    "cross_product = np.cross(v1, v2)\n"
   ]
  },
  {
   "cell_type": "code",
   "execution_count": 11,
   "metadata": {},
   "outputs": [],
   "source": [
    "proj_v1_on_v2 = (np.dot(v1, v2) / np.dot(v2, v2)) * v2\n"
   ]
  },
  {
   "cell_type": "code",
   "execution_count": 1,
   "metadata": {},
   "outputs": [
    {
     "name": "stdout",
     "output_type": "stream",
     "text": [
      "Czy Q jest ortogonalna? True\n"
     ]
    }
   ],
   "source": [
    "import numpy as np\n",
    "\n",
    "# Tworzenie macierzy ortogonalnej\n",
    "Q, R = np.linalg.qr(np.random.rand(3, 3))  # QR decomposition\n",
    "\n",
    "# Sprawdzenie czy Q jest ortogonalna (Q^T * Q ≈ I)\n",
    "identity_check = np.allclose(Q.T @ Q, np.eye(3))\n",
    "print(\"Czy Q jest ortogonalna?\", identity_check)\n"
   ]
  },
  {
   "cell_type": "code",
   "execution_count": 2,
   "metadata": {},
   "outputs": [
    {
     "name": "stdout",
     "output_type": "stream",
     "text": [
      "Baza standardowa przestrzeni 3D:\n",
      "[[1. 0. 0.]\n",
      " [0. 1. 0.]\n",
      " [0. 0. 1.]]\n"
     ]
    }
   ],
   "source": [
    "# Wektory bazowe standardowej przestrzeni 3D\n",
    "basis_vectors = np.eye(3)\n",
    "print(\"Baza standardowa przestrzeni 3D:\")\n",
    "print(basis_vectors)\n"
   ]
  },
  {
   "cell_type": "code",
   "execution_count": 3,
   "metadata": {},
   "outputs": [
    {
     "name": "stdout",
     "output_type": "stream",
     "text": [
      "Rząd macierzy: 2\n"
     ]
    }
   ],
   "source": [
    "A = np.array([[1, 2, 3], [4, 5, 6], [7, 8, 9]])\n",
    "rank_A = np.linalg.matrix_rank(A)\n",
    "print(\"Rząd macierzy:\", rank_A)  # Dla tej macierzy wynik to 2, bo wiersze są liniowo zależne\n"
   ]
  },
  {
   "cell_type": "code",
   "execution_count": 4,
   "metadata": {},
   "outputs": [
    {
     "name": "stdout",
     "output_type": "stream",
     "text": [
      "Wektor po transformacji: [2 6]\n"
     ]
    }
   ],
   "source": [
    "# Macierz transformacji\n",
    "T = np.array([[2, 0], [0, 3]])\n",
    "\n",
    "# Wektor do przekształcenia\n",
    "v = np.array([1, 2])\n",
    "\n",
    "# Zastosowanie transformacji\n",
    "v_transformed = T @ v\n",
    "print(\"Wektor po transformacji:\", v_transformed)\n"
   ]
  },
  {
   "cell_type": "code",
   "execution_count": 5,
   "metadata": {},
   "outputs": [
    {
     "name": "stdout",
     "output_type": "stream",
     "text": [
      "Wektor po obrocie: [-0.70710678  2.12132034]\n"
     ]
    }
   ],
   "source": [
    "theta = np.pi / 4  # 45 stopni\n",
    "R = np.array([[np.cos(theta), -np.sin(theta)], [np.sin(theta), np.cos(theta)]])\n",
    "v_rotated = R @ v\n",
    "print(\"Wektor po obrocie:\", v_rotated)\n"
   ]
  },
  {
   "cell_type": "code",
   "execution_count": 6,
   "metadata": {},
   "outputs": [
    {
     "name": "stdout",
     "output_type": "stream",
     "text": [
      "Ortogonalne wektory:\n",
      " [[ 0.70710678  0.70710678]\n",
      " [ 0.70710678 -0.70710678]]\n"
     ]
    }
   ],
   "source": [
    "def gram_schmidt(V):\n",
    "    U = np.zeros_like(V, dtype=np.float64)\n",
    "    for i in range(V.shape[1]):\n",
    "        U[:, i] = V[:, i]\n",
    "        for j in range(i):\n",
    "            U[:, i] -= np.dot(U[:, j], V[:, i]) / np.dot(U[:, j], U[:, j]) * U[:, j]\n",
    "        U[:, i] /= np.linalg.norm(U[:, i])\n",
    "    return U\n",
    "\n",
    "# Macierz wektorów\n",
    "V = np.array([[1, 1], [1, -1]], dtype=np.float64)\n",
    "U = gram_schmidt(V)\n",
    "print(\"Ortogonalne wektory:\\n\", U)\n"
   ]
  },
  {
   "cell_type": "code",
   "execution_count": 7,
   "metadata": {},
   "outputs": [
    {
     "name": "stdout",
     "output_type": "stream",
     "text": [
      "Rzut wektora: [3.5 3.5]\n"
     ]
    }
   ],
   "source": [
    "v = np.array([3, 4])\n",
    "u = np.array([1, 1])\n",
    "\n",
    "# Rzut wektora v na u\n",
    "proj_v_on_u = (np.dot(v, u) / np.dot(u, u)) * u\n",
    "print(\"Rzut wektora:\", proj_v_on_u)\n"
   ]
  },
  {
   "cell_type": "code",
   "execution_count": 8,
   "metadata": {},
   "outputs": [
    {
     "name": "stdout",
     "output_type": "stream",
     "text": [
      "Macierz dolna (L):\n",
      " [[1.         0.        ]\n",
      " [0.66666667 1.        ]]\n",
      "Macierz górna (U):\n",
      " [[6. 3.]\n",
      " [0. 1.]]\n"
     ]
    }
   ],
   "source": [
    "from scipy.linalg import lu\n",
    "\n",
    "A = np.array([[4, 3], [6, 3]])\n",
    "P, L, U = lu(A)\n",
    "\n",
    "print(\"Macierz dolna (L):\\n\", L)\n",
    "print(\"Macierz górna (U):\\n\", U)\n"
   ]
  },
  {
   "cell_type": "code",
   "execution_count": 9,
   "metadata": {},
   "outputs": [
    {
     "name": "stdout",
     "output_type": "stream",
     "text": [
      "Wartości własne: [3. 1.]\n",
      "Wektory własne:\n",
      " [[ 0.70710678 -0.70710678]\n",
      " [ 0.70710678  0.70710678]]\n"
     ]
    }
   ],
   "source": [
    "A = np.array([[2, 1], [1, 2]])\n",
    "eigenvalues, eigenvectors = np.linalg.eig(A)\n",
    "\n",
    "print(\"Wartości własne:\", eigenvalues)\n",
    "print(\"Wektory własne:\\n\", eigenvectors)\n"
   ]
  },
  {
   "cell_type": "code",
   "execution_count": 10,
   "metadata": {},
   "outputs": [
    {
     "name": "stdout",
     "output_type": "stream",
     "text": [
      "Macierz U:\n",
      " [[-0.2298477   0.88346102  0.40824829]\n",
      " [-0.52474482  0.24078249 -0.81649658]\n",
      " [-0.81964194 -0.40189603  0.40824829]]\n",
      "Wartości osobliwe S:\n",
      " [9.52551809 0.51430058]\n",
      "Macierz V^T:\n",
      " [[-0.61962948 -0.78489445]\n",
      " [-0.78489445  0.61962948]]\n"
     ]
    }
   ],
   "source": [
    "A = np.array([[1, 2], [3, 4], [5, 6]])\n",
    "U, S, Vt = np.linalg.svd(A)\n",
    "\n",
    "print(\"Macierz U:\\n\", U)\n",
    "print(\"Wartości osobliwe S:\\n\", S)\n",
    "print(\"Macierz V^T:\\n\", Vt)\n"
   ]
  },
  {
   "cell_type": "code",
   "execution_count": 11,
   "metadata": {},
   "outputs": [
    {
     "name": "stdout",
     "output_type": "stream",
     "text": [
      "Macierz pseudoodwrotna:\n",
      " [[-1.33333333 -0.33333333  0.66666667]\n",
      " [ 1.08333333  0.33333333 -0.41666667]]\n"
     ]
    }
   ],
   "source": [
    "A = np.array([[1, 2], [3, 4], [5, 6]])\n",
    "A_pinv = np.linalg.pinv(A)\n",
    "print(\"Macierz pseudoodwrotna:\\n\", A_pinv)\n"
   ]
  },
  {
   "cell_type": "code",
   "execution_count": 12,
   "metadata": {},
   "outputs": [
    {
     "name": "stdout",
     "output_type": "stream",
     "text": [
      "Macierz Choleskiego:\n",
      " [[2.         0.        ]\n",
      " [1.         1.41421356]]\n"
     ]
    }
   ],
   "source": [
    "A = np.array([[4, 2], [2, 3]])\n",
    "L = np.linalg.cholesky(A)\n",
    "print(\"Macierz Choleskiego:\\n\", L)\n"
   ]
  },
  {
   "cell_type": "code",
   "execution_count": 13,
   "metadata": {},
   "outputs": [
    {
     "name": "stdout",
     "output_type": "stream",
     "text": [
      "Największa wartość własna: 4.618033988749896\n",
      "Wektor własny: [0.85065081 0.52573111]\n"
     ]
    }
   ],
   "source": [
    "def power_iteration(A, num_simulations=100):\n",
    "    b_k = np.random.rand(A.shape[1])\n",
    "    \n",
    "    for _ in range(num_simulations):\n",
    "        b_k1 = np.dot(A, b_k)\n",
    "        b_k = b_k1 / np.linalg.norm(b_k1)\n",
    "    \n",
    "    eigenvalue = np.dot(b_k.T, np.dot(A, b_k))\n",
    "    return eigenvalue, b_k\n",
    "\n",
    "A = np.array([[4, 1], [1, 3]])\n",
    "eigenvalue, eigenvector = power_iteration(A)\n",
    "print(\"Największa wartość własna:\", eigenvalue)\n",
    "print(\"Wektor własny:\", eigenvector)\n"
   ]
  },
  {
   "cell_type": "code",
   "execution_count": null,
   "metadata": {},
   "outputs": [],
   "source": []
  }
 ],
 "metadata": {
  "kernelspec": {
   "display_name": "Python 3",
   "language": "python",
   "name": "python3"
  },
  "language_info": {
   "codemirror_mode": {
    "name": "ipython",
    "version": 3
   },
   "file_extension": ".py",
   "mimetype": "text/x-python",
   "name": "python",
   "nbconvert_exporter": "python",
   "pygments_lexer": "ipython3",
   "version": "3.11.3"
  }
 },
 "nbformat": 4,
 "nbformat_minor": 2
}
