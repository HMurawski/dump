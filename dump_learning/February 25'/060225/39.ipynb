{
 "cells": [
  {
   "cell_type": "code",
   "execution_count": 1,
   "metadata": {},
   "outputs": [],
   "source": [
    "import numpy as np\n",
    "import pandas as pd\n",
    "import matplotlib.pyplot as plt\n",
    "import scipy.stats as stats\n",
    "\n"
   ]
  },
  {
   "cell_type": "code",
   "execution_count": 2,
   "metadata": {},
   "outputs": [
    {
     "data": {
      "text/html": [
       "<div>\n",
       "<style scoped>\n",
       "    .dataframe tbody tr th:only-of-type {\n",
       "        vertical-align: middle;\n",
       "    }\n",
       "\n",
       "    .dataframe tbody tr th {\n",
       "        vertical-align: top;\n",
       "    }\n",
       "\n",
       "    .dataframe thead th {\n",
       "        text-align: right;\n",
       "    }\n",
       "</style>\n",
       "<table border=\"1\" class=\"dataframe\">\n",
       "  <thead>\n",
       "    <tr style=\"text-align: right;\">\n",
       "      <th></th>\n",
       "      <th>Total Conversions</th>\n",
       "      <th>Total Users</th>\n",
       "      <th>Conversion Rate</th>\n",
       "    </tr>\n",
       "    <tr>\n",
       "      <th>Group</th>\n",
       "      <th></th>\n",
       "      <th></th>\n",
       "      <th></th>\n",
       "    </tr>\n",
       "  </thead>\n",
       "  <tbody>\n",
       "    <tr>\n",
       "      <th>A</th>\n",
       "      <td>61</td>\n",
       "      <td>503</td>\n",
       "      <td>0.121272</td>\n",
       "    </tr>\n",
       "    <tr>\n",
       "      <th>B</th>\n",
       "      <td>57</td>\n",
       "      <td>497</td>\n",
       "      <td>0.114688</td>\n",
       "    </tr>\n",
       "  </tbody>\n",
       "</table>\n",
       "</div>"
      ],
      "text/plain": [
       "       Total Conversions  Total Users  Conversion Rate\n",
       "Group                                                 \n",
       "A                     61          503         0.121272\n",
       "B                     57          497         0.114688"
      ]
     },
     "execution_count": 2,
     "metadata": {},
     "output_type": "execute_result"
    }
   ],
   "source": [
    "np.random.seed(42)\n",
    "\n",
    "n_users = 1000\n",
    "groups = np.random.choice([\"A\", \"B\"], size=n_users, p=[0.5, 0.5])\n",
    "\n",
    "# Symulujemy współczynniki konwersji (np. 10% dla grupy A, 12% dla grupy B)\n",
    "conversion_rates = {\"A\": 0.10, \"B\": 0.12}\n",
    "conversions = np.array([np.random.rand() < conversion_rates[group] for group in groups])\n",
    "\n",
    "\n",
    "df = pd.DataFrame({\"Group\": groups, \"Converted\": conversions})\n",
    "\n",
    "\n",
    "conversion_summary = df.groupby(\"Group\")[\"Converted\"].agg([\"sum\", \"count\", \"mean\"])\n",
    "conversion_summary.columns = [\"Total Conversions\", \"Total Users\", \"Conversion Rate\"]\n",
    "conversion_summary\n"
   ]
  },
  {
   "cell_type": "code",
   "execution_count": 3,
   "metadata": {},
   "outputs": [
    {
     "data": {
      "text/plain": [
       "0.8222351797486572"
      ]
     },
     "execution_count": 3,
     "metadata": {},
     "output_type": "execute_result"
    }
   ],
   "source": [
    "# Tworzymy tabelę kontyngencji dla testu chi-kwadrat\n",
    "contingency_table = pd.crosstab(df[\"Group\"], df[\"Converted\"])\n",
    "\n",
    "#test chi-kwadrat\n",
    "chi2, p_value, _, _ = stats.chi2_contingency(contingency_table)\n",
    "\n",
    "p_value\n"
   ]
  },
  {
   "cell_type": "code",
   "execution_count": 4,
   "metadata": {},
   "outputs": [
    {
     "data": {
      "text/plain": [
       "(       Total Conversions  Total Users  Conversion Rate\n",
       " Group                                                 \n",
       " A                     57          503         0.113320\n",
       " B                     72          497         0.144869,\n",
       " 0.16337653535024957)"
      ]
     },
     "execution_count": 4,
     "metadata": {},
     "output_type": "execute_result"
    }
   ],
   "source": [
    "\n",
    "conversion_rates_new = {\"A\": 0.10, \"B\": 0.15}\n",
    "\n",
    "\n",
    "conversions_new = np.array([np.random.rand() < conversion_rates_new[group] for group in groups])\n",
    "\n",
    "\n",
    "df_new = pd.DataFrame({\"Group\": groups, \"Converted\": conversions_new})\n",
    "\n",
    "\n",
    "conversion_summary_new = df_new.groupby(\"Group\")[\"Converted\"].agg([\"sum\", \"count\", \"mean\"])\n",
    "conversion_summary_new.columns = [\"Total Conversions\", \"Total Users\", \"Conversion Rate\"]\n",
    "\n",
    "\n",
    "contingency_table_new = pd.crosstab(df_new[\"Group\"], df_new[\"Converted\"])\n",
    "chi2_new, p_value_new, _, _ = stats.chi2_contingency(contingency_table_new)\n",
    "\n",
    "conversion_summary_new, p_value_new\n"
   ]
  },
  {
   "cell_type": "code",
   "execution_count": 5,
   "metadata": {},
   "outputs": [
    {
     "data": {
      "text/plain": [
       "(       Total Conversions  Total Users  Conversion Rate\n",
       " Group                                                 \n",
       " A                     53          503         0.105368\n",
       " B                     97          497         0.195171,\n",
       " 0.000101107215989342)"
      ]
     },
     "execution_count": 5,
     "metadata": {},
     "output_type": "execute_result"
    }
   ],
   "source": [
    "\n",
    "conversion_rates_strong = {\"A\": 0.10, \"B\": 0.20}\n",
    "\n",
    "\n",
    "conversions_strong = np.array([np.random.rand() < conversion_rates_strong[group] for group in groups])\n",
    "\n",
    "\n",
    "df_strong = pd.DataFrame({\"Group\": groups, \"Converted\": conversions_strong})\n",
    "\n",
    "\n",
    "conversion_summary_strong = df_strong.groupby(\"Group\")[\"Converted\"].agg([\"sum\", \"count\", \"mean\"])\n",
    "conversion_summary_strong.columns = [\"Total Conversions\", \"Total Users\", \"Conversion Rate\"]\n",
    "\n",
    "\n",
    "contingency_table_strong = pd.crosstab(df_strong[\"Group\"], df_strong[\"Converted\"])\n",
    "chi2_strong, p_value_strong, _, _ = stats.chi2_contingency(contingency_table_strong)\n",
    "\n",
    "conversion_summary_strong, p_value_strong\n"
   ]
  },
  {
   "cell_type": "code",
   "execution_count": 6,
   "metadata": {},
   "outputs": [
    {
     "data": {
      "text/plain": [
       "(       Mean Time (s)    Std Dev  Sample Size\n",
       " Group                                       \n",
       " A         120.205140  29.437597          500\n",
       " B         135.954784  29.339916          500,\n",
       " 8.460275618434352e-17)"
      ]
     },
     "execution_count": 6,
     "metadata": {},
     "output_type": "execute_result"
    }
   ],
   "source": [
    "\n",
    "np.random.seed(42)\n",
    "n_users = 1000\n",
    "\n",
    "mean_time_A = 120  \n",
    "mean_time_B = 135 \n",
    "std_dev = 30  \n",
    "\n",
    "\n",
    "time_spent_A = np.random.normal(mean_time_A, std_dev, n_users // 2)\n",
    "time_spent_B = np.random.normal(mean_time_B, std_dev, n_users // 2)\n",
    "\n",
    "\n",
    "df_time = pd.DataFrame({\n",
    "    \"Group\": [\"A\"] * (n_users // 2) + [\"B\"] * (n_users // 2),\n",
    "    \"Time Spent\": np.concatenate([time_spent_A, time_spent_B])\n",
    "})\n",
    "\n",
    "# test t-Studenta\n",
    "t_stat, p_value_ttest = stats.ttest_ind(time_spent_A, time_spent_B)\n",
    "\n",
    "\n",
    "time_summary = df_time.groupby(\"Group\")[\"Time Spent\"].agg([\"mean\", \"std\", \"count\"])\n",
    "time_summary.columns = [\"Mean Time (s)\", \"Std Dev\", \"Sample Size\"]\n",
    "\n",
    "time_summary, p_value_ttest\n"
   ]
  },
  {
   "cell_type": "code",
   "execution_count": null,
   "metadata": {},
   "outputs": [],
   "source": []
  }
 ],
 "metadata": {
  "kernelspec": {
   "display_name": "Python 3",
   "language": "python",
   "name": "python3"
  },
  "language_info": {
   "codemirror_mode": {
    "name": "ipython",
    "version": 3
   },
   "file_extension": ".py",
   "mimetype": "text/x-python",
   "name": "python",
   "nbconvert_exporter": "python",
   "pygments_lexer": "ipython3",
   "version": "3.11.3"
  }
 },
 "nbformat": 4,
 "nbformat_minor": 2
}
