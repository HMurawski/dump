{
 "cells": [
  {
   "cell_type": "code",
   "execution_count": 1,
   "metadata": {},
   "outputs": [],
   "source": [
    "import pandas as pd\n",
    "import numpy as np\n",
    "import matplotlib.pyplot as plt\n",
    "import seaborn as sns"
   ]
  },
  {
   "cell_type": "code",
   "execution_count": null,
   "metadata": {},
   "outputs": [
    {
     "data": {
      "text/html": [
       "<div>\n",
       "<style scoped>\n",
       "    .dataframe tbody tr th:only-of-type {\n",
       "        vertical-align: middle;\n",
       "    }\n",
       "\n",
       "    .dataframe tbody tr th {\n",
       "        vertical-align: top;\n",
       "    }\n",
       "\n",
       "    .dataframe thead th {\n",
       "        text-align: right;\n",
       "    }\n",
       "</style>\n",
       "<table border=\"1\" class=\"dataframe\">\n",
       "  <thead>\n",
       "    <tr style=\"text-align: right;\">\n",
       "      <th></th>\n",
       "      <th>Customer_ID</th>\n",
       "      <th>Country</th>\n",
       "      <th>Product_Category</th>\n",
       "      <th>Total_Spend</th>\n",
       "      <th>Month</th>\n",
       "      <th>Age</th>\n",
       "    </tr>\n",
       "  </thead>\n",
       "  <tbody>\n",
       "    <tr>\n",
       "      <th>0</th>\n",
       "      <td>GER001</td>\n",
       "      <td>GER</td>\n",
       "      <td>Food</td>\n",
       "      <td>18008</td>\n",
       "      <td>3</td>\n",
       "      <td>29</td>\n",
       "    </tr>\n",
       "    <tr>\n",
       "      <th>1</th>\n",
       "      <td>IT001</td>\n",
       "      <td>IT</td>\n",
       "      <td>Clothing</td>\n",
       "      <td>10087</td>\n",
       "      <td>10</td>\n",
       "      <td>78</td>\n",
       "    </tr>\n",
       "    <tr>\n",
       "      <th>2</th>\n",
       "      <td>UK001</td>\n",
       "      <td>UK</td>\n",
       "      <td>Electronics</td>\n",
       "      <td>12820</td>\n",
       "      <td>9</td>\n",
       "      <td>37</td>\n",
       "    </tr>\n",
       "    <tr>\n",
       "      <th>3</th>\n",
       "      <td>UK002</td>\n",
       "      <td>UK</td>\n",
       "      <td>Electronics</td>\n",
       "      <td>1355</td>\n",
       "      <td>2</td>\n",
       "      <td>49</td>\n",
       "    </tr>\n",
       "    <tr>\n",
       "      <th>4</th>\n",
       "      <td>IT002</td>\n",
       "      <td>IT</td>\n",
       "      <td>Electronics</td>\n",
       "      <td>579</td>\n",
       "      <td>1</td>\n",
       "      <td>31</td>\n",
       "    </tr>\n",
       "  </tbody>\n",
       "</table>\n",
       "</div>"
      ],
      "text/plain": [
       "  Customer_ID Country Product_Category  Total_Spend  Month  Age\n",
       "0      GER001     GER             Food        18008      3   29\n",
       "1       IT001      IT         Clothing        10087     10   78\n",
       "2       UK001      UK      Electronics        12820      9   37\n",
       "3       UK002      UK      Electronics         1355      2   49\n",
       "4       IT002      IT      Electronics          579      1   31"
      ]
     },
     "execution_count": 2,
     "metadata": {},
     "output_type": "execute_result"
    }
   ],
   "source": [
    "np.random.seed(420)\n",
    "Countries = [\"PL\", \"GER\", \"UK\", \"USA\", \"CZ\", \"IT\"]\n",
    "Product_Category = [\"Electronics\", \"Clothing\", \"Food\"]\n",
    "data = {\n",
    "    \"Customer_ID\" : np.arange(100000),\n",
    "    \"Country\" : np.random.choice(Countries, 100000),\n",
    "    \"Product_Category\" : np.random.choice(Product_Category, 100000),\n",
    "    \"Total_Spend\" : np.random.randint(low=50, high=25000, size=(100000)),\n",
    "    \"Month\": np.random.randint(1,13, 100000),\n",
    "    \"Age\": np.random.randint(low=18, high=80, size=(100000)),\n",
    "}\n",
    "df = pd.DataFrame(data)\n",
    "#data validation by increasing amount spent based on country's wealth\n",
    "spend_distribution = {\n",
    "    \"USA\": (500, 25000),\n",
    "    \"GER\": (400, 20000),\n",
    "    \"UK\": (300, 15000),\n",
    "    \"PL\": (100, 8000),\n",
    "    \"CZ\": (50, 6000),\n",
    "    \"IT\": (200, 12000)\n",
    "}\n",
    "df[\"Total_Spend\"] = df[\"Country\"].apply(lambda x: np.random.randint(*spend_distribution[x]))\n",
    "df['Customer_ID'] = df['Country'] + (df.groupby('Country').cumcount() + 1).astype(str).str.zfill(3)\n",
    "df.head()"
   ]
  },
  {
   "cell_type": "code",
   "execution_count": 3,
   "metadata": {},
   "outputs": [
    {
     "data": {
      "text/html": [
       "<div>\n",
       "<style scoped>\n",
       "    .dataframe tbody tr th:only-of-type {\n",
       "        vertical-align: middle;\n",
       "    }\n",
       "\n",
       "    .dataframe tbody tr th {\n",
       "        vertical-align: top;\n",
       "    }\n",
       "\n",
       "    .dataframe thead th {\n",
       "        text-align: right;\n",
       "    }\n",
       "</style>\n",
       "<table border=\"1\" class=\"dataframe\">\n",
       "  <thead>\n",
       "    <tr style=\"text-align: right;\">\n",
       "      <th></th>\n",
       "      <th>Customer_ID</th>\n",
       "      <th>Country</th>\n",
       "      <th>Product_Category</th>\n",
       "      <th>Total_Spend</th>\n",
       "      <th>Month</th>\n",
       "      <th>Age</th>\n",
       "      <th>Segment</th>\n",
       "    </tr>\n",
       "  </thead>\n",
       "  <tbody>\n",
       "    <tr>\n",
       "      <th>0</th>\n",
       "      <td>GER001</td>\n",
       "      <td>GER</td>\n",
       "      <td>Food</td>\n",
       "      <td>18008</td>\n",
       "      <td>3</td>\n",
       "      <td>29</td>\n",
       "      <td>High Spender</td>\n",
       "    </tr>\n",
       "  </tbody>\n",
       "</table>\n",
       "</div>"
      ],
      "text/plain": [
       "  Customer_ID Country Product_Category  Total_Spend  Month  Age       Segment\n",
       "0      GER001     GER             Food        18008      3   29  High Spender"
      ]
     },
     "execution_count": 3,
     "metadata": {},
     "output_type": "execute_result"
    }
   ],
   "source": [
    "def get_segment(amount):\n",
    "    if amount < 2000:\n",
    "        return \"Low Spender\"\n",
    "    elif amount >= 2000 and amount <= 10000:\n",
    "        return \"Medium Spender\"\n",
    "    else:\n",
    "        return \"High Spender\"\n",
    "\n",
    "df[\"Segment\"] = df[\"Total_Spend\"].apply(get_segment)\n",
    "df.head(1)"
   ]
  },
  {
   "cell_type": "code",
   "execution_count": 4,
   "metadata": {},
   "outputs": [
    {
     "name": "stdout",
     "output_type": "stream",
     "text": [
      "Top spender's segment: High Spender with revenue of 408619747\n"
     ]
    }
   ],
   "source": [
    "#Która grupa klientów (Segment) generuje największy przychód?\n",
    "\n",
    "spenders_revenue = df.groupby(\"Segment\")[\"Total_Spend\"].sum().sort_values(ascending=False)\n",
    "print(f\"Top spender's segment: {spenders_revenue.idxmax()} with revenue of {spenders_revenue.max()}\")"
   ]
  },
  {
   "cell_type": "code",
   "execution_count": 5,
   "metadata": {},
   "outputs": [
    {
     "name": "stdout",
     "output_type": "stream",
     "text": [
      "In USA avg total spend is: 12715.1772694782\n",
      "In GER avg total spend is: 10173.27413034304\n",
      "In UK avg total spend is: 7683.5834582858515\n",
      "In IT avg total spend is: 6128.495861324376\n",
      "In PL avg total spend is: 4054.75\n",
      "In CZ avg total spend is: 3038.790057915058\n"
     ]
    }
   ],
   "source": [
    "#Jaka jest średnia wartość zamówienia (Total_Spend) w poszczególnych krajach?\n",
    "spend_per_country = df.groupby(\"Country\")[\"Total_Spend\"].mean().sort_values(ascending=False)\n",
    "\n",
    "for country, value in spend_per_country.items():\n",
    "    print(f\"In {country} avg total spend is: {value}\")"
   ]
  },
  {
   "cell_type": "code",
   "execution_count": 6,
   "metadata": {},
   "outputs": [
    {
     "name": "stdout",
     "output_type": "stream",
     "text": [
      "Country with biggest sales: USA\n",
      "Product category with biggest revenue: Food\n"
     ]
    }
   ],
   "source": [
    "#Który Kraj i kategoria produktów generują największe zyski?\n",
    "print(f\"Country with biggest sales: {spend_per_country.idxmax()}\")\n",
    "biggest_rev_product = df.groupby(\"Product_Category\")[\"Total_Spend\"].sum().sort_values(ascending=False).idxmax()\n",
    "print(f\"Product category with biggest revenue: {biggest_rev_product}\")\n"
   ]
  },
  {
   "cell_type": "code",
   "execution_count": 7,
   "metadata": {},
   "outputs": [
    {
     "name": "stdout",
     "output_type": "stream",
     "text": [
      "Difference between top and lowest revenue in a month: 2873052\n",
      "Lowest month's revenue is: 95.43% of the revenue of the best's month revenue.\n",
      "So, it can be said that the months are fairly equal\n"
     ]
    }
   ],
   "source": [
    "monthly_sales = df.groupby(\"Month\")[\"Total_Spend\"].sum().sort_values(ascending=False)\n",
    "diff_monthly = monthly_sales.max() - monthly_sales.min()\n",
    "print(f\"Difference between top and lowest revenue in a month: {diff_monthly}\")\n",
    "pct_lowest_highest = round(monthly_sales.min() / monthly_sales.max() * 100,2)\n",
    "print(f\"Lowest month's revenue is: {pct_lowest_highest}% of the revenue of the best's month revenue.\")\n",
    "print(\"So, it can be said that the months are fairly equal\")"
   ]
  },
  {
   "cell_type": "code",
   "execution_count": 25,
   "metadata": {},
   "outputs": [
    {
     "data": {
      "text/plain": [
       "31"
      ]
     },
     "execution_count": 25,
     "metadata": {},
     "output_type": "execute_result"
    }
   ],
   "source": [
    "unqiues_ages = sorted(df[\"Age\"].unique())\n",
    "youth = unqiues_ages[:len(unqiues_ages)//2]\n",
    "elders = unqiues_ages[len(unqiues_ages)//2:]\n",
    "\n"
   ]
  },
  {
   "cell_type": "code",
   "execution_count": 27,
   "metadata": {},
   "outputs": [],
   "source": [
    "def get_age(age):\n",
    "    if age <= 48:\n",
    "        return \"Youth\"\n",
    "    else:\n",
    "        return \"Elder\"\n",
    "    \n",
    "df[\"Generation\"] = df[\"Age\"].apply(get_age)"
   ]
  },
  {
   "cell_type": "code",
   "execution_count": 29,
   "metadata": {},
   "outputs": [
    {
     "data": {
      "text/plain": [
       "Generation\n",
       "Elder    367659053\n",
       "Youth    362931639\n",
       "Name: Total_Spend, dtype: int64"
      ]
     },
     "execution_count": 29,
     "metadata": {},
     "output_type": "execute_result"
    }
   ],
   "source": [
    "age_comparison_sales = df.groupby(\"Generation\")[\"Total_Spend\"].sum().sort_values(ascending=False)\n",
    "print(age_comparison_sales)\n",
    "print('Clearly, older half of the spenders - \"Elders\" - spend more money on shopping.')"
   ]
  },
  {
   "cell_type": "code",
   "execution_count": 32,
   "metadata": {},
   "outputs": [
    {
     "name": "stdout",
     "output_type": "stream",
     "text": [
      "On avarage, people in age of 18 spent 7157.6 money.\n",
      "On avarage, people in age of 19 spent 7349.5 money.\n",
      "On avarage, people in age of 20 spent 7063.15 money.\n",
      "On avarage, people in age of 21 spent 7144.48 money.\n",
      "On avarage, people in age of 22 spent 7156.44 money.\n",
      "On avarage, people in age of 23 spent 7272.3 money.\n",
      "On avarage, people in age of 24 spent 7650.04 money.\n",
      "On avarage, people in age of 25 spent 7300.7 money.\n",
      "On avarage, people in age of 26 spent 7240.49 money.\n",
      "On avarage, people in age of 27 spent 7523.14 money.\n",
      "On avarage, people in age of 28 spent 7254.45 money.\n",
      "On avarage, people in age of 29 spent 7444.89 money.\n",
      "On avarage, people in age of 30 spent 7321.21 money.\n",
      "On avarage, people in age of 31 spent 7157.05 money.\n",
      "On avarage, people in age of 32 spent 7475.53 money.\n",
      "On avarage, people in age of 33 spent 7358.78 money.\n",
      "On avarage, people in age of 34 spent 7287.04 money.\n",
      "On avarage, people in age of 35 spent 7166.14 money.\n",
      "On avarage, people in age of 36 spent 7332.55 money.\n",
      "On avarage, people in age of 37 spent 7235.2 money.\n",
      "On avarage, people in age of 38 spent 7461.46 money.\n",
      "On avarage, people in age of 39 spent 7373.82 money.\n",
      "On avarage, people in age of 40 spent 7322.24 money.\n",
      "On avarage, people in age of 41 spent 7288.62 money.\n",
      "On avarage, people in age of 42 spent 7066.01 money.\n",
      "On avarage, people in age of 43 spent 7299.74 money.\n",
      "On avarage, people in age of 44 spent 7394.79 money.\n",
      "On avarage, people in age of 45 spent 7253.06 money.\n",
      "On avarage, people in age of 46 spent 7207.37 money.\n",
      "On avarage, people in age of 47 spent 7190.65 money.\n",
      "On avarage, people in age of 48 spent 7436.05 money.\n",
      "On avarage, people in age of 49 spent 7145.85 money.\n",
      "On avarage, people in age of 50 spent 7478.29 money.\n",
      "On avarage, people in age of 51 spent 7341.89 money.\n",
      "On avarage, people in age of 52 spent 7383.41 money.\n",
      "On avarage, people in age of 53 spent 7438.13 money.\n",
      "On avarage, people in age of 54 spent 7244.7 money.\n",
      "On avarage, people in age of 55 spent 7017.12 money.\n",
      "On avarage, people in age of 56 spent 7232.43 money.\n",
      "On avarage, people in age of 57 spent 7198.27 money.\n",
      "On avarage, people in age of 58 spent 7319.04 money.\n",
      "On avarage, people in age of 59 spent 7253.49 money.\n",
      "On avarage, people in age of 60 spent 7433.83 money.\n",
      "On avarage, people in age of 61 spent 7191.32 money.\n",
      "On avarage, people in age of 62 spent 7330.14 money.\n",
      "On avarage, people in age of 63 spent 7288.05 money.\n",
      "On avarage, people in age of 64 spent 7447.5 money.\n",
      "On avarage, people in age of 65 spent 7383.81 money.\n",
      "On avarage, people in age of 66 spent 7408.48 money.\n",
      "On avarage, people in age of 67 spent 7381.77 money.\n",
      "On avarage, people in age of 68 spent 7214.06 money.\n",
      "On avarage, people in age of 69 spent 7210.42 money.\n",
      "On avarage, people in age of 70 spent 7318.86 money.\n",
      "On avarage, people in age of 71 spent 7340.53 money.\n",
      "On avarage, people in age of 72 spent 7407.78 money.\n",
      "On avarage, people in age of 73 spent 7160.22 money.\n",
      "On avarage, people in age of 74 spent 7410.97 money.\n",
      "On avarage, people in age of 75 spent 7495.57 money.\n",
      "On avarage, people in age of 76 spent 7481.34 money.\n",
      "On avarage, people in age of 77 spent 7295.76 money.\n",
      "On avarage, people in age of 78 spent 7109.32 money.\n",
      "On avarage, people in age of 79 spent 7395.32 money.\n"
     ]
    }
   ],
   "source": [
    "sales_by_age = round(df.groupby(\"Age\")[\"Total_Spend\"].mean(),2)\n",
    "for age, spend in sales_by_age.items():\n",
    "    print(f\"On avarage, people in age of {age} spent {spend} money.\")"
   ]
  },
  {
   "cell_type": "code",
   "execution_count": null,
   "metadata": {},
   "outputs": [],
   "source": []
  }
 ],
 "metadata": {
  "kernelspec": {
   "display_name": "Python 3",
   "language": "python",
   "name": "python3"
  },
  "language_info": {
   "codemirror_mode": {
    "name": "ipython",
    "version": 3
   },
   "file_extension": ".py",
   "mimetype": "text/x-python",
   "name": "python",
   "nbconvert_exporter": "python",
   "pygments_lexer": "ipython3",
   "version": "3.11.3"
  }
 },
 "nbformat": 4,
 "nbformat_minor": 2
}
