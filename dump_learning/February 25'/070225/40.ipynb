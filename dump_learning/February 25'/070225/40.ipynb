{
 "cells": [
  {
   "cell_type": "code",
   "execution_count": 1,
   "metadata": {},
   "outputs": [],
   "source": [
    "class User:\n",
    "    def __init__(self, user_id, name, age):\n",
    "        self.id = user_id\n",
    "        self.name = name\n",
    "        self.age = age"
   ]
  },
  {
   "cell_type": "code",
   "execution_count": 11,
   "metadata": {},
   "outputs": [],
   "source": [
    "from pydantic import BaseModel\n",
    "from typing import Optional"
   ]
  },
  {
   "cell_type": "code",
   "execution_count": 6,
   "metadata": {},
   "outputs": [
    {
     "data": {
      "text/plain": [
       "10"
      ]
     },
     "execution_count": 6,
     "metadata": {},
     "output_type": "execute_result"
    }
   ],
   "source": [
    "hubert = User(10, \"Hubert\", 29)\n",
    "hubert.id"
   ]
  },
  {
   "cell_type": "code",
   "execution_count": null,
   "metadata": {},
   "outputs": [
    {
     "data": {
      "text/plain": [
       "User(id=5, name='Kuba', age=25)"
      ]
     },
     "execution_count": 10,
     "metadata": {},
     "output_type": "execute_result"
    }
   ],
   "source": [
    "class User(BaseModel):\n",
    "    id: int\n",
    "    name: str\n",
    "    age: int\n",
    "    address: Optional[str] = None\n",
    "    \n",
    "kuba = User(id= 5, name=\"Kuba\", age=25)\n",
    "kuba"
   ]
  },
  {
   "cell_type": "code",
   "execution_count": 12,
   "metadata": {},
   "outputs": [
    {
     "data": {
      "text/plain": [
       "User(id=9, name='Dhaval', age=35)"
      ]
     },
     "execution_count": 12,
     "metadata": {},
     "output_type": "execute_result"
    }
   ],
   "source": [
    "dhaval = User(id=9, name=\"Dhaval\", age=35, address=\"Pajeczynowa 123\")\n",
    "dhaval"
   ]
  },
  {
   "cell_type": "code",
   "execution_count": 13,
   "metadata": {},
   "outputs": [
    {
     "data": {
      "text/plain": [
       "User(id=9, name='Dhaval', age=35)"
      ]
     },
     "execution_count": 13,
     "metadata": {},
     "output_type": "execute_result"
    }
   ],
   "source": [
    "dhaval = User(id=9, name=\"Dhaval\", age=35)\n",
    "dhaval"
   ]
  },
  {
   "cell_type": "code",
   "execution_count": 14,
   "metadata": {},
   "outputs": [
    {
     "name": "stdout",
     "output_type": "stream",
     "text": [
      "Poprawny użytkownik: id=1 name='Jan' email='jan@example.com'\n",
      "Błędy walidacji dla niepoprawnych danych:\n",
      "[{\"type\":\"int_parsing\",\"loc\":[\"id\"],\"msg\":\"Input should be a valid integer, unable to parse string as an integer\",\"input\":\"abc\",\"url\":\"https://errors.pydantic.dev/2.10/v/int_parsing\"},{\"type\":\"value_error\",\"loc\":[\"name\"],\"msg\":\"Value error, Imię musi zaczynać się od wielkiej litery\",\"input\":\"jan\",\"ctx\":{\"error\":\"Imię musi zaczynać się od wielkiej litery\"},\"url\":\"https://errors.pydantic.dev/2.10/v/value_error\"},{\"type\":\"value_error\",\"loc\":[\"email\"],\"msg\":\"value is not a valid email address: An email address must have an @-sign.\",\"input\":\"invalid-email\",\"ctx\":{\"reason\":\"An email address must have an @-sign.\"},\"url\":\"https://errors.pydantic.dev/2.10/v/value_error\"}]\n"
     ]
    },
    {
     "name": "stderr",
     "output_type": "stream",
     "text": [
      "C:\\Users\\USER\\AppData\\Local\\Temp\\ipykernel_15224\\3155683414.py:10: PydanticDeprecatedSince20: Pydantic V1 style `@validator` validators are deprecated. You should migrate to Pydantic V2 style `@field_validator` validators, see the migration guide for more details. Deprecated in Pydantic V2.0 to be removed in V3.0. See Pydantic V2 Migration Guide at https://errors.pydantic.dev/2.10/migration/\n",
      "  @validator('name')\n"
     ]
    }
   ],
   "source": [
    "from pydantic import BaseModel, EmailStr, ValidationError, validator\n",
    "\n",
    "\n",
    "class User(BaseModel):\n",
    "    id: int\n",
    "    name: str\n",
    "    email: EmailStr  \n",
    "\n",
    "   \n",
    "    @validator('name')\n",
    "    def name_must_be_capitalized(cls, value):\n",
    "        if not value[0].isupper():\n",
    "            raise ValueError('Imię musi zaczynać się od wielkiej litery')\n",
    "        return value\n",
    "\n",
    "\n",
    "try:\n",
    "    user = User(id=1, name=\"Jan\", email=\"jan@example.com\")\n",
    "    print(\"Poprawny użytkownik:\", user)\n",
    "except ValidationError as e:\n",
    "    print(\"Błąd walidacji:\", e.json())\n",
    "\n",
    "\n",
    "try:\n",
    "    user = User(id='abc', name=\"jan\", email=\"invalid-email\")\n",
    "except ValidationError as e:\n",
    "    print(\"Błędy walidacji dla niepoprawnych danych:\")\n",
    "    print(e.json())\n"
   ]
  },
  {
   "cell_type": "code",
   "execution_count": null,
   "metadata": {},
   "outputs": [],
   "source": []
  }
 ],
 "metadata": {
  "kernelspec": {
   "display_name": "Python 3",
   "language": "python",
   "name": "python3"
  },
  "language_info": {
   "codemirror_mode": {
    "name": "ipython",
    "version": 3
   },
   "file_extension": ".py",
   "mimetype": "text/x-python",
   "name": "python",
   "nbconvert_exporter": "python",
   "pygments_lexer": "ipython3",
   "version": "3.11.3"
  }
 },
 "nbformat": 4,
 "nbformat_minor": 2
}
