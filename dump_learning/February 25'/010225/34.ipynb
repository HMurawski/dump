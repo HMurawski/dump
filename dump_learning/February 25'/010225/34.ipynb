{
 "cells": [
  {
   "cell_type": "code",
   "execution_count": 22,
   "metadata": {},
   "outputs": [],
   "source": [
    "import pandas as pd\n",
    "import numpy as np\n",
    "from datetime import datetime, timedelta\n",
    "import matplotlib.pyplot as plt"
   ]
  },
  {
   "cell_type": "code",
   "execution_count": 2,
   "metadata": {},
   "outputs": [],
   "source": [
    "num_orders = 1000\n",
    "products = [\"Laptop\", \"Phone\", \"Tablet\", \"Monitor\", \"Keyboard\"]\n",
    "regions = [\"North\", \"South\", \"East\", \"West\"]\n",
    "\n",
    "data = {\n",
    "    \"order_id\": np.arange(1, num_orders + 1),\n",
    "    \"product\": np.random.choice(products, num_orders),\n",
    "    \"quantity\": np.random.randint(1, 10, num_orders),\n",
    "    \"price\": np.random.uniform(100, 2000, num_orders).round(2),\n",
    "    \"date\": [datetime.today() - timedelta(days=np.random.randint(1, 365)) for _ in range(num_orders)],\n",
    "    \"region\": np.random.choice(regions, num_orders)\n",
    "}\n",
    "\n",
    "df = pd.DataFrame(data)\n",
    "df.to_csv(\"sales_data.csv\", index=False)"
   ]
  },
  {
   "cell_type": "code",
   "execution_count": 3,
   "metadata": {},
   "outputs": [
    {
     "data": {
      "text/html": [
       "<div>\n",
       "<style scoped>\n",
       "    .dataframe tbody tr th:only-of-type {\n",
       "        vertical-align: middle;\n",
       "    }\n",
       "\n",
       "    .dataframe tbody tr th {\n",
       "        vertical-align: top;\n",
       "    }\n",
       "\n",
       "    .dataframe thead th {\n",
       "        text-align: right;\n",
       "    }\n",
       "</style>\n",
       "<table border=\"1\" class=\"dataframe\">\n",
       "  <thead>\n",
       "    <tr style=\"text-align: right;\">\n",
       "      <th></th>\n",
       "      <th>order_id</th>\n",
       "      <th>product</th>\n",
       "      <th>quantity</th>\n",
       "      <th>price</th>\n",
       "      <th>date</th>\n",
       "      <th>region</th>\n",
       "    </tr>\n",
       "  </thead>\n",
       "  <tbody>\n",
       "    <tr>\n",
       "      <th>0</th>\n",
       "      <td>1</td>\n",
       "      <td>Phone</td>\n",
       "      <td>6</td>\n",
       "      <td>593.86</td>\n",
       "      <td>2024-03-28 18:10:38.994363</td>\n",
       "      <td>South</td>\n",
       "    </tr>\n",
       "    <tr>\n",
       "      <th>1</th>\n",
       "      <td>2</td>\n",
       "      <td>Phone</td>\n",
       "      <td>9</td>\n",
       "      <td>1913.59</td>\n",
       "      <td>2024-04-02 18:10:38.994363</td>\n",
       "      <td>East</td>\n",
       "    </tr>\n",
       "    <tr>\n",
       "      <th>2</th>\n",
       "      <td>3</td>\n",
       "      <td>Monitor</td>\n",
       "      <td>7</td>\n",
       "      <td>1669.81</td>\n",
       "      <td>2024-03-30 18:10:38.994363</td>\n",
       "      <td>North</td>\n",
       "    </tr>\n",
       "    <tr>\n",
       "      <th>3</th>\n",
       "      <td>4</td>\n",
       "      <td>Keyboard</td>\n",
       "      <td>8</td>\n",
       "      <td>1531.39</td>\n",
       "      <td>2024-08-04 18:10:38.994363</td>\n",
       "      <td>South</td>\n",
       "    </tr>\n",
       "    <tr>\n",
       "      <th>4</th>\n",
       "      <td>5</td>\n",
       "      <td>Phone</td>\n",
       "      <td>8</td>\n",
       "      <td>1272.26</td>\n",
       "      <td>2024-02-16 18:10:38.994363</td>\n",
       "      <td>East</td>\n",
       "    </tr>\n",
       "    <tr>\n",
       "      <th>...</th>\n",
       "      <td>...</td>\n",
       "      <td>...</td>\n",
       "      <td>...</td>\n",
       "      <td>...</td>\n",
       "      <td>...</td>\n",
       "      <td>...</td>\n",
       "    </tr>\n",
       "    <tr>\n",
       "      <th>995</th>\n",
       "      <td>996</td>\n",
       "      <td>Laptop</td>\n",
       "      <td>9</td>\n",
       "      <td>307.56</td>\n",
       "      <td>2025-01-06 18:10:38.998366</td>\n",
       "      <td>North</td>\n",
       "    </tr>\n",
       "    <tr>\n",
       "      <th>996</th>\n",
       "      <td>997</td>\n",
       "      <td>Phone</td>\n",
       "      <td>1</td>\n",
       "      <td>1779.65</td>\n",
       "      <td>2024-03-03 18:10:38.998366</td>\n",
       "      <td>West</td>\n",
       "    </tr>\n",
       "    <tr>\n",
       "      <th>997</th>\n",
       "      <td>998</td>\n",
       "      <td>Monitor</td>\n",
       "      <td>7</td>\n",
       "      <td>280.40</td>\n",
       "      <td>2024-11-16 18:10:38.998366</td>\n",
       "      <td>South</td>\n",
       "    </tr>\n",
       "    <tr>\n",
       "      <th>998</th>\n",
       "      <td>999</td>\n",
       "      <td>Keyboard</td>\n",
       "      <td>1</td>\n",
       "      <td>320.39</td>\n",
       "      <td>2024-10-15 18:10:38.998366</td>\n",
       "      <td>North</td>\n",
       "    </tr>\n",
       "    <tr>\n",
       "      <th>999</th>\n",
       "      <td>1000</td>\n",
       "      <td>Monitor</td>\n",
       "      <td>2</td>\n",
       "      <td>417.75</td>\n",
       "      <td>2024-04-18 18:10:38.998366</td>\n",
       "      <td>West</td>\n",
       "    </tr>\n",
       "  </tbody>\n",
       "</table>\n",
       "<p>1000 rows × 6 columns</p>\n",
       "</div>"
      ],
      "text/plain": [
       "     order_id   product  quantity    price                       date region\n",
       "0           1     Phone         6   593.86 2024-03-28 18:10:38.994363  South\n",
       "1           2     Phone         9  1913.59 2024-04-02 18:10:38.994363   East\n",
       "2           3   Monitor         7  1669.81 2024-03-30 18:10:38.994363  North\n",
       "3           4  Keyboard         8  1531.39 2024-08-04 18:10:38.994363  South\n",
       "4           5     Phone         8  1272.26 2024-02-16 18:10:38.994363   East\n",
       "..        ...       ...       ...      ...                        ...    ...\n",
       "995       996    Laptop         9   307.56 2025-01-06 18:10:38.998366  North\n",
       "996       997     Phone         1  1779.65 2024-03-03 18:10:38.998366   West\n",
       "997       998   Monitor         7   280.40 2024-11-16 18:10:38.998366  South\n",
       "998       999  Keyboard         1   320.39 2024-10-15 18:10:38.998366  North\n",
       "999      1000   Monitor         2   417.75 2024-04-18 18:10:38.998366   West\n",
       "\n",
       "[1000 rows x 6 columns]"
      ]
     },
     "execution_count": 3,
     "metadata": {},
     "output_type": "execute_result"
    }
   ],
   "source": [
    "df"
   ]
  },
  {
   "cell_type": "code",
   "execution_count": 4,
   "metadata": {},
   "outputs": [],
   "source": [
    "df.drop_duplicates(inplace=True)"
   ]
  },
  {
   "cell_type": "code",
   "execution_count": 6,
   "metadata": {},
   "outputs": [
    {
     "data": {
      "text/html": [
       "<div>\n",
       "<style scoped>\n",
       "    .dataframe tbody tr th:only-of-type {\n",
       "        vertical-align: middle;\n",
       "    }\n",
       "\n",
       "    .dataframe tbody tr th {\n",
       "        vertical-align: top;\n",
       "    }\n",
       "\n",
       "    .dataframe thead th {\n",
       "        text-align: right;\n",
       "    }\n",
       "</style>\n",
       "<table border=\"1\" class=\"dataframe\">\n",
       "  <thead>\n",
       "    <tr style=\"text-align: right;\">\n",
       "      <th></th>\n",
       "      <th>order_id</th>\n",
       "      <th>product</th>\n",
       "      <th>quantity</th>\n",
       "      <th>price</th>\n",
       "      <th>date</th>\n",
       "      <th>region</th>\n",
       "    </tr>\n",
       "  </thead>\n",
       "  <tbody>\n",
       "    <tr>\n",
       "      <th>0</th>\n",
       "      <td>1</td>\n",
       "      <td>Phone</td>\n",
       "      <td>6</td>\n",
       "      <td>593.86</td>\n",
       "      <td>2024-03-28 18:10:38.994363</td>\n",
       "      <td>South</td>\n",
       "    </tr>\n",
       "    <tr>\n",
       "      <th>1</th>\n",
       "      <td>2</td>\n",
       "      <td>Phone</td>\n",
       "      <td>9</td>\n",
       "      <td>1913.59</td>\n",
       "      <td>2024-04-02 18:10:38.994363</td>\n",
       "      <td>East</td>\n",
       "    </tr>\n",
       "    <tr>\n",
       "      <th>2</th>\n",
       "      <td>3</td>\n",
       "      <td>Monitor</td>\n",
       "      <td>7</td>\n",
       "      <td>1669.81</td>\n",
       "      <td>2024-03-30 18:10:38.994363</td>\n",
       "      <td>North</td>\n",
       "    </tr>\n",
       "    <tr>\n",
       "      <th>3</th>\n",
       "      <td>4</td>\n",
       "      <td>Keyboard</td>\n",
       "      <td>8</td>\n",
       "      <td>1531.39</td>\n",
       "      <td>2024-08-04 18:10:38.994363</td>\n",
       "      <td>South</td>\n",
       "    </tr>\n",
       "    <tr>\n",
       "      <th>4</th>\n",
       "      <td>5</td>\n",
       "      <td>Phone</td>\n",
       "      <td>8</td>\n",
       "      <td>1272.26</td>\n",
       "      <td>2024-02-16 18:10:38.994363</td>\n",
       "      <td>East</td>\n",
       "    </tr>\n",
       "  </tbody>\n",
       "</table>\n",
       "</div>"
      ],
      "text/plain": [
       "   order_id   product  quantity    price                       date region\n",
       "0         1     Phone         6   593.86 2024-03-28 18:10:38.994363  South\n",
       "1         2     Phone         9  1913.59 2024-04-02 18:10:38.994363   East\n",
       "2         3   Monitor         7  1669.81 2024-03-30 18:10:38.994363  North\n",
       "3         4  Keyboard         8  1531.39 2024-08-04 18:10:38.994363  South\n",
       "4         5     Phone         8  1272.26 2024-02-16 18:10:38.994363   East"
      ]
     },
     "execution_count": 6,
     "metadata": {},
     "output_type": "execute_result"
    }
   ],
   "source": [
    "df.head()"
   ]
  },
  {
   "cell_type": "code",
   "execution_count": 7,
   "metadata": {},
   "outputs": [
    {
     "data": {
      "text/html": [
       "<div>\n",
       "<style scoped>\n",
       "    .dataframe tbody tr th:only-of-type {\n",
       "        vertical-align: middle;\n",
       "    }\n",
       "\n",
       "    .dataframe tbody tr th {\n",
       "        vertical-align: top;\n",
       "    }\n",
       "\n",
       "    .dataframe thead th {\n",
       "        text-align: right;\n",
       "    }\n",
       "</style>\n",
       "<table border=\"1\" class=\"dataframe\">\n",
       "  <thead>\n",
       "    <tr style=\"text-align: right;\">\n",
       "      <th></th>\n",
       "      <th>order_id</th>\n",
       "      <th>product</th>\n",
       "      <th>quantity</th>\n",
       "      <th>price</th>\n",
       "      <th>date</th>\n",
       "      <th>region</th>\n",
       "      <th>Total_Revenue</th>\n",
       "    </tr>\n",
       "  </thead>\n",
       "  <tbody>\n",
       "    <tr>\n",
       "      <th>0</th>\n",
       "      <td>1</td>\n",
       "      <td>Phone</td>\n",
       "      <td>6</td>\n",
       "      <td>593.86</td>\n",
       "      <td>2024-03-28 18:10:38.994363</td>\n",
       "      <td>South</td>\n",
       "      <td>3563.16</td>\n",
       "    </tr>\n",
       "    <tr>\n",
       "      <th>1</th>\n",
       "      <td>2</td>\n",
       "      <td>Phone</td>\n",
       "      <td>9</td>\n",
       "      <td>1913.59</td>\n",
       "      <td>2024-04-02 18:10:38.994363</td>\n",
       "      <td>East</td>\n",
       "      <td>17222.31</td>\n",
       "    </tr>\n",
       "  </tbody>\n",
       "</table>\n",
       "</div>"
      ],
      "text/plain": [
       "   order_id product  quantity    price                       date region  \\\n",
       "0         1   Phone         6   593.86 2024-03-28 18:10:38.994363  South   \n",
       "1         2   Phone         9  1913.59 2024-04-02 18:10:38.994363   East   \n",
       "\n",
       "   Total_Revenue  \n",
       "0        3563.16  \n",
       "1       17222.31  "
      ]
     },
     "execution_count": 7,
     "metadata": {},
     "output_type": "execute_result"
    }
   ],
   "source": [
    "df[\"Total_Revenue\"] = df[\"quantity\"] * df[\"price\"]\n",
    "df.head(2)"
   ]
  },
  {
   "cell_type": "code",
   "execution_count": 11,
   "metadata": {},
   "outputs": [
    {
     "name": "stdout",
     "output_type": "stream",
     "text": [
      "Top selling product is: Keyboard\n"
     ]
    }
   ],
   "source": [
    "top_selling_products = df.groupby([\"product\"])[\"Total_Revenue\"].sum().sort_values(ascending=False)\n",
    "top_product = top_selling_products.idxmax()\n",
    "print(f\"Top selling product is: {top_product}\")"
   ]
  },
  {
   "cell_type": "code",
   "execution_count": 14,
   "metadata": {},
   "outputs": [],
   "source": [
    "df['Month'] = df[\"date\"].dt.to_period(\"M\")"
   ]
  },
  {
   "cell_type": "code",
   "execution_count": 19,
   "metadata": {},
   "outputs": [
    {
     "data": {
      "text/plain": [
       "Text(0.5, 1.0, 'Monthly Revenue')"
      ]
     },
     "execution_count": 19,
     "metadata": {},
     "output_type": "execute_result"
    },
    {
     "data": {
      "image/png": "[encoded data removed]",
      "text/plain": [
       "<Figure size 1000x600 with 1 Axes>"
      ]
     },
     "metadata": {},
     "output_type": "display_data"
    }
   ],
   "source": [
    "plt.figure(figsize=(10,6))\n",
    "df.groupby(\"Month\")[\"Total_Revenue\"].sum().plot()\n",
    "plt.title(\"Monthly Revenue\")"
   ]
  },
  {
   "cell_type": "code",
   "execution_count": 24,
   "metadata": {},
   "outputs": [
    {
     "data": {
      "text/html": [
       "<div>\n",
       "<style scoped>\n",
       "    .dataframe tbody tr th:only-of-type {\n",
       "        vertical-align: middle;\n",
       "    }\n",
       "\n",
       "    .dataframe tbody tr th {\n",
       "        vertical-align: top;\n",
       "    }\n",
       "\n",
       "    .dataframe thead th {\n",
       "        text-align: right;\n",
       "    }\n",
       "</style>\n",
       "<table border=\"1\" class=\"dataframe\">\n",
       "  <thead>\n",
       "    <tr style=\"text-align: right;\">\n",
       "      <th></th>\n",
       "      <th>order</th>\n",
       "      <th>cust</th>\n",
       "    </tr>\n",
       "  </thead>\n",
       "  <tbody>\n",
       "    <tr>\n",
       "      <th>0</th>\n",
       "      <td>1</td>\n",
       "      <td>1</td>\n",
       "    </tr>\n",
       "    <tr>\n",
       "      <th>1</th>\n",
       "      <td>2</td>\n",
       "      <td>1</td>\n",
       "    </tr>\n",
       "    <tr>\n",
       "      <th>2</th>\n",
       "      <td>3</td>\n",
       "      <td>1</td>\n",
       "    </tr>\n",
       "    <tr>\n",
       "      <th>3</th>\n",
       "      <td>4</td>\n",
       "      <td>2</td>\n",
       "    </tr>\n",
       "    <tr>\n",
       "      <th>4</th>\n",
       "      <td>5</td>\n",
       "      <td>2</td>\n",
       "    </tr>\n",
       "  </tbody>\n",
       "</table>\n",
       "</div>"
      ],
      "text/plain": [
       "   order  cust\n",
       "0      1     1\n",
       "1      2     1\n",
       "2      3     1\n",
       "3      4     2\n",
       "4      5     2"
      ]
     },
     "execution_count": 24,
     "metadata": {},
     "output_type": "execute_result"
    }
   ],
   "source": [
    "data = {\n",
    "    'order' : [1,2,3,4,5],\n",
    "    'cust' : [1,1,1,2,2]\n",
    "}\n",
    "dfac = pd.DataFrame(data)\n",
    "dfac"
   ]
  },
  {
   "cell_type": "code",
   "execution_count": 45,
   "metadata": {},
   "outputs": [],
   "source": [
    "a = dfac.groupby('cust')['order'].count().reset_index().sort_values(by=\"order\", ascending=False)\n",
    "\n"
   ]
  },
  {
   "cell_type": "code",
   "execution_count": 57,
   "metadata": {},
   "outputs": [
    {
     "data": {
      "text/plain": [
       "pandas.core.frame.DataFrame"
      ]
     },
     "execution_count": 57,
     "metadata": {},
     "output_type": "execute_result"
    }
   ],
   "source": [
    "type(a[[\"cust\"]].iloc[[0]])"
   ]
  },
  {
   "cell_type": "code",
   "execution_count": 62,
   "metadata": {},
   "outputs": [
    {
     "data": {
      "text/html": [
       "<div>\n",
       "<style scoped>\n",
       "    .dataframe tbody tr th:only-of-type {\n",
       "        vertical-align: middle;\n",
       "    }\n",
       "\n",
       "    .dataframe tbody tr th {\n",
       "        vertical-align: top;\n",
       "    }\n",
       "\n",
       "    .dataframe thead th {\n",
       "        text-align: right;\n",
       "    }\n",
       "</style>\n",
       "<table border=\"1\" class=\"dataframe\">\n",
       "  <thead>\n",
       "    <tr style=\"text-align: right;\">\n",
       "      <th></th>\n",
       "      <th>cust</th>\n",
       "    </tr>\n",
       "  </thead>\n",
       "  <tbody>\n",
       "    <tr>\n",
       "      <th>0</th>\n",
       "      <td>1</td>\n",
       "    </tr>\n",
       "  </tbody>\n",
       "</table>\n",
       "</div>"
      ],
      "text/plain": [
       "   cust\n",
       "0     1"
      ]
     },
     "execution_count": 62,
     "metadata": {},
     "output_type": "execute_result"
    }
   ],
   "source": [
    "d = dfac.groupby('cust', as_index=False)[\"order\"].count()\n",
    "d.nlargest(1, \"order\")[[\"cust\"]]"
   ]
  }
 ],
 "metadata": {
  "kernelspec": {
   "display_name": "Python 3",
   "language": "python",
   "name": "python3"
  },
  "language_info": {
   "codemirror_mode": {
    "name": "ipython",
    "version": 3
   },
   "file_extension": ".py",
   "mimetype": "text/x-python",
   "name": "python",
   "nbconvert_exporter": "python",
   "pygments_lexer": "ipython3",
   "version": "3.11.3"
  }
 },
 "nbformat": 4,
 "nbformat_minor": 2
}
