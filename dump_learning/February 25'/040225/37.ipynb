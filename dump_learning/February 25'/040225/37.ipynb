{
 "cells": [
  {
   "cell_type": "code",
   "execution_count": 1,
   "metadata": {},
   "outputs": [],
   "source": [
    "import pandas as pd\n",
    "import numpy as np\n",
    "import matplotlib.pyplot as plt\n",
    "import seaborn as sns"
   ]
  },
  {
   "cell_type": "code",
   "execution_count": 5,
   "metadata": {},
   "outputs": [
    {
     "data": {
      "text/html": [
       "<div>\n",
       "<style scoped>\n",
       "    .dataframe tbody tr th:only-of-type {\n",
       "        vertical-align: middle;\n",
       "    }\n",
       "\n",
       "    .dataframe tbody tr th {\n",
       "        vertical-align: top;\n",
       "    }\n",
       "\n",
       "    .dataframe thead th {\n",
       "        text-align: right;\n",
       "    }\n",
       "</style>\n",
       "<table border=\"1\" class=\"dataframe\">\n",
       "  <thead>\n",
       "    <tr style=\"text-align: right;\">\n",
       "      <th></th>\n",
       "      <th>Customer_ID</th>\n",
       "      <th>Country</th>\n",
       "      <th>Product_Category</th>\n",
       "      <th>Total_Spend</th>\n",
       "      <th>Month</th>\n",
       "      <th>Age</th>\n",
       "    </tr>\n",
       "  </thead>\n",
       "  <tbody>\n",
       "    <tr>\n",
       "      <th>0</th>\n",
       "      <td>UK001</td>\n",
       "      <td>UK</td>\n",
       "      <td>Food</td>\n",
       "      <td>3147</td>\n",
       "      <td>1</td>\n",
       "      <td>29</td>\n",
       "    </tr>\n",
       "    <tr>\n",
       "      <th>1</th>\n",
       "      <td>UK002</td>\n",
       "      <td>UK</td>\n",
       "      <td>Electronics</td>\n",
       "      <td>5611</td>\n",
       "      <td>10</td>\n",
       "      <td>77</td>\n",
       "    </tr>\n",
       "    <tr>\n",
       "      <th>2</th>\n",
       "      <td>IT001</td>\n",
       "      <td>IT</td>\n",
       "      <td>Food</td>\n",
       "      <td>11381</td>\n",
       "      <td>7</td>\n",
       "      <td>63</td>\n",
       "    </tr>\n",
       "    <tr>\n",
       "      <th>3</th>\n",
       "      <td>CZ001</td>\n",
       "      <td>CZ</td>\n",
       "      <td>Food</td>\n",
       "      <td>5344</td>\n",
       "      <td>3</td>\n",
       "      <td>62</td>\n",
       "    </tr>\n",
       "    <tr>\n",
       "      <th>4</th>\n",
       "      <td>PL001</td>\n",
       "      <td>PL</td>\n",
       "      <td>Electronics</td>\n",
       "      <td>760</td>\n",
       "      <td>10</td>\n",
       "      <td>32</td>\n",
       "    </tr>\n",
       "  </tbody>\n",
       "</table>\n",
       "</div>"
      ],
      "text/plain": [
       "  Customer_ID Country Product_Category  Total_Spend  Month  Age\n",
       "0       UK001      UK             Food         3147      1   29\n",
       "1       UK002      UK      Electronics         5611     10   77\n",
       "2       IT001      IT             Food        11381      7   63\n",
       "3       CZ001      CZ             Food         5344      3   62\n",
       "4       PL001      PL      Electronics          760     10   32"
      ]
     },
     "execution_count": 5,
     "metadata": {},
     "output_type": "execute_result"
    }
   ],
   "source": [
    "\n",
    "Countries = [\"PL\", \"GER\", \"UK\", \"USA\", \"CZ\", \"IT\"]\n",
    "Product_Category = [\"Electronics\", \"Clothing\", \"Food\"]\n",
    "data = {\n",
    "    \"Customer_ID\" : np.arange(100000),\n",
    "    \"Country\" : np.random.choice(Countries, 100000),\n",
    "    \"Product_Category\" : np.random.choice(Product_Category, 100000),\n",
    "    \"Total_Spend\" : np.random.randint(low=50, high=25000, size=(100000)),\n",
    "    \"Month\": np.random.randint(1,13, 100000),\n",
    "    \"Age\": np.random.randint(low=18, high=80, size=(100000)),\n",
    "}\n",
    "df = pd.DataFrame(data)\n",
    "#data validation by increasing amount spent based on country's wealth\n",
    "spend_distribution = {\n",
    "    \"USA\": (500, 25000),\n",
    "    \"GER\": (400, 20000),\n",
    "    \"UK\": (300, 15000),\n",
    "    \"PL\": (100, 8000),\n",
    "    \"CZ\": (50, 6000),\n",
    "    \"IT\": (200, 12000)\n",
    "}\n",
    "df[\"Total_Spend\"] = df[\"Country\"].apply(lambda x: np.random.randint(*spend_distribution[x]))\n",
    "df['Customer_ID'] = df['Country'] + (df.groupby('Country').cumcount() + 1).astype(str).str.zfill(3)\n",
    "df.head()"
   ]
  },
  {
   "cell_type": "code",
   "execution_count": 6,
   "metadata": {},
   "outputs": [
    {
     "data": {
      "text/html": [
       "<div>\n",
       "<style scoped>\n",
       "    .dataframe tbody tr th:only-of-type {\n",
       "        vertical-align: middle;\n",
       "    }\n",
       "\n",
       "    .dataframe tbody tr th {\n",
       "        vertical-align: top;\n",
       "    }\n",
       "\n",
       "    .dataframe thead th {\n",
       "        text-align: right;\n",
       "    }\n",
       "</style>\n",
       "<table border=\"1\" class=\"dataframe\">\n",
       "  <thead>\n",
       "    <tr style=\"text-align: right;\">\n",
       "      <th></th>\n",
       "      <th>Customer_ID</th>\n",
       "      <th>Country</th>\n",
       "      <th>Product_Category</th>\n",
       "      <th>Total_Spend</th>\n",
       "      <th>Month</th>\n",
       "      <th>Age</th>\n",
       "      <th>Segment</th>\n",
       "    </tr>\n",
       "  </thead>\n",
       "  <tbody>\n",
       "    <tr>\n",
       "      <th>0</th>\n",
       "      <td>UK001</td>\n",
       "      <td>UK</td>\n",
       "      <td>Food</td>\n",
       "      <td>3147</td>\n",
       "      <td>1</td>\n",
       "      <td>29</td>\n",
       "      <td>Medium Spender</td>\n",
       "    </tr>\n",
       "  </tbody>\n",
       "</table>\n",
       "</div>"
      ],
      "text/plain": [
       "  Customer_ID Country Product_Category  Total_Spend  Month  Age  \\\n",
       "0       UK001      UK             Food         3147      1   29   \n",
       "\n",
       "          Segment  \n",
       "0  Medium Spender  "
      ]
     },
     "execution_count": 6,
     "metadata": {},
     "output_type": "execute_result"
    }
   ],
   "source": [
    "def get_segment(amount):\n",
    "    if amount < 2000:\n",
    "        return \"Low Spender\"\n",
    "    elif amount >= 2000 and amount <= 10000:\n",
    "        return \"Medium Spender\"\n",
    "    else:\n",
    "        return \"High Spender\"\n",
    "\n",
    "df[\"Segment\"] = df[\"Total_Spend\"].apply(get_segment)\n",
    "df.head(1)"
   ]
  },
  {
   "cell_type": "code",
   "execution_count": 9,
   "metadata": {},
   "outputs": [
    {
     "name": "stdout",
     "output_type": "stream",
     "text": [
      "Top spender's segment: High Spender with revenue of 408000665\n"
     ]
    }
   ],
   "source": [
    "#Która grupa klientów (Segment) generuje największy przychód?\n",
    "\n",
    "spenders_revenue = df.groupby(\"Segment\")[\"Total_Spend\"].sum().sort_values(ascending=False)\n",
    "print(f\"Top spender's segment: {spenders_revenue.idxmax()} with revenue of {spenders_revenue.max()}\")"
   ]
  },
  {
   "cell_type": "code",
   "execution_count": null,
   "metadata": {},
   "outputs": [],
   "source": [
    "#Jaka jest średnia wartość zamówienia (Total_Spend) w poszczególnych krajach?\n"
   ]
  }
 ],
 "metadata": {
  "kernelspec": {
   "display_name": "Python 3",
   "language": "python",
   "name": "python3"
  },
  "language_info": {
   "codemirror_mode": {
    "name": "ipython",
    "version": 3
   },
   "file_extension": ".py",
   "mimetype": "text/x-python",
   "name": "python",
   "nbconvert_exporter": "python",
   "pygments_lexer": "ipython3",
   "version": "3.11.3"
  }
 },
 "nbformat": 4,
 "nbformat_minor": 2
}
