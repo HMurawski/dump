{
 "cells": [
  {
   "cell_type": "code",
   "execution_count": 1,
   "metadata": {},
   "outputs": [],
   "source": [
    "import numpy as np"
   ]
  },
  {
   "cell_type": "code",
   "execution_count": 2,
   "metadata": {},
   "outputs": [
    {
     "name": "stdout",
     "output_type": "stream",
     "text": [
      "Wektor wierszowy: [1 2 3]\n",
      "Wektor kolumnowy:\n",
      " [[1]\n",
      " [2]\n",
      " [3]]\n"
     ]
    }
   ],
   "source": [
    "\n",
    "\n",
    "\n",
    "vector_row = np.array([1, 2, 3])\n",
    "print(\"Wektor wierszowy:\", vector_row)\n",
    "\n",
    "\n",
    "vector_column = np.array([[1], [2], [3]])\n",
    "print(\"Wektor kolumnowy:\\n\", vector_column)\n"
   ]
  },
  {
   "cell_type": "code",
   "execution_count": 3,
   "metadata": {},
   "outputs": [
    {
     "name": "stdout",
     "output_type": "stream",
     "text": [
      "Macierz:\n",
      " [[1 2 3]\n",
      " [4 5 6]]\n"
     ]
    }
   ],
   "source": [
    "\n",
    "matrix = np.array([[1, 2, 3], [4, 5, 6]])\n",
    "print(\"Macierz:\\n\", matrix)\n"
   ]
  },
  {
   "cell_type": "code",
   "execution_count": 4,
   "metadata": {},
   "outputs": [
    {
     "name": "stdout",
     "output_type": "stream",
     "text": [
      "Suma macierzy:\n",
      " [[ 6  8]\n",
      " [10 12]]\n",
      "Różnica macierzy:\n",
      " [[-4 -4]\n",
      " [-4 -4]]\n"
     ]
    }
   ],
   "source": [
    "A = np.array([[1, 2], [3, 4]])\n",
    "B = np.array([[5, 6], [7, 8]])\n",
    "\n",
    "# Dodawanie macierzy\n",
    "C = A + B\n",
    "print(\"Suma macierzy:\\n\", C)\n",
    "\n",
    "# Odejmowanie macierzy\n",
    "D = A - B\n",
    "print(\"Różnica macierzy:\\n\", D)\n"
   ]
  },
  {
   "cell_type": "code",
   "execution_count": 5,
   "metadata": {},
   "outputs": [
    {
     "name": "stdout",
     "output_type": "stream",
     "text": [
      "Mnożenie element po elemencie:\n",
      " [[ 5 12]\n",
      " [21 32]]\n",
      "Iloczyn macierzy:\n",
      " [[19 22]\n",
      " [43 50]]\n",
      "Iloczyn macierzy (dot):\n",
      " [[19 22]\n",
      " [43 50]]\n"
     ]
    }
   ],
   "source": [
    "# Mnożenie element po elemencie\n",
    "E = A * B\n",
    "print(\"Mnożenie element po elemencie:\\n\", E)\n",
    "\n",
    "# Iloczyn macierzy (mnożenie macierzowe)\n",
    "F = A @ B\n",
    "print(\"Iloczyn macierzy:\\n\", F)\n",
    "\n",
    "# Alternatywnie\n",
    "G = np.dot(A, B)\n",
    "print(\"Iloczyn macierzy (dot):\\n\", G)\n"
   ]
  },
  {
   "cell_type": "code",
   "execution_count": 6,
   "metadata": {},
   "outputs": [
    {
     "name": "stdout",
     "output_type": "stream",
     "text": [
      "Macierz przed transpozycją:\n",
      " [[1 2]\n",
      " [3 4]]\n",
      "Macierz po transpozycji:\n",
      " [[1 3]\n",
      " [2 4]]\n"
     ]
    }
   ],
   "source": [
    "print(\"Macierz przed transpozycją:\\n\", A)\n",
    "print(\"Macierz po transpozycji:\\n\", A.T)\n",
    "\n"
   ]
  },
  {
   "cell_type": "code",
   "execution_count": 7,
   "metadata": {},
   "outputs": [
    {
     "name": "stdout",
     "output_type": "stream",
     "text": [
      "Determinant macierzy A: -2.0000000000000004\n"
     ]
    }
   ],
   "source": [
    "from numpy.linalg import det\n",
    "\n",
    "det_A = det(A)\n",
    "print(\"Determinant macierzy A:\", det_A)\n"
   ]
  },
  {
   "cell_type": "code",
   "execution_count": 8,
   "metadata": {},
   "outputs": [
    {
     "name": "stdout",
     "output_type": "stream",
     "text": [
      "Macierz odwrotna A:\n",
      " [[-2.   1. ]\n",
      " [ 1.5 -0.5]]\n"
     ]
    }
   ],
   "source": [
    "from numpy.linalg import inv\n",
    "\n",
    "if det_A != 0:\n",
    "    inv_A = inv(A)\n",
    "    print(\"Macierz odwrotna A:\\n\", inv_A)\n",
    "else:\n",
    "    print(\"Macierz nie jest odwracalna\")\n"
   ]
  },
  {
   "cell_type": "code",
   "execution_count": 9,
   "metadata": {},
   "outputs": [
    {
     "name": "stdout",
     "output_type": "stream",
     "text": [
      "Rozwiązanie układu równań: [1. 2.]\n"
     ]
    }
   ],
   "source": [
    "from numpy.linalg import solve\n",
    "\n",
    "A = np.array([[2, 3], [5, 7]])\n",
    "B = np.array([8, 19])\n",
    "\n",
    "X = solve(A, B)\n",
    "print(\"Rozwiązanie układu równań:\", X)\n"
   ]
  },
  {
   "cell_type": "code",
   "execution_count": 10,
   "metadata": {},
   "outputs": [
    {
     "name": "stdout",
     "output_type": "stream",
     "text": [
      "Wagi regresji liniowej: [1.16666667 0.75      ]\n"
     ]
    }
   ],
   "source": [
    "# Dane wejściowe (X) i wartości (Y)\n",
    "X = np.array([[1, 1], [1, 2], [1, 3]])\n",
    "Y = np.array([2, 2.5, 3.5])\n",
    "\n",
    "# Obliczanie wag W\n",
    "W = np.linalg.inv(X.T @ X) @ X.T @ Y\n",
    "print(\"Wagi regresji liniowej:\", W)\n"
   ]
  },
  {
   "cell_type": "code",
   "execution_count": 11,
   "metadata": {},
   "outputs": [
    {
     "name": "stdout",
     "output_type": "stream",
     "text": [
      "Wagi po Gradient Descent: [1.10349936 0.77778741]\n"
     ]
    }
   ],
   "source": [
    "# Gradient Descent dla regresji liniowej\n",
    "def gradient_descent(X, Y, learning_rate=0.01, epochs=1000):\n",
    "    m, n = X.shape\n",
    "    W = np.zeros(n)  # Inicjalizacja wag\n",
    "    for i in range(epochs):\n",
    "        gradient = -(2/m) * X.T @ (Y - X @ W)\n",
    "        W -= learning_rate * gradient\n",
    "    return W\n",
    "\n",
    "W_gd = gradient_descent(X, Y)\n",
    "print(\"Wagi po Gradient Descent:\", W_gd)\n"
   ]
  },
  {
   "cell_type": "code",
   "execution_count": null,
   "metadata": {},
   "outputs": [],
   "source": []
  }
 ],
 "metadata": {
  "kernelspec": {
   "display_name": "Python 3",
   "language": "python",
   "name": "python3"
  },
  "language_info": {
   "codemirror_mode": {
    "name": "ipython",
    "version": 3
   },
   "file_extension": ".py",
   "mimetype": "text/x-python",
   "name": "python",
   "nbconvert_exporter": "python",
   "pygments_lexer": "ipython3",
   "version": "3.11.3"
  }
 },
 "nbformat": 4,
 "nbformat_minor": 2
}
