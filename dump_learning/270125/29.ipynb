{
 "cells": [
  {
   "cell_type": "code",
   "execution_count": 2,
   "metadata": {},
   "outputs": [
    {
     "name": "stdout",
     "output_type": "stream",
     "text": [
      "      Product Region  Sales  Month\n",
      "0   Product_A  North    NaN      1\n",
      "1   Product_B  South  202.0      2\n",
      "2   Product_C   East  535.0      3\n",
      "3   Product_D   West    NaN      4\n",
      "4   Product_E  North  960.0      1\n",
      "5   Product_A  South  370.0      2\n",
      "6   Product_B   East    NaN      3\n",
      "7   Product_C   West  206.0      4\n",
      "8   Product_D  North  171.0      1\n",
      "9   Product_E  South    NaN      2\n",
      "10  Product_A   East  800.0      3\n",
      "11  Product_B   West  120.0      4\n",
      "12  Product_C  North    NaN      1\n",
      "13  Product_D  South  714.0      2\n",
      "14  Product_E   East  221.0      3\n",
      "15  Product_A   West    NaN      4\n",
      "16  Product_B  North  566.0      1\n",
      "17  Product_C  South  314.0      2\n",
      "18  Product_D   East    NaN      3\n",
      "19  Product_E   West  430.0      4\n"
     ]
    }
   ],
   "source": [
    "import pandas as pd\n",
    "import numpy as np\n",
    "\n",
    "np.random.seed(42)\n",
    "data = {\n",
    "    \"Product\": [\"Product_A\", \"Product_B\", \"Product_C\", \"Product_D\", \"Product_E\"] * 4,\n",
    "    \"Region\": [\"North\", \"South\", \"East\", \"West\"] * 5,\n",
    "    \"Sales\": [np.random.randint(100, 1000) if i % 3 != 0 else np.nan for i in range(20)],\n",
    "    \"Month\": [1, 2, 3, 4] * 5,\n",
    "}\n",
    "df = pd.DataFrame(data)\n",
    "print(df)"
   ]
  },
  {
   "cell_type": "code",
   "execution_count": 4,
   "metadata": {},
   "outputs": [
    {
     "data": {
      "text/plain": [
       "Product    0\n",
       "Region     0\n",
       "Sales      7\n",
       "Month      0\n",
       "dtype: int64"
      ]
     },
     "execution_count": 4,
     "metadata": {},
     "output_type": "execute_result"
    }
   ],
   "source": [
    "df.isnull().sum()"
   ]
  },
  {
   "cell_type": "code",
   "execution_count": 7,
   "metadata": {},
   "outputs": [
    {
     "data": {
      "text/html": [
       "<div>\n",
       "<style scoped>\n",
       "    .dataframe tbody tr th:only-of-type {\n",
       "        vertical-align: middle;\n",
       "    }\n",
       "\n",
       "    .dataframe tbody tr th {\n",
       "        vertical-align: top;\n",
       "    }\n",
       "\n",
       "    .dataframe thead th {\n",
       "        text-align: right;\n",
       "    }\n",
       "</style>\n",
       "<table border=\"1\" class=\"dataframe\">\n",
       "  <thead>\n",
       "    <tr style=\"text-align: right;\">\n",
       "      <th></th>\n",
       "      <th>Product</th>\n",
       "      <th>Region</th>\n",
       "      <th>Sales</th>\n",
       "      <th>Month</th>\n",
       "    </tr>\n",
       "  </thead>\n",
       "  <tbody>\n",
       "    <tr>\n",
       "      <th>0</th>\n",
       "      <td>Product_A</td>\n",
       "      <td>North</td>\n",
       "      <td>NaN</td>\n",
       "      <td>1</td>\n",
       "    </tr>\n",
       "    <tr>\n",
       "      <th>3</th>\n",
       "      <td>Product_D</td>\n",
       "      <td>West</td>\n",
       "      <td>NaN</td>\n",
       "      <td>4</td>\n",
       "    </tr>\n",
       "    <tr>\n",
       "      <th>6</th>\n",
       "      <td>Product_B</td>\n",
       "      <td>East</td>\n",
       "      <td>NaN</td>\n",
       "      <td>3</td>\n",
       "    </tr>\n",
       "    <tr>\n",
       "      <th>9</th>\n",
       "      <td>Product_E</td>\n",
       "      <td>South</td>\n",
       "      <td>NaN</td>\n",
       "      <td>2</td>\n",
       "    </tr>\n",
       "    <tr>\n",
       "      <th>12</th>\n",
       "      <td>Product_C</td>\n",
       "      <td>North</td>\n",
       "      <td>NaN</td>\n",
       "      <td>1</td>\n",
       "    </tr>\n",
       "    <tr>\n",
       "      <th>15</th>\n",
       "      <td>Product_A</td>\n",
       "      <td>West</td>\n",
       "      <td>NaN</td>\n",
       "      <td>4</td>\n",
       "    </tr>\n",
       "    <tr>\n",
       "      <th>18</th>\n",
       "      <td>Product_D</td>\n",
       "      <td>East</td>\n",
       "      <td>NaN</td>\n",
       "      <td>3</td>\n",
       "    </tr>\n",
       "  </tbody>\n",
       "</table>\n",
       "</div>"
      ],
      "text/plain": [
       "      Product Region  Sales  Month\n",
       "0   Product_A  North    NaN      1\n",
       "3   Product_D   West    NaN      4\n",
       "6   Product_B   East    NaN      3\n",
       "9   Product_E  South    NaN      2\n",
       "12  Product_C  North    NaN      1\n",
       "15  Product_A   West    NaN      4\n",
       "18  Product_D   East    NaN      3"
      ]
     },
     "execution_count": 7,
     "metadata": {},
     "output_type": "execute_result"
    }
   ],
   "source": [
    "df[df.isnull().any(axis=1)]"
   ]
  },
  {
   "cell_type": "code",
   "execution_count": 8,
   "metadata": {},
   "outputs": [],
   "source": [
    "df_no_na = df.dropna()\n",
    "df_no_na_col = df.dropna(axis=1)"
   ]
  },
  {
   "cell_type": "code",
   "execution_count": 10,
   "metadata": {},
   "outputs": [
    {
     "data": {
      "text/html": [
       "<div>\n",
       "<style scoped>\n",
       "    .dataframe tbody tr th:only-of-type {\n",
       "        vertical-align: middle;\n",
       "    }\n",
       "\n",
       "    .dataframe tbody tr th {\n",
       "        vertical-align: top;\n",
       "    }\n",
       "\n",
       "    .dataframe thead th {\n",
       "        text-align: right;\n",
       "    }\n",
       "</style>\n",
       "<table border=\"1\" class=\"dataframe\">\n",
       "  <thead>\n",
       "    <tr style=\"text-align: right;\">\n",
       "      <th></th>\n",
       "      <th>Product</th>\n",
       "      <th>Region</th>\n",
       "      <th>Sales</th>\n",
       "      <th>Month</th>\n",
       "    </tr>\n",
       "  </thead>\n",
       "  <tbody>\n",
       "    <tr>\n",
       "      <th>0</th>\n",
       "      <td>Product_A</td>\n",
       "      <td>North</td>\n",
       "      <td>0.0</td>\n",
       "      <td>1</td>\n",
       "    </tr>\n",
       "    <tr>\n",
       "      <th>1</th>\n",
       "      <td>Product_B</td>\n",
       "      <td>South</td>\n",
       "      <td>202.0</td>\n",
       "      <td>2</td>\n",
       "    </tr>\n",
       "    <tr>\n",
       "      <th>2</th>\n",
       "      <td>Product_C</td>\n",
       "      <td>East</td>\n",
       "      <td>535.0</td>\n",
       "      <td>3</td>\n",
       "    </tr>\n",
       "    <tr>\n",
       "      <th>3</th>\n",
       "      <td>Product_D</td>\n",
       "      <td>West</td>\n",
       "      <td>0.0</td>\n",
       "      <td>4</td>\n",
       "    </tr>\n",
       "    <tr>\n",
       "      <th>4</th>\n",
       "      <td>Product_E</td>\n",
       "      <td>North</td>\n",
       "      <td>960.0</td>\n",
       "      <td>1</td>\n",
       "    </tr>\n",
       "  </tbody>\n",
       "</table>\n",
       "</div>"
      ],
      "text/plain": [
       "     Product Region  Sales  Month\n",
       "0  Product_A  North    0.0      1\n",
       "1  Product_B  South  202.0      2\n",
       "2  Product_C   East  535.0      3\n",
       "3  Product_D   West    0.0      4\n",
       "4  Product_E  North  960.0      1"
      ]
     },
     "execution_count": 10,
     "metadata": {},
     "output_type": "execute_result"
    }
   ],
   "source": [
    "df_fill_0 = df.fillna(0)\n",
    "df_fill_0.head()"
   ]
  },
  {
   "cell_type": "code",
   "execution_count": 12,
   "metadata": {},
   "outputs": [
    {
     "data": {
      "text/html": [
       "<div>\n",
       "<style scoped>\n",
       "    .dataframe tbody tr th:only-of-type {\n",
       "        vertical-align: middle;\n",
       "    }\n",
       "\n",
       "    .dataframe tbody tr th {\n",
       "        vertical-align: top;\n",
       "    }\n",
       "\n",
       "    .dataframe thead th {\n",
       "        text-align: right;\n",
       "    }\n",
       "</style>\n",
       "<table border=\"1\" class=\"dataframe\">\n",
       "  <thead>\n",
       "    <tr style=\"text-align: right;\">\n",
       "      <th></th>\n",
       "      <th>Product</th>\n",
       "      <th>Region</th>\n",
       "      <th>Sales</th>\n",
       "      <th>Month</th>\n",
       "    </tr>\n",
       "  </thead>\n",
       "  <tbody>\n",
       "    <tr>\n",
       "      <th>0</th>\n",
       "      <td>Product_A</td>\n",
       "      <td>North</td>\n",
       "      <td>431.461538</td>\n",
       "      <td>1</td>\n",
       "    </tr>\n",
       "    <tr>\n",
       "      <th>1</th>\n",
       "      <td>Product_B</td>\n",
       "      <td>South</td>\n",
       "      <td>202.000000</td>\n",
       "      <td>2</td>\n",
       "    </tr>\n",
       "    <tr>\n",
       "      <th>2</th>\n",
       "      <td>Product_C</td>\n",
       "      <td>East</td>\n",
       "      <td>535.000000</td>\n",
       "      <td>3</td>\n",
       "    </tr>\n",
       "    <tr>\n",
       "      <th>3</th>\n",
       "      <td>Product_D</td>\n",
       "      <td>West</td>\n",
       "      <td>431.461538</td>\n",
       "      <td>4</td>\n",
       "    </tr>\n",
       "    <tr>\n",
       "      <th>4</th>\n",
       "      <td>Product_E</td>\n",
       "      <td>North</td>\n",
       "      <td>960.000000</td>\n",
       "      <td>1</td>\n",
       "    </tr>\n",
       "  </tbody>\n",
       "</table>\n",
       "</div>"
      ],
      "text/plain": [
       "     Product Region       Sales  Month\n",
       "0  Product_A  North  431.461538      1\n",
       "1  Product_B  South  202.000000      2\n",
       "2  Product_C   East  535.000000      3\n",
       "3  Product_D   West  431.461538      4\n",
       "4  Product_E  North  960.000000      1"
      ]
     },
     "execution_count": 12,
     "metadata": {},
     "output_type": "execute_result"
    }
   ],
   "source": [
    "df_fill_avg = df.fillna(df[\"Sales\"].mean())\n",
    "df_fill_avg.head()"
   ]
  },
  {
   "cell_type": "code",
   "execution_count": 13,
   "metadata": {},
   "outputs": [
    {
     "name": "stdout",
     "output_type": "stream",
     "text": [
      "      Product Region  Sales  Month\n",
      "0   Product_A  North    NaN      1\n",
      "1   Product_B  South  202.0      2\n",
      "2   Product_C   East  535.0      3\n",
      "3   Product_D   West  747.5      4\n",
      "4   Product_E  North  960.0      1\n",
      "5   Product_A  South  370.0      2\n",
      "6   Product_B   East  288.0      3\n",
      "7   Product_C   West  206.0      4\n",
      "8   Product_D  North  171.0      1\n",
      "9   Product_E  South  485.5      2\n",
      "10  Product_A   East  800.0      3\n",
      "11  Product_B   West  120.0      4\n",
      "12  Product_C  North  417.0      1\n",
      "13  Product_D  South  714.0      2\n",
      "14  Product_E   East  221.0      3\n",
      "15  Product_A   West  393.5      4\n",
      "16  Product_B  North  566.0      1\n",
      "17  Product_C  South  314.0      2\n",
      "18  Product_D   East  372.0      3\n",
      "19  Product_E   West  430.0      4\n"
     ]
    }
   ],
   "source": [
    "df_interpolate = df.copy()\n",
    "df_interpolate[\"Sales\"] = df[\"Sales\"].interpolate(method='linear')\n",
    "print(df_interpolate)"
   ]
  },
  {
   "cell_type": "code",
   "execution_count": 14,
   "metadata": {},
   "outputs": [
    {
     "name": "stdout",
     "output_type": "stream",
     "text": [
      "      Product Region       Sales  Month\n",
      "0   Product_A  North  565.666667      1\n",
      "1   Product_B  South  202.000000      2\n",
      "2   Product_C   East  535.000000      3\n",
      "3   Product_D   West  252.000000      4\n",
      "4   Product_E  North  960.000000      1\n",
      "5   Product_A  South  370.000000      2\n",
      "6   Product_B   East  518.666667      3\n",
      "7   Product_C   West  206.000000      4\n",
      "8   Product_D  North  171.000000      1\n",
      "9   Product_E  South  400.000000      2\n",
      "10  Product_A   East  800.000000      3\n",
      "11  Product_B   West  120.000000      4\n",
      "12  Product_C  North  565.666667      1\n",
      "13  Product_D  South  714.000000      2\n",
      "14  Product_E   East  221.000000      3\n",
      "15  Product_A   West  252.000000      4\n",
      "16  Product_B  North  566.000000      1\n",
      "17  Product_C  South  314.000000      2\n",
      "18  Product_D   East  518.666667      3\n",
      "19  Product_E   West  430.000000      4\n"
     ]
    }
   ],
   "source": [
    "df_group_fill = df.copy()\n",
    "df_group_fill[\"Sales\"] = df_group_fill.groupby(\"Region\")[\"Sales\"].transform(lambda x: x.fillna(x.mean()))\n",
    "print(df_group_fill)\n"
   ]
  },
  {
   "cell_type": "code",
   "execution_count": null,
   "metadata": {},
   "outputs": [],
   "source": []
  }
 ],
 "metadata": {
  "kernelspec": {
   "display_name": "Python 3",
   "language": "python",
   "name": "python3"
  },
  "language_info": {
   "codemirror_mode": {
    "name": "ipython",
    "version": 3
   },
   "file_extension": ".py",
   "mimetype": "text/x-python",
   "name": "python",
   "nbconvert_exporter": "python",
   "pygments_lexer": "ipython3",
   "version": "3.11.3"
  }
 },
 "nbformat": 4,
 "nbformat_minor": 2
}
