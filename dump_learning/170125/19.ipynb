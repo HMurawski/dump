{
 "cells": [
  {
   "cell_type": "code",
   "execution_count": 1,
   "metadata": {},
   "outputs": [],
   "source": [
    "import pandas as pd\n",
    "import numpy as np\n",
    "import matplotlib.pyplot as plt"
   ]
  },
  {
   "cell_type": "code",
   "execution_count": 2,
   "metadata": {},
   "outputs": [],
   "source": [
    "\n",
    "data_stack = {\n",
    "    \"Country\": [\"USA\", \"USA\", \"Germany\", \"Germany\", \"Japan\", \"Japan\"],\n",
    "    \"Year\": [2020, 2021, 2020, 2021, 2020, 2021],\n",
    "    \"Population\": [331, 332, 83, 84, 126, 125],\n",
    "    \"GDP\": [21137, 22940, 3845, 4223, 5065, 5315]\n",
    "}\n",
    "df_stack = pd.DataFrame(data_stack)\n",
    "\n",
    "\n",
    "data_pivot = {\n",
    "    \"Country\": [\"USA\", \"USA\", \"Germany\", \"Germany\", \"Japan\", \"Japan\"],\n",
    "    \"Year\": [2020, 2021, 2020, 2021, 2020, 2021],\n",
    "    \"Product\": [\"A\", \"B\", \"A\", \"B\", \"A\", \"B\"],\n",
    "    \"Sales\": [500, 700, 300, 400, 200, 300]\n",
    "}\n",
    "df_pivot = pd.DataFrame(data_pivot)\n",
    "\n",
    "\n",
    "data_multiindex = {\n",
    "    \"Region\": [\"North America\", \"North America\", \"Europe\", \"Europe\", \"Asia\", \"Asia\"],\n",
    "    \"Product\": [\"A\", \"B\", \"A\", \"B\", \"A\", \"B\"],\n",
    "    \"Sales\": [500, 700, 300, 400, 200, 300],\n",
    "    \"Profit\": [200, 300, 100, 150, 50, 75]\n",
    "}\n",
    "df_multiindex = pd.DataFrame(data_multiindex)"
   ]
  },
  {
   "cell_type": "code",
   "execution_count": null,
   "metadata": {},
   "outputs": [],
   "source": [
    "df_stack.to_csv(\"stack_export.csv\")\n",
    "df_stack.to_csv(\"stack_export_semicolon.csv\", sep=\";\", index=False)\n",
    "df_stack.to_excel(\"stack_export.xlsx\")\n"
   ]
  },
  {
   "cell_type": "code",
   "execution_count": null,
   "metadata": {},
   "outputs": [],
   "source": [
    "with pd.ExcelWriter('both.xlsx') as writer: \n",
    "    df_stack.to_excel(writer, sheet_name='stack')\n",
    "    df_pivot.to_excel(writer, sheet_name='pivot')"
   ]
  },
  {
   "cell_type": "code",
   "execution_count": null,
   "metadata": {},
   "outputs": [],
   "source": [
    "df_multiindex.to_json(\"multiindex_records.json\", orient=\"records\")\n",
    "df_pivot.to_json(\"pivot_index.json\", orient=\"index\")"
   ]
  },
  {
   "cell_type": "code",
   "execution_count": null,
   "metadata": {},
   "outputs": [],
   "source": [
    "from sqlalchemy import create_engine\n",
    "\n",
    "engine = create_engine(\"sqlite:///data_export.db\")\n",
    "\n",
    "df_stack.to_sql(\"stack_data\", con=engine, if_exists=\"replace\", index=False)\n",
    "df_pivot.to_sql(\"pivot_data\", con=engine, if_exists=\"replace\", index=False)"
   ]
  },
  {
   "cell_type": "code",
   "execution_count": null,
   "metadata": {},
   "outputs": [],
   "source": []
  }
 ],
 "metadata": {
  "kernelspec": {
   "display_name": "Python 3",
   "language": "python",
   "name": "python3"
  },
  "language_info": {
   "codemirror_mode": {
    "name": "ipython",
    "version": 3
   },
   "file_extension": ".py",
   "mimetype": "text/x-python",
   "name": "python",
   "nbconvert_exporter": "python",
   "pygments_lexer": "ipython3",
   "version": "3.11.3"
  }
 },
 "nbformat": 4,
 "nbformat_minor": 2
}
