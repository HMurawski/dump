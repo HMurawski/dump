{
 "cells": [
  {
   "cell_type": "code",
   "execution_count": 2,
   "metadata": {},
   "outputs": [],
   "source": [
    "import pandas as pd\n",
    "import numpy as np\n",
    "\n",
    "\n",
    "num_transactions = 50_000\n",
    "num_customers = 5_000\n",
    "num_products = 200\n",
    "\n",
    "\n",
    "customers = pd.DataFrame({\n",
    "    'customer_id': range(1, num_customers + 1),\n",
    "    'age': np.random.randint(18, 70, num_customers),\n",
    "    'gender': np.random.choice(['Male', 'Female'], num_customers, p=[0.45, 0.55]),\n",
    "    'city': np.random.choice(['Warszawa', 'Kraków', 'Wrocław', 'Poznań', 'Gdańsk'], num_customers, p=[0.3, 0.2, 0.2, 0.15, 0.15])\n",
    "})\n",
    "\n",
    "\n",
    "categories = ['Napoje', 'Przekąski', 'Alkohol', 'Produkty świeże', 'Nabiał', 'Pieczywo', 'Słodycze', 'Mrożonki']\n",
    "products = pd.DataFrame({\n",
    "    'product_id': range(1, num_products + 1),\n",
    "    'category': np.random.choice(categories, num_products),\n",
    "    'product_name': [f'Produkt_{i}' for i in range(1, num_products + 1)],\n",
    "    'price': np.round(np.random.uniform(1.5, 30, num_products), 2)\n",
    "})\n",
    "\n",
    "\n",
    "transactions = pd.DataFrame({\n",
    "    'transaction_id': range(1, num_transactions + 1),\n",
    "    'customer_id': np.random.choice(customers['customer_id'], num_transactions),\n",
    "    'product_id': np.random.choice(products['product_id'], num_transactions),\n",
    "    'quantity': np.random.randint(1, 5, num_transactions),\n",
    "    'purchase_date': pd.to_datetime(np.random.choice(pd.date_range('2024-01-01', '2024-12-31'), num_transactions))\n",
    "})\n",
    "\n",
    "\n",
    "merged_df = transactions.merge(customers, on='customer_id').merge(products, on='product_id')\n"
   ]
  },
  {
   "cell_type": "code",
   "execution_count": 3,
   "metadata": {},
   "outputs": [
    {
     "data": {
      "text/plain": [
       "month\n",
       "1     4159\n",
       "2     3895\n",
       "3     4061\n",
       "4     4146\n",
       "5     4224\n",
       "6     4103\n",
       "7     4237\n",
       "8     4372\n",
       "9     4097\n",
       "10    4315\n",
       "11    4134\n",
       "12    4257\n",
       "Name: transaction_id, dtype: int64"
      ]
     },
     "execution_count": 3,
     "metadata": {},
     "output_type": "execute_result"
    }
   ],
   "source": [
    "transactions['month'] = transactions['purchase_date'].dt.month\n",
    "transactions_per_month = transactions.groupby('month')['transaction_id'].count().sort_index()\n",
    "transactions_per_month\n"
   ]
  },
  {
   "cell_type": "code",
   "execution_count": 4,
   "metadata": {},
   "outputs": [
    {
     "data": {
      "text/plain": [
       "category\n",
       "Pieczywo           299175.96\n",
       "Mrożonki           296469.94\n",
       "Nabiał             296096.99\n",
       "Alkohol            257649.75\n",
       "Przekąski          235940.85\n",
       "Słodycze           220999.09\n",
       "Produkty świeże    193931.31\n",
       "Napoje             136540.37\n",
       "Name: total_sales, dtype: float64"
      ]
     },
     "execution_count": 4,
     "metadata": {},
     "output_type": "execute_result"
    }
   ],
   "source": [
    "merged_df['total_sales'] = merged_df['quantity'] * merged_df['price']\n",
    "sales_per_category = merged_df.groupby('category')['total_sales'].sum().sort_values(ascending=False)\n",
    "sales_per_category\n"
   ]
  },
  {
   "cell_type": "code",
   "execution_count": 5,
   "metadata": {},
   "outputs": [
    {
     "data": {
      "text/plain": [
       "38.7360852"
      ]
     },
     "execution_count": 5,
     "metadata": {},
     "output_type": "execute_result"
    }
   ],
   "source": [
    "avg_cart_value = merged_df.groupby('transaction_id')['total_sales'].sum().mean()\n",
    "avg_cart_value\n"
   ]
  },
  {
   "cell_type": "code",
   "execution_count": 6,
   "metadata": {},
   "outputs": [
    {
     "data": {
      "text/plain": [
       "'Produkt_154'"
      ]
     },
     "execution_count": 6,
     "metadata": {},
     "output_type": "execute_result"
    }
   ],
   "source": [
    "best_selling_product = merged_df.groupby('product_name')['quantity'].sum().idxmax()\n",
    "best_selling_product\n"
   ]
  },
  {
   "cell_type": "code",
   "execution_count": 7,
   "metadata": {},
   "outputs": [
    {
     "data": {
      "text/plain": [
       "2.50572"
      ]
     },
     "execution_count": 7,
     "metadata": {},
     "output_type": "execute_result"
    }
   ],
   "source": [
    "avg_quantity_per_transaction = merged_df.groupby('transaction_id')['quantity'].sum().mean()\n",
    "avg_quantity_per_transaction\n"
   ]
  },
  {
   "cell_type": "code",
   "execution_count": 8,
   "metadata": {},
   "outputs": [
    {
     "data": {
      "text/plain": [
       "city\n",
       "Warszawa    581174.48\n",
       "Wrocław     395055.93\n",
       "Kraków      377702.45\n",
       "Poznań      315593.01\n",
       "Gdańsk      267278.39\n",
       "Name: total_sales, dtype: float64"
      ]
     },
     "execution_count": 8,
     "metadata": {},
     "output_type": "execute_result"
    }
   ],
   "source": [
    "sales_per_city = merged_df.groupby('city')['total_sales'].sum().sort_values(ascending=False)\n",
    "sales_per_city\n"
   ]
  },
  {
   "cell_type": "code",
   "execution_count": 9,
   "metadata": {},
   "outputs": [
    {
     "data": {
      "text/plain": [
       "gender\n",
       "Female    1060883.36\n",
       "Male       875920.90\n",
       "Name: total_sales, dtype: float64"
      ]
     },
     "execution_count": 9,
     "metadata": {},
     "output_type": "execute_result"
    }
   ],
   "source": [
    "sales_per_gender = merged_df.groupby('gender')['total_sales'].sum()\n",
    "sales_per_gender\n"
   ]
  },
  {
   "cell_type": "code",
   "execution_count": 10,
   "metadata": {},
   "outputs": [
    {
     "data": {
      "text/plain": [
       "product_name\n",
       "Produkt_154    300\n",
       "Produkt_198    296\n",
       "Produkt_116    289\n",
       "Name: count, dtype: int64"
      ]
     },
     "execution_count": 10,
     "metadata": {},
     "output_type": "execute_result"
    }
   ],
   "source": [
    "top_3_products = merged_df['product_name'].value_counts().head(3)\n",
    "top_3_products\n"
   ]
  },
  {
   "cell_type": "code",
   "execution_count": 11,
   "metadata": {},
   "outputs": [
    {
     "data": {
      "text/plain": [
       "category\n",
       "Słodycze           18.363500\n",
       "Pieczywo           16.380000\n",
       "Alkohol            15.911154\n",
       "Mrożonki           15.738000\n",
       "Przekąski          15.176400\n",
       "Napoje             14.736667\n",
       "Nabiał             14.030909\n",
       "Produkty świeże    14.010455\n",
       "Name: price, dtype: float64"
      ]
     },
     "execution_count": 11,
     "metadata": {},
     "output_type": "execute_result"
    }
   ],
   "source": [
    "avg_price_per_category = products.groupby('category')['price'].mean().sort_values(ascending=False)\n",
    "avg_price_per_category\n"
   ]
  },
  {
   "cell_type": "code",
   "execution_count": 12,
   "metadata": {},
   "outputs": [
    {
     "data": {
      "text/plain": [
       "day_of_week\n",
       "Monday       7288\n",
       "Tuesday      7257\n",
       "Thursday     7175\n",
       "Friday       7104\n",
       "Wednesday    7093\n",
       "Saturday     7087\n",
       "Sunday       6996\n",
       "Name: count, dtype: int64"
      ]
     },
     "execution_count": 12,
     "metadata": {},
     "output_type": "execute_result"
    }
   ],
   "source": [
    "merged_df['day_of_week'] = merged_df['purchase_date'].dt.day_name()\n",
    "transactions_per_day = merged_df['day_of_week'].value_counts()\n",
    "transactions_per_day\n"
   ]
  },
  {
   "cell_type": "code",
   "execution_count": null,
   "metadata": {},
   "outputs": [],
   "source": []
  }
 ],
 "metadata": {
  "kernelspec": {
   "display_name": "Python 3",
   "language": "python",
   "name": "python3"
  },
  "language_info": {
   "codemirror_mode": {
    "name": "ipython",
    "version": 3
   },
   "file_extension": ".py",
   "mimetype": "text/x-python",
   "name": "python",
   "nbconvert_exporter": "python",
   "pygments_lexer": "ipython3",
   "version": "3.11.3"
  }
 },
 "nbformat": 4,
 "nbformat_minor": 2
}
