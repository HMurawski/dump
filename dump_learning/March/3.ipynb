{
 "cells": [
  {
   "cell_type": "code",
   "execution_count": 2,
   "metadata": {},
   "outputs": [],
   "source": [
    "import pandas as pd\n",
    "import numpy as np\n",
    "import matplotlib.pyplot as plt\n",
    "\n",
    "\n",
    "num_transactions = 50_000\n",
    "num_customers = 5_000\n",
    "num_products = 200\n",
    "\n",
    "\n",
    "customers = pd.DataFrame({\n",
    "    'customer_id': range(1, num_customers + 1),\n",
    "    'age': np.random.randint(18, 70, num_customers),\n",
    "    'gender': np.random.choice(['Male', 'Female'], num_customers, p=[0.45, 0.55]),\n",
    "    'city': np.random.choice(['Warszawa', 'Kraków', 'Wrocław', 'Poznań', 'Gdańsk'], num_customers, p=[0.3, 0.2, 0.2, 0.15, 0.15])\n",
    "})\n",
    "\n",
    "\n",
    "categories = ['Napoje', 'Przekąski', 'Alkohol', 'Produkty świeże', 'Nabiał', 'Pieczywo', 'Słodycze', 'Mrożonki']\n",
    "products = pd.DataFrame({\n",
    "    'product_id': range(1, num_products + 1),\n",
    "    'category': np.random.choice(categories, num_products),\n",
    "    'product_name': [f'Produkt_{i}' for i in range(1, num_products + 1)],\n",
    "    'price': np.round(np.random.uniform(1.5, 30, num_products), 2)\n",
    "})\n",
    "\n",
    "\n",
    "transactions = pd.DataFrame({\n",
    "    'transaction_id': range(1, num_transactions + 1),\n",
    "    'customer_id': np.random.choice(customers['customer_id'], num_transactions),\n",
    "    'product_id': np.random.choice(products['product_id'], num_transactions),\n",
    "    'quantity': np.random.randint(1, 5, num_transactions),\n",
    "    'purchase_date': pd.to_datetime(np.random.choice(pd.date_range('2024-01-01', '2024-12-31'), num_transactions))\n",
    "})\n",
    "\n",
    "\n",
    "merged_df = transactions.merge(customers, on='customer_id').merge(products, on='product_id')\n"
   ]
  },
  {
   "cell_type": "code",
   "execution_count": 3,
   "metadata": {},
   "outputs": [
    {
     "data": {
      "text/plain": [
       "month\n",
       "1     4212\n",
       "2     4013\n",
       "3     4049\n",
       "4     4195\n",
       "5     4226\n",
       "6     4063\n",
       "7     4310\n",
       "8     4208\n",
       "9     4044\n",
       "10    4197\n",
       "11    4179\n",
       "12    4304\n",
       "Name: transaction_id, dtype: int64"
      ]
     },
     "execution_count": 3,
     "metadata": {},
     "output_type": "execute_result"
    }
   ],
   "source": [
    "transactions['month'] = transactions['purchase_date'].dt.month\n",
    "transactions_per_month = transactions.groupby('month')['transaction_id'].count().sort_index()\n",
    "transactions_per_month\n"
   ]
  },
  {
   "cell_type": "code",
   "execution_count": 4,
   "metadata": {},
   "outputs": [
    {
     "data": {
      "text/plain": [
       "category\n",
       "Mrożonki           288136.30\n",
       "Alkohol            280307.52\n",
       "Nabiał             255047.70\n",
       "Produkty świeże    231368.67\n",
       "Przekąski          231249.77\n",
       "Pieczywo           206578.27\n",
       "Napoje             206033.85\n",
       "Słodycze           151817.80\n",
       "Name: total_sales, dtype: float64"
      ]
     },
     "execution_count": 4,
     "metadata": {},
     "output_type": "execute_result"
    }
   ],
   "source": [
    "merged_df['total_sales'] = merged_df['quantity'] * merged_df['price']\n",
    "sales_per_category = merged_df.groupby('category')['total_sales'].sum().sort_values(ascending=False)\n",
    "sales_per_category\n"
   ]
  },
  {
   "cell_type": "code",
   "execution_count": 5,
   "metadata": {},
   "outputs": [
    {
     "data": {
      "text/plain": [
       "37.0107976"
      ]
     },
     "execution_count": 5,
     "metadata": {},
     "output_type": "execute_result"
    }
   ],
   "source": [
    "avg_cart_value = merged_df.groupby('transaction_id')['total_sales'].sum().mean()\n",
    "avg_cart_value\n"
   ]
  },
  {
   "cell_type": "code",
   "execution_count": 6,
   "metadata": {},
   "outputs": [
    {
     "data": {
      "text/plain": [
       "'Produkt_194'"
      ]
     },
     "execution_count": 6,
     "metadata": {},
     "output_type": "execute_result"
    }
   ],
   "source": [
    "best_selling_product = merged_df.groupby('product_name')['quantity'].sum().idxmax()\n",
    "best_selling_product\n"
   ]
  },
  {
   "cell_type": "code",
   "execution_count": 7,
   "metadata": {},
   "outputs": [
    {
     "data": {
      "text/plain": [
       "2.49904"
      ]
     },
     "execution_count": 7,
     "metadata": {},
     "output_type": "execute_result"
    }
   ],
   "source": [
    "avg_quantity_per_transaction = merged_df.groupby('transaction_id')['quantity'].sum().mean()\n",
    "avg_quantity_per_transaction\n"
   ]
  },
  {
   "cell_type": "code",
   "execution_count": 8,
   "metadata": {},
   "outputs": [
    {
     "data": {
      "text/plain": [
       "city\n",
       "Warszawa    555263.32\n",
       "Kraków      366630.56\n",
       "Wrocław     355891.71\n",
       "Poznań      288557.71\n",
       "Gdańsk      284196.58\n",
       "Name: total_sales, dtype: float64"
      ]
     },
     "execution_count": 8,
     "metadata": {},
     "output_type": "execute_result"
    }
   ],
   "source": [
    "sales_per_city = merged_df.groupby('city')['total_sales'].sum().sort_values(ascending=False)\n",
    "sales_per_city\n"
   ]
  },
  {
   "cell_type": "code",
   "execution_count": 9,
   "metadata": {},
   "outputs": [
    {
     "data": {
      "text/plain": [
       "gender\n",
       "Female    1023075.37\n",
       "Male       827464.51\n",
       "Name: total_sales, dtype: float64"
      ]
     },
     "execution_count": 9,
     "metadata": {},
     "output_type": "execute_result"
    }
   ],
   "source": [
    "sales_per_gender = merged_df.groupby('gender')['total_sales'].sum()\n",
    "sales_per_gender\n"
   ]
  },
  {
   "cell_type": "code",
   "execution_count": 10,
   "metadata": {},
   "outputs": [
    {
     "data": {
      "text/plain": [
       "product_name\n",
       "Produkt_194    285\n",
       "Produkt_72     284\n",
       "Produkt_105    284\n",
       "Name: count, dtype: int64"
      ]
     },
     "execution_count": 10,
     "metadata": {},
     "output_type": "execute_result"
    }
   ],
   "source": [
    "top_3_products = merged_df['product_name'].value_counts().head(3)\n",
    "top_3_products\n"
   ]
  },
  {
   "cell_type": "code",
   "execution_count": 11,
   "metadata": {},
   "outputs": [
    {
     "data": {
      "text/plain": [
       "category\n",
       "Alkohol            17.680000\n",
       "Przekąski          15.621250\n",
       "Produkty świeże    15.143333\n",
       "Pieczywo           15.121364\n",
       "Mrożonki           14.402188\n",
       "Napoje             13.785833\n",
       "Słodycze           13.609444\n",
       "Nabiał             13.521935\n",
       "Name: price, dtype: float64"
      ]
     },
     "execution_count": 11,
     "metadata": {},
     "output_type": "execute_result"
    }
   ],
   "source": [
    "avg_price_per_category = products.groupby('category')['price'].mean().sort_values(ascending=False)\n",
    "avg_price_per_category\n"
   ]
  },
  {
   "cell_type": "code",
   "execution_count": 12,
   "metadata": {},
   "outputs": [
    {
     "data": {
      "text/plain": [
       "day_of_week\n",
       "Monday       7281\n",
       "Friday       7265\n",
       "Saturday     7192\n",
       "Tuesday      7125\n",
       "Wednesday    7074\n",
       "Sunday       7043\n",
       "Thursday     7020\n",
       "Name: count, dtype: int64"
      ]
     },
     "execution_count": 12,
     "metadata": {},
     "output_type": "execute_result"
    }
   ],
   "source": [
    "merged_df['day_of_week'] = merged_df['purchase_date'].dt.day_name()\n",
    "transactions_per_day = merged_df['day_of_week'].value_counts()\n",
    "transactions_per_day\n"
   ]
  },
  {
   "cell_type": "code",
   "execution_count": 13,
   "metadata": {},
   "outputs": [
    {
     "data": {
      "text/plain": [
       "customer_id\n",
       "4954    1304.74\n",
       "2919    1206.19\n",
       "553     1004.87\n",
       "2595     989.36\n",
       "4316     986.05\n",
       "Name: total_sales, dtype: float64"
      ]
     },
     "execution_count": 13,
     "metadata": {},
     "output_type": "execute_result"
    }
   ],
   "source": [
    "top_customers = merged_df.groupby('customer_id')['total_sales'].sum().nlargest(5)\n",
    "top_customers\n"
   ]
  },
  {
   "cell_type": "code",
   "execution_count": 14,
   "metadata": {},
   "outputs": [
    {
     "data": {
      "text/plain": [
       "10.0"
      ]
     },
     "execution_count": 14,
     "metadata": {},
     "output_type": "execute_result"
    }
   ],
   "source": [
    "avg_transactions_per_customer = merged_df.groupby('customer_id')['transaction_id'].nunique().mean()\n",
    "avg_transactions_per_customer\n"
   ]
  },
  {
   "cell_type": "code",
   "execution_count": 15,
   "metadata": {},
   "outputs": [
    {
     "data": {
      "image/png": "[encoded data removed]",
      "text/plain": [
       "<Figure size 640x480 with 1 Axes>"
      ]
     },
     "metadata": {},
     "output_type": "display_data"
    }
   ],
   "source": [
    "\n",
    "\n",
    "plt.hist(customers['age'], bins=10, edgecolor='black')\n",
    "plt.xlabel('Wiek')\n",
    "plt.ylabel('Liczba klientów')\n",
    "plt.title('Rozkład wieku klientów')\n",
    "plt.show()\n"
   ]
  },
  {
   "cell_type": "code",
   "execution_count": 16,
   "metadata": {},
   "outputs": [
    {
     "data": {
      "text/plain": [
       "<Axes: title={'center': 'Średnia wartość transakcji w miesiącach'}, xlabel='purchase_date'>"
      ]
     },
     "execution_count": 16,
     "metadata": {},
     "output_type": "execute_result"
    },
    {
     "data": {
      "image/png": "[encoded data removed]",
      "text/plain": [
       "<Figure size 1000x500 with 1 Axes>"
      ]
     },
     "metadata": {},
     "output_type": "display_data"
    }
   ],
   "source": [
    "avg_sales_per_month = merged_df.groupby(merged_df['purchase_date'].dt.month)['total_sales'].mean()\n",
    "avg_sales_per_month.plot(kind='bar', figsize=(10,5), title='Średnia wartość transakcji w miesiącach')\n"
   ]
  },
  {
   "cell_type": "code",
   "execution_count": 17,
   "metadata": {},
   "outputs": [
    {
     "data": {
      "text/html": [
       "<div>\n",
       "<style scoped>\n",
       "    .dataframe tbody tr th:only-of-type {\n",
       "        vertical-align: middle;\n",
       "    }\n",
       "\n",
       "    .dataframe tbody tr th {\n",
       "        vertical-align: top;\n",
       "    }\n",
       "\n",
       "    .dataframe thead th {\n",
       "        text-align: right;\n",
       "    }\n",
       "</style>\n",
       "<table border=\"1\" class=\"dataframe\">\n",
       "  <thead>\n",
       "    <tr style=\"text-align: right;\">\n",
       "      <th></th>\n",
       "      <th>gender</th>\n",
       "      <th>category</th>\n",
       "      <th>transaction_id</th>\n",
       "    </tr>\n",
       "  </thead>\n",
       "  <tbody>\n",
       "    <tr>\n",
       "      <th>1</th>\n",
       "      <td>Female</td>\n",
       "      <td>Mrożonki</td>\n",
       "      <td>4411</td>\n",
       "    </tr>\n",
       "    <tr>\n",
       "      <th>9</th>\n",
       "      <td>Male</td>\n",
       "      <td>Mrożonki</td>\n",
       "      <td>3584</td>\n",
       "    </tr>\n",
       "  </tbody>\n",
       "</table>\n",
       "</div>"
      ],
      "text/plain": [
       "   gender  category  transaction_id\n",
       "1  Female  Mrożonki            4411\n",
       "9    Male  Mrożonki            3584"
      ]
     },
     "execution_count": 17,
     "metadata": {},
     "output_type": "execute_result"
    }
   ],
   "source": [
    "popular_category_by_gender = merged_df.groupby(['gender', 'category'])['transaction_id'].count().reset_index()\n",
    "popular_category_by_gender = popular_category_by_gender.loc[popular_category_by_gender.groupby('gender')['transaction_id'].idxmax()]\n",
    "popular_category_by_gender\n"
   ]
  },
  {
   "cell_type": "code",
   "execution_count": 18,
   "metadata": {},
   "outputs": [
    {
     "data": {
      "text/plain": [
       "1.0"
      ]
     },
     "execution_count": 18,
     "metadata": {},
     "output_type": "execute_result"
    }
   ],
   "source": [
    "avg_products_per_transaction = merged_df.groupby('transaction_id')['product_id'].nunique().mean()\n",
    "avg_products_per_transaction\n"
   ]
  },
  {
   "cell_type": "code",
   "execution_count": 19,
   "metadata": {},
   "outputs": [
    {
     "data": {
      "text/html": [
       "<div>\n",
       "<style scoped>\n",
       "    .dataframe tbody tr th:only-of-type {\n",
       "        vertical-align: middle;\n",
       "    }\n",
       "\n",
       "    .dataframe tbody tr th {\n",
       "        vertical-align: top;\n",
       "    }\n",
       "\n",
       "    .dataframe thead th {\n",
       "        text-align: right;\n",
       "    }\n",
       "</style>\n",
       "<table border=\"1\" class=\"dataframe\">\n",
       "  <thead>\n",
       "    <tr style=\"text-align: right;\">\n",
       "      <th></th>\n",
       "      <th>transaction_id</th>\n",
       "      <th>total_sales</th>\n",
       "    </tr>\n",
       "  </thead>\n",
       "  <tbody>\n",
       "    <tr>\n",
       "      <th>transaction_id</th>\n",
       "      <td>1.000000</td>\n",
       "      <td>0.801449</td>\n",
       "    </tr>\n",
       "    <tr>\n",
       "      <th>total_sales</th>\n",
       "      <td>0.801449</td>\n",
       "      <td>1.000000</td>\n",
       "    </tr>\n",
       "  </tbody>\n",
       "</table>\n",
       "</div>"
      ],
      "text/plain": [
       "                transaction_id  total_sales\n",
       "transaction_id        1.000000     0.801449\n",
       "total_sales           0.801449     1.000000"
      ]
     },
     "execution_count": 19,
     "metadata": {},
     "output_type": "execute_result"
    }
   ],
   "source": [
    "customer_loyalty = merged_df.groupby('customer_id').agg({'transaction_id': 'count', 'total_sales': 'sum'})\n",
    "customer_loyalty.corr()\n"
   ]
  },
  {
   "cell_type": "code",
   "execution_count": 20,
   "metadata": {},
   "outputs": [
    {
     "data": {
      "text/plain": [
       "purchase_date\n",
       "Friday       269793.49\n",
       "Monday       268761.84\n",
       "Saturday     267229.77\n",
       "Wednesday    263005.51\n",
       "Thursday     262216.10\n",
       "Sunday       259961.15\n",
       "Tuesday      259572.02\n",
       "Name: total_sales, dtype: float64"
      ]
     },
     "execution_count": 20,
     "metadata": {},
     "output_type": "execute_result"
    }
   ],
   "source": [
    "sales_per_day = merged_df.groupby(merged_df['purchase_date'].dt.day_name())['total_sales'].sum().sort_values(ascending=False)\n",
    "sales_per_day\n"
   ]
  },
  {
   "cell_type": "code",
   "execution_count": 21,
   "metadata": {},
   "outputs": [
    {
     "data": {
      "text/html": [
       "<div>\n",
       "<style scoped>\n",
       "    .dataframe tbody tr th:only-of-type {\n",
       "        vertical-align: middle;\n",
       "    }\n",
       "\n",
       "    .dataframe tbody tr th {\n",
       "        vertical-align: top;\n",
       "    }\n",
       "\n",
       "    .dataframe thead th {\n",
       "        text-align: right;\n",
       "    }\n",
       "</style>\n",
       "<table border=\"1\" class=\"dataframe\">\n",
       "  <thead>\n",
       "    <tr style=\"text-align: right;\">\n",
       "      <th>category</th>\n",
       "      <th>Alkohol</th>\n",
       "      <th>Mrożonki</th>\n",
       "      <th>Nabiał</th>\n",
       "      <th>Napoje</th>\n",
       "      <th>Pieczywo</th>\n",
       "      <th>Produkty świeże</th>\n",
       "      <th>Przekąski</th>\n",
       "      <th>Słodycze</th>\n",
       "    </tr>\n",
       "    <tr>\n",
       "      <th>city</th>\n",
       "      <th></th>\n",
       "      <th></th>\n",
       "      <th></th>\n",
       "      <th></th>\n",
       "      <th></th>\n",
       "      <th></th>\n",
       "      <th></th>\n",
       "      <th></th>\n",
       "    </tr>\n",
       "  </thead>\n",
       "  <tbody>\n",
       "    <tr>\n",
       "      <th>Gdańsk</th>\n",
       "      <td>42988.74</td>\n",
       "      <td>45158.30</td>\n",
       "      <td>39057.35</td>\n",
       "      <td>29372.46</td>\n",
       "      <td>31232.98</td>\n",
       "      <td>37014.36</td>\n",
       "      <td>35009.46</td>\n",
       "      <td>24362.93</td>\n",
       "    </tr>\n",
       "    <tr>\n",
       "      <th>Kraków</th>\n",
       "      <td>53273.13</td>\n",
       "      <td>57136.94</td>\n",
       "      <td>52706.97</td>\n",
       "      <td>43531.18</td>\n",
       "      <td>39733.07</td>\n",
       "      <td>46509.37</td>\n",
       "      <td>42814.44</td>\n",
       "      <td>30925.46</td>\n",
       "    </tr>\n",
       "    <tr>\n",
       "      <th>Poznań</th>\n",
       "      <td>46243.13</td>\n",
       "      <td>44987.22</td>\n",
       "      <td>40755.74</td>\n",
       "      <td>31067.89</td>\n",
       "      <td>31172.17</td>\n",
       "      <td>34973.37</td>\n",
       "      <td>35924.04</td>\n",
       "      <td>23434.15</td>\n",
       "    </tr>\n",
       "    <tr>\n",
       "      <th>Warszawa</th>\n",
       "      <td>86346.05</td>\n",
       "      <td>87871.31</td>\n",
       "      <td>73262.29</td>\n",
       "      <td>62052.45</td>\n",
       "      <td>62950.03</td>\n",
       "      <td>67748.22</td>\n",
       "      <td>70104.61</td>\n",
       "      <td>44928.36</td>\n",
       "    </tr>\n",
       "    <tr>\n",
       "      <th>Wrocław</th>\n",
       "      <td>51456.47</td>\n",
       "      <td>52982.53</td>\n",
       "      <td>49265.35</td>\n",
       "      <td>40009.87</td>\n",
       "      <td>41490.02</td>\n",
       "      <td>45123.35</td>\n",
       "      <td>47397.22</td>\n",
       "      <td>28166.90</td>\n",
       "    </tr>\n",
       "  </tbody>\n",
       "</table>\n",
       "</div>"
      ],
      "text/plain": [
       "category   Alkohol  Mrożonki    Nabiał    Napoje  Pieczywo  Produkty świeże  \\\n",
       "city                                                                          \n",
       "Gdańsk    42988.74  45158.30  39057.35  29372.46  31232.98         37014.36   \n",
       "Kraków    53273.13  57136.94  52706.97  43531.18  39733.07         46509.37   \n",
       "Poznań    46243.13  44987.22  40755.74  31067.89  31172.17         34973.37   \n",
       "Warszawa  86346.05  87871.31  73262.29  62052.45  62950.03         67748.22   \n",
       "Wrocław   51456.47  52982.53  49265.35  40009.87  41490.02         45123.35   \n",
       "\n",
       "category  Przekąski  Słodycze  \n",
       "city                           \n",
       "Gdańsk     35009.46  24362.93  \n",
       "Kraków     42814.44  30925.46  \n",
       "Poznań     35924.04  23434.15  \n",
       "Warszawa   70104.61  44928.36  \n",
       "Wrocław    47397.22  28166.90  "
      ]
     },
     "execution_count": 21,
     "metadata": {},
     "output_type": "execute_result"
    }
   ],
   "source": [
    "sales_pivot = merged_df.pivot_table(index='city', columns='category', values='total_sales', aggfunc='sum')\n",
    "sales_pivot\n"
   ]
  },
  {
   "cell_type": "code",
   "execution_count": 22,
   "metadata": {},
   "outputs": [
    {
     "name": "stderr",
     "output_type": "stream",
     "text": [
      "c:\\Users\\USER\\AppData\\Local\\Programs\\Python\\Python311\\Lib\\site-packages\\seaborn\\categorical.py:632: FutureWarning: SeriesGroupBy.grouper is deprecated and will be removed in a future version of pandas.\n",
      "  positions = grouped.grouper.result_index.to_numpy(dtype=float)\n"
     ]
    },
    {
     "data": {
      "image/png": "[encoded data removed]",
      "text/plain": [
       "<Figure size 800x500 with 1 Axes>"
      ]
     },
     "metadata": {},
     "output_type": "display_data"
    }
   ],
   "source": [
    "import seaborn as sns\n",
    "\n",
    "plt.figure(figsize=(8,5))\n",
    "sns.boxplot(x=products['price'])\n",
    "plt.title('Rozkład cen produktów')\n",
    "plt.xlabel('Cena')\n",
    "plt.show()\n"
   ]
  },
  {
   "cell_type": "code",
   "execution_count": null,
   "metadata": {},
   "outputs": [],
   "source": []
  }
 ],
 "metadata": {
  "kernelspec": {
   "display_name": "Python 3",
   "language": "python",
   "name": "python3"
  },
  "language_info": {
   "codemirror_mode": {
    "name": "ipython",
    "version": 3
   },
   "file_extension": ".py",
   "mimetype": "text/x-python",
   "name": "python",
   "nbconvert_exporter": "python",
   "pygments_lexer": "ipython3",
   "version": "3.11.3"
  }
 },
 "nbformat": 4,
 "nbformat_minor": 2
}
