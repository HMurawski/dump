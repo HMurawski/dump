{
 "cells": [
  {
   "cell_type": "code",
   "execution_count": 15,
   "metadata": {},
   "outputs": [],
   "source": [
    "import pandas as pd\n",
    "import numpy as np\n",
    "import matplotlib.pyplot as plt\n",
    "\n",
    "\n",
    "num_transactions = 50_000\n",
    "num_customers = 5_000\n",
    "num_products = 200\n",
    "\n",
    "\n",
    "customers = pd.DataFrame({\n",
    "    'customer_id': range(1, num_customers + 1),\n",
    "    'age': np.random.randint(18, 70, num_customers),\n",
    "    'gender': np.random.choice(['Male', 'Female'], num_customers, p=[0.45, 0.55]),\n",
    "    'city': np.random.choice(['Warszawa', 'Kraków', 'Wrocław', 'Poznań', 'Gdańsk'], num_customers, p=[0.3, 0.2, 0.2, 0.15, 0.15])\n",
    "})\n",
    "\n",
    "\n",
    "categories = ['Napoje', 'Przekąski', 'Alkohol', 'Produkty świeże', 'Nabiał', 'Pieczywo', 'Słodycze', 'Mrożonki']\n",
    "products = pd.DataFrame({\n",
    "    'product_id': range(1, num_products + 1),\n",
    "    'category': np.random.choice(categories, num_products),\n",
    "    'product_name': [f'Produkt_{i}' for i in range(1, num_products + 1)],\n",
    "    'price': np.round(np.random.uniform(1.5, 30, num_products), 2)\n",
    "})\n",
    "\n",
    "\n",
    "transactions = pd.DataFrame({\n",
    "    'transaction_id': range(1, num_transactions + 1),\n",
    "    'customer_id': np.random.choice(customers['customer_id'], num_transactions),\n",
    "    'product_id': np.random.choice(products['product_id'], num_transactions),\n",
    "    'quantity': np.random.randint(1, 5, num_transactions),\n",
    "    'purchase_date': pd.to_datetime(np.random.choice(pd.date_range('2024-01-01', '2024-12-31'), num_transactions))\n",
    "})\n",
    "\n",
    "\n",
    "merged_df = transactions.merge(customers, on='customer_id').merge(products, on='product_id')\n"
   ]
  },
  {
   "cell_type": "code",
   "execution_count": 16,
   "metadata": {},
   "outputs": [
    {
     "data": {
      "text/plain": [
       "month\n",
       "1     4244\n",
       "2     4024\n",
       "3     4170\n",
       "4     4014\n",
       "5     4199\n",
       "6     4098\n",
       "7     4308\n",
       "8     4262\n",
       "9     4181\n",
       "10    4185\n",
       "11    4082\n",
       "12    4233\n",
       "Name: transaction_id, dtype: int64"
      ]
     },
     "execution_count": 16,
     "metadata": {},
     "output_type": "execute_result"
    }
   ],
   "source": [
    "transactions['month'] = transactions['purchase_date'].dt.month\n",
    "transactions_per_month = transactions.groupby('month')['transaction_id'].count().sort_index()\n",
    "transactions_per_month\n"
   ]
  },
  {
   "cell_type": "code",
   "execution_count": 17,
   "metadata": {},
   "outputs": [
    {
     "data": {
      "text/plain": [
       "category\n",
       "Przekąski          314360.25\n",
       "Nabiał             276047.34\n",
       "Mrożonki           255924.59\n",
       "Słodycze           245845.48\n",
       "Alkohol            245091.67\n",
       "Pieczywo           198929.07\n",
       "Produkty świeże    181878.52\n",
       "Napoje             177158.41\n",
       "Name: total_sales, dtype: float64"
      ]
     },
     "execution_count": 17,
     "metadata": {},
     "output_type": "execute_result"
    }
   ],
   "source": [
    "merged_df['total_sales'] = merged_df['quantity'] * merged_df['price']\n",
    "sales_per_category = merged_df.groupby('category')['total_sales'].sum().sort_values(ascending=False)\n",
    "sales_per_category\n"
   ]
  },
  {
   "cell_type": "code",
   "execution_count": 18,
   "metadata": {},
   "outputs": [
    {
     "data": {
      "text/plain": [
       "37.904706600000004"
      ]
     },
     "execution_count": 18,
     "metadata": {},
     "output_type": "execute_result"
    }
   ],
   "source": [
    "avg_cart_value = merged_df.groupby('transaction_id')['total_sales'].sum().mean()\n",
    "avg_cart_value\n"
   ]
  },
  {
   "cell_type": "code",
   "execution_count": 19,
   "metadata": {},
   "outputs": [
    {
     "data": {
      "text/plain": [
       "'Produkt_110'"
      ]
     },
     "execution_count": 19,
     "metadata": {},
     "output_type": "execute_result"
    }
   ],
   "source": [
    "best_selling_product = merged_df.groupby('product_name')['quantity'].sum().idxmax()\n",
    "best_selling_product\n"
   ]
  },
  {
   "cell_type": "code",
   "execution_count": 20,
   "metadata": {},
   "outputs": [
    {
     "data": {
      "text/plain": [
       "2.50096"
      ]
     },
     "execution_count": 20,
     "metadata": {},
     "output_type": "execute_result"
    }
   ],
   "source": [
    "avg_quantity_per_transaction = merged_df.groupby('transaction_id')['quantity'].sum().mean()\n",
    "avg_quantity_per_transaction\n"
   ]
  },
  {
   "cell_type": "code",
   "execution_count": 21,
   "metadata": {},
   "outputs": [
    {
     "data": {
      "text/plain": [
       "city\n",
       "Warszawa    581631.09\n",
       "Wrocław     381087.74\n",
       "Kraków      369704.00\n",
       "Poznań      288479.15\n",
       "Gdańsk      274333.35\n",
       "Name: total_sales, dtype: float64"
      ]
     },
     "execution_count": 21,
     "metadata": {},
     "output_type": "execute_result"
    }
   ],
   "source": [
    "sales_per_city = merged_df.groupby('city')['total_sales'].sum().sort_values(ascending=False)\n",
    "sales_per_city\n"
   ]
  },
  {
   "cell_type": "code",
   "execution_count": 22,
   "metadata": {},
   "outputs": [
    {
     "data": {
      "text/plain": [
       "gender\n",
       "Female    1057033.71\n",
       "Male       838201.62\n",
       "Name: total_sales, dtype: float64"
      ]
     },
     "execution_count": 22,
     "metadata": {},
     "output_type": "execute_result"
    }
   ],
   "source": [
    "sales_per_gender = merged_df.groupby('gender')['total_sales'].sum()\n",
    "sales_per_gender\n"
   ]
  },
  {
   "cell_type": "code",
   "execution_count": 23,
   "metadata": {},
   "outputs": [
    {
     "data": {
      "text/plain": [
       "product_name\n",
       "Produkt_152    284\n",
       "Produkt_102    281\n",
       "Produkt_39     279\n",
       "Name: count, dtype: int64"
      ]
     },
     "execution_count": 23,
     "metadata": {},
     "output_type": "execute_result"
    }
   ],
   "source": [
    "top_3_products = merged_df['product_name'].value_counts().head(3)\n",
    "top_3_products\n"
   ]
  },
  {
   "cell_type": "code",
   "execution_count": 24,
   "metadata": {},
   "outputs": [
    {
     "data": {
      "text/plain": [
       "category\n",
       "Mrożonki           16.385200\n",
       "Alkohol            15.807200\n",
       "Produkty świeże    15.620000\n",
       "Słodycze           15.616800\n",
       "Przekąski          14.971212\n",
       "Pieczywo           14.523182\n",
       "Nabiał             14.512333\n",
       "Napoje             13.790952\n",
       "Name: price, dtype: float64"
      ]
     },
     "execution_count": 24,
     "metadata": {},
     "output_type": "execute_result"
    }
   ],
   "source": [
    "avg_price_per_category = products.groupby('category')['price'].mean().sort_values(ascending=False)\n",
    "avg_price_per_category\n"
   ]
  },
  {
   "cell_type": "code",
   "execution_count": 25,
   "metadata": {},
   "outputs": [
    {
     "data": {
      "text/plain": [
       "day_of_week\n",
       "Tuesday      7186\n",
       "Saturday     7178\n",
       "Thursday     7176\n",
       "Monday       7160\n",
       "Sunday       7119\n",
       "Friday       7112\n",
       "Wednesday    7069\n",
       "Name: count, dtype: int64"
      ]
     },
     "execution_count": 25,
     "metadata": {},
     "output_type": "execute_result"
    }
   ],
   "source": [
    "merged_df['day_of_week'] = merged_df['purchase_date'].dt.day_name()\n",
    "transactions_per_day = merged_df['day_of_week'].value_counts()\n",
    "transactions_per_day\n"
   ]
  },
  {
   "cell_type": "code",
   "execution_count": 26,
   "metadata": {},
   "outputs": [
    {
     "data": {
      "text/plain": [
       "customer_id\n",
       "4210    1093.77\n",
       "4612    1022.91\n",
       "3537    1014.98\n",
       "3614    1000.37\n",
       "3080     971.07\n",
       "Name: total_sales, dtype: float64"
      ]
     },
     "execution_count": 26,
     "metadata": {},
     "output_type": "execute_result"
    }
   ],
   "source": [
    "top_customers = merged_df.groupby('customer_id')['total_sales'].sum().nlargest(5)\n",
    "top_customers\n"
   ]
  },
  {
   "cell_type": "code",
   "execution_count": 27,
   "metadata": {},
   "outputs": [
    {
     "data": {
      "text/plain": [
       "10.0"
      ]
     },
     "execution_count": 27,
     "metadata": {},
     "output_type": "execute_result"
    }
   ],
   "source": [
    "avg_transactions_per_customer = merged_df.groupby('customer_id')['transaction_id'].nunique().mean()\n",
    "avg_transactions_per_customer\n"
   ]
  },
  {
   "cell_type": "code",
   "execution_count": 28,
   "metadata": {},
   "outputs": [
    {
     "data": {
      "image/png": "[encoded data removed]",
      "text/plain": [
       "<Figure size 640x480 with 1 Axes>"
      ]
     },
     "metadata": {},
     "output_type": "display_data"
    }
   ],
   "source": [
    "\n",
    "\n",
    "plt.hist(customers['age'], bins=10, edgecolor='black')\n",
    "plt.xlabel('Wiek')\n",
    "plt.ylabel('Liczba klientów')\n",
    "plt.title('Rozkład wieku klientów')\n",
    "plt.show()\n"
   ]
  },
  {
   "cell_type": "code",
   "execution_count": 29,
   "metadata": {},
   "outputs": [
    {
     "data": {
      "text/plain": [
       "<Axes: title={'center': 'Średnia wartość transakcji w miesiącach'}, xlabel='purchase_date'>"
      ]
     },
     "execution_count": 29,
     "metadata": {},
     "output_type": "execute_result"
    },
    {
     "data": {
      "image/png": "[encoded data removed]",
      "text/plain": [
       "<Figure size 1000x500 with 1 Axes>"
      ]
     },
     "metadata": {},
     "output_type": "display_data"
    }
   ],
   "source": [
    "avg_sales_per_month = merged_df.groupby(merged_df['purchase_date'].dt.month)['total_sales'].mean()\n",
    "avg_sales_per_month.plot(kind='bar', figsize=(10,5), title='Średnia wartość transakcji w miesiącach')\n"
   ]
  },
  {
   "cell_type": "code",
   "execution_count": 30,
   "metadata": {},
   "outputs": [
    {
     "data": {
      "text/html": [
       "<div>\n",
       "<style scoped>\n",
       "    .dataframe tbody tr th:only-of-type {\n",
       "        vertical-align: middle;\n",
       "    }\n",
       "\n",
       "    .dataframe tbody tr th {\n",
       "        vertical-align: top;\n",
       "    }\n",
       "\n",
       "    .dataframe thead th {\n",
       "        text-align: right;\n",
       "    }\n",
       "</style>\n",
       "<table border=\"1\" class=\"dataframe\">\n",
       "  <thead>\n",
       "    <tr style=\"text-align: right;\">\n",
       "      <th></th>\n",
       "      <th>gender</th>\n",
       "      <th>category</th>\n",
       "      <th>transaction_id</th>\n",
       "    </tr>\n",
       "  </thead>\n",
       "  <tbody>\n",
       "    <tr>\n",
       "      <th>6</th>\n",
       "      <td>Female</td>\n",
       "      <td>Przekąski</td>\n",
       "      <td>4686</td>\n",
       "    </tr>\n",
       "    <tr>\n",
       "      <th>14</th>\n",
       "      <td>Male</td>\n",
       "      <td>Przekąski</td>\n",
       "      <td>3698</td>\n",
       "    </tr>\n",
       "  </tbody>\n",
       "</table>\n",
       "</div>"
      ],
      "text/plain": [
       "    gender   category  transaction_id\n",
       "6   Female  Przekąski            4686\n",
       "14    Male  Przekąski            3698"
      ]
     },
     "execution_count": 30,
     "metadata": {},
     "output_type": "execute_result"
    }
   ],
   "source": [
    "popular_category_by_gender = merged_df.groupby(['gender', 'category'])['transaction_id'].count().reset_index()\n",
    "popular_category_by_gender = popular_category_by_gender.loc[popular_category_by_gender.groupby('gender')['transaction_id'].idxmax()]\n",
    "popular_category_by_gender\n"
   ]
  }
 ],
 "metadata": {
  "kernelspec": {
   "display_name": "Python 3",
   "language": "python",
   "name": "python3"
  },
  "language_info": {
   "codemirror_mode": {
    "name": "ipython",
    "version": 3
   },
   "file_extension": ".py",
   "mimetype": "text/x-python",
   "name": "python",
   "nbconvert_exporter": "python",
   "pygments_lexer": "ipython3",
   "version": "3.11.3"
  }
 },
 "nbformat": 4,
 "nbformat_minor": 2
}
