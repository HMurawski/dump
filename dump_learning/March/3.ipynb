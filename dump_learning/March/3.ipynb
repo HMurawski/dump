{
 "cells": [
  {
   "cell_type": "code",
<<<<<<< HEAD
   "execution_count": 1,
   "metadata": {},
   "outputs": [],
   "source": [
    "import numpy as np\n",
    "import pandas as pd"
   ]
  },
  {
   "cell_type": "code",
   "execution_count": null,
   "metadata": {},
   "outputs": [
    {
     "data": {
      "text/html": [
       "<div>\n",
       "<style scoped>\n",
       "    .dataframe tbody tr th:only-of-type {\n",
       "        vertical-align: middle;\n",
       "    }\n",
       "\n",
       "    .dataframe tbody tr th {\n",
       "        vertical-align: top;\n",
       "    }\n",
       "\n",
       "    .dataframe thead th {\n",
       "        text-align: right;\n",
       "    }\n",
       "</style>\n",
       "<table border=\"1\" class=\"dataframe\">\n",
       "  <thead>\n",
       "    <tr style=\"text-align: right;\">\n",
       "      <th></th>\n",
       "      <th>transaction_id</th>\n",
       "      <th>customer_id</th>\n",
       "      <th>product_id</th>\n",
       "      <th>quantity</th>\n",
       "      <th>purchase_date</th>\n",
       "      <th>age</th>\n",
       "      <th>gender</th>\n",
       "      <th>city</th>\n",
       "      <th>category</th>\n",
       "      <th>product_name</th>\n",
       "      <th>price</th>\n",
       "    </tr>\n",
       "  </thead>\n",
       "  <tbody>\n",
       "    <tr>\n",
       "      <th>0</th>\n",
       "      <td>1</td>\n",
       "      <td>4959</td>\n",
       "      <td>55</td>\n",
       "      <td>2</td>\n",
       "      <td>2024-06-15</td>\n",
       "      <td>45</td>\n",
       "      <td>Female</td>\n",
       "      <td>Gdańsk</td>\n",
       "      <td>Produkty świeże</td>\n",
       "      <td>Produkt_55</td>\n",
       "      <td>3.35</td>\n",
       "    </tr>\n",
       "    <tr>\n",
       "      <th>1</th>\n",
       "      <td>2</td>\n",
       "      <td>4184</td>\n",
       "      <td>199</td>\n",
       "      <td>4</td>\n",
       "      <td>2024-05-01</td>\n",
       "      <td>69</td>\n",
       "      <td>Male</td>\n",
       "      <td>Wrocław</td>\n",
       "      <td>Alkohol</td>\n",
       "      <td>Produkt_199</td>\n",
       "      <td>4.52</td>\n",
       "    </tr>\n",
       "    <tr>\n",
       "      <th>2</th>\n",
       "      <td>3</td>\n",
       "      <td>3976</td>\n",
       "      <td>24</td>\n",
       "      <td>2</td>\n",
       "      <td>2024-06-01</td>\n",
       "      <td>61</td>\n",
       "      <td>Female</td>\n",
       "      <td>Warszawa</td>\n",
       "      <td>Słodycze</td>\n",
       "      <td>Produkt_24</td>\n",
       "      <td>13.06</td>\n",
       "    </tr>\n",
       "    <tr>\n",
       "      <th>3</th>\n",
       "      <td>4</td>\n",
       "      <td>180</td>\n",
       "      <td>129</td>\n",
       "      <td>2</td>\n",
       "      <td>2024-05-23</td>\n",
       "      <td>31</td>\n",
       "      <td>Female</td>\n",
       "      <td>Poznań</td>\n",
       "      <td>Alkohol</td>\n",
       "      <td>Produkt_129</td>\n",
       "      <td>13.69</td>\n",
       "    </tr>\n",
       "    <tr>\n",
       "      <th>4</th>\n",
       "      <td>5</td>\n",
       "      <td>1938</td>\n",
       "      <td>6</td>\n",
       "      <td>2</td>\n",
       "      <td>2024-05-01</td>\n",
       "      <td>19</td>\n",
       "      <td>Female</td>\n",
       "      <td>Gdańsk</td>\n",
       "      <td>Pieczywo</td>\n",
       "      <td>Produkt_6</td>\n",
       "      <td>2.52</td>\n",
       "    </tr>\n",
       "  </tbody>\n",
       "</table>\n",
       "</div>"
      ],
      "text/plain": [
       "   transaction_id  customer_id  product_id  quantity purchase_date  age  \\\n",
       "0               1         4959          55         2    2024-06-15   45   \n",
       "1               2         4184         199         4    2024-05-01   69   \n",
       "2               3         3976          24         2    2024-06-01   61   \n",
       "3               4          180         129         2    2024-05-23   31   \n",
       "4               5         1938           6         2    2024-05-01   19   \n",
       "\n",
       "   gender      city         category product_name  price  \n",
       "0  Female    Gdańsk  Produkty świeże   Produkt_55   3.35  \n",
       "1    Male   Wrocław          Alkohol  Produkt_199   4.52  \n",
       "2  Female  Warszawa         Słodycze   Produkt_24  13.06  \n",
       "3  Female    Poznań          Alkohol  Produkt_129  13.69  \n",
       "4  Female    Gdańsk         Pieczywo    Produkt_6   2.52  "
      ]
     },
     "execution_count": 2,
     "metadata": {},
     "output_type": "execute_result"
    }
   ],
   "source": [
=======
   "execution_count": 2,
   "metadata": {},
   "outputs": [],
   "source": [
    "import pandas as pd\n",
    "import numpy as np\n",
    "import matplotlib.pyplot as plt\n",
    "\n",
>>>>>>> 3e33d9f4271a6d4516832f959420794e74c8bfb7
    "\n",
    "num_transactions = 50_000\n",
    "num_customers = 5_000\n",
    "num_products = 200\n",
    "\n",
<<<<<<< HEAD
    "# Generowanie listy klientów\n",
=======
    "\n",
>>>>>>> 3e33d9f4271a6d4516832f959420794e74c8bfb7
    "customers = pd.DataFrame({\n",
    "    'customer_id': range(1, num_customers + 1),\n",
    "    'age': np.random.randint(18, 70, num_customers),\n",
    "    'gender': np.random.choice(['Male', 'Female'], num_customers, p=[0.45, 0.55]),\n",
    "    'city': np.random.choice(['Warszawa', 'Kraków', 'Wrocław', 'Poznań', 'Gdańsk'], num_customers, p=[0.3, 0.2, 0.2, 0.15, 0.15])\n",
    "})\n",
    "\n",
<<<<<<< HEAD
    "# Generowanie listy produktów\n",
=======
    "\n",
>>>>>>> 3e33d9f4271a6d4516832f959420794e74c8bfb7
    "categories = ['Napoje', 'Przekąski', 'Alkohol', 'Produkty świeże', 'Nabiał', 'Pieczywo', 'Słodycze', 'Mrożonki']\n",
    "products = pd.DataFrame({\n",
    "    'product_id': range(1, num_products + 1),\n",
    "    'category': np.random.choice(categories, num_products),\n",
    "    'product_name': [f'Produkt_{i}' for i in range(1, num_products + 1)],\n",
    "    'price': np.round(np.random.uniform(1.5, 30, num_products), 2)\n",
    "})\n",
    "\n",
<<<<<<< HEAD
    "# Generowanie transakcji\n",
=======
    "\n",
>>>>>>> 3e33d9f4271a6d4516832f959420794e74c8bfb7
    "transactions = pd.DataFrame({\n",
    "    'transaction_id': range(1, num_transactions + 1),\n",
    "    'customer_id': np.random.choice(customers['customer_id'], num_transactions),\n",
    "    'product_id': np.random.choice(products['product_id'], num_transactions),\n",
    "    'quantity': np.random.randint(1, 5, num_transactions),\n",
    "    'purchase_date': pd.to_datetime(np.random.choice(pd.date_range('2024-01-01', '2024-12-31'), num_transactions))\n",
    "})\n",
    "\n",
    "\n",
<<<<<<< HEAD
    "merged_df = transactions.merge(customers, on='customer_id').merge(products, on='product_id')\n",
    "\n",
    "merged_df.head()\n"
=======
    "merged_df = transactions.merge(customers, on='customer_id').merge(products, on='product_id')\n"
   ]
  },
  {
   "cell_type": "code",
   "execution_count": 3,
   "metadata": {},
   "outputs": [
    {
     "data": {
      "text/plain": [
       "month\n",
       "1     4276\n",
       "2     3969\n",
       "3     4254\n",
       "4     4043\n",
       "5     4187\n",
       "6     4007\n",
       "7     4382\n",
       "8     4252\n",
       "9     4012\n",
       "10    4269\n",
       "11    4159\n",
       "12    4190\n",
       "Name: transaction_id, dtype: int64"
      ]
     },
     "execution_count": 3,
     "metadata": {},
     "output_type": "execute_result"
    }
   ],
   "source": [
    "transactions['month'] = transactions['purchase_date'].dt.month\n",
    "transactions_per_month = transactions.groupby('month')['transaction_id'].count().sort_index()\n",
    "transactions_per_month\n"
>>>>>>> 3e33d9f4271a6d4516832f959420794e74c8bfb7
   ]
  },
  {
   "cell_type": "code",
   "execution_count": 4,
   "metadata": {},
   "outputs": [
    {
     "data": {
      "text/plain": [
<<<<<<< HEAD
       "(50000, 11)"
=======
       "category\n",
       "Nabiał             359473.16\n",
       "Przekąski          326188.56\n",
       "Alkohol            251919.96\n",
       "Produkty świeże    250181.71\n",
       "Słodycze           244001.43\n",
       "Pieczywo           219892.34\n",
       "Napoje             218023.17\n",
       "Mrożonki           188939.39\n",
       "Name: total_sales, dtype: float64"
>>>>>>> 3e33d9f4271a6d4516832f959420794e74c8bfb7
      ]
     },
     "execution_count": 4,
     "metadata": {},
     "output_type": "execute_result"
    }
   ],
   "source": [
<<<<<<< HEAD
    "merged_df.shape"
=======
    "merged_df['total_sales'] = merged_df['quantity'] * merged_df['price']\n",
    "sales_per_category = merged_df.groupby('category')['total_sales'].sum().sort_values(ascending=False)\n",
    "sales_per_category\n"
>>>>>>> 3e33d9f4271a6d4516832f959420794e74c8bfb7
   ]
  },
  {
   "cell_type": "code",
   "execution_count": 5,
   "metadata": {},
   "outputs": [
    {
     "data": {
      "text/plain": [
<<<<<<< HEAD
       "Index(['transaction_id', 'customer_id', 'product_id', 'quantity',\n",
       "       'purchase_date', 'age', 'gender', 'city', 'category', 'product_name',\n",
       "       'price'],\n",
       "      dtype='object')"
=======
       "41.1723944"
>>>>>>> 3e33d9f4271a6d4516832f959420794e74c8bfb7
      ]
     },
     "execution_count": 5,
     "metadata": {},
     "output_type": "execute_result"
    }
   ],
   "source": [
<<<<<<< HEAD
    "merged_df.columns"
=======
    "avg_cart_value = merged_df.groupby('transaction_id')['total_sales'].sum().mean()\n",
    "avg_cart_value\n"
>>>>>>> 3e33d9f4271a6d4516832f959420794e74c8bfb7
   ]
  },
  {
   "cell_type": "code",
   "execution_count": 6,
   "metadata": {},
   "outputs": [
    {
     "data": {
<<<<<<< HEAD
=======
      "text/plain": [
       "'Produkt_110'"
      ]
     },
     "execution_count": 6,
     "metadata": {},
     "output_type": "execute_result"
    }
   ],
   "source": [
    "best_selling_product = merged_df.groupby('product_name')['quantity'].sum().idxmax()\n",
    "best_selling_product\n"
   ]
  },
  {
   "cell_type": "code",
   "execution_count": 7,
   "metadata": {},
   "outputs": [
    {
     "data": {
      "text/plain": [
       "2.50578"
      ]
     },
     "execution_count": 7,
     "metadata": {},
     "output_type": "execute_result"
    }
   ],
   "source": [
    "avg_quantity_per_transaction = merged_df.groupby('transaction_id')['quantity'].sum().mean()\n",
    "avg_quantity_per_transaction\n"
   ]
  },
  {
   "cell_type": "code",
   "execution_count": 8,
   "metadata": {},
   "outputs": [
    {
     "data": {
      "text/plain": [
       "city\n",
       "Warszawa    620216.53\n",
       "Kraków      432872.53\n",
       "Wrocław     409850.15\n",
       "Poznań      299035.67\n",
       "Gdańsk      296644.84\n",
       "Name: total_sales, dtype: float64"
      ]
     },
     "execution_count": 8,
     "metadata": {},
     "output_type": "execute_result"
    }
   ],
   "source": [
    "sales_per_city = merged_df.groupby('city')['total_sales'].sum().sort_values(ascending=False)\n",
    "sales_per_city\n"
   ]
  },
  {
   "cell_type": "code",
   "execution_count": 9,
   "metadata": {},
   "outputs": [
    {
     "data": {
      "text/plain": [
       "gender\n",
       "Female    1163905.16\n",
       "Male       894714.56\n",
       "Name: total_sales, dtype: float64"
      ]
     },
     "execution_count": 9,
     "metadata": {},
     "output_type": "execute_result"
    }
   ],
   "source": [
    "sales_per_gender = merged_df.groupby('gender')['total_sales'].sum()\n",
    "sales_per_gender\n"
   ]
  },
  {
   "cell_type": "code",
   "execution_count": 10,
   "metadata": {},
   "outputs": [
    {
     "data": {
      "text/plain": [
       "product_name\n",
       "Produkt_110    293\n",
       "Produkt_124    292\n",
       "Produkt_175    280\n",
       "Name: count, dtype: int64"
      ]
     },
     "execution_count": 10,
     "metadata": {},
     "output_type": "execute_result"
    }
   ],
   "source": [
    "top_3_products = merged_df['product_name'].value_counts().head(3)\n",
    "top_3_products\n"
   ]
  },
  {
   "cell_type": "code",
   "execution_count": 11,
   "metadata": {},
   "outputs": [
    {
     "data": {
      "text/plain": [
       "category\n",
       "Mrożonki           17.680588\n",
       "Przekąski          17.539000\n",
       "Napoje             17.534000\n",
       "Nabiał             17.480000\n",
       "Pieczywo           16.801905\n",
       "Alkohol            16.625000\n",
       "Produkty świeże    15.067778\n",
       "Słodycze           13.576071\n",
       "Name: price, dtype: float64"
      ]
     },
     "execution_count": 11,
     "metadata": {},
     "output_type": "execute_result"
    }
   ],
   "source": [
    "avg_price_per_category = products.groupby('category')['price'].mean().sort_values(ascending=False)\n",
    "avg_price_per_category\n"
   ]
  },
  {
   "cell_type": "code",
   "execution_count": 12,
   "metadata": {},
   "outputs": [
    {
     "data": {
      "text/plain": [
       "day_of_week\n",
       "Tuesday      7248\n",
       "Monday       7239\n",
       "Friday       7185\n",
       "Sunday       7177\n",
       "Saturday     7139\n",
       "Wednesday    7039\n",
       "Thursday     6973\n",
       "Name: count, dtype: int64"
      ]
     },
     "execution_count": 12,
     "metadata": {},
     "output_type": "execute_result"
    }
   ],
   "source": [
    "merged_df['day_of_week'] = merged_df['purchase_date'].dt.day_name()\n",
    "transactions_per_day = merged_df['day_of_week'].value_counts()\n",
    "transactions_per_day\n"
   ]
  },
  {
   "cell_type": "code",
   "execution_count": 13,
   "metadata": {},
   "outputs": [
    {
     "data": {
      "text/plain": [
       "customer_id\n",
       "3921    1123.14\n",
       "2715    1040.75\n",
       "3928    1039.19\n",
       "1180    1031.06\n",
       "1413    1014.56\n",
       "Name: total_sales, dtype: float64"
      ]
     },
     "execution_count": 13,
     "metadata": {},
     "output_type": "execute_result"
    }
   ],
   "source": [
    "top_customers = merged_df.groupby('customer_id')['total_sales'].sum().nlargest(5)\n",
    "top_customers\n"
   ]
  },
  {
   "cell_type": "code",
   "execution_count": 14,
   "metadata": {},
   "outputs": [
    {
     "data": {
      "text/plain": [
       "10.0"
      ]
     },
     "execution_count": 14,
     "metadata": {},
     "output_type": "execute_result"
    }
   ],
   "source": [
    "avg_transactions_per_customer = merged_df.groupby('customer_id')['transaction_id'].nunique().mean()\n",
    "avg_transactions_per_customer\n"
   ]
  },
  {
   "cell_type": "code",
   "execution_count": 15,
   "metadata": {},
   "outputs": [
    {
     "data": {
      "image/png": "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",
      "text/plain": [
       "<Figure size 640x480 with 1 Axes>"
      ]
     },
     "metadata": {},
     "output_type": "display_data"
    }
   ],
   "source": [
    "\n",
    "\n",
    "plt.hist(customers['age'], bins=10, edgecolor='black')\n",
    "plt.xlabel('Wiek')\n",
    "plt.ylabel('Liczba klientów')\n",
    "plt.title('Rozkład wieku klientów')\n",
    "plt.show()\n"
   ]
  },
  {
   "cell_type": "code",
   "execution_count": 16,
   "metadata": {},
   "outputs": [
    {
     "data": {
      "text/plain": [
       "<Axes: title={'center': 'Średnia wartość transakcji w miesiącach'}, xlabel='purchase_date'>"
      ]
     },
     "execution_count": 16,
     "metadata": {},
     "output_type": "execute_result"
    },
    {
     "data": {
      "image/png": "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",
      "text/plain": [
       "<Figure size 1000x500 with 1 Axes>"
      ]
     },
     "metadata": {},
     "output_type": "display_data"
    }
   ],
   "source": [
    "avg_sales_per_month = merged_df.groupby(merged_df['purchase_date'].dt.month)['total_sales'].mean()\n",
    "avg_sales_per_month.plot(kind='bar', figsize=(10,5), title='Średnia wartość transakcji w miesiącach')\n"
   ]
  },
  {
   "cell_type": "code",
   "execution_count": 17,
   "metadata": {},
   "outputs": [
    {
     "data": {
      "text/html": [
       "<div>\n",
       "<style scoped>\n",
       "    .dataframe tbody tr th:only-of-type {\n",
       "        vertical-align: middle;\n",
       "    }\n",
       "\n",
       "    .dataframe tbody tr th {\n",
       "        vertical-align: top;\n",
       "    }\n",
       "\n",
       "    .dataframe thead th {\n",
       "        text-align: right;\n",
       "    }\n",
       "</style>\n",
       "<table border=\"1\" class=\"dataframe\">\n",
       "  <thead>\n",
       "    <tr style=\"text-align: right;\">\n",
       "      <th></th>\n",
       "      <th>gender</th>\n",
       "      <th>category</th>\n",
       "      <th>transaction_id</th>\n",
       "    </tr>\n",
       "  </thead>\n",
       "  <tbody>\n",
       "    <tr>\n",
       "      <th>2</th>\n",
       "      <td>Female</td>\n",
       "      <td>Nabiał</td>\n",
       "      <td>4785</td>\n",
       "    </tr>\n",
       "    <tr>\n",
       "      <th>10</th>\n",
       "      <td>Male</td>\n",
       "      <td>Nabiał</td>\n",
       "      <td>3512</td>\n",
       "    </tr>\n",
       "  </tbody>\n",
       "</table>\n",
       "</div>"
      ],
      "text/plain": [
       "    gender category  transaction_id\n",
       "2   Female   Nabiał            4785\n",
       "10    Male   Nabiał            3512"
      ]
     },
     "execution_count": 17,
     "metadata": {},
     "output_type": "execute_result"
    }
   ],
   "source": [
    "popular_category_by_gender = merged_df.groupby(['gender', 'category'])['transaction_id'].count().reset_index()\n",
    "popular_category_by_gender = popular_category_by_gender.loc[popular_category_by_gender.groupby('gender')['transaction_id'].idxmax()]\n",
    "popular_category_by_gender\n"
   ]
  },
  {
   "cell_type": "code",
   "execution_count": 18,
   "metadata": {},
   "outputs": [
    {
     "data": {
      "text/plain": [
       "1.0"
      ]
     },
     "execution_count": 18,
     "metadata": {},
     "output_type": "execute_result"
    }
   ],
   "source": [
    "avg_products_per_transaction = merged_df.groupby('transaction_id')['product_id'].nunique().mean()\n",
    "avg_products_per_transaction\n"
   ]
  },
  {
   "cell_type": "code",
   "execution_count": 19,
   "metadata": {},
   "outputs": [
    {
     "data": {
>>>>>>> 3e33d9f4271a6d4516832f959420794e74c8bfb7
      "text/html": [
       "<div>\n",
       "<style scoped>\n",
       "    .dataframe tbody tr th:only-of-type {\n",
       "        vertical-align: middle;\n",
       "    }\n",
       "\n",
       "    .dataframe tbody tr th {\n",
       "        vertical-align: top;\n",
       "    }\n",
       "\n",
       "    .dataframe thead th {\n",
       "        text-align: right;\n",
       "    }\n",
       "</style>\n",
       "<table border=\"1\" class=\"dataframe\">\n",
       "  <thead>\n",
       "    <tr style=\"text-align: right;\">\n",
       "      <th></th>\n",
       "      <th>transaction_id</th>\n",
<<<<<<< HEAD
       "      <th>customer_id</th>\n",
       "      <th>product_id</th>\n",
       "      <th>quantity</th>\n",
       "      <th>purchase_date</th>\n",
       "      <th>age</th>\n",
       "      <th>price</th>\n",
=======
       "      <th>total_sales</th>\n",
>>>>>>> 3e33d9f4271a6d4516832f959420794e74c8bfb7
       "    </tr>\n",
       "  </thead>\n",
       "  <tbody>\n",
       "    <tr>\n",
<<<<<<< HEAD
       "      <th>count</th>\n",
       "      <td>50000.000000</td>\n",
       "      <td>50000.00000</td>\n",
       "      <td>50000.000000</td>\n",
       "      <td>50000.000000</td>\n",
       "      <td>50000</td>\n",
       "      <td>50000.000000</td>\n",
       "      <td>50000.000000</td>\n",
       "    </tr>\n",
       "    <tr>\n",
       "      <th>mean</th>\n",
       "      <td>25000.500000</td>\n",
       "      <td>2495.78554</td>\n",
       "      <td>100.583080</td>\n",
       "      <td>2.499480</td>\n",
       "      <td>2024-07-01 16:24:02.304000</td>\n",
       "      <td>42.906860</td>\n",
       "      <td>15.671773</td>\n",
       "    </tr>\n",
       "    <tr>\n",
       "      <th>min</th>\n",
       "      <td>1.000000</td>\n",
       "      <td>1.00000</td>\n",
       "      <td>1.000000</td>\n",
       "      <td>1.000000</td>\n",
       "      <td>2024-01-01 00:00:00</td>\n",
       "      <td>18.000000</td>\n",
       "      <td>1.510000</td>\n",
       "    </tr>\n",
       "    <tr>\n",
       "      <th>25%</th>\n",
       "      <td>12500.750000</td>\n",
       "      <td>1247.00000</td>\n",
       "      <td>52.000000</td>\n",
       "      <td>1.000000</td>\n",
       "      <td>2024-04-02 00:00:00</td>\n",
       "      <td>30.000000</td>\n",
       "      <td>8.680000</td>\n",
       "    </tr>\n",
       "    <tr>\n",
       "      <th>50%</th>\n",
       "      <td>25000.500000</td>\n",
       "      <td>2490.00000</td>\n",
       "      <td>100.000000</td>\n",
       "      <td>2.000000</td>\n",
       "      <td>2024-07-02 00:00:00</td>\n",
       "      <td>43.000000</td>\n",
       "      <td>16.010000</td>\n",
       "    </tr>\n",
       "    <tr>\n",
       "      <th>75%</th>\n",
       "      <td>37500.250000</td>\n",
       "      <td>3735.00000</td>\n",
       "      <td>151.000000</td>\n",
       "      <td>4.000000</td>\n",
       "      <td>2024-09-30 00:00:00</td>\n",
       "      <td>56.000000</td>\n",
       "      <td>23.340000</td>\n",
       "    </tr>\n",
       "    <tr>\n",
       "      <th>max</th>\n",
       "      <td>50000.000000</td>\n",
       "      <td>5000.00000</td>\n",
       "      <td>200.000000</td>\n",
       "      <td>4.000000</td>\n",
       "      <td>2024-12-31 00:00:00</td>\n",
       "      <td>69.000000</td>\n",
       "      <td>29.870000</td>\n",
       "    </tr>\n",
       "    <tr>\n",
       "      <th>std</th>\n",
       "      <td>14433.901067</td>\n",
       "      <td>1438.73501</td>\n",
       "      <td>57.516277</td>\n",
       "      <td>1.118742</td>\n",
       "      <td>NaN</td>\n",
       "      <td>15.046833</td>\n",
       "      <td>8.410439</td>\n",
=======
       "      <th>transaction_id</th>\n",
       "      <td>1.000000</td>\n",
       "      <td>0.813798</td>\n",
       "    </tr>\n",
       "    <tr>\n",
       "      <th>total_sales</th>\n",
       "      <td>0.813798</td>\n",
       "      <td>1.000000</td>\n",
>>>>>>> 3e33d9f4271a6d4516832f959420794e74c8bfb7
       "    </tr>\n",
       "  </tbody>\n",
       "</table>\n",
       "</div>"
      ],
      "text/plain": [
<<<<<<< HEAD
       "       transaction_id  customer_id    product_id      quantity  \\\n",
       "count    50000.000000  50000.00000  50000.000000  50000.000000   \n",
       "mean     25000.500000   2495.78554    100.583080      2.499480   \n",
       "min          1.000000      1.00000      1.000000      1.000000   \n",
       "25%      12500.750000   1247.00000     52.000000      1.000000   \n",
       "50%      25000.500000   2490.00000    100.000000      2.000000   \n",
       "75%      37500.250000   3735.00000    151.000000      4.000000   \n",
       "max      50000.000000   5000.00000    200.000000      4.000000   \n",
       "std      14433.901067   1438.73501     57.516277      1.118742   \n",
       "\n",
       "                    purchase_date           age         price  \n",
       "count                       50000  50000.000000  50000.000000  \n",
       "mean   2024-07-01 16:24:02.304000     42.906860     15.671773  \n",
       "min           2024-01-01 00:00:00     18.000000      1.510000  \n",
       "25%           2024-04-02 00:00:00     30.000000      8.680000  \n",
       "50%           2024-07-02 00:00:00     43.000000     16.010000  \n",
       "75%           2024-09-30 00:00:00     56.000000     23.340000  \n",
       "max           2024-12-31 00:00:00     69.000000     29.870000  \n",
       "std                           NaN     15.046833      8.410439  "
      ]
     },
     "execution_count": 6,
=======
       "                transaction_id  total_sales\n",
       "transaction_id        1.000000     0.813798\n",
       "total_sales           0.813798     1.000000"
      ]
     },
     "execution_count": 19,
>>>>>>> 3e33d9f4271a6d4516832f959420794e74c8bfb7
     "metadata": {},
     "output_type": "execute_result"
    }
   ],
   "source": [
<<<<<<< HEAD
    "merged_df.describe()"
=======
    "customer_loyalty = merged_df.groupby('customer_id').agg({'transaction_id': 'count', 'total_sales': 'sum'})\n",
    "customer_loyalty.corr()\n"
   ]
  },
  {
   "cell_type": "code",
   "execution_count": 20,
   "metadata": {},
   "outputs": [
    {
     "data": {
      "text/plain": [
       "purchase_date\n",
       "Monday       298603.52\n",
       "Tuesday      298485.30\n",
       "Sunday       296480.12\n",
       "Friday       295987.94\n",
       "Saturday     293182.22\n",
       "Wednesday    289865.37\n",
       "Thursday     286015.25\n",
       "Name: total_sales, dtype: float64"
      ]
     },
     "execution_count": 20,
     "metadata": {},
     "output_type": "execute_result"
    }
   ],
   "source": [
    "sales_per_day = merged_df.groupby(merged_df['purchase_date'].dt.day_name())['total_sales'].sum().sort_values(ascending=False)\n",
    "sales_per_day\n"
   ]
  },
  {
   "cell_type": "code",
   "execution_count": 21,
   "metadata": {},
   "outputs": [
    {
     "data": {
      "text/html": [
       "<div>\n",
       "<style scoped>\n",
       "    .dataframe tbody tr th:only-of-type {\n",
       "        vertical-align: middle;\n",
       "    }\n",
       "\n",
       "    .dataframe tbody tr th {\n",
       "        vertical-align: top;\n",
       "    }\n",
       "\n",
       "    .dataframe thead th {\n",
       "        text-align: right;\n",
       "    }\n",
       "</style>\n",
       "<table border=\"1\" class=\"dataframe\">\n",
       "  <thead>\n",
       "    <tr style=\"text-align: right;\">\n",
       "      <th>category</th>\n",
       "      <th>Alkohol</th>\n",
       "      <th>Mrożonki</th>\n",
       "      <th>Nabiał</th>\n",
       "      <th>Napoje</th>\n",
       "      <th>Pieczywo</th>\n",
       "      <th>Produkty świeże</th>\n",
       "      <th>Przekąski</th>\n",
       "      <th>Słodycze</th>\n",
       "    </tr>\n",
       "    <tr>\n",
       "      <th>city</th>\n",
       "      <th></th>\n",
       "      <th></th>\n",
       "      <th></th>\n",
       "      <th></th>\n",
       "      <th></th>\n",
       "      <th></th>\n",
       "      <th></th>\n",
       "      <th></th>\n",
       "    </tr>\n",
       "  </thead>\n",
       "  <tbody>\n",
       "    <tr>\n",
       "      <th>Gdańsk</th>\n",
       "      <td>37448.61</td>\n",
       "      <td>27610.01</td>\n",
       "      <td>53325.07</td>\n",
       "      <td>27359.72</td>\n",
       "      <td>29575.62</td>\n",
       "      <td>38018.13</td>\n",
       "      <td>46729.38</td>\n",
       "      <td>36578.30</td>\n",
       "    </tr>\n",
       "    <tr>\n",
       "      <th>Kraków</th>\n",
       "      <td>52072.18</td>\n",
       "      <td>40101.34</td>\n",
       "      <td>75808.90</td>\n",
       "      <td>46994.84</td>\n",
       "      <td>46572.66</td>\n",
       "      <td>52097.25</td>\n",
       "      <td>68365.97</td>\n",
       "      <td>50859.39</td>\n",
       "    </tr>\n",
       "    <tr>\n",
       "      <th>Poznań</th>\n",
       "      <td>35421.83</td>\n",
       "      <td>26376.35</td>\n",
       "      <td>51530.49</td>\n",
       "      <td>33958.83</td>\n",
       "      <td>29631.70</td>\n",
       "      <td>37061.47</td>\n",
       "      <td>49517.92</td>\n",
       "      <td>35537.08</td>\n",
       "    </tr>\n",
       "    <tr>\n",
       "      <th>Warszawa</th>\n",
       "      <td>77636.19</td>\n",
       "      <td>57875.60</td>\n",
       "      <td>106448.74</td>\n",
       "      <td>65141.41</td>\n",
       "      <td>67546.65</td>\n",
       "      <td>74785.02</td>\n",
       "      <td>96425.36</td>\n",
       "      <td>74357.56</td>\n",
       "    </tr>\n",
       "    <tr>\n",
       "      <th>Wrocław</th>\n",
       "      <td>49341.15</td>\n",
       "      <td>36976.09</td>\n",
       "      <td>72359.96</td>\n",
       "      <td>44568.37</td>\n",
       "      <td>46565.71</td>\n",
       "      <td>48219.84</td>\n",
       "      <td>65149.93</td>\n",
       "      <td>46669.10</td>\n",
       "    </tr>\n",
       "  </tbody>\n",
       "</table>\n",
       "</div>"
      ],
      "text/plain": [
       "category   Alkohol  Mrożonki     Nabiał    Napoje  Pieczywo  Produkty świeże  \\\n",
       "city                                                                           \n",
       "Gdańsk    37448.61  27610.01   53325.07  27359.72  29575.62         38018.13   \n",
       "Kraków    52072.18  40101.34   75808.90  46994.84  46572.66         52097.25   \n",
       "Poznań    35421.83  26376.35   51530.49  33958.83  29631.70         37061.47   \n",
       "Warszawa  77636.19  57875.60  106448.74  65141.41  67546.65         74785.02   \n",
       "Wrocław   49341.15  36976.09   72359.96  44568.37  46565.71         48219.84   \n",
       "\n",
       "category  Przekąski  Słodycze  \n",
       "city                           \n",
       "Gdańsk     46729.38  36578.30  \n",
       "Kraków     68365.97  50859.39  \n",
       "Poznań     49517.92  35537.08  \n",
       "Warszawa   96425.36  74357.56  \n",
       "Wrocław    65149.93  46669.10  "
      ]
     },
     "execution_count": 21,
     "metadata": {},
     "output_type": "execute_result"
    }
   ],
   "source": [
    "sales_pivot = merged_df.pivot_table(index='city', columns='category', values='total_sales', aggfunc='sum')\n",
    "sales_pivot\n"
   ]
  },
  {
   "cell_type": "code",
   "execution_count": 22,
   "metadata": {},
   "outputs": [
    {
     "name": "stderr",
     "output_type": "stream",
     "text": [
      "c:\\Users\\USER\\AppData\\Local\\Programs\\Python\\Python311\\Lib\\site-packages\\seaborn\\categorical.py:632: FutureWarning: SeriesGroupBy.grouper is deprecated and will be removed in a future version of pandas.\n",
      "  positions = grouped.grouper.result_index.to_numpy(dtype=float)\n"
     ]
    },
    {
     "data": {
      "image/png": "iVBORw0KGgoAAAANSUhEUgAAAoQAAAHXCAYAAAAlRUuLAAAAOXRFWHRTb2Z0d2FyZQBNYXRwbG90bGliIHZlcnNpb24zLjguMCwgaHR0cHM6Ly9tYXRwbG90bGliLm9yZy81sbWrAAAACXBIWXMAAA9hAAAPYQGoP6dpAAAmWUlEQVR4nO3de5zVdZ348feAzIDIDPdhEBhuogaCq6WxykVFES+JIaklgpiuipWyqWmPUnbXtbR1De+3pHSzlIB1ycQrBGaWGJapBIRiqSAoN+M+n98fPjg/J0AIgTPweT4fj3nAfL/fc877nO984cX3XChJKaUAACBb9Yo9AAAAxSUIAQAyJwgBADInCAEAMicIAQAyJwgBADInCAEAMicIAQAyJwgB+MRefPHFGDNmTCxcuLDYowDbQRACERHRv3//6NGjx1a369ixY4wYMWKH3e7rr78eJSUlMW7cuB12nTn4JI/bxst+73vf2yGzLFmyJAYPHhxr1qyJysrKHXKdwK4lCKGOGTduXJSUlBS+9tprr9h3331jxIgR8de//rXY45GRV155Ja655pp4/fXXt7hNSinOPvvs6NevX1x77bW7bjhgh9qr2AMAm/dv//Zv0alTp1i9enX8+te/jnHjxsWMGTPi5ZdfjoYNGxZ7PDLwyiuvxJgxY6J///7RsWPHzW4zb9686NOnT4wePTpKSkp27YDADiMIoY4aNGhQfPrTn46IiC9/+cvRsmXL+O53vxuPPPJIfOELXyjydHwSf/vb32Lvvfcu9hg7RNeuXeMb3/hGsccAPiFPGcNuok+fPhHx4RmZj3r66aejT58+0bhx42jatGmccsop8eqrrxbWb3y92Ja+Ps7jjz8ee++9d5x55pmxfv36Wuvmzp0bERFr166Nb3/723HooYdGRUVFNG7cOPr06RPPPPPMJte3dOnSGDFiRFRUVETTpk1j+PDhsXTp0m1+DJYuXRqXXnppdOzYMcrKyqJdu3Zx9tlnx+LFiwvbrFmzJq6++uro2rVrlJWVRfv27ePyyy+PNWvW1LqukpKSuPjii2PSpEnRo0ePKCsri+7du8djjz221TmmTp0aJSUl8dOf/jSuuuqqaNOmTTRu3Dg+97nPxZtvvllr242vzZw5c2b07ds39t5777jqqqsiImLRokVx7rnnRmVlZTRs2DB69eoVP/zhD7f7cevfv3/0799/k+UjRozY4hm+jVJKcf7550dpaWlMmDAhxo0bF0OHDo2IiKOOOqrw8zJ16tTCZW677bbo3r17lJWVRdu2bWPUqFG15ho7dmzUr1+/1rL/+q//ipKSkhg9enRh2YYNG6JJkyZxxRVXfOyMwM7jDCHsJja+jqtZs2aFZU8++WQMGjQoOnfuHNdcc02sWrUqbr755jjiiCPixRdfjI4dO0arVq3i/vvvr3Vd69ati0svvTRKS0u3eHuTJ0+O0047LU4//fT4wQ9+EPXr1y+se+KJJ2LixIkxf/78qKmpiXvuuSfOPPPMOO+882LFihVx7733xsCBA+M3v/lNHHzwwRHxYXCccsopMWPGjLjgggviwAMPjIkTJ8bw4cO36f6vXLky+vTpE6+++mqMHDkyDjnkkFi8eHE88sgj8Ze//CVatmwZNTU18bnPfS5mzJgR559/fhx44IHxhz/8If77v/87/vSnP8WkSZNqXeeMGTNiwoQJcdFFF0WTJk1i7NixMWTIkFiwYEG0aNFiqzNde+21UVJSEldccUUsWrQobrrpphgwYEDMmjUrGjVqVNhuyZIlMWjQoDjjjDPirLPOisrKyli1alX0798/5s6dGxdffHF06tQpHn744RgxYkQsXbo0vva1r+2Qx21bbNiwIUaOHBk//elPY+LEiXHiiSfGn//85/jqV78aY8eOjauuuioOPPDAiIjCr9dcc02MGTMmBgwYEBdeeGHMnj07br/99vjtb38bzz77bDRo0CD69OkTNTU1MWPGjDjppJMiImL69OlRr169mD59euH2f/e738XKlSujb9++O+w+Af+gBNQp9913X4qI9OSTT6Z33303vfnmm2n8+PGpVatWqaysLL355puFbQ8++ODUunXrtGTJksKyl156KdWrVy+dffbZW7yNiy66KNWvXz89/fTThWX9+vVL3bt3Tyml9LOf/Sw1aNAgnXfeeWnDhg2Fbd5///3UsmXL1KFDhzRr1qyUUkrr169Pa9asqXX977//fqqsrEwjR44sLJs0aVKKiHT99dcXlq1fvz716dMnRUS67777PvZx+fa3v50iIk2YMGGTdTU1NSmllO6///5Ur169NH369Frr77jjjhQR6dlnny0si4hUWlqa5s6dW1j20ksvpYhIN99888fO8swzz6SISPvuu29avnx5YflDDz2UIiJ9//vfLyzr169fioh0xx131LqOm266KUVEeuCBBwrL1q5dm3r37p322WefwvX+I49bv379Ur9+/TaZd/jw4am6urrw/fz581NEpBtuuCGtW7cunX766alRo0ZpypQptS738MMPp4hIzzzzTK3lixYtSqWlpem4446r9fNxyy23pIhIP/jBD1JKKW3YsCGVl5enyy+/PKX04X5q0aJFGjp0aKpfv35asWJFSimlG2+8MdWrVy+9//77m8wO7BqeMoY6asCAAdGqVato3759nHbaadG4ceN45JFHol27dhER8fbbb8esWbNixIgR0bx588LlevbsGccee2w8+uijm73eH/3oR3HbbbfF9ddfH0cdddQm6x988ME4/fTT41/+5V/izjvvjHr1PvxjYvbs2fHpT386Fi9eHEcddVT06tUrIiLq169fONNYU1MT7733Xqxfvz4+/elPx4svvli43kcffTT22muvuPDCCwvL6tevH1/5yle26fH42c9+Fr169YpTTz11k3Ubn/p++OGH48ADD4wDDjggFi9eXPg6+uijIyI2eRp7wIAB0aVLl8L3PXv2jPLy8vjzn/+8TTOdffbZ0aRJk8L3p512WlRVVW3y2JeVlcU555xTa9mjjz4abdq0iTPPPLOwrEGDBvHVr341Vq5cGdOmTSts90ket4+zdu3aGDp0aEyePDkeffTROO6447bpck8++WSsXbs2LrnkksLPR0TEeeedF+Xl5fHzn/88IiLq1asX//zP/xy//OUvIyLi1VdfjSVLlsQ3vvGNSCnFc889FxEfnjXs0aNHNG3a9BPfJ2D7CEKoo2699dZ44oknYvz48XHCCSfE4sWLo6ysrLD+jTfeiIiI/ffff5PLHnjggbF48eL44IMPai2fNWtWXHDBBXHmmWfWeg3XRvPnz4+zzjorhgwZEjfffHOt1xg2btw4Ro4cGR06dNjkcj/84Q+jZ8+e0bBhw2jRokW0atUqfv7zn8eyZctqzVtVVRX77LNPrctubv7NmTdv3lY/J3HOnDnxxz/+MVq1alXrq1u3bhHx4Wv2Pmpz96VZs2bx/vvvb9NM++23X63vS0pKomvXrpt8TMu+++67ydPzb7zxRuy33361giri/z8lu3H/ftLH7eNcd911MWnSpBg/fvxmX3u4JVv62SstLY3OnTsX1kd8+NrXmTNnxqpVq2L69OlRVVUVhxxySPTq1avwtPGMGTMKr5EFisNrCKGOOuywwwrvMh48eHAceeSR8cUvfjFmz569SRxsi/fffz+GDBkS3bp1i3vuuWez21RVVRXOcL3wwguF24+IaNeuXVx11VVx11131brMAw88ECNGjIjBgwfHZZddFq1bt4769evHddddt8kbYHa2mpqaOOigg+LGG2/c7Pr27dvX+v6jr4v8qJTSDp3ro68n3JlKSko2O/uGDRs2u/3AgQPjsccei+uvvz769++/Uz7O6Mgjj4x169bFc889F9OnTy+EX58+fWL69Onx2muvxbvvvisIocicIYTdwMbAeuutt+KWW26JiIjq6uqI+PCp3L/32muvRcuWLaNx48YR8WEofelLX4qlS5fGxIkTt/iRJw0bNozJkyfHfvvtF8cff3z88Y9/3Ops48ePj86dO8eECRNi2LBhMXDgwBgwYECsXr261nbV1dXx9ttvx8qVK2st39z8m9OlS5d4+eWXt7rNe++9F8ccc0wMGDBgk68dcVbto+bMmVPr+5RSzJ07d6vv6I348PGYM2dO1NTU1Fr+2muvFdZv/HVbH7dmzZpt9t3HHz1j91Gf/exnY9KkSfGrX/0qhg4dusk7ybf0LvQt/eytXbs25s+fX1gf8eE/bEpLS2P69Om1grBv377x/PPPx1NPPVX4HigeQQi7if79+8dhhx0WN910U6xevTqqqqri4IMPjh/+8Ie1IuDll1+Oxx9/PE444YTCsjFjxsSUKVPiwQcfjE6dOn3s7VRUVMSUKVOidevWceyxx271LN/Gs2wfPTP1/PPPF14fttEJJ5wQ69evj9tvv72wbMOGDXHzzTdv9b5HRAwZMiReeumlmDhx4ibrNt72F77whfjrX/8ad9999ybbrFq1apOn0D+pH/3oR7FixYrC9+PHj4+33347Bg0atNXLnnDCCfHOO+/ET3/608Ky9evXx8033xz77LNP9OvXr7Ddtj5uXbp0KZxx2+ill16KZ599dotzDBgwIH7yk5/EY489FsOGDasVqBv/QfH3kTlgwIAoLS2NsWPH1trv9957byxbtixOPPHEwrKGDRvGZz7zmXjwwQdjwYIFtc4Qrlq1KsaOHRtdunSJqqqqj328gJ3LU8awG7nsssti6NChMW7cuLjgggvihhtuiEGDBkXv3r3j3HPPLXzsTEVFRVxzzTUREfGHP/wh/v3f/z369u0bixYtigceeKDWdZ511lmb3E7Lli3jiSeeiCOPPDIGDBgQM2bMiH333XezM5100kkxYcKEOPXUU+PEE0+M+fPnxx133BGf+tSnap3VOvnkk+OII46Ib3zjG/H666/Hpz71qZgwYUKt1xlu7b6PHz8+hg4dGiNHjoxDDz003nvvvXjkkUfijjvuiF69esWwYcPioYceigsuuCCeeeaZOOKII2LDhg3x2muvxUMPPRRTpkyp9TT4J9W8efM48sgj45xzzomFCxfGTTfdFF27do3zzjtvq5c9//zz484774wRI0bEzJkzo2PHjjF+/Ph49tln46abbiq8WeUfedxGjhwZN954YwwcODDOPffcWLRoUdxxxx3RvXv3WL58+RZnGTx4cNx3331x9tlnR3l5edx5550REXHwwQdH/fr147vf/W4sW7YsysrK4uijj47WrVvHlVdeGWPGjInjjz8+Pve5z8Xs2bPjtttui8985jOb/Ez16dMnvvOd70RFRUUcdNBBERHRunXr2H///WP27Nk79P/GBrZTEd/hDGzGxo+d+e1vf7vJug0bNqQuXbqkLl26pPXr16eUUnryySfTEUcckRo1apTKy8vTySefnF555ZXCZTZ+RMqWvjb66MfObDR37txUVVWVDjzwwPTuu++mlFKqrq5Ow4cPL2xTU1OT/vM//zNVV1ensrKy9E//9E9p8uTJm3zUSUopLVmyJA0bNiyVl5enioqKNGzYsPS73/1umz52ZuPlL7744rTvvvum0tLS1K5duzR8+PC0ePHiwjZr165N3/3ud1P37t1TWVlZatasWTr00EPTmDFj0rJlywrbRUQaNWrUJrfx9/dvczY+pg8++GC68sorU+vWrVOjRo3SiSeemN54441a227ucd1o4cKF6ZxzzkktW7ZMpaWl6aCDDtrs4/CPPG4PPPBA6ty5cyotLU0HH3xwmjJlysd+7MxH3XbbbSki0te//vXCsrvvvjt17tw51a9ff5OPoLnlllvSAQcckBo0aJAqKyvThRdeuNmPjvn5z3+eIiINGjSo1vIvf/nLKSLSvffeu9nHB9h1SlLawa+eBtjDTZ06NY466qh4+OGH47TTTiv2OACfmNcQAgBkThACAGROEAIAZM5rCAEAMucMIQBA5gQhAEDmBCEAQOa2+38qqampibfeeiuaNGmyxf/vEgCA4kkpxYoVK6Jt27ZRr96WzwNudxC+9dZb0b59++29OAAAu8ibb74Z7dq12+L67Q7Cjf/P5ptvvhnl5eXbezUAAOwky5cvj/bt2xe6bUu2Owg3Pk1cXl4uCAEA6rCtvbzPm0oAADInCAEAMicIAQAyJwgBADInCAEAMicIAQAyJwgBADInCAEAMicIAQAyJwgBADInCAEAMicIAQAyJwgBADInCAEAMicIAQAyJwgBADInCAEAMicIAQAyJwgBADInCAEAMicIAQAyJwgBADInCAEAMicIAQAyJwgBADInCAEAMicIAQAyJwgBADInCAEAMicIAQAyJwgBADInCAEAMicIAQAyJwgBADK3V7EHgD3JwoULY9myZcUeA6hjKioqorKysthjwBYJQthBFi5cGGcNOzvWrV1T7FGAOqZBaVk8cP+PRCF1liCEHWTZsmWxbu2aWNW5X9Q0rCj2OBRZvVVLo9H8X8aqTn2jplHTYo9DEdVbvSziz9Ni2bJlgpA6SxDCDlbTsCJqGrcs9hjUETWNmvp5AOo8byoBAMicIAQAyJwgBADInCAEAMicIAQAyJwgBADInCAEAMicIAQAyJwgBADInCAEAMicIAQAyJwgBADInCAEAMicIAQAyJwgBADInCAEAMicIAQAyJwgBADInCAEAMicIAQAyJwgBADInCAEAMicIAQAyJwgBADInCAEAMicIAQAyJwgBADInCAEAMicIAQAyJwgBADInCAEAMicIAQAyJwgBADInCAEAMicIAQAyJwgBADInCAEAMicIAQAyJwgBADInCAEAMicIAQAyJwgBADInCAEAMicIAQAyJwgBADInCAEAMicIAQAyJwgBADInCAEAMicIAQAyJwgBADInCAEAMicIAQAyJwgBADInCAEAMicIAQAyJwgBADInCAEAMicIAQAyJwgBADInCAEAMicIAQAyJwgBADInCAEAMicIAQAyJwgBADInCAEAMicIAQAyJwgBADInCAEAMicIAQAyJwgBADInCAEAMjcbhOEq1evjj/96U+xevXqYo8CALBd6mrP7DZBuGDBgjj//PNjwYIFxR4FAGC71NWe2W2CEACAnUMQAgBkThACAGROEAIAZE4QAgBkThACAGROEAIAZE4QAgBkThACAGROEAIAZE4QAgBkThACAGROEAIAZE4QAgBkThACAGROEAIAZE4QAgBkThACAGROEAIAZE4QAgBkThACAGROEAIAZE4QAgBkThACAGROEAIAZE4QAgBkThACAGROEAIAZE4QAgBkThACAGROEAIAZE4QAgBkThACAGROEAIAZE4QAgBkThACAGROEAIAZE4QAgBkThACAGROEAIAZE4QAgBkThACAGROEAIAZE4QAgBkThACAGROEAIAZE4QAgBkThACAGROEAIAZE4QAgBkThACAGROEAIAZE4QAgBkThACAGROEAIAZE4QAgBkThACAGROEAIAZE4QAgBkThACAGROEAIAZE4QAgBkThACAGROEAIAZE4QAgBkThACAGROEAIAZE4QAgBkThACAGROEAIAZE4QAgBkThACAGROEAIAZE4QAgBkThACAGRur23dcM2aNbFmzZrC98uXL98pA23NG2+8UZTbha3xswl8HH9GEFF3fw62OQivu+66GDNmzM6cZZtce+21xR4BAP5h/v6iLtvmILzyyitj9OjRhe+XL18e7du33ylDfZxvfvObUV1dvctvF7bmjTfe8Ac+sEX+/iKi7v5dsc1BWFZWFmVlZTtzlm1SXV0d3bp1K/YYAPAP8fcXdZk3lQAAZE4QAgBkThACAGROEAIAZE4QAgBkThACAGROEAIAZE4QAgBkThACAGROEAIAZE4QAgBkThACAGROEAIAZE4QAgBkThACAGROEAIAZE4QAgBkThACAGROEAIAZE4QAgBkThACAGROEAIAZE4QAgBkThACAGROEAIAZE4QAgBkThACAGROEAIAZE4QAgBkThACAGROEAIAZE4QAgBkThACAGROEAIAZE4QAgBkThACAGROEAIAZE4QAgBkThACAGROEAIAZE4QAgBkThACAGROEAIAZE4QAgBkThACAGROEAIAZE4QAgBkThACAGROEAIAZE4QAgBkThACAGROEAIAZE4QAgBkThACAGROEAIAZE4QAgBkThACAGROEAIAZE4QAgBkThACAGROEAIAZE4QAgBkThACAGROEAIAZE4QAgBkThACAGROEAIAZE4QAgBkThACAGROEAIAZE4QAgBkThACAGROEAIAZE4QAgBkThACAGRutwnCDh06xF133RUdOnQo9igAANulrvbMXsUeYFs1bNgwunXrVuwxAAC2W13tmd3mDCEAADuHIAQAyJwgBADInCAEAMicIAQAyJwgBADInCAEAMicIAQAyJwgBADInCAEAMicIAQAyJwgBADInCAEAMicIAQAyJwgBADInCAEAMicIAQAyJwgBADInCAEAMicIAQAyJwgBADInCAEAMicIAQAyJwgBADInCAEAMicIAQAyJwgBADInCAEAMicIAQAyJwgBADInCAEAMicIAQAyJwgBADInCAEAMicIAQAyJwgBADInCAEAMicIAQAyJwgBADInCAEAMicIAQAyJwgBADInCAEAMicIAQAyJwgBADInCAEAMicIAQAyJwgBADInCAEAMicIAQAyJwgBADInCAEAMicIAQAyJwgBADInCAEAMicIAQAyJwgBADInCAEAMicIAQAyJwgBADInCAEAMicIAQAyJwgBADInCAEAMicIAQAyJwgBADInCAEAMicIAQAyJwgBADInCAEAMicIAQAyJwgBADInCAEAMjcXsUeAPY09VYvK/YI1AH1Vi2t9Sv58mcCuwNBCDtIRUVFNCgti/jztGKPQh3SaP4viz0CdUCD0rKoqKgo9hiwRYIQdpDKysp44P4fxbJlzgYAtVVUVERlZWWxx4AtEoSwA1VWVvpDH4DdjjeVAABkThACAGROEAIAZE4QAgBkThACAGROEAIAZE4QAgBkThACAGROEAIAZE4QAgBkThACAGROEAIAZE4QAgBkThACAGROEAIAZE4QAgBkThACAGROEAIAZE4QAgBkThACAGROEAIAZE4QAgBkThACAGROEAIAZE4QAgBkThACAGROEAIAZE4QAgBkThACAGROEAIAZE4QAgBkThACAGROEAIAZE4QAgBkThACAGRur+29YEopIiKWL1++w4YBAGDH2dhpG7ttS7Y7CFesWBEREe3bt9/eqwAAYBdYsWJFVFRUbHF9SdpaMm5BTU1NvPXWW9GkSZMoKSnZ7gH5xy1fvjzat28fb775ZpSXlxd7nOzZH3WL/VF32Bd1i/1Rt+yq/ZFSihUrVkTbtm2jXr0tv1Jwu88Q1qtXL9q1a7e9F2cHKC8vd1DXIfZH3WJ/1B32Rd1if9Qtu2J/fNyZwY28qQQAIHOCEAAgc4JwN1RWVhZXX311lJWVFXsUwv6oa+yPusO+qFvsj7qlru2P7X5TCQAAewZnCAEAMicIAQAyJwgBADInCAEAMicIdyPXXHNNlJSU1Po64IADij1WNn75y1/GySefHG3bto2SkpKYNGlSrfUppfj2t78dVVVV0ahRoxgwYEDMmTOnOMPu4ba2L0aMGLHJsXL88ccXZ9gMXHfddfGZz3wmmjRpEq1bt47BgwfH7Nmza22zevXqGDVqVLRo0SL22WefGDJkSCxcuLBIE++5tmVf9O/ff5Pj44ILLijSxHu222+/PXr27Fn48OnevXvHL37xi8L6unRcCMLdTPfu3ePtt98ufM2YMaPYI2Xjgw8+iF69esWtt9662fXXX399jB07Nu644454/vnno3HjxjFw4MBYvXr1Lp50z7e1fRERcfzxx9c6Vh588MFdOGFepk2bFqNGjYpf//rX8cQTT8S6deviuOOOiw8++KCwzaWXXhr/93//Fw8//HBMmzYt3nrrrfj85z9fxKn3TNuyLyIizjvvvFrHx/XXX1+kifds7dq1i+985zsxc+bMeOGFF+Loo4+OU045Jf74xz9GRB07LhK7jauvvjr16tWr2GOQUoqINHHixML3NTU1qU2bNumGG24oLFu6dGkqKytLDz74YBEmzMff74uUUho+fHg65ZRTijIPKS1atChFRJo2bVpK6cNjoUGDBunhhx8ubPPqq6+miEjPPfdcscbMwt/vi5RS6tevX/ra175WvKEy16xZs3TPPffUuePCGcLdzJw5c6Jt27bRuXPn+NKXvhQLFiwo9khExPz58+Odd96JAQMGFJZVVFTE4YcfHs8991wRJ8vX1KlTo3Xr1rH//vvHhRdeGEuWLCn2SNlYtmxZREQ0b948IiJmzpwZ69atq3V8HHDAAdGhQwfHx0729/tio//5n/+Jli1bRo8ePeLKK6+Mv/3tb8UYLysbNmyIn/zkJ/HBBx9E796969xxsdcuv0W22+GHHx7jxo2L/fffP95+++0YM2ZM9OnTJ15++eVo0qRJscfL2jvvvBMREZWVlbWWV1ZWFtax6xx//PHx+c9/Pjp16hTz5s2Lq666KgYNGhTPPfdc1K9fv9jj7dFqamrikksuiSOOOCJ69OgRER8eH6WlpdG0adNa2zo+dq7N7YuIiC9+8YtRXV0dbdu2jd///vdxxRVXxOzZs2PChAlFnHbP9Yc//CF69+4dq1evjn322ScmTpwYn/rUp2LWrFl16rgQhLuRQYMGFX7fs2fPOPzww6O6ujoeeuihOPfcc4s4GdQtZ5xxRuH3Bx10UPTs2TO6dOkSU6dOjWOOOaaIk+35Ro0aFS+//LLXN9cBW9oX559/fuH3Bx10UFRVVcUxxxwT8+bNiy5duuzqMfd4+++/f8yaNSuWLVsW48ePj+HDh8e0adOKPdYmPGW8G2vatGl069Yt5s6dW+xRstemTZuIiE3eHbZw4cLCOoqnc+fO0bJlS8fKTnbxxRfH5MmT45lnnol27doVlrdp0ybWrl0bS5curbW942Pn2dK+2JzDDz88IsLxsZOUlpZG165d49BDD43rrrsuevXqFd///vfr3HEhCHdjK1eujHnz5kVVVVWxR8lep06dok2bNvHUU08Vli1fvjyef/756N27dxEnIyLiL3/5SyxZssSxspOklOLiiy+OiRMnxtNPPx2dOnWqtf7QQw+NBg0a1Do+Zs+eHQsWLHB87GBb2xebM2vWrIgIx8cuUlNTE2vWrKlzx4WnjHcjX//61+Pkk0+O6urqeOutt+Lqq6+O+vXrx5lnnlns0bKwcuXKWv+Cnj9/fsyaNSuaN28eHTp0iEsuuST+4z/+I/bbb7/o1KlTfOtb34q2bdvG4MGDizf0Hurj9kXz5s1jzJgxMWTIkGjTpk3MmzcvLr/88ujatWsMHDiwiFPvuUaNGhU//vGP43//93+jSZMmhdc/VVRURKNGjaKioiLOPffcGD16dDRv3jzKy8vjK1/5SvTu3Ts++9nPFnn6PcvW9sW8efPixz/+cZxwwgnRokWL+P3vfx+XXnpp9O3bN3r27Fnk6fc8V155ZQwaNCg6dOgQK1asiB//+McxderUmDJlSt07Lnb5+5rZbqeffnqqqqpKpaWlad99902nn356mjt3brHHysYzzzyTImKTr+HDh6eUPvzomW9961upsrIylZWVpWOOOSbNnj27uEPvoT5uX/ztb39Lxx13XGrVqlVq0KBBqq6uTuedd1565513ij32Hmtz+yIi0n333VfYZtWqVemiiy5KzZo1S3vvvXc69dRT09tvv128ofdQW9sXCxYsSH379k3NmzdPZWVlqWvXrumyyy5Ly5YtK+7ge6iRI0em6urqVFpamlq1apWOOeaY9PjjjxfW16XjoiSllHZlgAIAULd4DSEAQOYEIQBA5gQhAEDmBCEAQOYEIQBA5gQhAEDmBCEAQOYEIQBA5gQhsMd555134itf+Up07tw5ysrKon379nHyySfX+j9DAfj//F/GwB7l9ddfjyOOOCKaNm0aN9xwQxx00EGxbt26mDJlSowaNSpee+21Yo8IUOc4QwjsUS666KIoKSmJ3/zmNzFkyJDo1q1bdO/ePUaPHh2//vWvIyJi6dKl8eUvfzlatWoV5eXlcfTRR8dLL71UuI5rrrkmDj744Lj//vujY8eOUVFREWeccUasWLGisM1jjz0WRx55ZDRt2jRatGgRJ510UsybN2+X31+AHUEQAnuM9957Lx577LEYNWpUNG7ceJP1TZs2jYiIoUOHxqJFi+IXv/hFzJw5Mw455JA45phj4r333itsO2/evJg0aVJMnjw5Jk+eHNOmTYvvfOc7hfUffPBBjB49Ol544YV46qmnol69enHqqadGTU3NTr+fADuap4yBPcbcuXMjpRQHHHDAFreZMWNG/OY3v4lFixZFWVlZRER873vfi0mTJsX48ePj/PPPj4iImpqaGDduXDRp0iQiIoYNGxZPPfVUXHvttRERMWTIkFrX+4Mf/CBatWoVr7zySvTo0WNn3D2AncYZQmCPkVLa6jYvvfRSrFy5Mlq0aBH77LNP4Wv+/Pm1nvLt2LFjIQYjIqqqqmLRokWF7+fMmRNnnnlmdO7cOcrLy6Njx44REbFgwYIdd4cAdhFnCIE9xn777RclJSUf+8aRlStXRlVVVUydOnWTdRufUo6IaNCgQa11JSUltZ4OPvnkk6O6ujruvvvuaNu2bdTU1ESPHj1i7dq1n/h+AOxqghDYYzRv3jwGDhwYt956a3z1q1/d5HWES5cujUMOOSTeeeed2GuvvQpn9f5RS5YsidmzZ8fdd98dffr0iYgPn4oG2F15yhjYo9x6662xYcOGOOyww+JnP/tZzJkzJ1599dUYO3Zs9O7dOwYMGBC9e/eOwYMHx+OPPx6vv/56/OpXv4pvfvOb8cILL2zTbTRr1ixatGgRd911V8ydOzeefvrpGD169E6+ZwA7jyAE9iidO3eOF198MY466qj413/91+jRo0cce+yx8dRTT8Xtt98eJSUl8eijj0bfvn3jnHPOiW7dusUZZ5wRb7zxRlRWVm7TbdSrVy9+8pOfxMyZM6NHjx5x6aWXxg033LCT7xnAzlOStuVV2AAA7LGcIQQAyJwgBADInCAEAMicIAQAyJwgBADInCAEAMicIAQAyJwgBADInCAEAMicIAQAyJwgBADInCAEAMjc/wOpym/KtBB5HAAAAABJRU5ErkJggg==",
      "text/plain": [
       "<Figure size 800x500 with 1 Axes>"
      ]
     },
     "metadata": {},
     "output_type": "display_data"
    }
   ],
   "source": [
    "import seaborn as sns\n",
    "\n",
    "plt.figure(figsize=(8,5))\n",
    "sns.boxplot(x=products['price'])\n",
    "plt.title('Rozkład cen produktów')\n",
    "plt.xlabel('Cena')\n",
    "plt.show()\n"
   ]
  },
  {
   "cell_type": "code",
   "execution_count": 23,
   "metadata": {},
   "outputs": [
    {
     "data": {
      "text/plain": [
       "quarter\n",
       "2024Q1    4609\n",
       "2024Q2    4547\n",
       "2024Q3    4590\n",
       "2024Q4    4603\n",
       "Freq: Q-DEC, Name: customer_id, dtype: int64"
      ]
     },
     "execution_count": 23,
     "metadata": {},
     "output_type": "execute_result"
    }
   ],
   "source": [
    "merged_df['quarter'] = merged_df['purchase_date'].dt.to_period('Q')\n",
    "customers_per_quarter = merged_df.groupby('quarter')['customer_id'].nunique()\n",
    "customers_per_quarter\n"
   ]
  },
  {
   "cell_type": "code",
   "execution_count": 24,
   "metadata": {},
   "outputs": [
    {
     "data": {
      "text/plain": [
       "customer_id\n",
       "1    52\n",
       "2     2\n",
       "3     8\n",
       "4    50\n",
       "5    52\n",
       "Name: purchase_date, dtype: int64"
      ]
     },
     "execution_count": 24,
     "metadata": {},
     "output_type": "execute_result"
    }
   ],
   "source": [
    "last_purchase = merged_df.groupby('customer_id')['purchase_date'].max()\n",
    "days_since_last = (pd.Timestamp('2025-01-01') - last_purchase).dt.days\n",
    "days_since_last.head()\n"
   ]
  },
  {
   "cell_type": "code",
   "execution_count": 25,
   "metadata": {},
   "outputs": [
    {
     "data": {
      "text/plain": [
       "2"
      ]
     },
     "execution_count": 25,
     "metadata": {},
     "output_type": "execute_result"
    }
   ],
   "source": [
    "one_time_buyers = merged_df.groupby('customer_id')['transaction_id'].nunique()\n",
    "one_time_buyers = (one_time_buyers == 1).sum()\n",
    "one_time_buyers\n"
   ]
  },
  {
   "cell_type": "code",
   "execution_count": 26,
   "metadata": {},
   "outputs": [
    {
     "data": {
      "text/plain": [
       "4967"
      ]
     },
     "execution_count": 26,
     "metadata": {},
     "output_type": "execute_result"
    }
   ],
   "source": [
    "months_per_customer = merged_df.groupby('customer_id')['purchase_date'].apply(lambda x: x.dt.month.nunique())\n",
    "active_customers = (months_per_customer >= 3).sum()\n",
    "active_customers\n"
   ]
  },
  {
   "cell_type": "code",
   "execution_count": 27,
   "metadata": {},
   "outputs": [
    {
     "name": "stderr",
     "output_type": "stream",
     "text": [
      "C:\\Users\\USER\\AppData\\Local\\Temp\\ipykernel_15404\\2771851116.py:4: FutureWarning: The default of observed=False is deprecated and will be changed to True in a future version of pandas. Pass observed=False to retain current behavior or observed=True to adopt the future default and silence this warning.\n",
      "  sales_by_age_group = merged_df.groupby('age_group')['total_sales'].sum()\n"
     ]
    },
    {
     "data": {
      "text/plain": [
       "age_group\n",
       "18-25    307944.02\n",
       "26-35    391839.37\n",
       "36-50    616263.86\n",
       "51-70    742572.47\n",
       "Name: total_sales, dtype: float64"
      ]
     },
     "execution_count": 27,
     "metadata": {},
     "output_type": "execute_result"
    }
   ],
   "source": [
    "bins = [17, 25, 35, 50, 70]\n",
    "labels = ['18-25', '26-35', '36-50', '51-70']\n",
    "merged_df['age_group'] = pd.cut(merged_df['age'], bins=bins, labels=labels)\n",
    "sales_by_age_group = merged_df.groupby('age_group')['total_sales'].sum()\n",
    "sales_by_age_group\n"
   ]
  },
  {
   "cell_type": "code",
   "execution_count": 28,
   "metadata": {},
   "outputs": [
    {
     "data": {
      "text/plain": [
       "category\n",
       "Nabiał             8297\n",
       "Przekąski          7506\n",
       "Słodycze           7098\n",
       "Produkty świeże    6624\n",
       "Alkohol            6093\n",
       "Pieczywo           5189\n",
       "Napoje             4934\n",
       "Mrożonki           4259\n",
       "Name: transaction_id, dtype: int64"
      ]
     },
     "execution_count": 28,
     "metadata": {},
     "output_type": "execute_result"
    }
   ],
   "source": [
    "category_counts = merged_df.groupby('category')['transaction_id'].count().sort_values(ascending=False)\n",
    "category_counts\n"
   ]
  },
  {
   "cell_type": "code",
   "execution_count": 29,
   "metadata": {},
   "outputs": [
    {
     "data": {
      "text/plain": [
       "<Axes: title={'center': 'Transakcje tygodniowo (trend)'}, xlabel='purchase_date'>"
      ]
     },
     "execution_count": 29,
     "metadata": {},
     "output_type": "execute_result"
    },
    {
     "data": {
      "image/png": "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",
      "text/plain": [
       "<Figure size 640x480 with 1 Axes>"
      ]
     },
     "metadata": {},
     "output_type": "display_data"
    }
   ],
   "source": [
    "weekly_sales = merged_df.resample('W-Mon', on='purchase_date')['transaction_id'].count()\n",
    "weekly_sales.plot(title='Transakcje tygodniowo (trend)')\n"
   ]
  },
  {
   "cell_type": "code",
   "execution_count": 30,
   "metadata": {},
   "outputs": [
    {
     "data": {
      "text/plain": [
       "<Axes: title={'center': 'Zakupy wg dnia miesiąca'}, xlabel='purchase_date'>"
      ]
     },
     "execution_count": 30,
     "metadata": {},
     "output_type": "execute_result"
    },
    {
     "data": {
      "image/png": "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",
      "text/plain": [
       "<Figure size 640x480 with 1 Axes>"
      ]
     },
     "metadata": {},
     "output_type": "display_data"
    }
   ],
   "source": [
    "day_of_month = merged_df['purchase_date'].dt.day.value_counts().sort_index()\n",
    "day_of_month.plot(kind='bar', title='Zakupy wg dnia miesiąca')\n",
    "\n"
   ]
  },
  {
   "cell_type": "code",
   "execution_count": 31,
   "metadata": {},
   "outputs": [
    {
     "data": {
      "text/plain": [
       "<Axes: xlabel='category', ylabel='city'>"
      ]
     },
     "execution_count": 31,
     "metadata": {},
     "output_type": "execute_result"
    },
    {
     "data": {
      "image/png": "iVBORw0KGgoAAAANSUhEUgAAAiQAAAITCAYAAAA3jAdlAAAAOXRFWHRTb2Z0d2FyZQBNYXRwbG90bGliIHZlcnNpb24zLjguMCwgaHR0cHM6Ly9tYXRwbG90bGliLm9yZy81sbWrAAAACXBIWXMAAA9hAAAPYQGoP6dpAADef0lEQVR4nOzdZXRU19eA8Wfi7p6QhBDc3d2dAqVYobhLcCkUaYHiVqx4gVJci+u/uEtxDRJ39/fDwIRpQoNMMinv/rFmLebec+/sk7E9x64iLS0tDSGEEEIILdLRdgBCCCGEEJKQCCGEEELrJCERQgghhNZJQiKEEEIIrZOERAghhBBaJwmJEEIIIbROEhIhhBBCaJ0kJEIIIYTQOj1tB5Ad7vvHajsEjchja6ztED7bobsB2g5BIxoWctR2CBoRk5ii7RA+m394vLZD0IiY+GRth/DZkr+QdTWr5bfO9scwLj1QI+eJu7ZYI+fJjaSFRAghhBBa90W2kAghhBC5ikJ+/2dFEhIhhBAiuykU2o4g15OUTQghhBBaJy0kQgghRHaTLpssSUIihBBCZDfpssmSpGxCCCGE0DppIRFCCCGym3TZZEkSEiGEECK7SZdNliQhEUIIIbKbtJBkSf5CQgghhNA6aSERQgghspt02WQpVyckaWlpKORJFEII8V8nXTZZ0vpfaNasWZluT0lJoWPHjjkcjRBCCCG0IVckJKtWrVLblpKSQvv27bl+/bp2ghJCCCE0SaHQzO0LpvUum/3799OgQQMsLS1p27YtycnJtGvXjnv37nHixAlthyeEEEJ8PumyyZLWE5Ly5cuzfft2WrVqhYGBAatWreLRo0ecOHECR0dHbYcnhBBCiByg9YQEoE6dOqxfv542bdpQuHBhTp06hZ2dnbbDEkIIITTjC+9u0QStJCStW7fOdLu9vT1WVlb07t1btW3Hjh05FZYQQgiRPaTLJktaSUgsLS0z3d6wYcMcjkQIIYQQuYFWEpI1a9Zo42GFEEII7ZAWkixpfQxJXFwcaWlpmJiYAPD8+XN27txJkSJFaNCggZajE0IIITRAR8aQZEXrKVvLli1Zv349AOHh4VSoUIE5c+bQsmVLli5dquXohBBCCA1Q6Gjm9gXTeu2uXr1K9erVAdi2bRtOTk48f/6c9evXs3DhQi1HJ4QQQoicoPUum9jYWMzNzQE4fPgwrVu3RkdHh0qVKvH8+XMtRyeEEEJogEz7zZLWW0i8vb3ZtWsXL1684NChQ6pxI4GBgVhYWGg5OiGEEEIDpMsmS1qv3cSJExkxYgSenp5UrFiRypUrA8rWktKlS2s5OiGEEELkBK132bRt25Zq1arh5+dHyZIlVdvr1q3LV199pcXIhBBCCA2RLpssaT0hAXBycsLJyUltW4UKFbQUjRBCCKFhX3h3iyZoPSGJiYlhxowZHDt2jMDAQFJTU9X2P3nyREuRCSGEECKn5HhCEhgYiIODg+p+z549OXXqFN9++y3Ozs4opFlLCCHEl0a+27KU4wnJ8uXLVa0iAAcOHGD//v1UrVo1p0NRk5KSwu9rl3Hy8J+Eh4ZgY2dPnUbN+aZLL1WSFBYawrrlC7h+6RzR0dEULVmGPkNG4eLmoTrPwT3bOX3sAI8f3CMuNoZN+05j9mZac04IDAhgwdzZnPnrNPHx8eRxd2fS1GkULVYcgLS0NJb+soid27YSFRVJydJlGDfhBzw8PNXO879TJ1mxbAkPH9zHwNCQsuXKM2/hL9kS85M7Nzi953dePXlAVFgI3478kaIVlGvTpCQnc3jzSu5dPU9ooB9GJqZ4Fy9L4059sLBJvyJ0bFQke1Yv4O6VsygUOhSrWIPm3QZhaGyiKvPg+kWObFlDwIun6Osb4FmkJE279MfGwTlb6gVvno957zwfedyZ9OM0ihZVPh/Hjh5m25bN3L3zNxEREWzeupOChQqrjn/96iVNG9XL9NwzZ8+nfsNG2RY7QNtm9fH3e51h+1dft2f4mAns3rGFIwf/5MG9O8TGxHDg5DnMzTPOjjv7v1Os+XUpjx89wMDAkNJlyjF97qJsjf2f4mJj2LxmKRf+OkFkeBie3gXpPmAE3oWKZii7fN40juzbznf9h9OsTUcAbl+/zKThfTI994xf1md6ns917/Y1DmzfwLNH9wgPDWbw9zMpW7mman9aWho7N6zg5KHdxMZEk79wCboOGIWTq7vaea5f/Ivdv6/mxbNH6OsbUKh4aYZMmJXh8aIjI/h+YCfCQoJY8sdRTM0+/7Pr/u1rHNq+gWeP7xMRGsyA8T9T5h912L3xV06/qYN34eJ8238Uju/Uwf+VL1tXL+LR3ZskJyXhltebrzr3oVCJsmqP9dfRfRzZ9Tv+r15gbGJKuWp16Nxv5GfXQSOkyyZLOZ6Q+Pj40LdvX9q1a8eWLVuwtrbGxsYmp8PIYPumtRzYvY2hY6fg7pmPR/f/ZuGMSZiamtG8bUfS0tKYNt4HXT09xv80H2NTU3Zv2cCEYX35Zd0OjIyNAUhIiKdMhSqUqVCF9Sty9gM3MiKC777tQPkKFVm87FesrW3wff4MC4v0ixmuXb2S3zf+xpSfZuDq6saSxQsY0Kcn23fvx9DQEICjRw4x9YeJDBziQ4WKFUlOSeHxw4fZFndSQhzOHt6Uq92EDbMn/GNfPK+ePKBu2y44e3gTFxPF3jWLWPfzOAb9vEJVbvPCqUSFhdJjwhxSk5PZumQGO5bPpsPQiQCEBvixfuZ4qjX7mvaDvyc+NoZ9axezYfYEBs9cmS31ioyI4LsuHShfviKLl755PnzVn4+4uDhKlS5L/YaNmTppQoZzODo5c+TE/9S2bd+6hfVrV1H1zYKC2enX3/4gNSVFdf/J40f49O9J7XrKC2EmxMdTsXJVKlauyvLF8zM9x8ljh/n5xx/oM2AoZcpXJCUlmSePHmV77P+0dM5UfJ8+ZvDYqVjb2nP66J9MGdWPeau2YWuf3mp74a/jPLx7Cxtbe7XjCxYtya9bD6lt27xmKbeuXSJfwSLZEnNCfBx58uanev3mLPppdIb9f277jSN7t9DLZyJ2Ti7s+G05sycMYdqyzRgYKN/Pl84cZ83C6bTt2o8iJcuRkpLMy+eZd4WvWvAjefJ6ExYSpLE6JMbH4eaVn2r1m/PLtDEZ9h/Y/htH926hh89E7Byd2bVhBXMnDuXHpb+j/6YOCycPx8ElDyN+WoyBgSFH9vzBgsnDmbFyO5bWtgAc2rmJwzt/5+vuA/EqWJSE+DhCAv00Vg+R/XI8ITEzM2PDhg2qC+xNnTqViRMnsm7dOtX1bLTh3t83qFi1JuUrKz/kHZ1dOH3sIA/u/Q3A65e+3L9zi8Vrt+GeNx8A/YaNo+tX9Th97AANmrUGoOXXnQC4de1yjtdhzeqVODk5M/nH6aptrm5uqv+npaWx6bf19Ordl9p16gIwddrP1KtZlRPHjtKoSVOSk5OZNWMaQ4eP5Ks2bVXH5svnnW1xFyxdiYKlK2W6z8jUjJ4T56pta9FjCL+M7Ut4UABW9o4EvnzGg+sXGThjOW75CinLdB/C2umjadqlPxY2drx6cp/U1BQatO+Jjo7yl0r1Ft/w28zxpCQno6un+bdCVs8HQLPmLQFlS0hmdHV1sbNT/2I8cfwo9Rs2xsTEVMMRZ2Rtrf5jYcPalbi65aF02fIAtOvYBYCrly9menxycjILZs9gwJARNGvVRrU9r1f2vZ4yk5AQz/nTxxk9dQ5FSpQB4Juufbhy7jSH926jQ/f+AIQEBbJq0Swm/LyYaeOGqJ1DX18f63da5ZKTk7h09hSNW32TbV3NJctVoWS5KpnuS0tL49DuzTT/ppuqxaH38EkM7tSYq+dOUalmA1JSktm4fC7fdB9EzYYtVMe6untlON+x/duJjYmmZYce3Lx8TmN1KF6uCsX/pQ5Hd/9Bs2+6UbpSDQB6DPsBn85NuHruNBVr1icqIpyA1y/4bvB48uTND0Cbrv05sX87r54/xtLalpjoSHZtWM6gCbMpUqq86vxvy+cK0mWTJa21IXXr1g2AOXPmcOjQIRwdHSlevDhlypRRu+WUQkVLcvPqRV69UK4O+/TRfe7cuk7ZisqupKTERAD0DQxUx+jo6KCvb8CdW9dzLM5/c+rEcYoULcbIYUOoU6MK7dt+xY5tW1T7X718SXBwEBUrp384mJubU6xECW7euA7Avbt3CAwIQEdHQfu2X1G/VnUG9O3Fo4cPcro67xUfG4NCocDI1AyA5w/+xsjUTJWMAHiXKItCoYPvwzsAuHoVRKHQ4cqJA6SmpBAfE82104fxLl42W5IRgFMnj1OkyJvno2YV2n+t/nx8ijt/3+b+vbu0at0m68IalpSUyOE/99G0ZesP/gJ+cO8OQYEBKHR06NaxDS0b1GT4oD48eZR9LW6ZSU1JITU1RfWL+y0DQ0Pu3r6uLJOayqIZE2jZ7lvyeObL8pyXz54mOjKCOo1aZFk2OwT5vyYiLISipdJnJJqYmuFVsCiP7t0C4Nmj+4SFBKHQUTBh0LcM7tyE2ROH8vLZY7VzvfJ9wu7fV9F72A85Oo4vOEBZh3eTiLd1ePymDmYWlji5eXD2+J8kxMeRkpLMqYO7sLCyxsNb+Z6/c+0iqalphIcE8X3fbxjRtTlLZ4wnNCggx+qSJVkYLUtan2XTqlWrzzo+ISGBhIQEtW2JCSkYGBq+54jMte3UjbjYaPp/+xU6OrqkpqbQuecAatVvAoCbhyf2jk6sX7GIASO+x9DImD1bNxAcFEBYSPBn1UFTXr18wdY/fqdzl+/o0asPf9++xczpP6Gnr0+Lll8RHKxshrWxtVU7ztbWjpBgZR1evngBwLIlvzB81GhcXFz5bd0aenXrwq79B7G0tMrROv1TUmICBzcsp2TVuhi9aSGIDg/FzMJarZyurh7GZuZEh4cCYOPoTI/vZ7Np3iR2rphDamoK7gWK0m3cz9kW66uXL9i65R/Px4z05+NT7Nq5nbxe+ShVKueS9bdOnzhOdHQUTZq3+uBj3rb8rF7+C4OGjcLJxZXNv61lUO/v+H3nfixy6PVkbGJKgSIl2LZhJW7uebG0tuHM8UM8uHMLJ5c8AOzavBYdXV2atO7wQec8dmA3JctVxtbeMTtDf6+IsBAALP/RimVhZUNEmPJ1H+T/CoBdG1fSodcQ7BycObhzE9PH9uPnFVsxM7ckKSmRpTMn8E33Qdg6OBH45picrIOFVcY6RIYr9ykUCob/uIjFP45iwNd1UCh0MLeyZujk+ZiaWbyp52vS0lLZv3UdHXr5YGxqxs7fljFnwmAmL9qAnr5+jtXpvaSFJEtaT0h++OGHzzp++vTpTJ48WW3bgOHjGDRi/Eed568Thzl15ADDJ0zD3TMfTx/dZ+Xi2djY2VO3UQv09PQZO3UOi2ZOpmOzmujo6lKybEXKVqxKWlraZ9VBU1JT0yhStCiDhg4DoFDhIjx6+JBtWzZ/8BdgWppy2nXP3n2oV185TmDyj9NpWLcmRw4dpG279tkT/AdISU5m09xJpJFGq17DPurYqLAQdiyfRZmaDSlZrS4JcXEc+WM1G+f8QI8Jc7LlV6Hq+RjyzvPx6OOej3fFx8dz4M999OrTT9OhfpD9u7dTsUo17N4Zb5GVt9P4u/ToTa26ystCjJv0E60b1+H40cO0atMuW2LNzOCxU1gyawq9v2mEjo4uXvkLUbV2Q548vMvjB3f5c8dmZi7b+EGvhZCgAG5cPsewCTNyIPJP9/azqfk331G+ah0AevpMwKdLcy79dYzajVuzde0SXPJ4UrVOY22G+l5paWlsXDoLC0trRv+8DAMDQ04f3sOiKSP4ft4arGzsSEtLJSU5mQ69h1GsTEUA+oyais+3Tbl38wrFymbeJSxyF60nJJ9r7NixDBum/uX0PCzlPaXfb+3S+bTp1I0adZWzFjzz5ScwwI9tG9dQ902TrHfBIixY9Qcx0VEkJydhaWXDiL7f4p1NA9o+lp29PV7/GOuR1ysfx44eVu5/MxYhNCQE+3e+VEJCgilYsLDqHIDaeQwMDHBzy4O/n/YGiKUkJ7Nx7g+EBQfQ64d5qtYRADMrG6Ijw9TLpyQTFx2F2ZtfXucO7cLIxJQm36Z/mbcfPJ7pfb/mxcM7uBfQ/AyJrJ6Pj3X0yCHi4+Jp9hEtFJri7/eayxfP89OsBR913NvXnGfe9C4QAwMDnF3dCPDP2deTk0sepsz7lfi4OOJio7G2tWfu1DE4Orty99Y1IsJD6duhqap8amoK65fNY//2TSzdtE/tXMcP7sHMwpJyVWrkaB3e9XYwZ0RYKFbvjG2JDA/F3Us5dsLqTRlX97yq/fr6Btg7uRISqOzOuHvjMi+eP+bSX8qu3DSUSczADg1p/s13tO7cO9vrEBmesQ5vx3/cvXGZG5fOsGjzEYzfvO+/9S7EnWsXOXvsT5p83QVLa+WxLu/U09zSGnMLS0KC/LMt/o/yhXe3aILWE5KUlBTmzZvHli1b8PX1JfHNWI23QkND//V4Q0ND1eyQtwxiYz86joSE+Ay/jHR0dEj7x0JtgGoq3OuXz3l0/w6devT/6MfLDqVKl+b5s6dq23yfP8PZ2QVQDqi0s7Pnwvlzqqml0dHR3L55k6/bKZupCxcphoGBAc+ePqV0GeWUuqSkJF6/eoWzi0sO1ibd22QkxP8VvX6Yj6m5pdp+jwJFiY+J5uXj+7jlKwjA49vXSEtLxT2/MllMTIhH8Y8PBIWOLkC2tXCVKpXJ8/Es/fn4WLt2bKNm7dpamZW2f89OrK1tqFzt476ACxYuioGBAS+eP6NkaeXrKTkpCX+/1zg5Z990639jZGyMkbEx0VGRXL90jm97D6FS9TqUKKO+OvSPowdSo34Tav9jjEhaWhonDu2lZv2m6OlpryvA3skFS2tb7ty4hEe+AgDExUbz5P7f1GmiHGTvmb8Q+voG+L30pUDRUoByoHFw4GtsHZSrYw8cP4Okd7q9nzy8w6r5PzJ+5nIcnF2ztQ52jso63L1+CXevt3WI4cn9v6nVWFmHxIR4gAyfzwodHVWLrneREgD4v3yOjZ3yx1Z0VARRkRHYZuO0/o8iCUmWtJ6QTJ48mZUrVzJ8+HC+//57xo8fz7Nnz9i1axcTJ07MsTjKV6nB1g2rsHd0xt0zH08e3mP3lg3Ua9JKVeavE0ewtLLG3tGJZ08esnLRLCpWq0Xp8pVVZcJCggkLDcHvlS8Az588xNjEFHtHJ8wtLP/5sBrV+dvv+O7bDqxasYz6jRrz962bbN+2hQk/TAGUb+iO33Zh5YpluHt44urqypLFC7F3cKB2XeVaF2ZmZrRt155lSxbh5OSEs4sL69asBqB+g+xZ8yIhLpaQd/qtQwP9eP30ISZmFphb27JhzkReP31A1zEzSEtNIepNv7OxmQV6+vo4uHlSoFQFdiyfxVe9hpOSksyeVfMpUaWOaq2SQmUqc2b/Vo5uXUupavVIiIvl0KZfsbJ3wsUze0bid+7y5vn4dRn1G755PrZvYcLEKaoyERHh+Pv5ERgYCMCzNwmMrZ2d2uwaX9/nXL1ymUVLVpDTUlNT+XPPTho1a4nePwYAhwQHERoSzKsXytf7k0cPMTExwdHJGQtLK0zNzGjZph2rlv+Cg6MTTs4ubFqvnGH3dupwTrl+6SxpaeCSxwP/Vy/4bcUCXN09qd2oOXp6+pj/YzyLrp4eVjZ2uObxVNt+69olAv1eqX02ZJf4uFgCXqfPwAryf83zxw8wM7fA1sGJhi3bs2fzGhxd8mD/ZtqvlY2dataNsYkZtZt8xc6NK7Cxd8DOwZk/t28AoEI15Uw7R2f1mV9RkeEAOOfx1Mg6JPFxsQT6pdchOOA1vk8eYGqmrEO9lt+w74+1OLrmwc7RhZ0bVrypgzL5zVeoOKZm5qyaN4UW7Xugb2jI6UO7CQ54TYlyykkHTq7ulKpUg99XzKProDEYGZuyY90SnN08MqxVInIvRZqWB0Dky5ePhQsX0rRpU8zNzbl+/bpq2/nz59m0adNHn/O+/8e3kMTGxrBx1RLO/+84EWFh2NjZU6NuI77p2hv9NwOi9m7bxM7N6wkPC8Ha1o7aDZvxTZf0/QCb1ixj89rlGc4/ZMxk6jb+uNH4eWyNP7oep0+eYNGCufg+f46rqxudu35H67bp/fRvF0bbsXULUVGRlCpTlnHfT8TDM72pMykpiUXz57J/7x4SEuIpVrwkI8eMJZ/3x39xH7qb9Sj3x39f49dJQzNsL1OzEfXafcfMAZmPW+k1aT75iiqvCB0bFcnuVfPTF0arVIMW3QarLYx248wxTu3+neDXL9E3NMS9QFEad+6Dg6tHpud/V8NCnzZw8fSpEyyaPxdf3zfPRxf152PPrh38MGFchuP69BtA3/6DVPcXLZjLn/v2sv/QMdW05U8Rk/jx3ZkXz51h2MDebNqxH/d/LKC3avkvrFmxJMMx4374kSYtlONkkpOSWLZ4Pof+3EtCQjxFipVg8PAxGbqzPpR/ePwnHXf25GE2rlxMSHAgZuYWVKpelw7d+7/3S7dfx2Y0bdNRtTDaW/N/GkdQgD8/LVz9SXG8FROfnGWZuzevMGNsxhbYanWb0mvYxPSF0Q7uUi6MVqRkhoXRkpOT2br2F86eOEBiQgL5ChajY28f3DwyTv199zE/ZGG05A/4+rh38wqzxg3IsL1K3Sb08JmoWhjtlKoOJejcX70Ozx7eZcf6ZTx7dJeU5GRc3L1o0aG72nTiuNgYNv86n6tnT6LQUVCwWGk69B6GzQcMOq6W3zrLMp/LuMVSjZwnbo92xpDlBK0nJKampty9exd3d3ecnZ3Zv38/ZcqU4cmTJ5QuXZqIiIiPPuenJCS50ackJLnNhyQk/wWfmpDkNp+SkOQ2n5qQ5DYfkpDkdh+SkPwX5EhC0jLjD9VPEbc789WCvwRa79Ryc3PD781gyXz58nH4sHLA36VLlzKMDRFCCCHEh5k+fTrly5fH3NwcBwcHWrVqxf3791X7Q0NDGTRoEAULFsTY2Bh3d3cGDx6coSFAoVBkuG3evFmtzMmTJylTpgyGhoZ4e3uzdu3aj45X6wnJV199xbFjxwAYNGgQEyZMIH/+/HTp0oXu3btrOTohhBBCAxQKzdw+wqlTpxgwYADnz5/nyJEjJCUl0aBBA2JiYgB4/fo1r1+/Zvbs2dy+fZu1a9dy8OBBevTokeFca9aswc/PT3V7dw2xp0+f0rRpU2rXrs3169cZOnQoPXv25NChQxnO869/Im132fzTuXPnOHfuHPnz56d58+afdA7pssk9pMsmd5Eum9xDumxyjxzpsvlKM9fMitvZ85OPDQoKwsHBgVOnTlGjRuYz5rZu3Urnzp2JiYlRDWJXKBTs3LnzvQuZjh49mv3793P79m3Vtvbt2xMeHs7Bgwc/OD6tt5D8U+XKlRk2bNgnJyNCCCHElyohIYHIyEi12z9XK3+ft10x/7Z0QEREBBYWFhlm1A0YMAA7OzsqVKjA6tWr1ZZLOHfuHPXqqV+VvGHDhpw793HXRNLKtN89e/Z8cNkWLbRznQghhBBCYzS0GnRmq5P/8MMPTJo06V+PS01NZejQoVStWpVixYplWiY4OJipU6fSu7f6YnhTpkyhTp06mJiYcPjwYfr37090dDSDBw8GwN/fH0dH9VZkR0dHIiMjiYuLw9j4w1r7tZKQ/LPZR6FQZFic6u0iOCkp//0mZiGEEP+/aeryFJmtTv4hE0AGDBjA7du3+euvvzLdHxkZSdOmTSlSpEiG5GbChAmq/5cuXZqYmBhmzZqlSkg0RStdNqmpqarb4cOHKVWqFAcOHCA8PJzw8HAOHDhAmTJlPqrvSQghhMitMpup8ik3Q0NDLCws1G5ZJSQDBw5k3759nDhxAjc3twz7o6KiaNSoEebm5uzcuVNtba3MVKxYkZcvX6q6ipycnAgIUB8vGBAQgIWFxQe3jkAuWKl16NChLFu2jGrVqqm2NWzYEBMTE3r37s3du3e1GJ0QQgjx35SWlsagQYPYuXMnJ0+eJG/evBnKREZG0rBhQwwNDdmzZw9GRkZZnvf69etYW1urEqHKlSvz559/qpU5cuQIlStXzuzw99J6QvL48WOsrKwybLe0tOTZs2c5Ho8QQgihcZq/oHiWBgwYwKZNm9i9ezfm5ub4+ysvNGhpaYmxsTGRkZE0aNCA2NhYNmzYoBokC2Bvb4+uri579+4lICCASpUqYWRkxJEjR5g2bRojRoxQPU7fvn1ZvHgxo0aNonv37hw/fpwtW7awf//+j4pX69N+a9SogZGREb/99ptqUExAQABdunQhPj6eU6dOffQ5Zdpv7iHTfnMXmfabe8i039wjJ6b9mrVbq5HzRG/57oPLvm/cypo1a/juu+84efIktWvXzrTM06dP8fT05ODBg4wdO5ZHjx6RlpaGt7c3/fr1o1evXmqXsTh58iQ+Pj7cuXMHNzc3JkyYwHfffXiskAsSkkePHvHVV1/x4MED8uTJA4Cvry8FChRg165deHt//PUuJCHJPSQhyV0kIck9JCHJPb7UhOS/RutdNt7e3ty8eZOjR4+qxosULlyYevXqaWxUshBCCKFN8n2WNa0tjBYXF8e+ffsA5RN1/Phxnj17xrNnzzhw4ACjR48mPv7L+CUkhBDi/zdNzbL5kmmthWTdunXs37+fZs2aAbB48WKKFi2qmiJ07949nJ2d8fHx0VaIQgghhMghWmsh2bhxY4bV4DZt2sSJEyc4ceIEs2bNYsuWLVqKTgghhNAcaSHJmtYSkkePHlG8eHHVfSMjI7URuxUqVODOnTvaCE0IIYTQLIWGbl8wrXXZhIeHq10QKCgoSG1/amrqB18wSAghhBD/bVprIXFzc1O7VPE/3bx5M9MlboUQQoj/GumyyZrWEpImTZowceLETGfSxMXFMXnyZJo2baqFyIQQQgjNkoQka1rrshk3bhxbtmyhYMGCDBw4kAIFCgBw//59Fi9eTHJyMuPGjdNWeEIIIYTGfOnJhCZoLSFxdHTk7Nmz9OvXjzFjxvB2wViFQkH9+vVZsmSJail5IYQQQnzZtLpSa968eTl48CChoaE8evQIUK7camNjo82whBBCCI2SFpKsaX3peAAbGxsqVKig7TCEEEKI7CH5SJa0NqhVCCGEEOKtXNFCIoQQQnzJpMsma5KQCCGEENlMEpKsSZeNEEIIIbROWkiEEEKIbCYtJFmThEQIIYTIbpKPZEm6bIQQQgihddJCIoQQQmQz6bLJ2heZkFx5HartEDQiJdVa2yF8tmV/Pdd2CBrhYmqs7RA0Ii45RdshfLYr/uHaDkEjHgTFaTuEz2Znqq/tEDSiWv7s/6yVhCRrX2RCIoQQQuQmkpBkTcaQCCGEEELrpIVECCGEyGbSQpI1SUiEEEKI7Cb5SJaky0YIIYQQWictJEIIIUQ2ky6brElCIoQQQmQzSUiyJl02QgghhNA6aSERQgghspm0kGRNEhIhhBAiu0k+kiXpshFCCCGE1kkLiRBCCJHNpMsma5KQCCGEENlMEpKsSUIihBBCZDNJSLKWK8aQPHnyRNshCCGEEEKLckULibe3N25ubtSsWZNatWpRs2ZNvL29tR2WEEIIoRHSQpK1XNFC8uLFC6ZPn46xsTEzZ86kQIECuLm50alTJ1auXKnt8IQQQojPo9DQ7QuWKxISV1dXOnXqxIoVK7h//z7379+nXr16bNmyhT59+mg7PCGEEOI/Z/r06ZQvXx5zc3McHBxo1aoV9+/fVysTHx/PgAEDsLW1xczMjDZt2hAQEKBWxtfXl6ZNm2JiYoKDgwMjR44kOTlZrczJkycpU6YMhoaGeHt7s3bt2o+ON1ckJLGxsRw+fJhx48ZRpUoVSpQowY0bNxg4cCA7duzQdnhCCCHEZ1EoFBq5fYxTp04xYMAAzp8/z5EjR0hKSqJBgwbExMSoyvj4+LB37162bt3KqVOneP36Na1bt1btT0lJoWnTpiQmJnL27FnWrVvH2rVrmThxoqrM06dPadq0KbVr1+b69esMHTqUnj17cujQoY/7G6WlpaV91BHZwMDAAGtrazp16kStWrWoXr061tbWn3y+TVdfajA67Snl9Ol/g9zCZ9dtbYegEVMaFtJ2CBoRl5yi7RA+2xX/cG2HoBEPguK0HcJnszPV13YIGvFT4wLZ/hj5hh/QyHkez2n8yccGBQXh4ODAqVOnqFGjBhEREdjb27Np0ybatm0LwL179yhcuDDnzp2jUqVKHDhwgGbNmvH69WscHR0BWLZsGaNHjyYoKAgDAwNGjx7N/v37uX07/fO+ffv2hIeHc/DgwQ+OL1e0kDRp0oSUlBQ2b97M5s2b2bp1Kw8ePNB2WEIIIUSukpCQQGRkpNotISHhg46NiIgAwMbGBoArV66QlJREvXr1VGUKFSqEu7s7586dA+DcuXMUL15clYwANGzYkMjISP7++29VmXfP8bbM23N8qFyRkOzatYvg4GAOHjxI5cqVOXz4MNWrV1eNLRFCCCH+yxQKzdymT5+OpaWl2m369OlZPn5qaipDhw6latWqFCtWDAB/f38MDAywsrJSK+vo6Ii/v7+qzLvJyNv9b/f9W5nIyEji4j68JTBXTPt9q3jx4iQnJ5OYmEh8fDyHDh3ijz/+YOPGjdoOTQghhPhkmpr2O3bsWIYNG6a2zdDQMMvjBgwYwO3bt/nrr780Ekd2yBUtJHPnzqVFixbY2tpSsWJFfv/9dwoUKMD27dsJCgrSdnhCCCFErmBoaIiFhYXaLauEZODAgezbt48TJ07g5uam2u7k5ERiYiLh4eFq5QMCAnByclKV+eesm7f3sypjYWGBsbHxB9ctVyQkbxOQ9evXExwczOXLl1VJyucMbhVCCCFyA0112XyMtLQ0Bg4cyM6dOzl+/Dh58+ZV21+2bFn09fU5duyYatv9+/fx9fWlcuXKAFSuXJlbt24RGBioKnPkyBEsLCwoUqSIqsy753hb5u05PlSu6LK5dOmStkMQQgghso02VmodMGAAmzZtYvfu3Zibm6vGfFhaWmJsbIylpSU9evRg2LBh2NjYYGFhwaBBg6hcuTKVKlUCoEGDBhQpUoRvv/2WmTNn4u/vz/fff8+AAQNULTN9+/Zl8eLFjBo1iu7du3P8+HG2bNnC/v37PyreXJGQAISHh7Nq1Sru3r0LQJEiRejRoweWlpZajkwIIYT4PNpYOX7p0qUA1KpVS237mjVr+O677wCYN28eOjo6tGnThoSEBBo2bMiSJUtUZXV1ddm3bx/9+vWjcuXKmJqa0rVrV6ZMmaIqkzdvXvbv34+Pjw8LFizAzc2NlStX0rBhw4+KVyvrkDx58gQvLy/V/cuXL9OwYUOMjY2pUKECoGw1iYuL4/Dhw5QpU+ajzi/rkOQesg5J7iLrkOQesg5J7pET65AUGvNxi4S9z70ZH/cl/1+ilRaSzZs38/jxY3799Vd0dHTw8fGhRYsW/Prrr+jpKUNKTk6mZ8+eDB06lNOnT2sjTCGEEEIjdHS+8AvRaIBWBrUOHz4cXV1dmjRpAihbSEaPHq1KRgD09PQYNWoUly9f1kaIQgghhMZoY1Drf41WEhJDQ0NWrFhBly5dALCwsMDX1zdDuRcvXmBubp7T4QkhhBAih2l1UGvHjh0B+Oabb+jRowezZ8+mSpUqAJw5c4aRI0fSoUOHbHns53dvcnbfH7x+8pDo8BC+GTaZQuWrAZCSnMzxLat5dP0iYYF+GBqb4lW8DPXa98Tcxk7tPA+unuf0jt8I8H2CnoEBHoVL0H74VNX+A2sX8+LBbQJfPMPO1Z2+M1ZkS33eiouNYdPqJVz46wQRYWHkzV+QHgNHkr9QUZKTk9i0aglXLpwhwO8lJqZmlCxTkW97D8bGzj7DuZISExnVvwvPHj9g7q+/k9e7YLbEXMzZnK9LO5Pf3hRbUwMmHXjAuadhqv2H+lfM9Lhfz/qy7bofAOs6l8LJQn0u/qpzvmy5ptxfwsWc1iWdKeBgiqmBLq8i4tl6zY8TD0M0Vo97t67y5/YNPHt0j/DQYIZ8P5OyVWqp9qelpbFjwwpOHtxFbEw0+YuU4LsBo3Fydc9wrqSkRCb7dMP3yUOmLtqAR770Pu6bV86xc8OvvPJ9gr6+AQWLlaZDryHYO7p8dh0e3L7G4Z0b8X18n4jQYPqNm0GpSjVV+6+ePcnpgzvxfXyPmKhIvp+/jjxe6v3vSYkJbF29kMv/O0pyUhJFSlekY9+RWFgrl6uOjoxg1ZwfePX8MTGREZhbWVOyQnVademHsYnpZ9cBwO/BLW4c3kbw80fERoTSoN8EPEtXUe2/vGcDjy+dIiYsCB09fezdvSnfqisOXuljhYKfP+LCjtUEPXuAQkeHvGWqUvnr3ugbpa+rcGbzUgIe3SH09TOsndxpM/EXjcT/Vn47ExoUsMPd2ggrY32WnPXlxuso1f6u5Vyo4qk+1uxv/ygW/qX+A6+YkxnNitjjamlEUkoaD4NiWHruRYbHMzXQZUK9fFib6DN0913iklI/uw5Bj2/z4PgOwl48Jj4ylMrdx+FaIvPpoFe3/MKTswcp2aon+Wu1BCDw4S1O/zIu0/J1hs3Bxr0AKUmJXN3yC2EvHxMV8ALnIuWp0vP7z45dk7Qxy+a/JlfMspk9ezYKhYIuXbqoLmmsr69Pv379mDFjRrY8ZmJCHI7u+ShVqzFb5v6gti8pMR7/pw+p8VVnHD3yER8TxcF1v/D77An0nrZUVe7OhdPs/XUudb/pQd5ipUhNSSHwxbMMj1WqViNePbpHgO+TbKnLu36ZNQXfp48ZMnYqNnb2nDryJ5NG9GPhmm0YGRvz5OE92n3bE898BYiOjmTVotlMGz+U2cszroa7bvkCbOzsefY4e68rZKSvw5PgWA7dDeKHTAaXtV9zVe1+eQ9LfGp78deTUPV4L7zgwJ30hfRik9IHcBZxMudJSCxbrr0mLDaJip5WjKybj9jEFC48D9dIPRLi43HPm58aDZqz8MfRGfbv37aeI3v+oNewH7B3cmH7b8uZNWEw05f9gYGBejL1x6pFWNnY4/vkodr2IP9XLJgykkZfdaTvqCnExUSzccU8Fv44mqmLfvvsOiQmxOOWNz9V6zVj2fSxmeyPw7tICcpVq8tvizNfrnrLygXcunyW3qN+wtjUjN+Xz2HZ9DGMmqlMxhU6CkpVrEHLzn0wt7Qi0O8lvy+bTcySSHqOmJLpOT9WUkI8tm5eFKzagCNLf8yw38rRlaod+mNh70RyUiK3ju5k//zxtP9pFcbmVsSEh7B/3li8ytegaof+JMbHcO6PFZxcO4f6fdW/6ApWbUDg0/uEvnyqkdjfZaCnw8uIeM48C6NflYyJK8Bt/yjWXXqtup+cqp5ElHY159uyLuy6Hci9wBh0FQpcLDNfSKtLWRdeRsRjbaK5warJCfFYuuTFs2J9zq2e9t5yr26eI+TZfYwsbdS22+UtRLMp69W2/f3nBgIf3sA6T34A0lJT0dU3xLtGc17dOKux2DVJ8pGs5YqERKFQsGDBAqZPn87jx48ByJcvHyYmJgQHB3/QsrgfK3+piuQvlfkvbyMTM74dP0ttW+Nug1j5/QAiggOwtHMkNSWFg+t/oX6n3pSp3URVzt7NU/247wYCcDJyXbYnJAkJ8Zw7fZyxP86laMmyALT/ri+Xzp7m4J6tdOoxgEmzl6od02vIaEb1+5agAD/sHZ1V269cOMP1y+cYPXk2Vy+cyda4L/tGcNk34r37w+KS1O5X9rTmxqtI/CPVLygVl5Saoexbm6++Vru/62YAZfJYUtXLWmMJScnyVShZvkqm+9LS0ji0azMt2nenbGVli0Of4ZMY1LERV8+dolLNBqqyNy6d5da1CwweP4Obl9U/XJ8+ukdqagptuvRFR0fZ49qkTWfmTxlBcnKy2jisT1GsbGWKlX3/YkaVaiuvNBoc4Jfp/riYaM4c3UuP4ZMpVLIcAN8NGc8P/Tvw5N5tvAoVw9TMgppN0i9vbuvgTK0mbTi8U3OXiHAvXh734uXfu9+7Ym21+5W/7sX9vw4R+vIproVL43vzAjq6elTrMADFm79z9U4D2TalPxGBr7F0ULZGVW3fT1nvqIhsSUj+9o/mb//ofy2TnJJGZEJypvt0FPBNSWe23wzgzLNw1Xa/qIwXY6vhZY2xgS777wRR3FlzXeXORcrhXKTcv5aJCw/h+vblVOs7mTMr1JNSHT19jCzSW4FSU5J5ffsC+ao3U7U66BkaUaZdfwBCntwhKS5GY/GLnJMrVmpt3749aWlpmJiYULx4cYoXL46JiQkBAQEZ5k9rS0JsDCgUGJmYAeD39CFRocEoFDosH9OHOf2+ZuOMMQS+0PyH0odKTUkhNTUFAwMDte0GhkbcvXU902NiY6JRKBSYmqV/AIWHhrB09lSGjvsRQyOj7Az5o1kZ61HBw4pDdzNeUqBdGWe2di/DL18Xo20pZ7Ia1G5qoEdUQs5Mgw3yf01EWAhFS1VQbTMxNcOrYFEe3b2l2hYRFsLqhdPoM3wSBoYZ//Z5vQuhUOjwvyN7SU1JITYmmjPH/qRoqQqfnYxowvNH90hJTqZwyfRkwMnNExt7J57cv5XpMeEhQVw7d5L8RUvnVJhqUpKTuPu/AxgYm2Lr5qXapqOnp0pGAHTftGL5P/pbK3G+TwF7U2Y1K8jkht50LO2MqYGuap+7lTHWJvqkpcH4ul7MbFqAQdXccflH96azuSHNCtuz5uIr0sjZlSDSUlO5uHEuBeq0xtLZI8vyr29fICEmCs+K9bIsm5soFAqN3L5kuSIh8fX1pWfPnmrb/Pz8qFWrFoUK/fv6D5ldijkp8cMuxfyhkhMTOfr7rxSvUgfDN33cYYHKX9yntq+j+led6DDyJ4xMzVk7ZRhx0ZEaffwPZWxiSsGiJdjy20pCg4NISUnh5JH9PLhzk7DQ4AzlExMTWL98AdXrNMLEVJlopaWlsfDnH2jYoi3eBYvkdBWyVL+gPXFJqRm6a3bf8mf64UeM2n2XP+8E0r6MCz0rZ97EDVAjnw0FHEw5nElikx0iwpRjVSyt1ZujLa1sCH+zLy0tjV/nTqFOk6/wKpD5397eyZVRPy1i67qldG9Zjb5f1yE0JJABY9/fFJ6TIsND0NPTx8RM/Re2hZU1EWHqz9nKWRMZ2LYWo7u1wMjElC6DMnYRZafnNy+wetBXrBrQkltHd9HE5yeMzJULMboUKkVsRBg3Dm0jJTmJhJgoLu5YDUBsROi/nTZH/e0fzZpLr5h3+hk7bgWQ396EQdXcefu19XadkGZF7PnzXhCLz/gSm5jC8JqemOgrExc9HQU9Krqx/VbAe1sYs9P9Y9tR6OjgXaP5B5V/dv4IToVKY2Jll3XhXEQSkqzlioTkzz//5OzZs6orGL5+/ZpatWpRvHhxtmzZ8q/HZnYp5j1rNDewLCU5ma0LppCWlkbT7kNU29+uJ1e9VSeKVKyBi1cBWvYdiUKh4O/zpzT2+B9ryNippKWl0ePrhrRrUIn9OzZTrU7DDC/k5OQkZk9WjnPo45P+RbB/x2biYmNp3bFbjsb9oRoWtuf4g2CSUtR/xe244c/N11E8DYlj/9+BrDjrS8vijuhn0kxS0sWC4XW8WHDyKc/Dcs/iVEf2bCEuLpbm7b57b5nw0GBWLfiJanWbMGnBWsb9vAw9PX0WTRuDFtY4/Cxf9xzC9/PX0n/8TIL8XrF11cIcfXyXgiVpM+EXWo6eQ56iZTm2fDpxkeEA2Lh4ULvbcG4e2cHqga34bWRHzO2cMLawzlVfCpdfRnLTL4rXkQnceB3FL2d8yWtjQkEH5Q+nt7EeuBfMtVdR+IbHs+7ya9KAsm4WAHxVzAH/qAQu/Eu3aXYJe/GIh6f3UL7j0A/6u8aGB+N/7xqelernQHQip2m/jRewt7fn8OHDVKumnOWyb98+ypQpw8aNG1X95O+T2aWYd97RzK/elORkti2YQkRwAF2+n61qHQEws1L+0rV3TW9i1NM3wNrBmYiQwAznyinOrnn4acFK4uPiiI2NxsbWntmTR+PknH6FR2UyMoYgfz8mz12uah0BuHXtEg/u3KRdg0pq5x3RpzM16jVmyFjNDDr8FMWczcljbcy0w4+yLHs/IBo9XR0cLQx5GR6v2l7cxZzJTQuw7Mxzjt7P2GqUXSytbQGICAvF6p2ZWhHhoXi8maVy58YlHt27RfeW1dSO/WFIVyrXbkif4ZM4um8bJqZmtO8xWLW/78jJDO3SnMf3b+NdqHgO1Ob9LKxsSU5OIjY6Sq2VJDI8LGPrkLUtlta2OLl5YmpuwawxfWn6TTcsbXLml6++oRGWDi5YOrjg6FWYzd/34N6ZQ5Ru/A2gHGfiXbE2sZFh6BsYgULBrSM7sbBzzuLM2hMck0RUQjL2pgbcI4aIeGWLx+t3xlslp6YRHJOIzZuBqwUdTHG1NKKMq7JV7m1eMKd5IQ7cC2Kvhj5PM4338d8kREfw5+Tuqm1pqanc2L2ah6f20OSHVWrln104iqGpOS7FMh//l5vlojw218oVCQlAnjx5OHLkCNWrV6d+/fr89ttvH5QxGxoaZhj0qm/w+V0mb5OREP9XdJ0wBxNz9WvquOQtgK6+PsF+L3B/8yWQkpxMeJA/VnaOn/34n8vI2BgjY2OioyK5dukcXfsoW3feJiOvX/oydd4KLCyt1I7rOWgkHXv0V90PCw5i8qgBjJg4g/xFiuVkFTJoWNieB4HRPAmJzbKsl50JKalphL/TBF3CxZwpTQuy6pz6bJycYO/kgqW1LXduXFJN4Y2LjebJ/b+p27QNAJ37jqBtl36qY8JCg5j1/WAGjPmJfIWKAspZMAqFepKuo6Nsek9L1X4LiYd3IXT19Lh38zJlqigHjvq/fE5okD9eBd+fLKW+mRmSlJTzXQZvpaWmkpLJ45u8GVB5769D6Orr41pEO2NdPoSVsR6mBrpExCsHufqGxZOUkoqTuQGP37xvdBRga2JAaGw4AMvOvcBAN/015WltTNfyrsw++ZSgmMRsjde9fG0cCpZS2/a/ZRPxKFcbzwrqY0TS0tJ4fvEo7uVro6Oba766PlhualnLrbT2rFpbZ970GRsby969e7G1tVVtCw3VfJ9tYnwcof6vVPfDgvzxf/YIYzNzzKxs2Tp/Mn5PH9Jh1E+kpaYSHa6MwdjMHF09fQxNTClXtzknt63D0tYBSztHzu77A4AiFdPXbQj1f0VifBzR4aEkJybg/0z5697ezQNdPc1fB+LaxbOkkYZrHk/8Xr1g3bL5uLl7UqdxC5KTk5j5wyiePLzH+GkLSE1NUY0tMTO3RF9fX22mDYCxsQkATq5u2NlnT6JlpKeDi2X6AE4nc0O8bE2ISkgmKFr5gWiir0uNfDasOJtxAb3CjmYUcjTjxqtIYpNSKOxoRt+qHhx/EEz0m0GrJV0smNK0ALtu+vPX41CsjZV/++TUVI0NbI2PiyXgdfp1lIICXvP88QNMzS2wc3CiYav27N68GkeXPNg7urD9t2VY2dpR5s2sGzsHJ7XzGRor17twcHbD5k2SW6p8VQ7t+p1dm1ZSqWYD4uNi2bpuCXYOzmprlXxOHYL80usQHPCaF0+UdbCxdyImKoLQoADC37xu/F8pnw+LN60dxqZmVK3XnK2rFmJqZoGRiSmbV8zBq1AxvAopE9pbl88SGR6KZ/7CGBqZ4Of7hO1rF5OvcAnsHDXT+pAUH0dEUPrMqsjgAIJfPMbIxBxDMwuu/bkZj5IVMbG0IT46kr9P7CU2PASvctVVx9w+vgenfEXQMzLi1Z1rnN+2ioqtu2Fokt6iGBH4mqSEOOIiw0hOSiD4hXKWoLWzu0be34a6OtibpQ9StzM1wM3SiJjEFGITU2hWxJ6rryKJjE/G3syA1sUdCYpO5E6AcmZOfHIqp5+E0byIA6FxSYTGJNGgoLIF6spLZRdNcIx6EmZmqExw/aISNLIOSXJCHNFB6bOyYkIDCH/5BANTM0ysHTA0tVArr6Ojh5G5NeaObmrbAx/eJCYkgLyVGpCZSH9fUpOTSYyNJjkhjvCXylmNVm5emZbPaZKPZE1rCcn8+fO19dAAvH5yn3VTh6vuH/5NOR22ZI0G1GrblftXlNMtl4/prXZc1wlz8CxSCoD6nfqgo6vLzl+mk5SUiFu+QnT5fg7G7zRV71kxh+d3b6juLx/bB4AhCzdiZa/+BaQJsTHR/LZyMSFBAZibW1KpRh069RiAnp4+gf6vuXRWOb5lWK/2asdNnbeCYqX+fWpedingYMqsVumDOPtWU3aDHb4XxJzjyg+VmvmVzf2ZLWSWlJJKTW9bOpd3RV9XB//IBHbc9GfH9fQPwXqF7DDS16V9WVfal3VVbb/xKpJRu+9qpB5PH95l+pj0Fo5Nv84HoFq9pvQe9gNN23YhIT6eNYumERsdTf6iJRkxZUGGNUj+TZFS5ek3air7t/3G/m2/YWBohHfh4oyYuiDTWTkf6/mje8wdP0B1/+24jsp1mvDd0AncuPgX6xakr+uxctYEAJq170HzjsqB6e16DkGho2DZjLHpC6P1G6k6xsDAkL8O72brqgUkJyVibedI6cq1aNTm28+O/62g5w/ZNyd9LZjzW5VroBSoXI9qnQcR7v+CB+eOEh8dgZGpBfaeBWg+ahY2LuldsEHPHnBl7waSEuKwcspD9c6DKFC5rtrjnF4/H78H6bOHdkxVTvPvMG0t5hpoKfWwMWJ4zbyq++1KKj8zzj4LY9NVP1wtjajkYYWJgQ7hccncDYhm99+BJL/TWrbtpj8paWl0L++Gvq6Cp6FxzD39jFgNJBsfItT3kdrCZjd3KbthPMrXoXwnnw8+z7Pzh7HNWxgLxzyZ7v9r+WRiw9K7y4/OVrYKt52/91PCFlqglav9Zje52m/uIVf7zV3kar+5h1ztN/fIiav9lp16QiPnuTKhdtaF/qNyXUdcfHw8iYnq/ZYWFhbvKS2EEELkftJlk7VcMe03JiaGgQMH4uDggKmpKdbW1mo3IYQQQnzZckVCMmrUKI4fP87SpUsxNDRk5cqVTJ48GRcXF9avX5/1CYQQQohcTBZGy1qu6LLZu3cv69evp1atWnTr1o3q1avj7e2Nh4cHGzdupFOnTtoOUQghhPhkX3guoRG5ooUkNDQULy/l1CwLCwvVNN9q1apx+vRpbYYmhBBCiByQKxISLy8vnj5VXpSuUKFCquXi9+7di5WVlRYjE0IIIT6fdNlkLVckJN26dePGDeVaHWPGjOGXX37ByMgIHx8fRo4cmcXRQgghRO6mUGjm9iXLFWNIfHzSF8epV68e9+7d48qVK3h7e1OiRAktRiaEEEKInKD1hCQpKYlGjRqxbNky8ufPD4CHhwceHh5ZHCmEEEL8N3zp3S2aoPWERF9fn5s3b2o7DCGEECLbSD6StVwxhqRz586sWrUq64JCCCHEf5AMas2a1ltIAJKTk1m9ejVHjx6lbNmymJqaqu2fO3euliITQgghRE7IFQnJ7du3KVOmDAAPHjxQ2xcVFaWNkIQQQgiN+cIbNzRCqwnJvHnz8PHx4cSJzK+CGBUVRaNGjXI4KiGEEEKzvvTuFk3Q6hiScePGvfdaNTExMTRu3JiQkJAcjkoIIYQQOU2rLSS//fYb3377LVZWVrRo0UK1PTo6mkaNGhEYGMjJkye1F6AQQgihAdJCkjWtJiRt27YlPDycDh06sH//fmrVqqVqGQkICODUqVO4uLhoM0QhhBDis0k+kjWtD2rt2bMnoaGhtGzZkt27dzNx4kRev34tyYgQQgjx/4jWExKAUaNGERoaSt26dfH09OTkyZO4ublpOywhhBBCI6TLJmtaTUhat26tdl9fXx87OzuGDBmitn3Hjh05GZYQQgihUZKPZE2rCYmlpaXa/Q4dOmgpEiGEEEJok1YTkjVr1mjz4YUQQogcIV02WcsVY0iEEEKIL5nkI1mThEQIIYTIZjqSkWQpV1ztVwghhBCad/r0aZo3b46LiwsKhYJdu3ap7X/fVYVnzZqlKuPp6Zlh/4wZM9TOc/PmTapXr46RkRF58uRh5syZHx2rtJAIIYQQ2UxbDSQxMTGULFmS7t27Z5jZCuDn56d2/8CBA/To0YM2bdqobZ8yZQq9evVS3Tc3N1f9PzIykgYNGlCvXj2WLVvGrVu36N69O1ZWVvTu3fuDY5WERAghhMhmmhrUmpCQQEJCgto2Q0NDDA0NMy3fuHFjGjdu/N7zOTk5qd3fvXs3tWvXxsvLS227ubl5hrJvbdy4kcTERFavXo2BgQFFixbl+vXrzJ0796MSEumyEUIIIf4jpk+fjqWlpdpt+vTpGjl3QEAA+/fvp0ePHhn2zZgxA1tbW0qXLs2sWbNITk5W7Tt37hw1atTAwMBAta1hw4bcv3+fsLCwD358aSERQgghspmOhrpsxo4dy7Bhw9S2va915GOtW7cOc3PzDF07gwcPpkyZMtjY2HD27FnGjh2Ln58fc+fOBcDf35+8efOqHePo6KjaZ21t/UGPLwmJEEIIkc001WXzb90zn2v16tV06tQJIyMjte3vJkAlSpTAwMCAPn36MH36dI3GIl02QgghxP9z//vf/7h//z49e/bMsmzFihVJTk7m2bNngHIcSkBAgFqZt/ffN+4kM19kC0nFPLbaDkEjXK2NtR3CZxtSM2/Whf4DXG3++88FgJH+f/83iJ2pQdaF/gPKOCVkXSiXszDU13YI/xm5fRmSVatWUbZsWUqWLJll2evXr6Ojo4ODgwMAlStXZvz48SQlJaGvr3xNHDlyhIIFC35wdw1IC4kQQgiR7RQa+vexoqOjuX79OtevXwfg6dOnXL9+HV9fX1WZyMhItm7dmmnryLlz55g/fz43btzgyZMnbNy4ER8fHzp37qxKNjp27IiBgQE9evTg77//5o8//mDBggUZxrpk5YtsIRFCCCEEXL58mdq1a6vuv00Sunbtytq1awHYvHkzaWlpmV7g1tDQkM2bNzNp0iQSEhLImzcvPj4+asmGpaUlhw8fZsCAAZQtWxY7OzsmTpz4UVN+ARRpaWlpn1DHXO1xUJy2Q9CIL6HL5vj9QG2HoBElXKy0HYJGfAldNv7h8doOQSOCYqTLJrco62mR7Y/RYsUljZxnT+/yGjlPbiQtJEIIIUQ2k6v9Zk0SEiGEECKbST6Stf9++60QQggh/vOkhUQIIYTIZjrSRJIlSUiEEEKIbCb5SNaky0YIIYQQWictJEIIIUQ2k1k2WZOERAghhMhmko9kTbpshBBCCKF10kIihBBCZDOZZZM1SUiEEEKIbCbpSNaky0YIIYQQWictJEIIIUQ2k1k2WcsVCUlKSgpr167l2LFjBAYGkpqaqrb/+PHjWopMCCGE+Hw6ko9kSSsJSVxcHMbGxqr7Q4YMYe3atTRt2pRixYpJJimEEOKLIt9rWdNKQjJ37lxsbW3p27cvAJs3b2bLli00adJEG+EIIYQQQsu0Mqi1W7dubN68mZEjRwJgYGCAt7e3NkIRQgghsp1CoZnbl0wrCYmLiwvHjx/HxMQEgOHDh7NgwQLS0tK0EY4QQgiRrRQKhUZuXzKtDWrV0dFh8uTJAPz111+cOHGCAwcOULRoUfT19dXK7tixQxshCiGEECKH5IpZNlZWVnz11VfaDkMIIYTIFjLLJmu5IiFZs2aNtkMQQgghss2X3t2iCbJSqxBCCCG0Lle0kABs27aNLVu24OvrS2Jiotq+q1evaikqIYQQ4vNJ+0jWPqmFpGvXrpw+fVpjQSxcuJBu3brh6OjItWvXqFChAra2tjx58oTGjRtr7HGEEEIIbdBRKDRy+5J9UkISERFBvXr1yJ8/P9OmTePVq1efFcSSJUtYsWIFixYtwsDAgFGjRnHkyBEGDx5MRETEZ51bCCGEELnfJyUku3bt4tWrV/Tr148//vgDT09PGjduzLZt20hKSvro8/n6+lKlShUAjI2NiYqKAuDbb7/l999//5QQhRBCiFxDFkbL2icParW3t2fYsGHcuHGDCxcu4O3tzbfffouLiws+Pj48fPjwg8/l5OREaGgoAO7u7pw/fx6Ap0+fymJpQggh/vNkYbSsffYsGz8/P44cOcKRI0fQ1dWlSZMm3Lp1iyJFijBv3rwPOkedOnXYs2cPoFxW3sfHh/r16/PNN9/I+iRCCCH+86SFJGufNMsmKSmJPXv2sGbNGg4fPkyJEiUYOnQoHTt2xMLCAoCdO3fSvXt3fHx8sjzfihUrSE1NBWDAgAHY2tpy9uxZWrRoQZ8+fT4lxI+WkpLCxtXLOHF4P2EhIdjY2VOvSQs6dO2VaVa6aNaPHNi9jd6DR9CqXecM+5MSE/Hp3Zknjx6waM1m8uUvlBPVYOkvi1i2ZLHaNs+8edm97yAAL3x9mTP7Z65fvUJiYiJVq1VnzLgJ2NrZqcpHhIczY9pUTp08gY6ODnXrN2D0mPGYmJpmS8yP/77O8d2/8/LxfSLDQug++ieKV6yh2n/z/CnOHNrNy8f3iY2OZMSc1bjmzZ/hPM/u32b/xl/xfXgHhY4Ornnz02fCHAwMDVVl/r58lsNb1+L3/DF6+gbkK1qKHmOmZ0u9OrZqSID/6wzbW7T5hiEjvyc0JJjli+Zw5eI54mJjcXP3pNN3vahRp76qbGREBIvnTOPcX6dQ6OhQvXY9BvqMwfjNZReyW5tm9fH3y1iH1l+3Z/iYCSQkJLB43kyOHj5AUmIiFSpXZcSYCdjY2qmV379nJ39sXM8L32eYmJpRp14Dho+ZkCN1eCsuNobf1yzlwl8niAwPI693QboPGIF3oaIZyi6fN43D+7bTrf9wmrXpqLbvyvn/sfW3X3n+5BH6BgYUKVGGMVPnajzeh7evcXjnJnwf3yciNJi+46ZTqlJN1f5rZ09y+uBOfB/fJyYqkvHz15LHq4DaOf53cBcXTx/hxeP7xMfFMnfTIUzMzNXK/LllLbcvn+XFk4fo6esz7/fDGq3H3VtX2bf1N54+vEd4aDA+P8yifJVaqv1paWlsW7+cEwd3ERMdTYEiJeg+eAzOru6qMtGREaxdMotrF/5CoVBQoVoduvQbjpFx+vvg/Kkj7N68Br9XvlhYWlO/RTuaf/2tRusistcnJSTOzs6kpqbSoUMHLl68SKlSpTKUqV27NlZWVh90Ph0dHXR00htr2rdvT/v27T8ltE+2beMa/ty1lWHjp+CRNx8P791h3rQfMDU1o+XX6h9IZ08d5/7fN7G1s3/v+VYtmYeNnT1PHj3I7tAzyOednxUr0xeb09XTBSA2Npa+vbtToGAhfl29DoBfFi1g0IC+bPh9i+o5GDt6BMFBQSxbuYbkpCR++H4cUyZNZMasOdkSb2JCPK6e3lSs05Q1M8dn2J8QH4dX4eKUrlKbP5bOzPQcz+7fZvnUEdRt3ZnWPYeiq6vLq2eP0HlnecQb506yZelMmnTqTf7iZUhNScHP92m21AlgyZrfVYk2wNPHDxk1uDc16zQEYMbkcURHR/HjrEVYWFlx/NCfTP1+BEvWbCZ/wcIATPthNKEhwcxcuILk5GRm/TiBuTMmMX5K5n8HTVv52x+kpqSo7j95/Iih/XtSu56yDgvn/My5v07x44y5mJqbM/fnnxg3cgjLVm9UHbN5w1p+37COAUOGU6RYCeLj4/B7/XkD4T/FkjlT8X36mMFjp2Jja8/po38yeVQ/5q/ahq29g6rchb+O8+DuLWxsM76/z50+xrK5P9KxxwCKlypPSkoKvs8eZUu8CQnxuOX1pkq9ZiyfPjaT/XF4FylJ2Wp12bB4RqbnSExIoGiZihQtU5Fd65dlWiYlOZkyVevgVbAYZ47u02gdQPn+9fAqQK2GLZg3ZVSG/Xu3rOfQ7j/oO2ISDk4ubF23jBnjBjHr1y0YGCh/TPzy8wTCQ4MZO30xycnJLJ8zhZXzpzFw7I8AXL90hl9+nkDX/iMpXrYir32f8ev8nzAwMKRhy3Yar9On+NJnyGjCJyUk8+bN4+uvv8bIyOi9ZaysrHj69MM/7MPDw7l48SKBgYFqH+IAXbp0+ZQwP8qd2zeoVK0WFaoof5k7Orty8uhBHty9rVYuOCiApfNn8OOcJfwwalCm57p07i+uXTrP+B9nc/n8mWyP/Z/0dHWxs8/4YXr92lVev3rFH9t2YWZmBsDUaT9TvXJ5Ll44T6XKVXjy+DFn/vofm/7YRtFixQEYM+57BvTrzbCRo3BwcNR4vIXLVKJwmUrv3V++ViMAQgP93ltm1+pFVG/Slnqt01urHN75hZWSkszOVQtp3qU/leo1U213ypP3c0L/V1bWNmr3f1+/Che3PJQsUw6Av29dZ+ioCRQqqvw7d+7eh22bf+PBvTvkL1iY50+fcOn8GZas2UzBwspf8QOHj2XcsP70GTQCu3e+RLOL9T/q8Nvalbi65aF02fJER0Wxb/d2Jv00k7IVlM/f+B9+pGPb5ty+dYNixUsSGRnBiiWLmDn/F8pVSH+OvfMXzPbY35WQEM/508cZM3UORUuUAeCbrn24fO40h/Zuo2P3/gCEBAWyctEsJvy8mGnjhqidIyUlmdW/zObb3kOo16SVanseT69siblY2coUK1v5vfsr1VYuiRAc8P73Rd2W3wBw/9b713Jq3rEnAGeP7f+UMLNUqnxVSpWvmum+tLQ0Du76nVYdulOuirL1p9+oyfT7piGXz56iSq0GvPJ9yo3L5/hx0Tq8ChQB4Lv+I5g5YSideg/B2taev44eoGyVWtRr1gYAR2c3Wrb/jr1b1tGgxde5YuxFLggh1/ukMSQnTpzIdDZNTEwM3bt3/+jz7d27F3d3dxo1asTAgQMZMmSI6jZ06NBPCfGjFSlWkutXLvDS9zkATx7e587Na5SrlP5GSk1NZfbU72nToSseXt6ZnicsNISFM6cwfMKPGP5Lwpadnvs+p16tajRpWJexo4bj91rZ5J6YmIhCocDAwEBV1tDQEB0dHa5dvQLAjRvXMLewUCUjABUrV0FHR4dbN2/mbEU+UFR4GM8f3sHM0ooFY/sxoVsLFn8/kCd30+N9+eQBEaFBKBQKZg/vzsTuLVk+dQR+z5/kSIxJSUkcPbiPRs2+Un04Fi1eihNHDxIZEUFqairHjyi7PUqVKQ8ok2Qzc3NVMgJQtnwlFDo63Pv7Vo7ErV6HRA7/uY+mLVujUCi4f/dvkpOTKVcx/UvTI68Xjk7O3L55HYBL58+RlpZKUGAAHds0p1XjOkwYPYwA//d/iWaH1JQUUlNT0DcwVNtuYGjIvdvKWFNTU1k4YwIt232Lu2e+DOd48vAeocGB6OjoMKJPR3p83YAfxwzC92n2tJD8fxDo/4rw0BCKlamg2mZiaka+QkV5+Ob9+/DuLUzMzFXJCECxMhVQKHR4dE/5gzEpKVHtcw3AwMCQ0ODAf03YRO7ySQnJunXriIuLy7A9Li6O9evXf/T5hg8fTvfu3YmOjiY8PJywsDDV7e3sm/dJSEggMjJS7ZaQkPDRMXzduTs16zaiT6dWNK9ZjkHd29OyXSdqN2iqKrN14xp0dXUzdOG8lZaWxtyfJtKk5dcUyKRfOicUL1GCqT9NZ8nylYyfMIlXr17RrUsnYmKiKVGyFMbGxsyfM4u4uDhiY2OZM+tnUlJSCAoKAiAkOBgbG/VfxXp6elhYWhISHKSNKmUpJECZcB36Yw2V6jWjz4TZuHoVYMkPQwl6/SJDmfptu9Br/ExMzMz5ZeJgYqIisz3GM6eOER0dRcOmLVXbJv40m5TkZL5qWI1G1csyf8YUJv88H9c8ypad0JBgrKxt1c6jq6eHhYUloSHB2R7zP50+cZzo6CiaNG8FQEhIMPr6+pibW6iVs7G1VcX3+tULUlNTWb/6V4YMH82PM+cRGRnB0P69SEpK/OdDZBtjE1MKFinBtg0rCQ0OIiUlhVNH/uTBnVuEvYl11+a16Orq0rR1h0zPEfCmm+mPdctp06kH435agKm5OROH9SYqUtZL+hQRoSEAWFqpv84trWxV+8JDQ7C0slbbr6urh5m5BeFvypQoV4lLf53g9rWLpKam4vfyOfu3K7sNw0Jz/r2SGZllk7WPSkgiIyOJiIggLS2NqKgotSQgLCyMP//8EweHj29GfvXqFYMHD8bkEwbqTZ8+HUtLS7XbsgWzPvo8/zt+mBNH/mTUD9NZuPp3ho2fyo7f13P0gHL2z8N7d9izdRPDxk9574tiz7bfiYuNod23H99KpCnVqtekQcPGFChYiKrVqrN46QqioiI5dPAANjY2zJq7gFOnTlC5fGmqVSpHVFQkhYsUVRtr8V+Tlqbs4qvSoAUV6zbFzasAX3UfjINrHi4cVzZDp6Uqp4/Xa9uFkpVrkSdfQToMHAsKuHH2RLbHeGDvTipUqqbWzbJm+WKio6KYtehXlq7dTNsOXZgyfoRWxh19iH27t1OpSjXsP6KrKDUtjeTkZIaOHEvFKtUoVrwkk6bN4uWL51y9dDEbo81o8NgppKWl0eubRrRvVJk/d26mWu2GKHQUPH5wl/07NjNw1OT3vr/fvs7adOpB5Rp1yVegMANHTkKhUHDu1NGcrIr4hzqNv6JBi3bMmjiMLk2rMHFIdyrXagCgNj5Rm3Q0dPuSfdQYEisrK1WWVqBAgQz7FQoFkydP/uggGjZsyOXLl/Hy+vi+2LFjxzJs2DC1bS8jU99T+v1WLZnH1526UbOecrxC3nz5CfT3Y8tvq6nXuAV/37xKeFgoXdukL2WfmpLCysVz2bVlI2u3HeDG1Yvc+/smLetUUDv3kJ6dqF2/McO///Gj4/pcFhYWeHh48sLXF4AqVaux/+BRwsJC0dXVw8LCgjo1quLWuAkAtnZ2GVqlkpOTiYyI+NdBvNpk8aYVwTGPp9p2R1dPwoIC1co4vVNGT98AW0cXwoIDsjW+AL/XXL10nkkz0qfBv375gl3bfmfVpp14vun+y5e/ILeuX2H39s34jJ6Ija0d4WEhaudKSU4mMjIiwyyW7Obv95rLF88zbdYC1TZbWzuSkpKIiopUayUJDQlRxWf35jWT1yu9C8Ta2gZLK+sc77ZxcsnD1Hm/Eh8XR1xsNNa29syZOgZHZ1fu3rpGRHgofTqkt4impqawbtk89m3fxLJN+7CyUdYpj0f6uCN9AwMcnV0JCvTP0bp8KSxtlO/LiPAQrG3fnekXgkc+5XeMlY0tEeFhaselpCQTHRWJ1ZvjFQoFHXoO4ptu/QkPC8HC0prb15UJr4OTa05URWjARyUkJ06cIC0tjTp16rB9+3a1pn0DAwM8PDxwcXH56CCaNm3KyJEjuXPnDsWLF0dfX19tf4sWLd57rKGhIYaG6v3ChgkZu5OykhAfnyGT1tHVUQ2wrdOwGaXKqQ+8nDCsH3UaNqP+m2b4vkNG06XXQNX+0OBAvh/WnzGTf6ZQkeJoQ2xMDC9evKBpC/Vk4u1gxQvnzxEaGkKt2nUAKFmyNFGRkdz5+zZFihYD4OKF86SmplK8RImcDf4D2Tg4Y2ljR+CrF2rbg/xeULh0RQDy5CuInr4Bga988SqsrEdKcjKhgf5Y2ztla3wH9+3CytqGSlXSpzLHxytfowrFP19zuqS9ec0VKVaS6KgoHtz7W9UFeO3KRdJSU1UDYXPK/j07sba2oXK19DoULFwUPT09Ll88T+26yl+jz589JcDfj2IlSgFQvGRpAHyfP8PBUfl3jowIJyI8DEfnj/+s0AQjY2OMjI2Jjork+qVzfNt7CJWr16FEGfUfElNHD6RG/SbUaaT8/MlXoDD6+ga8evGcwsWV9UpOTiLQ3w97R+ccr8eXwMHJFSsbW/6+dgnPfMqBzrEx0Ty+9zf1mrUFIH/h4sRGR/Hk4V288itnn/19/TJpaal4Fyqmdj4dXV1s7JQteGdPHCZ/4eJY/KO7R1u+9O4WTfiohKRmTeUo6KdPn+Lu7q6xP3CvXr0AmDJlSoZ9CoWClHemHWaXilVrsHn9SuwdnfDIm4/HD+6z848NNGiiTDYsLK2wsLRSO0ZXTw9rW1vc3D0BcHBS/1AyNjYGwNnVDbtsmJ2SmTmzfqZmrdo4u7gQFBjI0l8WoaurQ+Mmypklu3Zux8srH9bWNty4cY2Z06fRuct3eOZVtk555ctH1WrVmfzDBL6fOJnk5CSm/zSVRo2bZssMG4CEuFiC/dOngYYE+vHq6UNMzCywtnckJiqS8OAAIt70BQe+Urb2mFvZYGFti0KhoHbLDhz8YzUunvlwzZufSycOEvjqOd+NnAqAkYkpVRq05ODm1VjZOWBj78TxXZsAKFWldrbUC5QDJQ/u30WDJi3Q1Ut/u7l75sXVzZ15P0+m76ARWFha8dep41y5eI6f5ijXkfHI60X5SlWZM20yPqMnkJyczMLZ06hdv1GOzLB5tw779+ykcbOW6L1TBzNzc5q1bMOiuTOxsLDE1MyMeTOnUaxEKYoVL6msp4cn1WvWYf7s6YwePwlTUzOWLZ6Hu2deypar8L6HzBbXLp2FNHDJ44H/qxesX7EAV3dP6jRqjp6ePuaZvb9t7HB906pmYmpGg+Zt+GPdcuwcHLF3dGb3H8oxc1Vq1tN4vPFxsQT5vVTdDw7w48WTB5iaW2Bj70RMVCShQf6Ev3lfBLx5X1hY22L5pkUwIiyEyLAQ1XlePX+MkbEJNvZOmL5p1QoN8icmKpKwoABSU1N58UTZZWjv7Ka2zsfn1MP/dfqPhSD/1zx7fB8zc0vsHJxo1KoDO39fjZNrHuydXNm6bhlWtnaqWTeu7nkpWa4yK+f/RPdBY0lJSWbtL7OoXLMB1m+mZkdGhHPxf8coXKIsSUkJnDq8lwv/O8aEWcs/O35N+Q/3iucYRdoHrs1+8+ZNihUrho6ODjezmG1RQsu/pB8HfXwLSWxsDL/9+gtnT58gIiwUGzt7atZrRMdufTK02Lz1XdvGtGrXKdOF0QAC/F7R7eumn7wwmqu18UcfM2qED1cvXyI8PBxrGxtKlynLoME+5HFXDpScP3c2e3btJCIiAhdXV75u155vu36nllxGhIcz/aepnDp5XLUw2pix33/SwmjH7wdmWebR7Wv8MnFwhu3lazei46DxXDz+J78vzrh4WcN23WjUPn28ztEdGzhzYCex0ZG4eHrTvEs/VWsIKFtE9m1YzuVTh0hKTMAjfxFadR+Ms3vWU39LuFhlWSYzly+cZfSQPqzdspc8bxLXt176PmflkvncunGV+Lg4XNzy0K7Td9Rv3FxVJjIigkVzfuLcX6fQUbxZGG3Y2E9eGM1I/+N7oS+cO8Owgb35fcd+3D3U6/B2YbQjh/4kKTHpzcJo36t178VER7Nw7s+cOn4UhY6CUmXKM3TEGBydPq1VwT88/pOOO3PyMBtXLiYkOBAzcwsqVa9Lx+79Mf3HQmFv9e3YjGZtOqotjJacnMTGlYs5deRPEhMTyF+oGN0GDM90Vk5WgmL+ffD9/VtXmTd+YIbtleo04buh33P22H7WL/gpw/6m7burpvLu3bSS/ZtXZyjTZch4qtRVdk+tnf8j54//maGMz0+LKVi8zL/GaGGY+Wfju+7cuMKPo/pm2F6jflP6jpikWhjt+IGdxEZHU6BoSboPGo2zm4eqbHRkBGt/mcXVC/9TLYzWtf8IVcIUGRHO7B+G8eLpI0hLw7twcb7p1j9DC8r7lPW0yLrQZxq6+55GzjO/5cd9l5w+fZpZs2Zx5coV/Pz82LlzJ61atVLt/+6771i3bp3aMQ0bNuTgwYOq+6GhoQwaNIi9e/eio6NDmzZtWLBggWr5CFDmCAMGDODSpUvY29szaNAgRo3KuO7Mv/nghERHRwd/f38cHBzQ0dFBoVBkep2ZT2nR8PX1xdHRMUPXS1paGi9evMDd3f09R2buUxKS3OhTEpLc5kMSkv+CT01IcptPSUhym09NSHKbrBKS/4IPSUj+C3IiIRm2RzMJydwWH5eQHDhwgDNnzlC2bFlat26daUISEBDAmjXpi2kaGhpibZ3e1dW4cWP8/PxYvnw5SUlJdOvWjfLly7Npk7KVOTIykgIFClCvXj3Gjh3LrVu36N69O/Pnz6d3794fHOsHd9k8ffoU+zeLbX3MgmcfwtPTk8KFC7Nnzx7y5Uv/pREYGEjevHlzpMtGCCGEyC7aGkPSuHFjGjdu/K9lDA0NcXLKfCzd3bt3OXjwIJcuXaJcOeWijosWLaJJkybMnj0bFxcXNm7cSGJiIqtXr8bAwICiRYty/fp15s6d+1EJyQf/XPLw8FD9QTdt2sSxY8fw8PBQux07dozNmzd/8IO/q3DhwlSoUIFjx46pbZer/QohhPiv01Fo5qaptbfedfLkSRwcHChYsCD9+vUjJCR9dt+5c+ewsrJSJSMA9erVQ0dHhwsXLqjK1KhRQ21xuoYNG3L//n3CwtRnSP3r3+hTgl++fDmFCmVsNipatCjLlmV+vYR/o1AoWLJkCd9//z1NmzZl4cKFavuEEEIIkfnaW9Onf/oFQhs1asT69es5duwYP//8M6dOnaJx48aqnom3QzXepaenh42NDf7+/qoyjo7qkx7e3n9b5kN80rVs/P39cXbOOCDN3t4eP7+PX1vgbSuIj48PhQoVokOHDty6dYuJEyd+SnhCCCFErqKp39aZrb31z/GXH+PdC9kWL16cEiVKkC9fPk6ePEndunU/+byf4pNaSPLkycOZMxkvGnfmzJlPWofkXY0bN+bs2bOcOHGCZs2aZX2AEEIIkcvpKBQauRkaGmJhYaF2+5yE5J+8vLyws7Pj0SPlNZqcnJwIDFSfnJCcnExoaKhq3ImTkxMBAeoLTL69/76xKZn5pISkV69eDB06lDVr1vD8+XOeP3/O6tWr8fHxUa0p8jFq1qyp1vdUpEgRzp8/j5WVlYwhEUIIIXLIy5cvCQkJUfWCVK5cmfDwcK5cuaIqc/z4cVJTU6lYsaKqzOnTp9UuunvkyBEKFiyoNlsnK5/UZTNy5EhCQkLo378/iYnKC2QZGRkxevRoxo4d+9HnO3Ei47VE7OzsOHXq1KeEJ4QQQuQq2ppwHx0drWrtAOUs2evXr2NjY4ONjQ2TJ0+mTZs2ODk58fjxY0aNGoW3tzcNGzYElBNOGjVqRK9evVi2bBlJSUkMHDiQ9u3bq3pEOnbsyOTJk+nRowejR4/m9u3bLFiwgHnz5mUa0/t88Dok76vo3bt3MTY2Jn/+/J/VbJSSksKuXbu4e/cuoGwladmyJbq6uh99LlmHJPeQdUhyF1mHJPeQdUhyj5xYh2T8Ac1cNPOnxhmvI/dvTp48Se3aGVej7tq1K0uXLqVVq1Zcu3aN8PBwXFxcaNCgAVOnTlUbpBoaGsrAgQPVFkZbuHDhexdGs7OzY9CgQYwePfqjYv2shERTHj16RNOmTXn58iUFCyqvZ3D//n3y5MnD/v371dYm+RCSkOQekpDkLpKQ5B6SkOQeX3JC8l+SKz6dBg8ejJeXFy9evODq1atcvXoVX19f8ubNy+DBGZcUF0IIIf5LNDWo9Uv2SWNINO3UqVOcP39e7erBtra2zJgxg6pVq2oxMiGEEOLzfeG5hEbkioTE0NCQqKioDNujo6PVZt8IIYQQ/0Vytd+s5Youm2bNmtG7d28uXLhAWloaaWlpnD9/nr59+9KiRQtthyeEEEKIbJYrEpKFCxfi7e1NlSpVMDIywsjIiKpVq+Lt7c2CBQu0HZ4QQgjxWWQMSda02mWTmprKrFmz2LNnD4mJibRq1YquXbuiUCgoXLgw3t7e2gxPCCGE0IgvPJfQCK0mJD/99BOTJk2iXr16GBsb8+eff2Jpacnq1au1GZYQQgghcphWu2zWr1/PkiVLOHToELt27WLv3r1s3LiR1NRUbYYlhBBCaJSOQjO3L5lWExJfX1+aNGmiul+vXj0UCgWvX7/WYlRCCCGEZik09O9LptWEJDk5GSMjI7Vt+vr6ahfoEUIIIcSXT6tjSNLS0vjuu+/UroETHx9P3759MTU1VW3bsWOHNsITQgghNOJL727RBK0mJF27ds2wrXPnzlqIRAghhMg+kpBkTasJyZo1a7T58EIIIYTIJXLF0vFCCCHEl0whC5FkSRISIYQQIptJl03WJCERQgghspk0kGQtV1zLRgghhBD/v0kLiRBCCJHNvvQL42mCJCRCCCFENpMxJFmTLhshhBBCaJ20kAghhBDZTHpssiYJiRBCCJHNdL7wC+NpwheZkHyz/Ly2Q9CIQY28tR3CZ+vb62dth6AR/acM0nYIGhEak6jtED7b8bPPtB2CRgS+CNB2CJ/N3NpC2yFoRODqdtoOQfCFJiRCCCFEbiJdNlmThEQIIYTIZjLLJmsyy0YIIYQQWictJEIIIUQ2k4XRsparEpL4+HgSE9UH3VlYfBmDpoQQQvz/JflI1rSekMTGxjJq1Ci2bNlCSEhIhv0pKSlaiEoIIYTQHGkhyZrWx5CMHDmS48ePs3TpUgwNDVm5ciWTJ0/GxcWF9evXazs8IYQQQuQArbeQ7N27l/Xr11OrVi26detG9erV8fb2xsPDg40bN9KpUydthyiEEEJ8FmkgyZrWW0hCQ0Px8vIClONFQkNDAahWrRqnT5/WZmhCCCGERuho6PYl03r9vLy8ePr0KQCFChViy5YtgLLlxMrKSouRCSGEECKnaD0h6datGzdu3ABgzJgx/PLLLxgZGeHj48PIkSO1HJ0QQgjx+RQKhUZuXzKtjyHx8fFR/b9evXrcu3ePK1eu4O3tTYkSJbQYmRBCCKEZX3YqoRlaT0ji4+MxMjJS3ffw8MDDw0OLEQkhhBAip2k9IbGysqJChQrUrFmTWrVqUaVKFYyNjbUdlhBCCKExsg5J1rQ+huTo0aM0atSICxcu0LJlS6ytralWrRrjx4/nyJEj2g5PCCGE+GwKDd2+ZFpPSKpVq8a4ceM4fPgw4eHhnDhxAm9vb2bOnEmjRo20HZ4QQgjxn3X69GmaN2+Oi4sLCoWCXbt2qfYlJSUxevRoihcvjqmpKS4uLnTp0oXXr1+rncPT0zPD4NoZM2aolbl58ybVq1fHyMiIPHnyMHPmzI+OVetdNgAPHjzg5MmTqltCQgLNmjWjVq1a2g5NCCGE+Gza6rGJiYmhZMmSdO/endatW6vti42N5erVq0yYMIGSJUsSFhbGkCFDaNGiBZcvX1YrO2XKFHr16qW6b25urvp/ZGQkDRo0oF69eixbtoxbt27RvXt3rKys6N279wfHqvWExNXVlbi4OGrVqkWtWrUYPXo0JUqU+OKnNwkhhPj/Q1vfaY0bN6Zx48aZ7rO0tMwwNGLx4sVUqFABX19f3N3dVdvNzc1xcnLK9DwbN24kMTGR1atXY2BgQNGiRbl+/Tpz5879qIRE61029vb2xMbG4u/vj7+/PwEBAcTFxWk7LCGEEEJjNLVSa0JCApGRkWq3hIQEjcUZERGBQqHIsDDpjBkzsLW1pXTp0syaNYvk5GTVvnPnzlGjRg0MDAxU2xo2bMj9+/cJCwv74MfWekJy/fp1/P39GTNmDAkJCYwbNw47OzuqVKnC+PHjtR2eEEIIkWtMnz4dS0tLtdv06dM1cu74+HhGjx5Nhw4dsLCwUG0fPHgwmzdv5sSJE/Tp04dp06YxatQo1X5/f38cHR3VzvX2vr+//wc/vta7bEA59bdFixZUrVqVKlWqsHv3bn7//XcuXLjATz/9pO3whBBCiM+iqS6bsWPHMmzYMLVthoaGn33epKQk2rVrR1paGkuXLlXb9+7jlShRAgMDA/r06cP06dM18thvaT0h2bFjh2ow6507d7CxsaFatWrMmTOHmjVrajs8IYQQ4rNpagSJoaGhRpMASE9Gnj9/zvHjx9VaRzJTsWJFkpOTefbsGQULFsTJyYmAgAC1Mm/vv2/cSWa0npD07duXGjVq0Lt3b2rWrEnx4sW1HZIQQgjx/8LbZOThw4ecOHECW1vbLI+5fv06Ojo6ODg4AFC5cmXGjx9PUlIS+vr6ABw5coSCBQtibW39wbFoPSEJDAzUdghCCCFEttLWLJvo6GgePXqkuv/06VOuX7+OjY0Nzs7OtG3blqtXr7Jv3z5SUlJUYz5sbGwwMDDg3LlzXLhwgdq1a2Nubs65c+fw8fGhc+fOqmSjY8eOTJ48mR49ejB69Ghu377NggULmDdv3kfFqvWE5F3x8fEkJiaqbcuq6UgIIYTI7bQ1g+Ty5cvUrl1bdf/teJCuXbsyadIk9uzZA0CpUqXUjjtx4gS1atXC0NCQzZs3M2nSJBISEsibNy8+Pj5q40osLS05fPgwAwYMoGzZstjZ2TFx4sSPmvILuSAhiYmJYfTo0WzZsoWQkJAM+1NSUrQQlRBCCPHfV6tWLdLS0t67/9/2AZQpU4bz589n+TglSpTgf//730fH9y6tT/sdNWoUx48fZ+nSpRgaGrJy5UomT56Mi4sL69ev13Z4QgghxGf759Lrn3r7kmm9hWTv3r2sX7+eWrVq0a1bN6pXr463tzceHh5s3LiRTp06aTtEIYQQ4rN82amEZmi9hSQ0NBQvLy9AOV4kNDQUUF507/Tp09oMTQghhBA5ROsJiZeXF0+fPgWgUKFCbNmyBVC2nPxz6VohhBDiv0ih0MztS6b1hKRbt27cuHEDgDFjxvDLL79gZGSEj48PI0eO1HJ0QgghxOfTQaGR25dM62NIfHx8VP+vV68e9+7d48qVK3h7e1OiRIlse9zS7pZ8W8mdws7m2JsbMnzLLU49CFbtN9bXZVAdL2oWtMPSWJ/X4fH8cekl26++VpWxNTVgSL18VMhrjamBHs9DYll95jnH7wWpyuwZWAkXK2O1x150/DHrzvpqpB6+d29yfv8W/J8+JDo8hDY+kylYrioAKcnJnNq6hsfXLxAe5I+hsSmexUpTu31PzK3tVOfwf/qQ45t/xe/JfXR0dChYvjr1OvfDwCg97sPrFvPywd8EvXyGrYs7Pacv10j8ACO6N6BVnZIU8HQkLiGJCzeeMH7Bbh4+z3yNml2L+9GwalHa+axg78mbqu21KhTgh/7NKOrtQkxcIhv3XuCHX/aSkpIKgKGBHovGt6d0YXcK5XXkwP9u027Yrxqrh5eNMbXy2eBmZYSlkR5rLr3itn+0an/7Uk6Uz2Opdsy9wBh+vfBSdd9YX4fWxRwp4mhKGnDTL4pdtwNJTEkfCV/Q3oSGBe1wNDckOSWVJ6Fx7Pk7kLC4ZD5XAXsTGheyx8PGGGtjfRb+7znXXkWqlXG2MOTrkk4UtDdFV0fB64h4Fp/xJTQ2CQA9HQXtSztT0d0SPR0Ft/2j+e3yayIT0uPrWMaZ/HamuFoa4heZwA+HHqFJ/et706iEM/kczYhPSuHK0zBm7LnDk8AYVRlDPR2+/6oIzcu4YqCnw+m7QXy/9SbBUcqlB6xM9FnQtQyFXSywMtUnJCqRI7f8mbnvHtHx6XXpUt2TrtU9cbMx4VVYHIsPP2THpZcZYvpYI1qXpFUlTwq4WRKXmMKFewGMX3+Jh68jALA2M2RC+zLULeVKHjszgiPj2XvhOZN/v0zkm+cCIG5nzwzn7jLnOFv/eqK6375GPnxalcDbxZKImEQOX3vBuHUXCY36/Iu2DW5SiKZl3cjvbE5cYgqXH4UwZdtNHvtHqcp8W9OL1hXdKeFhjbmxPt4DdhIZl16HPLYmDGtRhGqFHHCwNCIgPJ5t554zb99dkt68vwFqF3VkZKtiFHK1ID4phfP3g/nhj+u8CIn97Hp8ri+9dUMTtJ6Q+Pr64ujoqFoK18PDAw8PD1JTUzNc/liTjPV1eRgYzZ4bfsz+OuPqsD71vSnvacXE3Xd5HR5PJS9rRjcuQFBUAqcfKqcnT25ZGHNDPYZvuUV4bBKNijkyvXVRuqy6zP2A9C+ipSefsOuan+p+TOLnf3G8lZQQj4O7FyVrNmL7/Enq+xLj8X/2kKpfdcbRPR/xMVEc+W0JW+dMpPuPSwCICgtm0/RRFK5Uk4ZdB5EQF8PR35ayd9lM2gz9Qe18JWo24vXjuwT6PtVY/ADVy3iz7I/TXPn7OXp6ukwe2Jx9SwdSuvWPxMarr0szqFNtMpulVryAK7sW9ePnVYfoMWE9Lg5WLBrXHl1dHcbO2wmAro4OcQlJLPn9JK3qltJoHQAM9HR4HZnAxRcRdCvvmmmZu4HR/HE9/WJTyanqlelUxhkLQz2Wn3+Jro6Cb0o68XUJJza+ef3YGOvTrbwrp56EsfGqH0b6OrQs6sB35V2Zd/r5Z9fBUE+HF+Hx/O9JGIOqe2TYb29mwLi6Xpx+EsauWwHEJafiamGo9qXQobQzJV3MWXLGl9ikFDqXdWVgNXemHXuidq7/PQnFy9aEPFZGnx33P1X0tmX9/55ywzccPR0dRjUvxG/9K1Fv2kniEpVLCUxoXZQ6RRzpv/oykfHJTG1bjOU9ytNm/hkAUtPgyC1/Zu+7R2h0Ip72pkz5ujjTTPQZvP4aAJ2reTCqeSHG/H6TG77hlPKwYkb7kkTEJXHsdsB74/sQ1Ys6sezAHa48CkJPV4fJncqx74dGlB68ndiEZJxtTHC2MWHs2ovcfRmGu70Zi/pWw9nGhI6zjqmdq9fCUxy5lp4khcekv68qF3Jk5eCajFpzgf2XnuNqa8rCvlVZ0r867X8++ll1AKhS0J7Vxx9x/WkoeroKxrUuzpZhNaj+/UFi3zwXxga6HL/tz/Hb/kxom/GHqLezBToKBSPXX+FpYDSFXC2Z27UcJoZ6TNqibGF3tzNl3eBqLDv0gP4rzmNurM/UDqVYM7Aq9SYf+ex6iOyn9YTE09OTwoULs2fPHvLly6faHhQURN68ebNtHZKzj0M5+zj0vftLulmw76Y/V56HA7Dzmh+ty7hS1NVClZCUcLNgxoEH/P1amemv+us5HSrkoZCzuVpCEpuYQkhMYobH0IR8pSqQr1SFTPcZmZjRcexMtW0Nug5k7cSBRAQHYGnnyKNr59HR1aXRd4NR6Ch78Bp1H8LKsb0J9X+FjZOr6jiA09vDNZ6QtBy4RO1+7x828OL4DEoXycOZq49V20sUcGXIt3Wo2mkmz46qX92ybYMy3H74mukrDgLw5EUw4xfsYsPP3flp+Z9ExyYQG5/IkGl/AFC5lBdW5uotV5/rXmAM9975BZ6ZlNQ0ohIyf007mBlQ2MGMeaef8TJC+ct05+0AelZ0Y++dQCITUnCzMkRHoeDgvWDepjInH4fSrbwrOgrll+jnuOUXzS2/6Pfub1PckZt+UWy9kZ5UBUWnv7aN9XWo4WXN8nMvuPvmb7HqwkumNy2Al60xT0LiANh0VZlgmRvpZUtC0nXpBbX7wzde59q0hhTPY8nFx6GYG+nxTSV3hqy/ytk37+cRG29w/PvalPa04tqzcCLjktjwV3qS9yosjt/+94w+ddM/p1qXd2PTmefsu6ZsOX0REktJdyv61fX+7ISk5dRDavd7LzrNi3WdKZ3PjjN3/LnjG0aHmemJx1P/KCZtvMzqobXQ1VGQ8s6LISImkYDwuEwfp2JBB54HRbNk/98APA+MZtWhewz/quRnxf9W+3nqa1MMXn2JuwtaUsLTmvNvWqVXHHkIKJOXzJy47c+J2+mvuedBMSxxus93tfOpEpISHtboKhRM33lL9aNlycH7rB9UDT1dBckpn/nm+EyKL7y7RRO0PoYEoHDhwlSoUIFjx9Sz+qwWbMlON15GUqOAHfbmBgCU9bDC3caY80/Sk5ibLyOpX8QBCyM9FECDIg4Y6umokpi3ulZx5+iwamzsWY5vK+VBV4ttdwlxMaBQYGRiBkByUhK6evqqZARAz0DZWvXy/m2txGhhpvyCCotIb2Y1NtJn7fTvGDpjCwEhURmOMTTQIz4hSW1bXEISxkYGlC6cPa1snyKfrQmTGuRjdO28tCnuiIl++t/d09qI2MQUVTIC8DA4lrQ0cLdWJk8vwxNIS0ujfB5LFICRng5l3Sx4GBz72clIVhRACRdz/KMSGV7TkwWtCvN9/XyUdk1fTdnT2hg9XR3+fich949KIDgmEW9bk+wN8F+YGyl/e4W/6coonscSAz0d/rqf3r36ODCal6GxlPG0yfQcDhaGNCrpxIVH6Qs4GujpkJCUqlYuPimFkh5W6Olo9n1uYaL8LAqLfn83ioWJAZGxiWrJCMD83lV4sa4z/5vZgi51C6jtu3A/EDdbUxqWcQPAwdKYr6rk5eDVFxqNXxWjsfJaJ+Gf+SPN3FifsHfOcfN5GKlpaXSolhcdhQJzY32+ruLJ6TsBWk9GQAa1fgitt5AoFAqWLFnCxo0badq0KTNnzmTw4MGqfVlJSEggIUH9DZqanIiOnsFnxTXr0APGNy3IgSFVSU5JJTUNftp/j2u+EaoyY7b/zfTWRTk+ojrJKanEJ6UyYtstXoal/xL549Ir7vlHERGXREk3SwbU9sLOzJB5RzXbZ/4hkhMTOfH7SopWro2hiSkAnkVLc2zjMs7v+4PyjVqTmBDPic0rAYgOz7hybnZTKBTMGtGWs9cec+dxejfXzOFtOH/jKftO3sr0uCNn7zKwY23aNSrLtsNXcbK1YFzvxgA42+eOyw/cC4zhll8UIbFJ2Jka0LiQHb0qurHwL1/SAHNDPaIT1VtPUtMgNikFc0PlWzU0LonlF17SpawLbUs4oquj4FlonNo4lOxibqSHsb4uTQvbs+OmP1tu+FPc2ZyB1dyZefwp94NisDTWIykllbh/fElHxidj+eaLKKcpFPBD62JcehzKAz9lMmtvYURCcgqR/xh3ExyVgL2F+pVUF3YtQ4PiThgb6HLklj+jf7+h2nfqbhDtK7tz6JY/t19EUDyPJd9UdsdATwcbMwMCIz9/DMbbOszqUYmzd5UtI5mxNTdk7NelWH3kvtr2yZsuc+qWH7EJydQr5cqC3lUwM9JXtYicuxdAt/kn+W1EHYz09dDX02HfxecMXXFGI7H/sx5TO5TiwsMg7v1jbNLHyOtgRs+63kzakj6GzDc4hnZzTrOyX2VmdymLnq4Olx4F02He560eKnKO1hOSt60gPj4+FCpUiA4dOnDr1i0mTpz4QcdPnz6dyZMnq21zrt0FlzrffVZc35R3o7irJT5/3MQvIp4y7laMalSAoOhELj5VfiD0q5UXcyM9+m24TnhsIrUK2jOjdVF6rrvG4yBlc/XGC+m/Mh4FxpCUksq4JgVZfOIxSTmYtackJ7Nz0VTSSKNRtyGq7fZunjTvM4qjG5dx4o9V6OjoUq5hK0wtrdVaTXLK/LHtKOrtTN1u6RdlalqzOLUqFKBS+xnvPe7Y+XuMm7+LhePas2pqFxKSkpnx60GqlfEmNbubDj7Q9dfpLTv+UYm8jkxgfF0vvO1MeBj8YYPuzA11aVfCicsvIrn2KhJDPR0aFrSjazkXlp/P3qTk7avh2qtIDj9QJqsvwuPxtjOhlrcN94P+vbtKW6Z+XZwCzua0XfBpX7BTd/zNggMPyOtgyujmhZnwVVG+36pMjBceeoCDhSG7hlVDgTKh2X7xJf3qeZOqwRbe+b2rUtTdmrrj9ma639xYn53fN+Tuy3B+3HxFbd+MrddV/7/xNAQTIz18WhVXJSSF3KyY3aMS07dc48i1VzhZGzOta0UW9a1Gv180+2X+c+cyFHK1pPn04598DicrYzb7VGfP5ZdsOJ0+LsnBwoi535Xjj7PP2HHBFzMjPUa3KsbqAVVoO/uUJsL/LF/6DBlN0HpC8q7GjRtz9uxZWrRowcWLFz/omLFjx6pd5Aeg1txznxWHoZ4OA2p7MWLrbc68aZ59FBhDAUczOlfKw8WnYbhaG/FNeTfaLbvAkzdfJg8DYyjlbkm7cq5MP/Ag03PffhWJnq4OLpZGPA/NvE9X094mIxHBAXQcN0vVOvJW0ap1KVq1LtERYRgYKrtLLv65HSsH5xyJ7615o7+mSfVi1Osxn1eB4arttcoXwMvNDv/Ts9TK/z67J2euPaZhrwUALNxwnIUbjuNsb0lYZCweLjZMHdySpy+DyY1CY5OITkjG1lSfh8EQlZCMmYGuWhkdBZjo6xL1ZoZKVU8r4pJT2Hc3vath0zU/JtbPh7uVEb7h8dkWb1RiCsmpabyOUH8Mv8gE8tspu2Mi4pLR19XBWF9HrZXEwkiPiDj1LrWcMKVtMeoWdaTdgjP4v/O3CYqMx1BPFwtjPbVWEjtzQ4L+0aoRFJVAUFQCjwOjCY9NYvvQqiw89IDAyAQSklIZuekGYzffxM7CkMCIeDpW9SAqPomQaM2MG5vXqzJNyuWh3vh9vMpktoiZkT57JjYiKi6Jb2YczbJ74tKDIMa1K4OBng6JyamMbFOSc/cCmLdLmWTdfg6xCWc4Nq05kzddxj9MM59T0zuVpn5JF1rOOIHfJ57T0cqInaNqcelxCMPXXVbb162uN5FxSUzZmt5q0v/XC9yY05yyXjZcefL+MYM54UvvbtEErSckNWvWxMAgvXulSJEinD9/njZt2nzQGBJDQ0PVDJ23Pre7Rk9Hgb6uTobHT01LQ+fNq8pIT/fNNvVjU1P/vaupgJM5KalpqimS2e1tMhLq/4pO42djYm753rJmlspLSd84eQA9AwPyFiubIzGCMhlpUackDXot4Plr9a6i2WsOs2bnWbVtV7aNZ9Sc7ew/lXGci1+QslutXaNyvPAL5dq97OkL/1yWRnqYGOgS9WYK6bOweEwMdHGzNFSNI/G2M0GhAN83H+DK16X6ed7+EtfwkIUMUlLTeBYai9M/ujQczQ0IefN6fhYWR3JKKkUczbjyUtkk72RugJ2pAY9yeOrllLbFaFjCiW8WnePFP5L/Wy8iSExOpWoBew7cUHYNejmY4mZjwtVn7//ievs3NtBTbz1MTk1TJTzNy7hy/HZAprPBPta8XpVpUdGTBhP28zww42Bjc2N99v7QiISkVNpOO0xCUtaTAErktSU0Kp7EZGXCaGKolyGJeTsGRVMDMad3Kk2TMq60+vkkvsGf1pLmZGXMzlG1uPE8jMGrLmX4+5oY6GZolXpbDx3JBv4TtJ6QnDhxIsM2Ozs7Tp3K3iY2Y31d8tikz7JwtTKigKMZEXFJBEQmcOV5GEPq5iMhOVXVZdOkuBPzjijHfjwLicU3NJZxTQuy4OgjwuOSqFXAnope1vhsVmboxV0tKOZqweVnYcQmplDczZJh9b05cNtf9SX0uRLj4wjzf6W6HxHkR8CzRxiZmWNmZcuOBZPxf/aIdiN+JC01lehw5YetsZk5unrKPv3Lh3fhlr8o+kbGPL11heO/r6D2Nz0xMjVTnTfU/xVJ8XHEhIeRnJRAwDPl38HOzUN1nk81f2w7vmlcjq99VhAdE4+jrbmyLtHxxCckERASlelA1hd+YWrJi0+Xuhw+e5fU1FRa1i3FiG716TxqtVqXTSEvJwz0dLG2NMXcxJASBZSziG4+eJXh/B/LQFeBnWl6Mmxjoo+LhSGxSSnEJqbQoIAdN/2iiEpIxs7UgKaF7QmJSeJekPKLOjA6kbuB0Xxd0oltNwPQVShoXcyR66+iiHwzM+duQAw1vKypn9+Wa6+VXTZNCtkTGpukNhj2Uxnq6eBgll4He1N98lgZEZOYQmhsEgfuBtOvSh7uv5lRVNzZnFIuFvx8XNl0HpeUyuknYbQv7UxMYgpxSSl0LuvCo+AY1QwbUM4oMtTTwdJID31dHdVMm9eRCRkGZH6KH78uTouyrvRaeYmY+GTszZVJVGR8EglJqUTFJ/PHeV++/6oI4bGJRMUnM6VtMa48DeXas3AAahdxwM7ckBu+4cQmJFPAyZxxrYpw6XEoL98kOHntTSnlYcW15+FYGuvTs7YXBZ3NGb7h2mfXYX7vKnxTIx9fTz9CdFwSjm/WM4qITSQ+MQVzY332/dAYY0M9us0/goWJARZvxg0HRcaTmppGk3LuOFgZc/FBIPGJKdQt6cqoNiWZvzt9LNb+S74s6V+dXg0Lc+T6S5ytTZjVvRKXHgTiF/b5SeTPncvQupI7XRaeISY+GQcL5XMdGZdE/JsEysHCCAdLI/I6KD9zCrtZEhOfzMvQWMJjEnGyMmbX6Fq8DIll0h83sDNPT4oDI5WJ4JEbfvSpX4DhzYuoumzGtymOb3AMt3zDP7sen0tyoqwp0rQ5lQW4evUq+vr6FC+uXAtk9+7drFmzhiJFijBp0iS11pMPVe7HjEnOP5X1sGL5t6UzbN97w4/Je+9ha2rAgDpeVMprg4WxHv4R8ey85qc2JiSPtTGD6nhRMo8VJga6vAiLY8N5X/68pZzuV9DJjDGNCuBpZ4K+rg6vw+P585Y/Gy+8+KDxI4MaeWdZ5vmd62z8aUSG7cWrN6B6my4sGdo50+M6jZ+NR5FSAOxZOoPH1y+QGB+PrUseKjb5muLV66uV3/DjMHzv3sxwnv7zN2Bl7/Te+Pr2+jnLOsRdW5zp9l4Tf2PD3guZ7ou7tjjDwmgHlg+iVOE8GOrrcevBK35acYDDZ+6oHXdv/2Q8XGwznM+49MB/jbH/lEFZVYN8tsb0r5JxRs+lFxFsuxlA9/KuuFgaYqyvS2R8MveDYjh4L1htIKtqYTQnM9LS0rjlF83O2wFqC6OVcjGntrcN9qYGJKak8jwsjv13gwn8gC6C0CxmNhR0MGVMHa8M2/96GsaqNwNnq+e1pmkRe6yN9fGPSmDX7QCuvUpPGN9dGE1fV4fbflGsv/KayHeS8NF18lLIwSzD44zYe4+QmH9vPTx+9tm/7gd4vrB5ptuHb7jGtovKerxdGK3F24XR7gXx/ZZbBL1ZDKxyfltGNiuEt6M5hno6vA6P4+ANP5YefaTq5vF2NGNh1zJ4OZiRlJLKuYchGRZge5/AF/8+LTizBc1AuabIhhMPqV7UmcM/Ns20TMHem/ENiqZ+aTemdC5HPmcLFCh47B/JrwfvsvrIPbUWhn5NitCzYWE8Hc2JiEng5C0/vl9/kdeh/56QmFtnPWA8cHW7TLcPWnWRP848A2Bky6KMbFn0vWW+qerJoh6ZL2/g0H2L6v+tKuRhYONC5HM0IzYxhcuPQ5i69SaP/DP+oPmQGDXpyF3NdB3XL2yXdaH/KK0nJOXLl2fMmDG0adOGJ0+eULRoUb766isuXbpE06ZNmT9//kef80MSkv+CD0lIcrsPSUj+Cz4kIfkvyCoh+S/4kITkvyCrhOS/4EMSkv8CSUhyB62vQ/LgwQNKlSoFwNatW6lRowabNm1i7dq1bN++XbvBCSGEEBqgo9DM7Uum9TEkaWlppKYqB1cdPXqUZs2aAZAnTx6Cg3Pn7AghhBDiY8hKrVnTekJSrlw5fvzxR+rVq8epU6dYunQpAE+fPsXR0VHL0QkhhBCfTwa1Zk3rXTbz58/n6tWrDBw4kPHjx+PtrRw3sW3bNqpUqaLl6IQQQgiRE7TaQpKSkkJ4eDinT5/G2tpabd+sWbPQ1dV9z5FCCCHEf4d02WRNqy0kurq6NGjQgPDw8Az7jIyM0NfXzrUvhBBCCE2SQa1Z03qXTbFixXjy5EnWBYUQQgjxxdJ6QvLjjz8yYsQI9u3bh5+fH5GRkWo3IYQQ4r9OoaF/XzKtz7Jp0qQJAC1atFC7BkxaWhoKhYKUlKyvzSCEEELkZjLLJmtaT0gyu5aNEEIIIf5/0XpCUrNmTW2HIIQQQmQraSDJmtYTkrdiY2Px9fUlMVH9WhslSpTQUkRCCCGEZuhIn02WtJ6QBAUF0a1bNw4cOJDpfhlDIoQQQnz5tD7LZujQoYSHh3PhwgWMjY05ePAg69atI3/+/OzZs0fb4QkhhBCfTaGh25dM6y0kx48fZ/fu3ZQrVw4dHR08PDyoX78+FhYWTJ8+naZNm2o7RCGEEP/X3n2HNXW2YQC/E2bYWzaylCHiroKyRMVd66cdWBTEvW1drXtvqaNuxYFbi6NuFFFU3KAoiIriAESRPUPe7w9KagoKKHAIPL9eXJd5cxLuU0h48q5Dvk5dryaqAOc9JNnZ2dDT0wMAaGpqIiUlBQDg4OCAO3fucBmNEEIIqRK0D0n5OC9IGjdujNjYWACAo6MjNm7ciNevX2PDhg0wMDDgOB0hhBBCagJnQzbx8fEwNzfHuHHjkJiYCACYNWsWvLy8EBQUBHl5eQQGBnIVjxBCCKkytMimfJwVJJaWljAzM4O7uzvc3d3x6tUrtGzZEi9evEBMTAxMTU2ho6PDVTxCCCGkylA9Uj7OCpILFy4gNDQUoaGh2Lt3LwoKCmBhYQEPDw+4u7vDyMiIq2iEEEIIqWGcFSRubm5wc3MDAOTl5eHq1aviAmXHjh0oLCyEjY0NoqOjuYpICCGEVA3qIikX55NaAUBRUREeHh6YPn065syZg7Fjx0JFRQUxMTFcRyOEEEK+GlerbMLCwtCzZ08YGhqCx+MhODhY4n7GGGbOnAkDAwMIBAJ4enoiLi5O4pjU1FR4e3tDTU0NGhoaGDx4MLKysiSOiYqKQocOHaCoqAgTExMsXbq00lk5LUgKCgoQFhaGOXPmwN3dHRoaGhg+fDg+fPiAtWvXIj4+nst4hBBCiFTLzs6Go6Mj1q1bV+b9S5cuxerVq7FhwwZERERAWVkZXbp0QV5envgYb29vREdH49y5czhx4gTCwsIwdOhQ8f0ZGRno3LkzzMzMcPv2bSxbtgyzZ8/Gpk2bKpWVsyEbDw8PREREwNzcHK6urhg2bBj27NlDS30JIYTUOVytsunatSu6du1a5n2MMQQEBGD69Ono3bs3AGDnzp1o0KABgoOD8cMPP+DRo0c4ffo0bt68iVatWgEA1qxZg27dumH58uUwNDREUFAQCgoKsG3bNsjLy8Pe3h737t3DypUrJQqX8nDWQ3L58mVoa2vDw8MDHTt2RKdOnagYIYQQUidV1dbx+fn5yMjIkPjKz8//okzx8fFISkqCp6enuE1dXR3ffPMNrl27BgC4du0aNDQ0xMUIAHh6eoLP5yMiIkJ8jIuLC+Tl5cXHdOnSBbGxsfjw4UOF83BWkKSlpWHTpk1QUlLCkiVLYGhoCAcHB4wePRqHDh0S79hKCCGEkGKLFi2Curq6xNeiRYu+6LmSkpIAAA0aNJBob9Cggfi+pKQk8W7qJWRlZaGlpSVxTFnP8fH3qAjOhmyUlZXh5eUFLy8vAEBmZiauXLmCixcvYunSpfD29oa1tTUePHjAVURCCCGkalTRkM20adMwceJEiTYFBYWqeXKOcX5xvRLKysrQ0tKClpYWNDU1ISsri0ePHnEdixBCCPlqVXUdGgUFhSorQPT19QEAycnJElMmkpOT0axZM/Exb9++lXicUChEamqq+PH6+vpITk6WOKbkdskxFcHZkI1IJMKNGzewdOlSdO3aFRoaGnBycsKff/4JfX19rFu3Ds+ePeMqHiGEEFJleLyq+apK5ubm0NfXR0hIiLgtIyMDERERaNeuHQCgXbt2SEtLw+3bt8XHXLhwASKRCN988434mLCwMBQWFoqPOXfuHBo3bgxNTc0K5+Gsh0RDQwPZ2dnQ19eHu7s7Vq1aBTc3N1haWnIViRBCCKlTsrKy8OTJE/Ht+Ph43Lt3D1paWjA1NcX48eMxf/58WFtbw9zcHDNmzIChoSG+/fZbAICtrS28vLwwZMgQbNiwAYWFhRg9ejR++OEHGBoaAgB++uknzJkzB4MHD8aUKVPw4MED/PHHH1i1alWlsnJWkCxbtgzu7u5o1KgRVxEIIYSQGsHVRq23bt2Cu7u7+HbJ/JOBAwciMDAQkydPRnZ2NoYOHYq0tDS0b98ep0+fhqKiovgxQUFBGD16NDp27Ag+n4++ffti9erV4vvV1dVx9uxZjBo1Ci1btoSOjg5mzpxZqSW/AMBjjLGvPN9a56+ois/qrc2aGqhzHeGrTTlRN+YBTe9ozXWEKpFXUMR1hK8W8yGD6whV4n5SLtcRvloDlVozDfGrTHav/p75yJeZVfI8jiaqVfI8tVGt2DqeEEIIIfVb3ShvCSGEkFqsqlbZ1GVUkBBCCCHVjKut46UJDdkQQgghhHPUQ0IIIYRUM+ogKR8VJIQQQkh1o4qkXDRkQwghhBDOUQ8JIYQQUs1olU35qCAhhBBCqhmtsikf50M2eXl5XEcghBBCqhWvir7qMs57SDQ0NNCmTRu4urrCzc0NTk5OEAgEXMcihBBCSA3ivIfk/Pnz8PLyQkREBHr37g1NTU20b98ev//+O86dO8d1PEIIIeTrURdJuTgvSNq3b4/ffvsNZ8+eRVpaGi5evAgrKyssXboUXl5eXMcjhBBCvhqviv6ryzgfsgGAx48fIzQ0VPyVn5+PHj16wM3NjetohBBCCKkBnBckRkZGyM3NhZubG9zc3DBlyhQ0bdoUPJqSTAghpI6gP2nl43zIRldXFzk5OUhKSkJSUhKSk5ORm5vLdSxCCCGkytAUkvJxXpDcu3cPSUlJmDp1KvLz8/Hbb79BR0cHTk5O+P3337mORwghhJAawPmQDVC89LdXr15wdnaGk5MTjh49ir179yIiIgILFizgOh4hhBDydep690YV4LwgOXLkiHgy68OHD6GlpYX27dtjxYoVcHV15ToeIYQQ8tXq+gqZqsB5QTJ8+HC4uLhg6NChcHV1hYODA9eRCCGEEFLDOC9I3r59y3UEQgghpFrRKpvycV6QfCwvLw8FBQUSbWpqahylIYQQQqoG1SPl43yVTXZ2NkaPHg09PT0oKytDU1NT4osQQgiRerTut1ycFySTJ0/GhQsXsH79eigoKGDLli2YM2cODA0NsXPnTq7jEUIIIaQGcD5kc/z4cezcuRNubm7w9fVFhw4dYGVlBTMzMwQFBcHb25vriIQQQshXoVU25eO8hyQ1NRUWFhYAiueLpKamAii+6F5YWBiX0QghhJAqweNVzVddxnlBYmFhgfj4eACAjY0NDhw4AKC450RDQ4PDZIQQQgipKZwXJL6+voiMjAQATJ06FevWrYOioiImTJiASZMmcZyOEEII+Xo0p7V8nM8hmTBhgvjfnp6eiImJwe3bt2FlZYWmTZtymIwQQgipInW9mqgCnBckCQkJCAoKwrRp0wAAZmZmMDMz4zgVIYQQQmoSJwXJ6tWrxf8WCoVYtGgRcnJyoKurW+rYsWPH1mQ0QgghpMrRKpvycVKQrFq1SuK2trY2li9fDjU1NSgpKYnbeTxetRUkzx5GIuzYXrx+9hiZH97j50nzYd+mAwCgSCjE2X1bEHPnOlLfJkJRSRlWDi3R1XsY1LR0xM9x4fAuxNy5hsTnTyAjK4fZO/6W+B5vnj/BpeAgPI+5j+yMdGjq6eObTr3Rvvv/quWcioqKELRtAy6e/Rsf3r+Hlo4uPLv1wo8Dh4BXxvTsNcvm49TRQxg69ld823+AuP1Vwgts+3MVHt6/h8LCQphbWuPnIaPg2KJ1teS2baCC3k0awEJHAC0leSwJeYqbCekSxxipK2JAK0PY6atChge8SsvD8ovP8C67EACgIZDFz62M0NRQDQI5Pt5k5ONwZBIiXqSJn0NFXgaD25qgpYk6GGO4/iIN2yNeIU8oqpbzys3Jxv7ADbgZfhHpaR9gbtUYA0f+AqvG9gCAvNwc7NmyBjevXkJmRjr09A3R9dvv0annv78f5/8+gvALpxH/JBa5OdnY9tdFKKuoVkteAIh5cBenDu/G8ycxSEt9h7HTl6Jlu38vcskYw1+7NyH0zFHkZGfB2rYpBo6aDH0jU4nnuXfjCo7u3YaXz59ATk4eNg7NMW7GMgBAVkY6NiybiZfPnyArIx1qGppo3tYF/QaOgEBJpUrOIyEmChF/H0RS/GNkpaWi7/jZaNTKWXz/5cM78fB6KDJTUyAjIwt9c2u49POFkZWt+JjcrAyc3bkOT+5cB4/PQ+PWHdDp55GQVxQAAIQFBTi9PQBJ8XF49yYBVs3b4n8T5lRJ/hIWWgK4WWrBWEMR6oqy2H7zNR4kZYnv/6GZPlqbqEs8JuZtNjZHvBLfFsjx8V2TBrBroAwGICoxE8EP3qKgiImPcTRQRUdrLeiqyCMrvwjhzz8g9OmHKjmHxLj7uH/2MN4nPEFOeio6Dp+Ohs2cyjw2PGgNYi6fwjf9hqJJx2/F7fnZmbi2bz0S7keAx+OjYXNntO0/DHL//Cw+lvH2DYIXjAGPz8fPqw5WyTlUhbq+QqYqcFKQlKyq+VhQUBCOHz+Offv21UiGwvxcGJhZoZV7N+xePuM/9+Xh9bPH6Pg/HxiYWSE3OxPHt6/BjiW/YcySTeLjioSFcGjnBtNG9rh14WSp7/H6WSyU1TTx/ZjpUNfRQ0LsAxzZuBx8Ph9OXb+r8nM6FLQdJ4MPYuLvc2Fmbom4mIdYtXAWlJVV0LvfTxLHXr10AbHRUdDWKd0rNXvyGBiZmGLRH5sgr6CA4ANBmD15DLbuPwEtbZ1Sx38tRVk+nn/IwYW4d5jc0bLU/Q1U5TG/WyOExL3HgbuJyCksgomGQOINdUyHhlCSl8GSkKfIyBOig6UWJrqZY+rxGMSn5gIAxrk2hIZADvPOxEGGz8OoDmYY5mSKP8KeV/k5AcDGlfPx8vlTjJoyF1raurgcchLzJ4/Eyq0HoaWjh50bVuHBvZsYPXUudBsYIur2dWxdvQSa2rpo5VRcBOTn58GxtRMcWzth79a11ZLzY/l5uTAxt0aHTj2xZsGUUvefPLQL544fwJAJM6Gjb4gjuzZi+YxxWLhhH+TlFQAAN8MvYPvqRfjfwBGwc2yFoiIhXr14Jn4OHo+H5m1d0NdnOFTVNZD85hV2rV+GwMwMjJg8r0rOozA/D3qmFmjq0gVH/ihdJGgZGKPzwNHQ0DOAsCAfN08dxv4lUzF8xQ4oqWkAAI79uRhZae/xw9TFEBUV4e9Ny3Bq6yr0HvUbAEAkKoKsvAJademDmBuXqyT3f8nLFhfXN16mw7e1UZnHPHqbhf33ksS3hSImcb93CwOoKchi4/VXkOHz8L2jPvo11UfQ3UQAgI2eMrxbGOCvB8mITclBAxV59HPUR2ERQ/jztK8+B2F+HrSMzdHIqTNCNs7/5HHP717F2/hYKKlrl7ovdNtS5KR/gNe4BRAVFeHyjlW4ErQa7oMlf0dFRUJc3LoEDazs8fbZo6/OTmoW56tsSnh7e2Pbtm019v0aN2+LLj/6o8k3LqXuU1RWgf/MlWjq5AFdI1OYNrJHr8Hj8PpZLNJSksXHdfreDx169Ie+qUWZ36O1R3f08hsLC/tm0G5giOYundHSvSseRFTP/ioPH0SibXs3tHFyQQMDI7R374Tmbdrh8aMHEse9S0nG+oDFmDRzIWRkJWvS9LQPePMqAf0G+MHcqhGMTMzgO2Ic8vPy8OLZk2rJffd1BvbdScSN//SKlPiphSHuvErH7luvEZ+ai+TMAtx6mY6MPKH4mEZ6yjj1KAVP3uXgbVYBDkcmIaegCBbaxT1uRuqKaG6sjg3hCYh7l4OYt9nYev0VnC00oSmQq/JzKsjPQ8TlC/AeMhZ2TVtA38gE/XyGQd/IBGePHwIAxD6MhGunHrB3bAU9fUN4dv8OZpbWeBIbLX6e7t/9hG9/GARr2yZVnrEsjq2c8D+f4Wjl5FbqPsYYzhzdh57f+6JFO1eYmltj6C+zkZb6DneuXQIAFBUJEbRxJb73GwOPbt9B38gURqYW+KaDp/h5lFXV0LF7X5hb20JHzwD2zVrDo3tfPI6+V2XnYenYBq79fNG4dfsy77d38oB5kxbQ1DOArnFDdPQejvzcHLxNKC6c3r1+gWdRN9HNfyKMrGxh0rgJOvmMLu5V+fAOACCvKICX7zg0c+8GFY3qucxFzNtsnI59J9Er8l9FIobM/CLxV27hvz1+eirysNVTwYHIJCSk5SE+NRd/PUhGMyNVqCnIAABaGqnhQVIWrr1IR2pOIR69zcaFuPfwsNKqknMwadIarXoPRMPmZfeKAED2h3e4tn893PwmgS8jI3FfWmICXkXfRvufx0LP3Ab6VvZo98NwPLsVhuy09xLH3jq6E+r6xjBv2aFKslclWmVTPs4LkrFjx4rnlHw8XLN27VqMHz+eo1Sl5eVkg8fjQVH567qU83KyoaRSPRcMtGviiHu3I/Aq4QUA4FlcLB5G3UWrtv92VYtEIiyfNx19fxwIMwurUs+hpq4BY9OGCDl9HHm5uSgSCnEq+BA0NLVg1diuWnJ/Dg9ACxN1JGbkY3pnK2z9wQGLejRGa1PJburHb7PhbK4JFXkZ8AA4m2tCToaH6H/eyBvrKSMrX4in73PEj4l6kwHGAGtdJVS1oqIiiERFkJOTl2iXl1dA7IN7xZnsHHHrWhhS370FYwwP7t1C4qsENG3ZtsrzVIWUpDdI//Ae9s3aiNuUlFVg0dgeT2LuAwCeP4nFh/cp4PF5mDHmZ4wd0A3LZ47Hq+dPP/m8H96n4PbVUDRu0qLaz6EsRcJC3Lt4EgpKytAzK+6he/3kERSVVGBg0Vh8nHmTFuDxeHjzJIaTnJ9iqa2E2Z0tMcXdHH0dGkBJ7t+39YaaisgpKMKr9HxxW9y7HDAGmGoWD3fIyvBQKJIctiwUMWgI5KApqP5OdCYS4VLgcjh06gtNw9ILGt4+i4G8kgp0zRqJ2wxtmoPH4yElPlbc9ibmHp7fuQKnH0ZVe+YvQRujlY/zVTaHDx/GsWPHSrU7OTlh8eLFCAgI+Ozj8/PzkZ+fL9FWWJAPuX+6j6tCYUE+Tu/eCEfnjlBUUv7i53kR+wBRVy9g0LQlVZbtY/0G+CEnOxvDvL8Fny8DkagIPkNHw71zd/ExB4O2Q0ZGptQQTgkej4eFARsxd9oE9O3sBB6fDw0NLcxb8SdUObjysrpAFgI5GXzr0AD77iRi963XaGakhkkeFph9Kg4Pk4sLjhWh8ZjoZo5Ab0cIRQz5QhGWXXiGpMzi3w0NgSzSP+pRAQARA7LyhdCohh4SgZIyGtk1xZGgLTAyNYeGphbCL57B40f3oW9oDADwHTUJmwIWYMSP3SAjIwMen4+hE36HXVNu/jCXJ/1D8adRdU3JT85qGlpI/1C8w3JK0msAQHDQFvw4ZBx09Axw+q89WDRtBJZsOggV1X8LyT+XTMfdiDAU5OejWZsO8Bv3Ww2dSbG4u9dxdO0CFBbkQ0VDCz9MWQKlf/Jlp6WKh25K8GVkIFBRQ3Z61cytqAoxb7NxPzET73MKoaMsj642OhjyjTFWX0kAA6CqIIusgiKJx4gYkFNYBFWF4rf/2LfZ6GWvh1s6GXjyLgfaynJwtSju8VFTlMWHXOF/v22Vijp7EDy+DOw9epd5f07GBwhUJT+A8GVkoKCsityM4p9FXlYGwnasgqvfr5AXVP0HjKpRx6uJKsB5D8n79++hrq5eql1NTQ3v3r0r9/GLFi2Curq6xNfhrWuqLF+RUIg9K2eDgeHbIRO/+HmSEp5h55Lf0LHfIDRyrJ7JoZcvnMXFcycxedYirN62FxN/n4cje3fi/Knigi8u5iGOHdyDib/PLXOSK1DcLf/nykXQ0NTE0nXbELBpN9p1cMPsKWOR+i6lWnJ/TsnM9JsJ6Tjx8C2ep+Yi+H4ybr9MR2ebf+ez/NDcAMryMphzOg5TjsXgRHQyJrqZw1RTscYzlxg1ZS4YA0b82BXe3ZxwKngfnN27gMcrftmdProfcY/uY/LclVj05278PHQ8tq1Ziqg7EZxl/lqMFc9f6Pn9ILR29oC5tS38J8wADzzcvBIicexPQyZgzh87MW7GMrxNeoW9m/+o0axmto7wW7ABPrMCYNG0NYLXzq9VxUZF3HuTiejkbCRlFuBBUha23ngNU00BrHQq/kf5ekI6wp9/wOA2RljSvRHGtTfDvTeZAADGynnwV3r3Ig7RF47BZeDET74nVcSV3ath2cYNBtYOVZiO1DTOe0isrKxw+vRpjB49WqL91KlT4mvcfM60adMwcaJkoXD6cdW8qRQJhQhaOQsf3iVjyKxVX9w7kvzyObbMnYg2nj3Rsa9PlWQry9Y/V6Gfty9cPb0AAOaW1niblIgDu7bBs2svREfdQdqHVAzs21X8GFFREbasXYngA0EIPHQKkbdv4MbVMBw4FQalf4anrBr/jru3ruP8qePo/7NfteUvS2a+EEIRw6v0PIn21+l5sNErztdAVR7d7PQw/q+HeJVWfNyLD7mwbaACLxtdbLr2Emm5QqgrSv6683mAioIs0nILqyW7vqExZq/chLzcXOTmZENTWwcB86ehgYERCvLzsHfbOvw6ezlafFM8z8HMwhrPnz7GiYO70bTFN9WS6WuoaxZPNkz/kAqNj1abZaSlwtTCGgCg8c8xRqbm4vvl5OShq2+E92+T8TENLW1oaGnD0KQhVFTVsGDyMPT+0U/iuauTvKIAWvpGAIxgZGWHDb8MROSl03Dq9SOUNbSQk5EmcbyoqAi5WRlQVq+e+SJVITWnEFn5QmgryyHuXfHrR0Veck4GnwcoyckgM//fno+/H73DyUfvoKooi+x8Iax1i9/r3udUz2ujRNKTaORmpmH/bwPFbUwkwo1DWxAdEozvFwZCSU0TuZmS88tERUXIz86EQK34Z5EYG4mEqOu4f+7wP08CMCbCtpE90N57LBo5d67W86iIuj7cUhU4L0gmTpyI0aNHIyUlBR4eHgCAkJAQrFixotzhGgBQUFCAgoLk8IycfM4njq64kmLkfdJrDJkVAGXV0r04FZH8Mh6b50xAC9cu6PLTkK/O9Tn5eXng8yU7vfgyfIj+GR/26NIDzVpJzk+YMXEEPLr0QKfuvcXPAUD8Kb4Ej8cHY9WzPPZzhCKGp++yYagm+TM2UFNESlYBAEBBtjjrfz/NiRjEn7pi32ZDRUEWFtoCPHtfvOrGwUAVPB4Ql/L1vy+foygQQFEgQFZmBiJvXYP3kLEQCoUoEgpLfSrky/DBRDX//7kidPUNoa6pjYeRN2FmWTyen5uThWex0fDoVrxqrKG1DeTk5JH4KgGN7JsBKN5r6N3bN9DW0//kc4v++eEVFhZU70l8BmMMRYXFf4CNrGyRl5OFxPjHMDAvPtfnD++CMQZDKxvOMpZHXVEWSvIyyPxnePL5hzwoycvAWF1BPI/ESkcJPB6Q8CFX4rEMEE8Ub26oiuepucj+z3BPVbP6xgOGNs0k2s6sngGrth6wbtcJAKBnYYOCnCy8exEHHbPiwvdNbCQYY9A1L57j03PyCvH7HAAkRF5H1NmD6DFpBZQ1Sq/a4QIX9UjDhg3x4sWLUu0jR47EunXr4ObmhkuXLkncN2zYMGzYsEF8OyEhASNGjMDFixehoqKCgQMHYtGiRZCVrfrygfOCxM/PD/n5+ViwYAHmzSte8tewYUOsX78ePj7V15uQn5uD9/+MdwNA6ttEvImPg5KKGlQ1tbF7xUy8iX+MgVMXg4mKkPnP+LlARQ2ycsVzDtJSkpGTlYG0d8kQiYrwJj4OAKCtbwQFgRKSEp5h85wJaOTYGh169Bc/B48vAxV1jSo/p2+cXbBv5xboNtCHmbklnj6OxV/7d6Nzt+JiQ01dA2r/+b4ysrLQ1NaGsWlDAIBNk6ZQUVXDigUz8NOgoZBXUMSZ44eRnPgardtVz8x1RVk+9D8qOBqoKKChlgBZ+UK8yy7E0fvJmOBmjkfJWXiQmIVmxmpoZaKOWaceAwBep+UhMSMPw5xMsPPma2TmC9HGVANNDVWx6HzxZMrX6Xm4+yodw53NsOlqAmT4PAxua4LwZx/woZp6SO7dvAaAwdDYDElvXmL3ptUwNGkIty69ICsrC7umLbB78x+QV1CArp4BHkbdQdi5k/AZ/u/lFNJS3yEt9T2SXhfvK5EQ/wQCgRJ09PShovZlRfLn5OXmIPnNv3tYpCS9wYunj6GiqgZtPX106f0Dju3bjgaGJtD9Z9mvhpYOWvyzV4lASQXu3frgr6BN0NLVg46eAU4e3g0AaNO+IwAg8mY40tNSYWFtBwWBAK9fPMP+bWtgbdcUug0Mq+Q8CvJy8SH539d3WkoSkl88gaKyGgQqqrh6dA+sW7aDioY2cjLTcefcMWR+eAebf1bd6RiZwaJpa5zasgpefuMgKhLi7I61sGvrBlXNf3tw3r1+gSJhIXKzMlGQl4vkF8Ur0RqYlZ4w/iXkZXjQUf53YrSWkhwM1RSQU1iEnIIidG6kg6jETGTmC6GjLI/utrp4n12ImH+K7LdZBXj0Ngv9HPVxKCoZMjwevmvSAPdeZyIjv7jYUJaXQVMDFTx9nwtZPg+tTdThaKiKdVdfVsk5FOblIiPljfh21rtkvH/5FArKqlDR0oPifyb582VkIFDThIZ+8VwrDQNTGNu3xJXdq+H802iIioS4tu9PWLRyERcbGgaS++C8exEHHo8PLaOGVXIO0urmzZsoKvq3qHzw4AE6deqEfv36iduGDBmCuXPnim9/vLikqKgI3bt3h76+Pq5evYrExET4+PhATk4OCxcurPK8PMaqe5Sw4lJSUiAQCKCi8nUrWf6KSir3mKfRd7F59vhS7S1cveDZfxCWjvqhzMcNmR0AS/vmAIADaxfhzqXTnzzm3IHtCDkYWOp+DV19TP1zf7kZmxpU7g9OTk42dm1eh6thF5H+IRVaOrpw9fTCT77DICdX9sTNQf/rim/7e0tsjPY4Jho7N61FXMxDCIVCmJlb4sdBQ9G6XdlLKD9nyony9wKw11fBnK6NSrVfjHuPdVeKq3sPa230adoAWkryeJOehwP3EiU2T9NXU8CAloawaaACRVk+kjLzcezBW4Q9TRUfU7IxWitTdYgYEPH8A7ZVcGO06R2tK3K6Eq5dOoe9W9fi/bu3UFFVwzftPfCD3yjxUFha6jvs2boOUbevIyszA7oN9NGxWx907+st7jk5uHMjDu3aXOq5R/w6C25delY6U145n3gfRd3G4mkjS7W379gdQybO/HdjtNPBxRuj2TmW2hhNKBTiYOA6XL14CgX5+bBs3AQ/DZ0AY7PiIdhHkbdwaOcGvHkZj8LCQmjp6KGVkzu69/Op0KZvMR8yyj3mxcNI7Fn4a6l2hw6d4OU7Hkf/XIg3T2OQm5kBgYoqDCwaw6m3Nwwt/11Vk5uVgbM71uLJ3evg8f7ZGM1nlHhjNAD4c/wApL9LLvV9pu0+V27G+0m55R5jqS3ASCfTUu03X6bjUFQy/FobwVBdAQI5GWTkCRGbko3TMe8kJrKKN0bTVwFjDPcTs/DXg2TxPj7K8jLwa20Eg38+FLz4kItTMe+QkJZX6vv+VwOV8j/TJsZG4eSqqaXardt6wmVQ6Xl5+38bBPuO35baGO3qvj/xMuoGwOOhYQtntOs/vMyN0QDg8dVziDi4qcIbo012L73/UVVLTK+a3j8DdfnyD/qE8ePH48SJE4iLiwOPx4ObmxuaNWv2ydGIU6dOoUePHnjz5g0aNGgAANiwYQOmTJmClJQUyMt/eZay1JqCJCUlBbGxxUu4bGxsoKPz5ePIFSlIpEFlC5LaqCIFiTT4koKkNiqvIJEGFSlIpEFFCpLariIFiTSoiYIkKb1qemI1FUWlVpaWNXXhvwoKCmBoaIiJEyfit9+KV7S5ubkhOjoajDHo6+ujZ8+emDFjhriXZObMmTh27Bju3bsnfp74+HhYWFjgzp07aN68eZWcUwnOV9lkZ2fDz88PBgYGcHFxgYuLCwwMDDB48GDk5FTv2D4hhBAiTcpaWbpo0aJyHxccHIy0tDQMGjRI3PbTTz9h9+7duHjxIqZNm4Zdu3ZhwIB/e8uTkpLEPSMlSm4nJVX9B3/Oy9uJEyfi0qVLOH78OJydizfwunLlCsaOHYtffvkF69ev5zghIYQQ8pWqaFZrWStLy+sdAYCtW7eia9euMDT8d57W0KFDxf92cHCAgYEBOnbsiKdPn8LSsvp7jf6L84Lk8OHDOHToENzc3MRt3bp1g0AgQP/+/akgIYQQIvWqapVNRYZn/uvFixc4f/48jhw58tnjvvmmeLuBJ0+ewNLSEvr6+rhx44bEMcnJxXOm9PU/vWruS3E+ZJOTk1OqSwgA9PT0aMiGEEII+Urbt2+Hnp4eunfv/tnjSuaKGBgYAADatWuH+/fv4+3bt+Jjzp07BzU1NdjZVf2lRDgvSNq1a4dZs2YhL+/fGd25ubmYM2cO2rVrx2EyQgghpGpwdS0bkUiE7du3Y+DAgRJ7hzx9+hTz5s3D7du38fz5cxw7dgw+Pj5wcXFB06ZNAQCdO3eGnZ0dfv75Z0RGRuLMmTOYPn06Ro0aVelemorgfMgmICAAXl5eMDY2hqOjIwAgMjISioqKOHPmDMfpCCGEkK/H4+haNufPn0dCQgL8/CR32ZaXl8f58+cREBCA7OxsmJiYoG/fvpg+fbr4GBkZGZw4cQIjRoxAu3btoKysjIEDB0rsW1KVOC9IHBwcEBcXh6CgIMTEFF9F88cff4S3tzcEgrLXmBNCCCFShaOt4zt37oyydvcwMTEptUtrWczMzHDy5MnqiFYKpwVJYWEhbGxscOLECQwZUr3bqhNCCCGk9uK0IJGTk5OYO0IIIYTURXRtvfJxPql11KhRWLJkCYRCYfkHE0IIIVKIq0mt0oTzOSQ3b95ESEgIzp49CwcHBygrK0vcX966aUIIIYRIP84Kkvj4eJibm0NDQwN9+/blKgYhhBBS7bhaZSNNOCtILC0tYWZmBnd3d/GXsbExV3EIIYSQalPXh1uqAmcFyYULFxAaGorQ0FDs3bsXBQUFsLCwgIeHBzw8PODm5lbmDq6EEEIIqXs4K0jc3NzE16/Jy8vD1atXxQXKjh07xEuCo6OjuYpICCGEkBrC+aRWAFBUVISHhwfat28Pd3d3nDp1Chs3bhRvlEYIIYRIMxqyKR+nBUlBQQGuX7+OixcvIjQ0FBERETAxMYGLiwvWrl0LV1dXLuMRQgghpIZwVpB4eHggIiIC5ubmcHV1xbBhw7Bnzx7xVQYJIYSQuoJW2ZSPs4Lk8uXLMDAwEE9gdXV1hba2NldxCCGEkGpDQzbl42yn1rS0NGzatAlKSkpYsmQJDA0N4eDggNGjR+PQoUNISUnhKhohhBBSpXhV9FWXcdZDoqysDC8vL3h5eQEAMjMzceXKFVy8eBFLly6Ft7c3rK2t8eDBA64iEkIIIaSG1IpVNkBxgaKlpQUtLS1oampCVlYWjx494joWIYQQ8vXqevdGFeCsIBGJRLh16xZCQ0Nx8eJFhIeHIzs7G0ZGRnB3d8e6devg7u7OVTxCCCGkytCk1vJxVpBoaGggOzsb+vr6cHd3x6pVq+Dm5gZLS0uuIhFCCCGEI5wVJMuWLYO7uzsaNWrEVQRCCCGkRtAqm/JxVpAMGzaMq29NCCGE1CiqR8rH2bJfQgghhJAStWaVDSGEEFJnURdJuaggIYQQQqoZrbIpHw3ZEEIIIYRz1ENCCCGEVDNaZVMBjFRaXl4emzVrFsvLy+M6ylepC+dRF86BsbpxHnXhHBij86hN6sI5kIrjMcYY10WRtMnIyIC6ujrS09OhpqbGdZwvVhfOoy6cA1A3zqMunANA51Gb1IVzIBVHc0gIIYQQwjkqSAghhBDCOSpICCGEEMI5Kki+gIKCAmbNmgUFBQWuo3yVunAedeEcgLpxHnXhHAA6j9qkLpwDqTia1EoIIYQQzlEPCSGEEEI4RwUJIYQQQjhHBQkhhBBCOEcFCSGEEEI4RwUJIYT8Iy8vj+sIhNRbVJAQQuo1kUiEefPmwcjICCoqKnj27BkAYMaMGdi6dSvH6eqvgoICxMbGQigUch2F1BC62u8nHDt2rMLH9urVqxqTkLIIhUI8fvwYdnZ2XEf5agUFBYiPj4elpSVkZeklWdPmz5+PHTt2YOnSpRgyZIi4vUmTJggICMDgwYM5TFf/5OTkYMyYMdixYwcA4PHjx7CwsMCYMWNgZGSEqVOncpyQVBfah+QT+PyKdR7xeDwUFRVVc5qvc+zYMXTt2hVycnLlFlq1ubjKyMgQ//vFixfo0aMHLly4AF1d3VLHSsOFuOrSG+/Tp08REBCAR48eAQDs7Owwbtw4WFpacpysfFZWVti4cSM6duwIVVVVREZGwsLCAjExMWjXrh0+fPjAdcTPqiuv7xLjxo1DeHg4AgIC4OXlhaioKFhYWODo0aOYPXs27t69y3VEUk2oIKkH+Hw+kpKSoKen99lCq7YXV3w+HzweT3ybMSZx++O22nweJerKG++ZM2fQq1cvNGvWDM7OzgCA8PBwREZG4vjx4+jUqRPHCT9PIBAgJiYGZmZmEgXJw4cP0aZNG2RlZXEd8bPqyuu7hJmZGfbv34+2bdtK/DyePHmCFi1aSHwwIXUL9Q/XAyKRqMx/S5uLFy+Walu/fj0KCwsxduxYDhJ9neDgYPEb78eFlb29PZ4+fcphssqZOnUqJkyYgMWLF5dqnzJlSq0vSOzs7HD58mWYmZlJtB86dAjNmzfnKFXF1ZXXd4mUlBTo6emVas/Ozi71AYTULVSQVNClS5ewfPlyiS7pSZMmoUOHDhwnq5xXr17B2Ni4zPuuX7+Otm3b1nCiinN1dS3V1rp1a5w9e7bM+2q7uvLG++jRIxw4cKBUu5+fHwICAmo+UCXNnDkTAwcOxOvXryESiXDkyBHExsZi586dOHHiBNfxKkWaX98lWrVqhb///htjxowBAPFrYcuWLWjXrh2X0Ug1o1U2FbB79254enpCSUkJY8eOxdixYyEQCNCxY0fs2bOH63iV0rlzZ6SmppZqDw8Ph5eXFweJvo6SkhK8vLyQkZEh8SUNSt54S0jrG6+uri7u3btXqv3evXtlFly1Te/evXH8+HGcP38eysrKmDlzJh49eiQVw03/VRde3wsXLsRvv/2GESNGQCgU4o8//kDnzp2xfft2LFiwgOt4pDoxUi4bGxu2cuXKUu0rVqxgNjY2HCT6cr6+vqxly5YsIyND3Hbp0iWmpqZW5jnWVllZWWzUqFFMV1eX8fn8Ul/S4PLly0xFRYUNHz6cKSoqsnHjxrFOnToxZWVlduvWLa7jVdicOXOYhoYGW7x4MQsLC2NhYWFs0aJFTENDg82dO5frePVKXXl9P3nyhPn7+7PWrVszW1tb5u3tzaKioriORaoZFSQVIC8vz+Li4kq1x8XFMQUFBQ4SfbmioiLWp08f5urqyvLy8tiFCxeYiooKCwgI4DpapYwcOZLZ2tqyQ4cOMYFAwLZt28bmzZvHjI2N2e7du7mOV2F14Y1XJBKxlStXMiMjI8bj8RiPx2NGRkYsICCAiUQiruOVy9fXlwUGBpZqT09PZ76+vhwk+nJ15fVN6icqSCrA0tKSbdiwoVT7+vXrmZWVFQeJvk5+fj7z9PRkTk5OTEVFha1Zs4brSJVmYmLCLl68yBhjTFVVVVww7ty5k3Xt2pXDZPVbRkaGxKdzacDj8ZiSkhIbO3YsKyoqErcnJSVJTW/bx6T99e3u7s5mz55dqj01NZW5u7tzkIjUFFr2WwHr16/H+PHj4efnBycnJwDFY7KBgYH4448/MGzYMI4Tfl5UVFSptszMTPz444/o3r07RowYIW5v2rRpTUb7YioqKnj48CFMTU1hbGyMI0eOoE2bNoiPj4eDg0OtXaqZkZEh3iOlvLkuSkpKUrFR2rZt2+Du7g5zc3Ouo1RYVFQUmjRpAj6fDz6fjwsXLsDf3x9WVlbYv38/1NXVkZycDENDw1q/VLauvb75fD60tbXh7OyMoKAgKCsrA4DU/DzIV+C6IpIWR44cYc7OzkxLS4tpaWkxZ2dnFhwczHWsCuHxeIzP54u70/97u+Tf0vRp0MHBgYWGhjLGGOvYsSP75ZdfGGOM/fHHH8zIyIjLaJ/F5/NZcnIyY+zfn8unvmRkZJiNjQ27cOECx6k/z8rKivH5fGZiYsIGDBjANm/eXOYQZ23C4/Ekfg7Jycns3bt3zNXVlTVq1Ig9fvxYanpI6trrm8fjsXv37rFvvvmGNWnShMXHxzPGpLfHilQc9ZDUAy9evKjwsf/di6G2WrVqFWRkZDB27FicP38ePXv2BGMMhYWFWLlyJcaNG8d1xDJdunQJzs7OkJWVxaVLlz57bH5+PoKDg3HhwgXExMTUUMIv8/r1a4SGhiIsLAyXLl1CXFwcDAwM4Obmht27d3Mdr5QXL17A1NQUPB4PMjIySExMhJ6eHoRCIYYPH44jR44gICAAvr6+tf4TeV17fZds9Kaurg5fX1+cO3cOBw8ehK2tLfWQ1HFUkFRCQUEB3r59W2rzIVNTU44SkRIvXrzA7du3YWVlJRXd0hX19u1bdOvWDbdu3eI6SoXk5OTg8uXL2Lt3L4KCgsAYq/UXR/t4p9MSK1euxJQpUyASiegPYA37uEAEiq81NH/+fEyZMgXz58+nn0cdRgVJBcTFxcHPzw9Xr16VaGdStE35x+Li4nDx4sUyi6uZM2dylKp+KioqQnBwsHjDPXt7e/Tq1QsyMjIcJ6u4s2fPIjQ0FKGhobh79y5sbW3h6uoKNzc3uLi4QFNTk+uIn/Vxr9XHzp8/j/DwcMyaNYujZJW3Y8cO6OjooHv37gCAyZMnY9OmTbCzs8PevXulqofk4wLx8OHDGDhwIHJzc6Xu/ZZUHBUkFVDyZjV16lQYGBiU2kXT0dGRo2SVt3nzZowYMQI6OjrQ19eXOBcej4c7d+5wmO7zVq9ejaFDh0JRURGrV6/+7LHSsJX8kydP0K1bN7x+/RqNGzcGAMTGxsLExAR///23VFyYDij+A6Krq4tffvkFQ4cOhYaGBteRvkhduOpy48aNsX79enh4eODatWvo2LEjAgICcOLECcjKyuLIkSNcRyzXx8NpH4uOjsatW7cwcOBAjpKR6kYFSQUoKyvj9u3bsLGx4TrKVzMzM8PIkSMxZcoUrqNUmrm5OW7dugVtbe3Prujg8Xh49uxZDSb7Mt26dQNjDEFBQdDS0gIAvH//HgMGDACfz5fYxbU2CwgIQFhYGMLCwqCgoCDuHXFzc0OjRo24jleuz1112djYWKpeK0pKSoiJiYGpqSmmTJmCxMRE7Ny5E9HR0XBzc0NKSgrXEcuVnp6OoqIi8WuiRGpqKmRlZaXiSt7kC3Exk1batGrVil2+fJnrGFVCVVWVPX36lOsYhDGmpKRU5iZo9+7dY8rKyhwk+npRUVFszZo1rE+fPkxOTq5Wr3gqMXbsWNayZUt2+fJlpqysLH59BAcHs2bNmnGcrnJ0dXXZnTt3GGOMNWvWjO3cuZMxVrwBn7T8Tnl5ebF169aVal+/fj3tMVTH0bVsPuHj66IsWbIEkydPRmhoKN6/fy+V100p0a9fP5w9e5brGFWKFW/wx3WMSlNQUEBmZmap9qysLMjLy3OQ6MsxxnDnzh2cO3cOZ86cwcWLFyESiaCrq8t1tHIFBwdj7dq1aN++vVRfdRkAOnXqBH9/f/j7++Px48fo1q0bgOLhjoYNG3IbroIiIiLg7u5eqt3NzQ0REREcJCI1RToHSmuAhoaGxJsTYwwdO3aUOIZJ4aRWKysrzJgxA9evX4eDgwPk5OQk7peGuRcltm7dilWrViEuLg4AYG1tjfHjx8Pf35/jZBXTo0cPDB06FFu3bkWbNm0AFL8ZDx8+HL169eI4XcX17NkT4eHhyMjIgKOjI9zc3DBkyBC4uLhIxXySunLVZQBYt24dpk+fjpcvX+Lw4cPQ1tYGANy+fRs//vgjx+kqJj8/v8yVWYWFhcjNzeUgEakpNIfkE8rbI+Jjrq6u1ZikatWFuRdA8WqglStXYsyYMeIr4167dg1r167FhAkTMHfuXI4Tli8tLQ0DBw7E8ePHxYWhUChEr169EBgYCHV1dY4TVsykSZPg6uqKDh06SE3mj7m4uKBfv34YM2YMVFVVERUVBXNzc4wZMwZxcXE4ffo01xHrFXd3dzRp0gRr1qyRaB81ahSioqJw+fJljpKR6kYFCZFKurq6WL16dalPfXv37sWYMWPw7t07jpJVXlxcHB49egQejwdbW1tYWVlxHalSnj17BgsLC65jfLErV66ga9euGDBgAAIDAzFs2DA8fPgQV69exaVLl9CyZUuuI1ZaTk4OEhISUFBQINHetGlTMMYwYMAABAUFcZTu88LDw+Hp6YnWrVuLe6VDQkJw8+ZNnD17Fh06dOA4IakuVJBUUFpaGrZu3SqxX4Sfn59UfiIsUfKjl7ZuaaB4SO3mzZuwtraWaH/8+DHatGmDtLQ0boJ9IWn+WfD5fLi6umLw4MH43//+B0VFRa4jVdrTp0+xePFiREZGIisrCy1atMCUKVPg4ODAdbRKSUlJwaBBgz7Zq7NkyRJ4eHiga9euSE5OruF0FXfv3j0sW7YM9+7dg0AgQNOmTTFt2rRSr3dSx3Axk1ba3Lx5k2lpaTEjIyPWp08f1qdPH2ZsbMy0tbXZ7du3uY5XaTt27GBNmjRhCgoKTEFBgTk4OIhn40uL0aNHswkTJpRq/+WXX9jIkSM5SPRltmzZwuzt7Zm8vDyTl5dn9vb2bPPmzVzHqpS7d++ysWPHMl1dXaaurs6GDh3KIiIiuI5VL/3000/M2dmZ3bx5kykrK7OzZ8+yXbt2scaNG7MTJ06w1atXs2bNmrGZM2dyHZWQUqiHpAI6dOgAKysrbN68WbxhklAohL+/P549e4awsDCOE1bcypUrMWPGDIwePRrOzs4Airus161bh/nz52PChAkcJ/y0iRMniv8tFAoRGBgIU1NTtG3bFkDxhNCEhAT4+PiUGn+ujerCPJiPCYVCHDt2DIGBgTh9+jQaNWoEPz8//Pzzz7VutU1lrrosTfteGBgY4OjRo2jTpg3U1NRw69YtNGrUCMeOHcPSpUtx5coVriOWq6S3rV+/fhAIBFzHITWICpIKEAgEuHv3bqmN0R4+fIhWrVohJyeHo2SVZ25ujjlz5sDHx0eifceOHZg9ezbi4+M5Sla+spYCloXH4+HChQvVnObr1aV5MB/Lz8/Hn3/+iWnTpqGgoADy8vLo378/lixZAgMDA67jAZC8Xgqfzy9zqIxJ4So6NTU1REVFoWHDhjAzM8OePXvg7OyM+Ph42NvbS8V71fjx47Fnzx7k5+ejf//+GDx4sPhDB6nbaNlvBaipqSEhIaFUQfLy5UuoqqpylOrLJCYmwsnJqVS7k5MTEhMTOUhUcRcvXuQ6QpUqLCxEq1atSrW3bNmy1l+Qriy3bt3Ctm3bsG/fPigrK+PXX3/F4MGD8erVK8yZMwe9e/fGjRs3uI4JALhw4YJ4J9ALFy5I5dydsjRu3BixsbFo2LAhHB0dsXHjRjRs2BAbNmyoNcVgeQICArB8+XIcO3YMO3bsgIuLC6ysrMS9bQ0aNOA6IqkunA4YSYkxY8YwY2Njtm/fPpaQkMASEhLY3r17mbGxMRs3bhzX8SrF3t6eLViwoFT7vHnzWJMmTThIVH/VlXkwK1asYE2aNGFycnKsd+/e7Pjx46yoqEjimJcvXzIZGRmOEtYfu3btYtu3b2eMMXbr1i2mo6PD+Hw+U1RUZPv27eM23BdKTk5m8+bNY4qKiuLfsZCQEK5jkWpAQzYVUFBQgEmTJmHDhg3iT65ycnIYMWIEFi9eDAUFBY4TVtzhw4fx/fffw9PTUzyHJDw8HCEhIThw4AD69OnDccKKu3XrFg4cOFDm8kZpuIjYmDFjsHPnTpiYmJQ5D+bjTetWrlzJVcxyWVtbw8/PD4MGDfrkp/CCggLs3bu3Vl4YzcXFBW5ubnB1dYWzs7NUrhL6lJycHPG1bXR0dLiOU2k3btzA9u3bsW/fPqipqWHQoEF4/fo19uzZg5EjR2L58uVcRyRViAqSCigsLIScnBxycnLEW0lbWlpCSUkJ7969k7oX+u3bt7Fq1SrxEmZbW1v88ssvaN68OcfJKm7fvn3w8fFBly5dcPbsWXTu3BmPHz9GcnIy+vTpg+3bt3MdsVx1bU6MtJo/fz7CwsJw9epVCIVCtGrVSqJAUVJS4jpihT148ABNmjQp877g4GB8++23NRvoC7x9+xa7du3C9u3bERcXh549e8Lf3x9dunQRD61duXIFXl5eyMrK4jgtqVLcdtBIh++++46JRKJS7UlJScze3p6DRMTBwYGtXbuWMcaYiooKe/r0KROJRGzIkCG0pLGGmZubs0GDBrG8vDyJ9pSUFGZubs5RqsorLCxkV69eZYsWLWJdunRhcnJyTEFBgetYlWJoaMiePXtWqv3QoUNMSUmJg0SVJycnx2xsbNjSpUvZ27dvyzwmPT2dubm51XAyUt3o4noVkJCQUOr6KImJiXBzcys10bW28/DwKHM56YcPH+Dh4cFBoi/z9OlTdO/eHQAgLy8vvu7IhAkTsGnTJo7T1S/Pnz9HeHg4OnTogKSkJHF7UVERXrx4wWGyynn27Bnu37+PyMhIREVFQVVVFV27duU6VqX4+/vD09NT4uewf/9++Pj4IDAwkLtglRASEoJHjx5h0qRJn1wurqamVucmuRNaZVMhJ0+ehIuLCyZOnIiVK1fizZs3cHd3h6OjI/bt28d1vEoJDQ3F/fv3cffuXezevRvKysoAisf4K3P9Hq5pamqKr5RrZGSEBw8ewMHBAWlpaVKxtLGEtM+DAYqHlE6fPo1ff/0VLVu2RHBwMFq3bs11rAr76aefcOnSJeTn58PFxQWurq6YOnUqmjZtKnWrb+bMmYPU1FR4enoiLCwMp0+fhr+/P3bt2oW+fftyHa9CaGv4+osKkgrQ1dXF2bNn0b59ewDAiRMn0KJFCwQFBYHPr/2dTMeOHUPXrl3FkyTPnz+PYcOGwcnJCcePH4epqSnHCSvPxcUF586dg4ODA/r164dx48bhwoULOHfuXKmrMtdW5c2DkRaMMaioqODIkSOYNm0aXF1dsWnTJnTq1InraBWyb98+6OjowN/fHx4eHmjfvr1UzRv5rzVr1sDb2xtt27bF69evsXfvXvTu3ZvrWJ/VvHnzChd/d+7cqeY0hCs0qbUSHj9+jA4dOqBTp07YtWuX1Hx64vP5SEpKEm8ClZSUBHV1dfj6+iIkJARHjhyBlZUVDA0NpWYTqNTUVOTl5cHQ0BAikQhLly7F1atXYW1tjenTp0NTU5PriOVq2rQphg0bhlGjRkFVVRWRkZEwNzfHsGHDYGBggDlz5nAdsUI+3mQMAHbv3o0hQ4bgxx9/xI4dO2r979SHDx9w+fJlhIaG4tKlS3j06BGaNWsGNzc3uLm5oXPnzlxH/Kxjx46VaissLMSECRPQuXNn9OrVS9z+8b9rk49/1/Py8vDnn3/Czs5OvIPx9evXER0djZEjR2LRokVcxSTVjAqST9DU1Cyz4MjJyYGCggJkZGTEbampqTUZ7av894/H/PnzsXDhQvz++++YOXNmrf/jUZcoKysjOjoaDRs2hLa2NkJDQ+Hg4IBHjx7Bw8Oj1m9UV+LjgrfEtWvX0KdPH6SkpEjd79STJ08wf/58BAUFQSQS1fr8Fe2llZZdZ/39/WFgYIB58+ZJtM+aNQsvX77Etm3bOEpGqhsN2XxCQEAA1xGqxX/rz+nTp8PW1rZW7g9Rlk9t8/0xHo8nFTud1pV5MCKRqFRbu3btEBkZiZiYGA4SVc779+9x6dIlhIaGIjQ0FA8fPoSGhgZ69uwJV1dXruOVq6z//9Ls4MGDuHXrVqn2AQMGoFWrVlSQ1GFUkHyCtPyBrqz4+PhS+6b07dsXjRs3xu3btzlKVXF//fXXJ++7du0aVq9eLTVv0HVhHgxQ/DslFApLXRo+IyMDZmZmHKWqOD09Pejo6KBDhw4YMmQI3Nzc4ODgwHWsr5aXlyeVm7wJBAKEh4eX+n0KDw+XyvMhFUdDNp9Q3hVAPyZNVwP92KtXrwAAxsbGHCf5OrGxsZg6dSqOHz8Ob29vzJ07Vyr+ENaFeTBA8dVZ/fz8ShXxu3fvxpYtWxAaGspNsAqKjo6Gvb091zGqRFFRERYuXIgNGzYgOTkZjx8/hoWFBWbMmIGGDRti8ODBXEcs1+LFizFnzhwMGTIEbdq0AVC8g/G2bdswY8YMTJ06leOEpNpwtwVK7cbj8Rifz//sV8kx0qSoqIjNmTOHqampic9DXV2dzZ07t9T1R2q7169fM39/fyYnJ8d69OjB7t+/z3WkeklVVZXFxcWVao+Li2Pq6uo1H6iScnJyWHZ2tvj28+fP2apVq9jp06c5TPVl5syZwywsLNju3buZQCBgT58+ZYwxtm/fPta2bVuO01Xc/v37mZOTE9PU1GSamprMycmJ7d+/n+tYpJrRkM0nVHTTnfv371dzkqr1+++/Y+vWrVi8eLH4WjZXrlzB7NmzkZeXhwULFnCcsHzp6elYuHAh1qxZg2bNmiEkJESq9i6oS/NggOKsJXNhPpaenl4rJ1GuWrUKDg4O8PT0BAD07t0b3333HYYPH460tDS0adMG8vLyePfuHVauXIkRI0ZwnLjidu7ciU2bNqFjx44YPny4uN3R0VEq5vOU6N+/P/r37891DFLDaMjmC2RmZmLv3r3YsmULbt++XSvfdD/F0NAQGzZsKLX87+jRoxg5ciRev37NUbKKWbp0KZYsWQJ9fX0sXLiw1u+vUJajR49+8r6P58Hk5eXVYKov17NnTwgEAuzdu1e8+qyoqAjff/89srOzcerUKY4TSrp9+zb69++PWbNmwcfHBzo6Orh06RLs7e2xZcsWrFmzBnfv3sXhw4cxc+ZM8TWfpIFAIEBMTAzMzMzES8ktLCzw8OFDtGnTRqqu/XL79m3x/3t7e3uputYW+TLUQ1IJYWFh2Lp1Kw4fPgxDQ0N89913WLduHdexKiU1NbXM7e5tbGykYvny1KlTIRAIYGVlhR07dmDHjh1lHlebdzktq4gqax6MtFiyZAlcXFzQuHFjcU/V5cuXkZGRUSsvCtiyZUvcuHEDvr6+8PHxQU5ODlRVVQEAZ8+exXfffQc+n4+2bdtK1db3AGBnZ4fLly+XmkN16NAhqfmD/vbtW/zwww8IDQ2FhoYGACAtLQ3u7u7Yt2/fJ7eTJ9KPCpJyJCUlITAwEFu3bkVGRgb69++P/Px8BAcHw87Ojut4lebo6Ii1a9di9erVEu1r166Fo6MjR6kqzsfHR2o2pKuIN2/eYNasWdixYwe6dOmCe/fuffJqrbWVnZ0doqKisHbtWkRGRkIgEMDHxwejR4+GlpYW1/HKpK2tLd5QzMrKCsHBwejTpw/OnDmDCRMmACj+wyhtE9ZnzpyJgQMH4vXr1xCJRDhy5AhiY2Oxc+dOnDhxgut4FTJmzBhkZmYiOjoatra2AICHDx9i4MCBGDt2LPbu3ctxQlJtuJ7EUpv16NGDqampsR9//JGdOHGCCYVCxhhjsrKyLDo6muN0XyY0NJQpKyszW1tb5ufnx/z8/JitrS1TUVFhYWFhXMerN9LS0tjkyZOZQCBg7dq1o//3HDp48CCTk5NjfD6fderUSdy+cOFC5uXlxWGyLxMWFsY8PT2Zrq4uEwgEzNnZmZ05c4brWBWmpqbGbty4Uao9IiJCKiZJky9Hc0g+Q1ZWFmPHjsWIESMk1sTLyckhMjJSKntIgOJP5evWrRNPcrO1tcXIkSNhaGjIcbL6oS7Mg/mvy5cvY+PGjXj27BkOHjwIIyMj7Nq1C+bm5uJrQNVmSUlJSExMhKOjo3jn0xs3bkBNTU3qrugt7VRVVXH58mU0a9ZMov3u3btwdXWt1JYMRLpQQfIZ169fx9atW7F//37Y2tri559/xg8//AADAwOpLEgKCwvh5eWFDRs2lNp0iNQcPp8PgUAAT09PiUsQ/FdtngfzscOHD+Pnn3+Gt7c3du3ahYcPH8LCwgJr167FyZMncfLkSa4j1ht+fn5wdXUttSdMRkYGxo8fLxW7nPbu3RtpaWnYu3ev+EPS69ev4e3tDU1Nzc9ujkikGxUkFZCdnY39+/dj27ZtuHHjBoqKirBy5Ur4+fmJJ8NJC11dXfHmW4QbgwYNqtA8mO3bt9dAmq/XvHlzTJgwAT4+PhIrO+7evYuuXbsiKSmJ64j1RkmxO3jwYAQEBIh7e5KTk6Xm4pkvX75Er169EB0dDRMTE3FbkyZNcOzYManfyJF8GhUklRQbG4utW7di165dSEtLQ6dOncq82mZtNWHCBCgoKGDx4sVcRyF1hJKSEh4+fIiGDRtKFCTPnj2DnZ2d1Cxfrgv4fD4uXLgAf39/mJub48CBA9DU1JSqggQovubW+fPnJYaVS/aNIXUXrbKppMaNG2Pp0qVYtGgRjh8/LhVdoB8TCoXYtm0bzp8/j5YtW0JZWVni/pUrV3KUjEgrfX19PHnyBA0bNpRov3LlCiwsLLgJVY/Z2dkhIiICffv2RZs2bXDs2LFau9qpLAkJCQgKCsK0adPQqVMnruOQGkQFyReSkZHBt99+i2+//ZbrKJXy4MEDtGjRAgDw+PFjjtOQumDIkCEYN24ctm3bBh6Phzdv3uDatWv49ddfMWPGDK7jlSs7O7tUYS6tSoYCtbW1cf78eQwfPhzt2rXDsmXLOE72eR9vQyAUCrFo0SLk5OSUuefI2LFjazIaqUE0ZEMI+SqMMSxcuFD8RwQAFBQU8Ouvv2LevHkcpyufiooK+vfvDz8/P6lYEfQ5fD4fSUlJ0NPTE7etXLkSU6ZMgUgkqrVDNubm5qXakpKSoKamBiUlJXEbj8fDs2fPajIaqUFUkNQTfn5+5R7D4/GwdevWGkhD6qKCggI8efIEWVlZsLOzg4qKCteRKiQ4OBiBgYE4efIkGjZsCD8/P/j4+EjlMvhLly7B2dkZsrKSnd/nz59HeHg4Zs2axVGyygsKCsLx48exb98+rqOQGkIFST3B5/NhZmaG5s2b43M/clpSR+qrlJQU7Nq1C4GBgXj06BG6dOkCPz8/9OrVq9Qf+NqosLAQNjY2OHHihHiHU2ly7do1vH//Hj169BC3/fnnn1i2bBmys7Px7bffYs2aNVBQUOAwJalOVJDUE6NGjcLevXthZmYGX19fDBgwQKomupHa5bvvvkNgYCDU1NTQp0+fzy5jlpb9VD62Zs0aTJo0CQUFBdDR0cHw4cMxdepUieGD2sjIyAjnz5+XyoLEy8sL7u7umDJlCoDiK6m3bNkSAwcOhK2tLZYtW4Zhw4Zh9uzZ3AYl1YbPdQBSM9atW4fExERMnjwZx48fh4mJCfr3748zZ858tseEkLKoq6uLixANDQ1oaGhAXV29zC9pkZycjKVLl8LOzg5Tp07F//73P4SEhGDFihU4cuSIVExgHzVqFJYsWQKhUMh1lEqLjIxEx44dxbf37duHNm3aYPPmzZg4cSJWr16NAwcOcJiQVDfqIamnXrx4gcDAQOzcuRNCoRDR0dFSM+ZPaoeioiIsX74cx44dQ0FBATw8PDB79mwIBAKuo1XKkSNHsH37dpw5cwZ2dnbw9/fHgAEDxFeaBYCnT5/C1tYWBQUF3AWtgD59+iAkJAQqKipwcHAotXqoNvdWKSoqIi4uTrwZWvv27dG1a1f8/vvvAIDnz5/DwcEBmZmZXMYk1aj2D4ySasHn88Hj8cAYq7Uz70nttnDhQsyePRuenp4QCARYvXo1UlJSpG5vHl9fX/zwww8IDw9H69atyzzG0NBQ/IexNtPQ0EDfvn25jvFFGjRogPj4eJiYmKCgoAB37tzBnDlzxPdnZmZCTk6Ow4SkulEPST2Sn5+PI0eOYNu2bbhy5Qp69OgBX19feHl5ibeYJqSirK2t8euvv2LYsGEAildydO/eHbm5uVL1+5STk1Pr54aURyQSYdmyZVLdWzVixAhERkZiyZIlCA4Oxo4dO/DmzRvIy8sDKF51ExAQgJs3b3KclFQX6XnXIF9l5MiRMDAwwOLFi9GjRw+8fPkSBw8eRLdu3aTqjwepPRISEtCtWzfxbU9PT/HGaNJEVVUVb9++LdX+/v37z178sDZZsGABfvvtN6ioqMDIyAirV6/GqFGjuI5VKfPmzYOsrCxcXV2xefNmbN68WVyMAMC2bdvQuXNnDhOS6kY9JPUEn8+HqakpmjdvXudWRBBuyMjIICkpSWI3TVVVVURFRZW50VVtVdZmYgDw5s0bWFpaIjc3l6NkFVdXeqsAID09HSoqKqWKwdTUVKioqEgUKaRuoTkk9YSPj0+FrjBLSEUxxjBo0CCJfSHy8vIwfPhwicmUtbXILdmunMfjYcuWLRKTuouKihAWFgYbGxuu4lXK53qrpO3quJ9amUXbFNR91ENCCPkivr6+FTpu+/bt1Zzky5T04rx48QLGxsYSn8jl5eXRsGFDzJ07F9988w1XESusrvRWkfqNChJCSL3m7u6OI0eOQFNTk+soX4zP56Nr164SvVXHjx+Hh4eHVPRWEQJQQUIIqecePHiAJk2alHlfcHCwVGyIJu29VYQAVJAQQuo5IyMjXLlypdTQxuHDh+Hj44Ps7GyOkhFSv0jX9GtCCKli/v7+8PT0RFJSkrht//798PHxQWBgIHfBCKlnqIeEEFLvjRkzBhcvXkRYWBhOnz4Nf39/7Nq1S2p3PSVEGlFBQgghALy9vXHz5k28fv0ae/bsQe/evbmOREi9QgUJIaTeOXbsWKm2wsJCTJgwAZ07d0avXr3E7R//mxBSfaggIYTUOxXdvZTH49HFJwmpIVSQEEIIIYRztMqGEEIIIZyja9kQQuq1uXPnfvb+mTNn1lASQuo3GrIhhNRrzZs3l7hdWFiI+Ph4yMrKwtLSEnfu3OEoGSH1C/WQEELqtbt375Zqy8jIwKBBg9CnTx8OEhFSP1EPCSGElOH+/fvo2bMnnj9/znUUQuoFmtRKCCFlSE9PR3p6OtcxCKk3aMiGEFKvrV69WuI2YwyJiYnYtWsXunbtylEqQuofGrIhhNRr/73KL5/Ph66uLjw8PDBt2jSoqqpylIyQ+oUKEkIIIYRwjuaQEEIIIYRzNIeEEFLvfPfddxU+9siRI9WYhBBSgnpICCH1jrq6uvhLTU0NISEhuHXrlvj+27dvIyQkBOrq6hymJKR+oTkkhJB6bcqUKUhNTcWGDRsgIyMDACgqKsLIkSOhpqaGZcuWcZyQkPqBChJCSL2mq6uLK1euoHHjxhLtsbGxcHJywvv37zlKRkj9QkM2hJB6TSgUIiYmplR7TEwMRCIRB4kIqZ9oUishpF7z9fXF4MGD8fTpU7Rp0wYAEBERgcWLF8PX15fjdITUHzRkQwip10QiEZYvX44//vgDiYmJAAADAwOMGzcOv/zyi3heCSGkelFBQggh/8jIyAAAqKmpcZyEkPqHhmwIIQRASkoKYmNjAQA2NjbQ0dHhOBEh9QtNaiWE1GvZ2dnw8/ODgYEBXFxc4OLiAgMDAwwePBg5OTlcxyOk3qCChBBSr02cOBGXLl3C8ePHkZaWhrS0NBw9ehSXLl3CL7/8wnU8QuoNmkNCCKnXdHR0cOjQIbi5uUm0X7x4Ef3790dKSgo3wQipZ6iHhBBSr+Xk5KBBgwal2vX09GjIhpAaRD0khJB6rWPHjtDW1sbOnTuhqKgIAMjNzcXAgQORmpqK8+fPc5yQkPqBChJCSL12//59eHl5IT8/H46OjgCAyMhIKCoq4syZM7C3t+c4ISH1AxUkhJB6LycnB0FBQeIt5G1tbeHt7Q2BQMBxMkLqDypICCH1VmFhIWxsbHDixAnY2tpyHYeQeo0mtRJC6i05OTnk5eVxHYMQAipICCH13KhRo7BkyRIIhUKuoxBSr9GQDSGkXuvTpw9CQkKgoqICBwcHKCsrS9x/5MgRjpIRUr/QtWwIIfWahoYG+vbty3UMQuo96iEhhBBCCOdoDgkhpF4SiURYsmQJnJ2d0bp1a0ydOhW5ublcxyKk3qKChBBSLy1YsAC//fYbVFRUYGRkhD/++AOjRo3iOhYh9RYN2RBC6iVra2v8+uuvGDZsGADg/Pnz6N69O3Jzc8Hn02c1QmoaFSSEkHpJQUEBT548gYmJibhNUVERT548gbGxMYfJCKmf6GMAIaReEgqF4ovplZCTk0NhYSFHiQip32jZLyGkXmKMYdCgQVBQUBC35eXlYfjw4RJ7kdA+JITUDCpICCH10sCBA0u1DRgwgIMkhBCA5pAQQgghpBagOSSEEEII4RwVJIQQQgjhHBUkhBBCCOEcFSSEEEII4RwVJIQQQgjhHBUkhBBCCOEcFSSESKHZs2ejWbNmXMcghJAqQwUJIeSr0XbrhJCvRQUJIRwRiURYunQprKysoKCgAFNTUyxYsAAAMGXKFDRq1AhKSkqwsLDAjBkzxH/0AwMDMWfOHERGRoLH44HH4yEwMBAAkJaWBn9/f+jq6kJNTQ0eHh6IjIyU+L7z58+Hnp4eVFVV4e/vj6lTp0r0tohEIsydOxfGxsZQUFBAs2bNcPr0afH9z58/B4/Hw/79++Hq6gpFRUVs2rQJampqOHTokMT3Cg4OhrKyMjIzM6vh/yAhpC6hreMJ4ci0adOwefNmrFq1Cu3bt0diYiJiYmIAAKqqqggMDIShoSHu37+PIUOGQFVVFZMnT8b333+PBw8e4PTp0zh//jwAQF1dHQDQr18/CAQCnDp1Curq6ti4cSM6duyIx48fQ0tLC0FBQViwYAH+/PNPODs7Y9++fVixYgXMzc3Fuf744w+sWLECGzduRPPmzbFt2zb06tUL0dHRsLa2Fh83depUrFixAs2bN4eioiIiIyOxfft2/O9//xMfU3JbVVW1Jv6XEkKkGSOE1LiMjAymoKDANm/eXKHjly1bxlq2bCm+PWvWLObo6ChxzOXLl5mamhrLy8uTaLe0tGQbN25kjDH2zTffsFGjRknc7+zsLPFchoaGbMGCBRLHtG7dmo0cOZIxxlh8fDwDwAICAiSOiYiIYDIyMuzNmzeMMcaSk5OZrKwsCw0NrdA5EkLqNxqyIYQDjx49Qn5+Pjp27Fjm/fv374ezszP09fWhoqKC6dOnIyEh4bPPGRkZiaysLGhra0NFRUX8FR8fj6dPnwIAYmNj0aZNG4nHfXw7IyMDb968gbOzs8Qxzs7OePTokURbq1atSj2Pvb09duzYAQDYvXs3zMzM4OLi8tnchBAC0JANIZwQCASfvO/atWvw9vbGnDlz0KVLF6irq4uHVj4nKysLBgYGCA0NLXWfhobGVyYuTVlZuVSbv78/1q1bh6lTp2L79u3w9fUFj8er8u9NCKl7qIeEEA5YW1tDIBAgJCSk1H1Xr16FmZkZfv/9d7Rq1QrW1tZ48eKFxDHy8vIoKiqSaGvRogWSkpIgKysLKysriS8dHR0AQOPGjXHz5k2Jx318W01NDYaGhggPD5c4Jjw8HHZ2duWe14ABA/DixQusXr0aDx8+xMCBA8t9DCGEANRDQggnFBUVMWXKFEyePBny8vJwdnZGSkqKeOJoQkIC9u3bh9atW+Pvv//GX3/9JfH4hg0bIj4+Hvfu3YOxsTFUVVXh6emJdu3a4dtvv8XSpUvRqFEjvHnzBn///Tf69OmDVq1aYcyYMRgyZAhatWoFJycn7N+/H1FRUbCwsBA/96RJkzBr1ixYWlqiWbNm2L59O+7du4egoKByz0tTUxPfffcdJk2ahM6dO8PY2LjK/98RQuooriexEFJfFRUVsfnz5zMzMzMmJyfHTE1N2cKFCxljjE2aNIlpa2szFRUV9v3337NVq1YxdXV18WPz8vJY3759mYaGBgPAtm/fzhgrniw7ZswYZmhoyOTk5JiJiQnz9vZmCQkJ4sfOnTuX6ejoMBUVFebn58fGjh3L2rZtK5Fr9uzZzMjIiMnJyTFHR0d26tQp8f0lk1rv3r1b5nmFhIQwAOzAgQNV9z+LEFLn8RhjjOOaiBDCoU6dOkFfXx+7du2qkufbtWsXJkyYgDdv3kBeXr5KnpMQUvfRkA0h9UhOTg42bNiALl26QEZGBnv37sX58+dx7ty5KnnuxMRELF68GMOGDaNihBBSKTSplZB6hMfj4eTJk3BxcUHLli1x/PhxHD58GJ6enl/93EuXLoWNjQ309fUxbdq0KkhLCKlPaMiGEEIIIZyjHhJCCCGEcI4KEkIIIYRwjgoSQgghhHCOChJCCCGEcI4KEkIIIYRwjgoSQgghhHCOChJCCCGEcI4KEkIIIYRw7v/31ZUlN5v/hgAAAABJRU5ErkJggg==",
      "text/plain": [
       "<Figure size 640x480 with 2 Axes>"
      ]
     },
     "metadata": {},
     "output_type": "display_data"
    }
   ],
   "source": [
    "pivot = merged_df.pivot_table(index='city', columns='category', values='transaction_id', aggfunc='count')\n",
    "import seaborn as sns\n",
    "sns.heatmap(pivot, cmap='Blues', annot=True, fmt='g')\n"
   ]
  },
  {
   "cell_type": "code",
   "execution_count": 32,
   "metadata": {},
   "outputs": [
    {
     "data": {
      "text/plain": [
       "gender\n",
       "Female    10.063883\n",
       "Male       9.918562\n",
       "Name: transaction_id, dtype: float64"
      ]
     },
     "execution_count": 32,
     "metadata": {},
     "output_type": "execute_result"
    }
   ],
   "source": [
    "transactions_per_person = merged_df.groupby(['gender', 'customer_id'])['transaction_id'].nunique().groupby('gender').mean()\n",
    "transactions_per_person\n"
   ]
  },
  {
   "cell_type": "code",
   "execution_count": 33,
   "metadata": {},
   "outputs": [
    {
     "data": {
      "text/html": [
       "<div>\n",
       "<style scoped>\n",
       "    .dataframe tbody tr th:only-of-type {\n",
       "        vertical-align: middle;\n",
       "    }\n",
       "\n",
       "    .dataframe tbody tr th {\n",
       "        vertical-align: top;\n",
       "    }\n",
       "\n",
       "    .dataframe thead th {\n",
       "        text-align: right;\n",
       "    }\n",
       "</style>\n",
       "<table border=\"1\" class=\"dataframe\">\n",
       "  <thead>\n",
       "    <tr style=\"text-align: right;\">\n",
       "      <th></th>\n",
       "      <th>category</th>\n",
       "      <th>product_name</th>\n",
       "      <th>price</th>\n",
       "    </tr>\n",
       "  </thead>\n",
       "  <tbody>\n",
       "    <tr>\n",
       "      <th>172</th>\n",
       "      <td>Alkohol</td>\n",
       "      <td>Produkt_173</td>\n",
       "      <td>29.65</td>\n",
       "    </tr>\n",
       "    <tr>\n",
       "      <th>114</th>\n",
       "      <td>Mrożonki</td>\n",
       "      <td>Produkt_115</td>\n",
       "      <td>28.35</td>\n",
       "    </tr>\n",
       "    <tr>\n",
       "      <th>19</th>\n",
       "      <td>Nabiał</td>\n",
       "      <td>Produkt_20</td>\n",
       "      <td>29.28</td>\n",
       "    </tr>\n",
       "    <tr>\n",
       "      <th>130</th>\n",
       "      <td>Napoje</td>\n",
       "      <td>Produkt_131</td>\n",
       "      <td>29.23</td>\n",
       "    </tr>\n",
       "    <tr>\n",
       "      <th>12</th>\n",
       "      <td>Pieczywo</td>\n",
       "      <td>Produkt_13</td>\n",
       "      <td>28.03</td>\n",
       "    </tr>\n",
       "    <tr>\n",
       "      <th>73</th>\n",
       "      <td>Produkty świeże</td>\n",
       "      <td>Produkt_74</td>\n",
       "      <td>29.88</td>\n",
       "    </tr>\n",
       "    <tr>\n",
       "      <th>58</th>\n",
       "      <td>Przekąski</td>\n",
       "      <td>Produkt_59</td>\n",
       "      <td>29.40</td>\n",
       "    </tr>\n",
       "    <tr>\n",
       "      <th>109</th>\n",
       "      <td>Słodycze</td>\n",
       "      <td>Produkt_110</td>\n",
       "      <td>25.63</td>\n",
       "    </tr>\n",
       "  </tbody>\n",
       "</table>\n",
       "</div>"
      ],
      "text/plain": [
       "            category product_name  price\n",
       "172          Alkohol  Produkt_173  29.65\n",
       "114         Mrożonki  Produkt_115  28.35\n",
       "19            Nabiał   Produkt_20  29.28\n",
       "130           Napoje  Produkt_131  29.23\n",
       "12          Pieczywo   Produkt_13  28.03\n",
       "73   Produkty świeże   Produkt_74  29.88\n",
       "58         Przekąski   Produkt_59  29.40\n",
       "109         Słodycze  Produkt_110  25.63"
      ]
     },
     "execution_count": 33,
     "metadata": {},
     "output_type": "execute_result"
    }
   ],
   "source": [
    "most_expensive_per_category = products.loc[products.groupby('category')['price'].idxmax()][['category', 'product_name', 'price']]\n",
    "most_expensive_per_category\n"
   ]
  },
  {
   "cell_type": "code",
   "execution_count": 34,
   "metadata": {},
   "outputs": [
    {
     "data": {
      "text/html": [
       "<div>\n",
       "<style scoped>\n",
       "    .dataframe tbody tr th:only-of-type {\n",
       "        vertical-align: middle;\n",
       "    }\n",
       "\n",
       "    .dataframe tbody tr th {\n",
       "        vertical-align: top;\n",
       "    }\n",
       "\n",
       "    .dataframe thead th {\n",
       "        text-align: right;\n",
       "    }\n",
       "</style>\n",
       "<table border=\"1\" class=\"dataframe\">\n",
       "  <thead>\n",
       "    <tr style=\"text-align: right;\">\n",
       "      <th></th>\n",
       "      <th>city</th>\n",
       "      <th>category</th>\n",
       "      <th>transaction_id</th>\n",
       "    </tr>\n",
       "  </thead>\n",
       "  <tbody>\n",
       "    <tr>\n",
       "      <th>2</th>\n",
       "      <td>Gdańsk</td>\n",
       "      <td>Nabiał</td>\n",
       "      <td>1208</td>\n",
       "    </tr>\n",
       "    <tr>\n",
       "      <th>10</th>\n",
       "      <td>Kraków</td>\n",
       "      <td>Nabiał</td>\n",
       "      <td>1752</td>\n",
       "    </tr>\n",
       "    <tr>\n",
       "      <th>18</th>\n",
       "      <td>Poznań</td>\n",
       "      <td>Nabiał</td>\n",
       "      <td>1166</td>\n",
       "    </tr>\n",
       "    <tr>\n",
       "      <th>26</th>\n",
       "      <td>Warszawa</td>\n",
       "      <td>Nabiał</td>\n",
       "      <td>2491</td>\n",
       "    </tr>\n",
       "    <tr>\n",
       "      <th>34</th>\n",
       "      <td>Wrocław</td>\n",
       "      <td>Nabiał</td>\n",
       "      <td>1680</td>\n",
       "    </tr>\n",
       "  </tbody>\n",
       "</table>\n",
       "</div>"
      ],
      "text/plain": [
       "        city category  transaction_id\n",
       "2     Gdańsk   Nabiał            1208\n",
       "10    Kraków   Nabiał            1752\n",
       "18    Poznań   Nabiał            1166\n",
       "26  Warszawa   Nabiał            2491\n",
       "34   Wrocław   Nabiał            1680"
      ]
     },
     "execution_count": 34,
     "metadata": {},
     "output_type": "execute_result"
    }
   ],
   "source": [
    "most_common_cat_per_city = merged_df.groupby(['city', 'category'])['transaction_id'].count().reset_index()\n",
    "most_common_cat_per_city = most_common_cat_per_city.loc[most_common_cat_per_city.groupby('city')['transaction_id'].idxmax()]\n",
    "most_common_cat_per_city\n"
   ]
  },
  {
   "cell_type": "code",
   "execution_count": 35,
   "metadata": {},
   "outputs": [
    {
     "data": {
      "text/plain": [
       "category\n",
       "Słodycze           2.522401\n",
       "Napoje             2.520673\n",
       "Pieczywo           2.513394\n",
       "Produkty świeże    2.510568\n",
       "Przekąski          2.507461\n",
       "Mrożonki           2.507396\n",
       "Nabiał             2.494637\n",
       "Alkohol            2.474643\n",
       "Name: quantity, dtype: float64"
      ]
     },
     "execution_count": 35,
     "metadata": {},
     "output_type": "execute_result"
    }
   ],
   "source": [
    "avg_qty_per_category = merged_df.groupby('category')['quantity'].mean().sort_values(ascending=False)\n",
    "avg_qty_per_category\n"
   ]
  },
  {
   "cell_type": "code",
   "execution_count": 36,
   "metadata": {},
   "outputs": [
    {
     "data": {
      "text/plain": [
       "category\n",
       "Alkohol            24\n",
       "Mrożonki           17\n",
       "Nabiał             33\n",
       "Napoje             20\n",
       "Pieczywo           21\n",
       "Produkty świeże    27\n",
       "Przekąski          30\n",
       "Słodycze           28\n",
       "Name: product_id, dtype: int64"
      ]
     },
     "execution_count": 36,
     "metadata": {},
     "output_type": "execute_result"
    }
   ],
   "source": [
    "unique_products_per_category = products.groupby('category')['product_id'].nunique()\n",
    "unique_products_per_category\n"
   ]
  },
  {
   "cell_type": "code",
   "execution_count": 37,
   "metadata": {},
   "outputs": [
    {
     "data": {
      "text/plain": [
       "0.3112284963441427"
      ]
     },
     "execution_count": 37,
     "metadata": {},
     "output_type": "execute_result"
    }
   ],
   "source": [
    "customer_sales = merged_df.groupby('customer_id')['total_sales'].sum().sort_values(ascending=False)\n",
    "top_20pct = int(0.2 * len(customer_sales))\n",
    "pareto_share = customer_sales.iloc[:top_20pct].sum() / customer_sales.sum()\n",
    "pareto_share\n"
   ]
  },
  {
   "cell_type": "code",
   "execution_count": 38,
   "metadata": {},
   "outputs": [
    {
     "data": {
      "text/plain": [
       "<Axes: title={'center': 'Szczyt sprzedaży - Mrożonki'}, xlabel='purchase_date'>"
      ]
     },
     "execution_count": 38,
     "metadata": {},
     "output_type": "execute_result"
    },
    {
     "data": {
      "image/png": "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",
      "text/plain": [
       "<Figure size 640x480 with 1 Axes>"
      ]
     },
     "metadata": {},
     "output_type": "display_data"
    }
   ],
   "source": [
    "frozen = merged_df[merged_df['category'] == 'Mrożonki']\n",
    "monthly_frozen_sales = frozen.groupby(frozen['purchase_date'].dt.month)['total_sales'].sum()\n",
    "monthly_frozen_sales.plot(kind='bar', title='Szczyt sprzedaży - Mrożonki')\n"
>>>>>>> 3e33d9f4271a6d4516832f959420794e74c8bfb7
   ]
  },
  {
   "cell_type": "code",
   "execution_count": null,
   "metadata": {},
   "outputs": [],
   "source": []
  }
 ],
 "metadata": {
  "kernelspec": {
   "display_name": "Python 3",
   "language": "python",
   "name": "python3"
  },
  "language_info": {
   "codemirror_mode": {
    "name": "ipython",
    "version": 3
   },
   "file_extension": ".py",
   "mimetype": "text/x-python",
   "name": "python",
   "nbconvert_exporter": "python",
   "pygments_lexer": "ipython3",
<<<<<<< HEAD
   "version": "3.11.1"
=======
   "version": "3.11.3"
>>>>>>> 3e33d9f4271a6d4516832f959420794e74c8bfb7
  }
 },
 "nbformat": 4,
 "nbformat_minor": 2
}
