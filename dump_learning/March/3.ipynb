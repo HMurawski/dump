{
 "cells": [
  {
   "cell_type": "code",
   "execution_count": 2,
   "metadata": {},
   "outputs": [],
   "source": [
    "import pandas as pd\n",
    "import numpy as np\n",
    "\n",
    "\n",
    "num_transactions = 50_000\n",
    "num_customers = 5_000\n",
    "num_products = 200\n",
    "\n",
    "\n",
    "customers = pd.DataFrame({\n",
    "    'customer_id': range(1, num_customers + 1),\n",
    "    'age': np.random.randint(18, 70, num_customers),\n",
    "    'gender': np.random.choice(['Male', 'Female'], num_customers, p=[0.45, 0.55]),\n",
    "    'city': np.random.choice(['Warszawa', 'Kraków', 'Wrocław', 'Poznań', 'Gdańsk'], num_customers, p=[0.3, 0.2, 0.2, 0.15, 0.15])\n",
    "})\n",
    "\n",
    "\n",
    "categories = ['Napoje', 'Przekąski', 'Alkohol', 'Produkty świeże', 'Nabiał', 'Pieczywo', 'Słodycze', 'Mrożonki']\n",
    "products = pd.DataFrame({\n",
    "    'product_id': range(1, num_products + 1),\n",
    "    'category': np.random.choice(categories, num_products),\n",
    "    'product_name': [f'Produkt_{i}' for i in range(1, num_products + 1)],\n",
    "    'price': np.round(np.random.uniform(1.5, 30, num_products), 2)\n",
    "})\n",
    "\n",
    "\n",
    "transactions = pd.DataFrame({\n",
    "    'transaction_id': range(1, num_transactions + 1),\n",
    "    'customer_id': np.random.choice(customers['customer_id'], num_transactions),\n",
    "    'product_id': np.random.choice(products['product_id'], num_transactions),\n",
    "    'quantity': np.random.randint(1, 5, num_transactions),\n",
    "    'purchase_date': pd.to_datetime(np.random.choice(pd.date_range('2024-01-01', '2024-12-31'), num_transactions))\n",
    "})\n",
    "\n",
    "\n",
    "merged_df = transactions.merge(customers, on='customer_id').merge(products, on='product_id')\n"
   ]
  },
  {
   "cell_type": "code",
   "execution_count": null,
   "metadata": {},
   "outputs": [],
   "source": []
  }
 ],
 "metadata": {
  "kernelspec": {
   "display_name": "Python 3",
   "language": "python",
   "name": "python3"
  },
  "language_info": {
   "codemirror_mode": {
    "name": "ipython",
    "version": 3
   },
   "file_extension": ".py",
   "mimetype": "text/x-python",
   "name": "python",
   "nbconvert_exporter": "python",
   "pygments_lexer": "ipython3",
   "version": "3.11.3"
  }
 },
 "nbformat": 4,
 "nbformat_minor": 2
}
