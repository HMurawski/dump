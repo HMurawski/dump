{
 "cells": [
  {
   "cell_type": "code",
   "execution_count": 22,
   "metadata": {},
   "outputs": [],
   "source": [
    "import pandas as pd\n",
    "import numpy as np\n",
    "import matplotlib.pyplot as plt\n",
    "\n",
    "\n",
    "num_transactions = 50_000\n",
    "num_customers = 5_000\n",
    "num_products = 200\n",
    "\n",
    "\n",
    "customers = pd.DataFrame({\n",
    "    'customer_id': range(1, num_customers + 1),\n",
    "    'age': np.random.randint(18, 70, num_customers),\n",
    "    'gender': np.random.choice(['Male', 'Female'], num_customers, p=[0.45, 0.55]),\n",
    "    'city': np.random.choice(['Warszawa', 'Kraków', 'Wrocław', 'Poznań', 'Gdańsk'], num_customers, p=[0.3, 0.2, 0.2, 0.15, 0.15])\n",
    "})\n",
    "\n",
    "\n",
    "categories = ['Napoje', 'Przekąski', 'Alkohol', 'Produkty świeże', 'Nabiał', 'Pieczywo', 'Słodycze', 'Mrożonki']\n",
    "products = pd.DataFrame({\n",
    "    'product_id': range(1, num_products + 1),\n",
    "    'category': np.random.choice(categories, num_products),\n",
    "    'product_name': [f'Produkt_{i}' for i in range(1, num_products + 1)],\n",
    "    'price': np.round(np.random.uniform(1.5, 30, num_products), 2)\n",
    "})\n",
    "\n",
    "\n",
    "transactions = pd.DataFrame({\n",
    "    'transaction_id': range(1, num_transactions + 1),\n",
    "    'customer_id': np.random.choice(customers['customer_id'], num_transactions),\n",
    "    'product_id': np.random.choice(products['product_id'], num_transactions),\n",
    "    'quantity': np.random.randint(1, 5, num_transactions),\n",
    "    'purchase_date': pd.to_datetime(np.random.choice(pd.date_range('2024-01-01', '2024-12-31'), num_transactions))\n",
    "})\n",
    "\n",
    "\n",
    "merged_df = transactions.merge(customers, on='customer_id').merge(products, on='product_id')\n"
   ]
  },
  {
   "cell_type": "code",
   "execution_count": 23,
   "metadata": {},
   "outputs": [
    {
     "data": {
      "text/plain": [
       "month\n",
       "1     4256\n",
       "2     4051\n",
       "3     4265\n",
       "4     3996\n",
       "5     4213\n",
       "6     4131\n",
       "7     4177\n",
       "8     4172\n",
       "9     4241\n",
       "10    4208\n",
       "11    4038\n",
       "12    4252\n",
       "Name: transaction_id, dtype: int64"
      ]
     },
     "execution_count": 23,
     "metadata": {},
     "output_type": "execute_result"
    }
   ],
   "source": [
    "transactions['month'] = transactions['purchase_date'].dt.month\n",
    "transactions_per_month = transactions.groupby('month')['transaction_id'].count().sort_index()\n",
    "transactions_per_month\n"
   ]
  },
  {
   "cell_type": "code",
   "execution_count": 24,
   "metadata": {},
   "outputs": [
    {
     "data": {
      "text/plain": [
       "category\n",
       "Słodycze           327068.00\n",
       "Alkohol            324818.52\n",
       "Napoje             297578.79\n",
       "Produkty świeże    248159.85\n",
       "Nabiał             213453.40\n",
       "Przekąski          196082.37\n",
       "Pieczywo           193509.65\n",
       "Mrożonki           186973.45\n",
       "Name: total_sales, dtype: float64"
      ]
     },
     "execution_count": 24,
     "metadata": {},
     "output_type": "execute_result"
    }
   ],
   "source": [
    "merged_df['total_sales'] = merged_df['quantity'] * merged_df['price']\n",
    "sales_per_category = merged_df.groupby('category')['total_sales'].sum().sort_values(ascending=False)\n",
    "sales_per_category\n"
   ]
  },
  {
   "cell_type": "code",
   "execution_count": 25,
   "metadata": {},
   "outputs": [
    {
     "data": {
      "text/plain": [
       "39.7528806"
      ]
     },
     "execution_count": 25,
     "metadata": {},
     "output_type": "execute_result"
    }
   ],
   "source": [
    "avg_cart_value = merged_df.groupby('transaction_id')['total_sales'].sum().mean()\n",
    "avg_cart_value\n"
   ]
  },
  {
   "cell_type": "code",
   "execution_count": 26,
   "metadata": {},
   "outputs": [
    {
     "data": {
      "text/plain": [
       "'Produkt_150'"
      ]
     },
     "execution_count": 26,
     "metadata": {},
     "output_type": "execute_result"
    }
   ],
   "source": [
    "best_selling_product = merged_df.groupby('product_name')['quantity'].sum().idxmax()\n",
    "best_selling_product\n"
   ]
  },
  {
   "cell_type": "code",
   "execution_count": 27,
   "metadata": {},
   "outputs": [
    {
     "data": {
      "text/plain": [
       "2.50264"
      ]
     },
     "execution_count": 27,
     "metadata": {},
     "output_type": "execute_result"
    }
   ],
   "source": [
    "avg_quantity_per_transaction = merged_df.groupby('transaction_id')['quantity'].sum().mean()\n",
    "avg_quantity_per_transaction\n"
   ]
  },
  {
   "cell_type": "code",
   "execution_count": 28,
   "metadata": {},
   "outputs": [
    {
     "data": {
      "text/plain": [
       "city\n",
       "Warszawa    589096.65\n",
       "Wrocław     400017.04\n",
       "Kraków      375606.62\n",
       "Gdańsk      315358.84\n",
       "Poznań      307564.88\n",
       "Name: total_sales, dtype: float64"
      ]
     },
     "execution_count": 28,
     "metadata": {},
     "output_type": "execute_result"
    }
   ],
   "source": [
    "sales_per_city = merged_df.groupby('city')['total_sales'].sum().sort_values(ascending=False)\n",
    "sales_per_city\n"
   ]
  },
  {
   "cell_type": "code",
   "execution_count": 29,
   "metadata": {},
   "outputs": [
    {
     "data": {
      "text/plain": [
       "gender\n",
       "Female    1101232.25\n",
       "Male       886411.78\n",
       "Name: total_sales, dtype: float64"
      ]
     },
     "execution_count": 29,
     "metadata": {},
     "output_type": "execute_result"
    }
   ],
   "source": [
    "sales_per_gender = merged_df.groupby('gender')['total_sales'].sum()\n",
    "sales_per_gender\n"
   ]
  },
  {
   "cell_type": "code",
   "execution_count": 30,
   "metadata": {},
   "outputs": [
    {
     "data": {
      "text/plain": [
       "product_name\n",
       "Produkt_21     293\n",
       "Produkt_150    286\n",
       "Produkt_165    285\n",
       "Name: count, dtype: int64"
      ]
     },
     "execution_count": 30,
     "metadata": {},
     "output_type": "execute_result"
    }
   ],
   "source": [
    "top_3_products = merged_df['product_name'].value_counts().head(3)\n",
    "top_3_products\n"
   ]
  },
  {
   "cell_type": "code",
   "execution_count": 31,
   "metadata": {},
   "outputs": [
    {
     "data": {
      "text/plain": [
       "category\n",
       "Słodycze           16.883226\n",
       "Napoje             16.782857\n",
       "Mrożonki           16.443684\n",
       "Pieczywo           16.380526\n",
       "Alkohol            16.322500\n",
       "Produkty świeże    15.889600\n",
       "Nabiał             15.395909\n",
       "Przekąski          13.072083\n",
       "Name: price, dtype: float64"
      ]
     },
     "execution_count": 31,
     "metadata": {},
     "output_type": "execute_result"
    }
   ],
   "source": [
    "avg_price_per_category = products.groupby('category')['price'].mean().sort_values(ascending=False)\n",
    "avg_price_per_category\n"
   ]
  },
  {
   "cell_type": "code",
   "execution_count": 32,
   "metadata": {},
   "outputs": [
    {
     "data": {
      "text/plain": [
       "day_of_week\n",
       "Tuesday      7277\n",
       "Saturday     7270\n",
       "Thursday     7180\n",
       "Wednesday    7147\n",
       "Monday       7137\n",
       "Sunday       7043\n",
       "Friday       6946\n",
       "Name: count, dtype: int64"
      ]
     },
     "execution_count": 32,
     "metadata": {},
     "output_type": "execute_result"
    }
   ],
   "source": [
    "merged_df['day_of_week'] = merged_df['purchase_date'].dt.day_name()\n",
    "transactions_per_day = merged_df['day_of_week'].value_counts()\n",
    "transactions_per_day\n"
   ]
  },
  {
   "cell_type": "code",
   "execution_count": 33,
   "metadata": {},
   "outputs": [
    {
     "data": {
      "text/plain": [
       "customer_id\n",
       "2184    1049.44\n",
       "4139    1041.68\n",
       "4981     977.25\n",
       "2083     965.08\n",
       "2475     950.41\n",
       "Name: total_sales, dtype: float64"
      ]
     },
     "execution_count": 33,
     "metadata": {},
     "output_type": "execute_result"
    }
   ],
   "source": [
    "top_customers = merged_df.groupby('customer_id')['total_sales'].sum().nlargest(5)\n",
    "top_customers\n"
   ]
  },
  {
   "cell_type": "code",
   "execution_count": 34,
   "metadata": {},
   "outputs": [
    {
     "data": {
      "text/plain": [
       "10.0"
      ]
     },
     "execution_count": 34,
     "metadata": {},
     "output_type": "execute_result"
    }
   ],
   "source": [
    "avg_transactions_per_customer = merged_df.groupby('customer_id')['transaction_id'].nunique().mean()\n",
    "avg_transactions_per_customer\n"
   ]
  },
  {
   "cell_type": "code",
   "execution_count": 35,
   "metadata": {},
   "outputs": [
    {
     "data": {
      "image/png": "[encoded data removed]",
      "text/plain": [
       "<Figure size 640x480 with 1 Axes>"
      ]
     },
     "metadata": {},
     "output_type": "display_data"
    }
   ],
   "source": [
    "\n",
    "\n",
    "plt.hist(customers['age'], bins=10, edgecolor='black')\n",
    "plt.xlabel('Wiek')\n",
    "plt.ylabel('Liczba klientów')\n",
    "plt.title('Rozkład wieku klientów')\n",
    "plt.show()\n"
   ]
  },
  {
   "cell_type": "code",
   "execution_count": 36,
   "metadata": {},
   "outputs": [
    {
     "data": {
      "text/plain": [
       "<Axes: title={'center': 'Średnia wartość transakcji w miesiącach'}, xlabel='purchase_date'>"
      ]
     },
     "execution_count": 36,
     "metadata": {},
     "output_type": "execute_result"
    },
    {
     "data": {
      "image/png": "[encoded data removed]",
      "text/plain": [
       "<Figure size 1000x500 with 1 Axes>"
      ]
     },
     "metadata": {},
     "output_type": "display_data"
    }
   ],
   "source": [
    "avg_sales_per_month = merged_df.groupby(merged_df['purchase_date'].dt.month)['total_sales'].mean()\n",
    "avg_sales_per_month.plot(kind='bar', figsize=(10,5), title='Średnia wartość transakcji w miesiącach')\n"
   ]
  },
  {
   "cell_type": "code",
   "execution_count": 37,
   "metadata": {},
   "outputs": [
    {
     "data": {
      "text/html": [
       "<div>\n",
       "<style scoped>\n",
       "    .dataframe tbody tr th:only-of-type {\n",
       "        vertical-align: middle;\n",
       "    }\n",
       "\n",
       "    .dataframe tbody tr th {\n",
       "        vertical-align: top;\n",
       "    }\n",
       "\n",
       "    .dataframe thead th {\n",
       "        text-align: right;\n",
       "    }\n",
       "</style>\n",
       "<table border=\"1\" class=\"dataframe\">\n",
       "  <thead>\n",
       "    <tr style=\"text-align: right;\">\n",
       "      <th></th>\n",
       "      <th>gender</th>\n",
       "      <th>category</th>\n",
       "      <th>transaction_id</th>\n",
       "    </tr>\n",
       "  </thead>\n",
       "  <tbody>\n",
       "    <tr>\n",
       "      <th>0</th>\n",
       "      <td>Female</td>\n",
       "      <td>Alkohol</td>\n",
       "      <td>4459</td>\n",
       "    </tr>\n",
       "    <tr>\n",
       "      <th>8</th>\n",
       "      <td>Male</td>\n",
       "      <td>Alkohol</td>\n",
       "      <td>3533</td>\n",
       "    </tr>\n",
       "  </tbody>\n",
       "</table>\n",
       "</div>"
      ],
      "text/plain": [
       "   gender category  transaction_id\n",
       "0  Female  Alkohol            4459\n",
       "8    Male  Alkohol            3533"
      ]
     },
     "execution_count": 37,
     "metadata": {},
     "output_type": "execute_result"
    }
   ],
   "source": [
    "popular_category_by_gender = merged_df.groupby(['gender', 'category'])['transaction_id'].count().reset_index()\n",
    "popular_category_by_gender = popular_category_by_gender.loc[popular_category_by_gender.groupby('gender')['transaction_id'].idxmax()]\n",
    "popular_category_by_gender\n"
   ]
  },
  {
   "cell_type": "code",
   "execution_count": 38,
   "metadata": {},
   "outputs": [
    {
     "data": {
      "text/plain": [
       "1.0"
      ]
     },
     "execution_count": 38,
     "metadata": {},
     "output_type": "execute_result"
    }
   ],
   "source": [
    "avg_products_per_transaction = merged_df.groupby('transaction_id')['product_id'].nunique().mean()\n",
    "avg_products_per_transaction\n"
   ]
  },
  {
   "cell_type": "code",
   "execution_count": 39,
   "metadata": {},
   "outputs": [
    {
     "data": {
      "text/html": [
       "<div>\n",
       "<style scoped>\n",
       "    .dataframe tbody tr th:only-of-type {\n",
       "        vertical-align: middle;\n",
       "    }\n",
       "\n",
       "    .dataframe tbody tr th {\n",
       "        vertical-align: top;\n",
       "    }\n",
       "\n",
       "    .dataframe thead th {\n",
       "        text-align: right;\n",
       "    }\n",
       "</style>\n",
       "<table border=\"1\" class=\"dataframe\">\n",
       "  <thead>\n",
       "    <tr style=\"text-align: right;\">\n",
       "      <th></th>\n",
       "      <th>transaction_id</th>\n",
       "      <th>total_sales</th>\n",
       "    </tr>\n",
       "  </thead>\n",
       "  <tbody>\n",
       "    <tr>\n",
       "      <th>transaction_id</th>\n",
       "      <td>1.000000</td>\n",
       "      <td>0.797203</td>\n",
       "    </tr>\n",
       "    <tr>\n",
       "      <th>total_sales</th>\n",
       "      <td>0.797203</td>\n",
       "      <td>1.000000</td>\n",
       "    </tr>\n",
       "  </tbody>\n",
       "</table>\n",
       "</div>"
      ],
      "text/plain": [
       "                transaction_id  total_sales\n",
       "transaction_id        1.000000     0.797203\n",
       "total_sales           0.797203     1.000000"
      ]
     },
     "execution_count": 39,
     "metadata": {},
     "output_type": "execute_result"
    }
   ],
   "source": [
    "customer_loyalty = merged_df.groupby('customer_id').agg({'transaction_id': 'count', 'total_sales': 'sum'})\n",
    "customer_loyalty.corr()\n"
   ]
  },
  {
   "cell_type": "code",
   "execution_count": 40,
   "metadata": {},
   "outputs": [
    {
     "data": {
      "text/plain": [
       "purchase_date\n",
       "Tuesday      289503.69\n",
       "Saturday     289140.25\n",
       "Monday       287693.54\n",
       "Thursday     286248.49\n",
       "Sunday       281060.31\n",
       "Wednesday    280170.48\n",
       "Friday       273827.27\n",
       "Name: total_sales, dtype: float64"
      ]
     },
     "execution_count": 40,
     "metadata": {},
     "output_type": "execute_result"
    }
   ],
   "source": [
    "sales_per_day = merged_df.groupby(merged_df['purchase_date'].dt.day_name())['total_sales'].sum().sort_values(ascending=False)\n",
    "sales_per_day\n"
   ]
  },
  {
   "cell_type": "code",
   "execution_count": 41,
   "metadata": {},
   "outputs": [
    {
     "data": {
      "text/html": [
       "<div>\n",
       "<style scoped>\n",
       "    .dataframe tbody tr th:only-of-type {\n",
       "        vertical-align: middle;\n",
       "    }\n",
       "\n",
       "    .dataframe tbody tr th {\n",
       "        vertical-align: top;\n",
       "    }\n",
       "\n",
       "    .dataframe thead th {\n",
       "        text-align: right;\n",
       "    }\n",
       "</style>\n",
       "<table border=\"1\" class=\"dataframe\">\n",
       "  <thead>\n",
       "    <tr style=\"text-align: right;\">\n",
       "      <th>category</th>\n",
       "      <th>Alkohol</th>\n",
       "      <th>Mrożonki</th>\n",
       "      <th>Nabiał</th>\n",
       "      <th>Napoje</th>\n",
       "      <th>Pieczywo</th>\n",
       "      <th>Produkty świeże</th>\n",
       "      <th>Przekąski</th>\n",
       "      <th>Słodycze</th>\n",
       "    </tr>\n",
       "    <tr>\n",
       "      <th>city</th>\n",
       "      <th></th>\n",
       "      <th></th>\n",
       "      <th></th>\n",
       "      <th></th>\n",
       "      <th></th>\n",
       "      <th></th>\n",
       "      <th></th>\n",
       "      <th></th>\n",
       "    </tr>\n",
       "  </thead>\n",
       "  <tbody>\n",
       "    <tr>\n",
       "      <th>Gdańsk</th>\n",
       "      <td>53383.60</td>\n",
       "      <td>27749.41</td>\n",
       "      <td>34556.67</td>\n",
       "      <td>46102.47</td>\n",
       "      <td>31343.69</td>\n",
       "      <td>39737.98</td>\n",
       "      <td>30521.21</td>\n",
       "      <td>51963.81</td>\n",
       "    </tr>\n",
       "    <tr>\n",
       "      <th>Kraków</th>\n",
       "      <td>59256.07</td>\n",
       "      <td>36052.78</td>\n",
       "      <td>39129.81</td>\n",
       "      <td>57157.97</td>\n",
       "      <td>38427.99</td>\n",
       "      <td>46424.72</td>\n",
       "      <td>37243.81</td>\n",
       "      <td>61913.47</td>\n",
       "    </tr>\n",
       "    <tr>\n",
       "      <th>Poznań</th>\n",
       "      <td>49043.08</td>\n",
       "      <td>28576.19</td>\n",
       "      <td>35432.98</td>\n",
       "      <td>44502.42</td>\n",
       "      <td>30513.69</td>\n",
       "      <td>39341.86</td>\n",
       "      <td>30329.30</td>\n",
       "      <td>49825.36</td>\n",
       "    </tr>\n",
       "    <tr>\n",
       "      <th>Warszawa</th>\n",
       "      <td>97935.90</td>\n",
       "      <td>57226.36</td>\n",
       "      <td>59565.21</td>\n",
       "      <td>88379.87</td>\n",
       "      <td>55214.42</td>\n",
       "      <td>73257.16</td>\n",
       "      <td>59373.24</td>\n",
       "      <td>98144.49</td>\n",
       "    </tr>\n",
       "    <tr>\n",
       "      <th>Wrocław</th>\n",
       "      <td>65199.87</td>\n",
       "      <td>37368.71</td>\n",
       "      <td>44768.73</td>\n",
       "      <td>61436.06</td>\n",
       "      <td>38009.86</td>\n",
       "      <td>49398.13</td>\n",
       "      <td>38614.81</td>\n",
       "      <td>65220.87</td>\n",
       "    </tr>\n",
       "  </tbody>\n",
       "</table>\n",
       "</div>"
      ],
      "text/plain": [
       "category   Alkohol  Mrożonki    Nabiał    Napoje  Pieczywo  Produkty świeże  \\\n",
       "city                                                                          \n",
       "Gdańsk    53383.60  27749.41  34556.67  46102.47  31343.69         39737.98   \n",
       "Kraków    59256.07  36052.78  39129.81  57157.97  38427.99         46424.72   \n",
       "Poznań    49043.08  28576.19  35432.98  44502.42  30513.69         39341.86   \n",
       "Warszawa  97935.90  57226.36  59565.21  88379.87  55214.42         73257.16   \n",
       "Wrocław   65199.87  37368.71  44768.73  61436.06  38009.86         49398.13   \n",
       "\n",
       "category  Przekąski  Słodycze  \n",
       "city                           \n",
       "Gdańsk     30521.21  51963.81  \n",
       "Kraków     37243.81  61913.47  \n",
       "Poznań     30329.30  49825.36  \n",
       "Warszawa   59373.24  98144.49  \n",
       "Wrocław    38614.81  65220.87  "
      ]
     },
     "execution_count": 41,
     "metadata": {},
     "output_type": "execute_result"
    }
   ],
   "source": [
    "sales_pivot = merged_df.pivot_table(index='city', columns='category', values='total_sales', aggfunc='sum')\n",
    "sales_pivot\n"
   ]
  },
  {
   "cell_type": "code",
   "execution_count": 42,
   "metadata": {},
   "outputs": [
    {
     "name": "stderr",
     "output_type": "stream",
     "text": [
      "c:\\Users\\USER\\AppData\\Local\\Programs\\Python\\Python311\\Lib\\site-packages\\seaborn\\categorical.py:632: FutureWarning: SeriesGroupBy.grouper is deprecated and will be removed in a future version of pandas.\n",
      "  positions = grouped.grouper.result_index.to_numpy(dtype=float)\n"
     ]
    },
    {
     "data": {
      "image/png": "[encoded data removed]",
      "text/plain": [
       "<Figure size 800x500 with 1 Axes>"
      ]
     },
     "metadata": {},
     "output_type": "display_data"
    }
   ],
   "source": [
    "import seaborn as sns\n",
    "\n",
    "plt.figure(figsize=(8,5))\n",
    "sns.boxplot(x=products['price'])\n",
    "plt.title('Rozkład cen produktów')\n",
    "plt.xlabel('Cena')\n",
    "plt.show()\n"
   ]
  },
  {
   "cell_type": "code",
   "execution_count": 43,
   "metadata": {},
   "outputs": [
    {
     "data": {
      "text/plain": [
       "quarter\n",
       "2024Q1    4615\n",
       "2024Q2    4559\n",
       "2024Q3    4612\n",
       "2024Q4    4603\n",
       "Freq: Q-DEC, Name: customer_id, dtype: int64"
      ]
     },
     "execution_count": 43,
     "metadata": {},
     "output_type": "execute_result"
    }
   ],
   "source": [
    "merged_df['quarter'] = merged_df['purchase_date'].dt.to_period('Q')\n",
    "customers_per_quarter = merged_df.groupby('quarter')['customer_id'].nunique()\n",
    "customers_per_quarter\n"
   ]
  },
  {
   "cell_type": "code",
   "execution_count": 44,
   "metadata": {},
   "outputs": [
    {
     "data": {
      "text/plain": [
       "customer_id\n",
       "1    11\n",
       "2     5\n",
       "3    29\n",
       "4    65\n",
       "5    68\n",
       "Name: purchase_date, dtype: int64"
      ]
     },
     "execution_count": 44,
     "metadata": {},
     "output_type": "execute_result"
    }
   ],
   "source": [
    "last_purchase = merged_df.groupby('customer_id')['purchase_date'].max()\n",
    "days_since_last = (pd.Timestamp('2025-01-01') - last_purchase).dt.days\n",
    "days_since_last.head()\n"
   ]
  },
  {
   "cell_type": "code",
   "execution_count": 45,
   "metadata": {},
   "outputs": [
    {
     "data": {
      "text/plain": [
       "2"
      ]
     },
     "execution_count": 45,
     "metadata": {},
     "output_type": "execute_result"
    }
   ],
   "source": [
    "one_time_buyers = merged_df.groupby('customer_id')['transaction_id'].nunique()\n",
    "one_time_buyers = (one_time_buyers == 1).sum()\n",
    "one_time_buyers\n"
   ]
  },
  {
   "cell_type": "code",
   "execution_count": 46,
   "metadata": {},
   "outputs": [
    {
     "data": {
      "text/plain": [
       "4981"
      ]
     },
     "execution_count": 46,
     "metadata": {},
     "output_type": "execute_result"
    }
   ],
   "source": [
    "months_per_customer = merged_df.groupby('customer_id')['purchase_date'].apply(lambda x: x.dt.month.nunique())\n",
    "active_customers = (months_per_customer >= 3).sum()\n",
    "active_customers\n"
   ]
  },
  {
   "cell_type": "code",
   "execution_count": 47,
   "metadata": {},
   "outputs": [
    {
     "name": "stderr",
     "output_type": "stream",
     "text": [
      "C:\\Users\\USER\\AppData\\Local\\Temp\\ipykernel_1768\\2771851116.py:4: FutureWarning: The default of observed=False is deprecated and will be changed to True in a future version of pandas. Pass observed=False to retain current behavior or observed=True to adopt the future default and silence this warning.\n",
      "  sales_by_age_group = merged_df.groupby('age_group')['total_sales'].sum()\n"
     ]
    },
    {
     "data": {
      "text/plain": [
       "age_group\n",
       "18-25    321792.44\n",
       "26-35    354661.44\n",
       "36-50    591941.19\n",
       "51-70    719248.96\n",
       "Name: total_sales, dtype: float64"
      ]
     },
     "execution_count": 47,
     "metadata": {},
     "output_type": "execute_result"
    }
   ],
   "source": [
    "bins = [17, 25, 35, 50, 70]\n",
    "labels = ['18-25', '26-35', '36-50', '51-70']\n",
    "merged_df['age_group'] = pd.cut(merged_df['age'], bins=bins, labels=labels)\n",
    "sales_by_age_group = merged_df.groupby('age_group')['total_sales'].sum()\n",
    "sales_by_age_group\n"
   ]
  },
  {
   "cell_type": "code",
   "execution_count": null,
   "metadata": {},
   "outputs": [],
   "source": []
  }
 ],
 "metadata": {
  "kernelspec": {
   "display_name": "Python 3",
   "language": "python",
   "name": "python3"
  },
  "language_info": {
   "codemirror_mode": {
    "name": "ipython",
    "version": 3
   },
   "file_extension": ".py",
   "mimetype": "text/x-python",
   "name": "python",
   "nbconvert_exporter": "python",
   "pygments_lexer": "ipython3",
   "version": "3.11.3"
  }
 },
 "nbformat": 4,
 "nbformat_minor": 2
}
