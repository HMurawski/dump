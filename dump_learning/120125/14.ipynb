{
 "cells": [
  {
   "cell_type": "code",
   "execution_count": 31,
   "metadata": {},
   "outputs": [],
   "source": [
    "import pandas as pd\n",
    "import numpy as np\n",
    "from datetime import datetime\n",
    "from datetime import timedelta"
   ]
  },
  {
   "cell_type": "code",
   "execution_count": 3,
   "metadata": {},
   "outputs": [],
   "source": [
    "np.random.seed(42)\n",
    "data = {\n",
    "    \"Main Port Name\": np.random.choice(\n",
    "        [\"Port A\", \"Port B\", \"Port C\", \"Port D\", \"Port E\"], 50\n",
    "    ),\n",
    "    \"Country Code\": np.random.choice(\n",
    "        [\"United States\", \"United Kingdom\", \"France\", \"Germany\", \"Japan\"], 50\n",
    "    ),\n",
    "    \"Channel Depth (m)\": np.random.randint(5, 30, 50),\n",
    "    \"Harbor Size\": np.random.choice([\"Small\", \"Medium\", \"Large\"], 50),\n",
    "}"
   ]
  },
  {
   "cell_type": "code",
   "execution_count": 5,
   "metadata": {},
   "outputs": [
    {
     "data": {
      "text/html": [
       "<div>\n",
       "<style scoped>\n",
       "    .dataframe tbody tr th:only-of-type {\n",
       "        vertical-align: middle;\n",
       "    }\n",
       "\n",
       "    .dataframe tbody tr th {\n",
       "        vertical-align: top;\n",
       "    }\n",
       "\n",
       "    .dataframe thead th {\n",
       "        text-align: right;\n",
       "    }\n",
       "</style>\n",
       "<table border=\"1\" class=\"dataframe\">\n",
       "  <thead>\n",
       "    <tr style=\"text-align: right;\">\n",
       "      <th></th>\n",
       "      <th>Main Port Name</th>\n",
       "      <th>Country Code</th>\n",
       "      <th>Channel Depth (m)</th>\n",
       "      <th>Harbor Size</th>\n",
       "    </tr>\n",
       "  </thead>\n",
       "  <tbody>\n",
       "    <tr>\n",
       "      <th>0</th>\n",
       "      <td>Port D</td>\n",
       "      <td>Germany</td>\n",
       "      <td>11</td>\n",
       "      <td>Small</td>\n",
       "    </tr>\n",
       "  </tbody>\n",
       "</table>\n",
       "</div>"
      ],
      "text/plain": [
       "  Main Port Name Country Code  Channel Depth (m) Harbor Size\n",
       "0         Port D      Germany                 11       Small"
      ]
     },
     "execution_count": 5,
     "metadata": {},
     "output_type": "execute_result"
    }
   ],
   "source": [
    "df = pd.DataFrame(data)\n",
    "df.head(1)"
   ]
  },
  {
   "cell_type": "code",
   "execution_count": 6,
   "metadata": {},
   "outputs": [],
   "source": [
    "df[\"Date\"] = pd.date_range(start=\"2020-01-01\", periods=len(df), freq=\"D\")"
   ]
  },
  {
   "cell_type": "code",
   "execution_count": 13,
   "metadata": {},
   "outputs": [],
   "source": [
    "df[\"Date\"] = pd.to_datetime(df[\"Date\"])\n"
   ]
  },
  {
   "cell_type": "code",
   "execution_count": null,
   "metadata": {},
   "outputs": [],
   "source": [
    "df[\"Year\"] = df[\"Date\"].dt.year\n",
    "df[\"Month\"] = df[\"Date\"].dt.month\n",
    "df[\"Day\"] = df[\"Date\"].dt.day\n",
    "df[\"Day of Week\"] = df[\"Date\"].dt.strftime(\"%A\")"
   ]
  },
  {
   "cell_type": "code",
   "execution_count": 34,
   "metadata": {},
   "outputs": [
    {
     "data": {
      "text/html": [
       "<div>\n",
       "<style scoped>\n",
       "    .dataframe tbody tr th:only-of-type {\n",
       "        vertical-align: middle;\n",
       "    }\n",
       "\n",
       "    .dataframe tbody tr th {\n",
       "        vertical-align: top;\n",
       "    }\n",
       "\n",
       "    .dataframe thead th {\n",
       "        text-align: right;\n",
       "    }\n",
       "</style>\n",
       "<table border=\"1\" class=\"dataframe\">\n",
       "  <thead>\n",
       "    <tr style=\"text-align: right;\">\n",
       "      <th></th>\n",
       "      <th>Main Port Name</th>\n",
       "      <th>Country Code</th>\n",
       "      <th>Channel Depth (m)</th>\n",
       "      <th>Harbor Size</th>\n",
       "      <th>Date</th>\n",
       "      <th>Year</th>\n",
       "      <th>Month</th>\n",
       "    </tr>\n",
       "  </thead>\n",
       "  <tbody>\n",
       "    <tr>\n",
       "      <th>0</th>\n",
       "      <td>Port D</td>\n",
       "      <td>Germany</td>\n",
       "      <td>11</td>\n",
       "      <td>Small</td>\n",
       "      <td>2020-01-01</td>\n",
       "      <td>2020</td>\n",
       "      <td>1</td>\n",
       "    </tr>\n",
       "  </tbody>\n",
       "</table>\n",
       "</div>"
      ],
      "text/plain": [
       "  Main Port Name Country Code  Channel Depth (m) Harbor Size       Date  Year  \\\n",
       "0         Port D      Germany                 11       Small 2020-01-01  2020   \n",
       "\n",
       "   Month  \n",
       "0      1  "
      ]
     },
     "execution_count": 34,
     "metadata": {},
     "output_type": "execute_result"
    }
   ],
   "source": [
    "# Wybierz wszystkie wiersze, gdzie data jest pomiędzy 2020-01-01 a 2020-06-30.\n",
    "start_date = datetime(2020, 1, 1)\n",
    "end_date = datetime(2020, 6,30)\n",
    "df[(df[\"Date\"]>= start_date) & (df[\"Date\"] <= end_date)].head(1)"
   ]
  },
  {
   "cell_type": "code",
   "execution_count": 35,
   "metadata": {},
   "outputs": [
    {
     "data": {
      "text/html": [
       "<div>\n",
       "<style scoped>\n",
       "    .dataframe tbody tr th:only-of-type {\n",
       "        vertical-align: middle;\n",
       "    }\n",
       "\n",
       "    .dataframe tbody tr th {\n",
       "        vertical-align: top;\n",
       "    }\n",
       "\n",
       "    .dataframe thead th {\n",
       "        text-align: right;\n",
       "    }\n",
       "</style>\n",
       "<table border=\"1\" class=\"dataframe\">\n",
       "  <thead>\n",
       "    <tr style=\"text-align: right;\">\n",
       "      <th></th>\n",
       "      <th>Main Port Name</th>\n",
       "      <th>Country Code</th>\n",
       "      <th>Channel Depth (m)</th>\n",
       "      <th>Harbor Size</th>\n",
       "      <th>Date</th>\n",
       "      <th>Year</th>\n",
       "      <th>Month</th>\n",
       "    </tr>\n",
       "  </thead>\n",
       "  <tbody>\n",
       "  </tbody>\n",
       "</table>\n",
       "</div>"
      ],
      "text/plain": [
       "Empty DataFrame\n",
       "Columns: [Main Port Name, Country Code, Channel Depth (m), Harbor Size, Date, Year, Month]\n",
       "Index: []"
      ]
     },
     "execution_count": 35,
     "metadata": {},
     "output_type": "execute_result"
    }
   ],
   "source": [
    "#Wyfiltruj wiersze, gdzie miesiąc to lipiec (Month == 7).\n",
    "df[df[\"Month\"] == 7]"
   ]
  },
  {
   "cell_type": "code",
   "execution_count": 36,
   "metadata": {},
   "outputs": [
    {
     "data": {
      "text/plain": [
       "Month\n",
       "1    14.258065\n",
       "2    16.157895\n",
       "Name: Channel Depth (m), dtype: float64"
      ]
     },
     "execution_count": 36,
     "metadata": {},
     "output_type": "execute_result"
    }
   ],
   "source": [
    "# Oblicz średnią głębokość kanału (Channel Depth (m)) dla każdego miesiąca.\n",
    "df.groupby(\"Month\")[\"Channel Depth (m)\"].mean()"
   ]
  },
  {
   "cell_type": "code",
   "execution_count": 37,
   "metadata": {},
   "outputs": [
    {
     "data": {
      "text/plain": [
       "Quarter\n",
       "1    50\n",
       "Name: Main Port Name, dtype: int64"
      ]
     },
     "execution_count": 37,
     "metadata": {},
     "output_type": "execute_result"
    }
   ],
   "source": [
    "#Policz liczbę portów w każdym kwartale roku.\n",
    "df[\"Quarter\"] = df[\"Date\"].dt.quarter\n",
    "df.groupby(\"Quarter\")[\"Main Port Name\"].count()"
   ]
  },
  {
   "cell_type": "code",
   "execution_count": 40,
   "metadata": {},
   "outputs": [],
   "source": [
    "#Stwórz kolumnę Days Since Start, która pokazuje liczbę dni od najwcześniejszej daty w zbiorze.\n",
    "df[\"Days Since Start\"] = df[\"Date\"] - start_date"
   ]
  },
  {
   "cell_type": "code",
   "execution_count": 50,
   "metadata": {},
   "outputs": [],
   "source": [
    "#Stwórz kolumnę Is Weekend, która zwraca True, jeśli dzień tygodnia to sobota lub niedziela.\n",
    "df[\"Is Weekend\"] = df[\"Date\"].apply(lambda x: True if x.weekday()> 4 else False)"
   ]
  },
  {
   "cell_type": "code",
   "execution_count": 51,
   "metadata": {},
   "outputs": [
    {
     "data": {
      "text/html": [
       "<div>\n",
       "<style scoped>\n",
       "    .dataframe tbody tr th:only-of-type {\n",
       "        vertical-align: middle;\n",
       "    }\n",
       "\n",
       "    .dataframe tbody tr th {\n",
       "        vertical-align: top;\n",
       "    }\n",
       "\n",
       "    .dataframe thead th {\n",
       "        text-align: right;\n",
       "    }\n",
       "</style>\n",
       "<table border=\"1\" class=\"dataframe\">\n",
       "  <thead>\n",
       "    <tr style=\"text-align: right;\">\n",
       "      <th></th>\n",
       "      <th>Main Port Name</th>\n",
       "      <th>Country Code</th>\n",
       "      <th>Channel Depth (m)</th>\n",
       "      <th>Harbor Size</th>\n",
       "      <th>Date</th>\n",
       "      <th>Year</th>\n",
       "      <th>Month</th>\n",
       "      <th>Quarter</th>\n",
       "      <th>Days Since Start</th>\n",
       "      <th>Day</th>\n",
       "      <th>Day of Week</th>\n",
       "      <th>Is Weekend</th>\n",
       "    </tr>\n",
       "  </thead>\n",
       "  <tbody>\n",
       "    <tr>\n",
       "      <th>0</th>\n",
       "      <td>Port D</td>\n",
       "      <td>Germany</td>\n",
       "      <td>11</td>\n",
       "      <td>Small</td>\n",
       "      <td>2020-01-01</td>\n",
       "      <td>2020</td>\n",
       "      <td>1</td>\n",
       "      <td>1</td>\n",
       "      <td>0 days</td>\n",
       "      <td>1</td>\n",
       "      <td>Wednesday</td>\n",
       "      <td>False</td>\n",
       "    </tr>\n",
       "    <tr>\n",
       "      <th>1</th>\n",
       "      <td>Port E</td>\n",
       "      <td>Germany</td>\n",
       "      <td>13</td>\n",
       "      <td>Medium</td>\n",
       "      <td>2020-01-02</td>\n",
       "      <td>2020</td>\n",
       "      <td>1</td>\n",
       "      <td>1</td>\n",
       "      <td>1 days</td>\n",
       "      <td>2</td>\n",
       "      <td>Thursday</td>\n",
       "      <td>False</td>\n",
       "    </tr>\n",
       "    <tr>\n",
       "      <th>2</th>\n",
       "      <td>Port C</td>\n",
       "      <td>Germany</td>\n",
       "      <td>12</td>\n",
       "      <td>Small</td>\n",
       "      <td>2020-01-03</td>\n",
       "      <td>2020</td>\n",
       "      <td>1</td>\n",
       "      <td>1</td>\n",
       "      <td>2 days</td>\n",
       "      <td>3</td>\n",
       "      <td>Friday</td>\n",
       "      <td>False</td>\n",
       "    </tr>\n",
       "    <tr>\n",
       "      <th>3</th>\n",
       "      <td>Port E</td>\n",
       "      <td>Japan</td>\n",
       "      <td>16</td>\n",
       "      <td>Small</td>\n",
       "      <td>2020-01-04</td>\n",
       "      <td>2020</td>\n",
       "      <td>1</td>\n",
       "      <td>1</td>\n",
       "      <td>3 days</td>\n",
       "      <td>4</td>\n",
       "      <td>Saturday</td>\n",
       "      <td>True</td>\n",
       "    </tr>\n",
       "    <tr>\n",
       "      <th>4</th>\n",
       "      <td>Port E</td>\n",
       "      <td>France</td>\n",
       "      <td>6</td>\n",
       "      <td>Medium</td>\n",
       "      <td>2020-01-05</td>\n",
       "      <td>2020</td>\n",
       "      <td>1</td>\n",
       "      <td>1</td>\n",
       "      <td>4 days</td>\n",
       "      <td>5</td>\n",
       "      <td>Sunday</td>\n",
       "      <td>True</td>\n",
       "    </tr>\n",
       "  </tbody>\n",
       "</table>\n",
       "</div>"
      ],
      "text/plain": [
       "  Main Port Name Country Code  Channel Depth (m) Harbor Size       Date  Year  \\\n",
       "0         Port D      Germany                 11       Small 2020-01-01  2020   \n",
       "1         Port E      Germany                 13      Medium 2020-01-02  2020   \n",
       "2         Port C      Germany                 12       Small 2020-01-03  2020   \n",
       "3         Port E        Japan                 16       Small 2020-01-04  2020   \n",
       "4         Port E       France                  6      Medium 2020-01-05  2020   \n",
       "\n",
       "   Month  Quarter Days Since Start  Day Day of Week  Is Weekend  \n",
       "0      1        1           0 days    1   Wednesday       False  \n",
       "1      1        1           1 days    2    Thursday       False  \n",
       "2      1        1           2 days    3      Friday       False  \n",
       "3      1        1           3 days    4    Saturday        True  \n",
       "4      1        1           4 days    5      Sunday        True  "
      ]
     },
     "execution_count": 51,
     "metadata": {},
     "output_type": "execute_result"
    }
   ],
   "source": [
    "\n",
    "df.head()"
   ]
  },
  {
   "cell_type": "code",
   "execution_count": null,
   "metadata": {},
   "outputs": [],
   "source": []
  }
 ],
 "metadata": {
  "kernelspec": {
   "display_name": "Python 3",
   "language": "python",
   "name": "python3"
  },
  "language_info": {
   "codemirror_mode": {
    "name": "ipython",
    "version": 3
   },
   "file_extension": ".py",
   "mimetype": "text/x-python",
   "name": "python",
   "nbconvert_exporter": "python",
   "pygments_lexer": "ipython3",
   "version": "3.11.3"
  }
 },
 "nbformat": 4,
 "nbformat_minor": 2
}
