{
 "cells": [
  {
   "cell_type": "code",
   "execution_count": 9,
   "metadata": {},
   "outputs": [
    {
     "name": "stdout",
     "output_type": "stream",
     "text": [
      "Linijka 1\n",
      "Linijka 2\n",
      "Nastepna linijka\n"
     ]
    }
   ],
   "source": [
    "file = \"zadanie.txt\"\n",
    "with open(file) as f:\n",
    "    content = f.read()\n",
    "    print(content)\n",
    "\n",
    "with open(file, 'a')as f:\n",
    "    f.write('Nastepna linijka')\n",
    "    \n",
    "    "
   ]
  },
  {
   "cell_type": "code",
   "execution_count": 10,
   "metadata": {},
   "outputs": [],
   "source": [
    "import pandas as pd"
   ]
  },
  {
   "cell_type": "code",
   "execution_count": 11,
   "metadata": {},
   "outputs": [
    {
     "name": "stdout",
     "output_type": "stream",
     "text": [
      "      Name  Age           City\n",
      "0    Alice   30       New York\n",
      "1      Bob   25  San Francisco\n",
      "2  Charlie   35        Chicago\n"
     ]
    }
   ],
   "source": [
    "data = pd.read_csv('dane.csv')\n",
    "print(data)"
   ]
  },
  {
   "cell_type": "code",
   "execution_count": 17,
   "metadata": {},
   "outputs": [
    {
     "name": "stdout",
     "output_type": "stream",
     "text": [
      "      Name  Age           City\n",
      "0    Alice   30       New York\n",
      "1      Bob   25  San Francisco\n",
      "2  Charlie   35        Chicago\n",
      "3   Hubert   30      Bydgoszcz\n"
     ]
    }
   ],
   "source": [
    "new_person = ['Hubert', 30, 'Bydgoszcz']\n",
    "data.loc[len(data)] = new_person\n",
    "print(data)"
   ]
  },
  {
   "cell_type": "code",
   "execution_count": 19,
   "metadata": {},
   "outputs": [
    {
     "name": "stdout",
     "output_type": "stream",
     "text": [
      "      Name    Age           City\n",
      "0    Alice     30       New York\n",
      "1      Bob     25  San Francisco\n",
      "2  Charlie     35        Chicago\n",
      "3   Hubert     30      Bydgoszcz\n",
      "4   Hubert  33330      Bydgoszcz\n"
     ]
    }
   ],
   "source": [
    "new_person = {'Name': 'Hubert', 'Age': 33330, 'City': 'Bydgoszcz'}\n",
    "data = pd.concat([data, pd.DataFrame([new_person])], ignore_index=True)\n",
    "print(data)\n"
   ]
  },
  {
   "cell_type": "code",
   "execution_count": null,
   "metadata": {},
   "outputs": [],
   "source": []
  }
 ],
 "metadata": {
  "kernelspec": {
   "display_name": "Python 3",
   "language": "python",
   "name": "python3"
  },
  "language_info": {
   "codemirror_mode": {
    "name": "ipython",
    "version": 3
   },
   "file_extension": ".py",
   "mimetype": "text/x-python",
   "name": "python",
   "nbconvert_exporter": "python",
   "pygments_lexer": "ipython3",
   "version": "3.11.3"
  }
 },
 "nbformat": 4,
 "nbformat_minor": 2
}
