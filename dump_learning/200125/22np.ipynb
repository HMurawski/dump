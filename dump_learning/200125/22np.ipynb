{
 "cells": [
  {
   "cell_type": "code",
   "execution_count": 1,
   "metadata": {},
   "outputs": [],
   "source": [
    "import numpy as np\n",
    "import pandas as pd"
   ]
  },
  {
   "cell_type": "code",
   "execution_count": 7,
   "metadata": {},
   "outputs": [
    {
     "name": "stdout",
     "output_type": "stream",
     "text": [
      "max w kazdej kolumnie: [83 82 42 96 41]\n",
      "min w kazdym wierszu: [16  6 18 26 11]\n"
     ]
    }
   ],
   "source": [
    "arr2d = np.random.randint(low=1,high=101, size=(5,5))\n",
    "print(f\"max w kazdej kolumnie: {np.max(arr2d, axis=0)}\")\n",
    "print(f\"min w kazdym wierszu: {np.min(arr2d, axis=1)}\")"
   ]
  },
  {
   "cell_type": "code",
   "execution_count": 14,
   "metadata": {},
   "outputs": [
    {
     "name": "stdout",
     "output_type": "stream",
     "text": [
      "[[ 1.30115078 -1.00880841 -0.47865384  0.50591893 -1.12241296]\n",
      " [ 1.41475534 -1.50109479 -0.13784019  1.90704172 -0.17570837]\n",
      " [-0.74373112  1.14967805 -0.21357655  0.16510528 -1.04667659]\n",
      " [ 0.77099622  0.08936891 -0.74373112  0.3544462  -0.63012657]\n",
      " [-1.19814933  1.37688715 -1.31175388  1.64196444 -0.36504929]]\n"
     ]
    }
   ],
   "source": [
    "mean_arr2d = np.mean(arr2d)\n",
    "std_arr2d = np.std(arr2d)\n",
    "\n",
    "standarized_arr2d = (arr2d - mean_arr2d) / std_arr2d\n",
    "print(standarized_arr2d)"
   ]
  },
  {
   "cell_type": "code",
   "execution_count": 12,
   "metadata": {},
   "outputs": [
    {
     "name": "stdout",
     "output_type": "stream",
     "text": [
      "217\n"
     ]
    }
   ],
   "source": [
    "#przekatna tablicy\n",
    "przekatna = np.diag(arr2d)\n",
    "sum_of_diagonal = np.sum(przekatna)\n",
    "print(sum_of_diagonal)"
   ]
  },
  {
   "cell_type": "code",
   "execution_count": 26,
   "metadata": {},
   "outputs": [
    {
     "name": "stdout",
     "output_type": "stream",
     "text": [
      "0.492\n"
     ]
    }
   ],
   "source": [
    "tab = np.array([0,1])\n",
    "rzuty = np.random.choice(tab, 1000)\n",
    "procent_1 = round(len(rzuty[rzuty == 1]) / len(rzuty),4)\n",
    "print(procent_1)"
   ]
  },
  {
   "cell_type": "code",
   "execution_count": 29,
   "metadata": {},
   "outputs": [
    {
     "name": "stdout",
     "output_type": "stream",
     "text": [
      "avg value: 499.688845\n",
      "Liczba unikalnych wartosci: 999\n"
     ]
    }
   ],
   "source": [
    "tab_1kk = np.random.randint(low=1, high=1000, size=(1000000))\n",
    "print(f\"avg value: {np.mean(tab_1kk)}\")\n",
    "print(f\"Liczba unikalnych wartosci: {len(np.unique(tab_1kk))}\")"
   ]
  },
  {
   "cell_type": "code",
   "execution_count": 36,
   "metadata": {},
   "outputs": [
    {
     "name": "stdout",
     "output_type": "stream",
     "text": [
      "najblizsza wartosc:ma index 3 i wartosc: 0.49362304649199595\n"
     ]
    }
   ],
   "source": [
    "t = np.random.rand(50)\n",
    "a = 0.5\n",
    "index = (np.abs(t - a).argmin())\n",
    "print(f\"najblizsza wartosc:ma index {index} i wartosc: {t[index]}\")"
   ]
  },
  {
   "cell_type": "code",
   "execution_count": null,
   "metadata": {},
   "outputs": [],
   "source": []
  }
 ],
 "metadata": {
  "kernelspec": {
   "display_name": "Python 3",
   "language": "python",
   "name": "python3"
  },
  "language_info": {
   "codemirror_mode": {
    "name": "ipython",
    "version": 3
   },
   "file_extension": ".py",
   "mimetype": "text/x-python",
   "name": "python",
   "nbconvert_exporter": "python",
   "pygments_lexer": "ipython3",
   "version": "3.11.3"
  }
 },
 "nbformat": 4,
 "nbformat_minor": 2
}
