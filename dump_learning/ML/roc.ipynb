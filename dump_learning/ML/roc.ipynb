{
 "cells": [
  {
   "cell_type": "code",
   "execution_count": 48,
   "id": "327e11e5",
   "metadata": {},
   "outputs": [],
   "source": [
    "#Import Necessary Libraries\n",
    "import pandas as pd\n",
    "import numpy as np\n",
    "import matplotlib.pyplot as plt\n",
    "import seaborn as sns\n",
    "from sklearn.model_selection import train_test_split, cross_val_score\n",
    "from sklearn.metrics import classification_report, confusion_matrix\n",
    "from sklearn.linear_model import LogisticRegression\n",
    "from sklearn.ensemble import GradientBoostingClassifier\n",
    "from sklearn.tree import DecisionTreeClassifier\n",
    "from xgboost import XGBClassifier\n",
    "import time\n",
    "from sklearn.datasets import make_classification"
   ]
  },
  {
   "cell_type": "code",
   "execution_count": 49,
   "id": "a9f4d931",
   "metadata": {},
   "outputs": [],
   "source": [
    "X, y = make_classification(\n",
    "    n_features=10,\n",
    "    n_samples=1000,\n",
    "    n_informative=4,\n",
    "    n_redundant=6,\n",
    "    n_repeated=0,\n",
    "    n_classes=2,\n",
    "    random_state=42\n",
    ")\n",
    "X_train, X_test, y_train, y_test = train_test_split(X, y, test_size=0.25, random_state=42)"
   ]
  },
  {
   "cell_type": "markdown",
   "id": "5412bc04",
   "metadata": {},
   "source": [
    "### Logistic Regression Classifier"
   ]
  },
  {
   "cell_type": "code",
   "execution_count": 50,
   "id": "830a4715",
   "metadata": {},
   "outputs": [
    {
     "name": "stdout",
     "output_type": "stream",
     "text": [
      "              precision    recall  f1-score   support\n",
      "\n",
      "           0       0.66      0.69      0.67       122\n",
      "           1       0.69      0.66      0.68       128\n",
      "\n",
      "    accuracy                           0.68       250\n",
      "   macro avg       0.68      0.68      0.68       250\n",
      "weighted avg       0.68      0.68      0.68       250\n",
      "\n"
     ]
    }
   ],
   "source": [
    "model = LogisticRegression()\n",
    "model.fit(X_train, y_train)\n",
    "y_pred = model.predict(X_test)\n",
    "r = classification_report(y_pred=y_pred, y_true=y_test)\n",
    "print(r)"
   ]
  },
  {
   "cell_type": "markdown",
   "id": "7bf6b8bd",
   "metadata": {},
   "source": [
    "### Threshold: 0.4 - improving the recall"
   ]
  },
  {
   "cell_type": "code",
   "execution_count": 51,
   "id": "e05c2f35",
   "metadata": {},
   "outputs": [
    {
     "name": "stdout",
     "output_type": "stream",
     "text": [
      "              precision    recall  f1-score   support\n",
      "\n",
      "           0       0.75      0.57      0.65       122\n",
      "           1       0.67      0.82      0.74       128\n",
      "\n",
      "    accuracy                           0.70       250\n",
      "   macro avg       0.71      0.70      0.69       250\n",
      "weighted avg       0.71      0.70      0.70       250\n",
      "\n"
     ]
    }
   ],
   "source": [
    "probabilities = model.predict_proba(X_test)[:,1]\n",
    "y_pred_04 =(probabilities > 0.4).astype(int)\n",
    "\n",
    "r_04 = classification_report(y_pred=y_pred_04, y_true=y_test)\n",
    "print(r_04)"
   ]
  },
  {
   "cell_type": "code",
   "execution_count": 52,
   "id": "8cd541a6",
   "metadata": {},
   "outputs": [
    {
     "data": {
      "text/plain": [
       "(array([0.        , 0.        , 0.        , 0.00819672, 0.00819672]),\n",
       " array([0.       , 0.0078125, 0.265625 , 0.265625 , 0.2890625]),\n",
       " array([       inf, 0.97927769, 0.80889618, 0.80837543, 0.80205328]))"
      ]
     },
     "execution_count": 52,
     "metadata": {},
     "output_type": "execute_result"
    }
   ],
   "source": [
    "from sklearn.metrics import roc_curve\n",
    "\n",
    "fpr, tpr, thresholds = roc_curve(y_true=y_test, y_score=probabilities)\n",
    "fpr[:5], tpr[:5], thresholds[:5]"
   ]
  },
  {
   "cell_type": "code",
   "execution_count": 53,
   "id": "2687bd93",
   "metadata": {},
   "outputs": [
    {
     "data": {
      "text/plain": [
       "array([0.       , 0.0078125, 0.265625 , 0.265625 , 0.2890625, 0.2890625,\n",
       "       0.296875 , 0.296875 , 0.34375  , 0.34375  , 0.3515625, 0.3515625,\n",
       "       0.375    , 0.375    , 0.3984375, 0.3984375, 0.4296875, 0.4296875,\n",
       "       0.4375   , 0.4375   , 0.4609375, 0.4609375, 0.46875  , 0.46875  ,\n",
       "       0.4765625, 0.4765625, 0.484375 , 0.484375 , 0.4921875, 0.4921875,\n",
       "       0.5078125, 0.5078125, 0.515625 , 0.515625 , 0.5390625, 0.5390625,\n",
       "       0.5546875, 0.5546875, 0.5859375, 0.5859375, 0.625    , 0.625    ,\n",
       "       0.640625 , 0.640625 , 0.6484375, 0.6484375, 0.65625  , 0.65625  ,\n",
       "       0.71875  , 0.71875  , 0.75     , 0.75     , 0.7578125, 0.7578125,\n",
       "       0.765625 , 0.765625 , 0.7734375, 0.7734375, 0.7890625, 0.7890625,\n",
       "       0.796875 , 0.796875 , 0.84375  , 0.84375  , 0.8515625, 0.8515625,\n",
       "       0.859375 , 0.859375 , 0.8671875, 0.8671875, 0.875    , 0.875    ,\n",
       "       0.8828125, 0.8828125, 0.890625 , 0.890625 , 0.90625  , 0.90625  ,\n",
       "       0.9140625, 0.9140625, 0.921875 , 0.921875 , 0.9296875, 0.9296875,\n",
       "       0.9453125, 0.9453125, 0.9609375, 0.9609375, 0.96875  , 0.96875  ,\n",
       "       0.984375 , 0.984375 , 0.9921875, 0.9921875, 1.       , 1.       ])"
      ]
     },
     "execution_count": 53,
     "metadata": {},
     "output_type": "execute_result"
    }
   ],
   "source": [
    "tpr"
   ]
  },
  {
   "cell_type": "code",
   "execution_count": 54,
   "id": "fbf53186",
   "metadata": {},
   "outputs": [
    {
     "name": "stdout",
     "output_type": "stream",
     "text": [
      "76\n"
     ]
    }
   ],
   "source": [
    "desired_recall = 0.9\n",
    "\n",
    "closest_index = np.argmin(abs(tpr - desired_recall))\n",
    "print(closest_index)\n",
    "\n",
    "\n",
    "\n"
   ]
  },
  {
   "cell_type": "code",
   "execution_count": 55,
   "id": "8aca29b8",
   "metadata": {},
   "outputs": [
    {
     "data": {
      "text/plain": [
       "0.2634933759430514"
      ]
     },
     "execution_count": 55,
     "metadata": {},
     "output_type": "execute_result"
    }
   ],
   "source": [
    "thresholds[closest_index]"
   ]
  },
  {
   "cell_type": "code",
   "execution_count": 56,
   "id": "ccf8190a",
   "metadata": {},
   "outputs": [
    {
     "name": "stdout",
     "output_type": "stream",
     "text": [
      "              precision    recall  f1-score   support\n",
      "\n",
      "           0       0.73      0.30      0.42       122\n",
      "           1       0.57      0.90      0.70       128\n",
      "\n",
      "    accuracy                           0.60       250\n",
      "   macro avg       0.65      0.60      0.56       250\n",
      "weighted avg       0.65      0.60      0.56       250\n",
      "\n"
     ]
    }
   ],
   "source": [
    "y_pred_desired =(probabilities > thresholds[closest_index]).astype(int)\n",
    "\n",
    "r_pred_desired = classification_report(y_pred=y_pred_desired, y_true=y_test)\n",
    "print(r_pred_desired)"
   ]
  },
  {
   "cell_type": "code",
   "execution_count": 57,
   "id": "48f4455e",
   "metadata": {},
   "outputs": [
    {
     "data": {
      "text/plain": [
       "0.764856557377049"
      ]
     },
     "execution_count": 57,
     "metadata": {},
     "output_type": "execute_result"
    }
   ],
   "source": [
    "from sklearn.metrics import auc\n",
    "\n",
    "area = auc(fpr, tpr)\n",
    "area"
   ]
  },
  {
   "cell_type": "code",
   "execution_count": 58,
   "id": "300252df",
   "metadata": {},
   "outputs": [
    {
     "data": {
      "image/png": "[encoded data removed]",
      "text/plain": [
       "<Figure size 640x480 with 1 Axes>"
      ]
     },
     "metadata": {},
     "output_type": "display_data"
    }
   ],
   "source": [
    "plt.plot(fpr, tpr, color=\"darkorange\", lw=2, label=\"Roc Curve\")\n",
    "plt.plot([0,1], [0,1], color=\"navy\", lw=2, linestyle=\"--\")\n",
    "plt.xlim([0.0, 1.0])\n",
    "plt.ylim([0.0, 1.05])\n",
    "plt.xlabel(\"FP Rate\")\n",
    "plt.ylabel(\"TP Rate\")\n",
    "plt.title(\"ROC\")\n",
    "plt.legend(loc=\"lower right\")\n",
    "plt.show()"
   ]
  },
  {
   "cell_type": "code",
   "execution_count": 59,
   "id": "2b49c897",
   "metadata": {},
   "outputs": [
    {
     "name": "stdout",
     "output_type": "stream",
     "text": [
      "              precision    recall  f1-score   support\n",
      "\n",
      "           0       0.89      0.93      0.91       122\n",
      "           1       0.93      0.89      0.91       128\n",
      "\n",
      "    accuracy                           0.91       250\n",
      "   macro avg       0.91      0.91      0.91       250\n",
      "weighted avg       0.91      0.91      0.91       250\n",
      "\n"
     ]
    }
   ],
   "source": [
    "from xgboost import XGBClassifier\n",
    "\n",
    "model = XGBClassifier()\n",
    "model.fit(X_train, y_train)\n",
    "y_pred = model.predict(X_test)\n",
    "r = classification_report(y_pred=y_pred, y_true=y_test)\n",
    "print(r)"
   ]
  },
  {
   "cell_type": "code",
   "execution_count": null,
   "id": "683092f6",
   "metadata": {},
   "outputs": [],
   "source": []
  },
  {
   "cell_type": "markdown",
   "id": "abbe3e09",
   "metadata": {},
   "source": [
    "### 98% recall using XGBoost"
   ]
  },
  {
   "cell_type": "code",
   "execution_count": 60,
   "id": "d5b3dc7c",
   "metadata": {},
   "outputs": [],
   "source": [
    "desired_recall = 0.98\n",
    "proba_xgb = model.predict_proba(X_test)[:,1]\n",
    "\n"
   ]
  },
  {
   "cell_type": "code",
   "execution_count": 61,
   "id": "8d53d11c",
   "metadata": {},
   "outputs": [
    {
     "data": {
      "text/plain": [
       "(array([0.        , 0.        , 0.        , 0.00819672, 0.00819672]),\n",
       " array([0.       , 0.0078125, 0.09375  , 0.09375  , 0.203125 ]),\n",
       " array([       inf, 0.99996376, 0.99989676, 0.999892  , 0.9997204 ],\n",
       "       dtype=float32))"
      ]
     },
     "execution_count": 61,
     "metadata": {},
     "output_type": "execute_result"
    }
   ],
   "source": [
    "fpr, tpr, thresholds = roc_curve(y_true=y_test, y_score=proba_xgb)\n",
    "fpr[:5], tpr[:5], thresholds[:5]"
   ]
  },
  {
   "cell_type": "code",
   "execution_count": 62,
   "id": "1cb6369a",
   "metadata": {},
   "outputs": [
    {
     "data": {
      "text/plain": [
       "40"
      ]
     },
     "execution_count": 62,
     "metadata": {},
     "output_type": "execute_result"
    }
   ],
   "source": [
    "index = np.argmin(abs(tpr - desired_recall))\n",
    "index"
   ]
  },
  {
   "cell_type": "code",
   "execution_count": 63,
   "id": "3578d267",
   "metadata": {},
   "outputs": [],
   "source": [
    "y_pred_desired = (proba_xgb >= thresholds[index]).astype(int)\n"
   ]
  },
  {
   "cell_type": "code",
   "execution_count": 64,
   "id": "aaaa03a5",
   "metadata": {},
   "outputs": [
    {
     "name": "stdout",
     "output_type": "stream",
     "text": [
      "              precision    recall  f1-score   support\n",
      "\n",
      "           0       0.93      0.33      0.48       122\n",
      "           1       0.60      0.98      0.75       128\n",
      "\n",
      "    accuracy                           0.66       250\n",
      "   macro avg       0.77      0.65      0.62       250\n",
      "weighted avg       0.76      0.66      0.62       250\n",
      "\n"
     ]
    }
   ],
   "source": [
    "r_98 = classification_report(y_pred=y_pred_desired, y_true=y_test)\n",
    "print(r_98)"
   ]
  },
  {
   "cell_type": "code",
   "execution_count": 65,
   "id": "a1abac89",
   "metadata": {},
   "outputs": [
    {
     "data": {
      "text/plain": [
       "0.946016905737705"
      ]
     },
     "execution_count": 65,
     "metadata": {},
     "output_type": "execute_result"
    }
   ],
   "source": [
    "area = auc(fpr, tpr)\n",
    "area"
   ]
  },
  {
   "cell_type": "code",
   "execution_count": 66,
   "id": "7462c3fd",
   "metadata": {},
   "outputs": [
    {
     "data": {
      "image/png": "[encoded data removed]",
      "text/plain": [
       "<Figure size 640x480 with 1 Axes>"
      ]
     },
     "metadata": {},
     "output_type": "display_data"
    }
   ],
   "source": [
    "plt.plot(fpr, tpr, color=\"darkorange\", lw=2, label=\"Roc Curve\")\n",
    "plt.plot([0,1], [0,1], color=\"navy\", lw=2, linestyle=\"--\")\n",
    "plt.xlim([0.0, 1.0])\n",
    "plt.ylim([0.0, 1.05])\n",
    "plt.xlabel(\"FP Rate\")\n",
    "plt.ylabel(\"TP Rate\")\n",
    "plt.title(\"ROC\")\n",
    "plt.legend(loc=\"lower right\")\n",
    "plt.show()"
   ]
  },
  {
   "cell_type": "code",
   "execution_count": null,
   "id": "356bd4bb",
   "metadata": {},
   "outputs": [],
   "source": []
  }
 ],
 "metadata": {
  "kernelspec": {
   "display_name": "Python 3",
   "language": "python",
   "name": "python3"
  },
  "language_info": {
   "codemirror_mode": {
    "name": "ipython",
    "version": 3
   },
   "file_extension": ".py",
   "mimetype": "text/x-python",
   "name": "python",
   "nbconvert_exporter": "python",
   "pygments_lexer": "ipython3",
   "version": "3.11.3"
  }
 },
 "nbformat": 4,
 "nbformat_minor": 5
}
