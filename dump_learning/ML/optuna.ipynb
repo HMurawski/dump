{
 "cells": [
  {
   "cell_type": "code",
   "execution_count": 1,
   "id": "3bff2a14",
   "metadata": {},
   "outputs": [],
   "source": [
    "import numpy as np\n",
    "from sklearn.datasets import load_iris\n",
    "from sklearn.linear_model import LogisticRegression\n",
    "from sklearn.model_selection import GridSearchCV, train_test_split\n",
    "from sklearn.metrics import classification_report\n",
    "from sklearn.datasets import make_classification"
   ]
  },
  {
   "cell_type": "code",
   "execution_count": 2,
   "id": "9e236383",
   "metadata": {},
   "outputs": [
    {
     "data": {
      "text/plain": [
       "array([1.00000000e-04, 7.74263683e-04, 5.99484250e-03, 4.64158883e-02,\n",
       "       3.59381366e-01, 2.78255940e+00, 2.15443469e+01, 1.66810054e+02,\n",
       "       1.29154967e+03, 1.00000000e+04])"
      ]
     },
     "execution_count": 2,
     "metadata": {},
     "output_type": "execute_result"
    }
   ],
   "source": [
    "np.logspace(-4, 4, 10)"
   ]
  },
  {
   "cell_type": "markdown",
   "id": "c843c3f0",
   "metadata": {},
   "source": [
    "### Generate Dataset"
   ]
  },
  {
   "cell_type": "code",
   "execution_count": 3,
   "id": "e21389c2",
   "metadata": {},
   "outputs": [],
   "source": [
    "X, y = make_classification(\n",
    "    n_features=10, \n",
    "    n_samples=1000, \n",
    "    n_informative=8,\n",
    "    n_redundant=2,\n",
    "    n_repeated=0,\n",
    "    n_classes=2, \n",
    "    random_state=42\n",
    ")"
   ]
  },
  {
   "cell_type": "markdown",
   "id": "842607de",
   "metadata": {},
   "source": [
    "### Hyperparameter Tunning Using GridSearchCV"
   ]
  },
  {
   "cell_type": "code",
   "execution_count": 4,
   "id": "bac1e6a5",
   "metadata": {
    "scrolled": false
   },
   "outputs": [
    {
     "name": "stdout",
     "output_type": "stream",
     "text": [
      "Fitting 3 folds for each of 25 candidates, totalling 75 fits\n",
      "Best parameters found:  {'C': 1, 'solver': 'liblinear'}\n",
      "Best cross-validation score: 0.72\n",
      "Test set evaluation:\n",
      "              precision    recall  f1-score   support\n",
      "\n",
      "           0       0.73      0.62      0.67       106\n",
      "           1       0.63      0.73      0.68        94\n",
      "\n",
      "    accuracy                           0.68       200\n",
      "   macro avg       0.68      0.68      0.67       200\n",
      "weighted avg       0.68      0.68      0.67       200\n",
      "\n"
     ]
    }
   ],
   "source": [
    "X_train, X_test, y_train, y_test = train_test_split(X, y, test_size=0.2, random_state=42)\n",
    "\n",
    "# Define the model\n",
    "model = LogisticRegression(max_iter=2000)\n",
    "\n",
    "# Define the parameter grid\n",
    "param_grid = {\n",
    "    'C': [1, 2, 3, 4, 5],\n",
    "    'solver': ['newton-cg', 'lbfgs', 'liblinear', 'sag', 'saga']  # Different solvers\n",
    "}\n",
    "\n",
    "# Create GridSearchCV object\n",
    "grid_search = GridSearchCV(estimator=model, param_grid=param_grid, cv=3, verbose=1, scoring='accuracy')\n",
    "\n",
    "# Perform the grid search\n",
    "grid_search.fit(X_train, y_train)\n",
    "\n",
    "# Best parameters and best score\n",
    "print(\"Best parameters found: \", grid_search.best_params_)\n",
    "print(\"Best cross-validation score: {:.2f}\".format(grid_search.best_score_))\n",
    "\n",
    "# Evaluate on the test set\n",
    "best_model = grid_search.best_estimator_\n",
    "y_pred = best_model.predict(X_test)\n",
    "print(\"Test set evaluation:\")\n",
    "print(classification_report(y_test, y_pred))"
   ]
  },
  {
   "cell_type": "code",
   "execution_count": 5,
   "id": "080fefdb",
   "metadata": {},
   "outputs": [
    {
     "name": "stdout",
     "output_type": "stream",
     "text": [
      "Collecting optunaNote: you may need to restart the kernel to use updated packages.\n",
      "\n",
      "  Using cached optuna-4.3.0-py3-none-any.whl.metadata (17 kB)\n",
      "Collecting alembic>=1.5.0 (from optuna)\n",
      "  Using cached alembic-1.16.1-py3-none-any.whl.metadata (7.3 kB)\n",
      "Collecting colorlog (from optuna)\n",
      "  Using cached colorlog-6.9.0-py3-none-any.whl.metadata (10 kB)\n",
      "Requirement already satisfied: numpy in c:\\users\\user\\appdata\\local\\programs\\python\\python311\\lib\\site-packages (from optuna) (1.26.4)\n",
      "Requirement already satisfied: packaging>=20.0 in c:\\users\\user\\appdata\\roaming\\python\\python311\\site-packages (from optuna) (23.0)\n",
      "Requirement already satisfied: sqlalchemy>=1.4.2 in c:\\users\\user\\appdata\\local\\programs\\python\\python311\\lib\\site-packages (from optuna) (2.0.37)\n",
      "Requirement already satisfied: tqdm in c:\\users\\user\\appdata\\local\\programs\\python\\python311\\lib\\site-packages (from optuna) (4.67.1)\n",
      "Requirement already satisfied: PyYAML in c:\\users\\user\\appdata\\local\\programs\\python\\python311\\lib\\site-packages (from optuna) (6.0.1)\n",
      "Collecting Mako (from alembic>=1.5.0->optuna)\n",
      "  Using cached mako-1.3.10-py3-none-any.whl.metadata (2.9 kB)\n",
      "Requirement already satisfied: typing-extensions>=4.12 in c:\\users\\user\\appdata\\local\\programs\\python\\python311\\lib\\site-packages (from alembic>=1.5.0->optuna) (4.12.2)\n",
      "Requirement already satisfied: greenlet!=0.4.17 in c:\\users\\user\\appdata\\local\\programs\\python\\python311\\lib\\site-packages (from sqlalchemy>=1.4.2->optuna) (3.1.1)\n",
      "Requirement already satisfied: colorama in c:\\users\\user\\appdata\\roaming\\python\\python311\\site-packages (from colorlog->optuna) (0.4.6)\n",
      "Requirement already satisfied: MarkupSafe>=0.9.2 in c:\\users\\user\\appdata\\local\\programs\\python\\python311\\lib\\site-packages (from Mako->alembic>=1.5.0->optuna) (2.1.3)\n",
      "Using cached optuna-4.3.0-py3-none-any.whl (386 kB)\n",
      "Using cached alembic-1.16.1-py3-none-any.whl (242 kB)\n",
      "Using cached colorlog-6.9.0-py3-none-any.whl (11 kB)\n",
      "Using cached mako-1.3.10-py3-none-any.whl (78 kB)\n",
      "Installing collected packages: Mako, colorlog, alembic, optuna\n",
      "Successfully installed Mako-1.3.10 alembic-1.16.1 colorlog-6.9.0 optuna-4.3.0\n"
     ]
    },
    {
     "name": "stderr",
     "output_type": "stream",
     "text": [
      "\n",
      "[notice] A new release of pip is available: 24.2 -> 25.1.1\n",
      "[notice] To update, run: python.exe -m pip install --upgrade pip\n"
     ]
    }
   ],
   "source": [
    "%pip install optuna"
   ]
  },
  {
   "cell_type": "markdown",
   "id": "e0d1c111",
   "metadata": {},
   "source": [
    "### Hyperparameter Tunning Using Optuna"
   ]
  },
  {
   "cell_type": "code",
   "execution_count": 6,
   "id": "2ff2a1ec",
   "metadata": {
    "scrolled": false
   },
   "outputs": [],
   "source": [
    "import optuna\n",
    "import numpy as np\n",
    "from sklearn.linear_model import LogisticRegression\n",
    "from sklearn.model_selection import cross_val_score"
   ]
  },
  {
   "cell_type": "code",
   "execution_count": 7,
   "id": "55dfad25",
   "metadata": {},
   "outputs": [
    {
     "name": "stderr",
     "output_type": "stream",
     "text": [
      "[I 2025-06-06 10:57:49,192] A new study created in memory with name: no-name-808f3483-f73c-47e6-a7cb-57bd925b8413\n",
      "[I 2025-06-06 10:57:49,202] Trial 0 finished with value: 0.687996379613146 and parameters: {'C': 1.5437450249428895, 'solver': 'liblinear'}. Best is trial 0 with value: 0.687996379613146.\n",
      "[I 2025-06-06 10:57:49,217] Trial 1 finished with value: 0.687996379613146 and parameters: {'C': 2.4616229373994143, 'solver': 'sag'}. Best is trial 0 with value: 0.687996379613146.\n",
      "[I 2025-06-06 10:57:49,228] Trial 2 finished with value: 0.687996379613146 and parameters: {'C': 2.3549224676235694, 'solver': 'saga'}. Best is trial 0 with value: 0.687996379613146.\n",
      "[I 2025-06-06 10:57:49,242] Trial 3 finished with value: 0.687996379613146 and parameters: {'C': 4.997128680070544, 'solver': 'sag'}. Best is trial 0 with value: 0.687996379613146.\n",
      "[I 2025-06-06 10:57:49,257] Trial 4 finished with value: 0.687996379613146 and parameters: {'C': 4.644590543421948, 'solver': 'sag'}. Best is trial 0 with value: 0.687996379613146.\n",
      "[I 2025-06-06 10:57:49,270] Trial 5 finished with value: 0.687996379613146 and parameters: {'C': 2.201839066283701, 'solver': 'saga'}. Best is trial 0 with value: 0.687996379613146.\n",
      "[I 2025-06-06 10:57:49,282] Trial 6 finished with value: 0.687996379613146 and parameters: {'C': 3.244191293509611, 'solver': 'liblinear'}. Best is trial 0 with value: 0.687996379613146.\n",
      "[I 2025-06-06 10:57:49,296] Trial 7 finished with value: 0.687996379613146 and parameters: {'C': 3.012690979272289, 'solver': 'newton-cg'}. Best is trial 0 with value: 0.687996379613146.\n",
      "[I 2025-06-06 10:57:49,308] Trial 8 finished with value: 0.687996379613146 and parameters: {'C': 2.7389475257867715, 'solver': 'lbfgs'}. Best is trial 0 with value: 0.687996379613146.\n",
      "[I 2025-06-06 10:57:49,321] Trial 9 finished with value: 0.687996379613146 and parameters: {'C': 4.2669689192518785, 'solver': 'newton-cg'}. Best is trial 0 with value: 0.687996379613146.\n"
     ]
    },
    {
     "name": "stdout",
     "output_type": "stream",
     "text": [
      "Best Params:  {'C': 1.5437450249428895, 'solver': 'liblinear'}\n",
      "Best cv acc:  0.687996379613146\n"
     ]
    }
   ],
   "source": [
    "def objective(trial):\n",
    "    C = trial.suggest_float(\"C\", 1,5)\n",
    "    solver = trial.suggest_categorical(\"solver\",[\"newton-cg\", \"lbfgs\", \"liblinear\", \"sag\", \"saga\"] )\n",
    "    model = LogisticRegression(C=C, solver=solver, max_iter=1000)\n",
    "    scores = cross_val_score(model, X, y, cv=3, scoring='accuracy')\n",
    "    accuracy = np.mean(scores)\n",
    "    return accuracy\n",
    "\n",
    "\n",
    "study = optuna.create_study(direction=\"maximize\")\n",
    "study.optimize(objective, n_trials=10)\n",
    "\n",
    "print(\"Best Params: \", study.best_params)\n",
    "print(\"Best cv acc: \", study.best_value)"
   ]
  },
  {
   "cell_type": "code",
   "execution_count": null,
   "id": "127e799c",
   "metadata": {},
   "outputs": [],
   "source": []
  }
 ],
 "metadata": {
  "kernelspec": {
   "display_name": "Python 3",
   "language": "python",
   "name": "python3"
  },
  "language_info": {
   "codemirror_mode": {
    "name": "ipython",
    "version": 3
   },
   "file_extension": ".py",
   "mimetype": "text/x-python",
   "name": "python",
   "nbconvert_exporter": "python",
   "pygments_lexer": "ipython3",
   "version": "3.11.3"
  }
 },
 "nbformat": 4,
 "nbformat_minor": 5
}
