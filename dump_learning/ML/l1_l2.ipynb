{
 "cells": [
  {
   "cell_type": "code",
   "execution_count": 1,
   "id": "d3da2a6d",
   "metadata": {},
   "outputs": [],
   "source": [
    "import pandas as pd\n",
    "import numpy as np\n",
    "from sklearn.linear_model import LinearRegression, Lasso, Ridge\n",
    "from sklearn.model_selection import train_test_split\n",
    "from sklearn.metrics import r2_score, mean_squared_error\n",
    "import matplotlib.pyplot as plt\n"
   ]
  },
  {
   "cell_type": "code",
   "execution_count": 2,
   "id": "738ebd2f",
   "metadata": {},
   "outputs": [
    {
     "name": "stdout",
     "output_type": "stream",
     "text": [
      "(200, 151)\n"
     ]
    },
    {
     "data": {
      "text/html": [
       "<div>\n",
       "<style scoped>\n",
       "    .dataframe tbody tr th:only-of-type {\n",
       "        vertical-align: middle;\n",
       "    }\n",
       "\n",
       "    .dataframe tbody tr th {\n",
       "        vertical-align: top;\n",
       "    }\n",
       "\n",
       "    .dataframe thead th {\n",
       "        text-align: right;\n",
       "    }\n",
       "</style>\n",
       "<table border=\"1\" class=\"dataframe\">\n",
       "  <thead>\n",
       "    <tr style=\"text-align: right;\">\n",
       "      <th></th>\n",
       "      <th>f1</th>\n",
       "      <th>f2</th>\n",
       "      <th>f3</th>\n",
       "      <th>f4</th>\n",
       "      <th>f5</th>\n",
       "      <th>f6</th>\n",
       "      <th>f7</th>\n",
       "      <th>f8</th>\n",
       "      <th>f9</th>\n",
       "      <th>f10</th>\n",
       "      <th>...</th>\n",
       "      <th>f142</th>\n",
       "      <th>f143</th>\n",
       "      <th>f144</th>\n",
       "      <th>f145</th>\n",
       "      <th>f146</th>\n",
       "      <th>f147</th>\n",
       "      <th>f148</th>\n",
       "      <th>f149</th>\n",
       "      <th>f150</th>\n",
       "      <th>target</th>\n",
       "    </tr>\n",
       "  </thead>\n",
       "  <tbody>\n",
       "    <tr>\n",
       "      <th>51</th>\n",
       "      <td>0.741017</td>\n",
       "      <td>0.830498</td>\n",
       "      <td>-0.627093</td>\n",
       "      <td>0.188073</td>\n",
       "      <td>0.233865</td>\n",
       "      <td>-1.311549</td>\n",
       "      <td>1.399418</td>\n",
       "      <td>1.352363</td>\n",
       "      <td>-0.288150</td>\n",
       "      <td>0.260767</td>\n",
       "      <td>...</td>\n",
       "      <td>-0.041293</td>\n",
       "      <td>0.556022</td>\n",
       "      <td>-0.591285</td>\n",
       "      <td>-1.846573</td>\n",
       "      <td>-0.428655</td>\n",
       "      <td>1.029441</td>\n",
       "      <td>-0.336895</td>\n",
       "      <td>-0.846434</td>\n",
       "      <td>0.925672</td>\n",
       "      <td>7.303016</td>\n",
       "    </tr>\n",
       "    <tr>\n",
       "      <th>195</th>\n",
       "      <td>1.146487</td>\n",
       "      <td>-0.339530</td>\n",
       "      <td>-2.508957</td>\n",
       "      <td>0.252195</td>\n",
       "      <td>-0.384182</td>\n",
       "      <td>0.184859</td>\n",
       "      <td>-0.770425</td>\n",
       "      <td>0.613266</td>\n",
       "      <td>-1.112327</td>\n",
       "      <td>-0.166815</td>\n",
       "      <td>...</td>\n",
       "      <td>-0.960417</td>\n",
       "      <td>1.565103</td>\n",
       "      <td>0.500333</td>\n",
       "      <td>-0.774601</td>\n",
       "      <td>-0.993825</td>\n",
       "      <td>0.307204</td>\n",
       "      <td>0.044206</td>\n",
       "      <td>0.832110</td>\n",
       "      <td>0.546968</td>\n",
       "      <td>-18.681830</td>\n",
       "    </tr>\n",
       "    <tr>\n",
       "      <th>89</th>\n",
       "      <td>1.029961</td>\n",
       "      <td>-0.447322</td>\n",
       "      <td>0.323079</td>\n",
       "      <td>-1.062394</td>\n",
       "      <td>-0.182896</td>\n",
       "      <td>0.452372</td>\n",
       "      <td>1.412221</td>\n",
       "      <td>-0.482744</td>\n",
       "      <td>-0.334775</td>\n",
       "      <td>-0.077837</td>\n",
       "      <td>...</td>\n",
       "      <td>0.891841</td>\n",
       "      <td>-0.154650</td>\n",
       "      <td>-1.813293</td>\n",
       "      <td>-0.019318</td>\n",
       "      <td>0.101630</td>\n",
       "      <td>1.167218</td>\n",
       "      <td>1.588447</td>\n",
       "      <td>-0.684987</td>\n",
       "      <td>0.801182</td>\n",
       "      <td>81.039059</td>\n",
       "    </tr>\n",
       "    <tr>\n",
       "      <th>137</th>\n",
       "      <td>0.287124</td>\n",
       "      <td>-1.090399</td>\n",
       "      <td>-1.581191</td>\n",
       "      <td>0.159856</td>\n",
       "      <td>1.901191</td>\n",
       "      <td>0.092845</td>\n",
       "      <td>-1.881849</td>\n",
       "      <td>-1.803140</td>\n",
       "      <td>-0.612437</td>\n",
       "      <td>0.896839</td>\n",
       "      <td>...</td>\n",
       "      <td>0.440757</td>\n",
       "      <td>0.906343</td>\n",
       "      <td>0.210635</td>\n",
       "      <td>-0.801220</td>\n",
       "      <td>0.456203</td>\n",
       "      <td>-0.402049</td>\n",
       "      <td>0.745187</td>\n",
       "      <td>1.483259</td>\n",
       "      <td>-2.605577</td>\n",
       "      <td>-11.377882</td>\n",
       "    </tr>\n",
       "    <tr>\n",
       "      <th>169</th>\n",
       "      <td>-1.245151</td>\n",
       "      <td>0.002184</td>\n",
       "      <td>-1.344928</td>\n",
       "      <td>0.572471</td>\n",
       "      <td>-0.245995</td>\n",
       "      <td>0.187942</td>\n",
       "      <td>-1.165202</td>\n",
       "      <td>0.542424</td>\n",
       "      <td>1.357620</td>\n",
       "      <td>-0.331024</td>\n",
       "      <td>...</td>\n",
       "      <td>1.271918</td>\n",
       "      <td>-1.258197</td>\n",
       "      <td>0.332705</td>\n",
       "      <td>-0.595424</td>\n",
       "      <td>0.138864</td>\n",
       "      <td>1.053310</td>\n",
       "      <td>2.130104</td>\n",
       "      <td>0.751278</td>\n",
       "      <td>0.294935</td>\n",
       "      <td>38.908238</td>\n",
       "    </tr>\n",
       "    <tr>\n",
       "      <th>199</th>\n",
       "      <td>-0.592464</td>\n",
       "      <td>-0.562168</td>\n",
       "      <td>0.288694</td>\n",
       "      <td>-0.088363</td>\n",
       "      <td>-0.646227</td>\n",
       "      <td>-0.109610</td>\n",
       "      <td>0.006422</td>\n",
       "      <td>1.000582</td>\n",
       "      <td>-0.026406</td>\n",
       "      <td>-1.748532</td>\n",
       "      <td>...</td>\n",
       "      <td>-0.468661</td>\n",
       "      <td>0.888839</td>\n",
       "      <td>0.902492</td>\n",
       "      <td>0.952591</td>\n",
       "      <td>0.387827</td>\n",
       "      <td>1.377367</td>\n",
       "      <td>0.378354</td>\n",
       "      <td>1.713530</td>\n",
       "      <td>-1.619920</td>\n",
       "      <td>110.131842</td>\n",
       "    </tr>\n",
       "    <tr>\n",
       "      <th>162</th>\n",
       "      <td>-1.702584</td>\n",
       "      <td>0.018434</td>\n",
       "      <td>-2.081929</td>\n",
       "      <td>0.517659</td>\n",
       "      <td>-0.522723</td>\n",
       "      <td>0.026091</td>\n",
       "      <td>-1.279577</td>\n",
       "      <td>-1.556629</td>\n",
       "      <td>1.029156</td>\n",
       "      <td>0.399136</td>\n",
       "      <td>...</td>\n",
       "      <td>-1.026035</td>\n",
       "      <td>-0.108586</td>\n",
       "      <td>1.031739</td>\n",
       "      <td>-1.446883</td>\n",
       "      <td>1.453634</td>\n",
       "      <td>-0.172031</td>\n",
       "      <td>-0.734320</td>\n",
       "      <td>-1.600189</td>\n",
       "      <td>0.706521</td>\n",
       "      <td>58.928250</td>\n",
       "    </tr>\n",
       "  </tbody>\n",
       "</table>\n",
       "<p>7 rows × 151 columns</p>\n",
       "</div>"
      ],
      "text/plain": [
       "           f1        f2        f3        f4        f5        f6        f7  \\\n",
       "51   0.741017  0.830498 -0.627093  0.188073  0.233865 -1.311549  1.399418   \n",
       "195  1.146487 -0.339530 -2.508957  0.252195 -0.384182  0.184859 -0.770425   \n",
       "89   1.029961 -0.447322  0.323079 -1.062394 -0.182896  0.452372  1.412221   \n",
       "137  0.287124 -1.090399 -1.581191  0.159856  1.901191  0.092845 -1.881849   \n",
       "169 -1.245151  0.002184 -1.344928  0.572471 -0.245995  0.187942 -1.165202   \n",
       "199 -0.592464 -0.562168  0.288694 -0.088363 -0.646227 -0.109610  0.006422   \n",
       "162 -1.702584  0.018434 -2.081929  0.517659 -0.522723  0.026091 -1.279577   \n",
       "\n",
       "           f8        f9       f10  ...      f142      f143      f144  \\\n",
       "51   1.352363 -0.288150  0.260767  ... -0.041293  0.556022 -0.591285   \n",
       "195  0.613266 -1.112327 -0.166815  ... -0.960417  1.565103  0.500333   \n",
       "89  -0.482744 -0.334775 -0.077837  ...  0.891841 -0.154650 -1.813293   \n",
       "137 -1.803140 -0.612437  0.896839  ...  0.440757  0.906343  0.210635   \n",
       "169  0.542424  1.357620 -0.331024  ...  1.271918 -1.258197  0.332705   \n",
       "199  1.000582 -0.026406 -1.748532  ... -0.468661  0.888839  0.902492   \n",
       "162 -1.556629  1.029156  0.399136  ... -1.026035 -0.108586  1.031739   \n",
       "\n",
       "         f145      f146      f147      f148      f149      f150      target  \n",
       "51  -1.846573 -0.428655  1.029441 -0.336895 -0.846434  0.925672    7.303016  \n",
       "195 -0.774601 -0.993825  0.307204  0.044206  0.832110  0.546968  -18.681830  \n",
       "89  -0.019318  0.101630  1.167218  1.588447 -0.684987  0.801182   81.039059  \n",
       "137 -0.801220  0.456203 -0.402049  0.745187  1.483259 -2.605577  -11.377882  \n",
       "169 -0.595424  0.138864  1.053310  2.130104  0.751278  0.294935   38.908238  \n",
       "199  0.952591  0.387827  1.377367  0.378354  1.713530 -1.619920  110.131842  \n",
       "162 -1.446883  1.453634 -0.172031 -0.734320 -1.600189  0.706521   58.928250  \n",
       "\n",
       "[7 rows x 151 columns]"
      ]
     },
     "execution_count": 2,
     "metadata": {},
     "output_type": "execute_result"
    }
   ],
   "source": [
    "df = pd.read_csv(\"datasets\\\\dataset.csv\")\n",
    "print(df.shape)\n",
    "df.sample(7)"
   ]
  },
  {
   "cell_type": "code",
   "execution_count": 4,
   "id": "c869f36d",
   "metadata": {},
   "outputs": [],
   "source": [
    "X = df.drop([\"target\"], axis=1)\n",
    "y = df[\"target\"]"
   ]
  },
  {
   "cell_type": "code",
   "execution_count": 5,
   "id": "821686dc",
   "metadata": {},
   "outputs": [],
   "source": [
    "X_train, X_test, y_train, y_test = train_test_split(X, y, test_size=0.25, random_state=420)\n"
   ]
  },
  {
   "cell_type": "code",
   "execution_count": 6,
   "id": "3f189008",
   "metadata": {},
   "outputs": [
    {
     "data": {
      "text/plain": [
       "0.6208661821501454"
      ]
     },
     "execution_count": 6,
     "metadata": {},
     "output_type": "execute_result"
    }
   ],
   "source": [
    "lm = LinearRegression()\n",
    "lm.fit(X_train, y_train)\n",
    "lm.score(X_test, y_test)"
   ]
  },
  {
   "cell_type": "code",
   "execution_count": 7,
   "id": "c06c721c",
   "metadata": {},
   "outputs": [
    {
     "data": {
      "text/plain": [
       "0.9872341841740468"
      ]
     },
     "execution_count": 7,
     "metadata": {},
     "output_type": "execute_result"
    }
   ],
   "source": [
    "lasso_model = Lasso(alpha=1.0)\n",
    "lasso_model.fit(X_train, y_train)\n",
    "lasso_model.score(X_test,y_test)"
   ]
  },
  {
   "cell_type": "code",
   "execution_count": 8,
   "id": "96988e95",
   "metadata": {},
   "outputs": [
    {
     "data": {
      "text/plain": [
       "0.9390844312977176"
      ]
     },
     "execution_count": 8,
     "metadata": {},
     "output_type": "execute_result"
    }
   ],
   "source": [
    "ridge_model = Ridge(alpha=1.0)\n",
    "ridge_model.fit(X_train, y_train)\n",
    "ridge_model.score(X_test, y_test)"
   ]
  },
  {
   "cell_type": "code",
   "execution_count": 9,
   "id": "55d648c1",
   "metadata": {},
   "outputs": [
    {
     "data": {
      "text/plain": [
       "0.9876151266864551"
      ]
     },
     "execution_count": 9,
     "metadata": {},
     "output_type": "execute_result"
    }
   ],
   "source": [
    "from sklearn.preprocessing import StandardScaler\n",
    "\n",
    "scaler = StandardScaler()\n",
    "X_train_scaled = scaler.fit_transform(X_train)\n",
    "X_test_scaled = scaler.transform(X_test)\n",
    "\n",
    "lasso_model = Lasso(alpha=1.0)\n",
    "lasso_model.fit(X_train_scaled, y_train)\n",
    "lasso_model.score(X_test_scaled, y_test)\n"
   ]
  },
  {
   "cell_type": "code",
   "execution_count": 10,
   "id": "329f30ba",
   "metadata": {},
   "outputs": [
    {
     "name": "stdout",
     "output_type": "stream",
     "text": [
      "Train score: 0.9954786619329858\n",
      "Test score: 0.9876151266864551\n"
     ]
    }
   ],
   "source": [
    "train_score = lasso_model.score(X_train_scaled, y_train)\n",
    "test_score = lasso_model.score(X_test_scaled, y_test)\n",
    "\n",
    "print(\"Train score:\", train_score)\n",
    "print(\"Test score:\", test_score)\n"
   ]
  },
  {
   "cell_type": "code",
   "execution_count": 11,
   "id": "aee15286",
   "metadata": {},
   "outputs": [
    {
     "name": "stdout",
     "output_type": "stream",
     "text": [
      "Train MSE: 84.77334508249132\n",
      "Test MSE: 186.30581894455906\n"
     ]
    }
   ],
   "source": [
    "\n",
    "train_predictions = lasso_model.predict(X_train_scaled)\n",
    "test_predictions = lasso_model.predict(X_test_scaled)\n",
    "\n",
    "train_mse = mean_squared_error(y_train, train_predictions)\n",
    "test_mse = mean_squared_error(y_test, test_predictions)\n",
    "\n",
    "print(\"Train MSE:\", train_mse)\n",
    "print(\"Test MSE:\", test_mse)\n"
   ]
  },
  {
   "cell_type": "code",
   "execution_count": null,
   "id": "047ac7f6",
   "metadata": {},
   "outputs": [],
   "source": []
  }
 ],
 "metadata": {
  "kernelspec": {
   "display_name": "Python 3",
   "language": "python",
   "name": "python3"
  },
  "language_info": {
   "codemirror_mode": {
    "name": "ipython",
    "version": 3
   },
   "file_extension": ".py",
   "mimetype": "text/x-python",
   "name": "python",
   "nbconvert_exporter": "python",
   "pygments_lexer": "ipython3",
   "version": "3.11.3"
  }
 },
 "nbformat": 4,
 "nbformat_minor": 5
}
