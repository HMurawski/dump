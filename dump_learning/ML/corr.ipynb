{
 "cells": [
  {
   "cell_type": "code",
   "execution_count": 3,
   "id": "9acb3b46",
   "metadata": {},
   "outputs": [],
   "source": [
    "import pandas as pd\n"
   ]
  },
  {
   "cell_type": "code",
   "execution_count": 4,
   "id": "c1a793f3",
   "metadata": {},
   "outputs": [
    {
     "data": {
      "text/html": [
       "<div>\n",
       "<style scoped>\n",
       "    .dataframe tbody tr th:only-of-type {\n",
       "        vertical-align: middle;\n",
       "    }\n",
       "\n",
       "    .dataframe tbody tr th {\n",
       "        vertical-align: top;\n",
       "    }\n",
       "\n",
       "    .dataframe thead th {\n",
       "        text-align: right;\n",
       "    }\n",
       "</style>\n",
       "<table border=\"1\" class=\"dataframe\">\n",
       "  <thead>\n",
       "    <tr style=\"text-align: right;\">\n",
       "      <th></th>\n",
       "      <th>area_sqr_ft</th>\n",
       "      <th>bedrooms</th>\n",
       "      <th>color</th>\n",
       "      <th>price_lakhs</th>\n",
       "    </tr>\n",
       "  </thead>\n",
       "  <tbody>\n",
       "    <tr>\n",
       "      <th>0</th>\n",
       "      <td>3774</td>\n",
       "      <td>2</td>\n",
       "      <td>Red</td>\n",
       "      <td>216</td>\n",
       "    </tr>\n",
       "    <tr>\n",
       "      <th>1</th>\n",
       "      <td>1460</td>\n",
       "      <td>3</td>\n",
       "      <td>Gray</td>\n",
       "      <td>88</td>\n",
       "    </tr>\n",
       "    <tr>\n",
       "      <th>2</th>\n",
       "      <td>1894</td>\n",
       "      <td>4</td>\n",
       "      <td>Gray</td>\n",
       "      <td>147</td>\n",
       "    </tr>\n",
       "    <tr>\n",
       "      <th>3</th>\n",
       "      <td>1730</td>\n",
       "      <td>2</td>\n",
       "      <td>Blue</td>\n",
       "      <td>84</td>\n",
       "    </tr>\n",
       "    <tr>\n",
       "      <th>4</th>\n",
       "      <td>1695</td>\n",
       "      <td>1</td>\n",
       "      <td>Blue</td>\n",
       "      <td>77</td>\n",
       "    </tr>\n",
       "  </tbody>\n",
       "</table>\n",
       "</div>"
      ],
      "text/plain": [
       "   area_sqr_ft  bedrooms color  price_lakhs\n",
       "0         3774         2   Red          216\n",
       "1         1460         3  Gray           88\n",
       "2         1894         4  Gray          147\n",
       "3         1730         2  Blue           84\n",
       "4         1695         1  Blue           77"
      ]
     },
     "execution_count": 4,
     "metadata": {},
     "output_type": "execute_result"
    }
   ],
   "source": [
    "df = pd.read_csv(\"datasets\\\\home_prices.csv\")\n",
    "df.head()"
   ]
  },
  {
   "cell_type": "code",
   "execution_count": 8,
   "id": "1d7f238f",
   "metadata": {},
   "outputs": [
    {
     "data": {
      "text/plain": [
       "array(['Red', 'Gray', 'Blue', 'Yellow', 'Green', 'White'], dtype=object)"
      ]
     },
     "execution_count": 8,
     "metadata": {},
     "output_type": "execute_result"
    }
   ],
   "source": [
    "df[\"color\"].unique()"
   ]
  },
  {
   "cell_type": "code",
   "execution_count": 9,
   "id": "36c6007f",
   "metadata": {},
   "outputs": [],
   "source": [
    "df_encoded = pd.get_dummies(df, columns=[\"color\"], drop_first=True)"
   ]
  },
  {
   "cell_type": "code",
   "execution_count": 10,
   "id": "76965f5c",
   "metadata": {},
   "outputs": [
    {
     "data": {
      "text/html": [
       "<div>\n",
       "<style scoped>\n",
       "    .dataframe tbody tr th:only-of-type {\n",
       "        vertical-align: middle;\n",
       "    }\n",
       "\n",
       "    .dataframe tbody tr th {\n",
       "        vertical-align: top;\n",
       "    }\n",
       "\n",
       "    .dataframe thead th {\n",
       "        text-align: right;\n",
       "    }\n",
       "</style>\n",
       "<table border=\"1\" class=\"dataframe\">\n",
       "  <thead>\n",
       "    <tr style=\"text-align: right;\">\n",
       "      <th></th>\n",
       "      <th>area_sqr_ft</th>\n",
       "      <th>bedrooms</th>\n",
       "      <th>price_lakhs</th>\n",
       "      <th>color_Gray</th>\n",
       "      <th>color_Green</th>\n",
       "      <th>color_Red</th>\n",
       "      <th>color_White</th>\n",
       "      <th>color_Yellow</th>\n",
       "    </tr>\n",
       "  </thead>\n",
       "  <tbody>\n",
       "    <tr>\n",
       "      <th>area_sqr_ft</th>\n",
       "      <td>1.000000</td>\n",
       "      <td>0.185810</td>\n",
       "      <td>0.945365</td>\n",
       "      <td>-0.068944</td>\n",
       "      <td>-0.032012</td>\n",
       "      <td>0.059055</td>\n",
       "      <td>0.063827</td>\n",
       "      <td>-0.037819</td>\n",
       "    </tr>\n",
       "    <tr>\n",
       "      <th>bedrooms</th>\n",
       "      <td>0.185810</td>\n",
       "      <td>1.000000</td>\n",
       "      <td>0.439445</td>\n",
       "      <td>0.040882</td>\n",
       "      <td>-0.120207</td>\n",
       "      <td>-0.004177</td>\n",
       "      <td>-0.023676</td>\n",
       "      <td>0.015286</td>\n",
       "    </tr>\n",
       "    <tr>\n",
       "      <th>price_lakhs</th>\n",
       "      <td>0.945365</td>\n",
       "      <td>0.439445</td>\n",
       "      <td>1.000000</td>\n",
       "      <td>-0.040565</td>\n",
       "      <td>-0.041959</td>\n",
       "      <td>0.045803</td>\n",
       "      <td>0.051122</td>\n",
       "      <td>-0.046673</td>\n",
       "    </tr>\n",
       "    <tr>\n",
       "      <th>color_Gray</th>\n",
       "      <td>-0.068944</td>\n",
       "      <td>0.040882</td>\n",
       "      <td>-0.040565</td>\n",
       "      <td>1.000000</td>\n",
       "      <td>-0.214409</td>\n",
       "      <td>-0.230990</td>\n",
       "      <td>-0.205931</td>\n",
       "      <td>-0.217205</td>\n",
       "    </tr>\n",
       "    <tr>\n",
       "      <th>color_Green</th>\n",
       "      <td>-0.032012</td>\n",
       "      <td>-0.120207</td>\n",
       "      <td>-0.041959</td>\n",
       "      <td>-0.214409</td>\n",
       "      <td>1.000000</td>\n",
       "      <td>-0.190117</td>\n",
       "      <td>-0.169493</td>\n",
       "      <td>-0.178771</td>\n",
       "    </tr>\n",
       "    <tr>\n",
       "      <th>color_Red</th>\n",
       "      <td>0.059055</td>\n",
       "      <td>-0.004177</td>\n",
       "      <td>0.045803</td>\n",
       "      <td>-0.230990</td>\n",
       "      <td>-0.190117</td>\n",
       "      <td>1.000000</td>\n",
       "      <td>-0.182600</td>\n",
       "      <td>-0.192596</td>\n",
       "    </tr>\n",
       "    <tr>\n",
       "      <th>color_White</th>\n",
       "      <td>0.063827</td>\n",
       "      <td>-0.023676</td>\n",
       "      <td>0.051122</td>\n",
       "      <td>-0.205931</td>\n",
       "      <td>-0.169493</td>\n",
       "      <td>-0.182600</td>\n",
       "      <td>1.000000</td>\n",
       "      <td>-0.171703</td>\n",
       "    </tr>\n",
       "    <tr>\n",
       "      <th>color_Yellow</th>\n",
       "      <td>-0.037819</td>\n",
       "      <td>0.015286</td>\n",
       "      <td>-0.046673</td>\n",
       "      <td>-0.217205</td>\n",
       "      <td>-0.178771</td>\n",
       "      <td>-0.192596</td>\n",
       "      <td>-0.171703</td>\n",
       "      <td>1.000000</td>\n",
       "    </tr>\n",
       "  </tbody>\n",
       "</table>\n",
       "</div>"
      ],
      "text/plain": [
       "              area_sqr_ft  bedrooms  price_lakhs  color_Gray  color_Green  \\\n",
       "area_sqr_ft      1.000000  0.185810     0.945365   -0.068944    -0.032012   \n",
       "bedrooms         0.185810  1.000000     0.439445    0.040882    -0.120207   \n",
       "price_lakhs      0.945365  0.439445     1.000000   -0.040565    -0.041959   \n",
       "color_Gray      -0.068944  0.040882    -0.040565    1.000000    -0.214409   \n",
       "color_Green     -0.032012 -0.120207    -0.041959   -0.214409     1.000000   \n",
       "color_Red        0.059055 -0.004177     0.045803   -0.230990    -0.190117   \n",
       "color_White      0.063827 -0.023676     0.051122   -0.205931    -0.169493   \n",
       "color_Yellow    -0.037819  0.015286    -0.046673   -0.217205    -0.178771   \n",
       "\n",
       "              color_Red  color_White  color_Yellow  \n",
       "area_sqr_ft    0.059055     0.063827     -0.037819  \n",
       "bedrooms      -0.004177    -0.023676      0.015286  \n",
       "price_lakhs    0.045803     0.051122     -0.046673  \n",
       "color_Gray    -0.230990    -0.205931     -0.217205  \n",
       "color_Green   -0.190117    -0.169493     -0.178771  \n",
       "color_Red      1.000000    -0.182600     -0.192596  \n",
       "color_White   -0.182600     1.000000     -0.171703  \n",
       "color_Yellow  -0.192596    -0.171703      1.000000  "
      ]
     },
     "execution_count": 10,
     "metadata": {},
     "output_type": "execute_result"
    }
   ],
   "source": [
    "cm = df_encoded.corr()\n",
    "cm"
   ]
  },
  {
   "cell_type": "code",
   "execution_count": 13,
   "id": "fddeb198",
   "metadata": {},
   "outputs": [
    {
     "data": {
      "text/plain": [
       "price_lakhs     1.000000\n",
       "area_sqr_ft     0.945365\n",
       "bedrooms        0.439445\n",
       "color_White     0.051122\n",
       "color_Red       0.045803\n",
       "color_Gray      0.040565\n",
       "color_Green     0.041959\n",
       "color_Yellow    0.046673\n",
       "Name: price_lakhs, dtype: float64"
      ]
     },
     "execution_count": 13,
     "metadata": {},
     "output_type": "execute_result"
    }
   ],
   "source": [
    "cm_price = abs(cm[\"price_lakhs\"].sort_values(ascending=False))\n",
    "cm_price"
   ]
  },
  {
   "cell_type": "code",
   "execution_count": 18,
   "id": "c8c170c2",
   "metadata": {},
   "outputs": [],
   "source": [
    "selected_features = cm_price[cm_price > 0.2].index.drop(\"price_lakhs\")"
   ]
  },
  {
   "cell_type": "code",
   "execution_count": 19,
   "id": "225a724f",
   "metadata": {},
   "outputs": [],
   "source": [
    "X = df[selected_features]\n",
    "y = df[\"price_lakhs\"]"
   ]
  },
  {
   "cell_type": "code",
   "execution_count": 22,
   "id": "baa573c0",
   "metadata": {},
   "outputs": [
    {
     "name": "stdout",
     "output_type": "stream",
     "text": [
      "cross val scores:  [0.9588887  0.95701878 0.96410802 0.97048877 0.97314069]\n"
     ]
    }
   ],
   "source": [
    "from sklearn.linear_model import LinearRegression\n",
    "from sklearn.model_selection import cross_val_score\n",
    "from sklearn.metrics import mean_squared_error\n",
    "model = LinearRegression()\n",
    "\n",
    "print(\"cross val scores: \", cross_val_score(model, X,y, cv=5))"
   ]
  },
  {
   "cell_type": "code",
   "execution_count": null,
   "id": "bfd5a3a7",
   "metadata": {},
   "outputs": [],
   "source": []
  }
 ],
 "metadata": {
  "kernelspec": {
   "display_name": "Python 3",
   "language": "python",
   "name": "python3"
  },
  "language_info": {
   "codemirror_mode": {
    "name": "ipython",
    "version": 3
   },
   "file_extension": ".py",
   "mimetype": "text/x-python",
   "name": "python",
   "nbconvert_exporter": "python",
   "pygments_lexer": "ipython3",
   "version": "3.11.3"
  }
 },
 "nbformat": 4,
 "nbformat_minor": 5
}
