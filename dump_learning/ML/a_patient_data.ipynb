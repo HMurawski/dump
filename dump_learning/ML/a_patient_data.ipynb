{
 "cells": [
  {
   "cell_type": "markdown",
   "id": "9f3ff33c-6de3-4403-a484-bcfa23016ac5",
   "metadata": {},
   "source": [
    "### Problem Statement\n",
    "You have been provided with a dataset named **`\"patient_health_data.csv\"`**, which includes records of various health indicators for a group of patients. The dataset comprises the following columns:\n",
    "\n",
    "- `age:` The age of the patient.\n",
    "- `bmi:` Body Mass Index of the patient.\n",
    "- `blood_pressure:` The blood pressure of the patient.\n",
    "- `cholesterol:` Cholesterol levels of the patient.\n",
    "- `glucose:` Glucose levels of the patient.\n",
    "- `insulin:` Insulin levels of the patient.\n",
    "- `heart_rate:` Heart rate of the patient.\n",
    "- `activity_level:` Activity level of the patient.\n",
    "- `diet_quality:` Quality of diet of the patient.\n",
    "- `smoking_status:` Whether the patient smokes (Yes or No).\n",
    "- `alcohol_intake:` The amount of alcohol intake by the patient.\n",
    "- `health_risk_score:` A composite score representing the overall health risk of a patient.\n",
    "\n",
    "Your task is to use this dataset to build a linear regression model to predict the health risk score based on the given predictor variables. Additionally, you will use L1 (Lasso) and L2 (Ridge) regularization techniques to improve the model's performance. "
   ]
  },
  {
   "cell_type": "markdown",
   "id": "e1eac6f0-96bf-499a-94c1-5c16b54373bb",
   "metadata": {},
   "source": [
    "**Import Necessary Libraries**"
   ]
  },
  {
   "cell_type": "code",
   "execution_count": 13,
   "id": "2fd337fd-ceb1-4266-b487-2015d3b47876",
   "metadata": {},
   "outputs": [],
   "source": [
    "# Import necessary libraries\n",
    "import pandas as pd\n",
    "import numpy as np\n",
    "import matplotlib.pyplot as plt\n",
    "from sklearn.linear_model import LinearRegression, Lasso, Ridge\n",
    "from sklearn.metrics import mean_squared_error, r2_score\n",
    "from sklearn.model_selection import train_test_split"
   ]
  },
  {
   "cell_type": "markdown",
   "id": "33d9a812-9dfb-4323-bc42-04a1fba1b73d",
   "metadata": {},
   "source": [
    "### Task 1: Data Preparation and Exploration\n",
    "\n",
    "1. Import the data from the **`\"patient_health_data.csv\"`** file and store it in a variable df.\n",
    "2. Display the number of rows and columns in the dataset.\n",
    "3. Display the first few rows of the dataset to get an overview.\n",
    "4. Check for any missing values in the dataset and handle them appropriately.\n",
    "5. Encode the categorical variable `'smoking_status'` by converting 'Yes' to 1 and 'No' to 0."
   ]
  },
  {
   "cell_type": "code",
   "execution_count": 14,
   "id": "f9ec42ac-a645-4d39-a809-acfbed5d30fe",
   "metadata": {},
   "outputs": [
    {
     "name": "stdout",
     "output_type": "stream",
     "text": [
      "(250, 12)\n",
      "              age         bmi  blood_pressure  cholesterol     glucose  \\\n",
      "count  250.000000  250.000000      250.000000   250.000000  250.000000   \n",
      "mean    49.832000   26.574329      130.360855   226.626053  127.226151   \n",
      "std     17.411733    4.916479       28.263584    40.869293   32.824991   \n",
      "min     20.000000   18.088143       80.259502   150.406635   70.026128   \n",
      "25%     34.000000   22.434370      106.144688   194.314873   99.920558   \n",
      "50%     49.500000   26.414415      131.249159   229.973503  127.615288   \n",
      "75%     63.000000   30.476673      154.070759   261.067048  155.043461   \n",
      "max     79.000000   34.961588      179.593124   299.653892  179.928885   \n",
      "\n",
      "          insulin  heart_rate  activity_level  diet_quality  alcohol_intake  \\\n",
      "count  250.000000  250.000000      250.000000    250.000000      250.000000   \n",
      "mean    13.693073   79.912334        5.295842      5.464092        2.515819   \n",
      "std      6.607977   10.969582        2.589981      2.609052        1.418073   \n",
      "min      2.023678   60.049467        1.002993      1.016919        0.010519   \n",
      "25%      7.721990   70.238188        3.043566      3.031235        1.321232   \n",
      "50%     14.242861   80.728186        5.324452      5.496878        2.524000   \n",
      "75%     19.385736   88.683983        7.543358      7.738909        3.723202   \n",
      "max     24.819066   99.819220        9.931739      9.973703        4.998569   \n",
      "\n",
      "       health_risk_score  \n",
      "count         250.000000  \n",
      "mean          142.470077  \n",
      "std            24.555977  \n",
      "min            66.457203  \n",
      "25%           127.395884  \n",
      "50%           142.182998  \n",
      "75%           158.977659  \n",
      "max           206.491354  \n"
     ]
    },
    {
     "data": {
      "text/html": [
       "<div>\n",
       "<style scoped>\n",
       "    .dataframe tbody tr th:only-of-type {\n",
       "        vertical-align: middle;\n",
       "    }\n",
       "\n",
       "    .dataframe tbody tr th {\n",
       "        vertical-align: top;\n",
       "    }\n",
       "\n",
       "    .dataframe thead th {\n",
       "        text-align: right;\n",
       "    }\n",
       "</style>\n",
       "<table border=\"1\" class=\"dataframe\">\n",
       "  <thead>\n",
       "    <tr style=\"text-align: right;\">\n",
       "      <th></th>\n",
       "      <th>age</th>\n",
       "      <th>bmi</th>\n",
       "      <th>blood_pressure</th>\n",
       "      <th>cholesterol</th>\n",
       "      <th>glucose</th>\n",
       "      <th>insulin</th>\n",
       "      <th>heart_rate</th>\n",
       "      <th>activity_level</th>\n",
       "      <th>diet_quality</th>\n",
       "      <th>smoking_status</th>\n",
       "      <th>alcohol_intake</th>\n",
       "      <th>health_risk_score</th>\n",
       "    </tr>\n",
       "  </thead>\n",
       "  <tbody>\n",
       "    <tr>\n",
       "      <th>0</th>\n",
       "      <td>58</td>\n",
       "      <td>24.865215</td>\n",
       "      <td>122.347094</td>\n",
       "      <td>165.730375</td>\n",
       "      <td>149.289441</td>\n",
       "      <td>22.306844</td>\n",
       "      <td>75.866391</td>\n",
       "      <td>1.180237</td>\n",
       "      <td>7.675409</td>\n",
       "      <td>No</td>\n",
       "      <td>0.824123</td>\n",
       "      <td>150.547752</td>\n",
       "    </tr>\n",
       "    <tr>\n",
       "      <th>1</th>\n",
       "      <td>71</td>\n",
       "      <td>19.103168</td>\n",
       "      <td>136.852028</td>\n",
       "      <td>260.610781</td>\n",
       "      <td>158.584646</td>\n",
       "      <td>13.869817</td>\n",
       "      <td>69.481114</td>\n",
       "      <td>7.634622</td>\n",
       "      <td>8.933057</td>\n",
       "      <td>No</td>\n",
       "      <td>0.852910</td>\n",
       "      <td>160.320350</td>\n",
       "    </tr>\n",
       "    <tr>\n",
       "      <th>2</th>\n",
       "      <td>48</td>\n",
       "      <td>22.316562</td>\n",
       "      <td>137.592457</td>\n",
       "      <td>177.342582</td>\n",
       "      <td>178.760166</td>\n",
       "      <td>22.849816</td>\n",
       "      <td>69.386962</td>\n",
       "      <td>7.917398</td>\n",
       "      <td>3.501119</td>\n",
       "      <td>Yes</td>\n",
       "      <td>4.740542</td>\n",
       "      <td>187.487398</td>\n",
       "    </tr>\n",
       "    <tr>\n",
       "      <th>3</th>\n",
       "      <td>34</td>\n",
       "      <td>22.196893</td>\n",
       "      <td>153.164775</td>\n",
       "      <td>234.594764</td>\n",
       "      <td>136.351714</td>\n",
       "      <td>15.140336</td>\n",
       "      <td>95.348387</td>\n",
       "      <td>3.192910</td>\n",
       "      <td>2.745585</td>\n",
       "      <td>No</td>\n",
       "      <td>2.226231</td>\n",
       "      <td>148.773138</td>\n",
       "    </tr>\n",
       "    <tr>\n",
       "      <th>4</th>\n",
       "      <td>62</td>\n",
       "      <td>29.837173</td>\n",
       "      <td>92.768973</td>\n",
       "      <td>276.106498</td>\n",
       "      <td>158.753516</td>\n",
       "      <td>17.228576</td>\n",
       "      <td>77.680975</td>\n",
       "      <td>7.044026</td>\n",
       "      <td>8.918348</td>\n",
       "      <td>No</td>\n",
       "      <td>3.944011</td>\n",
       "      <td>170.609655</td>\n",
       "    </tr>\n",
       "  </tbody>\n",
       "</table>\n",
       "</div>"
      ],
      "text/plain": [
       "   age        bmi  blood_pressure  cholesterol     glucose    insulin  \\\n",
       "0   58  24.865215      122.347094   165.730375  149.289441  22.306844   \n",
       "1   71  19.103168      136.852028   260.610781  158.584646  13.869817   \n",
       "2   48  22.316562      137.592457   177.342582  178.760166  22.849816   \n",
       "3   34  22.196893      153.164775   234.594764  136.351714  15.140336   \n",
       "4   62  29.837173       92.768973   276.106498  158.753516  17.228576   \n",
       "\n",
       "   heart_rate  activity_level  diet_quality smoking_status  alcohol_intake  \\\n",
       "0   75.866391        1.180237      7.675409             No        0.824123   \n",
       "1   69.481114        7.634622      8.933057             No        0.852910   \n",
       "2   69.386962        7.917398      3.501119            Yes        4.740542   \n",
       "3   95.348387        3.192910      2.745585             No        2.226231   \n",
       "4   77.680975        7.044026      8.918348             No        3.944011   \n",
       "\n",
       "   health_risk_score  \n",
       "0         150.547752  \n",
       "1         160.320350  \n",
       "2         187.487398  \n",
       "3         148.773138  \n",
       "4         170.609655  "
      ]
     },
     "execution_count": 14,
     "metadata": {},
     "output_type": "execute_result"
    }
   ],
   "source": [
    "# Step 1: Import the data from the \"patient_health_data.csv\" file and store it in a variable 'df'\n",
    "df = pd.read_csv(\"datasets\\\\patient_health_data.csv\")\n",
    "\n",
    "# Step 2: Display the number of rows and columns in the dataset\n",
    "print(df.shape)\n",
    "print(df.describe())\n",
    "\n",
    "# Step 3: Display the first few rows of the dataset to get an overview\n",
    "df.head()"
   ]
  },
  {
   "cell_type": "code",
   "execution_count": 15,
   "id": "544ecea9-7860-4623-97ee-5218ee729282",
   "metadata": {},
   "outputs": [
    {
     "data": {
      "text/plain": [
       "age                  0\n",
       "bmi                  0\n",
       "blood_pressure       0\n",
       "cholesterol          0\n",
       "glucose              0\n",
       "insulin              0\n",
       "heart_rate           0\n",
       "activity_level       0\n",
       "diet_quality         0\n",
       "smoking_status       0\n",
       "alcohol_intake       0\n",
       "health_risk_score    0\n",
       "dtype: int64"
      ]
     },
     "execution_count": 15,
     "metadata": {},
     "output_type": "execute_result"
    }
   ],
   "source": [
    "# Step 4: Check for any missing values in the dataset and handle them appropriately\n",
    "df.isna().sum()"
   ]
  },
  {
   "cell_type": "code",
   "execution_count": 16,
   "id": "f66339cd-ea78-443c-855c-9ebd9c936aa4",
   "metadata": {},
   "outputs": [],
   "source": [
    "# Step 5: Encode the categorical variable 'smoking_status' by converting 'Yes' to 1 and 'No' to 0.\n",
    "df_encoded = pd.get_dummies(df, columns=[\"smoking_status\"], drop_first=True)\n"
   ]
  },
  {
   "cell_type": "markdown",
   "id": "f16b6366-41ba-4f54-a398-30b7d04fa741",
   "metadata": {},
   "source": [
    "### Task 2: Train Linear Regression Models\n",
    "\n",
    "1. Select the features and the target variable for modeling.\n",
    "2. Split the data into training and test sets with a test size of 25%.\n",
    "3. Initialize and train a Linear Regression model, and evaluate its performance using R-squared.\n",
    "4. Initialize and train a Lasso Regression model with various alpha values provided in a list: [0.01, 0.1, 1.0, 10.0], and evaluate its performance using R-squared.\n",
    "5. Initialize and train a Ridge Regression model with various alpha values provided in a list: [0.01, 0.1, 1.0, 10.0], and evaluate its performance using R-squared."
   ]
  },
  {
   "cell_type": "code",
   "execution_count": 17,
   "id": "10384638-ccbf-4ff0-a3f7-b1761f083aab",
   "metadata": {},
   "outputs": [],
   "source": [
    "# Step 1: Select the features and target variable for modeling\n",
    "X = df_encoded.drop(\"health_risk_score\", axis=1)\n",
    "y = df_encoded[\"health_risk_score\"]\n",
    "\n",
    "# Step 2: Split the data into training and test sets with a test size of 25%\n",
    "X_train, X_test, y_train, y_test = train_test_split(X, y, test_size=0.25, random_state=420)"
   ]
  },
  {
   "cell_type": "code",
   "execution_count": 18,
   "id": "d78f133c-a91c-4022-a29d-b56f83d3c76e",
   "metadata": {},
   "outputs": [
    {
     "name": "stdout",
     "output_type": "stream",
     "text": [
      "0.8454846444810465\n"
     ]
    },
    {
     "data": {
      "text/plain": [
       "0.8454846444810465"
      ]
     },
     "execution_count": 18,
     "metadata": {},
     "output_type": "execute_result"
    }
   ],
   "source": [
    "# Step 3: Initialize and train a Linear Regression model, and evaluate its performance using R-squared\n",
    "lr_model = LinearRegression()\n",
    "lr_model.fit(X_train, y_train)\n",
    "\n",
    "basic_model_score = lr_model.score(X_test, y_test)\n",
    "print(basic_model_score)\n",
    "y_pred = lr_model.predict(X_test)\n",
    "\n",
    "r2 = r2_score(y_true=y_test, y_pred=y_pred)\n",
    "r2"
   ]
  },
  {
   "cell_type": "code",
   "execution_count": 24,
   "id": "9f4e756b-561b-4a42-b674-4d852482ea7c",
   "metadata": {},
   "outputs": [
    {
     "name": "stdout",
     "output_type": "stream",
     "text": [
      "Best Alpha model: 0.1\n"
     ]
    },
    {
     "data": {
      "text/plain": [
       "0.8450555587063746"
      ]
     },
     "execution_count": 24,
     "metadata": {},
     "output_type": "execute_result"
    }
   ],
   "source": [
    "# Step 4: Initialize and train a Lasso Regression model with various alpha values provided in a list, and evaluate its performance using R-squared\n",
    "from sklearn.linear_model import LassoCV\n",
    "\n",
    "model_lasso_cv = LassoCV(alphas=[0.01, 0.1, 1.0, 10.0], cv=4)\n",
    "model_lasso_cv.fit(X_train, y_train)\n",
    "print(f\"Best Alpha model: {model_lasso_cv.alpha_}\")\n",
    "\n",
    "y_pred_lasso = model_lasso_cv.predict(X_test)\n",
    "\n",
    "r2_lasso = r2_score(y_true = y_test, y_pred = y_pred_lasso)\n",
    "r2_lasso"
   ]
  },
  {
   "cell_type": "code",
   "execution_count": 20,
   "id": "4eeb1825",
   "metadata": {},
   "outputs": [
    {
     "name": "stdout",
     "output_type": "stream",
     "text": [
      "Train R²: 0.8538213785465911\n",
      "Test R²: 0.8450555587063746\n"
     ]
    }
   ],
   "source": [
    "train_score = model_lasso_cv.score(X_train, y_train)\n",
    "test_score = model_lasso_cv.score(X_test, y_test)\n",
    "print(\"Train R²:\", train_score)\n",
    "print(\"Test R²:\", test_score)"
   ]
  },
  {
   "cell_type": "code",
   "execution_count": 21,
   "id": "45206af6-ea76-4947-abac-681008cb3857",
   "metadata": {},
   "outputs": [
    {
     "name": "stdout",
     "output_type": "stream",
     "text": [
      "Best model ridge:  10.0\n",
      "0.8454460324655495\n",
      "train score: 0.853842443517841\n",
      "test score 0.8454460324655495\n"
     ]
    }
   ],
   "source": [
    "# Step 5: Initialize and train a Ridge Regression model with various alpha values provided in a list, and evaluate its performance using R-squared\n",
    "from sklearn.linear_model import RidgeCV\n",
    "model_ridge_cv = RidgeCV(alphas=[0.01, 0.1, 1.0, 10.0], cv=4)\n",
    "model_ridge_cv.fit(X_train, y_train)\n",
    "print(\"Best model ridge: \", model_ridge_cv.alpha_)\n",
    "y_pred_ridge = model_ridge_cv.predict(X_test)\n",
    "\n",
    "r2_ridge = r2_score(y_pred=y_pred_ridge, y_true=y_test)\n",
    "print(r2_ridge)\n",
    "\n",
    "train_ridge_score = model_ridge_cv.score(X_train, y_train)\n",
    "print('train score:', train_ridge_score)\n",
    "\n",
    "test_ridge_score = model_ridge_cv.score(X_test, y_test)\n",
    "print('test score', test_ridge_score)"
   ]
  },
  {
   "cell_type": "code",
   "execution_count": 23,
   "id": "1a8bb023",
   "metadata": {},
   "outputs": [
    {
     "data": {
      "image/png": "[encoded data removed]",
      "text/plain": [
       "<Figure size 640x480 with 1 Axes>"
      ]
     },
     "metadata": {},
     "output_type": "display_data"
    }
   ],
   "source": [
    "models = ['Linear', 'Lasso', 'Ridge']\n",
    "scores = [basic_model_score, test_score, test_ridge_score]\n",
    "\n",
    "plt.bar(models, scores)\n",
    "plt.ylabel('R² Score')\n",
    "plt.title('Model Comparison')\n",
    "plt.show()\n"
   ]
  },
  {
   "cell_type": "code",
   "execution_count": null,
   "id": "abf486c3",
   "metadata": {},
   "outputs": [],
   "source": []
  }
 ],
 "metadata": {
  "kernelspec": {
   "display_name": "Python 3",
   "language": "python",
   "name": "python3"
  },
  "language_info": {
   "codemirror_mode": {
    "name": "ipython",
    "version": 3
   },
   "file_extension": ".py",
   "mimetype": "text/x-python",
   "name": "python",
   "nbconvert_exporter": "python",
   "pygments_lexer": "ipython3",
   "version": "3.11.3"
  }
 },
 "nbformat": 4,
 "nbformat_minor": 5
}
