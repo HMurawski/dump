{
 "cells": [
  {
   "cell_type": "code",
   "execution_count": 2,
   "metadata": {},
   "outputs": [],
   "source": [
    "import pandas as pd\n",
    "import numpy as np\n",
    "import matplotlib.pyplot as plt\n"
   ]
  },
  {
   "cell_type": "code",
   "execution_count": 3,
   "metadata": {},
   "outputs": [
    {
     "data": {
      "text/html": [
       "<div>\n",
       "<style scoped>\n",
       "    .dataframe tbody tr th:only-of-type {\n",
       "        vertical-align: middle;\n",
       "    }\n",
       "\n",
       "    .dataframe tbody tr th {\n",
       "        vertical-align: top;\n",
       "    }\n",
       "\n",
       "    .dataframe thead th {\n",
       "        text-align: right;\n",
       "    }\n",
       "</style>\n",
       "<table border=\"1\" class=\"dataframe\">\n",
       "  <thead>\n",
       "    <tr style=\"text-align: right;\">\n",
       "      <th></th>\n",
       "      <th>Product</th>\n",
       "      <th>Region</th>\n",
       "      <th>Month</th>\n",
       "      <th>Sales</th>\n",
       "    </tr>\n",
       "  </thead>\n",
       "  <tbody>\n",
       "    <tr>\n",
       "      <th>0</th>\n",
       "      <td>Product_B</td>\n",
       "      <td>North</td>\n",
       "      <td>7</td>\n",
       "      <td>1341</td>\n",
       "    </tr>\n",
       "    <tr>\n",
       "      <th>1</th>\n",
       "      <td>Product_C</td>\n",
       "      <td>East</td>\n",
       "      <td>2</td>\n",
       "      <td>22299</td>\n",
       "    </tr>\n",
       "    <tr>\n",
       "      <th>2</th>\n",
       "      <td>Product_A</td>\n",
       "      <td>South</td>\n",
       "      <td>5</td>\n",
       "      <td>18904</td>\n",
       "    </tr>\n",
       "    <tr>\n",
       "      <th>3</th>\n",
       "      <td>Product_C</td>\n",
       "      <td>West</td>\n",
       "      <td>1</td>\n",
       "      <td>24508</td>\n",
       "    </tr>\n",
       "    <tr>\n",
       "      <th>4</th>\n",
       "      <td>Product_A</td>\n",
       "      <td>South</td>\n",
       "      <td>1</td>\n",
       "      <td>19030</td>\n",
       "    </tr>\n",
       "  </tbody>\n",
       "</table>\n",
       "</div>"
      ],
      "text/plain": [
       "     Product Region  Month  Sales\n",
       "0  Product_B  North      7   1341\n",
       "1  Product_C   East      2  22299\n",
       "2  Product_A  South      5  18904\n",
       "3  Product_C   West      1  24508\n",
       "4  Product_A  South      1  19030"
      ]
     },
     "execution_count": 3,
     "metadata": {},
     "output_type": "execute_result"
    }
   ],
   "source": [
    "np.random.seed(997)\n",
    "data = {\n",
    "    \"Product\" : np.random.choice([\"Product_A\", \"Product_B\", \"Product_C\"], 1000),\n",
    "    \"Region\" : np.random.choice([\"North\", \"South\", \"East\", \"West\"],1000),\n",
    "    \"Month\" : np.random.randint(1,13, size=(1000)),\n",
    "    \"Sales\" : np.random.randint(300, 50000, size=(1000))\n",
    "}\n",
    "\n",
    "df = pd.DataFrame(data)\n",
    "df.head()"
   ]
  },
  {
   "cell_type": "code",
   "execution_count": 8,
   "metadata": {},
   "outputs": [
    {
     "name": "stdout",
     "output_type": "stream",
     "text": [
      "total sales per product:\n",
      "Product\n",
      "Product_A    9119909\n",
      "Product_B    8193554\n",
      "Product_C    8508243\n",
      "Name: Sales, dtype: int32\n"
     ]
    }
   ],
   "source": [
    "total_sales_of_product = df.groupby(\"Product\")[\"Sales\"].sum()\n",
    "print(f\"total sales per product:\\n{total_sales_of_product}\")"
   ]
  },
  {
   "cell_type": "code",
   "execution_count": 19,
   "metadata": {},
   "outputs": [
    {
     "name": "stdout",
     "output_type": "stream",
     "text": [
      "Avg sales per product:\n",
      "Product\n",
      "Product_A    26666.40\n",
      "Product_B    26094.12\n",
      "Product_C    24733.26\n",
      "Name: Sales, dtype: float64\n"
     ]
    }
   ],
   "source": [
    "avg_sales_per_product = round(df.groupby(\"Product\")[\"Sales\"].mean(),2)\n",
    "print(f\"Avg sales per product:\\n{avg_sales_per_product}\")"
   ]
  },
  {
   "cell_type": "code",
   "execution_count": 10,
   "metadata": {},
   "outputs": [
    {
     "name": "stdout",
     "output_type": "stream",
     "text": [
      "Avg sales per region:\n",
      "Region\n",
      "East     26244.72\n",
      "North    25970.91\n",
      "South    25573.08\n",
      "West     25506.52\n",
      "Name: Sales, dtype: float64\n"
     ]
    }
   ],
   "source": [
    "avg_sales_per_region = round(df.groupby(\"Region\")[\"Sales\"].mean(),2)\n",
    "print(f\"Avg sales per region:\\n{avg_sales_per_region}\")"
   ]
  },
  {
   "cell_type": "code",
   "execution_count": 12,
   "metadata": {},
   "outputs": [
    {
     "name": "stdout",
     "output_type": "stream",
     "text": [
      "Count of sales per region:\n",
      "Region\n",
      "East     237\n",
      "North    265\n",
      "South    258\n",
      "West     240\n",
      "Name: Sales, dtype: int64\n"
     ]
    }
   ],
   "source": [
    "count_of_sales_per_region = df.groupby(\"Region\")[\"Sales\"].count()\n",
    "print(f\"Count of sales per region:\\n{count_of_sales_per_region}\")"
   ]
  },
  {
   "cell_type": "code",
   "execution_count": 60,
   "metadata": {},
   "outputs": [
    {
     "data": {
      "image/png": "[encoded data removed]",
      "text/plain": [
       "<Figure size 800x500 with 1 Axes>"
      ]
     },
     "metadata": {},
     "output_type": "display_data"
    }
   ],
   "source": [
    "ax = count_of_sales_per_region.plot(kind='barh', alpha=0.6, color='skyblue', figsize=(8, 5))\n",
    "for i, value in enumerate(count_of_sales_per_region):\n",
    "    ax.text(value + 5, i, str(value), va='center')\n",
    "plt.xlabel(\"Count of Sales\")\n",
    "plt.title(\"Liczba sprzedaży w regionach\")\n",
    "plt.show()\n"
   ]
  },
  {
   "cell_type": "code",
   "execution_count": 34,
   "metadata": {},
   "outputs": [
    {
     "name": "stdout",
     "output_type": "stream",
     "text": [
      "Region with max sales:\tNorth\n",
      "It's value:\t6882290\n",
      "Region with max sales:\tWest\n",
      "It's value:\t6121564\n"
     ]
    }
   ],
   "source": [
    "max_sales_per_region = df.groupby(\"Region\")[\"Sales\"].sum()\n",
    "max_sales_in_region = max_sales_per_region.max()\n",
    "region_with_max_sales = max_sales_per_region.idxmax()\n",
    "print(f\"Region with max sales:\\t{region_with_max_sales}\\nIt's value:\\t{max_sales_in_region}\")\n",
    "min_sales_in_region = max_sales_per_region.min()\n",
    "region_with_min_sales = max_sales_per_region.idxmin()\n",
    "print(f\"Region with max sales:\\t{region_with_min_sales}\\nIt's value:\\t{min_sales_in_region}\")\n"
   ]
  },
  {
   "cell_type": "code",
   "execution_count": 63,
   "metadata": {},
   "outputs": [
    {
     "data": {
      "image/png": "[encoded data removed]",
      "text/plain": [
       "<Figure size 700x700 with 1 Axes>"
      ]
     },
     "metadata": {},
     "output_type": "display_data"
    }
   ],
   "source": [
    "max_sales_per_region.plot(kind='pie', autopct=\"%1.1f%%\", figsize=(7, 7), startangle=90, colormap='Pastel1')\n",
    "plt.title(\"Udział sprzedaży w regionach\")\n",
    "plt.ylabel(\"\")\n",
    "plt.show()\n"
   ]
  },
  {
   "cell_type": "code",
   "execution_count": 66,
   "metadata": {},
   "outputs": [
    {
     "name": "stdout",
     "output_type": "stream",
     "text": [
      "Region        East    North    South     West       All  Pct_of_All_Sales\n",
      "Product                                                                  \n",
      "Product_A  2463427  2314715  2043915  2297852   9119909             35.32\n",
      "Product_B  1741861  2136025  2302422  2013246   8193554             31.73\n",
      "Product_C  2014710  2431550  2251517  1810466   8508243             32.95\n",
      "All        6219998  6882290  6597854  6121564  25821706               NaN\n"
     ]
    }
   ],
   "source": [
    "pivot = df.pivot_table(columns=\"Region\", values=\"Sales\", index=\"Product\", margins=True, aggfunc=\"sum\")\n",
    "total_sales = df[\"Sales\"].sum()\n",
    "pivot[\"Pct_of_All_Sales\"] = round(total_sales_of_product  / total_sales * 100,2)\n",
    "print(pivot)\n"
   ]
  },
  {
   "cell_type": "code",
   "execution_count": 64,
   "metadata": {},
   "outputs": [
    {
     "name": "stdout",
     "output_type": "stream",
     "text": [
      "Region        East    North    South     West       All  Pct_of_All_Sales\n",
      "Product                                                                  \n",
      "All        6219998  6882290  6597854  6121564  25821706               NaN\n",
      "Product_A  2463427  2314715  2043915  2297852   9119909             35.32\n",
      "Product_C  2014710  2431550  2251517  1810466   8508243             32.95\n",
      "Product_B  1741861  2136025  2302422  2013246   8193554             31.73\n"
     ]
    }
   ],
   "source": [
    "pivot_sorted = pivot.sort_values(by=\"All\", ascending=False)\n",
    "print(pivot_sorted)\n"
   ]
  },
  {
   "cell_type": "code",
   "execution_count": null,
   "metadata": {},
   "outputs": [],
   "source": []
  }
 ],
 "metadata": {
  "kernelspec": {
   "display_name": "Python 3",
   "language": "python",
   "name": "python3"
  },
  "language_info": {
   "codemirror_mode": {
    "name": "ipython",
    "version": 3
   },
   "file_extension": ".py",
   "mimetype": "text/x-python",
   "name": "python",
   "nbconvert_exporter": "python",
   "pygments_lexer": "ipython3",
   "version": "3.11.3"
  }
 },
 "nbformat": 4,
 "nbformat_minor": 2
}
