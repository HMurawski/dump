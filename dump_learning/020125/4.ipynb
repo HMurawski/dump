{
 "cells": [
  {
   "cell_type": "code",
   "execution_count": 59,
   "metadata": {},
   "outputs": [],
   "source": [
    "import time\n",
    "from datetime import date\n",
    "from datetime import datetime"
   ]
  },
  {
   "cell_type": "code",
   "execution_count": 60,
   "metadata": {},
   "outputs": [
    {
     "name": "stdout",
     "output_type": "stream",
     "text": [
      "Today is 02/01/2025\n",
      "Now is: 2025/01/02 09:35:19\n",
      "Day of the week: Thursday\n",
      "Day of the week: Thursday\n"
     ]
    }
   ],
   "source": [
    "today = date.today().strftime(\"%d/%m/%Y\")\n",
    "print(f\"Today is {today}\")\n",
    "now = datetime.now()\n",
    "now_date = now.strftime(\"%Y/%m/%d %H:%M:%S\")\n",
    "print(f\"Now is: {now_date}\")\n",
    "weekDays = (\"Monday\",\"Tuesday\",\"Wednesday\",\"Thursday\",\"Friday\",\"Saturday\",\"Sunday\")\n",
    "dzien_tyg = datetime.weekday(now)\n",
    "print(f\"Day of the week: {weekDays[dzien_tyg]}\")\n",
    "day_of_week = now.strftime(\"%A\")\n",
    "print(f\"Day of the week: {day_of_week}\")\n"
   ]
  },
  {
   "cell_type": "code",
   "execution_count": 23,
   "metadata": {},
   "outputs": [],
   "source": [
    "import datetime"
   ]
  },
  {
   "cell_type": "code",
   "execution_count": 53,
   "metadata": {},
   "outputs": [
    {
     "name": "stdout",
     "output_type": "stream",
     "text": [
      "2024-12-18 00:00:00\n",
      "2025-02-01 00:00:00\n",
      "<class 'datetime.datetime'>\n"
     ]
    }
   ],
   "source": [
    "time_change = datetime.timedelta(days=-15)\n",
    "time_change_30 = datetime.timedelta(days=30)\n",
    "date_and_time = datetime.datetime(2025, 1, 2)\n",
    "new_time = date_and_time + time_change\n",
    "print(new_time)\n",
    "new_time_30 = date_and_time + time_change_30\n",
    "print(new_time_30)\n"
   ]
  },
  {
   "cell_type": "code",
   "execution_count": 35,
   "metadata": {},
   "outputs": [
    {
     "data": {
      "text/plain": [
       "True"
      ]
     },
     "execution_count": 35,
     "metadata": {},
     "output_type": "execute_result"
    }
   ],
   "source": [
    "datetime.datetime.today() > datetime.datetime(2025, 1, 1)"
   ]
  },
  {
   "cell_type": "code",
   "execution_count": 37,
   "metadata": {},
   "outputs": [
    {
     "name": "stdout",
     "output_type": "stream",
     "text": [
      "['2024-11-25', '2024-12-30', '2025-01-05', '2025-03-15']\n"
     ]
    }
   ],
   "source": [
    "lista_dat = ['2025-01-05', '2024-12-30', '2025-03-15', '2024-11-25']\n",
    "print(sorted(lista_dat))"
   ]
  },
  {
   "cell_type": "code",
   "execution_count": 50,
   "metadata": {},
   "outputs": [
    {
     "name": "stdout",
     "output_type": "stream",
     "text": [
      "roznica miedzy najwieksza a najmniejsza data to: 110 days, 0:00:00\n"
     ]
    }
   ],
   "source": [
    "\n",
    "d_format = \"%Y-%m-%d\"\n",
    "date_1 = datetime.datetime.strptime(sorted(lista_dat)[-1],d_format)\n",
    "date_2 = datetime.datetime.strptime(sorted(lista_dat)[0],d_format)\n",
    "print(f\"roznica miedzy najwieksza a najmniejsza data to: {date_1 - date_2}\")"
   ]
  },
  {
   "cell_type": "code",
   "execution_count": 55,
   "metadata": {},
   "outputs": [
    {
     "name": "stdout",
     "output_type": "stream",
     "text": [
      "<class 'datetime.datetime'>\n",
      "2025-01-05 09:31:25.736564\n"
     ]
    }
   ],
   "source": [
    "dzis = datetime.datetime.today()\n",
    "print(type(dzis))\n",
    "time_change_3 = datetime.timedelta(days=3)\n",
    "dzis_3 = dzis + time_change_3\n",
    "print(dzis_3)"
   ]
  },
  {
   "cell_type": "code",
   "execution_count": 61,
   "metadata": {},
   "outputs": [],
   "source": [
    "from datetime import date, timedelta"
   ]
  },
  {
   "cell_type": "code",
   "execution_count": 62,
   "metadata": {},
   "outputs": [],
   "source": [
    "start_date = date.today()\n",
    "dates = []"
   ]
  },
  {
   "cell_type": "code",
   "execution_count": 63,
   "metadata": {},
   "outputs": [
    {
     "name": "stdout",
     "output_type": "stream",
     "text": [
      "Lista dat: \n",
      "02/01/2025\n",
      "05/01/2025\n",
      "08/01/2025\n",
      "11/01/2025\n",
      "14/01/2025\n",
      "17/01/2025\n",
      "20/01/2025\n",
      "23/01/2025\n",
      "26/01/2025\n",
      "29/01/2025\n"
     ]
    }
   ],
   "source": [
    "for i in range(10):\n",
    "    new_date = start_date + timedelta(days=i*3)\n",
    "    dates.append(new_date)\n",
    "\n",
    "formatted_dates = [d.strftime(\"%d/%m/%Y\") for d in dates]\n",
    "print(\"Lista dat: \")\n",
    "print(\"\\n\".join(formatted_dates))"
   ]
  },
  {
   "cell_type": "code",
   "execution_count": 64,
   "metadata": {},
   "outputs": [
    {
     "name": "stdout",
     "output_type": "stream",
     "text": [
      "01/01/2025\n",
      "08/01/2025\n",
      "15/01/2025\n",
      "22/01/2025\n",
      "29/01/2025\n",
      "05/02/2025\n",
      "12/02/2025\n",
      "19/02/2025\n",
      "26/02/2025\n",
      "05/03/2025\n"
     ]
    }
   ],
   "source": [
    "from datetime import datetime, timedelta\n",
    "\n",
    "start_date = datetime(2025, 1, 1)\n",
    "schedule = [start_date + timedelta(days=i * 7) for i in range(10)]\n",
    "for date in schedule:\n",
    "    print(date.strftime(\"%d/%m/%Y\"))\n"
   ]
  },
  {
   "cell_type": "code",
   "execution_count": null,
   "metadata": {},
   "outputs": [],
   "source": []
  }
 ],
 "metadata": {
  "kernelspec": {
   "display_name": "Python 3",
   "language": "python",
   "name": "python3"
  },
  "language_info": {
   "codemirror_mode": {
    "name": "ipython",
    "version": 3
   },
   "file_extension": ".py",
   "mimetype": "text/x-python",
   "name": "python",
   "nbconvert_exporter": "python",
   "pygments_lexer": "ipython3",
   "version": "3.11.3"
  }
 },
 "nbformat": 4,
 "nbformat_minor": 2
}
