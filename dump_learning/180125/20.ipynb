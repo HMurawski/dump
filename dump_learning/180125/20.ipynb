{
 "cells": [
  {
   "cell_type": "code",
   "execution_count": 1,
   "metadata": {},
   "outputs": [],
   "source": [
    "import pandas as pd\n",
    "import numpy as np\n",
    "import matplotlib.pyplot as plt"
   ]
  },
  {
   "cell_type": "code",
   "execution_count": 2,
   "metadata": {},
   "outputs": [],
   "source": [
    "data_pivot = {\n",
    "    \"Country\": [\"USA\", \"USA\", \"Germany\", \"Germany\", \"Japan\", \"Japan\"],\n",
    "    \"Year\": [2020, 2021, 2020, 2021, 2020, 2021],\n",
    "    \"Product\": [\"A\", \"B\", \"A\", \"B\", \"A\", \"B\"],\n",
    "    \"Sales\": [500, 700, 300, 400, 200, 300]\n",
    "}\n",
    "df_pivot = pd.DataFrame(data_pivot)\n",
    "data_stack = {\n",
    "    \"Country\": [\"USA\", \"USA\", \"Germany\", \"Germany\", \"Japan\", \"Japan\"],\n",
    "    \"Year\": [2020, 2021, 2020, 2021, 2020, 2021],\n",
    "    \"Population\": [331, 332, 83, 84, 126, 125],\n",
    "    \"GDP\": [21137, 22940, 3845, 4223, 5065, 5315]\n",
    "}\n",
    "df_stack = pd.DataFrame(data_stack)"
   ]
  },
  {
   "cell_type": "code",
   "execution_count": 5,
   "metadata": {},
   "outputs": [
    {
     "name": "stdout",
     "output_type": "stream",
     "text": [
      "<class 'pandas.core.frame.DataFrame'>\n",
      "RangeIndex: 6 entries, 0 to 5\n",
      "Data columns (total 4 columns):\n",
      " #   Column      Non-Null Count  Dtype \n",
      "---  ------      --------------  ----- \n",
      " 0   Country     6 non-null      object\n",
      " 1   Year        6 non-null      int64 \n",
      " 2   Population  6 non-null      int64 \n",
      " 3   GDP         6 non-null      int64 \n",
      "dtypes: int64(3), object(1)\n",
      "memory usage: 324.0+ bytes\n",
      "None\n",
      "Index         132\n",
      "Country        48\n",
      "Year           48\n",
      "Population     48\n",
      "GDP            48\n",
      "dtype: int64\n"
     ]
    },
    {
     "data": {
      "text/plain": [
       "0        USA\n",
       "1        USA\n",
       "2    Germany\n",
       "3    Germany\n",
       "4      Japan\n",
       "5      Japan\n",
       "Name: Country, dtype: category\n",
       "Categories (3, object): ['Germany', 'Japan', 'USA']"
      ]
     },
     "execution_count": 5,
     "metadata": {},
     "output_type": "execute_result"
    }
   ],
   "source": [
    "print(df_stack.info())\n",
    "print(df_stack.memory_usage())\n",
    "\n"
   ]
  },
  {
   "cell_type": "code",
   "execution_count": 10,
   "metadata": {},
   "outputs": [
    {
     "name": "stdout",
     "output_type": "stream",
     "text": [
      "<class 'pandas.core.frame.DataFrame'>\n",
      "RangeIndex: 6 entries, 0 to 5\n",
      "Data columns (total 4 columns):\n",
      " #   Column      Non-Null Count  Dtype   \n",
      "---  ------      --------------  -----   \n",
      " 0   Country     6 non-null      category\n",
      " 1   Year        6 non-null      float32 \n",
      " 2   Population  6 non-null      float32 \n",
      " 3   GDP         6 non-null      float32 \n",
      "dtypes: category(1), float32(3)\n",
      "memory usage: 342.0 bytes\n"
     ]
    }
   ],
   "source": [
    "df_stack[\"Country\"] = df_stack[\"Country\"].astype(\"category\")\n",
    "\n",
    "df_stack[[\"Year\", \"Population\", \"GDP\"]] = df_stack[[\"Year\", \"Population\", \"GDP\"]].astype(\"float32\")\n",
    "df_stack.info()"
   ]
  },
  {
   "cell_type": "code",
   "execution_count": 11,
   "metadata": {},
   "outputs": [
    {
     "data": {
      "text/html": [
       "<div>\n",
       "<style scoped>\n",
       "    .dataframe tbody tr th:only-of-type {\n",
       "        vertical-align: middle;\n",
       "    }\n",
       "\n",
       "    .dataframe tbody tr th {\n",
       "        vertical-align: top;\n",
       "    }\n",
       "\n",
       "    .dataframe thead th {\n",
       "        text-align: right;\n",
       "    }\n",
       "</style>\n",
       "<table border=\"1\" class=\"dataframe\">\n",
       "  <thead>\n",
       "    <tr style=\"text-align: right;\">\n",
       "      <th></th>\n",
       "      <th>Country</th>\n",
       "      <th>Year</th>\n",
       "      <th>Population</th>\n",
       "      <th>GDP</th>\n",
       "      <th>Class</th>\n",
       "    </tr>\n",
       "  </thead>\n",
       "  <tbody>\n",
       "    <tr>\n",
       "      <th>0</th>\n",
       "      <td>USA</td>\n",
       "      <td>2020.0</td>\n",
       "      <td>331.0</td>\n",
       "      <td>21137.0</td>\n",
       "      <td>High</td>\n",
       "    </tr>\n",
       "    <tr>\n",
       "      <th>1</th>\n",
       "      <td>USA</td>\n",
       "      <td>2021.0</td>\n",
       "      <td>332.0</td>\n",
       "      <td>22940.0</td>\n",
       "      <td>High</td>\n",
       "    </tr>\n",
       "    <tr>\n",
       "      <th>2</th>\n",
       "      <td>Germany</td>\n",
       "      <td>2020.0</td>\n",
       "      <td>83.0</td>\n",
       "      <td>3845.0</td>\n",
       "      <td>Low</td>\n",
       "    </tr>\n",
       "    <tr>\n",
       "      <th>3</th>\n",
       "      <td>Germany</td>\n",
       "      <td>2021.0</td>\n",
       "      <td>84.0</td>\n",
       "      <td>4223.0</td>\n",
       "      <td>Low</td>\n",
       "    </tr>\n",
       "    <tr>\n",
       "      <th>4</th>\n",
       "      <td>Japan</td>\n",
       "      <td>2020.0</td>\n",
       "      <td>126.0</td>\n",
       "      <td>5065.0</td>\n",
       "      <td>Medium</td>\n",
       "    </tr>\n",
       "    <tr>\n",
       "      <th>5</th>\n",
       "      <td>Japan</td>\n",
       "      <td>2021.0</td>\n",
       "      <td>125.0</td>\n",
       "      <td>5315.0</td>\n",
       "      <td>Medium</td>\n",
       "    </tr>\n",
       "  </tbody>\n",
       "</table>\n",
       "</div>"
      ],
      "text/plain": [
       "   Country    Year  Population      GDP   Class\n",
       "0      USA  2020.0       331.0  21137.0    High\n",
       "1      USA  2021.0       332.0  22940.0    High\n",
       "2  Germany  2020.0        83.0   3845.0     Low\n",
       "3  Germany  2021.0        84.0   4223.0     Low\n",
       "4    Japan  2020.0       126.0   5065.0  Medium\n",
       "5    Japan  2021.0       125.0   5315.0  Medium"
      ]
     },
     "execution_count": 11,
     "metadata": {},
     "output_type": "execute_result"
    }
   ],
   "source": [
    "def get_class(gdp):\n",
    "    if gdp > 10000:\n",
    "        return \"High\"\n",
    "    elif gdp > 5000 and gdp< 10000:\n",
    "        return \"Medium\"\n",
    "    else:\n",
    "        return \"Low\"\n",
    "df_stack[\"Class\"] = df_stack[\"GDP\"].apply(get_class)\n",
    "df_stack"
   ]
  },
  {
   "cell_type": "code",
   "execution_count": null,
   "metadata": {},
   "outputs": [],
   "source": [
    "df_stack[\"Class\"] = np.where(df_stack[\"GDP\"] > 10000, \"High\",\n",
    "                    np.where(df_stack[\"GDP\"] > 5000, \"Medium\", \"Low\"))"
   ]
  },
  {
   "cell_type": "code",
   "execution_count": null,
   "metadata": {},
   "outputs": [],
   "source": [
    "chunk_size = 2\n",
    "total_sales = 0\n",
    "\n",
    "# Iterowanie przez kawałki\n",
    "for chunk in pd.read_csv(\"Dataset_Pivot_Tables.csv\", chunksize=chunk_size):\n",
    "    # Suma sprzedaży w kawałku\n",
    "    chunk_sales = chunk[\"Sales\"].sum()\n",
    "    total_sales += chunk_sales\n",
    "    print(f\"Sales in this chunk: {chunk_sales}\")\n",
    "\n",
    "print(f\"Total Sales: {total_sales}\")"
   ]
  },
  {
   "cell_type": "code",
   "execution_count": null,
   "metadata": {},
   "outputs": [],
   "source": [
    "import time\n",
    "\n",
    "# Użycie pętli for\n",
    "start = time.time()\n",
    "population_millions_loop = []\n",
    "for value in df_stack[\"Population\"]:\n",
    "    population_millions_loop.append(value / 1_000_000)\n",
    "df_stack[\"Population Millions (Loop)\"] = population_millions_loop\n",
    "end = time.time()\n",
    "print(f\"Time with loop: {end - start:.5f} seconds\")\n",
    "\n",
    "# Użycie operacji wektorowej\n",
    "start = time.time()\n",
    "df_stack[\"Population Millions (Vectorized)\"] = df_stack[\"Population\"] / 1_000_000\n",
    "end = time.time()\n",
    "print(f\"Time with vectorized operation: {end - start:.5f} seconds\")\n",
    "\n",
    "# Wyświetlenie wyników\n",
    "df_stack.head()\n"
   ]
  }
 ],
 "metadata": {
  "kernelspec": {
   "display_name": "Python 3",
   "language": "python",
   "name": "python3"
  },
  "language_info": {
   "codemirror_mode": {
    "name": "ipython",
    "version": 3
   },
   "file_extension": ".py",
   "mimetype": "text/x-python",
   "name": "python",
   "nbconvert_exporter": "python",
   "pygments_lexer": "ipython3",
   "version": "3.11.3"
  }
 },
 "nbformat": 4,
 "nbformat_minor": 2
}
