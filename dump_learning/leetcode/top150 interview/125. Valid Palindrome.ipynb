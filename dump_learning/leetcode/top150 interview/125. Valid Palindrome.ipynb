{
 "cells": [
  {
   "cell_type": "markdown",
   "id": "89d29898",
   "metadata": {},
   "source": [
    "🔗 Problem\n",
    "125. Valid Palindrome\n",
    "\n",
    "A phrase is a palindrome if, after converting all uppercase letters into lowercase letters and removing all non-alphanumeric characters, it reads the same forward and backward.\n",
    "\n",
    "Return True if the string is a palindrome, or False otherwise."
   ]
  },
  {
   "cell_type": "markdown",
   "id": "6cf7d650",
   "metadata": {},
   "source": [
    "💡 Approaches\n",
    "✅ Approach 1: Clean the string + reverse check\n",
    "Convert all characters to lowercase\n",
    "\n",
    "Filter only alphanumeric characters using isalnum()\n",
    "\n",
    "Check if the cleaned string equals its reverse\n",
    "\n",
    "✅ Approach 2: Two pointers\n",
    "Use two indices: one from the start, one from the end\n",
    "\n",
    "Skip non-alphanumeric characters\n",
    "\n",
    "Compare characters one by one\n",
    "\n",
    "If mismatch, return False; else continue\n",
    "\n",
    "More memory-efficient (no new string creation)"
   ]
  },
  {
   "cell_type": "markdown",
   "id": "3f568d92",
   "metadata": {},
   "source": [
    "✅ Approach 1: Clean string + reverse"
   ]
  },
  {
   "cell_type": "code",
   "execution_count": 31,
   "id": "61e119d0",
   "metadata": {},
   "outputs": [],
   "source": [
    "class Solution:\n",
    "    def isPalindrome(self, s: str) -> bool:\n",
    "        s = \"\".join(char for char in s.lower() if char.isalnum())\n",
    "        return s == s[::-1]\n"
   ]
  },
  {
   "cell_type": "markdown",
   "id": "8bd61fca",
   "metadata": {},
   "source": [
    "✅ Approach 2: Two Pointers"
   ]
  },
  {
   "cell_type": "code",
   "execution_count": 36,
   "id": "5e1bfa20",
   "metadata": {},
   "outputs": [],
   "source": [
    "class Solution:\n",
    "    def isPalindrome(self, s: str) -> bool:\n",
    "        left = 0\n",
    "        right = len(s) - 1\n",
    "\n",
    "        while left < right:\n",
    "            while left < right and not s[left].isalnum():\n",
    "                left += 1\n",
    "            while left < right and not s[right].isalnum():\n",
    "                right -= 1\n",
    "            if s[left].lower() != s[right].lower():\n",
    "                return False\n",
    "            left += 1\n",
    "            right -= 1\n",
    "\n",
    "        return True\n"
   ]
  },
  {
   "cell_type": "markdown",
   "id": "419461a9",
   "metadata": {},
   "source": [
    "## ⏱️ Time and Space Complexity\n",
    "\n",
    "### Approach\tTime Complexity\tSpace Complexity\tNotes\n",
    "### Clean + Reverse\tO(n)\tO(n)\tNeeds new cleaned string\n",
    "\n",
    "### Two Pointers\tO(n)\tO(1)\tIn-place, no extra string allocation"
   ]
  },
  {
   "cell_type": "markdown",
   "id": "0619c8ab",
   "metadata": {},
   "source": []
  }
 ],
 "metadata": {
  "kernelspec": {
   "display_name": "Python 3",
   "language": "python",
   "name": "python3"
  },
  "language_info": {
   "codemirror_mode": {
    "name": "ipython",
    "version": 3
   },
   "file_extension": ".py",
   "mimetype": "text/x-python",
   "name": "python",
   "nbconvert_exporter": "python",
   "pygments_lexer": "ipython3",
   "version": "3.11.1"
  }
 },
 "nbformat": 4,
 "nbformat_minor": 5
}
