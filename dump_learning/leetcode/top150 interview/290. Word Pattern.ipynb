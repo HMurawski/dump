{
 "cells": [
  {
   "cell_type": "markdown",
   "id": "dacb71f1",
   "metadata": {},
   "source": [
    "### Problem: 290. Word Pattern (Easy)\n",
    "# https://leetcode.com/problems/word-pattern/"
   ]
  },
  {
   "cell_type": "markdown",
   "id": "f5e23059",
   "metadata": {},
   "source": [
    "\n",
    "Given a pattern and a string s, find if s follows the same pattern.\n",
    "\n",
    "Here follow means a full match, such that there is a bijection between a letter in pattern and a non-empty word in s. Specifically:\n",
    "\n",
    "Each letter in pattern maps to exactly one unique word in s.\n",
    "Each unique word in s maps to exactly one letter in pattern.\n",
    "No two letters map to the same word, and no two words map to the same letter.\n",
    " \n",
    "\n",
    "Example 1:\n",
    "\n",
    "Input: pattern = \"abba\", s = \"dog cat cat dog\"\n",
    "\n",
    "Output: true\n",
    "\n",
    "Explanation:\n",
    "\n",
    "The bijection can be established as:\n",
    "\n",
    "'a' maps to \"dog\".\n",
    "'b' maps to \"cat\".\n",
    "Example 2:\n",
    "\n",
    "Input: pattern = \"abba\", s = \"dog cat cat fish\"\n",
    "\n",
    "Output: false\n",
    "\n",
    "Example 3:\n",
    "\n",
    "Input: pattern = \"aaaa\", s = \"dog cat cat dog\"\n",
    "\n",
    "Output: false\n",
    "\n",
    " \n",
    "\n",
    "Constraints:\n",
    "\n",
    "1 <= pattern.length <= 300\n",
    "pattern contains only lower-case English letters.\n",
    "1 <= s.length <= 3000\n",
    "s contains only lowercase English letters and spaces ' '.\n",
    "s does not contain any leading or trailing spaces.\n",
    "All the words in s are separated by a single space."
   ]
  },
  {
   "cell_type": "markdown",
   "id": "bea4417a",
   "metadata": {},
   "source": [
    "## Explanation\n",
    "### 1. Split the input string `s` into words.\n",
    "### 2. Return False immediately if the number of pattern characters\n",
    "###    doesn't match the number of words.\n",
    "### 3. Use two dictionaries to ensure bijection:\n",
    "###   - `char_to_word`: pattern letter -> word\n",
    "###    - `word_to_char`: word -> pattern letter\n",
    "### 4. Loop through pairs of (pattern character, word).\n",
    "###    - If the character has already been mapped, verify the word matches.\n",
    "###    - If the word has already been mapped to a different character, return False.\n",
    "###    - Otherwise, create the new mappings in both dictionaries."
   ]
  },
  {
   "cell_type": "code",
   "execution_count": null,
   "id": "58f4239e",
   "metadata": {},
   "outputs": [],
   "source": [
    "class Solution:\n",
    "    def wordPattern(self, pattern: str, s: str) -> bool:\n",
    "        words = s.split()\n",
    "        char_to_word = {}\n",
    "        word_to_char = {}\n",
    "        \n",
    "        if len(pattern) != len(words):\n",
    "            return False\n",
    "        \n",
    "        for c, w in zip(pattern, words):\n",
    "            if c in char_to_word:\n",
    "                if char_to_word[c] != w:\n",
    "                    return False\n",
    "            else:\n",
    "                if w in word_to_char:\n",
    "                    return False\n",
    "                char_to_word[c] = w\n",
    "                word_to_char[w] = c\n",
    "        return True"
   ]
  },
  {
   "cell_type": "code",
   "execution_count": 9,
   "id": "ff00f602",
   "metadata": {},
   "outputs": [
    {
     "name": "stdout",
     "output_type": "stream",
     "text": [
      "True\n",
      "False\n",
      "False\n",
      "False\n"
     ]
    }
   ],
   "source": [
    "sol = Solution()\n",
    "print(sol.wordPattern(\"abba\", \"dog cat cat dog\"))   # True\n",
    "print(sol.wordPattern(\"abba\", \"dog cat cat fish\"))  # False\n",
    "print(sol.wordPattern(\"aaaa\", \"dog cat cat dog\"))   # False\n",
    "print(sol.wordPattern(\"abc\", \"dog cat dog\"))        # False"
   ]
  },
  {
   "cell_type": "code",
   "execution_count": null,
   "id": "c18014ef",
   "metadata": {},
   "outputs": [],
   "source": []
  }
 ],
 "metadata": {
  "kernelspec": {
   "display_name": "Python 3",
   "language": "python",
   "name": "python3"
  },
  "language_info": {
   "codemirror_mode": {
    "name": "ipython",
    "version": 3
   },
   "file_extension": ".py",
   "mimetype": "text/x-python",
   "name": "python",
   "nbconvert_exporter": "python",
   "pygments_lexer": "ipython3",
   "version": "3.11.3"
  }
 },
 "nbformat": 4,
 "nbformat_minor": 5
}
