{
 "cells": [
  {
   "cell_type": "markdown",
   "id": "acb822f1",
   "metadata": {},
   "source": [
    "104. Maximum Depth of Binary Tree"
   ]
  },
  {
   "cell_type": "markdown",
   "id": "9584cc6e",
   "metadata": {},
   "source": [
    "Given the root of a binary tree, return its maximum depth.\n",
    "\n",
    "A binary tree's maximum depth is the number of nodes along the longest path from the root node down to the farthest leaf node.\n",
    "\n",
    " \n",
    "\n",
    "Example 1:\n",
    "\n",
    "\n",
    "Input: root = [3,9,20,null,null,15,7]\n",
    "Output: 3\n",
    "Example 2:\n",
    "\n",
    "Input: root = [1,null,2]\n",
    "Output: 2\n",
    " \n",
    "\n",
    "Constraints:\n",
    "\n",
    "The number of nodes in the tree is in the range [0, 104].\n",
    "-100 <= Node.val <= 100"
   ]
  },
  {
   "cell_type": "code",
   "execution_count": 3,
   "id": "1823b2f5",
   "metadata": {},
   "outputs": [],
   "source": [
    "# Definition for a binary tree node.\n",
    "class TreeNode:\n",
    "    def __init__(self, val=0, left=None, right=None):\n",
    "        self.val = val\n",
    "        self.left = left\n",
    "        self.right = right\n",
    "class Solution:\n",
    "        def maxDepth(self, root: TreeNode) -> int:\n",
    "            return self.treeHeight(root)\n",
    "\n",
    "        def treeHeight(self, node: TreeNode) -> int:\n",
    "            if not node:\n",
    "                return 0 \n",
    "\n",
    "            left_height = self.treeHeight(node.left)   \n",
    "            right_height = self.treeHeight(node.right)\n",
    "\n",
    "            return 1 + max(left_height, right_height) "
   ]
  },
  {
   "cell_type": "code",
   "execution_count": null,
   "id": "4be07c89",
   "metadata": {},
   "outputs": [],
   "source": []
  }
 ],
 "metadata": {
  "kernelspec": {
   "display_name": "Python 3",
   "language": "python",
   "name": "python3"
  },
  "language_info": {
   "codemirror_mode": {
    "name": "ipython",
    "version": 3
   },
   "file_extension": ".py",
   "mimetype": "text/x-python",
   "name": "python",
   "nbconvert_exporter": "python",
   "pygments_lexer": "ipython3",
   "version": "3.11.3"
  }
 },
 "nbformat": 4,
 "nbformat_minor": 5
}
