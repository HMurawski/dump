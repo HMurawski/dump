{
 "cells": [
  {
   "cell_type": "markdown",
   "id": "bac1d863",
   "metadata": {},
   "source": [
    "## 🔢 Problem\n",
    "\n",
    "Given an integer array `nums`, return an array `answer` such that `answer[i]` is equal to the product of all the elements of `nums` **except** `nums[i]`.\n",
    "\n",
    "Constraints:\n",
    "- `2 <= nums.length <= 10^5`\n",
    "- `-30 <= nums[i] <= 30`\n",
    "- You must solve it **without using division** and in **O(n)** time."
   ]
  },
  {
   "cell_type": "code",
   "execution_count": 21,
   "id": "8d671689",
   "metadata": {},
   "outputs": [],
   "source": [
    "def productExceptSelf(nums):\n",
    "    n = len(nums)\n",
    "    answer = [1] * n\n",
    "\n",
    "    left = 1\n",
    "    for i in range(n):\n",
    "        answer[i] = left\n",
    "        left *= nums[i]\n",
    "\n",
    "    right = 1\n",
    "    for i in range(n - 1, -1, -1):\n",
    "        answer[i] *= right\n",
    "        right *= nums[i]\n",
    "\n",
    "    return answer\n"
   ]
  },
  {
   "cell_type": "code",
   "execution_count": null,
   "id": "86cea549",
   "metadata": {},
   "outputs": [],
   "source": []
  }
 ],
 "metadata": {
  "kernelspec": {
   "display_name": "Python 3",
   "language": "python",
   "name": "python3"
  },
  "language_info": {
   "codemirror_mode": {
    "name": "ipython",
    "version": 3
   },
   "file_extension": ".py",
   "mimetype": "text/x-python",
   "name": "python",
   "nbconvert_exporter": "python",
   "pygments_lexer": "ipython3",
   "version": "3.11.1"
  }
 },
 "nbformat": 4,
 "nbformat_minor": 5
}
