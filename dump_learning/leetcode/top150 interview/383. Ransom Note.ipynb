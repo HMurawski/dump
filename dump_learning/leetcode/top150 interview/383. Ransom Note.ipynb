{
 "cells": [
  {
   "cell_type": "markdown",
   "id": "9dc409e4",
   "metadata": {},
   "source": [
    "## Problem: 383. Ransom Note\n",
    "🔗 [Link to Leetcode](https://leetcode.com/problems/ransom-note/)\n",
    "\n",
    "**Difficulty**: Easy  \n",
    "**Tags**: HashMap, String"
   ]
  },
  {
   "cell_type": "markdown",
   "id": "f7966cb5",
   "metadata": {},
   "source": [
    "Given two strings ransomNote and magazine, return true if ransomNote can be constructed by using the letters from magazine and false otherwise.\n",
    "\n",
    "Each letter in magazine can only be used once in ransomNote.\n",
    "\n",
    " \n",
    "\n",
    "Example 1:\n",
    "\n",
    "Input: ransomNote = \"a\", magazine = \"b\"\n",
    "Output: false\n",
    "Example 2:\n",
    "\n",
    "Input: ransomNote = \"aa\", magazine = \"ab\"\n",
    "Output: false\n",
    "Example 3:\n",
    "\n",
    "Input: ransomNote = \"aa\", magazine = \"aab\"\n",
    "Output: true\n",
    " \n",
    "\n",
    "Constraints:\n",
    "\n",
    "1 <= ransomNote.length, magazine.length <= 105\n",
    "ransomNote and magazine consist of lowercase English letters."
   ]
  },
  {
   "cell_type": "markdown",
   "id": "ba30c21b",
   "metadata": {},
   "source": [
    "### My Thought Process\n",
    "\n",
    "- Step 1: Use a dictionary to count characters from magazine\n",
    "- Step 2: Iterate over ransomNote and check availability\n"
   ]
  },
  {
   "cell_type": "code",
   "execution_count": 7,
   "id": "257f51a9",
   "metadata": {},
   "outputs": [],
   "source": [
    "magazine = \"aab\"\n",
    "ransomNote = 'aa'\n",
    "from collections import defaultdict\n",
    "class Solution:\n",
    "    def canConstruct(self, ransomNote: str, magazine: str) -> bool:\n",
    "   \n",
    "        mag_dict = defaultdict(int)\n",
    "\n",
    "\n",
    "        for letter in magazine:\n",
    "            mag_dict[letter] += 1\n",
    "        for l in ransomNote:\n",
    "            if l in mag_dict and mag_dict[l] > 0:\n",
    "                mag_dict[l] -=1\n",
    "            else:\n",
    "                return False\n",
    "\n",
    "        return True"
   ]
  },
  {
   "cell_type": "code",
   "execution_count": 10,
   "id": "52f07e2e",
   "metadata": {},
   "outputs": [
    {
     "name": "stdout",
     "output_type": "stream",
     "text": [
      "False\n",
      "True\n",
      "False\n"
     ]
    }
   ],
   "source": [
    "sol = Solution()\n",
    "print(sol.canConstruct(\"a\", \"b\"))       # False\n",
    "print(sol.canConstruct(\"aa\", \"aab\"))    # True\n",
    "print(sol.canConstruct(\"aaabc\", \"aabc\")) #False"
   ]
  },
  {
   "cell_type": "code",
   "execution_count": null,
   "id": "3fb5d50e",
   "metadata": {},
   "outputs": [],
   "source": [
    "# mag_dict =  {}\n",
    "\n",
    "# for letter in magazine:\n",
    "#     if letter in mag_dict:\n",
    "#         mag_dict[letter] += 1\n",
    "#     else:\n",
    "#         mag_dict[letter] = 1\n"
   ]
  },
  {
   "cell_type": "code",
   "execution_count": null,
   "id": "021f7b31",
   "metadata": {},
   "outputs": [],
   "source": []
  },
  {
   "cell_type": "code",
   "execution_count": null,
   "id": "b57fc3d0",
   "metadata": {},
   "outputs": [],
   "source": []
  }
 ],
 "metadata": {
  "kernelspec": {
   "display_name": "Python 3",
   "language": "python",
   "name": "python3"
  },
  "language_info": {
   "codemirror_mode": {
    "name": "ipython",
    "version": 3
   },
   "file_extension": ".py",
   "mimetype": "text/x-python",
   "name": "python",
   "nbconvert_exporter": "python",
   "pygments_lexer": "ipython3",
   "version": "3.11.3"
  }
 },
 "nbformat": 4,
 "nbformat_minor": 5
}
