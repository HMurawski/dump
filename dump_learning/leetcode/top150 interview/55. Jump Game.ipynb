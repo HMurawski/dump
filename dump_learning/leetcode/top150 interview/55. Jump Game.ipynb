{
 "cells": [
  {
   "cell_type": "markdown",
   "id": "70da49a6",
   "metadata": {},
   "source": [
    "LeetCode Problem: Jump Game"
   ]
  },
  {
   "cell_type": "markdown",
   "id": "cadc7518",
   "metadata": {},
   "source": [
    "You are given an integer array nums. You are initially positioned at the array's first index, and each element in the array represents your maximum jump length at that position.\n",
    "\n",
    "Return true if you can reach the last index, or false otherwise.\n",
    "\n",
    " \n",
    "\n",
    "Example 1:\n",
    "\n",
    "Input: nums = [2,3,1,1,4]\n",
    "Output: true\n",
    "Explanation: Jump 1 step from index 0 to 1, then 3 steps to the last index.\n",
    "Example 2:\n",
    "\n",
    "Input: nums = [3,2,1,0,4]\n",
    "Output: false\n",
    "Explanation: You will always arrive at index 3 no matter what. Its maximum jump length is 0, which makes it impossible to reach the last index.\n",
    " \n",
    "\n",
    "Constraints:\n",
    "\n",
    "1 <= nums.length <= 104\n",
    "0 <= nums[i] <= 105"
   ]
  },
  {
   "cell_type": "markdown",
   "id": "5e076f7e",
   "metadata": {},
   "source": [
    "💡 Approach: Greedy\n",
    "We maintain the furthest index we can reach at any step.\n",
    "At index i, if i > max_reach, it means we cannot reach this position, so return False.\n",
    "Otherwise, update the max_reach as the maximum of current value and i + nums[i].\n",
    "\n",
    "If we iterate through the array and never hit the case i > max_reach, we return True."
   ]
  },
  {
   "cell_type": "code",
   "execution_count": null,
   "id": "617c8692",
   "metadata": {},
   "outputs": [],
   "source": [
    "class Solution:\n",
    "    def canJump(self, nums) -> bool:\n",
    "        max_reach = 0\n",
    "        for i, jump in enumerate(nums):\n",
    "            if i > max_reach:\n",
    "                return False\n",
    "            max_reach = max(max_reach, i+jump)\n",
    "        return True"
   ]
  },
  {
   "cell_type": "markdown",
   "id": "fd756f34",
   "metadata": {},
   "source": [
    "⏱️ Time and Space Complexity\n",
    "Time Complexity: O(n) – we iterate through the array once\n",
    "\n",
    "Space Complexity: O(1) – constant space used"
   ]
  },
  {
   "cell_type": "markdown",
   "id": "00ce7547",
   "metadata": {},
   "source": []
  }
 ],
 "metadata": {
  "kernelspec": {
   "display_name": "Python 3",
   "language": "python",
   "name": "python3"
  },
  "language_info": {
   "codemirror_mode": {
    "name": "ipython",
    "version": 3
   },
   "file_extension": ".py",
   "mimetype": "text/x-python",
   "name": "python",
   "nbconvert_exporter": "python",
   "pygments_lexer": "ipython3",
   "version": "3.11.3"
  }
 },
 "nbformat": 4,
 "nbformat_minor": 5
}
