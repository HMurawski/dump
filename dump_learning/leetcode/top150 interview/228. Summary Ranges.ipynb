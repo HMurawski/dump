{
 "cells": [
  {
   "cell_type": "markdown",
   "id": "8a913928",
   "metadata": {},
   "source": [
    "228. Summary Ranges"
   ]
  },
  {
   "cell_type": "markdown",
   "id": "7ef77757",
   "metadata": {},
   "source": [
    "You are given a sorted unique integer array nums.\n",
    "\n",
    "A range [a,b] is the set of all integers from a to b (inclusive).\n",
    "\n",
    "Return the smallest sorted list of ranges that cover all the numbers in the array exactly. That is, each element of nums is covered by exactly one of the ranges, and there is no integer x such that x is in one of the ranges but not in nums.\n",
    "\n",
    "Each range [a,b] in the list should be output as:\n",
    "\n",
    "\"a->b\" if a != b\n",
    "\"a\" if a == b\n",
    " \n",
    "\n",
    "Example 1:\n",
    "\n",
    "Input: nums = [0,1,2,4,5,7]\n",
    "Output: [\"0->2\",\"4->5\",\"7\"]\n",
    "Explanation: The ranges are:\n",
    "[0,2] --> \"0->2\"\n",
    "[4,5] --> \"4->5\"\n",
    "[7,7] --> \"7\"\n",
    "Example 2:\n",
    "\n",
    "Input: nums = [0,2,3,4,6,8,9]\n",
    "Output: [\"0\",\"2->4\",\"6\",\"8->9\"]\n",
    "Explanation: The ranges are:\n",
    "[0,0] --> \"0\"\n",
    "[2,4] --> \"2->4\"\n",
    "[6,6] --> \"6\"\n",
    "[8,9] --> \"8->9\"\n",
    " \n",
    "\n",
    "Constraints:\n",
    "\n",
    "0 <= nums.length <= 20\n",
    "-231 <= nums[i] <= 231 - 1\n",
    "All the values of nums are unique.\n",
    "nums is sorted in ascending order."
   ]
  },
  {
   "cell_type": "code",
   "execution_count": 4,
   "id": "bb2de49a",
   "metadata": {},
   "outputs": [],
   "source": [
    "class Solution:\n",
    "    def summaryRanges(self, nums):\n",
    "        ret = []\n",
    "        if not nums:\n",
    "            return ret\n",
    "\n",
    "        start = nums[0]\n",
    "\n",
    "        for i in range(1, len(nums)):\n",
    "            if nums[i] != nums[i - 1] + 1:\n",
    "                # Sequence ended\n",
    "                if start == nums[i - 1]:\n",
    "                    ret.append(str(start))\n",
    "                else:\n",
    "                    ret.append(f\"{start}->{nums[i - 1]}\")\n",
    "                start = nums[i]  # Start a new range\n",
    "\n",
    "        # Handle the last range\n",
    "        if start == nums[-1]:\n",
    "            ret.append(str(start))\n",
    "        else:\n",
    "            ret.append(f\"{start}->{nums[-1]}\")\n",
    "\n",
    "        return ret\n"
   ]
  },
  {
   "cell_type": "code",
   "execution_count": 5,
   "id": "bed9ffea",
   "metadata": {},
   "outputs": [
    {
     "name": "stdout",
     "output_type": "stream",
     "text": [
      "['0->2', '4->5', '7']\n",
      "['0', '2->4', '6', '8->9']\n"
     ]
    }
   ],
   "source": [
    "s = Solution()\n",
    "print(s.summaryRanges([0,1,2,4,5,7]))       # [\"0->2\",\"4->5\",\"7\"]\n",
    "print(s.summaryRanges([0,2,3,4,6,8,9]))     # [\"0\",\"2->4\",\"6\",\"8->9\"]\n"
   ]
  },
  {
   "cell_type": "code",
   "execution_count": null,
   "id": "871a7183",
   "metadata": {},
   "outputs": [],
   "source": []
  }
 ],
 "metadata": {
  "kernelspec": {
   "display_name": "Python 3",
   "language": "python",
   "name": "python3"
  },
  "language_info": {
   "codemirror_mode": {
    "name": "ipython",
    "version": 3
   },
   "file_extension": ".py",
   "mimetype": "text/x-python",
   "name": "python",
   "nbconvert_exporter": "python",
   "pygments_lexer": "ipython3",
   "version": "3.11.3"
  }
 },
 "nbformat": 4,
 "nbformat_minor": 5
}
