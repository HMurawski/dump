{
 "cells": [
  {
   "cell_type": "markdown",
   "id": "719effd1",
   "metadata": {},
   "source": [
    "### Leetcode 205 - Isomorphic Strings\n",
    "\n",
    "### 🔗 [Link to Leetcode](https://leetcode.com/problems/isomorphic-strings/)"
   ]
  },
  {
   "cell_type": "markdown",
   "id": "64081ba3",
   "metadata": {},
   "source": [
    "\n",
    "Given two strings s and t, determine if they are isomorphic.\n",
    "\n",
    "Two strings s and t are isomorphic if the characters in s can be replaced to get t.\n",
    "\n",
    "All occurrences of a character must be replaced with another character while preserving the order of characters. No two characters may map to the same character, but a character may map to itself.\n",
    "\n",
    " \n",
    "\n",
    "Example 1:\n",
    "\n",
    "Input: s = \"egg\", t = \"add\"\n",
    "\n",
    "Output: true\n",
    "\n",
    "Explanation:\n",
    "\n",
    "The strings s and t can be made identical by:\n",
    "\n",
    "Mapping 'e' to 'a'.\n",
    "Mapping 'g' to 'd'.\n",
    "Example 2:\n",
    "\n",
    "Input: s = \"foo\", t = \"bar\"\n",
    "\n",
    "Output: false\n",
    "\n",
    "Explanation:\n",
    "\n",
    "The strings s and t can not be made identical as 'o' needs to be mapped to both 'a' and 'r'.\n",
    "\n",
    "Example 3:\n",
    "\n",
    "Input: s = \"paper\", t = \"title\"\n",
    "\n",
    "Output: true\n",
    "\n",
    " \n",
    "\n",
    "Constraints:\n",
    "\n",
    "1 <= s.length <= 5 * 104\n",
    "t.length == s.length\n",
    "s and t consist of any valid ascii character."
   ]
  },
  {
   "cell_type": "markdown",
   "id": "c0747afe",
   "metadata": {},
   "source": [
    "### 🧠 Strategy / Thought Process:\n",
    "### 1. The lengths of s and t must be equal (guaranteed by constraints).\n",
    "### 2. iterate through both strings character by character using zip(s, t).\n",
    "### 3. use two dictionaries:\n",
    "###    - map_s_to_t: to store the mapping from characters in s to characters in t\n",
    "###    - map_t_to_s: to ensure no two characters in s map to the same character in t\n",
    "### 4. During iteration:\n",
    "###    - If a mapping already exists, check if it's consistent.\n",
    "###    - If not,check for a conflict (i.e., t character already mapped by another s char).\n",
    "\n",
    "### 📊 Time complexity: O(n), where n = len(s)\n",
    "### 📊 Space complexity: O(n), for storing mappings in dictionaries"
   ]
  },
  {
   "cell_type": "code",
   "execution_count": 7,
   "id": "cc7ec8d4",
   "metadata": {},
   "outputs": [],
   "source": [
    "class Solution:\n",
    "    def isIsomorphic(self, s: str, t: str) -> bool:\n",
    "        map_s_to_t = {}\n",
    "        map_t_to_s = {}\n",
    "        \n",
    "        for cs, ct in zip(s,t):\n",
    "            if cs in map_s_to_t:\n",
    "                if map_s_to_t[cs] != ct:\n",
    "                    return False\n",
    "            else:\n",
    "                if ct in map_t_to_s:\n",
    "                    return False\n",
    "                map_s_to_t[cs] = ct\n",
    "                map_t_to_s[ct] = cs\n",
    "        \n",
    "        return True"
   ]
  },
  {
   "cell_type": "code",
   "execution_count": 11,
   "id": "84404ffa",
   "metadata": {},
   "outputs": [
    {
     "name": "stdout",
     "output_type": "stream",
     "text": [
      "False\n",
      "True\n",
      "True\n"
     ]
    }
   ],
   "source": [
    "sol = Solution()\n",
    "\n",
    "print(sol.isIsomorphic(\"foo\", \"bar\")) #false\n",
    "print(sol.isIsomorphic(\"egg\", \"add\")) #true\n",
    "print(sol.isIsomorphic(\"paper\", \"title\")) #true"
   ]
  },
  {
   "cell_type": "code",
   "execution_count": null,
   "id": "e42e597a",
   "metadata": {},
   "outputs": [],
   "source": []
  }
 ],
 "metadata": {
  "kernelspec": {
   "display_name": "Python 3",
   "language": "python",
   "name": "python3"
  },
  "language_info": {
   "codemirror_mode": {
    "name": "ipython",
    "version": 3
   },
   "file_extension": ".py",
   "mimetype": "text/x-python",
   "name": "python",
   "nbconvert_exporter": "python",
   "pygments_lexer": "ipython3",
   "version": "3.11.3"
  }
 },
 "nbformat": 4,
 "nbformat_minor": 5
}
