{
 "cells": [
  {
   "cell_type": "markdown",
   "id": "71207905",
   "metadata": {},
   "source": [
    "Problem\n",
    "134. Gas Station – Leetcode"
   ]
  },
  {
   "cell_type": "markdown",
   "id": "81404f06",
   "metadata": {},
   "source": [
    "There are n gas stations along a circular route, where the amount of gas at the ith station is gas[i].\n",
    "\n",
    "You have a car with an unlimited gas tank and it costs cost[i] of gas to travel from the ith station to its next (i + 1)th station. You begin the journey with an empty tank at one of the gas stations.\n",
    "\n",
    "Given two integer arrays gas and cost, return the starting gas station's index if you can travel around the circuit once in the clockwise direction, otherwise return -1. If there exists a solution, it is guaranteed to be unique.\n",
    "\n",
    " \n",
    "\n",
    "Example 1:\n",
    "\n",
    "Input: gas = [1,2,3,4,5], cost = [3,4,5,1,2]\n",
    "Output: 3\n",
    "Explanation:\n",
    "Start at station 3 (index 3) and fill up with 4 unit of gas. Your tank = 0 + 4 = 4\n",
    "Travel to station 4. Your tank = 4 - 1 + 5 = 8\n",
    "Travel to station 0. Your tank = 8 - 2 + 1 = 7\n",
    "Travel to station 1. Your tank = 7 - 3 + 2 = 6\n",
    "Travel to station 2. Your tank = 6 - 4 + 3 = 5\n",
    "Travel to station 3. The cost is 5. Your gas is just enough to travel back to station 3.\n",
    "Therefore, return 3 as the starting index.\n",
    "Example 2:\n",
    "\n",
    "Input: gas = [2,3,4], cost = [3,4,3]\n",
    "Output: -1\n",
    "Explanation:\n",
    "You can't start at station 0 or 1, as there is not enough gas to travel to the next station.\n",
    "Let's start at station 2 and fill up with 4 unit of gas. Your tank = 0 + 4 = 4\n",
    "Travel to station 0. Your tank = 4 - 3 + 2 = 3\n",
    "Travel to station 1. Your tank = 3 - 3 + 3 = 3\n",
    "You cannot travel back to station 2, as it requires 4 unit of gas but you only have 3.\n",
    "Therefore, you can't travel around the circuit once no matter where you start."
   ]
  },
  {
   "cell_type": "code",
   "execution_count": 1,
   "id": "62981d5d",
   "metadata": {},
   "outputs": [],
   "source": [
    "class Solution:\n",
    "    def canCompleteCircuit(self, gas, cost) -> int:\n",
    "        total = 0\n",
    "        tank = 0\n",
    "        start = 0\n",
    "        \n",
    "        for i in range(len(gas)):\n",
    "            diff = gas[i] - cost[i]\n",
    "            total += diff\n",
    "            tank += diff\n",
    "            \n",
    "            if tank < 0 :\n",
    "                tank = 0\n",
    "                start = i + 1\n",
    "            \n",
    "        return start if total >= 0 else -1"
   ]
  },
  {
   "cell_type": "markdown",
   "id": "9dc6c8eb",
   "metadata": {},
   "source": [
    "## Approach\n",
    "First, check if the total gas is enough to cover the total cost.\n",
    "If sum(gas) < sum(cost) → return -1\n",
    "\n",
    "Iterate over each station and simulate the trip:\n",
    "\n",
    "Keep a tank for the current fuel level.\n",
    "\n",
    "Keep a total to verify feasibility.\n",
    "\n",
    "If tank ever drops below zero, it means we cannot reach the next station from current start.\n",
    "In that case, update the starting index to i + 1 and reset tank.\n",
    "\n",
    "If total gas >= total cost, the valid starting station is guaranteed to exist and is uniquely found by the logic above."
   ]
  },
  {
   "cell_type": "code",
   "execution_count": null,
   "id": "b7921eab",
   "metadata": {},
   "outputs": [
    {
     "name": "stdout",
     "output_type": "stream",
     "text": [
      "3 -1\n"
     ]
    }
   ],
   "source": [
    "sol = Solution()\n",
    "check = sol.canCompleteCircuit(gas = [1,2,3,4,5], cost=[3,4,5,1,2]) #3\n",
    "check_1 = sol.canCompleteCircuit(gas = [2,3,4], cost= [3,4,3]) #1\n",
    "print(check, check_1)"
   ]
  },
  {
   "cell_type": "code",
   "execution_count": null,
   "id": "0962fb08",
   "metadata": {},
   "outputs": [],
   "source": []
  }
 ],
 "metadata": {
  "kernelspec": {
   "display_name": "Python 3",
   "language": "python",
   "name": "python3"
  },
  "language_info": {
   "codemirror_mode": {
    "name": "ipython",
    "version": 3
   },
   "file_extension": ".py",
   "mimetype": "text/x-python",
   "name": "python",
   "nbconvert_exporter": "python",
   "pygments_lexer": "ipython3",
   "version": "3.11.3"
  }
 },
 "nbformat": 4,
 "nbformat_minor": 5
}
