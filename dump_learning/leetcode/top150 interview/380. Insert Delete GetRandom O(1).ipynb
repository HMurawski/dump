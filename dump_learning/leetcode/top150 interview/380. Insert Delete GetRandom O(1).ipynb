{
 "cells": [
  {
   "cell_type": "markdown",
   "id": "c0afee2c",
   "metadata": {},
   "source": [
    "LeetCode 380: Insert Delete GetRandom O(1)"
   ]
  },
  {
   "cell_type": "markdown",
   "id": "4b475fcc",
   "metadata": {},
   "source": [
    "Implement the RandomizedSet class:\n",
    "\n",
    "RandomizedSet() Initializes the RandomizedSet object.\n",
    "bool insert(int val) Inserts an item val into the set if not present. Returns true if the item was not present, false otherwise.\n",
    "bool remove(int val) Removes an item val from the set if present. Returns true if the item was present, false otherwise.\n",
    "int getRandom() Returns a random element from the current set of elements (it's guaranteed that at least one element exists when this method is called). Each element must have the same probability of being returned.\n",
    "You must implement the functions of the class such that each function works in average O(1) time complexity.\n",
    "\n",
    " \n",
    "\n",
    "Example 1:\n",
    "\n",
    "Input\n",
    "[\"RandomizedSet\", \"insert\", \"remove\", \"insert\", \"getRandom\", \"remove\", \"insert\", \"getRandom\"]\n",
    "[[], [1], [2], [2], [], [1], [2], []]\n",
    "Output\n",
    "[null, true, false, true, 2, true, false, 2]\n",
    "\n",
    "Explanation\n",
    "RandomizedSet randomizedSet = new RandomizedSet();\n",
    "randomizedSet.insert(1); // Inserts 1 to the set. Returns true as 1 was inserted successfully.\n",
    "randomizedSet.remove(2); // Returns false as 2 does not exist in the set.\n",
    "randomizedSet.insert(2); // Inserts 2 to the set, returns true. Set now contains [1,2].\n",
    "randomizedSet.getRandom(); // getRandom() should return either 1 or 2 randomly.\n",
    "randomizedSet.remove(1); // Removes 1 from the set, returns true. Set now contains [2].\n",
    "randomizedSet.insert(2); // 2 was already in the set, so return false.\n",
    "randomizedSet.getRandom(); // Since 2 is the only number in the set, getRandom() will always return 2.\n",
    " \n",
    "\n",
    "Constraints:\n",
    "\n",
    "-231 <= val <= 231 - 1\n",
    "At most 2 * 105 calls will be made to insert, remove, and getRandom.\n",
    "There will be at least one element in the data structure when getRandom is called."
   ]
  },
  {
   "cell_type": "markdown",
   "id": "6bbdfb06",
   "metadata": {},
   "source": [
    "## First Approach - working, but its too slow"
   ]
  },
  {
   "cell_type": "code",
   "execution_count": 1,
   "id": "53afef1c",
   "metadata": {},
   "outputs": [],
   "source": [
    "import random\n",
    "class RandomizedSet:\n",
    "\n",
    "    def __init__(self):\n",
    "        self.random_set = set()\n",
    "\n",
    "    def insert(self, val: int) -> bool:\n",
    "        if val not in self.random_set:\n",
    "            self.random_set.add(val)\n",
    "            return True\n",
    "        else:\n",
    "            return False\n",
    "\n",
    "    def remove(self, val: int) -> bool:\n",
    "        if val in self.random_set:\n",
    "            self.random_set.remove(val)\n",
    "            return True\n",
    "        else:\n",
    "            return False\n",
    "\n",
    "    def getRandom(self) -> int:\n",
    "        return random.choice(list(self.random_set))\n",
    "\n",
    "\n",
    "# Your RandomizedSet object will be instantiated and called as such:\n",
    "# obj = RandomizedSet()\n",
    "# param_1 = obj.insert(val)\n",
    "# param_2 = obj.remove(val)\n",
    "# param_3 = obj.getRandom()"
   ]
  },
  {
   "cell_type": "markdown",
   "id": "3c5eaa2d",
   "metadata": {},
   "source": [
    "🧠 Approach\n",
    "To achieve O(1) time complexity for all operations, we combine:\n",
    "\n",
    "A list self.nums for storing inserted elements → enables O(1) random access.\n",
    "\n",
    "A dictionary self.idx_map mapping each element to its index in self.nums → enables O(1) insert/remove operations.\n",
    "\n",
    "Key idea for remove:\n",
    "\n",
    "Instead of removing an element from the middle of the list (which is O(n)),\n",
    "\n",
    "We swap it with the last element, pop the last one, and update the index in idx_map."
   ]
  },
  {
   "cell_type": "code",
   "execution_count": 2,
   "id": "0ffcb4df",
   "metadata": {},
   "outputs": [],
   "source": [
    "class RandomizedSet:\n",
    "\n",
    "    def __init__(self):\n",
    "        # nums holds values; idx_map maps value to its index in nums\n",
    "        self.nums = []\n",
    "        self.idx_map = {}\n",
    "\n",
    "    def insert(self, val: int) -> bool:\n",
    "        if val in self.idx_map:\n",
    "            return False\n",
    "        self.nums.append(val)\n",
    "        self.idx_map[val] = len(self.nums) - 1\n",
    "        return True\n",
    "\n",
    "    def remove(self, val: int) -> bool:\n",
    "        if val not in self.idx_map:\n",
    "            return False\n",
    "        idx_to_remove = self.idx_map[val]\n",
    "        last_val = self.nums[-1]\n",
    "        \n",
    "        # Swap the value to remove with the last one\n",
    "        self.nums[idx_to_remove] = last_val\n",
    "        self.idx_map[last_val] = idx_to_remove\n",
    "        \n",
    "        # Remove last element\n",
    "        self.nums.pop()\n",
    "        del self.idx_map[val]\n",
    "        return True\n",
    "\n",
    "    def getRandom(self) -> int:\n",
    "        return random.choice(self.nums)"
   ]
  },
  {
   "cell_type": "markdown",
   "id": "4f84aff9",
   "metadata": {},
   "source": [
    "### Method | Time Complexity | Explanation\n",
    "### insert | O(1) | Dictionary insert + list append\n",
    "### remove | O(1) | Dictionary lookup + swap + pop\n",
    "### getRandom | O(1) | Random access from list"
   ]
  },
  {
   "cell_type": "markdown",
   "id": "ebaa5300",
   "metadata": {},
   "source": [
    "### 📝 Notes\n",
    "#### Two data structures are used in sync to get both fast lookup and random access.\n",
    "\n",
    "#### Swapping before removing is a common trick to avoid slow middle deletions in lists."
   ]
  }
 ],
 "metadata": {
  "kernelspec": {
   "display_name": "Python 3",
   "language": "python",
   "name": "python3"
  },
  "language_info": {
   "codemirror_mode": {
    "name": "ipython",
    "version": 3
   },
   "file_extension": ".py",
   "mimetype": "text/x-python",
   "name": "python",
   "nbconvert_exporter": "python",
   "pygments_lexer": "ipython3",
   "version": "3.11.3"
  }
 },
 "nbformat": 4,
 "nbformat_minor": 5
}
