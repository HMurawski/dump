{
 "cells": [
  {
   "cell_type": "markdown",
   "id": "c566dc60",
   "metadata": {},
   "source": [
    "[219. Contains Duplicate II](https://leetcode.com/problems/contains-duplicate-ii/)"
   ]
  },
  {
   "cell_type": "markdown",
   "id": "2e1fa697",
   "metadata": {},
   "source": [
    "Given an integer array nums and an integer k, return true if there are two distinct indices i and j in the array such that nums[i] == nums[j] and abs(i - j) <= k.\n",
    "\n",
    " \n",
    "\n",
    "Example 1:\n",
    "\n",
    "Input: nums = [1,2,3,1], k = 3\n",
    "Output: true\n",
    "Example 2:\n",
    "\n",
    "Input: nums = [1,0,1,1], k = 1\n",
    "Output: true\n",
    "Example 3:\n",
    "\n",
    "Input: nums = [1,2,3,1,2,3], k = 2\n",
    "Output: false\n",
    " \n",
    "\n",
    "Constraints:\n",
    "\n",
    "1 <= nums.length <= 105\n",
    "-109 <= nums[i] <= 109\n",
    "0 <= k <= 105"
   ]
  },
  {
   "cell_type": "code",
   "execution_count": 3,
   "id": "f3797eb3",
   "metadata": {},
   "outputs": [],
   "source": [
    "class Solution:\n",
    "    def containsNearbyDuplicate(self, nums, k: int) -> bool:\n",
    "        seen = set()\n",
    "        for index, num in enumerate(nums):\n",
    "            if num in seen:\n",
    "                return True\n",
    "            seen.add(num)\n",
    "            \n",
    "            if len(seen) > k:\n",
    "                seen.remove(nums[index - k])\n",
    "        return False"
   ]
  },
  {
   "cell_type": "code",
   "execution_count": 5,
   "id": "02363100",
   "metadata": {},
   "outputs": [
    {
     "name": "stdout",
     "output_type": "stream",
     "text": [
      "False\n",
      "True\n"
     ]
    }
   ],
   "source": [
    "sol = Solution()\n",
    "print(sol.containsNearbyDuplicate([1, 2, 3, 1, 2, 3], k = 2)) #f\n",
    "print(sol.containsNearbyDuplicate([1, 0, 1, 1], k = 1)) #t"
   ]
  },
  {
   "cell_type": "markdown",
   "id": "6bc15b4f",
   "metadata": {},
   "source": [
    "### Time and Space Complexity\n",
    "- **Time complexity:** O(n), where n is the length of `nums`, since each element is added and removed from the set at most once\n",
    "- **Space complexity:** O(k), for the sliding window set that stores up to `k` elements"
   ]
  },
  {
   "cell_type": "markdown",
   "id": "025c9242",
   "metadata": {},
   "source": [
    "### Notes\n",
    "- This problem is similar to Problem 217 (Contains Duplicate), but adds the additional constraint of distance `k`\n",
    "- Using a set instead of a dictionary avoids tracking indices directly and makes the solution more elegant using the sliding window technique"
   ]
  },
  {
   "cell_type": "markdown",
   "id": "42b869f0",
   "metadata": {},
   "source": []
  }
 ],
 "metadata": {
  "kernelspec": {
   "display_name": "Python 3",
   "language": "python",
   "name": "python3"
  },
  "language_info": {
   "codemirror_mode": {
    "name": "ipython",
    "version": 3
   },
   "file_extension": ".py",
   "mimetype": "text/x-python",
   "name": "python",
   "nbconvert_exporter": "python",
   "pygments_lexer": "ipython3",
   "version": "3.11.3"
  }
 },
 "nbformat": 4,
 "nbformat_minor": 5
}
