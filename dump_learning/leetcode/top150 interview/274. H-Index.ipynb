{
 "cells": [
  {
   "cell_type": "markdown",
   "id": "e4ca9b68",
   "metadata": {},
   "source": [
    "# Problem: H-Index\n",
    "# Link: https://leetcode.com/problems/h-index/"
   ]
  },
  {
   "cell_type": "markdown",
   "id": "619836d2",
   "metadata": {},
   "source": [
    "Given an array of integers citations where citations[i] is the number of citations a researcher received for their ith paper, return the researcher's h-index.\n",
    "\n",
    "According to the definition of h-index on Wikipedia: The h-index is defined as the maximum value of h such that the given researcher has published at least h papers that have each been cited at least h times.\n",
    "\n",
    " \n",
    "\n",
    "Example 1:\n",
    "\n",
    "Input: citations = [3,0,6,1,5]\n",
    "Output: 3\n",
    "Explanation: [3,0,6,1,5] means the researcher has 5 papers in total and each of them had received 3, 0, 6, 1, 5 citations respectively.\n",
    "Since the researcher has 3 papers with at least 3 citations each and the remaining two with no more than 3 citations each, their h-index is 3.\n",
    "Example 2:\n",
    "\n",
    "Input: citations = [1,3,1]\n",
    "Output: 1\n",
    " \n",
    "\n",
    "Constraints:\n",
    "\n",
    "n == citations.length\n",
    "1 <= n <= 5000\n",
    "0 <= citations[i] <= 1000"
   ]
  },
  {
   "cell_type": "markdown",
   "id": "d6fcba69",
   "metadata": {},
   "source": [
    "## --- Approach ---\n",
    "### 1. Sort the citations array in descending order.\n",
    "### 2. Traverse the sorted array.\n",
    "### 3. For each index i, check if citations[i] >= i+1.\n",
    "###    - If so, we can increment h (this means we have at least i+1 papers with i+1 citations).\n",
    "### 4. Stop once the condition fails.\n",
    "### 5. Return h as the final h-index."
   ]
  },
  {
   "cell_type": "code",
   "execution_count": 1,
   "id": "01b98039",
   "metadata": {},
   "outputs": [],
   "source": [
    "class Solution:\n",
    "    def hIndex(self, citations) -> int:\n",
    "        citations.sort(reverse=True)\n",
    "        h = 0\n",
    "        for i in range(len(citations)):\n",
    "            if citations[i] >= i+1:\n",
    "                h+=1\n",
    "        return h    "
   ]
  },
  {
   "cell_type": "code",
   "execution_count": null,
   "id": "74c3895c",
   "metadata": {},
   "outputs": [
    {
     "name": "stdout",
     "output_type": "stream",
     "text": [
      "index 0\n",
      "wartosc 3\n",
      "h= 1\n",
      "index 1\n",
      "wartosc 0\n",
      "index 2\n",
      "wartosc 6\n",
      "h= 2\n",
      "index 3\n",
      "wartosc 1\n",
      "index 4\n",
      "wartosc 5\n",
      "h= 3\n"
     ]
    }
   ],
   "source": [
    "#dummy check\n",
    "citations = [3,0,6,1,5]\n",
    "h = 0\n",
    "for i in range(len(citations)):\n",
    "    print(\"index\", i)\n",
    "    print(\"wartosc\", citations[i])\n",
    "    if citations[i] >= i+1:\n",
    "        h+=1\n",
    "        print(\"h=\",h)"
   ]
  },
  {
   "cell_type": "markdown",
   "id": "31f39a19",
   "metadata": {},
   "source": [
    "## --- Time Complexity ---\n",
    "#### Sorting takes O(n log n), the loop takes O(n).\n",
    "#### Final Time: O(n log n)\n",
    "#### Final Space: O(1) – in-place sorting, no extra space used."
   ]
  },
  {
   "cell_type": "markdown",
   "id": "f429f6da",
   "metadata": {},
   "source": [
    "## --- Notes ---\n",
    "#### - Classic greedy pattern: try the highest h first.\n",
    "#### - Simple condition: count how many papers have at least h citations."
   ]
  },
  {
   "cell_type": "code",
   "execution_count": null,
   "id": "58f71b0e",
   "metadata": {},
   "outputs": [],
   "source": []
  }
 ],
 "metadata": {
  "kernelspec": {
   "display_name": "Python 3",
   "language": "python",
   "name": "python3"
  },
  "language_info": {
   "codemirror_mode": {
    "name": "ipython",
    "version": 3
   },
   "file_extension": ".py",
   "mimetype": "text/x-python",
   "name": "python",
   "nbconvert_exporter": "python",
   "pygments_lexer": "ipython3",
   "version": "3.11.3"
  }
 },
 "nbformat": 4,
 "nbformat_minor": 5
}
