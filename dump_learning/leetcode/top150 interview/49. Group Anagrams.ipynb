{
 "cells": [
  {
   "cell_type": "markdown",
   "id": "ae34750a",
   "metadata": {},
   "source": [
    "🧠 Problem: 49. Group Anagrams"
   ]
  },
  {
   "cell_type": "markdown",
   "id": "302e8776",
   "metadata": {},
   "source": [
    "Given an array of strings strs, group the anagrams together. You can return the answer in any order.\n",
    "\n",
    " \n",
    "\n",
    "Example 1:\n",
    "\n",
    "Input: strs = [\"eat\",\"tea\",\"tan\",\"ate\",\"nat\",\"bat\"]\n",
    "\n",
    "Output: [[\"bat\"],[\"nat\",\"tan\"],[\"ate\",\"eat\",\"tea\"]]\n",
    "\n",
    "Explanation:\n",
    "\n",
    "There is no string in strs that can be rearranged to form \"bat\".\n",
    "The strings \"nat\" and \"tan\" are anagrams as they can be rearranged to form each other.\n",
    "The strings \"ate\", \"eat\", and \"tea\" are anagrams as they can be rearranged to form each other.\n",
    "Example 2:\n",
    "\n",
    "Input: strs = [\"\"]\n",
    "\n",
    "Output: [[\"\"]]\n",
    "\n",
    "Example 3:\n",
    "\n",
    "Input: strs = [\"a\"]\n",
    "\n",
    "Output: [[\"a\"]]\n",
    "\n",
    " \n",
    "\n",
    "Constraints:\n",
    "\n",
    "1 <= strs.length <= 104\n",
    "0 <= strs[i].length <= 100\n",
    "strs[i] consists of lowercase English letters."
   ]
  },
  {
   "cell_type": "markdown",
   "id": "89680345",
   "metadata": {},
   "source": [
    "🔍 Approaches\n",
    "✅ Sorting as key (recommended)\n",
    "For each string, sort its characters alphabetically.\n",
    "\n",
    "Use the sorted string as a key in a dictionary.\n",
    "\n",
    "Group all original strings under that key.\n",
    "\n",
    "Why it works:\n",
    "\n",
    "All anagrams share the same sorted representation.\n",
    "\n",
    "Example: \"eat\", \"tea\", and \"ate\" → \"aet\""
   ]
  },
  {
   "cell_type": "code",
   "execution_count": 1,
   "id": "665feed4",
   "metadata": {},
   "outputs": [],
   "source": [
    "from collections import defaultdict"
   ]
  },
  {
   "cell_type": "code",
   "execution_count": 2,
   "id": "2aabea72",
   "metadata": {},
   "outputs": [],
   "source": [
    "class Solution:\n",
    "    def groupAnagrams(self, strs):\n",
    "        d = defaultdict(list)\n",
    "        for s in strs:\n",
    "            key = \"\".join(sorted(s))\n",
    "            d[key].append(s)\n",
    "        return list(d.values())\n",
    "            \n",
    "        "
   ]
  },
  {
   "cell_type": "code",
   "execution_count": null,
   "id": "d79d179e",
   "metadata": {},
   "outputs": [
    {
     "name": "stdout",
     "output_type": "stream",
     "text": [
      "[['eat', 'tea', 'ate'], ['tan', 'nat'], ['bat']]\n"
     ]
    }
   ],
   "source": [
    "#manual check\n",
    "strs = [\"eat\",\"tea\",\"tan\",\"ate\",\"nat\",\"bat\"]\n",
    "d = defaultdict(list)\n",
    "for s in strs:\n",
    "    key = \"\".join(sorted(s))\n",
    "    d[key].append(s)\n",
    "print(list(d.values()))"
   ]
  },
  {
   "cell_type": "markdown",
   "id": "9bf7f6b5",
   "metadata": {},
   "source": [
    "⏱ Time & Space Complexity\n",
    "⏱ Time Complexity:\n",
    "Let n be the number of strings and k the average length of a string.\n",
    "\n",
    "Sorting each string: O(k log k)\n",
    "\n",
    "Total complexity: O(n * k log k)\n",
    "\n",
    "💾 Space Complexity:\n",
    "Dictionary stores up to n keys (in worst case).\n",
    "\n",
    "Each string appears once → O(n * k) space total."
   ]
  },
  {
   "cell_type": "markdown",
   "id": "f9fcda3a",
   "metadata": {},
   "source": [
    "🗒️ Notes\n",
    "Using ''.join(sorted(s)) gives a canonical form for each string.\n",
    "\n",
    "defaultdict(list) is perfect for grouping."
   ]
  },
  {
   "cell_type": "markdown",
   "id": "818aa5ec",
   "metadata": {},
   "source": []
  }
 ],
 "metadata": {
  "kernelspec": {
   "display_name": "Python 3",
   "language": "python",
   "name": "python3"
  },
  "language_info": {
   "codemirror_mode": {
    "name": "ipython",
    "version": 3
   },
   "file_extension": ".py",
   "mimetype": "text/x-python",
   "name": "python",
   "nbconvert_exporter": "python",
   "pygments_lexer": "ipython3",
   "version": "3.11.3"
  }
 },
 "nbformat": 4,
 "nbformat_minor": 5
}
