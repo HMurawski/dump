{
 "cells": [
  {
   "cell_type": "markdown",
   "id": "70f2f9d9",
   "metadata": {},
   "source": [
    "## Problem: 202. Happy Number\n",
    "\n",
    "## Link: https://leetcode.com/problems/happy-number\n",
    "\n",
    "## Difficulty: Easy\n",
    "\n",
    "## Tags: Hash Set, Math, Cycle Detection\n",
    "\n",
    "## Companies: Google, Bloomberg"
   ]
  },
  {
   "cell_type": "markdown",
   "id": "70a9012f",
   "metadata": {},
   "source": [
    "Write an algorithm to determine if a number n is happy.\n",
    "\n",
    "A happy number is a number defined by the following process:\n",
    "\n",
    "Starting with any positive integer, replace the number by the sum of the squares of its digits.\n",
    "Repeat the process until the number equals 1 (where it will stay), or it loops endlessly in a cycle which does not include 1.\n",
    "Those numbers for which this process ends in 1 are happy.\n",
    "Return true if n is a happy number, and false if not.\n",
    "\n",
    " \n",
    "\n",
    "Example 1:\n",
    "\n",
    "Input: n = 19\n",
    "Output: true\n",
    "Explanation:\n",
    "12 + 92 = 82\n",
    "82 + 22 = 68\n",
    "62 + 82 = 100\n",
    "12 + 02 + 02 = 1\n",
    "Example 2:\n",
    "\n",
    "Input: n = 2\n",
    "Output: false\n",
    " \n",
    "\n",
    "Constraints:\n",
    "\n",
    "1 <= n <= 231 - 1"
   ]
  },
  {
   "cell_type": "markdown",
   "id": "fb616c9a",
   "metadata": {},
   "source": [
    "🔍 Approach\n",
    "Create an empty set to store seen numbers.\n",
    "\n",
    "While n is not equal to 1:\n",
    "\n",
    "If n is in the set, we've entered a cycle → return False\n",
    "\n",
    "Else:\n",
    "\n",
    "Add n to the set\n",
    "\n",
    "Replace n with the sum of the squares of its digits\n",
    "\n",
    "If we reach 1, return True.\n",
    "\n",
    "This approach detects cycles by storing previously seen numbers."
   ]
  },
  {
   "cell_type": "code",
   "execution_count": 14,
   "id": "6d2dce62",
   "metadata": {},
   "outputs": [],
   "source": [
    "class Solution:\n",
    "    def isHappy(self, n: int) -> bool:\n",
    "        seen = set()\n",
    "        while n != 1:\n",
    "            if n in seen:\n",
    "                return False\n",
    "            else:\n",
    "                seen.add(n)\n",
    "                total = 0\n",
    "                for digit in str(n):\n",
    "                    total += int(digit)**2\n",
    "                n = total\n",
    "                \n",
    "        return True"
   ]
  },
  {
   "cell_type": "code",
   "execution_count": null,
   "id": "ee71c555",
   "metadata": {},
   "outputs": [
    {
     "name": "stdout",
     "output_type": "stream",
     "text": [
      "68\n"
     ]
    }
   ],
   "source": [
    "# n = 82\n",
    "# total = 0\n",
    "# for digit in str(n):\n",
    "#     total += int(digit)**2\n",
    "# print(total)\n"
   ]
  },
  {
   "cell_type": "code",
   "execution_count": null,
   "id": "bc5f1e30",
   "metadata": {},
   "outputs": [
    {
     "name": "stdout",
     "output_type": "stream",
     "text": [
      "False\n",
      "False\n",
      "True\n",
      "True\n"
     ]
    }
   ],
   "source": [
    "#tests\n",
    "sol = Solution()\n",
    "print(sol.isHappy(123)) #f\n",
    "print(sol.isHappy(2)) #f\n",
    "print(sol.isHappy(100)) #t\n",
    "print(sol.isHappy(7))  #t"
   ]
  },
  {
   "cell_type": "markdown",
   "id": "217ed60a",
   "metadata": {},
   "source": [
    "## ⏱️ Time & Space Complexity\n",
    "Time Complexity: O(log n) per transformation (due to number of digits), but in practice it's constant because values quickly fall into a small cycle.\n",
    "\n",
    "Space Complexity: O(log n) to store seen numbers, but again effectively constant due to limited number of transformations."
   ]
  },
  {
   "cell_type": "markdown",
   "id": "eb32ccf3",
   "metadata": {},
   "source": [
    "## 📝 Notes\n",
    "This is a classic use case for cycle detection.\n",
    "\n",
    "Alternative approach: use Floyd’s Tortoise and Hare algorithm (no extra memory).\n",
    "\n",
    "Good practice problem to test your understanding of loops and sets."
   ]
  },
  {
   "cell_type": "markdown",
   "id": "959b1cc1",
   "metadata": {},
   "source": []
  }
 ],
 "metadata": {
  "kernelspec": {
   "display_name": "Python 3",
   "language": "python",
   "name": "python3"
  },
  "language_info": {
   "codemirror_mode": {
    "name": "ipython",
    "version": 3
   },
   "file_extension": ".py",
   "mimetype": "text/x-python",
   "name": "python",
   "nbconvert_exporter": "python",
   "pygments_lexer": "ipython3",
   "version": "3.11.3"
  }
 },
 "nbformat": 4,
 "nbformat_minor": 5
}
