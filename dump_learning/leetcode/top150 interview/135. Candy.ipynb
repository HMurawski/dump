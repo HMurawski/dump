{
 "cells": [
  {
   "cell_type": "markdown",
   "id": "158beea1",
   "metadata": {},
   "source": [
    "### Problem: Candy Distribution\n",
    "# https://leetcode.com/problems/candy/"
   ]
  },
  {
   "cell_type": "markdown",
   "id": "f7eec025",
   "metadata": {},
   "source": [
    "\"\"\"\n",
    "There are n children standing in a line. Each child is assigned a rating value given in the integer array ratings.\n",
    "\n",
    "You are giving candies to these children subjected to the following requirements:\n",
    "- Each child must have at least one candy.\n",
    "- Children with a higher rating get more candies than their neighbors.\n",
    "\n",
    "Return the minimum number of candies you need to have to distribute the candies to the children.\n",
    "\"\"\""
   ]
  },
  {
   "cell_type": "code",
   "execution_count": 1,
   "id": "c2c13501",
   "metadata": {},
   "outputs": [],
   "source": [
    "class Solution:\n",
    "    def candy(self, ratings) -> int:\n",
    "        n = len(ratings)\n",
    "        candies = [1] * n #lets give 1 candy to each child\n",
    "\n",
    "        #check from left to right\n",
    "        for i in range(1, n):\n",
    "            if ratings[i] > ratings[i - 1]:\n",
    "                candies[i] = candies[i - 1] +1\n",
    "\n",
    "        #check from right to left\n",
    "        for i in range(n -2, -1, -1):\n",
    "            if ratings[i] > ratings[i +1]:\n",
    "                candies[i] = max(candies[i], candies[i +1] +1)\n",
    "        \n",
    "        return sum(candies)"
   ]
  },
  {
   "cell_type": "markdown",
   "id": "749f9158",
   "metadata": {},
   "source": [
    "# Approach:\n",
    "## 1. Initialize all children with 1 candy (minimum required).\n",
    "## 2. Left to right pass: If ratings[i] > ratings[i-1], then candies[i] = candies[i-1] + 1.\n",
    "## 3. Right to left pass: If ratings[i] > ratings[i+1], then candies[i] = max(candies[i], candies[i+1] + 1).\n",
    "## 4. Sum up the candies and return."
   ]
  },
  {
   "cell_type": "code",
   "execution_count": null,
   "id": "57fc3956",
   "metadata": {},
   "outputs": [
    {
     "name": "stdout",
     "output_type": "stream",
     "text": [
      "5\n",
      "4\n",
      "11\n",
      "18\n"
     ]
    }
   ],
   "source": [
    "sol = Solution()\n",
    "print(sol.candy([1, 0, 2]))  # Expected: 5\n",
    "print(sol.candy([1, 2, 2]))  # Expected: 4\n",
    "print(sol.candy([1, 3, 4, 5, 2]))  # Expected: 11 (1 2 3 4 1)\n",
    "print(sol.candy([1, 6, 10, 8, 7, 3, 2]))  #18\n"
   ]
  },
  {
   "cell_type": "code",
   "execution_count": null,
   "id": "b3206fae",
   "metadata": {},
   "outputs": [],
   "source": []
  }
 ],
 "metadata": {
  "kernelspec": {
   "display_name": "Python 3",
   "language": "python",
   "name": "python3"
  },
  "language_info": {
   "codemirror_mode": {
    "name": "ipython",
    "version": 3
   },
   "file_extension": ".py",
   "mimetype": "text/x-python",
   "name": "python",
   "nbconvert_exporter": "python",
   "pygments_lexer": "ipython3",
   "version": "3.11.3"
  }
 },
 "nbformat": 4,
 "nbformat_minor": 5
}
