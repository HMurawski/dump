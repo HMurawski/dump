{
 "cells": [
  {
   "cell_type": "markdown",
   "id": "c1254547",
   "metadata": {},
   "source": [
    "You are given an integer array prices where prices[i] is the price of a given stock on the ith day.\n",
    "\n",
    "On each day, you may decide to buy and/or sell the stock. You can only hold at most one share of the stock at any time. However, you can buy it then immediately sell it on the same day.\n",
    "\n",
    "Find and return the maximum profit you can achieve.\n",
    "\n",
    " \n",
    "\n",
    "Example 1:\n",
    "\n",
    "Input: prices = [7,1,5,3,6,4]\n",
    "Output: 7\n",
    "Explanation: Buy on day 2 (price = 1) and sell on day 3 (price = 5), profit = 5-1 = 4.\n",
    "Then buy on day 4 (price = 3) and sell on day 5 (price = 6), profit = 6-3 = 3.\n",
    "Total profit is 4 + 3 = 7.\n",
    "Example 2:\n",
    "\n",
    "Input: prices = [1,2,3,4,5]\n",
    "Output: 4\n",
    "Explanation: Buy on day 1 (price = 1) and sell on day 5 (price = 5), profit = 5-1 = 4.\n",
    "Total profit is 4.\n",
    "Example 3:\n",
    "\n",
    "Input: prices = [7,6,4,3,1]\n",
    "Output: 0\n",
    "Explanation: There is no way to make a positive profit, so we never buy the stock to achieve the maximum profit of 0.\n",
    " \n",
    "\n",
    "Constraints:\n",
    "\n",
    "1 <= prices.length <= 3 * 104\n",
    "0 <= prices[i] <= 104"
   ]
  },
  {
   "cell_type": "markdown",
   "id": "331f51f2",
   "metadata": {},
   "source": [
    " Approach\n",
    "Since we are allowed to buy and sell as many times as we want (but only one share at a time), the optimal strategy is to sum every price increase between consecutive days.\n",
    "\n",
    "We don’t need to keep track of buy/sell points explicitly — we simply:\n",
    "\n",
    "Iterate through the list of prices\n",
    "\n",
    "If price[i] > price[i-1], we can treat it as a transaction: buy at i-1, sell at i\n",
    "\n",
    "Add the profit to the total\n",
    "\n",
    "✅ This greedy strategy ensures maximum profit."
   ]
  },
  {
   "cell_type": "code",
   "execution_count": null,
   "id": "5ca88561",
   "metadata": {},
   "outputs": [],
   "source": [
    "class Solution:\n",
    "    def maxProfit(self, prices: List[int]) -> int:\n",
    "        profit = 0\n",
    "        for i in range(1, len(prices)):\n",
    "            if prices[i] > prices[i - 1]:\n",
    "                profit += prices[i] - prices[i - 1]\n",
    "        return profit"
   ]
  },
  {
   "cell_type": "markdown",
   "id": "0c047e11",
   "metadata": {},
   "source": [
    "⏱️ Time and Space Complexity\n",
    "Time Complexity: O(n) – We iterate through the prices once.\n",
    "\n",
    "Space Complexity: O(1) – We only use a variable for tracking profit."
   ]
  },
  {
   "cell_type": "markdown",
   "id": "53a4feff",
   "metadata": {},
   "source": [
    "## Examples and case studies"
   ]
  },
  {
   "cell_type": "code",
   "execution_count": null,
   "id": "87510408",
   "metadata": {},
   "outputs": [
    {
     "name": "stdout",
     "output_type": "stream",
     "text": [
      "Index 0 (value 7) vs Index 1 (value 1)\n",
      "  --> value is smaller\n",
      "Index 0 (value 7) vs Index 2 (value 5)\n",
      "  --> value is smaller\n",
      "Index 0 (value 7) vs Index 3 (value 3)\n",
      "  --> value is smaller\n",
      "Index 0 (value 7) vs Index 4 (value 6)\n",
      "  --> value is smaller\n",
      "Index 0 (value 7) vs Index 5 (value 4)\n",
      "  --> value is smaller\n"
     ]
    }
   ],
   "source": [
    "# prices = [7, 1, 5, 3, 6, 4]\n",
    "\n",
    "# for i, p in enumerate(prices[1:], start=1):  # startujemy od drugiego elementu\n",
    "#     print(f\"Index 0 (value {prices[0]}) vs Index {i} (value {p})\")\n",
    "#     if p > prices[0]:\n",
    "#         print(\"  --> value is greater\")\n",
    "#     elif p < prices[0]:\n",
    "#         print(\"  --> value is smaller\")\n",
    "#     else:\n",
    "#         print(\"  --> value is equal\")\n"
   ]
  },
  {
   "cell_type": "code",
   "execution_count": null,
   "id": "b08c07c3",
   "metadata": {},
   "outputs": [
    {
     "name": "stdout",
     "output_type": "stream",
     "text": [
      "Difference between prices[1] = 1 and prices[0] = 7: -6\n",
      "Difference between prices[2] = 5 and prices[0] = 7: -2\n",
      "Difference between prices[3] = 3 and prices[0] = 7: -4\n",
      "Difference between prices[4] = 6 and prices[0] = 7: -1\n",
      "Difference between prices[5] = 4 and prices[0] = 7: -3\n"
     ]
    }
   ],
   "source": [
    "# for i, p in enumerate(prices[1:], start=1):\n",
    "#     diff = p - prices[0]\n",
    "#     print(f\"Difference between prices[{i}] = {p} and prices[0] = {prices[0]}: {diff}\")\n"
   ]
  },
  {
   "cell_type": "code",
   "execution_count": 22,
   "id": "ff136d82",
   "metadata": {},
   "outputs": [],
   "source": [
    "fruits = ['apple', 'banana', 'cherry', 'date']\n"
   ]
  },
  {
   "cell_type": "code",
   "execution_count": 27,
   "id": "c8b88203",
   "metadata": {},
   "outputs": [
    {
     "name": "stdout",
     "output_type": "stream",
     "text": [
      "4\n",
      "[0, 1, 2, 3]\n",
      "0, apple\n",
      "1, banana\n",
      "2, cherry\n",
      "3, date\n",
      "index: 0 -> apple\n",
      "index: 1 -> banana\n",
      "index: 2 -> cherry\n",
      "index: 3 -> date\n"
     ]
    }
   ],
   "source": [
    "#długosc \n",
    "print(len(fruits))\n",
    "\n",
    "print(list(range(len(fruits))))\n",
    "\n",
    "for index, value in enumerate(fruits):\n",
    "    print(f\"{index}, {value}\")\n",
    "    \n",
    "for i in range(len(fruits)):\n",
    "    print(f\"index: {i} -> {fruits[i]}\")"
   ]
  },
  {
   "cell_type": "code",
   "execution_count": 28,
   "id": "86fdfd87",
   "metadata": {},
   "outputs": [],
   "source": [
    "temps = [20, 22, 19, 23, 25, 24]\n"
   ]
  },
  {
   "cell_type": "code",
   "execution_count": 33,
   "id": "229b4517",
   "metadata": {},
   "outputs": [
    {
     "name": "stdout",
     "output_type": "stream",
     "text": [
      "Dzien 1: bylo - 20, teraz jest: 22 - wzrost\n",
      "Dzien 2: bylo - 22, teraz jest: 19 - zmalalo\n",
      "Dzien 3: bylo - 19, teraz jest: 23 - wzrost\n",
      "Dzien 4: bylo - 23, teraz jest: 25 - wzrost\n",
      "Dzien 5: bylo - 25, teraz jest: 24 - zmalalo\n"
     ]
    }
   ],
   "source": [
    "for t in range(1,len(temps)):\n",
    "    if temps[t-1] > temps[t]:\n",
    "        print(f\"Dzien {t}: bylo - {temps[t-1]}, teraz jest: {temps[t]} - zmalalo\")\n",
    "    else:\n",
    "        print(f\"Dzien {t}: bylo - {temps[t-1]}, teraz jest: {temps[t]} - wzrost\")"
   ]
  },
  {
   "cell_type": "code",
   "execution_count": 36,
   "id": "2f95da30",
   "metadata": {},
   "outputs": [
    {
     "name": "stdout",
     "output_type": "stream",
     "text": [
      "8\n"
     ]
    }
   ],
   "source": [
    "wzrost = 0\n",
    "\n",
    "for t in range(1, len(temps)):\n",
    "    if temps[t] > temps[t-1]:\n",
    "        wzrost += temps[t] - temps[t-1]\n",
    "print(wzrost)\n"
   ]
  },
  {
   "cell_type": "code",
   "execution_count": null,
   "id": "39b193af",
   "metadata": {},
   "outputs": [],
   "source": []
  }
 ],
 "metadata": {
  "kernelspec": {
   "display_name": "Python 3",
   "language": "python",
   "name": "python3"
  },
  "language_info": {
   "codemirror_mode": {
    "name": "ipython",
    "version": 3
   },
   "file_extension": ".py",
   "mimetype": "text/x-python",
   "name": "python",
   "nbconvert_exporter": "python",
   "pygments_lexer": "ipython3",
   "version": "3.11.3"
  }
 },
 "nbformat": 4,
 "nbformat_minor": 5
}
