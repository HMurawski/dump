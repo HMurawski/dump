{
 "cells": [
  {
   "cell_type": "markdown",
   "id": "98fb99e8",
   "metadata": {},
   "source": [
    "392. Is Subsequence"
   ]
  },
  {
   "cell_type": "markdown",
   "id": "9339d6e1",
   "metadata": {},
   "source": [
    "Given two strings s and t, return true if s is a subsequence of t, or false otherwise.\n",
    "\n",
    "A subsequence of a string is a new string that is formed from the original string by deleting some (can be none) of the characters without disturbing the relative positions of the remaining characters. (i.e., \"ace\" is a subsequence of \"abcde\" while \"aec\" is not).\n",
    "\n",
    " \n",
    "\n",
    "Example 1:\n",
    "\n",
    "Input: s = \"abc\", t = \"ahbgdc\"\n",
    "Output: true\n",
    "Example 2:\n",
    "\n",
    "Input: s = \"axc\", t = \"ahbgdc\"\n",
    "Output: false\n",
    " \n",
    "\n",
    "Constraints:\n",
    "\n",
    "0 <= s.length <= 100\n",
    "0 <= t.length <= 104\n",
    "s and t consist only of lowercase English letters.\n",
    " \n",
    "\n",
    "Follow up: Suppose there are lots of incoming s, say s1, s2, ..., sk where k >= 109, and you want to check one by one to see if t has its subsequence. In this scenario, how would you change your code?"
   ]
  },
  {
   "cell_type": "code",
   "execution_count": 2,
   "id": "b2bf1659",
   "metadata": {},
   "outputs": [],
   "source": [
    "class Solution(object):\n",
    "    def isSubsequence(self, s, t):\n",
    "        \"\"\"\n",
    "        :type s: str\n",
    "        :type t: str\n",
    "        :rtype: bool\n",
    "        \"\"\"\n",
    "        i, j = 0, 0\n",
    "        while i < len(s) and j < len(t):\n",
    "        \n",
    "            if s[i] == t[j]:\n",
    "                i += 1\n",
    "       \n",
    "            j += 1\n",
    "\n",
    "        return i == len(s)"
   ]
  },
  {
   "cell_type": "markdown",
   "id": "4a7cb09c",
   "metadata": {},
   "source": [
    "💡 Time and Space Complexity\n",
    "Time complexity: O(n), where n = len(t)\n",
    "\n",
    "Space complexity: O(1)"
   ]
  },
  {
   "cell_type": "markdown",
   "id": "f3d6a9ba",
   "metadata": {},
   "source": []
  }
 ],
 "metadata": {
  "kernelspec": {
   "display_name": "Python 3",
   "language": "python",
   "name": "python3"
  },
  "language_info": {
   "codemirror_mode": {
    "name": "ipython",
    "version": 3
   },
   "file_extension": ".py",
   "mimetype": "text/x-python",
   "name": "python",
   "nbconvert_exporter": "python",
   "pygments_lexer": "ipython3",
   "version": "3.11.3"
  }
 },
 "nbformat": 4,
 "nbformat_minor": 5
}
