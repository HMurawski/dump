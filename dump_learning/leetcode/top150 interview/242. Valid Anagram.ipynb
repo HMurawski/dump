{
 "cells": [
  {
   "cell_type": "markdown",
   "id": "54bde66e",
   "metadata": {},
   "source": [
    "## 📘 Leetcode 242. Valid Anagram\n",
    "##🔗 https://leetcode.com/problems/valid-anagram/"
   ]
  },
  {
   "cell_type": "markdown",
   "id": "d8a2fab4",
   "metadata": {},
   "source": [
    "Given two strings s and t, return true if t is an anagram of s, and false otherwise.\n",
    "\n",
    " \n",
    "\n",
    "Example 1:\n",
    "\n",
    "Input: s = \"anagram\", t = \"nagaram\"\n",
    "\n",
    "Output: true\n",
    "\n",
    "Example 2:\n",
    "\n",
    "Input: s = \"rat\", t = \"car\"\n",
    "\n",
    "Output: false\n",
    "\n",
    " \n",
    "\n",
    "Constraints:\n",
    "\n",
    "1 <= s.length, t.length <= 5 * 104\n",
    "s and t consist of lowercase English letters.\n",
    " \n",
    "\n",
    "Follow up: What if the inputs contain Unicode characters? How would you adapt your solution to such a case?"
   ]
  },
  {
   "cell_type": "markdown",
   "id": "60ff1e59",
   "metadata": {},
   "source": [
    "### ✅ Approach 1: Simple and clear (using sorted)\n",
    "### Time: O(n log n), Space: O(n)\n"
   ]
  },
  {
   "cell_type": "code",
   "execution_count": 1,
   "id": "6463ea8f",
   "metadata": {},
   "outputs": [],
   "source": [
    "class Solution:\n",
    "    def isAnagram(self, s: str, t: str) -> bool:\n",
    "        if sorted(s) == sorted(t):\n",
    "            return True\n",
    "        else:\n",
    "            return False"
   ]
  },
  {
   "cell_type": "code",
   "execution_count": 3,
   "id": "b410a119",
   "metadata": {},
   "outputs": [
    {
     "name": "stdout",
     "output_type": "stream",
     "text": [
      "False\n",
      "True\n"
     ]
    }
   ],
   "source": [
    "sol = Solution()\n",
    "print(sol.isAnagram(\"ala\", \"kota\")) #false\n",
    "print(sol.isAnagram(\"anagram\", \"nagaram\")) #true"
   ]
  },
  {
   "cell_type": "markdown",
   "id": "a3aa6a0a",
   "metadata": {},
   "source": [
    "### ✅ Approach 3: Most efficient using array of size 26\n",
    "### Time: O(n), Space: O(1)\n",
    "### Only works for lowercase English letters (a-z)"
   ]
  },
  {
   "cell_type": "code",
   "execution_count": 4,
   "id": "6660be24",
   "metadata": {},
   "outputs": [],
   "source": [
    "#take 2\n",
    "\n",
    "class Solution:\n",
    "    def isAnagram(self, s: str, t: str) -> bool:\n",
    "        if len(s) != len(t):\n",
    "           return False\n",
    "       \n",
    "        count = [0] * 26\n",
    "        \n",
    "        for i in range(len(s)):\n",
    "            count[ord(s[i]) - ord(\"a\")] += 1\n",
    "            count[ord(t[i]) - ord(\"a\")] -= 1\n",
    "        return all(c==0 for c in count)"
   ]
  },
  {
   "cell_type": "code",
   "execution_count": 5,
   "id": "d2da3ec9",
   "metadata": {},
   "outputs": [
    {
     "name": "stdout",
     "output_type": "stream",
     "text": [
      "False\n",
      "True\n"
     ]
    }
   ],
   "source": [
    "sol = Solution()\n",
    "print(sol.isAnagram(\"ala\", \"kota\")) #false\n",
    "print(sol.isAnagram(\"anagram\", \"nagaram\")) #true"
   ]
  },
  {
   "cell_type": "markdown",
   "id": "b6862038",
   "metadata": {},
   "source": [
    "\n",
    "📝 Notes:\n",
    "- ord('a') = 97, ord('b') = 98, so ord(char) - ord('a') maps 'a'-'z' to 0-25.\n",
    "- The last approach is fastest and uses constant space for counting letters.\n",
    "- If inputs contain Unicode characters, use Counter-based solution instead of fixed-size array.\n"
   ]
  }
 ],
 "metadata": {
  "kernelspec": {
   "display_name": "Python 3",
   "language": "python",
   "name": "python3"
  },
  "language_info": {
   "codemirror_mode": {
    "name": "ipython",
    "version": 3
   },
   "file_extension": ".py",
   "mimetype": "text/x-python",
   "name": "python",
   "nbconvert_exporter": "python",
   "pygments_lexer": "ipython3",
   "version": "3.11.3"
  }
 },
 "nbformat": 4,
 "nbformat_minor": 5
}
