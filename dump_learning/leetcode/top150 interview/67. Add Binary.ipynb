{
 "cells": [
  {
   "cell_type": "markdown",
   "id": "371ff212",
   "metadata": {},
   "source": [
    "67. Add Binary"
   ]
  },
  {
   "cell_type": "markdown",
   "id": "0927c463",
   "metadata": {},
   "source": [
    "Given two binary strings a and b, return their sum as a binary string.\n",
    "\n",
    " \n",
    "\n",
    "Example 1:\n",
    "\n",
    "Input: a = \"11\", b = \"1\"\n",
    "Output: \"100\"\n",
    "Example 2:\n",
    "\n",
    "Input: a = \"1010\", b = \"1011\"\n",
    "Output: \"10101\"\n",
    " \n",
    "\n",
    "Constraints:\n",
    "\n",
    "1 <= a.length, b.length <= 104\n",
    "a and b consist only of '0' or '1' characters.\n",
    "Each string does not contain leading zeros except for the zero itself."
   ]
  },
  {
   "cell_type": "code",
   "execution_count": 1,
   "id": "be8c22d6",
   "metadata": {},
   "outputs": [],
   "source": [
    "class Solution:\n",
    "    def addBinary(self, a: str, b: str) -> str:\n",
    "        # List to store the result\n",
    "        result = []\n",
    "        carry = 0\n",
    "        i, j = len(a)-1, len(b)-1\n",
    "        \n",
    "        while i >= 0 or j >= 0 or carry:\n",
    "            total = carry\n",
    "            \n",
    "            if i >= 0:\n",
    "                total += int(a[i])\n",
    "                i -= 1\n",
    "            \n",
    "            if j >= 0:\n",
    "                total += int(b[j])\n",
    "                j -= 1\n",
    "            \n",
    "            result.append(str(total % 2))\n",
    "            \n",
    "            carry = total // 2\n",
    "            \n",
    "        return ''.join(reversed(result))"
   ]
  },
  {
   "cell_type": "markdown",
   "id": "6168dd48",
   "metadata": {},
   "source": [
    "Complexity\n",
    "Time complexity: O(max(n, m))\n",
    "Space complexity: O(max(n, m))"
   ]
  },
  {
   "cell_type": "markdown",
   "id": "bcb68db5",
   "metadata": {},
   "source": []
  }
 ],
 "metadata": {
  "kernelspec": {
   "display_name": "Python 3",
   "language": "python",
   "name": "python3"
  },
  "language_info": {
   "codemirror_mode": {
    "name": "ipython",
    "version": 3
   },
   "file_extension": ".py",
   "mimetype": "text/x-python",
   "name": "python",
   "nbconvert_exporter": "python",
   "pygments_lexer": "ipython3",
   "version": "3.11.3"
  }
 },
 "nbformat": 4,
 "nbformat_minor": 5
}
