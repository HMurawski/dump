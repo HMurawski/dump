{
 "cells": [
  {
   "cell_type": "code",
   "execution_count": 2,
   "metadata": {},
   "outputs": [
    {
     "data": {
      "text/html": [
       "<div>\n",
       "<style scoped>\n",
       "    .dataframe tbody tr th:only-of-type {\n",
       "        vertical-align: middle;\n",
       "    }\n",
       "\n",
       "    .dataframe tbody tr th {\n",
       "        vertical-align: top;\n",
       "    }\n",
       "\n",
       "    .dataframe thead th {\n",
       "        text-align: right;\n",
       "    }\n",
       "</style>\n",
       "<table border=\"1\" class=\"dataframe\">\n",
       "  <thead>\n",
       "    <tr style=\"text-align: right;\">\n",
       "      <th></th>\n",
       "      <th>Unnamed: 0</th>\n",
       "      <th>World Port Index Number</th>\n",
       "      <th>Region Name</th>\n",
       "      <th>Main Port Name</th>\n",
       "      <th>Country Code</th>\n",
       "      <th>World Water Body</th>\n",
       "      <th>Sailing Direction or Publication</th>\n",
       "      <th>Tidal Range (m)</th>\n",
       "      <th>Channel Depth (m)</th>\n",
       "      <th>Anchorage Depth (m)</th>\n",
       "      <th>...</th>\n",
       "      <th>Cranes - Mobile</th>\n",
       "      <th>Lifts - 0-24 Tons</th>\n",
       "      <th>Services - Longshoremen</th>\n",
       "      <th>Supplies - Provisions</th>\n",
       "      <th>Supplies - Potable Water</th>\n",
       "      <th>Supplies - Fuel Oil</th>\n",
       "      <th>Supplies - Diesel Oil</th>\n",
       "      <th>Repairs</th>\n",
       "      <th>Latitude</th>\n",
       "      <th>Longitude</th>\n",
       "    </tr>\n",
       "  </thead>\n",
       "  <tbody>\n",
       "    <tr>\n",
       "      <th>0</th>\n",
       "      <td>0</td>\n",
       "      <td>7950.0</td>\n",
       "      <td>United States E Coast -- 6585</td>\n",
       "      <td>Maurer</td>\n",
       "      <td>United States</td>\n",
       "      <td>North Atlantic Ocean</td>\n",
       "      <td>U.S. Coast Pilot 2 - Atlantic Coast: Cape Cod ...</td>\n",
       "      <td>1.5</td>\n",
       "      <td>11.0</td>\n",
       "      <td>11.0</td>\n",
       "      <td>...</td>\n",
       "      <td>Unknown</td>\n",
       "      <td>Unknown</td>\n",
       "      <td>Unknown</td>\n",
       "      <td>Yes</td>\n",
       "      <td>Yes</td>\n",
       "      <td>Yes</td>\n",
       "      <td>Yes</td>\n",
       "      <td>Moderate</td>\n",
       "      <td>40.533333</td>\n",
       "      <td>-74.25</td>\n",
       "    </tr>\n",
       "  </tbody>\n",
       "</table>\n",
       "<p>1 rows × 42 columns</p>\n",
       "</div>"
      ],
      "text/plain": [
       "   Unnamed: 0  World Port Index Number                    Region Name  \\\n",
       "0           0                   7950.0  United States E Coast -- 6585   \n",
       "\n",
       "  Main Port Name   Country Code      World Water Body  \\\n",
       "0         Maurer  United States  North Atlantic Ocean   \n",
       "\n",
       "                    Sailing Direction or Publication  Tidal Range (m)  \\\n",
       "0  U.S. Coast Pilot 2 - Atlantic Coast: Cape Cod ...              1.5   \n",
       "\n",
       "   Channel Depth (m)  Anchorage Depth (m)  ...  Cranes - Mobile  \\\n",
       "0               11.0                 11.0  ...          Unknown   \n",
       "\n",
       "   Lifts - 0-24 Tons Services - Longshoremen Supplies - Provisions  \\\n",
       "0            Unknown                 Unknown                   Yes   \n",
       "\n",
       "  Supplies - Potable Water Supplies - Fuel Oil Supplies - Diesel Oil  \\\n",
       "0                      Yes                 Yes                   Yes   \n",
       "\n",
       "    Repairs   Latitude Longitude  \n",
       "0  Moderate  40.533333    -74.25  \n",
       "\n",
       "[1 rows x 42 columns]"
      ]
     },
     "execution_count": 2,
     "metadata": {},
     "output_type": "execute_result"
    }
   ],
   "source": [
    "import pandas as pd\n",
    "f = \"Dataset_WorldPortIndex.csv\"\n",
    "df= pd.read_csv(f)\n",
    "df.head(1)"
   ]
  },
  {
   "cell_type": "code",
   "execution_count": 11,
   "metadata": {},
   "outputs": [
    {
     "data": {
      "text/plain": [
       "0                              Maurer\n",
       "1               Mangkasa oil terminal\n",
       "2                             Iharana\n",
       "3                             Andoany\n",
       "4                         Chake chake\n",
       "                    ...              \n",
       "3819                          Kuching\n",
       "3820                            Lumut\n",
       "3821           Bandar-e pars terminal\n",
       "3822                        Mina saqr\n",
       "3823    Jazireh-ye lavan oil terminal\n",
       "Name: Main Port Name, Length: 3824, dtype: object"
      ]
     },
     "execution_count": 11,
     "metadata": {},
     "output_type": "execute_result"
    }
   ],
   "source": [
    "#Usuń wszystkie spacje przed i po nazwie.\n",
    "df[\"Main Port Name\"].str.strip()\n",
    "#Zamień nazwy portów pisane wielkimi literami na zapis, gdzie tylko pierwsza litera jest wielka (np. \"LONDON\" → \"London\").\n",
    "df[\"Main Port Name\"].str.capitalize()"
   ]
  },
  {
   "cell_type": "code",
   "execution_count": 41,
   "metadata": {},
   "outputs": [
    {
     "data": {
      "text/plain": [
       "0                              Maurer\n",
       "1               Mangkasa Oil Terminal\n",
       "2                             Iharana\n",
       "3                             Andoany\n",
       "4                         Chake Chake\n",
       "                    ...              \n",
       "3819                          Kuching\n",
       "3820                            Lumut\n",
       "3821           Bandar-E Pars Terminal\n",
       "3822                        Mina Saqr\n",
       "3823    Jazireh-Ye Lavan Oil Terminal\n",
       "Name: Main Port Name, Length: 3824, dtype: object"
      ]
     },
     "execution_count": 41,
     "metadata": {},
     "output_type": "execute_result"
    }
   ],
   "source": [
    "\n",
    "#Usuń cyfry, jeśli występują w nazwie portu.\n",
    "#\" \".join([i for i in df[\"Main Port Name\"] if not i.isdigit()])\n",
    "df[\"Main Port Name\"].str.replace(r'\\d+', '', regex=True)\n"
   ]
  },
  {
   "cell_type": "code",
   "execution_count": 18,
   "metadata": {},
   "outputs": [
    {
     "data": {
      "text/plain": [
       "0       False\n",
       "1       False\n",
       "2       False\n",
       "3       False\n",
       "4       False\n",
       "        ...  \n",
       "3819    False\n",
       "3820    False\n",
       "3821    False\n",
       "3822    False\n",
       "3823    False\n",
       "Name: Main Port Name, Length: 3824, dtype: bool"
      ]
     },
     "execution_count": 18,
     "metadata": {},
     "output_type": "execute_result"
    }
   ],
   "source": [
    "# Znajdź wszystkie nazwy portów, które:\n",
    "# Zawierają literę \"A\".\n",
    "# Kończą się literą \"n\".\n",
    "df[\"Main Port Name\"].str.contains(\"A\")\n",
    "df['Main Port Name'].str.endswith(\"n\")"
   ]
  },
  {
   "cell_type": "code",
   "execution_count": null,
   "metadata": {},
   "outputs": [],
   "source": [
    "# Stwórz nową kolumnę Port Prefix, która:\n",
    "# Zawiera pierwsze trzy litery każdej nazwy portu (jeśli nazwa jest krótsza niż 3 litery, zostaw pełną nazwę).\n",
    "def get_prefix(port_name):\n",
    "    if len(port_name) <= 3:\n",
    "        return port_name\n",
    "    else:\n",
    "        return port_name[:3]\n",
    "\n",
    "df[\"Port Prefix\"] = df[\"Main Port Name\"].apply(get_prefix)\n",
    "\n",
    "\n",
    "#Could also use lambda function:\n",
    "#df[\"Main Port Name\"].apply(lambda x: x if len(x)<=3 else x[:3])"
   ]
  },
  {
   "cell_type": "code",
   "execution_count": 32,
   "metadata": {},
   "outputs": [
    {
     "data": {
      "text/plain": [
       "228"
      ]
     },
     "execution_count": 32,
     "metadata": {},
     "output_type": "execute_result"
    }
   ],
   "source": [
    "#Policz liczbę portów, których nazwa zawiera słowo \"Port\"\n",
    "a = df[df[\"Main Port Name\"].str.contains(\"Port\")]\n",
    "len(a) #228"
   ]
  },
  {
   "cell_type": "code",
   "execution_count": 37,
   "metadata": {},
   "outputs": [
    {
     "data": {
      "text/html": [
       "<div>\n",
       "<style scoped>\n",
       "    .dataframe tbody tr th:only-of-type {\n",
       "        vertical-align: middle;\n",
       "    }\n",
       "\n",
       "    .dataframe tbody tr th {\n",
       "        vertical-align: top;\n",
       "    }\n",
       "\n",
       "    .dataframe thead th {\n",
       "        text-align: right;\n",
       "    }\n",
       "</style>\n",
       "<table border=\"1\" class=\"dataframe\">\n",
       "  <thead>\n",
       "    <tr style=\"text-align: right;\">\n",
       "      <th></th>\n",
       "      <th>Unnamed: 0</th>\n",
       "      <th>World Port Index Number</th>\n",
       "      <th>Region Name</th>\n",
       "      <th>Main Port Name</th>\n",
       "      <th>Country Code</th>\n",
       "      <th>World Water Body</th>\n",
       "      <th>Sailing Direction or Publication</th>\n",
       "      <th>Tidal Range (m)</th>\n",
       "      <th>Channel Depth (m)</th>\n",
       "      <th>Anchorage Depth (m)</th>\n",
       "      <th>...</th>\n",
       "      <th>Services - Longshoremen</th>\n",
       "      <th>Supplies - Provisions</th>\n",
       "      <th>Supplies - Potable Water</th>\n",
       "      <th>Supplies - Fuel Oil</th>\n",
       "      <th>Supplies - Diesel Oil</th>\n",
       "      <th>Repairs</th>\n",
       "      <th>Latitude</th>\n",
       "      <th>Longitude</th>\n",
       "      <th>Port Prefix</th>\n",
       "      <th>Name Length</th>\n",
       "    </tr>\n",
       "  </thead>\n",
       "  <tbody>\n",
       "    <tr>\n",
       "      <th>0</th>\n",
       "      <td>0</td>\n",
       "      <td>7950.0</td>\n",
       "      <td>United States E Coast -- 6585</td>\n",
       "      <td>Maurer</td>\n",
       "      <td>United States</td>\n",
       "      <td>North Atlantic Ocean</td>\n",
       "      <td>U.S. Coast Pilot 2 - Atlantic Coast: Cape Cod ...</td>\n",
       "      <td>1.5</td>\n",
       "      <td>11.0</td>\n",
       "      <td>11.0</td>\n",
       "      <td>...</td>\n",
       "      <td>Unknown</td>\n",
       "      <td>Yes</td>\n",
       "      <td>Yes</td>\n",
       "      <td>Yes</td>\n",
       "      <td>Yes</td>\n",
       "      <td>Moderate</td>\n",
       "      <td>40.533333</td>\n",
       "      <td>-74.25</td>\n",
       "      <td>Mau</td>\n",
       "      <td>6</td>\n",
       "    </tr>\n",
       "  </tbody>\n",
       "</table>\n",
       "<p>1 rows × 44 columns</p>\n",
       "</div>"
      ],
      "text/plain": [
       "   Unnamed: 0  World Port Index Number                    Region Name  \\\n",
       "0           0                   7950.0  United States E Coast -- 6585   \n",
       "\n",
       "  Main Port Name   Country Code      World Water Body  \\\n",
       "0         Maurer  United States  North Atlantic Ocean   \n",
       "\n",
       "                    Sailing Direction or Publication  Tidal Range (m)  \\\n",
       "0  U.S. Coast Pilot 2 - Atlantic Coast: Cape Cod ...              1.5   \n",
       "\n",
       "   Channel Depth (m)  Anchorage Depth (m)  ...  Services - Longshoremen  \\\n",
       "0               11.0                 11.0  ...                  Unknown   \n",
       "\n",
       "   Supplies - Provisions Supplies - Potable Water Supplies - Fuel Oil  \\\n",
       "0                    Yes                      Yes                 Yes   \n",
       "\n",
       "  Supplies - Diesel Oil   Repairs   Latitude Longitude Port Prefix Name Length  \n",
       "0                   Yes  Moderate  40.533333    -74.25         Mau           6  \n",
       "\n",
       "[1 rows x 44 columns]"
      ]
     },
     "execution_count": 37,
     "metadata": {},
     "output_type": "execute_result"
    }
   ],
   "source": [
    "#Dodaj nową kolumnę Name Length, która zawiera długość każdej nazwy portu.\n",
    "def get_length(port_name):\n",
    "    return len(port_name)\n",
    "\n",
    "df[\"Name Length\"] = df[\"Main Port Name\"].apply(get_length)\n",
    "df.head(1)\n",
    "\n",
    "#by using lambda\n",
    "#df[\"Main Port Name\"].apply(lambda x: len(x))"
   ]
  },
  {
   "cell_type": "code",
   "execution_count": 39,
   "metadata": {},
   "outputs": [
    {
     "data": {
      "text/plain": [
       "0              United States\n",
       "1                  Indonesia\n",
       "2                 Madagascar\n",
       "3                 Madagascar\n",
       "4                   Tanzania\n",
       "                ...         \n",
       "3819                Malaysia\n",
       "3820                  Brunei\n",
       "3821                    Iran\n",
       "3822    United Arab Emirates\n",
       "3823                    Iran\n",
       "Name: Country Code, Length: 3824, dtype: object"
      ]
     },
     "execution_count": 39,
     "metadata": {},
     "output_type": "execute_result"
    }
   ],
   "source": [
    "# W kolumnie Country Code, zamień wszystkie wystąpienia:\n",
    "# \"United States\" → \"USA\".\n",
    "# \"United Kingdom\" → \"UK\".\n",
    "df[\"Country Code\"].str.replace(\"United States\", \"USA\")\n",
    "df[\"Country Code\"].str.replace(\"United Kingdom\", \"UK\")"
   ]
  },
  {
   "cell_type": "code",
   "execution_count": 42,
   "metadata": {},
   "outputs": [],
   "source": [
    "replacements = {\"United States\": \"USA\", \"United Kingdom\": \"UK\"}\n",
    "df[\"Country Code\"] = df[\"Country Code\"].replace(replacements)\n"
   ]
  },
  {
   "cell_type": "code",
   "execution_count": null,
   "metadata": {},
   "outputs": [],
   "source": []
  }
 ],
 "metadata": {
  "kernelspec": {
   "display_name": "Python 3",
   "language": "python",
   "name": "python3"
  },
  "language_info": {
   "codemirror_mode": {
    "name": "ipython",
    "version": 3
   },
   "file_extension": ".py",
   "mimetype": "text/x-python",
   "name": "python",
   "nbconvert_exporter": "python",
   "pygments_lexer": "ipython3",
   "version": "3.11.3"
  }
 },
 "nbformat": 4,
 "nbformat_minor": 2
}
