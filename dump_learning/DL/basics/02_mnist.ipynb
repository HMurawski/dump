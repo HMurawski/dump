{
 "cells": [
  {
   "cell_type": "code",
   "execution_count": 1,
   "id": "53210c48",
   "metadata": {},
   "outputs": [],
   "source": [
    "import torch\n",
    "import torch.nn as nn\n",
    "import torch.nn.functional as F\n",
    "import torch.optim as optim\n",
    "from torchvision import datasets, transforms\n",
    "from torch.utils.data import DataLoader\n",
    "import matplotlib.pyplot as plt\n"
   ]
  },
  {
   "cell_type": "code",
   "execution_count": 2,
   "id": "7de77843",
   "metadata": {},
   "outputs": [],
   "source": [
    "transform = transforms.Compose([\n",
    "    transforms.ToTensor(),\n",
    "    transforms.Normalize((0.1307,), (0.3081))\n",
    "])"
   ]
  },
  {
   "cell_type": "code",
   "execution_count": 3,
   "id": "846b5b55",
   "metadata": {},
   "outputs": [
    {
     "name": "stdout",
     "output_type": "stream",
     "text": [
      "Downloading http://yann.lecun.com/exdb/mnist/train-images-idx3-ubyte.gz\n",
      "Failed to download (trying next):\n",
      "HTTP Error 404: Not Found\n",
      "\n",
      "Downloading https://ossci-datasets.s3.amazonaws.com/mnist/train-images-idx3-ubyte.gz\n",
      "Downloading https://ossci-datasets.s3.amazonaws.com/mnist/train-images-idx3-ubyte.gz to data\\MNIST\\raw\\train-images-idx3-ubyte.gz\n"
     ]
    },
    {
     "name": "stderr",
     "output_type": "stream",
     "text": [
      "100%|██████████| 9.91M/9.91M [00:01<00:00, 9.45MB/s]\n"
     ]
    },
    {
     "name": "stdout",
     "output_type": "stream",
     "text": [
      "Extracting data\\MNIST\\raw\\train-images-idx3-ubyte.gz to data\\MNIST\\raw\n",
      "\n",
      "Downloading http://yann.lecun.com/exdb/mnist/train-labels-idx1-ubyte.gz\n",
      "Failed to download (trying next):\n",
      "HTTP Error 404: Not Found\n",
      "\n",
      "Downloading https://ossci-datasets.s3.amazonaws.com/mnist/train-labels-idx1-ubyte.gz\n",
      "Downloading https://ossci-datasets.s3.amazonaws.com/mnist/train-labels-idx1-ubyte.gz to data\\MNIST\\raw\\train-labels-idx1-ubyte.gz\n"
     ]
    },
    {
     "name": "stderr",
     "output_type": "stream",
     "text": [
      "100%|██████████| 28.9k/28.9k [00:00<00:00, 265kB/s]\n"
     ]
    },
    {
     "name": "stdout",
     "output_type": "stream",
     "text": [
      "Extracting data\\MNIST\\raw\\train-labels-idx1-ubyte.gz to data\\MNIST\\raw\n",
      "\n",
      "Downloading http://yann.lecun.com/exdb/mnist/t10k-images-idx3-ubyte.gz\n",
      "Failed to download (trying next):\n",
      "HTTP Error 404: Not Found\n",
      "\n",
      "Downloading https://ossci-datasets.s3.amazonaws.com/mnist/t10k-images-idx3-ubyte.gz\n",
      "Downloading https://ossci-datasets.s3.amazonaws.com/mnist/t10k-images-idx3-ubyte.gz to data\\MNIST\\raw\\t10k-images-idx3-ubyte.gz\n"
     ]
    },
    {
     "name": "stderr",
     "output_type": "stream",
     "text": [
      "100%|██████████| 1.65M/1.65M [00:00<00:00, 2.48MB/s]\n"
     ]
    },
    {
     "name": "stdout",
     "output_type": "stream",
     "text": [
      "Extracting data\\MNIST\\raw\\t10k-images-idx3-ubyte.gz to data\\MNIST\\raw\n",
      "\n",
      "Downloading http://yann.lecun.com/exdb/mnist/t10k-labels-idx1-ubyte.gz\n",
      "Failed to download (trying next):\n",
      "HTTP Error 404: Not Found\n",
      "\n",
      "Downloading https://ossci-datasets.s3.amazonaws.com/mnist/t10k-labels-idx1-ubyte.gz\n",
      "Downloading https://ossci-datasets.s3.amazonaws.com/mnist/t10k-labels-idx1-ubyte.gz to data\\MNIST\\raw\\t10k-labels-idx1-ubyte.gz\n"
     ]
    },
    {
     "name": "stderr",
     "output_type": "stream",
     "text": [
      "100%|██████████| 4.54k/4.54k [00:00<00:00, 4.54MB/s]"
     ]
    },
    {
     "name": "stdout",
     "output_type": "stream",
     "text": [
      "Extracting data\\MNIST\\raw\\t10k-labels-idx1-ubyte.gz to data\\MNIST\\raw\n",
      "\n"
     ]
    },
    {
     "name": "stderr",
     "output_type": "stream",
     "text": [
      "\n"
     ]
    }
   ],
   "source": [
    "train_dataset = datasets.MNIST(\n",
    "    root='data', train=True, download=True, transform=transform)\n",
    "test_dataset = datasets.MNIST(\n",
    "    root='data', train=False, download=True, transform=transform)\n",
    "\n",
    "train_loader = DataLoader(train_dataset, batch_size=64, shuffle=True)\n",
    "test_loader = DataLoader(test_dataset, batch_size=1000)\n"
   ]
  },
  {
   "cell_type": "code",
   "execution_count": 5,
   "id": "19086513",
   "metadata": {},
   "outputs": [
    {
     "data": {
      "text/plain": [
       "Dataset MNIST\n",
       "    Number of datapoints: 60000\n",
       "    Root location: data\n",
       "    Split: Train\n",
       "    StandardTransform\n",
       "Transform: Compose(\n",
       "               ToTensor()\n",
       "               Normalize(mean=(0.1307,), std=0.3081)\n",
       "           )"
      ]
     },
     "execution_count": 5,
     "metadata": {},
     "output_type": "execute_result"
    }
   ],
   "source": [
    "train_dataset"
   ]
  },
  {
   "cell_type": "code",
   "execution_count": 6,
   "id": "aeb4aa71",
   "metadata": {},
   "outputs": [],
   "source": [
    "model = nn.Sequential(\n",
    "    nn.Flatten(),             # 28x28 → 784\n",
    "    nn.Linear(784, 128),      # warstwa ukryta\n",
    "    nn.ReLU(),                # funkcja aktywacji\n",
    "    nn.Linear(128, 10)        # warstwa wyjściowa – 10 klas\n",
    ")\n"
   ]
  },
  {
   "cell_type": "code",
   "execution_count": 7,
   "id": "d5516505",
   "metadata": {},
   "outputs": [],
   "source": [
    "loss_fn = nn.CrossEntropyLoss()\n"
   ]
  },
  {
   "cell_type": "code",
   "execution_count": 8,
   "id": "629fbaf5",
   "metadata": {},
   "outputs": [],
   "source": [
    "optimizer = optim.SGD(model.parameters(), lr=0.01, momentum=0.9)\n"
   ]
  },
  {
   "cell_type": "code",
   "execution_count": 9,
   "id": "0ccd6385",
   "metadata": {},
   "outputs": [],
   "source": [
    "def train(model, loader, loss_fn, optimizer, epoch):\n",
    "    model.train()  #tryb treningu\n",
    "    total_loss = 0\n",
    "\n",
    "    for batch_idx, (data, target) in enumerate(loader):\n",
    "        optimizer.zero_grad()             # zerujemy gradienty\n",
    "        output = model(data)              # forward pass\n",
    "        loss = loss_fn(output, target)    # obliczamy stratę\n",
    "        loss.backward()                   # backpropagation\n",
    "        optimizer.step()                  # aktualizacja wag\n",
    "\n",
    "        total_loss += loss.item()\n",
    "        if batch_idx % 100 == 0:\n",
    "            print(f\"Epoch {epoch} | Batch {batch_idx} | Loss: {loss.item():.4f}\")\n",
    "\n",
    "    avg_loss = total_loss / len(loader)\n",
    "    print(f\">>> Epoch {epoch} | Avg Loss: {avg_loss:.4f}\")\n"
   ]
  },
  {
   "cell_type": "code",
   "execution_count": 10,
   "id": "d5fe54d3",
   "metadata": {},
   "outputs": [],
   "source": [
    "def test(model, loader, loss_fn):\n",
    "    model.eval()\n",
    "    test_loss = 0\n",
    "    correct = 0\n",
    "\n",
    "    with torch.no_grad():  # wyłączamy gradienty – oszczędność zasobów\n",
    "        for data, target in loader:\n",
    "            output = model(data)\n",
    "            test_loss += loss_fn(output, target).item()\n",
    "            pred = output.argmax(dim=1)  # indeks największej wartości\n",
    "            correct += (pred == target).sum().item()\n",
    "\n",
    "    test_loss /= len(loader)\n",
    "    accuracy = correct / len(loader.dataset)\n",
    "    print(f\"Test Loss: {test_loss:.4f}, Accuracy: {accuracy:.4f}\")\n"
   ]
  },
  {
   "cell_type": "code",
   "execution_count": 11,
   "id": "94f6d454",
   "metadata": {},
   "outputs": [
    {
     "name": "stdout",
     "output_type": "stream",
     "text": [
      "Epoch 1 | Batch 0 | Loss: 2.3008\n",
      "Epoch 1 | Batch 100 | Loss: 0.4626\n",
      "Epoch 1 | Batch 200 | Loss: 0.3536\n",
      "Epoch 1 | Batch 300 | Loss: 0.1661\n",
      "Epoch 1 | Batch 400 | Loss: 0.2145\n",
      "Epoch 1 | Batch 500 | Loss: 0.0872\n",
      "Epoch 1 | Batch 600 | Loss: 0.1453\n",
      "Epoch 1 | Batch 700 | Loss: 0.2373\n",
      "Epoch 1 | Batch 800 | Loss: 0.0446\n",
      "Epoch 1 | Batch 900 | Loss: 0.1248\n",
      ">>> Epoch 1 | Avg Loss: 0.2774\n",
      "Test Loss: 0.1491, Accuracy: 0.9550\n",
      "Epoch 2 | Batch 0 | Loss: 0.0657\n",
      "Epoch 2 | Batch 100 | Loss: 0.1306\n",
      "Epoch 2 | Batch 200 | Loss: 0.1597\n",
      "Epoch 2 | Batch 300 | Loss: 0.0542\n",
      "Epoch 2 | Batch 400 | Loss: 0.1842\n",
      "Epoch 2 | Batch 500 | Loss: 0.0743\n",
      "Epoch 2 | Batch 600 | Loss: 0.0517\n",
      "Epoch 2 | Batch 700 | Loss: 0.1143\n",
      "Epoch 2 | Batch 800 | Loss: 0.1606\n",
      "Epoch 2 | Batch 900 | Loss: 0.1508\n",
      ">>> Epoch 2 | Avg Loss: 0.1162\n",
      "Test Loss: 0.0991, Accuracy: 0.9704\n",
      "Epoch 3 | Batch 0 | Loss: 0.0549\n",
      "Epoch 3 | Batch 100 | Loss: 0.0660\n",
      "Epoch 3 | Batch 200 | Loss: 0.0367\n",
      "Epoch 3 | Batch 300 | Loss: 0.2653\n",
      "Epoch 3 | Batch 400 | Loss: 0.0825\n",
      "Epoch 3 | Batch 500 | Loss: 0.0737\n",
      "Epoch 3 | Batch 600 | Loss: 0.0158\n",
      "Epoch 3 | Batch 700 | Loss: 0.0615\n",
      "Epoch 3 | Batch 800 | Loss: 0.1009\n",
      "Epoch 3 | Batch 900 | Loss: 0.0998\n",
      ">>> Epoch 3 | Avg Loss: 0.0810\n",
      "Test Loss: 0.0851, Accuracy: 0.9751\n",
      "Epoch 4 | Batch 0 | Loss: 0.0343\n",
      "Epoch 4 | Batch 100 | Loss: 0.1273\n",
      "Epoch 4 | Batch 200 | Loss: 0.0441\n",
      "Epoch 4 | Batch 300 | Loss: 0.0164\n",
      "Epoch 4 | Batch 400 | Loss: 0.0611\n",
      "Epoch 4 | Batch 500 | Loss: 0.0291\n",
      "Epoch 4 | Batch 600 | Loss: 0.0557\n",
      "Epoch 4 | Batch 700 | Loss: 0.1993\n",
      "Epoch 4 | Batch 800 | Loss: 0.0216\n",
      "Epoch 4 | Batch 900 | Loss: 0.1615\n",
      ">>> Epoch 4 | Avg Loss: 0.0615\n",
      "Test Loss: 0.0757, Accuracy: 0.9780\n",
      "Epoch 5 | Batch 0 | Loss: 0.0569\n",
      "Epoch 5 | Batch 100 | Loss: 0.0587\n",
      "Epoch 5 | Batch 200 | Loss: 0.0900\n",
      "Epoch 5 | Batch 300 | Loss: 0.0462\n",
      "Epoch 5 | Batch 400 | Loss: 0.1056\n",
      "Epoch 5 | Batch 500 | Loss: 0.0749\n",
      "Epoch 5 | Batch 600 | Loss: 0.0217\n",
      "Epoch 5 | Batch 700 | Loss: 0.0754\n",
      "Epoch 5 | Batch 800 | Loss: 0.1263\n",
      "Epoch 5 | Batch 900 | Loss: 0.0141\n",
      ">>> Epoch 5 | Avg Loss: 0.0485\n",
      "Test Loss: 0.0759, Accuracy: 0.9776\n"
     ]
    }
   ],
   "source": [
    "epochs = 5\n",
    "for epoch in range(1, epochs + 1):\n",
    "    train(model, train_loader, loss_fn, optimizer, epoch)\n",
    "    test(model, test_loader, loss_fn)\n"
   ]
  },
  {
   "cell_type": "code",
   "execution_count": null,
   "id": "1c075237",
   "metadata": {},
   "outputs": [],
   "source": []
  }
 ],
 "metadata": {
  "kernelspec": {
   "display_name": "Python 3",
   "language": "python",
   "name": "python3"
  },
  "language_info": {
   "codemirror_mode": {
    "name": "ipython",
    "version": 3
   },
   "file_extension": ".py",
   "mimetype": "text/x-python",
   "name": "python",
   "nbconvert_exporter": "python",
   "pygments_lexer": "ipython3",
   "version": "3.11.3"
  }
 },
 "nbformat": 4,
 "nbformat_minor": 5
}
