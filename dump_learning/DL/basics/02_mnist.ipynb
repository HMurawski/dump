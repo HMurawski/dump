{
 "cells": [
  {
   "cell_type": "code",
   "execution_count": 12,
   "id": "53210c48",
   "metadata": {},
   "outputs": [],
   "source": [
    "import torch\n",
    "import torch.nn as nn\n",
    "import torch.nn.functional as F\n",
    "import torch.optim as optim\n",
    "from torchvision import datasets, transforms\n",
    "from torch.utils.data import DataLoader\n",
    "import matplotlib.pyplot as plt\n"
   ]
  },
  {
   "cell_type": "code",
   "execution_count": 13,
   "id": "7de77843",
   "metadata": {},
   "outputs": [],
   "source": [
    "transform = transforms.Compose([\n",
    "    transforms.ToTensor(),\n",
    "    transforms.Normalize((0.1307,), (0.3081))\n",
    "])"
   ]
  },
  {
   "cell_type": "code",
   "execution_count": 14,
   "id": "846b5b55",
   "metadata": {},
   "outputs": [],
   "source": [
    "train_dataset = datasets.MNIST(\n",
    "    root='data', train=True, download=True, transform=transform)\n",
    "test_dataset = datasets.MNIST(\n",
    "    root='data', train=False, download=True, transform=transform)\n",
    "\n",
    "train_loader = DataLoader(train_dataset, batch_size=64, shuffle=True)\n",
    "test_loader = DataLoader(test_dataset, batch_size=1000)\n"
   ]
  },
  {
   "cell_type": "code",
   "execution_count": 15,
   "id": "19086513",
   "metadata": {},
   "outputs": [
    {
     "data": {
      "text/plain": [
       "Dataset MNIST\n",
       "    Number of datapoints: 60000\n",
       "    Root location: data\n",
       "    Split: Train\n",
       "    StandardTransform\n",
       "Transform: Compose(\n",
       "               ToTensor()\n",
       "               Normalize(mean=(0.1307,), std=0.3081)\n",
       "           )"
      ]
     },
     "execution_count": 15,
     "metadata": {},
     "output_type": "execute_result"
    }
   ],
   "source": [
    "train_dataset"
   ]
  },
  {
   "cell_type": "code",
   "execution_count": 16,
   "id": "aeb4aa71",
   "metadata": {},
   "outputs": [],
   "source": [
    "model = nn.Sequential(\n",
    "    nn.Flatten(),             # 28x28 → 784\n",
    "    nn.Linear(784, 128),      # warstwa ukryta\n",
    "    nn.ReLU(),                # funkcja aktywacji\n",
    "    nn.Linear(128, 10)        # warstwa wyjściowa – 10 klas\n",
    ")\n"
   ]
  },
  {
   "cell_type": "code",
   "execution_count": 17,
   "id": "d5516505",
   "metadata": {},
   "outputs": [],
   "source": [
    "loss_fn = nn.CrossEntropyLoss()\n"
   ]
  },
  {
   "cell_type": "code",
   "execution_count": 18,
   "id": "629fbaf5",
   "metadata": {},
   "outputs": [],
   "source": [
    "optimizer = optim.SGD(model.parameters(), lr=0.01, momentum=0.9)\n"
   ]
  },
  {
   "cell_type": "code",
   "execution_count": 19,
   "id": "0ccd6385",
   "metadata": {},
   "outputs": [],
   "source": [
    "def train(model, loader, loss_fn, optimizer, epoch):\n",
    "    model.train()  #tryb treningu\n",
    "    total_loss = 0\n",
    "\n",
    "    for batch_idx, (data, target) in enumerate(loader):\n",
    "        optimizer.zero_grad()             # zerujemy gradienty\n",
    "        output = model(data)              # forward pass\n",
    "        loss = loss_fn(output, target)    # obliczamy stratę\n",
    "        loss.backward()                   # backpropagation\n",
    "        optimizer.step()                  # aktualizacja wag\n",
    "\n",
    "        total_loss += loss.item()\n",
    "        if batch_idx % 100 == 0:\n",
    "            print(f\"Epoch {epoch} | Batch {batch_idx} | Loss: {loss.item():.4f}\")\n",
    "\n",
    "    avg_loss = total_loss / len(loader)\n",
    "    print(f\">>> Epoch {epoch} | Avg Loss: {avg_loss:.4f}\")\n"
   ]
  },
  {
   "cell_type": "code",
   "execution_count": 20,
   "id": "d5fe54d3",
   "metadata": {},
   "outputs": [],
   "source": [
    "def test(model, loader, loss_fn):\n",
    "    model.eval()\n",
    "    test_loss = 0\n",
    "    correct = 0\n",
    "\n",
    "    with torch.no_grad():  # wyłączamy gradienty – oszczędność zasobów\n",
    "        for data, target in loader:\n",
    "            output = model(data)\n",
    "            test_loss += loss_fn(output, target).item()\n",
    "            pred = output.argmax(dim=1)  # indeks największej wartości\n",
    "            correct += (pred == target).sum().item()\n",
    "\n",
    "    test_loss /= len(loader)\n",
    "    accuracy = correct / len(loader.dataset)\n",
    "    print(f\"Test Loss: {test_loss:.4f}, Accuracy: {accuracy:.4f}\")\n"
   ]
  },
  {
   "cell_type": "code",
   "execution_count": 21,
   "id": "94f6d454",
   "metadata": {},
   "outputs": [
    {
     "name": "stdout",
     "output_type": "stream",
     "text": [
      "Epoch 1 | Batch 0 | Loss: 2.3361\n",
      "Epoch 1 | Batch 100 | Loss: 0.2931\n",
      "Epoch 1 | Batch 200 | Loss: 0.2821\n",
      "Epoch 1 | Batch 300 | Loss: 0.1966\n",
      "Epoch 1 | Batch 400 | Loss: 0.1681\n",
      "Epoch 1 | Batch 500 | Loss: 0.1596\n",
      "Epoch 1 | Batch 600 | Loss: 0.2558\n",
      "Epoch 1 | Batch 700 | Loss: 0.1712\n",
      "Epoch 1 | Batch 800 | Loss: 0.1784\n",
      "Epoch 1 | Batch 900 | Loss: 0.1632\n",
      ">>> Epoch 1 | Avg Loss: 0.2747\n",
      "Test Loss: 0.1446, Accuracy: 0.9556\n",
      "Epoch 2 | Batch 0 | Loss: 0.1090\n",
      "Epoch 2 | Batch 100 | Loss: 0.1516\n",
      "Epoch 2 | Batch 200 | Loss: 0.1404\n",
      "Epoch 2 | Batch 300 | Loss: 0.0551\n",
      "Epoch 2 | Batch 400 | Loss: 0.0303\n",
      "Epoch 2 | Batch 500 | Loss: 0.0679\n",
      "Epoch 2 | Batch 600 | Loss: 0.0631\n",
      "Epoch 2 | Batch 700 | Loss: 0.0681\n",
      "Epoch 2 | Batch 800 | Loss: 0.0793\n",
      "Epoch 2 | Batch 900 | Loss: 0.0279\n",
      ">>> Epoch 2 | Avg Loss: 0.1128\n",
      "Test Loss: 0.1063, Accuracy: 0.9678\n",
      "Epoch 3 | Batch 0 | Loss: 0.1419\n",
      "Epoch 3 | Batch 100 | Loss: 0.0699\n",
      "Epoch 3 | Batch 200 | Loss: 0.0483\n",
      "Epoch 3 | Batch 300 | Loss: 0.0774\n",
      "Epoch 3 | Batch 400 | Loss: 0.1468\n",
      "Epoch 3 | Batch 500 | Loss: 0.0234\n",
      "Epoch 3 | Batch 600 | Loss: 0.0295\n",
      "Epoch 3 | Batch 700 | Loss: 0.0307\n",
      "Epoch 3 | Batch 800 | Loss: 0.0880\n",
      "Epoch 3 | Batch 900 | Loss: 0.0391\n",
      ">>> Epoch 3 | Avg Loss: 0.0792\n",
      "Test Loss: 0.0814, Accuracy: 0.9758\n",
      "Epoch 4 | Batch 0 | Loss: 0.0681\n",
      "Epoch 4 | Batch 100 | Loss: 0.0885\n",
      "Epoch 4 | Batch 200 | Loss: 0.1179\n",
      "Epoch 4 | Batch 300 | Loss: 0.0618\n",
      "Epoch 4 | Batch 400 | Loss: 0.0445\n",
      "Epoch 4 | Batch 500 | Loss: 0.0172\n",
      "Epoch 4 | Batch 600 | Loss: 0.0463\n",
      "Epoch 4 | Batch 700 | Loss: 0.0367\n",
      "Epoch 4 | Batch 800 | Loss: 0.0096\n",
      "Epoch 4 | Batch 900 | Loss: 0.1697\n",
      ">>> Epoch 4 | Avg Loss: 0.0607\n",
      "Test Loss: 0.0778, Accuracy: 0.9755\n",
      "Epoch 5 | Batch 0 | Loss: 0.0177\n",
      "Epoch 5 | Batch 100 | Loss: 0.0311\n",
      "Epoch 5 | Batch 200 | Loss: 0.0861\n",
      "Epoch 5 | Batch 300 | Loss: 0.0277\n",
      "Epoch 5 | Batch 400 | Loss: 0.0177\n",
      "Epoch 5 | Batch 500 | Loss: 0.0487\n",
      "Epoch 5 | Batch 600 | Loss: 0.0598\n",
      "Epoch 5 | Batch 700 | Loss: 0.0138\n",
      "Epoch 5 | Batch 800 | Loss: 0.0117\n",
      "Epoch 5 | Batch 900 | Loss: 0.0398\n",
      ">>> Epoch 5 | Avg Loss: 0.0479\n",
      "Test Loss: 0.0735, Accuracy: 0.9766\n"
     ]
    }
   ],
   "source": [
    "epochs = 5\n",
    "for epoch in range(1, epochs + 1):\n",
    "    train(model, train_loader, loss_fn, optimizer, epoch)\n",
    "    test(model, test_loader, loss_fn)\n"
   ]
  },
  {
   "cell_type": "markdown",
   "id": "022f404a",
   "metadata": {},
   "source": [
    "### 'handmade' gradient"
   ]
  },
  {
   "cell_type": "code",
   "execution_count": 25,
   "id": "1c075237",
   "metadata": {},
   "outputs": [
    {
     "name": "stdout",
     "output_type": "stream",
     "text": [
      "Gradient w: -12.0\n",
      "Gradient b: -6.0\n",
      "Gradient x: -18.0\n"
     ]
    }
   ],
   "source": [
    "x = torch.tensor(2.0, requires_grad=True)\n",
    "w = torch.tensor(3.0, requires_grad=True)\n",
    "b = torch.tensor(1.0, requires_grad=True)\n",
    "\n",
    "# prosta funkcja: y = w * x + b\n",
    "y = w * x + b\n",
    "\n",
    "# loss: np. różnica względem celu y_true = 10\n",
    "loss = (y - 10)**2\n",
    "\n",
    "# oblicz gradient\n",
    "loss.backward()\n",
    "\n",
    "# pokaż gradienty\n",
    "print(f\"Gradient w: {w.grad}\")  # ∂loss/∂w\n",
    "print(f\"Gradient b: {b.grad}\")  # ∂loss/∂b\n",
    "print(f\"Gradient x: {x.grad}\")  # ∂loss/∂x"
   ]
  },
  {
   "cell_type": "markdown",
   "id": "1a2eb899",
   "metadata": {},
   "source": [
    "### gradient descent viz"
   ]
  },
  {
   "cell_type": "code",
   "execution_count": 32,
   "id": "95bc08ea",
   "metadata": {},
   "outputs": [
    {
     "name": "stdout",
     "output_type": "stream",
     "text": [
      "Step 01 | w = 0.9000 | Loss = 9.0000\n",
      "Step 02 | w = 1.5300 | Loss = 4.4100\n",
      "Step 03 | w = 1.9710 | Loss = 2.1609\n",
      "Step 04 | w = 2.2797 | Loss = 1.0588\n",
      "Step 05 | w = 2.4958 | Loss = 0.5188\n",
      "Step 06 | w = 2.6471 | Loss = 0.2542\n",
      "Step 07 | w = 2.7529 | Loss = 0.1246\n",
      "Step 08 | w = 2.8271 | Loss = 0.0610\n",
      "Step 09 | w = 2.8789 | Loss = 0.0299\n",
      "Step 10 | w = 2.9153 | Loss = 0.0147\n",
      "Step 11 | w = 2.9407 | Loss = 0.0072\n",
      "Step 12 | w = 2.9585 | Loss = 0.0035\n",
      "Step 13 | w = 2.9709 | Loss = 0.0017\n",
      "Step 14 | w = 2.9797 | Loss = 0.0008\n",
      "Step 15 | w = 2.9858 | Loss = 0.0004\n",
      "Step 16 | w = 2.9900 | Loss = 0.0002\n",
      "Step 17 | w = 2.9930 | Loss = 0.0001\n",
      "Step 18 | w = 2.9951 | Loss = 0.0000\n",
      "Step 19 | w = 2.9966 | Loss = 0.0000\n",
      "Step 20 | w = 2.9976 | Loss = 0.0000\n",
      "Step 21 | w = 2.9983 | Loss = 0.0000\n",
      "Step 22 | w = 2.9988 | Loss = 0.0000\n",
      "Step 23 | w = 2.9992 | Loss = 0.0000\n",
      "Step 24 | w = 2.9994 | Loss = 0.0000\n",
      "Step 25 | w = 2.9996 | Loss = 0.0000\n",
      "Step 26 | w = 2.9997 | Loss = 0.0000\n",
      "Step 27 | w = 2.9998 | Loss = 0.0000\n",
      "Step 28 | w = 2.9999 | Loss = 0.0000\n",
      "Step 29 | w = 2.9999 | Loss = 0.0000\n",
      "Step 30 | w = 2.9999 | Loss = 0.0000\n"
     ]
    }
   ],
   "source": [
    "# Ustawienie początkowej wartości parametru\n",
    "w = torch.tensor(0.0, requires_grad=True)  # start z punktu 0\n",
    "\n",
    "# Lista do śledzenia postępów\n",
    "w_history = []\n",
    "loss_history = []\n",
    "\n",
    "# Optymalizator\n",
    "optimizer = torch.optim.SGD([w], lr=0.15)\n",
    "\n",
    "# Funkcja kosztu: (w - 3)^2\n",
    "def loss_fn(w):\n",
    "    return (w - 3) ** 2\n",
    "\n",
    "# Trening – gradient descent\n",
    "for step in range(30):\n",
    "    loss = loss_fn(w)\n",
    "    loss.backward()\n",
    "\n",
    "    optimizer.step()\n",
    "    optimizer.zero_grad()\n",
    "\n",
    "    w_history.append(w.item())\n",
    "    loss_history.append(loss.item())\n",
    "\n",
    "    print(f\"Step {step+1:02d} | w = {w.item():.4f} | Loss = {loss.item():.4f}\")"
   ]
  },
  {
   "cell_type": "code",
   "execution_count": 33,
   "id": "dbb239ec",
   "metadata": {},
   "outputs": [
    {
     "data": {
      "image/png": "[encoded data removed]",
      "text/plain": [
       "<Figure size 1000x400 with 2 Axes>"
      ]
     },
     "metadata": {},
     "output_type": "display_data"
    }
   ],
   "source": [
    "plt.figure(figsize=(10, 4))\n",
    "\n",
    "plt.subplot(1, 2, 1)\n",
    "plt.plot(w_history, label=\"w\")\n",
    "plt.axhline(3, color='gray', linestyle='--', label=\"target w=3\")\n",
    "plt.title(\"Ewolucja parametru w\")\n",
    "plt.xlabel(\"Krok\")\n",
    "plt.ylabel(\"Wartość w\")\n",
    "plt.legend()\n",
    "\n",
    "plt.subplot(1, 2, 2)\n",
    "plt.plot(loss_history, label=\"loss\", color=\"orange\")\n",
    "plt.title(\"Wartość funkcji kosztu\")\n",
    "plt.xlabel(\"Krok\")\n",
    "plt.ylabel(\"Loss\")\n",
    "plt.legend()\n",
    "\n",
    "plt.tight_layout()\n",
    "plt.show()\n"
   ]
  },
  {
   "cell_type": "code",
   "execution_count": null,
   "id": "b765327d",
   "metadata": {},
   "outputs": [],
   "source": []
  }
 ],
 "metadata": {
  "kernelspec": {
   "display_name": "Python 3",
   "language": "python",
   "name": "python3"
  },
  "language_info": {
   "codemirror_mode": {
    "name": "ipython",
    "version": 3
   },
   "file_extension": ".py",
   "mimetype": "text/x-python",
   "name": "python",
   "nbconvert_exporter": "python",
   "pygments_lexer": "ipython3",
   "version": "3.11.3"
  }
 },
 "nbformat": 4,
 "nbformat_minor": 5
}
