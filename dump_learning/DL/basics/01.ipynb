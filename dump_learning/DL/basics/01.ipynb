{
 "cells": [
  {
   "cell_type": "code",
   "execution_count": 7,
   "id": "480b3105",
   "metadata": {},
   "outputs": [],
   "source": [
    "import torch\n",
    "import torch.nn.functional as F"
   ]
  },
  {
   "cell_type": "code",
   "execution_count": 2,
   "id": "8cc6d6a5",
   "metadata": {},
   "outputs": [
    {
     "name": "stdout",
     "output_type": "stream",
     "text": [
      "tensor([1., 2., 3.])\n"
     ]
    }
   ],
   "source": [
    "x = torch.tensor([1.0,2.0,3.0])\n",
    "print(x)"
   ]
  },
  {
   "cell_type": "code",
   "execution_count": 5,
   "id": "d1ed3b16",
   "metadata": {},
   "outputs": [],
   "source": [
    "x = torch.tensor([0.5, -0.2])\n",
    "w = torch.tensor([0.4, 0.1], requires_grad=True)\n",
    "b = torch.tensor(0.2, requires_grad=True)"
   ]
  },
  {
   "cell_type": "code",
   "execution_count": null,
   "id": "66330d8a",
   "metadata": {},
   "outputs": [],
   "source": [
    "#forward pass:\n",
    "\n",
    "z = torch.dot(w,x) +b\n",
    "y = F.relu(z)\n",
    "j = F.sigmoid(z)"
   ]
  },
  {
   "cell_type": "code",
   "execution_count": 11,
   "id": "fdceeed5",
   "metadata": {},
   "outputs": [
    {
     "name": "stdout",
     "output_type": "stream",
     "text": [
      "Output: 0.3799999952316284\n",
      "Output: 0.5938730835914612\n"
     ]
    }
   ],
   "source": [
    "\n",
    "print(\"Output:\", y.item())\n",
    "\n",
    "print(\"Output:\", j.item())"
   ]
  },
  {
   "cell_type": "code",
   "execution_count": null,
   "id": "a2213e27",
   "metadata": {},
   "outputs": [],
   "source": []
  }
 ],
 "metadata": {
  "kernelspec": {
   "display_name": "Python 3",
   "language": "python",
   "name": "python3"
  },
  "language_info": {
   "codemirror_mode": {
    "name": "ipython",
    "version": 3
   },
   "file_extension": ".py",
   "mimetype": "text/x-python",
   "name": "python",
   "nbconvert_exporter": "python",
   "pygments_lexer": "ipython3",
   "version": "3.11.3"
  }
 },
 "nbformat": 4,
 "nbformat_minor": 5
}
