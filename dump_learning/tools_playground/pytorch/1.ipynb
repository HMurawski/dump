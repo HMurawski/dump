{
 "cells": [
  {
   "cell_type": "code",
   "execution_count": 1,
   "id": "c0bd493d",
   "metadata": {},
   "outputs": [],
   "source": [
    "import torch"
   ]
  },
  {
   "cell_type": "code",
   "execution_count": 2,
   "id": "9c9d4e0a",
   "metadata": {},
   "outputs": [
    {
     "data": {
      "text/plain": [
       "tensor(9)"
      ]
     },
     "execution_count": 2,
     "metadata": {},
     "output_type": "execute_result"
    }
   ],
   "source": [
    "torch.tensor(9)"
   ]
  },
  {
   "cell_type": "code",
   "execution_count": 3,
   "id": "8ee42dbc",
   "metadata": {},
   "outputs": [
    {
     "data": {
      "text/plain": [
       "tensor([100, 120,  90,  75])"
      ]
     },
     "execution_count": 3,
     "metadata": {},
     "output_type": "execute_result"
    }
   ],
   "source": [
    "revenue = torch.tensor([100,120,90,75])\n",
    "revenue"
   ]
  },
  {
   "cell_type": "code",
   "execution_count": 4,
   "id": "615593db",
   "metadata": {},
   "outputs": [
    {
     "data": {
      "text/plain": [
       "tensor([120,  90,  75])"
      ]
     },
     "execution_count": 4,
     "metadata": {},
     "output_type": "execute_result"
    }
   ],
   "source": [
    "revenue[1:4]"
   ]
  },
  {
   "cell_type": "code",
   "execution_count": 5,
   "id": "2bfeea7e",
   "metadata": {},
   "outputs": [],
   "source": [
    "q1 = torch.tensor([\n",
    "    [200,220,250],\n",
    "    [150,180,210],\n",
    "    [300,330,360]\n",
    "])\n",
    "\n",
    "q2 = torch.tensor([\n",
    "    [209,231,259],\n",
    "    [155,192,222],\n",
    "    [310,340,375]\n",
    "])"
   ]
  },
  {
   "cell_type": "code",
   "execution_count": 6,
   "id": "533e1b5f",
   "metadata": {},
   "outputs": [
    {
     "data": {
      "text/plain": [
       "tensor([[409, 451, 509],\n",
       "        [305, 372, 432],\n",
       "        [610, 670, 735]])"
      ]
     },
     "execution_count": 6,
     "metadata": {},
     "output_type": "execute_result"
    }
   ],
   "source": [
    "q1 + q2"
   ]
  },
  {
   "cell_type": "code",
   "execution_count": 7,
   "id": "8affe8b6",
   "metadata": {},
   "outputs": [
    {
     "data": {
      "text/plain": [
       "tensor([[ 9, 11,  9],\n",
       "        [ 5, 12, 12],\n",
       "        [10, 10, 15]])"
      ]
     },
     "execution_count": 7,
     "metadata": {},
     "output_type": "execute_result"
    }
   ],
   "source": [
    "q2 - q1"
   ]
  },
  {
   "cell_type": "code",
   "execution_count": 8,
   "id": "b9f317ec",
   "metadata": {},
   "outputs": [
    {
     "data": {
      "text/plain": [
       "tensor([[153400, 173440, 194390],\n",
       "        [124350, 140610, 157560],\n",
       "        [225450, 255060, 285960]])"
      ]
     },
     "execution_count": 8,
     "metadata": {},
     "output_type": "execute_result"
    }
   ],
   "source": [
    "q1 @ q2"
   ]
  },
  {
   "cell_type": "code",
   "execution_count": 9,
   "id": "ed9eb2c7",
   "metadata": {},
   "outputs": [
    {
     "data": {
      "text/plain": [
       "tensor([[ 41800,  50820,  64750],\n",
       "        [ 23250,  34560,  46620],\n",
       "        [ 93000, 112200, 135000]])"
      ]
     },
     "execution_count": 9,
     "metadata": {},
     "output_type": "execute_result"
    }
   ],
   "source": [
    "q1 * q2"
   ]
  },
  {
   "cell_type": "code",
   "execution_count": 10,
   "id": "41980e8d",
   "metadata": {},
   "outputs": [
    {
     "data": {
      "text/plain": [
       "tensor([[4.5000, 5.0000, 3.6000],\n",
       "        [3.3333, 6.6667, 5.7143],\n",
       "        [3.3333, 3.0303, 4.1667]])"
      ]
     },
     "execution_count": 10,
     "metadata": {},
     "output_type": "execute_result"
    }
   ],
   "source": [
    "(q2-q1) * 100 / q1"
   ]
  },
  {
   "cell_type": "code",
   "execution_count": 11,
   "id": "7f218fba",
   "metadata": {},
   "outputs": [
    {
     "data": {
      "text/plain": [
       "(tensor([[20., 22., 25.],\n",
       "         [15., 18., 21.],\n",
       "         [30., 33., 36.]]),\n",
       " tensor([[20.9000, 23.1000, 25.9000],\n",
       "         [15.5000, 19.2000, 22.2000],\n",
       "         [31.0000, 34.0000, 37.5000]]))"
      ]
     },
     "execution_count": 11,
     "metadata": {},
     "output_type": "execute_result"
    }
   ],
   "source": [
    "return_rate = 0.1\n",
    "q1 * return_rate , q2 * return_rate"
   ]
  },
  {
   "cell_type": "code",
   "execution_count": 12,
   "id": "1d4c96b9",
   "metadata": {},
   "outputs": [],
   "source": [
    "profit_per_unit = torch.tensor([\n",
    "    [30,27,25],\n",
    "    [20,18,17],\n",
    "    [45,38,39]\n",
    "])"
   ]
  },
  {
   "cell_type": "code",
   "execution_count": 13,
   "id": "41353629",
   "metadata": {},
   "outputs": [
    {
     "data": {
      "text/plain": [
       "tensor([[ 6000,  5940,  6250],\n",
       "        [ 3000,  3240,  3570],\n",
       "        [13500, 12540, 14040]])"
      ]
     },
     "execution_count": 13,
     "metadata": {},
     "output_type": "execute_result"
    }
   ],
   "source": [
    "q1 * profit_per_unit"
   ]
  },
  {
   "cell_type": "code",
   "execution_count": 14,
   "id": "29450ec4",
   "metadata": {},
   "outputs": [
    {
     "data": {
      "text/plain": [
       "tensor([[1100,  450, 1500]])"
      ]
     },
     "execution_count": 14,
     "metadata": {},
     "output_type": "execute_result"
    }
   ],
   "source": [
    "product_prices = torch.tensor([[1100,450,1500]])\n",
    "product_prices"
   ]
  },
  {
   "cell_type": "code",
   "execution_count": 15,
   "id": "e1225d50",
   "metadata": {},
   "outputs": [
    {
     "data": {
      "text/plain": [
       "tensor([[737500, 818000, 909500]])"
      ]
     },
     "execution_count": 15,
     "metadata": {},
     "output_type": "execute_result"
    }
   ],
   "source": [
    "product_prices @ q1"
   ]
  },
  {
   "cell_type": "code",
   "execution_count": 16,
   "id": "0f5c5bd6",
   "metadata": {},
   "outputs": [
    {
     "data": {
      "text/plain": [
       "tensor([[737500, 818000, 909500]])"
      ]
     },
     "execution_count": 16,
     "metadata": {},
     "output_type": "execute_result"
    }
   ],
   "source": [
    "torch.matmul(product_prices,q1)"
   ]
  },
  {
   "cell_type": "code",
   "execution_count": 17,
   "id": "b73e944b",
   "metadata": {},
   "outputs": [
    {
     "data": {
      "text/plain": [
       "tensor([[1100],\n",
       "        [ 450],\n",
       "        [1500]])"
      ]
     },
     "execution_count": 17,
     "metadata": {},
     "output_type": "execute_result"
    }
   ],
   "source": [
    "product_prices.t()"
   ]
  },
  {
   "cell_type": "code",
   "execution_count": 18,
   "id": "9322ec91",
   "metadata": {},
   "outputs": [
    {
     "data": {
      "text/plain": [
       "tensor([[200, 220, 250],\n",
       "        [150, 180, 210],\n",
       "        [300, 330, 360]])"
      ]
     },
     "execution_count": 18,
     "metadata": {},
     "output_type": "execute_result"
    }
   ],
   "source": [
    "q1"
   ]
  },
  {
   "cell_type": "code",
   "execution_count": 19,
   "id": "3c07dc61",
   "metadata": {},
   "outputs": [
    {
     "data": {
      "text/plain": [
       "tensor([[220000, 242000, 275000],\n",
       "        [ 67500,  81000,  94500],\n",
       "        [450000, 495000, 540000]])"
      ]
     },
     "execution_count": 19,
     "metadata": {},
     "output_type": "execute_result"
    }
   ],
   "source": [
    "prices_by_region = q1 * product_prices.t()\n",
    "prices_by_region"
   ]
  },
  {
   "cell_type": "code",
   "execution_count": 20,
   "id": "5b889982",
   "metadata": {},
   "outputs": [
    {
     "data": {
      "text/plain": [
       "tensor(2465000)"
      ]
     },
     "execution_count": 20,
     "metadata": {},
     "output_type": "execute_result"
    }
   ],
   "source": [
    "prices_by_region.sum()"
   ]
  },
  {
   "cell_type": "code",
   "execution_count": 21,
   "id": "5bd0932b",
   "metadata": {},
   "outputs": [
    {
     "data": {
      "text/plain": [
       "tensor([737500, 818000, 909500])"
      ]
     },
     "execution_count": 21,
     "metadata": {},
     "output_type": "execute_result"
    }
   ],
   "source": [
    "prices_by_region.sum(dim=0)"
   ]
  },
  {
   "cell_type": "code",
   "execution_count": 22,
   "id": "bb6eedd7",
   "metadata": {},
   "outputs": [
    {
     "data": {
      "text/plain": [
       "tensor([[18260000, 20086000, 22825000],\n",
       "        [ 5602500,  6723000,  7843500],\n",
       "        [37350000, 41085000, 44820000]])"
      ]
     },
     "execution_count": 22,
     "metadata": {},
     "output_type": "execute_result"
    }
   ],
   "source": [
    "usd_to_r = 83\n",
    "prices_by_region * usd_to_r"
   ]
  },
  {
   "cell_type": "code",
   "execution_count": 23,
   "id": "c14ad8b5",
   "metadata": {},
   "outputs": [
    {
     "data": {
      "text/plain": [
       "tensor([61212500, 67894000, 75488500])"
      ]
     },
     "execution_count": 23,
     "metadata": {},
     "output_type": "execute_result"
    }
   ],
   "source": [
    "p_inr = (prices_by_region * usd_to_r).sum(dim=0)\n",
    "p_inr"
   ]
  },
  {
   "cell_type": "code",
   "execution_count": 24,
   "id": "2dcf8415",
   "metadata": {},
   "outputs": [
    {
     "data": {
      "text/plain": [
       "True"
      ]
     },
     "execution_count": 24,
     "metadata": {},
     "output_type": "execute_result"
    }
   ],
   "source": [
    "torch.cuda.is_available()"
   ]
  },
  {
   "cell_type": "code",
   "execution_count": 25,
   "id": "2bb747cd",
   "metadata": {},
   "outputs": [],
   "source": [
    "if torch.cuda.is_available():\n",
    "    device = torch.device(\"cuda\")\n",
    "else:\n",
    "    device = torch.device(\"cpu\")"
   ]
  },
  {
   "cell_type": "code",
   "execution_count": 26,
   "id": "5cedb0ad",
   "metadata": {},
   "outputs": [
    {
     "name": "stdout",
     "output_type": "stream",
     "text": [
      "Python: c:\\Users\\USER\\AppData\\Local\\Programs\\Python\\Python311\\python.exe\n",
      "Torch: 2.5.1+cu121\n",
      "Torch CUDA build: 12.1\n",
      "CUDA available: True\n",
      "Devices: 1\n"
     ]
    }
   ],
   "source": [
    "import sys, torch, platform, os\n",
    "print(\"Python:\", sys.executable)\n",
    "print(\"Torch:\", torch.__version__)\n",
    "print(\"Torch CUDA build:\", torch.version.cuda)     # None => CPU-only wheel\n",
    "print(\"CUDA available:\", torch.cuda.is_available())\n",
    "print(\"Devices:\", torch.cuda.device_count())\n"
   ]
  },
  {
   "cell_type": "code",
   "execution_count": 27,
   "id": "d2e5b3a3",
   "metadata": {},
   "outputs": [
    {
     "name": "stdout",
     "output_type": "stream",
     "text": [
      "12.1\n",
      "True\n",
      "NVIDIA GeForce GTX 1660 SUPER\n"
     ]
    }
   ],
   "source": [
    "import torch\n",
    "print(torch.version.cuda)          \n",
    "print(torch.cuda.is_available())   \n",
    "print(torch.cuda.get_device_name(0))\n"
   ]
  },
  {
   "cell_type": "markdown",
   "id": "314b8a3f",
   "metadata": {},
   "source": [
    "### Simulating customer data"
   ]
  },
  {
   "cell_type": "code",
   "execution_count": 28,
   "id": "3eb1d41e",
   "metadata": {},
   "outputs": [
    {
     "data": {
      "text/plain": [
       "torch.Size([1000000, 3])"
      ]
     },
     "execution_count": 28,
     "metadata": {},
     "output_type": "execute_result"
    }
   ],
   "source": [
    "customer_data = torch.rand(1000000,3,device=device)\n",
    "customer_data.shape"
   ]
  },
  {
   "cell_type": "code",
   "execution_count": 29,
   "id": "47e053bf",
   "metadata": {},
   "outputs": [
    {
     "data": {
      "text/plain": [
       "tensor([[0.7365, 0.2522, 0.2269],\n",
       "        [0.5085, 0.1206, 0.7774],\n",
       "        [0.1780, 0.2730, 0.2588],\n",
       "        [0.3782, 0.3896, 0.1423],\n",
       "        [0.5663, 0.5570, 0.7429]], device='cuda:0')"
      ]
     },
     "execution_count": 29,
     "metadata": {},
     "output_type": "execute_result"
    }
   ],
   "source": [
    "customer_data[:5]"
   ]
  },
  {
   "cell_type": "code",
   "execution_count": 30,
   "id": "7036d0bf",
   "metadata": {},
   "outputs": [
    {
     "data": {
      "text/plain": [
       "tensor([0.2522, 0.1206, 0.2730, 0.3896, 0.5570], device='cuda:0')"
      ]
     },
     "execution_count": 30,
     "metadata": {},
     "output_type": "execute_result"
    }
   ],
   "source": [
    "customer_data[:, 1][:5]"
   ]
  },
  {
   "cell_type": "code",
   "execution_count": 31,
   "id": "fe5e4c65",
   "metadata": {},
   "outputs": [
    {
     "data": {
      "text/plain": [
       "tensor([[0.5663, 0.5570, 0.7429],\n",
       "        [0.6784, 0.5509, 0.5008],\n",
       "        [0.4705, 0.9576, 0.5117],\n",
       "        ...,\n",
       "        [0.2973, 0.7686, 0.8246],\n",
       "        [0.4918, 0.7056, 0.5075],\n",
       "        [0.5945, 0.9915, 0.8279]], device='cuda:0')"
      ]
     },
     "execution_count": 31,
     "metadata": {},
     "output_type": "execute_result"
    }
   ],
   "source": [
    "high_spenders = customer_data[customer_data[:, 1] > 0.5]\n",
    "high_spenders"
   ]
  },
  {
   "cell_type": "code",
   "execution_count": 32,
   "id": "80c0368f",
   "metadata": {},
   "outputs": [
    {
     "data": {
      "text/plain": [
       "torch.Size([500739, 3])"
      ]
     },
     "execution_count": 32,
     "metadata": {},
     "output_type": "execute_result"
    }
   ],
   "source": [
    "high_spenders.shape"
   ]
  },
  {
   "cell_type": "code",
   "execution_count": 38,
   "id": "10ffc27e",
   "metadata": {},
   "outputs": [],
   "source": [
    "units = torch.tensor([\n",
    "    [200,220],\n",
    "    [150,180],\n",
    "    [300,330]\n",
    "],device='cuda')"
   ]
  },
  {
   "cell_type": "code",
   "execution_count": 34,
   "id": "88eb059d",
   "metadata": {},
   "outputs": [
    {
     "data": {
      "text/plain": [
       "torch.Size([3, 2])"
      ]
     },
     "execution_count": 34,
     "metadata": {},
     "output_type": "execute_result"
    }
   ],
   "source": [
    "units.shape"
   ]
  },
  {
   "cell_type": "code",
   "execution_count": 35,
   "id": "2459d50d",
   "metadata": {},
   "outputs": [
    {
     "data": {
      "text/plain": [
       "torch.int64"
      ]
     },
     "execution_count": 35,
     "metadata": {},
     "output_type": "execute_result"
    }
   ],
   "source": [
    "units.dtype"
   ]
  },
  {
   "cell_type": "code",
   "execution_count": 39,
   "id": "bac1ce6a",
   "metadata": {},
   "outputs": [
    {
     "data": {
      "text/plain": [
       "device(type='cuda', index=0)"
      ]
     },
     "execution_count": 39,
     "metadata": {},
     "output_type": "execute_result"
    }
   ],
   "source": [
    "units.device"
   ]
  },
  {
   "cell_type": "code",
   "execution_count": 40,
   "id": "266d71ad",
   "metadata": {},
   "outputs": [
    {
     "data": {
      "text/plain": [
       "tensor([200, 220, 150, 180, 300, 330], device='cuda:0')"
      ]
     },
     "execution_count": 40,
     "metadata": {},
     "output_type": "execute_result"
    }
   ],
   "source": [
    "units.view(-1)"
   ]
  },
  {
   "cell_type": "code",
   "execution_count": 42,
   "id": "638032ee",
   "metadata": {},
   "outputs": [
    {
     "data": {
      "text/plain": [
       "tensor([[200, 220, 150],\n",
       "        [180, 300, 330]], device='cuda:0')"
      ]
     },
     "execution_count": 42,
     "metadata": {},
     "output_type": "execute_result"
    }
   ],
   "source": [
    "units.view(2,3)"
   ]
  },
  {
   "cell_type": "code",
   "execution_count": 43,
   "id": "18e67f0a",
   "metadata": {},
   "outputs": [
    {
     "data": {
      "text/plain": [
       "tensor([[200],\n",
       "        [220],\n",
       "        [150],\n",
       "        [180],\n",
       "        [300],\n",
       "        [330]], device='cuda:0')"
      ]
     },
     "execution_count": 43,
     "metadata": {},
     "output_type": "execute_result"
    }
   ],
   "source": [
    "units.view(6,1)"
   ]
  },
  {
   "cell_type": "code",
   "execution_count": 45,
   "id": "9745d85d",
   "metadata": {},
   "outputs": [
    {
     "data": {
      "text/plain": [
       "tensor([[200, 220],\n",
       "        [150, 180],\n",
       "        [300, 389]], device='cuda:0')"
      ]
     },
     "execution_count": 45,
     "metadata": {},
     "output_type": "execute_result"
    }
   ],
   "source": [
    "units[2,1] = 389\n",
    "units"
   ]
  },
  {
   "cell_type": "code",
   "execution_count": 46,
   "id": "0971ea86",
   "metadata": {},
   "outputs": [
    {
     "data": {
      "text/plain": [
       "tensor([[0.4324, 0.7884, 0.2197, 0.3359],\n",
       "        [0.1163, 0.7633, 0.8665, 0.9456],\n",
       "        [0.5059, 0.3430, 0.6879, 0.5953]])"
      ]
     },
     "execution_count": 46,
     "metadata": {},
     "output_type": "execute_result"
    }
   ],
   "source": [
    "torch.rand(3,4)\n"
   ]
  },
  {
   "cell_type": "code",
   "execution_count": null,
   "id": "5e1fc596",
   "metadata": {},
   "outputs": [],
   "source": []
  }
 ],
 "metadata": {
  "kernelspec": {
   "display_name": "Python 3",
   "language": "python",
   "name": "python3"
  },
  "language_info": {
   "codemirror_mode": {
    "name": "ipython",
    "version": 3
   },
   "file_extension": ".py",
   "mimetype": "text/x-python",
   "name": "python",
   "nbconvert_exporter": "python",
   "pygments_lexer": "ipython3",
   "version": "3.11.3"
  }
 },
 "nbformat": 4,
 "nbformat_minor": 5
}
