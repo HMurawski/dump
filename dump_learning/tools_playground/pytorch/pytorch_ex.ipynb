{
  "cells": [
    {
      "cell_type": "markdown",
      "metadata": {
        "id": "gwD-rhXXnhIz"
      },
      "source": [
        "\n",
        "\n",
        "---\n",
        "\n"
      ]
    },
    {
      "cell_type": "markdown",
      "metadata": {
        "id": "6JwL8-81yLWK"
      },
      "source": [
        "Imports and CUDA"
      ]
    },
    {
      "cell_type": "code",
      "execution_count": 1,
      "metadata": {
        "id": "yR0_z_79yKEK"
      },
      "outputs": [
        {
          "name": "stdout",
          "output_type": "stream",
          "text": [
            "Using device: cuda\n"
          ]
        }
      ],
      "source": [
        "import torch\n",
        "\n",
        "# Check if CUDA (GPU) is available\n",
        "device = torch.device('cuda' if torch.cuda.is_available() else 'cpu')\n",
        "print(f\"Using device: {device}\")\n"
      ]
    },
    {
      "cell_type": "markdown",
      "metadata": {
        "id": "6iiOkre3ye0n"
      },
      "source": [
        "\n",
        "\n",
        "---\n",
        "\n"
      ]
    },
    {
      "cell_type": "markdown",
      "metadata": {
        "id": "iGT8uIK2nzxa"
      },
      "source": [
        "**Task1: Inventory Management**\n",
        "\n",
        "AI Town’s warehouse uses sensors to record the inventory of 5 items every day. Each day’s data is represented as a list of integers (number of units)."
      ]
    },
    {
      "cell_type": "code",
      "execution_count": 2,
      "metadata": {
        "id": "yQj9yyF-pADV"
      },
      "outputs": [],
      "source": [
        "#1 Create a PyTorch Tensor from the following inventory data\n",
        "inventory = [[12, 15, 10, 0, 5],\n",
        "             [10, 8, 7, 5, 4],\n",
        "             [20, 10, 15, 5, 2]]\n"
      ]
    },
    {
      "cell_type": "code",
      "execution_count": 3,
      "metadata": {},
      "outputs": [
        {
          "data": {
            "text/plain": [
              "tensor([[12., 15., 10.,  0.,  5.],\n",
              "        [10.,  8.,  7.,  5.,  4.],\n",
              "        [20., 10., 15.,  5.,  2.]], dtype=torch.float16, requires_grad=True)"
            ]
          },
          "execution_count": 3,
          "metadata": {},
          "output_type": "execute_result"
        }
      ],
      "source": [
        "inventory_t = torch.tensor(inventory, requires_grad=True, dtype=torch.float16)\n",
        "inventory_t"
      ]
    },
    {
      "cell_type": "code",
      "execution_count": 4,
      "metadata": {
        "id": "piee_hPCo-VW"
      },
      "outputs": [
        {
          "data": {
            "text/plain": [
              "tensor([42., 33., 32., 10., 11.], dtype=torch.float16, grad_fn=<SumBackward1>)"
            ]
          },
          "execution_count": 4,
          "metadata": {},
          "output_type": "execute_result"
        }
      ],
      "source": [
        "#2 Find the total inventory for each item across all days\n",
        "inventory_t.sum(dim=0)"
      ]
    },
    {
      "cell_type": "code",
      "execution_count": 5,
      "metadata": {
        "id": "O-0F3R8uObWT"
      },
      "outputs": [
        {
          "data": {
            "text/plain": [
              "tensor([ 8.3984,  6.8008, 10.3984], dtype=torch.float16,\n",
              "       grad_fn=<MeanBackward1>)"
            ]
          },
          "execution_count": 5,
          "metadata": {},
          "output_type": "execute_result"
        }
      ],
      "source": [
        "#3 Find the average inventory per day\n",
        "inventory_t.mean(dim=1)"
      ]
    },
    {
      "cell_type": "markdown",
      "metadata": {
        "id": "4eWH3-JBycim"
      },
      "source": [
        "\n",
        "\n",
        "---\n",
        "\n"
      ]
    },
    {
      "cell_type": "markdown",
      "metadata": {
        "id": "jqsNZz1VpDTB"
      },
      "source": [
        "**Task2: Monitoring Vehicle Flow**\n",
        "\n",
        "AI Town uses a sensor to monitor the number of vehicles passing through two main roads every hour. The data for one day (24 hours) is represented as two\n",
        "1×24 tensors."
      ]
    },
    {
      "cell_type": "code",
      "execution_count": 6,
      "metadata": {
        "id": "v0N1_20upZV0"
      },
      "outputs": [
        {
          "data": {
            "text/plain": [
              "(tensor([149, 187,  41, 151, 191,  23, 114, 103,  71,  24, 133,  90, 172,  28,\n",
              "          89, 153, 131, 143, 193, 159,  28, 113, 109, 134]),\n",
              " tensor([137,  64, 145, 100, 104, 153, 113, 157, 155, 174, 196, 199,  63, 133,\n",
              "          37, 194,  29, 130,  40, 138, 178, 177,  41, 195]))"
            ]
          },
          "execution_count": 6,
          "metadata": {},
          "output_type": "execute_result"
        }
      ],
      "source": [
        "#1 Simulate this data using PyTorch's Random Functions\n",
        "vehicles1 = torch.randint(20,200, (24,))\n",
        "vehicles2 = torch.randint(20,200, (24,))\n",
        "vehicles1,vehicles2"
      ]
    },
    {
      "cell_type": "code",
      "execution_count": 7,
      "metadata": {
        "id": "o2ldiyONpkp_"
      },
      "outputs": [
        {
          "data": {
            "text/plain": [
              "(tensor(2729), tensor(3052))"
            ]
          },
          "execution_count": 7,
          "metadata": {},
          "output_type": "execute_result"
        }
      ],
      "source": [
        "#2 Write the function to calculate the total vehicle flow for each road across the entire day\n",
        "def calc_single_road(v):\n",
        "    return v.sum()\n",
        "\n",
        "road1 = calc_single_road(vehicles1)\n",
        "road2 = calc_single_road(vehicles2)\n",
        "road1,road2"
      ]
    },
    {
      "cell_type": "code",
      "execution_count": 8,
      "metadata": {
        "id": "PP1ukEgXpvl_"
      },
      "outputs": [
        {
          "name": "stdout",
          "output_type": "stream",
          "text": [
            "tensor(5781)\n"
          ]
        },
        {
          "data": {
            "text/plain": [
              "tensor([286, 251, 186, 251, 295, 176, 227, 260, 226, 198, 329, 289, 235, 161,\n",
              "        126, 347, 160, 273, 233, 297, 206, 290, 150, 329])"
            ]
          },
          "execution_count": 8,
          "metadata": {},
          "output_type": "execute_result"
        }
      ],
      "source": [
        "\n",
        "def calc_vehicles(v1, v2):\n",
        "    return v1.sum() + v2.sum()\n",
        "\n",
        "all_day = calc_vehicles(vehicles1,vehicles2)\n",
        "print(all_day)\n",
        "\n",
        "#3 Write the function to calculate the total vehicle flow for each hour across both roads\n",
        "vehicles1 + vehicles2"
      ]
    },
    {
      "cell_type": "markdown",
      "metadata": {
        "id": "wkp5wRVHygcH"
      },
      "source": [
        "\n",
        "\n",
        "---\n",
        "\n"
      ]
    },
    {
      "cell_type": "markdown",
      "metadata": {
        "id": "9_03v1baqBBB"
      },
      "source": [
        "**Task3: Fitness Matrix**\n",
        "\n",
        "The AI Gym tracks members’ fitness scores using a 3×3 matrix for *strength*, *stamina*, and f*lexibility*. Each row represents a different member, and each column represents a specific metric."
      ]
    },
    {
      "cell_type": "code",
      "execution_count": 9,
      "metadata": {
        "id": "GlQTZKI6rZ5X"
      },
      "outputs": [
        {
          "name": "stdout",
          "output_type": "stream",
          "text": [
            "tensor([[  8.0000,  24.0000,  45.0000],\n",
            "        [ 32.0000,  60.0000,  90.0000],\n",
            "        [ 56.0000,  96.0000, 135.0000]])\n"
          ]
        }
      ],
      "source": [
        "#1 Create a 3*3 tensor matrix and multiply the scores of each member by a weight factor: [0.8, 1.2, 1.5]\n",
        "matrix = torch.tensor([\n",
        "    [10,20,30],\n",
        "    [40,50,60],\n",
        "    [70,80,90]\n",
        "])\n",
        "weight_factor = torch.tensor([0.8,1.2,1.5])\n",
        "scores = matrix * weight_factor\n",
        "print(scores)"
      ]
    },
    {
      "cell_type": "code",
      "execution_count": 10,
      "metadata": {
        "id": "_uce_-rXr1un"
      },
      "outputs": [
        {
          "name": "stdout",
          "output_type": "stream",
          "text": [
            "max scores row-wise: torch.return_types.max(\n",
            "values=tensor([ 45.,  90., 135.]),\n",
            "indices=tensor([2, 2, 2]))\n",
            "max scores column-wise: torch.return_types.max(\n",
            "values=tensor([ 56.,  96., 135.]),\n",
            "indices=tensor([2, 2, 2]))\n"
          ]
        }
      ],
      "source": [
        "#2 Find the row-wise and column-wise maximum scores\n",
        "print(f\"max scores row-wise: {scores.max(dim=1)}\")\n",
        "print(f\"max scores column-wise: {scores.max(dim=0)}\")"
      ]
    },
    {
      "cell_type": "code",
      "execution_count": 11,
      "metadata": {
        "id": "WIapNxZ6r4Dn"
      },
      "outputs": [
        {
          "data": {
            "text/plain": [
              "torch.Size([9])"
            ]
          },
          "execution_count": 11,
          "metadata": {},
          "output_type": "execute_result"
        }
      ],
      "source": [
        "#3 Transpose the fitness matrix and interpret it's new structure (shape)\n",
        "matrix.view(-1).shape"
      ]
    },
    {
      "cell_type": "code",
      "execution_count": 12,
      "metadata": {},
      "outputs": [
        {
          "data": {
            "text/plain": [
              "tensor([[10, 40, 70],\n",
              "        [20, 50, 80],\n",
              "        [30, 60, 90]])"
            ]
          },
          "execution_count": 12,
          "metadata": {},
          "output_type": "execute_result"
        }
      ],
      "source": [
        "m_t = matrix.t()\n",
        "m_t"
      ]
    },
    {
      "cell_type": "markdown",
      "metadata": {
        "id": "LlDlQS0Vyh8W"
      },
      "source": [
        "\n",
        "\n",
        "---\n",
        "\n"
      ]
    },
    {
      "cell_type": "markdown",
      "metadata": {
        "id": "03ROjCDosA1-"
      },
      "source": [
        "**Task4: Chain Rule in Action**\n",
        "\n",
        "AI Lab is running experiments to understand the effect of temperature (\n",
        "x) on a chemical reaction rate (y). The relationship is given as:\n",
        "$y = 2x^3 + 5x^2 - 3x + 7$\n",
        "\n"
      ]
    },
    {
      "cell_type": "code",
      "execution_count": 21,
      "metadata": {
        "id": "3A33YR0QvHjn"
      },
      "outputs": [],
      "source": [
        "#1 Use PyTorch to compute 'y' for x = 4\n",
        "x = torch.tensor(4, requires_grad=True, dtype=torch.float16)\n",
        "y = 2*x**3 + 5* x**2 - 3*x +7"
      ]
    },
    {
      "cell_type": "code",
      "execution_count": 22,
      "metadata": {
        "id": "-9I7GHC2vyi2"
      },
      "outputs": [
        {
          "data": {
            "text/plain": [
              "tensor(133., dtype=torch.float16)"
            ]
          },
          "execution_count": 22,
          "metadata": {},
          "output_type": "execute_result"
        }
      ],
      "source": [
        "#2 Calculate dy/dx(gradient) using PyTorch's autograd\n",
        "y.backward()\n",
        "x.grad"
      ]
    },
    {
      "cell_type": "markdown",
      "metadata": {
        "id": "cWs5gdmiylYe"
      },
      "source": [
        "\n",
        "\n",
        "---\n",
        "\n"
      ]
    },
    {
      "cell_type": "markdown",
      "metadata": {
        "id": "12iKFr_NwC7d"
      },
      "source": [
        "**Task5: Camera Calibration**\n",
        "\n",
        "AI Town’s surveillance cameras need to align their focus. You are given the following matrices for two cameras’ focus adjustments:"
      ]
    },
    {
      "cell_type": "code",
      "execution_count": 23,
      "metadata": {
        "id": "3syFy2GlwLRZ"
      },
      "outputs": [],
      "source": [
        "camera1 = torch.tensor([[1, 2], [3, 4]])\n",
        "camera2 = torch.tensor([[5, 6], [7, 8]])"
      ]
    },
    {
      "cell_type": "code",
      "execution_count": 24,
      "metadata": {
        "id": "xJH8T-85wO_B"
      },
      "outputs": [
        {
          "data": {
            "text/plain": [
              "tensor([[ 5, 12],\n",
              "        [21, 32]])"
            ]
          },
          "execution_count": 24,
          "metadata": {},
          "output_type": "execute_result"
        }
      ],
      "source": [
        "#1 Perform an element-wise multiplication of matrices ( Hadamard Product)\n",
        "camera1 * camera2"
      ]
    },
    {
      "cell_type": "code",
      "execution_count": 25,
      "metadata": {
        "id": "yL5otP3FwZY8"
      },
      "outputs": [
        {
          "data": {
            "text/plain": [
              "tensor([[19, 22],\n",
              "        [43, 50]])"
            ]
          },
          "execution_count": 25,
          "metadata": {},
          "output_type": "execute_result"
        }
      ],
      "source": [
        "#2 Compute Dot Product of the two matrices\n",
        "camera1 @ camera2"
      ]
    },
    {
      "cell_type": "code",
      "execution_count": 26,
      "metadata": {
        "id": "97dWTkQzxBaH"
      },
      "outputs": [
        {
          "name": "stdout",
          "output_type": "stream",
          "text": [
            "tensor(-2.) tensor(-2.0000)\n"
          ]
        }
      ],
      "source": [
        "#3 Compute the Determinant of each matrix\n",
        "det_c1 = torch.det(camera1.float())\n",
        "det_c2 = torch.det(camera2.float())\n",
        "print(det_c1,det_c2)"
      ]
    },
    {
      "cell_type": "markdown",
      "metadata": {
        "id": "dtQXmntaym2T"
      },
      "source": [
        "\n",
        "\n",
        "---\n",
        "\n"
      ]
    },
    {
      "cell_type": "markdown",
      "metadata": {
        "id": "tA6tObX4xFLE"
      },
      "source": [
        "**Task6: Neural Network Foundations**\n",
        "\n",
        "Our AI University uses simplified single neuron model (perceptron):\n",
        "$$y = wx + b$$"
      ]
    },
    {
      "cell_type": "code",
      "execution_count": 27,
      "metadata": {
        "id": "CAynFZXZxf53"
      },
      "outputs": [],
      "source": [
        "#1 Create tensors for w  = 2, b = 1, x = [1, 2, 3, 4]\n",
        "w = torch.tensor(2, requires_grad=True, dtype=torch.float16)\n",
        "b = torch.tensor(1, requires_grad=True, dtype=torch.float16)\n",
        "x = torch.tensor([1,2,3,4], requires_grad=True, dtype=torch.float16)"
      ]
    },
    {
      "cell_type": "code",
      "execution_count": 28,
      "metadata": {
        "id": "sAtHYFNDxqy-"
      },
      "outputs": [
        {
          "name": "stdout",
          "output_type": "stream",
          "text": [
            "tensor([3., 5., 7., 9.], dtype=torch.float16, grad_fn=<AddBackward0>)\n"
          ]
        }
      ],
      "source": [
        "#2 Compute tensors for y\n",
        "y = w*x +b\n",
        "print(y)"
      ]
    },
    {
      "cell_type": "code",
      "execution_count": 29,
      "metadata": {},
      "outputs": [
        {
          "data": {
            "text/plain": [
              "tensor(10., dtype=torch.float16)"
            ]
          },
          "execution_count": 29,
          "metadata": {},
          "output_type": "execute_result"
        }
      ],
      "source": [
        "r = y.sum()\n",
        "r.backward()\n",
        "w.grad"
      ]
    },
    {
      "cell_type": "markdown",
      "metadata": {
        "id": "3PLDt7oKyoI6"
      },
      "source": [
        "\n",
        "\n",
        "---\n",
        "\n"
      ]
    }
  ],
  "metadata": {
    "colab": {
      "provenance": []
    },
    "kernelspec": {
      "display_name": "Python 3",
      "name": "python3"
    },
    "language_info": {
      "codemirror_mode": {
        "name": "ipython",
        "version": 3
      },
      "file_extension": ".py",
      "mimetype": "text/x-python",
      "name": "python",
      "nbconvert_exporter": "python",
      "pygments_lexer": "ipython3",
      "version": "3.11.3"
    }
  },
  "nbformat": 4,
  "nbformat_minor": 0
}
