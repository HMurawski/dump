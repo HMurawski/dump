{
 "cells": [
  {
   "cell_type": "code",
   "execution_count": 38,
   "id": "f9d9d523",
   "metadata": {},
   "outputs": [],
   "source": [
    "import torch"
   ]
  },
  {
   "cell_type": "markdown",
   "id": "5006ab44",
   "metadata": {},
   "source": [
    "### torch.autograd"
   ]
  },
  {
   "cell_type": "code",
   "execution_count": 39,
   "id": "098fd961",
   "metadata": {},
   "outputs": [],
   "source": [
    "material_cost = torch.tensor(10, requires_grad=True, dtype=torch.float16)\n",
    "labor_cost = torch.tensor(87, requires_grad=True, dtype=torch.float16)"
   ]
  },
  {
   "cell_type": "code",
   "execution_count": 40,
   "id": "7597c117",
   "metadata": {},
   "outputs": [
    {
     "data": {
      "text/plain": [
       "tensor(835., dtype=torch.float16, grad_fn=<AddBackward0>)"
      ]
     },
     "execution_count": 40,
     "metadata": {},
     "output_type": "execute_result"
    }
   ],
   "source": [
    "total_cost = 3* material_cost**2 + 5*labor_cost + 100\n",
    "total_cost"
   ]
  },
  {
   "cell_type": "code",
   "execution_count": 41,
   "id": "52f495d4",
   "metadata": {},
   "outputs": [],
   "source": [
    "total_cost.backward()\n"
   ]
  },
  {
   "cell_type": "code",
   "execution_count": 42,
   "id": "e86374ba",
   "metadata": {},
   "outputs": [
    {
     "data": {
      "text/plain": [
       "(tensor(60., dtype=torch.float16), tensor(5., dtype=torch.float16))"
      ]
     },
     "execution_count": 42,
     "metadata": {},
     "output_type": "execute_result"
    }
   ],
   "source": [
    "material_cost.grad, labor_cost.grad"
   ]
  },
  {
   "cell_type": "code",
   "execution_count": 43,
   "id": "c1ec2f75",
   "metadata": {},
   "outputs": [
    {
     "name": "stdout",
     "output_type": "stream",
     "text": [
      "Outside no_grad:  True\n"
     ]
    }
   ],
   "source": [
    "x = torch.tensor(4, requires_grad=True, dtype=torch.float16)\n",
    "y = x**2 + 5\n",
    "print('Outside no_grad: ', y.requires_grad)"
   ]
  },
  {
   "cell_type": "code",
   "execution_count": 44,
   "id": "a8942b2c",
   "metadata": {},
   "outputs": [
    {
     "data": {
      "text/plain": [
       "tensor(8., dtype=torch.float16)"
      ]
     },
     "execution_count": 44,
     "metadata": {},
     "output_type": "execute_result"
    }
   ],
   "source": [
    "y.backward()\n",
    "x.grad"
   ]
  },
  {
   "cell_type": "code",
   "execution_count": 45,
   "id": "9ad9ec8e",
   "metadata": {},
   "outputs": [
    {
     "name": "stdout",
     "output_type": "stream",
     "text": [
      "Outside no_grad:  False\n"
     ]
    }
   ],
   "source": [
    "with torch.no_grad():\n",
    "    y = x**2 + 5\n",
    "    print('Outside no_grad: ', y.requires_grad)"
   ]
  },
  {
   "cell_type": "code",
   "execution_count": 46,
   "id": "0a070e87",
   "metadata": {},
   "outputs": [],
   "source": [
    "x = torch.tensor([1,2,3], requires_grad=True, dtype=torch.float16)\n",
    "y = 2*x**3+7"
   ]
  },
  {
   "cell_type": "code",
   "execution_count": 47,
   "id": "ea4f6be9",
   "metadata": {},
   "outputs": [
    {
     "data": {
      "text/plain": [
       "tensor([ 6., 24., 54.], dtype=torch.float16)"
      ]
     },
     "execution_count": 47,
     "metadata": {},
     "output_type": "execute_result"
    }
   ],
   "source": [
    "result = y.sum()\n",
    "result.backward()\n",
    "x.grad"
   ]
  },
  {
   "cell_type": "code",
   "execution_count": null,
   "id": "14296afd",
   "metadata": {},
   "outputs": [],
   "source": []
  }
 ],
 "metadata": {
  "kernelspec": {
   "display_name": "Python 3",
   "language": "python",
   "name": "python3"
  },
  "language_info": {
   "codemirror_mode": {
    "name": "ipython",
    "version": 3
   },
   "file_extension": ".py",
   "mimetype": "text/x-python",
   "name": "python",
   "nbconvert_exporter": "python",
   "pygments_lexer": "ipython3",
   "version": "3.11.3"
  }
 },
 "nbformat": 4,
 "nbformat_minor": 5
}
