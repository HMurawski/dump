{
 "cells": [
  {
   "cell_type": "markdown",
   "id": "fb71ce49",
   "metadata": {},
   "source": [
    "## Refreshment Project 2.0 - Home Prices Prediction - Ames Housing"
   ]
  },
  {
   "cell_type": "code",
   "execution_count": 128,
   "id": "bd0ab99f",
   "metadata": {},
   "outputs": [
    {
     "name": "stderr",
     "output_type": "stream",
     "text": [
      "c:\\Users\\HP\\AppData\\Local\\Programs\\Python\\Python311\\Lib\\site-packages\\tqdm\\auto.py:21: TqdmWarning: IProgress not found. Please update jupyter and ipywidgets. See https://ipywidgets.readthedocs.io/en/stable/user_install.html\n",
      "  from .autonotebook import tqdm as notebook_tqdm\n"
     ]
    }
   ],
   "source": [
    "import pandas as pd\n",
    "import numpy as np\n",
    "import matplotlib.pyplot as plt\n",
    "import seaborn as sns\n",
    "\n",
    "from sklearn.linear_model import LinearRegression, Lasso, Ridge\n",
    "from sklearn.model_selection import train_test_split\n",
    "from sklearn.metrics import r2_score, root_mean_squared_error, mean_absolute_error\n",
    "import optuna"
   ]
  },
  {
   "cell_type": "code",
   "execution_count": 63,
   "id": "b380ec55",
   "metadata": {},
   "outputs": [
    {
     "name": "stdout",
     "output_type": "stream",
     "text": [
      "shape: (2930, 82)\n"
     ]
    },
    {
     "data": {
      "text/html": [
       "<div>\n",
       "<style scoped>\n",
       "    .dataframe tbody tr th:only-of-type {\n",
       "        vertical-align: middle;\n",
       "    }\n",
       "\n",
       "    .dataframe tbody tr th {\n",
       "        vertical-align: top;\n",
       "    }\n",
       "\n",
       "    .dataframe thead th {\n",
       "        text-align: right;\n",
       "    }\n",
       "</style>\n",
       "<table border=\"1\" class=\"dataframe\">\n",
       "  <thead>\n",
       "    <tr style=\"text-align: right;\">\n",
       "      <th></th>\n",
       "      <th>Order</th>\n",
       "      <th>PID</th>\n",
       "      <th>MS SubClass</th>\n",
       "      <th>MS Zoning</th>\n",
       "      <th>Lot Frontage</th>\n",
       "      <th>Lot Area</th>\n",
       "      <th>Street</th>\n",
       "      <th>Alley</th>\n",
       "      <th>Lot Shape</th>\n",
       "      <th>Land Contour</th>\n",
       "      <th>...</th>\n",
       "      <th>Pool Area</th>\n",
       "      <th>Pool QC</th>\n",
       "      <th>Fence</th>\n",
       "      <th>Misc Feature</th>\n",
       "      <th>Misc Val</th>\n",
       "      <th>Mo Sold</th>\n",
       "      <th>Yr Sold</th>\n",
       "      <th>Sale Type</th>\n",
       "      <th>Sale Condition</th>\n",
       "      <th>SalePrice</th>\n",
       "    </tr>\n",
       "  </thead>\n",
       "  <tbody>\n",
       "    <tr>\n",
       "      <th>0</th>\n",
       "      <td>1</td>\n",
       "      <td>526301100</td>\n",
       "      <td>20</td>\n",
       "      <td>RL</td>\n",
       "      <td>141.0</td>\n",
       "      <td>31770</td>\n",
       "      <td>Pave</td>\n",
       "      <td>NaN</td>\n",
       "      <td>IR1</td>\n",
       "      <td>Lvl</td>\n",
       "      <td>...</td>\n",
       "      <td>0</td>\n",
       "      <td>NaN</td>\n",
       "      <td>NaN</td>\n",
       "      <td>NaN</td>\n",
       "      <td>0</td>\n",
       "      <td>5</td>\n",
       "      <td>2010</td>\n",
       "      <td>WD</td>\n",
       "      <td>Normal</td>\n",
       "      <td>215000</td>\n",
       "    </tr>\n",
       "    <tr>\n",
       "      <th>1</th>\n",
       "      <td>2</td>\n",
       "      <td>526350040</td>\n",
       "      <td>20</td>\n",
       "      <td>RH</td>\n",
       "      <td>80.0</td>\n",
       "      <td>11622</td>\n",
       "      <td>Pave</td>\n",
       "      <td>NaN</td>\n",
       "      <td>Reg</td>\n",
       "      <td>Lvl</td>\n",
       "      <td>...</td>\n",
       "      <td>0</td>\n",
       "      <td>NaN</td>\n",
       "      <td>MnPrv</td>\n",
       "      <td>NaN</td>\n",
       "      <td>0</td>\n",
       "      <td>6</td>\n",
       "      <td>2010</td>\n",
       "      <td>WD</td>\n",
       "      <td>Normal</td>\n",
       "      <td>105000</td>\n",
       "    </tr>\n",
       "    <tr>\n",
       "      <th>2</th>\n",
       "      <td>3</td>\n",
       "      <td>526351010</td>\n",
       "      <td>20</td>\n",
       "      <td>RL</td>\n",
       "      <td>81.0</td>\n",
       "      <td>14267</td>\n",
       "      <td>Pave</td>\n",
       "      <td>NaN</td>\n",
       "      <td>IR1</td>\n",
       "      <td>Lvl</td>\n",
       "      <td>...</td>\n",
       "      <td>0</td>\n",
       "      <td>NaN</td>\n",
       "      <td>NaN</td>\n",
       "      <td>Gar2</td>\n",
       "      <td>12500</td>\n",
       "      <td>6</td>\n",
       "      <td>2010</td>\n",
       "      <td>WD</td>\n",
       "      <td>Normal</td>\n",
       "      <td>172000</td>\n",
       "    </tr>\n",
       "    <tr>\n",
       "      <th>3</th>\n",
       "      <td>4</td>\n",
       "      <td>526353030</td>\n",
       "      <td>20</td>\n",
       "      <td>RL</td>\n",
       "      <td>93.0</td>\n",
       "      <td>11160</td>\n",
       "      <td>Pave</td>\n",
       "      <td>NaN</td>\n",
       "      <td>Reg</td>\n",
       "      <td>Lvl</td>\n",
       "      <td>...</td>\n",
       "      <td>0</td>\n",
       "      <td>NaN</td>\n",
       "      <td>NaN</td>\n",
       "      <td>NaN</td>\n",
       "      <td>0</td>\n",
       "      <td>4</td>\n",
       "      <td>2010</td>\n",
       "      <td>WD</td>\n",
       "      <td>Normal</td>\n",
       "      <td>244000</td>\n",
       "    </tr>\n",
       "    <tr>\n",
       "      <th>4</th>\n",
       "      <td>5</td>\n",
       "      <td>527105010</td>\n",
       "      <td>60</td>\n",
       "      <td>RL</td>\n",
       "      <td>74.0</td>\n",
       "      <td>13830</td>\n",
       "      <td>Pave</td>\n",
       "      <td>NaN</td>\n",
       "      <td>IR1</td>\n",
       "      <td>Lvl</td>\n",
       "      <td>...</td>\n",
       "      <td>0</td>\n",
       "      <td>NaN</td>\n",
       "      <td>MnPrv</td>\n",
       "      <td>NaN</td>\n",
       "      <td>0</td>\n",
       "      <td>3</td>\n",
       "      <td>2010</td>\n",
       "      <td>WD</td>\n",
       "      <td>Normal</td>\n",
       "      <td>189900</td>\n",
       "    </tr>\n",
       "  </tbody>\n",
       "</table>\n",
       "<p>5 rows × 82 columns</p>\n",
       "</div>"
      ],
      "text/plain": [
       "   Order        PID  MS SubClass MS Zoning  Lot Frontage  Lot Area Street  \\\n",
       "0      1  526301100           20        RL         141.0     31770   Pave   \n",
       "1      2  526350040           20        RH          80.0     11622   Pave   \n",
       "2      3  526351010           20        RL          81.0     14267   Pave   \n",
       "3      4  526353030           20        RL          93.0     11160   Pave   \n",
       "4      5  527105010           60        RL          74.0     13830   Pave   \n",
       "\n",
       "  Alley Lot Shape Land Contour  ... Pool Area Pool QC  Fence Misc Feature  \\\n",
       "0   NaN       IR1          Lvl  ...         0     NaN    NaN          NaN   \n",
       "1   NaN       Reg          Lvl  ...         0     NaN  MnPrv          NaN   \n",
       "2   NaN       IR1          Lvl  ...         0     NaN    NaN         Gar2   \n",
       "3   NaN       Reg          Lvl  ...         0     NaN    NaN          NaN   \n",
       "4   NaN       IR1          Lvl  ...         0     NaN  MnPrv          NaN   \n",
       "\n",
       "  Misc Val Mo Sold Yr Sold Sale Type  Sale Condition  SalePrice  \n",
       "0        0       5    2010       WD           Normal     215000  \n",
       "1        0       6    2010       WD           Normal     105000  \n",
       "2    12500       6    2010       WD           Normal     172000  \n",
       "3        0       4    2010       WD           Normal     244000  \n",
       "4        0       3    2010       WD           Normal     189900  \n",
       "\n",
       "[5 rows x 82 columns]"
      ]
     },
     "execution_count": 63,
     "metadata": {},
     "output_type": "execute_result"
    }
   ],
   "source": [
    "df = pd.read_csv(\"AmesHousing.csv\")\n",
    "print(\"shape:\", df.shape)\n",
    "df.head()"
   ]
  },
  {
   "cell_type": "code",
   "execution_count": 64,
   "id": "e796e0e1",
   "metadata": {},
   "outputs": [],
   "source": [
    "df_numeric = df.select_dtypes(include=[\"int64\", \"float64\"])"
   ]
  },
  {
   "cell_type": "code",
   "execution_count": 65,
   "id": "3fc477ff",
   "metadata": {},
   "outputs": [
    {
     "data": {
      "text/plain": [
       "SalePrice          1.000000\n",
       "Overall Qual       0.799262\n",
       "Gr Liv Area        0.706780\n",
       "Garage Cars        0.647877\n",
       "Garage Area        0.640401\n",
       "Total Bsmt SF      0.632280\n",
       "1st Flr SF         0.621676\n",
       "Year Built         0.558426\n",
       "Full Bath          0.545604\n",
       "Year Remod/Add     0.532974\n",
       "Garage Yr Blt      0.526965\n",
       "Mas Vnr Area       0.508285\n",
       "TotRms AbvGrd      0.495474\n",
       "Fireplaces         0.474558\n",
       "BsmtFin SF 1       0.432914\n",
       "Lot Frontage       0.357318\n",
       "Wood Deck SF       0.327143\n",
       "Open Porch SF      0.312951\n",
       "Half Bath          0.285056\n",
       "Bsmt Full Bath     0.276050\n",
       "2nd Flr SF         0.269373\n",
       "Lot Area           0.266549\n",
       "Bsmt Unf SF        0.182855\n",
       "Bedroom AbvGr      0.143913\n",
       "Screen Porch       0.112151\n",
       "Pool Area          0.068403\n",
       "Mo Sold            0.035259\n",
       "3Ssn Porch         0.032225\n",
       "BsmtFin SF 2       0.005891\n",
       "Misc Val          -0.015691\n",
       "Yr Sold           -0.030569\n",
       "Order             -0.031408\n",
       "Bsmt Half Bath    -0.035835\n",
       "Low Qual Fin SF   -0.037660\n",
       "MS SubClass       -0.085092\n",
       "Overall Cond      -0.101697\n",
       "Kitchen AbvGr     -0.119814\n",
       "Enclosed Porch    -0.128787\n",
       "PID               -0.246521\n",
       "Name: SalePrice, dtype: float64"
      ]
     },
     "execution_count": 65,
     "metadata": {},
     "output_type": "execute_result"
    }
   ],
   "source": [
    "df_numeric.corr()[\"SalePrice\"].sort_values(ascending=False)"
   ]
  },
  {
   "cell_type": "code",
   "execution_count": 66,
   "id": "cf466b71",
   "metadata": {},
   "outputs": [
    {
     "data": {
      "image/png": "[encoded data removed]",
      "text/plain": [
       "<Figure size 640x480 with 1 Axes>"
      ]
     },
     "metadata": {},
     "output_type": "display_data"
    },
    {
     "data": {
      "image/png": "[encoded data removed]",
      "text/plain": [
       "<Figure size 640x480 with 1 Axes>"
      ]
     },
     "metadata": {},
     "output_type": "display_data"
    },
    {
     "data": {
      "image/png": "[encoded data removed]",
      "text/plain": [
       "<Figure size 640x480 with 1 Axes>"
      ]
     },
     "metadata": {},
     "output_type": "display_data"
    },
    {
     "data": {
      "image/png": "[encoded data removed]",
      "text/plain": [
       "<Figure size 640x480 with 1 Axes>"
      ]
     },
     "metadata": {},
     "output_type": "display_data"
    },
    {
     "data": {
      "image/png": "[encoded data removed]",
      "text/plain": [
       "<Figure size 640x480 with 1 Axes>"
      ]
     },
     "metadata": {},
     "output_type": "display_data"
    }
   ],
   "source": [
    "important_features = [\"Overall Qual\", \"Gr Liv Area\", \"Garage Cars\", \"Garage Area\", \"Total Bsmt SF\"]\n",
    "for col in important_features:\n",
    "    sns.scatterplot(data=df, x=col, y=\"SalePrice\")\n",
    "    plt.title(f\"{col} vs SalePrice\")\n",
    "    plt.show()\n"
   ]
  },
  {
   "cell_type": "markdown",
   "id": "241f21d6",
   "metadata": {},
   "source": [
    "### NA Handling"
   ]
  },
  {
   "cell_type": "code",
   "execution_count": 67,
   "id": "56a4f79f",
   "metadata": {},
   "outputs": [
    {
     "data": {
      "text/plain": [
       "Pool QC           2917\n",
       "Misc Feature      2824\n",
       "Alley             2732\n",
       "Fence             2358\n",
       "Mas Vnr Type      1775\n",
       "                  ... \n",
       "Mo Sold              0\n",
       "Yr Sold              0\n",
       "Sale Type            0\n",
       "Sale Condition       0\n",
       "SalePrice            0\n",
       "Length: 82, dtype: int64"
      ]
     },
     "execution_count": 67,
     "metadata": {},
     "output_type": "execute_result"
    }
   ],
   "source": [
    "df.isna().sum().sort_values(ascending=False)"
   ]
  },
  {
   "cell_type": "code",
   "execution_count": 68,
   "id": "4f111c59",
   "metadata": {},
   "outputs": [
    {
     "name": "stdout",
     "output_type": "stream",
     "text": [
      "Pool QC         99.556314\n",
      "Misc Feature    96.382253\n",
      "Alley           93.242321\n",
      "Fence           80.477816\n",
      "Mas Vnr Type    60.580205\n",
      "Fireplace Qu    48.532423\n",
      "dtype: float64\n"
     ]
    }
   ],
   "source": [
    "na_pct = df.isna().mean() * 100\n",
    "na_over_30 = na_pct[na_pct > 30].sort_values(ascending=False)\n",
    "print(na_over_30)"
   ]
  },
  {
   "cell_type": "markdown",
   "id": "77cede5f",
   "metadata": {},
   "source": [
    "#### dropping columns with more than 30% of NA values"
   ]
  },
  {
   "cell_type": "code",
   "execution_count": 69,
   "id": "ea54e637",
   "metadata": {},
   "outputs": [],
   "source": [
    "df = df.drop(columns=[\"Pool QC\", \"Misc Feature\", \"Alley\", \"Fence\", \"Mas Vnr Type\", \"Fireplace Qu\"])"
   ]
  },
  {
   "cell_type": "markdown",
   "id": "a5b7819f",
   "metadata": {},
   "source": [
    "#### filling NA in Lot Frontage by the Neightborhood column"
   ]
  },
  {
   "cell_type": "code",
   "execution_count": 70,
   "id": "2b2a192e",
   "metadata": {},
   "outputs": [
    {
     "data": {
      "text/plain": [
       "Lot Frontage\n",
       "60.0     276\n",
       "80.0     137\n",
       "70.0     133\n",
       "50.0     117\n",
       "75.0     105\n",
       "        ... \n",
       "168.0      1\n",
       "111.0      1\n",
       "131.0      1\n",
       "153.0      1\n",
       "133.0      1\n",
       "Name: count, Length: 128, dtype: int64"
      ]
     },
     "execution_count": 70,
     "metadata": {},
     "output_type": "execute_result"
    }
   ],
   "source": [
    "df[\"Lot Frontage\"].value_counts()"
   ]
  },
  {
   "cell_type": "code",
   "execution_count": 71,
   "id": "cd86dfaa",
   "metadata": {},
   "outputs": [
    {
     "data": {
      "text/html": [
       "<div>\n",
       "<style scoped>\n",
       "    .dataframe tbody tr th:only-of-type {\n",
       "        vertical-align: middle;\n",
       "    }\n",
       "\n",
       "    .dataframe tbody tr th {\n",
       "        vertical-align: top;\n",
       "    }\n",
       "\n",
       "    .dataframe thead th {\n",
       "        text-align: right;\n",
       "    }\n",
       "</style>\n",
       "<table border=\"1\" class=\"dataframe\">\n",
       "  <thead>\n",
       "    <tr style=\"text-align: right;\">\n",
       "      <th></th>\n",
       "      <th>Lot Frontage</th>\n",
       "      <th>Neighborhood</th>\n",
       "    </tr>\n",
       "  </thead>\n",
       "  <tbody>\n",
       "    <tr>\n",
       "      <th>0</th>\n",
       "      <td>141.0</td>\n",
       "      <td>NAmes</td>\n",
       "    </tr>\n",
       "    <tr>\n",
       "      <th>1</th>\n",
       "      <td>80.0</td>\n",
       "      <td>NAmes</td>\n",
       "    </tr>\n",
       "    <tr>\n",
       "      <th>2</th>\n",
       "      <td>81.0</td>\n",
       "      <td>NAmes</td>\n",
       "    </tr>\n",
       "    <tr>\n",
       "      <th>3</th>\n",
       "      <td>93.0</td>\n",
       "      <td>NAmes</td>\n",
       "    </tr>\n",
       "    <tr>\n",
       "      <th>4</th>\n",
       "      <td>74.0</td>\n",
       "      <td>Gilbert</td>\n",
       "    </tr>\n",
       "    <tr>\n",
       "      <th>...</th>\n",
       "      <td>...</td>\n",
       "      <td>...</td>\n",
       "    </tr>\n",
       "    <tr>\n",
       "      <th>2925</th>\n",
       "      <td>37.0</td>\n",
       "      <td>Mitchel</td>\n",
       "    </tr>\n",
       "    <tr>\n",
       "      <th>2926</th>\n",
       "      <td>NaN</td>\n",
       "      <td>Mitchel</td>\n",
       "    </tr>\n",
       "    <tr>\n",
       "      <th>2927</th>\n",
       "      <td>62.0</td>\n",
       "      <td>Mitchel</td>\n",
       "    </tr>\n",
       "    <tr>\n",
       "      <th>2928</th>\n",
       "      <td>77.0</td>\n",
       "      <td>Mitchel</td>\n",
       "    </tr>\n",
       "    <tr>\n",
       "      <th>2929</th>\n",
       "      <td>74.0</td>\n",
       "      <td>Mitchel</td>\n",
       "    </tr>\n",
       "  </tbody>\n",
       "</table>\n",
       "<p>2930 rows × 2 columns</p>\n",
       "</div>"
      ],
      "text/plain": [
       "      Lot Frontage Neighborhood\n",
       "0            141.0        NAmes\n",
       "1             80.0        NAmes\n",
       "2             81.0        NAmes\n",
       "3             93.0        NAmes\n",
       "4             74.0      Gilbert\n",
       "...            ...          ...\n",
       "2925          37.0      Mitchel\n",
       "2926           NaN      Mitchel\n",
       "2927          62.0      Mitchel\n",
       "2928          77.0      Mitchel\n",
       "2929          74.0      Mitchel\n",
       "\n",
       "[2930 rows x 2 columns]"
      ]
     },
     "execution_count": 71,
     "metadata": {},
     "output_type": "execute_result"
    }
   ],
   "source": [
    "df[[\"Lot Frontage\", \"Neighborhood\"]]"
   ]
  },
  {
   "cell_type": "code",
   "execution_count": 72,
   "id": "3e260993",
   "metadata": {},
   "outputs": [],
   "source": [
    "df[\"Lot Frontage\"] = df[\"Lot Frontage\"].fillna(df.groupby(\"Neighborhood\")[\"Lot Frontage\"].transform(\"median\"))"
   ]
  },
  {
   "cell_type": "code",
   "execution_count": 73,
   "id": "7bcc5322",
   "metadata": {},
   "outputs": [
    {
     "data": {
      "text/plain": [
       "np.int64(3)"
      ]
     },
     "execution_count": 73,
     "metadata": {},
     "output_type": "execute_result"
    }
   ],
   "source": [
    "#check\n",
    "df[\"Lot Frontage\"].isna().sum()"
   ]
  },
  {
   "cell_type": "markdown",
   "id": "26d05366",
   "metadata": {},
   "source": [
    "#### still 3 nans - will use overall median to fill missing values"
   ]
  },
  {
   "cell_type": "code",
   "execution_count": 74,
   "id": "3ff86194",
   "metadata": {},
   "outputs": [],
   "source": [
    "med_lf = df[\"Lot Frontage\"].median()\n",
    "df[\"Lot Frontage\"] = df[\"Lot Frontage\"].fillna(med_lf)"
   ]
  },
  {
   "cell_type": "code",
   "execution_count": 75,
   "id": "ea6cae1b",
   "metadata": {},
   "outputs": [
    {
     "data": {
      "text/plain": [
       "np.int64(0)"
      ]
     },
     "execution_count": 75,
     "metadata": {},
     "output_type": "execute_result"
    }
   ],
   "source": [
    "df[\"Lot Frontage\"].isna().sum()\n",
    "#0"
   ]
  },
  {
   "cell_type": "markdown",
   "id": "ce2f02b1",
   "metadata": {},
   "source": [
    "#### handling Nan with \"None\" in object columns"
   ]
  },
  {
   "cell_type": "code",
   "execution_count": 76,
   "id": "6a52ab7b",
   "metadata": {},
   "outputs": [
    {
     "name": "stdout",
     "output_type": "stream",
     "text": [
      "<class 'pandas.core.frame.DataFrame'>\n",
      "RangeIndex: 2930 entries, 0 to 2929\n",
      "Data columns (total 76 columns):\n",
      " #   Column           Non-Null Count  Dtype  \n",
      "---  ------           --------------  -----  \n",
      " 0   Order            2930 non-null   int64  \n",
      " 1   PID              2930 non-null   int64  \n",
      " 2   MS SubClass      2930 non-null   int64  \n",
      " 3   MS Zoning        2930 non-null   object \n",
      " 4   Lot Frontage     2930 non-null   float64\n",
      " 5   Lot Area         2930 non-null   int64  \n",
      " 6   Street           2930 non-null   object \n",
      " 7   Lot Shape        2930 non-null   object \n",
      " 8   Land Contour     2930 non-null   object \n",
      " 9   Utilities        2930 non-null   object \n",
      " 10  Lot Config       2930 non-null   object \n",
      " 11  Land Slope       2930 non-null   object \n",
      " 12  Neighborhood     2930 non-null   object \n",
      " 13  Condition 1      2930 non-null   object \n",
      " 14  Condition 2      2930 non-null   object \n",
      " 15  Bldg Type        2930 non-null   object \n",
      " 16  House Style      2930 non-null   object \n",
      " 17  Overall Qual     2930 non-null   int64  \n",
      " 18  Overall Cond     2930 non-null   int64  \n",
      " 19  Year Built       2930 non-null   int64  \n",
      " 20  Year Remod/Add   2930 non-null   int64  \n",
      " 21  Roof Style       2930 non-null   object \n",
      " 22  Roof Matl        2930 non-null   object \n",
      " 23  Exterior 1st     2930 non-null   object \n",
      " 24  Exterior 2nd     2930 non-null   object \n",
      " 25  Mas Vnr Area     2907 non-null   float64\n",
      " 26  Exter Qual       2930 non-null   object \n",
      " 27  Exter Cond       2930 non-null   object \n",
      " 28  Foundation       2930 non-null   object \n",
      " 29  Bsmt Qual        2850 non-null   object \n",
      " 30  Bsmt Cond        2850 non-null   object \n",
      " 31  Bsmt Exposure    2847 non-null   object \n",
      " 32  BsmtFin Type 1   2850 non-null   object \n",
      " 33  BsmtFin SF 1     2929 non-null   float64\n",
      " 34  BsmtFin Type 2   2849 non-null   object \n",
      " 35  BsmtFin SF 2     2929 non-null   float64\n",
      " 36  Bsmt Unf SF      2929 non-null   float64\n",
      " 37  Total Bsmt SF    2929 non-null   float64\n",
      " 38  Heating          2930 non-null   object \n",
      " 39  Heating QC       2930 non-null   object \n",
      " 40  Central Air      2930 non-null   object \n",
      " 41  Electrical       2929 non-null   object \n",
      " 42  1st Flr SF       2930 non-null   int64  \n",
      " 43  2nd Flr SF       2930 non-null   int64  \n",
      " 44  Low Qual Fin SF  2930 non-null   int64  \n",
      " 45  Gr Liv Area      2930 non-null   int64  \n",
      " 46  Bsmt Full Bath   2928 non-null   float64\n",
      " 47  Bsmt Half Bath   2928 non-null   float64\n",
      " 48  Full Bath        2930 non-null   int64  \n",
      " 49  Half Bath        2930 non-null   int64  \n",
      " 50  Bedroom AbvGr    2930 non-null   int64  \n",
      " 51  Kitchen AbvGr    2930 non-null   int64  \n",
      " 52  Kitchen Qual     2930 non-null   object \n",
      " 53  TotRms AbvGrd    2930 non-null   int64  \n",
      " 54  Functional       2930 non-null   object \n",
      " 55  Fireplaces       2930 non-null   int64  \n",
      " 56  Garage Type      2773 non-null   object \n",
      " 57  Garage Yr Blt    2771 non-null   float64\n",
      " 58  Garage Finish    2771 non-null   object \n",
      " 59  Garage Cars      2929 non-null   float64\n",
      " 60  Garage Area      2929 non-null   float64\n",
      " 61  Garage Qual      2771 non-null   object \n",
      " 62  Garage Cond      2771 non-null   object \n",
      " 63  Paved Drive      2930 non-null   object \n",
      " 64  Wood Deck SF     2930 non-null   int64  \n",
      " 65  Open Porch SF    2930 non-null   int64  \n",
      " 66  Enclosed Porch   2930 non-null   int64  \n",
      " 67  3Ssn Porch       2930 non-null   int64  \n",
      " 68  Screen Porch     2930 non-null   int64  \n",
      " 69  Pool Area        2930 non-null   int64  \n",
      " 70  Misc Val         2930 non-null   int64  \n",
      " 71  Mo Sold          2930 non-null   int64  \n",
      " 72  Yr Sold          2930 non-null   int64  \n",
      " 73  Sale Type        2930 non-null   object \n",
      " 74  Sale Condition   2930 non-null   object \n",
      " 75  SalePrice        2930 non-null   int64  \n",
      "dtypes: float64(11), int64(28), object(37)\n",
      "memory usage: 1.7+ MB\n"
     ]
    }
   ],
   "source": [
    "df.info()"
   ]
  },
  {
   "cell_type": "code",
   "execution_count": 77,
   "id": "06cc8edb",
   "metadata": {},
   "outputs": [],
   "source": [
    "df_object_cols = df.select_dtypes(include=[\"object\"]).columns\n"
   ]
  },
  {
   "cell_type": "code",
   "execution_count": 78,
   "id": "84253f46",
   "metadata": {},
   "outputs": [],
   "source": [
    "df[df_object_cols] = df[df_object_cols].fillna(\"None\")"
   ]
  },
  {
   "cell_type": "code",
   "execution_count": 79,
   "id": "e011895a",
   "metadata": {},
   "outputs": [
    {
     "data": {
      "text/plain": [
       "np.int64(0)"
      ]
     },
     "execution_count": 79,
     "metadata": {},
     "output_type": "execute_result"
    }
   ],
   "source": [
    "df_object_cols.isna().sum()"
   ]
  },
  {
   "cell_type": "code",
   "execution_count": 80,
   "id": "c07da694",
   "metadata": {},
   "outputs": [
    {
     "data": {
      "text/plain": [
       "Garage Yr Blt     159\n",
       "Mas Vnr Area       23\n",
       "Bsmt Full Bath      2\n",
       "Bsmt Half Bath      2\n",
       "BsmtFin SF 2        1\n",
       "BsmtFin SF 1        1\n",
       "Total Bsmt SF       1\n",
       "Bsmt Unf SF         1\n",
       "Garage Area         1\n",
       "Garage Cars         1\n",
       "dtype: int64"
      ]
     },
     "execution_count": 80,
     "metadata": {},
     "output_type": "execute_result"
    }
   ],
   "source": [
    "df.isna().sum().sort_values(ascending=False).head(10)\n"
   ]
  },
  {
   "cell_type": "code",
   "execution_count": 81,
   "id": "6aae5e86",
   "metadata": {},
   "outputs": [],
   "source": [
    "cols_to_fill = [\n",
    "    \"Garage Yr Blt\", \"Mas Vnr Area\", \"Bsmt Half Bath\", \"Bsmt Full Bath\",\n",
    "    \"Total Bsmt SF\", \"Bsmt Unf SF\", \"BsmtFin SF 2\", \"BsmtFin SF 1\",\n",
    "    \"Garage Cars\", \"Garage Area\"\n",
    "]\n",
    "\n",
    "for col in cols_to_fill:\n",
    "    df[col] = df[col].fillna(df[col].median())\n"
   ]
  },
  {
   "cell_type": "code",
   "execution_count": 82,
   "id": "6e91bc96",
   "metadata": {},
   "outputs": [
    {
     "data": {
      "text/plain": [
       "Order             0\n",
       "PID               0\n",
       "MS SubClass       0\n",
       "MS Zoning         0\n",
       "Lot Frontage      0\n",
       "                 ..\n",
       "Mo Sold           0\n",
       "Yr Sold           0\n",
       "Sale Type         0\n",
       "Sale Condition    0\n",
       "SalePrice         0\n",
       "Length: 76, dtype: int64"
      ]
     },
     "execution_count": 82,
     "metadata": {},
     "output_type": "execute_result"
    }
   ],
   "source": [
    "df.isna().sum().sort_values(ascending=False)"
   ]
  },
  {
   "cell_type": "markdown",
   "id": "94b5c8c0",
   "metadata": {},
   "source": [
    "### Feature Engineering"
   ]
  },
  {
   "cell_type": "code",
   "execution_count": 83,
   "id": "372f96c4",
   "metadata": {},
   "outputs": [],
   "source": [
    "#1. TotalSF\n",
    "\n",
    "df[\"TotalSF\"] = df[\"Total Bsmt SF\"] + df[\"1st Flr SF\"] + df[\"2nd Flr SF\"]"
   ]
  },
  {
   "cell_type": "code",
   "execution_count": 84,
   "id": "641f0915",
   "metadata": {},
   "outputs": [],
   "source": [
    "#drop redundand columns:\n",
    "df = df.drop(columns=[\"Total Bsmt SF\",\"1st Flr SF\", \"2nd Flr SF\"],errors=\"ignore\")"
   ]
  },
  {
   "cell_type": "code",
   "execution_count": 85,
   "id": "41521e6c",
   "metadata": {},
   "outputs": [],
   "source": [
    "#2. TotalBathrooms\n",
    "\n",
    "df[\"TotalBathrooms\"] = df[\"Full Bath\"] + df[\"Half Bath\"]*0.5 + df[\"Bsmt Full Bath\"] + df[\"Bsmt Half Bath\"]*0.5"
   ]
  },
  {
   "cell_type": "code",
   "execution_count": 86,
   "id": "4025bdeb",
   "metadata": {},
   "outputs": [],
   "source": [
    "df = df.drop(columns=[\"Full Bath\", \"Half Bath\", \"Bsmt Full Bath\", \"Bsmt Half Bath\"], errors=\"ignore\")"
   ]
  },
  {
   "cell_type": "code",
   "execution_count": 87,
   "id": "1704257f",
   "metadata": {},
   "outputs": [],
   "source": [
    "def get_remodeled(row):\n",
    "    if row[\"Year Built\"] != row[\"Year Remod/Add\"]:\n",
    "        return 1\n",
    "    else:\n",
    "        return 0"
   ]
  },
  {
   "cell_type": "code",
   "execution_count": 88,
   "id": "4955e2b5",
   "metadata": {},
   "outputs": [],
   "source": [
    "df[\"IsRemodeled\"] = df.apply(get_remodeled, axis=1)"
   ]
  },
  {
   "cell_type": "code",
   "execution_count": 89,
   "id": "aa1c90b0",
   "metadata": {},
   "outputs": [],
   "source": [
    "df[\"HouseAge\"] = df[\"Yr Sold\"] - df[\"Year Built\"]\n",
    "df[\"GarageAge\"] = df[\"Yr Sold\"] - df[\"Garage Yr Blt\"]"
   ]
  },
  {
   "cell_type": "markdown",
   "id": "608e7f99",
   "metadata": {},
   "source": [
    "### Data Prep for Modelling"
   ]
  },
  {
   "cell_type": "code",
   "execution_count": 90,
   "id": "bf71258f",
   "metadata": {},
   "outputs": [
    {
     "data": {
      "text/plain": [
       "Index(['Order', 'PID', 'MS SubClass', 'MS Zoning', 'Lot Frontage', 'Lot Area',\n",
       "       'Street', 'Lot Shape', 'Land Contour', 'Utilities', 'Lot Config',\n",
       "       'Land Slope', 'Neighborhood', 'Condition 1', 'Condition 2', 'Bldg Type',\n",
       "       'House Style', 'Overall Qual', 'Overall Cond', 'Year Built',\n",
       "       'Year Remod/Add', 'Roof Style', 'Roof Matl', 'Exterior 1st',\n",
       "       'Exterior 2nd', 'Mas Vnr Area', 'Exter Qual', 'Exter Cond',\n",
       "       'Foundation', 'Bsmt Qual', 'Bsmt Cond', 'Bsmt Exposure',\n",
       "       'BsmtFin Type 1', 'BsmtFin SF 1', 'BsmtFin Type 2', 'BsmtFin SF 2',\n",
       "       'Bsmt Unf SF', 'Heating', 'Heating QC', 'Central Air', 'Electrical',\n",
       "       'Low Qual Fin SF', 'Gr Liv Area', 'Bedroom AbvGr', 'Kitchen AbvGr',\n",
       "       'Kitchen Qual', 'TotRms AbvGrd', 'Functional', 'Fireplaces',\n",
       "       'Garage Type', 'Garage Yr Blt', 'Garage Finish', 'Garage Cars',\n",
       "       'Garage Area', 'Garage Qual', 'Garage Cond', 'Paved Drive',\n",
       "       'Wood Deck SF', 'Open Porch SF', 'Enclosed Porch', '3Ssn Porch',\n",
       "       'Screen Porch', 'Pool Area', 'Misc Val', 'Mo Sold', 'Yr Sold',\n",
       "       'Sale Type', 'Sale Condition', 'SalePrice', 'TotalSF', 'TotalBathrooms',\n",
       "       'IsRemodeled', 'HouseAge', 'GarageAge'],\n",
       "      dtype='object')"
      ]
     },
     "execution_count": 90,
     "metadata": {},
     "output_type": "execute_result"
    }
   ],
   "source": [
    "df.columns"
   ]
  },
  {
   "cell_type": "code",
   "execution_count": 91,
   "id": "c235d490",
   "metadata": {},
   "outputs": [],
   "source": [
    "df_model = df[[\"SalePrice\", \"Overall Qual\", \"Gr Liv Area\", \"Garage Cars\", \"TotalSF\", \"TotalBathrooms\", \"IsRemodeled\", \"HouseAge\", \"GarageAge\", \"Neighborhood\", \"MS Zoning\"]]"
   ]
  },
  {
   "cell_type": "code",
   "execution_count": 92,
   "id": "f6785931",
   "metadata": {},
   "outputs": [
    {
     "name": "stdout",
     "output_type": "stream",
     "text": [
      "<class 'pandas.core.frame.DataFrame'>\n",
      "RangeIndex: 2930 entries, 0 to 2929\n",
      "Data columns (total 11 columns):\n",
      " #   Column          Non-Null Count  Dtype  \n",
      "---  ------          --------------  -----  \n",
      " 0   SalePrice       2930 non-null   int64  \n",
      " 1   Overall Qual    2930 non-null   int64  \n",
      " 2   Gr Liv Area     2930 non-null   int64  \n",
      " 3   Garage Cars     2930 non-null   float64\n",
      " 4   TotalSF         2930 non-null   float64\n",
      " 5   TotalBathrooms  2930 non-null   float64\n",
      " 6   IsRemodeled     2930 non-null   int64  \n",
      " 7   HouseAge        2930 non-null   int64  \n",
      " 8   GarageAge       2930 non-null   float64\n",
      " 9   Neighborhood    2930 non-null   object \n",
      " 10  MS Zoning       2930 non-null   object \n",
      "dtypes: float64(4), int64(5), object(2)\n",
      "memory usage: 251.9+ KB\n"
     ]
    }
   ],
   "source": [
    "df_model.info()"
   ]
  },
  {
   "cell_type": "code",
   "execution_count": 93,
   "id": "f7e470f2",
   "metadata": {},
   "outputs": [],
   "source": [
    "df_modelling = pd.get_dummies(df_model, columns=[\"Neighborhood\",\"MS Zoning\"], drop_first=True)"
   ]
  },
  {
   "cell_type": "code",
   "execution_count": 94,
   "id": "5fb1e70d",
   "metadata": {},
   "outputs": [],
   "source": [
    "X = df_modelling.drop(\"SalePrice\", axis=1)\n",
    "y = df_modelling[\"SalePrice\"]\n",
    "\n",
    "X_train, X_temp, y_train, y_temp = train_test_split(X, y, train_size=0.7, random_state=1337)"
   ]
  },
  {
   "cell_type": "code",
   "execution_count": 95,
   "id": "9a92e0d3",
   "metadata": {},
   "outputs": [],
   "source": [
    "X_val, X_test, y_val, y_test = train_test_split(X_temp, y_temp, train_size=0.66, random_state=1337)"
   ]
  },
  {
   "cell_type": "code",
   "execution_count": 96,
   "id": "dd0f150b",
   "metadata": {},
   "outputs": [
    {
     "name": "stdout",
     "output_type": "stream",
     "text": [
      "(2051, 41) (580, 41) (299, 41)\n"
     ]
    }
   ],
   "source": [
    "print(X_train.shape, X_val.shape, X_test.shape)"
   ]
  },
  {
   "cell_type": "markdown",
   "id": "498a1c6d",
   "metadata": {},
   "source": [
    "### Random Forest Regressor"
   ]
  },
  {
   "cell_type": "code",
   "execution_count": 97,
   "id": "01eb12d3",
   "metadata": {},
   "outputs": [
    {
     "name": "stdout",
     "output_type": "stream",
     "text": [
      "r2: 0.8879803495285393\n",
      "MAE: 16942.772920060208\n",
      "RMSE: 24361.720405246513\n"
     ]
    }
   ],
   "source": [
    "from sklearn.ensemble import RandomForestRegressor\n",
    "\n",
    "model_rf = RandomForestRegressor()\n",
    "model_rf.fit(X_train, y_train)\n",
    "y_pred_rf = model_rf.predict(X_val)\n",
    "\n",
    "rmse_rf = root_mean_squared_error(y_true=y_val, y_pred=y_pred_rf)\n",
    "mae_rf = mean_absolute_error(y_true=y_val, y_pred=y_pred_rf)\n",
    "r2_rf = r2_score(y_val,y_pred_rf)\n",
    "\n",
    "print(f\"r2: {r2_rf}\\nMAE: {mae_rf}\\nRMSE: {rmse_rf}\")"
   ]
  },
  {
   "cell_type": "markdown",
   "id": "9fa74f8d",
   "metadata": {},
   "source": [
    "### XGB"
   ]
  },
  {
   "cell_type": "code",
   "execution_count": 98,
   "id": "a6fa2232",
   "metadata": {},
   "outputs": [
    {
     "name": "stdout",
     "output_type": "stream",
     "text": [
      "r2: 0.891288161277771\n",
      "MAE: 16799.603515625\n",
      "RMSE: 23999.3359375\n"
     ]
    }
   ],
   "source": [
    "from xgboost import XGBRegressor\n",
    "\n",
    "model_xgb = XGBRegressor()\n",
    "model_xgb.fit(X_train, y_train)\n",
    "y_pred_xgb = model_xgb.predict(X_val)\n",
    "\n",
    "rmse_xgb = root_mean_squared_error(y_true=y_val, y_pred=y_pred_xgb)\n",
    "mae_xgb = mean_absolute_error(y_true=y_val, y_pred=y_pred_xgb)\n",
    "r2_xgb = r2_score(y_val,y_pred_xgb)\n",
    "\n",
    "print(f\"r2: {r2_xgb}\\nMAE: {mae_xgb}\\nRMSE: {rmse_xgb}\")\n"
   ]
  },
  {
   "cell_type": "markdown",
   "id": "fd55bb66",
   "metadata": {},
   "source": [
    "### Linear Models"
   ]
  },
  {
   "cell_type": "code",
   "execution_count": 109,
   "id": "890ef0aa",
   "metadata": {},
   "outputs": [],
   "source": [
    "from sklearn.preprocessing import StandardScaler\n",
    "\n",
    "scaler = StandardScaler()\n",
    "numeric_cols = X.select_dtypes(include=[\"int64\", \"float64\"]).columns\n",
    "cat_cols = X.select_dtypes(include=[\"object\"]).columns\n",
    "\n",
    "X_train_scaled = scaler.fit_transform(X_train)\n",
    "X_val_scaled = scaler.transform(X_val)\n",
    "X_test_scaled = scaler.transform(X_test)\n",
    "\n"
   ]
  },
  {
   "cell_type": "markdown",
   "id": "25af7734",
   "metadata": {},
   "source": [
    "#### Logistic Regression"
   ]
  },
  {
   "cell_type": "code",
   "execution_count": 110,
   "id": "27d75609",
   "metadata": {},
   "outputs": [
    {
     "name": "stdout",
     "output_type": "stream",
     "text": [
      "r2: 0.8569281423512345\n",
      "MAE: 18901.650670891893\n",
      "RMSE: 27532.012369403572\n"
     ]
    }
   ],
   "source": [
    "model_lr = LinearRegression()\n",
    "model_lr.fit(X_train_scaled, y_train)\n",
    "y_pred_lr = model_lr.predict(X_val_scaled)\n",
    "\n",
    "rmse_lr = root_mean_squared_error(y_true=y_val, y_pred=y_pred_lr)\n",
    "mae_lr = mean_absolute_error(y_true=y_val, y_pred=y_pred_lr)\n",
    "r2_lr = r2_score(y_val,y_pred_lr)\n",
    "\n",
    "print(f\"r2: {r2_lr}\\nMAE: {mae_lr}\\nRMSE: {rmse_lr}\")"
   ]
  },
  {
   "cell_type": "markdown",
   "id": "71fcba82",
   "metadata": {},
   "source": [
    "#### Lasso"
   ]
  },
  {
   "cell_type": "code",
   "execution_count": 113,
   "id": "457b8acc",
   "metadata": {},
   "outputs": [
    {
     "name": "stdout",
     "output_type": "stream",
     "text": [
      "r2: 0.8568773339862024\n",
      "MAE: 18905.521357789978\n",
      "RMSE: 27536.900585672673\n"
     ]
    }
   ],
   "source": [
    "model_lasso = Lasso(max_iter=5000)\n",
    "model_lasso.fit(X_train_scaled, y_train)\n",
    "y_pred_lasso = model_lasso.predict(X_val_scaled)\n",
    "\n",
    "rmse_lasso = root_mean_squared_error(y_true=y_val, y_pred=y_pred_lasso)\n",
    "mae_lasso = mean_absolute_error(y_true=y_val, y_pred=y_pred_lasso)\n",
    "r2_lasso = r2_score(y_val,y_pred_lasso)\n",
    "\n",
    "print(f\"r2: {r2_lasso}\\nMAE: {mae_lasso}\\nRMSE: {rmse_lasso}\")"
   ]
  },
  {
   "cell_type": "markdown",
   "id": "de9c0fcd",
   "metadata": {},
   "source": [
    "#### Ridge"
   ]
  },
  {
   "cell_type": "code",
   "execution_count": 114,
   "id": "7d2cca39",
   "metadata": {},
   "outputs": [
    {
     "name": "stdout",
     "output_type": "stream",
     "text": [
      "r2: 0.8568773339862024\n",
      "MAE: 18905.521357789978\n",
      "RMSE: 27536.900585672673\n"
     ]
    }
   ],
   "source": [
    "model_ridge = Ridge(max_iter=5000)\n",
    "model_ridge.fit(X_train_scaled, y_train)\n",
    "y_pred_ridge = model_ridge.predict(X_val_scaled)\n",
    "\n",
    "rmse_ridge = root_mean_squared_error(y_true=y_val, y_pred=y_pred_ridge)\n",
    "mae_ridge = mean_absolute_error(y_true=y_val, y_pred=y_pred_ridge)\n",
    "r2_ridge = r2_score(y_val,y_pred_ridge)\n",
    "\n",
    "print(f\"r2: {r2_lasso}\\nMAE: {mae_lasso}\\nRMSE: {rmse_lasso}\")"
   ]
  },
  {
   "cell_type": "markdown",
   "id": "8208c050",
   "metadata": {},
   "source": [
    "### Scores and Model Eval"
   ]
  },
  {
   "cell_type": "code",
   "execution_count": 120,
   "id": "036769cc",
   "metadata": {},
   "outputs": [],
   "source": [
    "def evaluate_model(name, y_true, y_pred):\n",
    "    return {\n",
    "        \"Model\": name,\n",
    "        \"RMSE\": root_mean_squared_error(y_true, y_pred),\n",
    "        \"MAE\": mean_absolute_error(y_true, y_pred),\n",
    "        \"R2\": r2_score(y_true, y_pred)\n",
    "    }\n",
    "\n",
    "\n",
    "results = [\n",
    "    evaluate_model(\"Ridge\", y_val, y_pred_ridge),\n",
    "    evaluate_model(\"Lasso\", y_val, y_pred_lasso),\n",
    "    evaluate_model(\"RandomForest\", y_val, y_pred_rf),\n",
    "    evaluate_model(\"XGB\", y_val, y_pred_xgb),\n",
    "    evaluate_model(\"LR\", y_val, y_pred_lr)\n",
    "]\n",
    "\n",
    "df_results = pd.DataFrame(results)\n"
   ]
  },
  {
   "cell_type": "code",
   "execution_count": 121,
   "id": "dd84b3c8",
   "metadata": {},
   "outputs": [
    {
     "data": {
      "text/html": [
       "<div>\n",
       "<style scoped>\n",
       "    .dataframe tbody tr th:only-of-type {\n",
       "        vertical-align: middle;\n",
       "    }\n",
       "\n",
       "    .dataframe tbody tr th {\n",
       "        vertical-align: top;\n",
       "    }\n",
       "\n",
       "    .dataframe thead th {\n",
       "        text-align: right;\n",
       "    }\n",
       "</style>\n",
       "<table border=\"1\" class=\"dataframe\">\n",
       "  <thead>\n",
       "    <tr style=\"text-align: right;\">\n",
       "      <th></th>\n",
       "      <th>Model</th>\n",
       "      <th>RMSE</th>\n",
       "      <th>MAE</th>\n",
       "      <th>R2</th>\n",
       "    </tr>\n",
       "  </thead>\n",
       "  <tbody>\n",
       "    <tr>\n",
       "      <th>3</th>\n",
       "      <td>XGB</td>\n",
       "      <td>23999.335938</td>\n",
       "      <td>16799.603516</td>\n",
       "      <td>0.891288</td>\n",
       "    </tr>\n",
       "    <tr>\n",
       "      <th>2</th>\n",
       "      <td>RandomForest</td>\n",
       "      <td>24361.720405</td>\n",
       "      <td>16942.772920</td>\n",
       "      <td>0.887980</td>\n",
       "    </tr>\n",
       "    <tr>\n",
       "      <th>4</th>\n",
       "      <td>LR</td>\n",
       "      <td>27532.012369</td>\n",
       "      <td>18901.650671</td>\n",
       "      <td>0.856928</td>\n",
       "    </tr>\n",
       "    <tr>\n",
       "      <th>1</th>\n",
       "      <td>Lasso</td>\n",
       "      <td>27536.900586</td>\n",
       "      <td>18905.521358</td>\n",
       "      <td>0.856877</td>\n",
       "    </tr>\n",
       "    <tr>\n",
       "      <th>0</th>\n",
       "      <td>Ridge</td>\n",
       "      <td>27541.256795</td>\n",
       "      <td>18907.784033</td>\n",
       "      <td>0.856832</td>\n",
       "    </tr>\n",
       "  </tbody>\n",
       "</table>\n",
       "</div>"
      ],
      "text/plain": [
       "          Model          RMSE           MAE        R2\n",
       "3           XGB  23999.335938  16799.603516  0.891288\n",
       "2  RandomForest  24361.720405  16942.772920  0.887980\n",
       "4            LR  27532.012369  18901.650671  0.856928\n",
       "1         Lasso  27536.900586  18905.521358  0.856877\n",
       "0         Ridge  27541.256795  18907.784033  0.856832"
      ]
     },
     "execution_count": 121,
     "metadata": {},
     "output_type": "execute_result"
    }
   ],
   "source": [
    "df_results.sort_values(by=\"R2\", ascending=False)"
   ]
  },
  {
   "cell_type": "code",
   "execution_count": 122,
   "id": "5ef5c9b8",
   "metadata": {},
   "outputs": [
    {
     "data": {
      "image/png": "[encoded data removed]",
      "text/plain": [
       "<Figure size 640x480 with 1 Axes>"
      ]
     },
     "metadata": {},
     "output_type": "display_data"
    }
   ],
   "source": [
    "sns.barplot(data=df_results.sort_values(by=\"R2\", ascending=False), x=\"Model\", y=\"R2\")\n",
    "plt.title(\"Model performance - R²\")\n",
    "plt.ylim(0.8, 1.0)\n",
    "plt.show()\n"
   ]
  },
  {
   "cell_type": "markdown",
   "id": "b7c5bb26",
   "metadata": {},
   "source": [
    "### Best model retrain and testing"
   ]
  },
  {
   "cell_type": "code",
   "execution_count": 126,
   "id": "fcd9ae8b",
   "metadata": {},
   "outputs": [
    {
     "data": {
      "text/plain": [
       "((2631, 41), (2631,))"
      ]
     },
     "execution_count": 126,
     "metadata": {},
     "output_type": "execute_result"
    }
   ],
   "source": [
    "X_full = pd.concat((X_train, X_val))\n",
    "y_full = pd.concat((y_train, y_val))\n",
    "\n",
    "X_full.shape, y_full.shape"
   ]
  },
  {
   "cell_type": "code",
   "execution_count": 131,
   "id": "0f0c5256",
   "metadata": {},
   "outputs": [],
   "source": [
    "def objective(trial):\n",
    "    params = {\n",
    "        \"n_estimators\": trial.suggest_int(\"n_estimators\", 100, 1000),\n",
    "        \"max_depth\": trial.suggest_int(\"max_depth\", 3, 10),\n",
    "        \"learning_rate\": trial.suggest_float(\"learning_rate\", 0.01, 0.3, log=True),\n",
    "        \"subsample\": trial.suggest_float(\"subsample\", 0.5, 1.0),\n",
    "        \"colsample_bytree\": trial.suggest_float(\"colsample_bytree\", 0.5, 1.0),\n",
    "        \"gamma\": trial.suggest_float(\"gamma\", 0, 5),\n",
    "        \"reg_alpha\": trial.suggest_float(\"reg_alpha\", 0, 10),\n",
    "        \"reg_lambda\": trial.suggest_float(\"reg_lambda\", 0, 10),\n",
    "        \"random_state\": 42,\n",
    "        \"n_jobs\": -1\n",
    "    }\n",
    "\n",
    "    #RMSE\n",
    "    X_train_inner, X_val_inner, y_train_inner, y_val_inner = train_test_split(\n",
    "        X_full, y_full, test_size=0.2, random_state=42\n",
    "    )\n",
    "\n",
    "    model = XGBRegressor(**params)\n",
    "    model.fit(X_train_inner, y_train_inner,\n",
    "              eval_set=[(X_val_inner, y_val_inner)],\n",
    "              verbose=False)\n",
    "    \n",
    "    y_pred = model.predict(X_val_inner)\n",
    "    rmse = root_mean_squared_error(y_val_inner, y_pred)\n",
    "    return rmse \n"
   ]
  },
  {
   "cell_type": "code",
   "execution_count": 132,
   "id": "9c5fe738",
   "metadata": {},
   "outputs": [
    {
     "name": "stderr",
     "output_type": "stream",
     "text": [
      "[I 2025-07-30 11:15:19,746] A new study created in memory with name: no-name-10ca2176-6daa-4743-ad2f-8a00ea557a3e\n",
      "Best trial: 0. Best value: 26482.6:   2%|▏         | 1/50 [00:00<00:32,  1.53it/s]"
     ]
    },
    {
     "name": "stdout",
     "output_type": "stream",
     "text": [
      "[I 2025-07-30 11:15:20,401] Trial 0 finished with value: 26482.55859375 and parameters: {'n_estimators': 776, 'max_depth': 6, 'learning_rate': 0.015604787126820353, 'subsample': 0.5179608088609569, 'colsample_bytree': 0.7843178039160656, 'gamma': 4.051886402143835, 'reg_alpha': 5.127949538551526, 'reg_lambda': 5.4022215145562065}. Best is trial 0 with value: 26482.55859375.\n"
     ]
    },
    {
     "name": "stderr",
     "output_type": "stream",
     "text": [
      "Best trial: 1. Best value: 25950.3:   4%|▍         | 2/50 [00:01<00:26,  1.80it/s]"
     ]
    },
    {
     "name": "stdout",
     "output_type": "stream",
     "text": [
      "[I 2025-07-30 11:15:20,887] Trial 1 finished with value: 25950.26953125 and parameters: {'n_estimators': 821, 'max_depth': 3, 'learning_rate': 0.1215442563019161, 'subsample': 0.9993521370628273, 'colsample_bytree': 0.5485038383362462, 'gamma': 1.3220299718162953, 'reg_alpha': 1.2511373083746957, 'reg_lambda': 0.41955830066356503}. Best is trial 1 with value: 25950.26953125.\n"
     ]
    },
    {
     "name": "stderr",
     "output_type": "stream",
     "text": [
      "Best trial: 2. Best value: 25840.9:   6%|▌         | 3/50 [00:01<00:23,  2.04it/s]"
     ]
    },
    {
     "name": "stdout",
     "output_type": "stream",
     "text": [
      "[I 2025-07-30 11:15:21,298] Trial 2 finished with value: 25840.916015625 and parameters: {'n_estimators': 586, 'max_depth': 4, 'learning_rate': 0.037700199012330786, 'subsample': 0.6849796013674265, 'colsample_bytree': 0.7863900258952008, 'gamma': 1.6567583901213783, 'reg_alpha': 7.823066034036619, 'reg_lambda': 9.08241483538847}. Best is trial 2 with value: 25840.916015625.\n"
     ]
    },
    {
     "name": "stderr",
     "output_type": "stream",
     "text": [
      "Best trial: 3. Best value: 25500.3:   8%|▊         | 4/50 [00:02<00:25,  1.83it/s]"
     ]
    },
    {
     "name": "stdout",
     "output_type": "stream",
     "text": [
      "[I 2025-07-30 11:15:21,934] Trial 3 finished with value: 25500.330078125 and parameters: {'n_estimators': 800, 'max_depth': 5, 'learning_rate': 0.03703404706688734, 'subsample': 0.6688835370258229, 'colsample_bytree': 0.88700877454114, 'gamma': 3.0838389968521245, 'reg_alpha': 6.327303559626039, 'reg_lambda': 9.703925762225447}. Best is trial 3 with value: 25500.330078125.\n"
     ]
    },
    {
     "name": "stderr",
     "output_type": "stream",
     "text": [
      "Best trial: 3. Best value: 25500.3:  10%|█         | 5/50 [00:02<00:25,  1.75it/s]"
     ]
    },
    {
     "name": "stdout",
     "output_type": "stream",
     "text": [
      "[I 2025-07-30 11:15:22,548] Trial 4 finished with value: 26704.80078125 and parameters: {'n_estimators': 293, 'max_depth': 9, 'learning_rate': 0.019183961667049082, 'subsample': 0.7794792664999763, 'colsample_bytree': 0.6938325581794528, 'gamma': 0.7893804809384369, 'reg_alpha': 3.128149494503166, 'reg_lambda': 0.02356880427425878}. Best is trial 3 with value: 25500.330078125.\n"
     ]
    },
    {
     "name": "stderr",
     "output_type": "stream",
     "text": [
      "Best trial: 3. Best value: 25500.3:  12%|█▏        | 6/50 [00:03<00:24,  1.83it/s]"
     ]
    },
    {
     "name": "stdout",
     "output_type": "stream",
     "text": [
      "[I 2025-07-30 11:15:23,048] Trial 5 finished with value: 29006.546875 and parameters: {'n_estimators': 360, 'max_depth': 8, 'learning_rate': 0.12300697925666992, 'subsample': 0.5385531259799572, 'colsample_bytree': 0.9529369516308346, 'gamma': 2.7263541458109626, 'reg_alpha': 8.51825377112222, 'reg_lambda': 0.5549433980126572}. Best is trial 3 with value: 25500.330078125.\n"
     ]
    },
    {
     "name": "stderr",
     "output_type": "stream",
     "text": [
      "Best trial: 3. Best value: 25500.3:  14%|█▍        | 7/50 [00:03<00:18,  2.28it/s]"
     ]
    },
    {
     "name": "stdout",
     "output_type": "stream",
     "text": [
      "[I 2025-07-30 11:15:23,265] Trial 6 finished with value: 25865.333984375 and parameters: {'n_estimators': 129, 'max_depth': 8, 'learning_rate': 0.04752401979119689, 'subsample': 0.8157355589780598, 'colsample_bytree': 0.9746836420570423, 'gamma': 3.07537502244581, 'reg_alpha': 4.317328628592215, 'reg_lambda': 9.152007522167882}. Best is trial 3 with value: 25500.330078125.\n"
     ]
    },
    {
     "name": "stderr",
     "output_type": "stream",
     "text": [
      "Best trial: 3. Best value: 25500.3:  16%|█▌        | 8/50 [00:03<00:15,  2.76it/s]"
     ]
    },
    {
     "name": "stdout",
     "output_type": "stream",
     "text": [
      "[I 2025-07-30 11:15:23,460] Trial 7 finished with value: 26164.845703125 and parameters: {'n_estimators': 130, 'max_depth': 4, 'learning_rate': 0.06410907711461163, 'subsample': 0.9420498277000626, 'colsample_bytree': 0.5451788280320065, 'gamma': 1.048188210123201, 'reg_alpha': 2.0367329310810103, 'reg_lambda': 8.88381994128222}. Best is trial 3 with value: 25500.330078125.\n"
     ]
    },
    {
     "name": "stderr",
     "output_type": "stream",
     "text": [
      "Best trial: 3. Best value: 25500.3:  18%|█▊        | 9/50 [00:04<00:24,  1.66it/s]"
     ]
    },
    {
     "name": "stdout",
     "output_type": "stream",
     "text": [
      "[I 2025-07-30 11:15:24,582] Trial 8 finished with value: 26814.837890625 and parameters: {'n_estimators': 617, 'max_depth': 9, 'learning_rate': 0.14066047701578305, 'subsample': 0.8043346867946279, 'colsample_bytree': 0.7822779795128558, 'gamma': 0.9776292759589184, 'reg_alpha': 7.351660103529289, 'reg_lambda': 7.77314334225986}. Best is trial 3 with value: 25500.330078125.\n"
     ]
    },
    {
     "name": "stderr",
     "output_type": "stream",
     "text": [
      "Best trial: 3. Best value: 25500.3:  20%|██        | 10/50 [00:05<00:18,  2.11it/s]"
     ]
    },
    {
     "name": "stdout",
     "output_type": "stream",
     "text": [
      "[I 2025-07-30 11:15:24,782] Trial 9 finished with value: 35689.296875 and parameters: {'n_estimators': 109, 'max_depth': 8, 'learning_rate': 0.011768042572455112, 'subsample': 0.9599412961466522, 'colsample_bytree': 0.6974245980682272, 'gamma': 1.5920730150990652, 'reg_alpha': 7.741934894143185, 'reg_lambda': 7.783130298323499}. Best is trial 3 with value: 25500.330078125.\n"
     ]
    },
    {
     "name": "stderr",
     "output_type": "stream",
     "text": [
      "Best trial: 10. Best value: 25288.7:  22%|██▏       | 11/50 [00:05<00:23,  1.67it/s]"
     ]
    },
    {
     "name": "stdout",
     "output_type": "stream",
     "text": [
      "[I 2025-07-30 11:15:25,665] Trial 10 finished with value: 25288.669921875 and parameters: {'n_estimators': 915, 'max_depth': 6, 'learning_rate': 0.02719908339375274, 'subsample': 0.6482842444690099, 'colsample_bytree': 0.8921059165383258, 'gamma': 4.985478393172784, 'reg_alpha': 5.781165563456229, 'reg_lambda': 3.7304545416706505}. Best is trial 10 with value: 25288.669921875.\n"
     ]
    },
    {
     "name": "stderr",
     "output_type": "stream",
     "text": [
      "Best trial: 10. Best value: 25288.7:  24%|██▍       | 12/50 [00:06<00:26,  1.44it/s]"
     ]
    },
    {
     "name": "stdout",
     "output_type": "stream",
     "text": [
      "[I 2025-07-30 11:15:26,583] Trial 11 finished with value: 25350.962890625 and parameters: {'n_estimators': 976, 'max_depth': 6, 'learning_rate': 0.029065152531381887, 'subsample': 0.6495750896928693, 'colsample_bytree': 0.8919483215187658, 'gamma': 4.922760311337215, 'reg_alpha': 4.698190697224872, 'reg_lambda': 3.342450511745117}. Best is trial 10 with value: 25288.669921875.\n"
     ]
    },
    {
     "name": "stderr",
     "output_type": "stream",
     "text": [
      "Best trial: 10. Best value: 25288.7:  26%|██▌       | 13/50 [00:07<00:28,  1.30it/s]"
     ]
    },
    {
     "name": "stdout",
     "output_type": "stream",
     "text": [
      "[I 2025-07-30 11:15:27,516] Trial 12 finished with value: 25534.283203125 and parameters: {'n_estimators': 979, 'max_depth': 6, 'learning_rate': 0.024445047538244394, 'subsample': 0.6406601350657926, 'colsample_bytree': 0.8816139084546262, 'gamma': 4.661054876812436, 'reg_alpha': 5.313607839757754, 'reg_lambda': 2.8757932659243295}. Best is trial 10 with value: 25288.669921875.\n"
     ]
    },
    {
     "name": "stderr",
     "output_type": "stream",
     "text": [
      "Best trial: 10. Best value: 25288.7:  28%|██▊       | 14/50 [00:08<00:29,  1.21it/s]"
     ]
    },
    {
     "name": "stdout",
     "output_type": "stream",
     "text": [
      "[I 2025-07-30 11:15:28,484] Trial 13 finished with value: 26605.314453125 and parameters: {'n_estimators': 995, 'max_depth': 6, 'learning_rate': 0.06947245410217412, 'subsample': 0.6092872966522941, 'colsample_bytree': 0.8751162715138718, 'gamma': 4.957707985761084, 'reg_alpha': 3.541860517340643, 'reg_lambda': 4.008620080921292}. Best is trial 10 with value: 25288.669921875.\n"
     ]
    },
    {
     "name": "stderr",
     "output_type": "stream",
     "text": [
      "Best trial: 10. Best value: 25288.7:  30%|███       | 15/50 [00:09<00:31,  1.12it/s]"
     ]
    },
    {
     "name": "stdout",
     "output_type": "stream",
     "text": [
      "[I 2025-07-30 11:15:29,534] Trial 14 finished with value: 25942.462890625 and parameters: {'n_estimators': 890, 'max_depth': 7, 'learning_rate': 0.027714040162998978, 'subsample': 0.7116168822882637, 'colsample_bytree': 0.9198271428056872, 'gamma': 3.874396665164625, 'reg_alpha': 9.99754685686716, 'reg_lambda': 2.462617659150011}. Best is trial 10 with value: 25288.669921875.\n"
     ]
    },
    {
     "name": "stderr",
     "output_type": "stream",
     "text": [
      "Best trial: 10. Best value: 25288.7:  32%|███▏      | 16/50 [00:10<00:27,  1.24it/s]"
     ]
    },
    {
     "name": "stdout",
     "output_type": "stream",
     "text": [
      "[I 2025-07-30 11:15:30,134] Trial 15 finished with value: 28036.09375 and parameters: {'n_estimators': 665, 'max_depth': 5, 'learning_rate': 0.2889466824935472, 'subsample': 0.5993368371396391, 'colsample_bytree': 0.8345669225248962, 'gamma': 4.0502135509864825, 'reg_alpha': 5.638940340540882, 'reg_lambda': 5.638816697975365}. Best is trial 10 with value: 25288.669921875.\n"
     ]
    },
    {
     "name": "stderr",
     "output_type": "stream",
     "text": [
      "Best trial: 10. Best value: 25288.7:  34%|███▍      | 17/50 [00:11<00:28,  1.14it/s]"
     ]
    },
    {
     "name": "stdout",
     "output_type": "stream",
     "text": [
      "[I 2025-07-30 11:15:31,168] Trial 16 finished with value: 26129.9609375 and parameters: {'n_estimators': 460, 'max_depth': 10, 'learning_rate': 0.012735133487870053, 'subsample': 0.7350086228525088, 'colsample_bytree': 0.9993692512334851, 'gamma': 4.425668814497415, 'reg_alpha': 2.5249413611393967, 'reg_lambda': 2.2637282021644536}. Best is trial 10 with value: 25288.669921875.\n"
     ]
    },
    {
     "name": "stderr",
     "output_type": "stream",
     "text": [
      "Best trial: 10. Best value: 25288.7:  36%|███▌      | 18/50 [00:12<00:27,  1.15it/s]"
     ]
    },
    {
     "name": "stdout",
     "output_type": "stream",
     "text": [
      "[I 2025-07-30 11:15:32,018] Trial 17 finished with value: 25565.796875 and parameters: {'n_estimators': 706, 'max_depth': 7, 'learning_rate': 0.023776141809181785, 'subsample': 0.866244463960502, 'colsample_bytree': 0.6927301992301762, 'gamma': 0.18442375834528724, 'reg_alpha': 6.488950923353837, 'reg_lambda': 4.227514827772402}. Best is trial 10 with value: 25288.669921875.\n"
     ]
    },
    {
     "name": "stderr",
     "output_type": "stream",
     "text": [
      "Best trial: 10. Best value: 25288.7:  38%|███▊      | 19/50 [00:13<00:25,  1.20it/s]"
     ]
    },
    {
     "name": "stdout",
     "output_type": "stream",
     "text": [
      "[I 2025-07-30 11:15:32,752] Trial 18 finished with value: 26823.5703125 and parameters: {'n_estimators': 912, 'max_depth': 5, 'learning_rate': 0.01015200800224841, 'subsample': 0.5757984431818237, 'colsample_bytree': 0.61625084522059, 'gamma': 3.498221699342733, 'reg_alpha': 4.0364398531525, 'reg_lambda': 6.045243567726187}. Best is trial 10 with value: 25288.669921875.\n"
     ]
    },
    {
     "name": "stderr",
     "output_type": "stream",
     "text": [
      "Best trial: 10. Best value: 25288.7:  40%|████      | 20/50 [00:13<00:23,  1.28it/s]"
     ]
    },
    {
     "name": "stdout",
     "output_type": "stream",
     "text": [
      "[I 2025-07-30 11:15:33,421] Trial 19 finished with value: 25959.966796875 and parameters: {'n_estimators': 881, 'max_depth': 3, 'learning_rate': 0.03543831806264644, 'subsample': 0.6510008119137379, 'colsample_bytree': 0.8487659775201811, 'gamma': 2.20307699493312, 'reg_alpha': 0.5738886349378252, 'reg_lambda': 1.682775659825496}. Best is trial 10 with value: 25288.669921875.\n"
     ]
    },
    {
     "name": "stderr",
     "output_type": "stream",
     "text": [
      "Best trial: 10. Best value: 25288.7:  42%|████▏     | 21/50 [00:14<00:24,  1.21it/s]"
     ]
    },
    {
     "name": "stdout",
     "output_type": "stream",
     "text": [
      "[I 2025-07-30 11:15:34,353] Trial 20 finished with value: 26501.74609375 and parameters: {'n_estimators': 764, 'max_depth': 7, 'learning_rate': 0.017051231281287788, 'subsample': 0.5677897415737112, 'colsample_bytree': 0.9234017916060688, 'gamma': 4.8373830894550585, 'reg_alpha': 6.270071190326131, 'reg_lambda': 3.8636816646526455}. Best is trial 10 with value: 25288.669921875.\n"
     ]
    },
    {
     "name": "stderr",
     "output_type": "stream",
     "text": [
      "Best trial: 10. Best value: 25288.7:  44%|████▍     | 22/50 [00:15<00:22,  1.24it/s]"
     ]
    },
    {
     "name": "stdout",
     "output_type": "stream",
     "text": [
      "[I 2025-07-30 11:15:35,122] Trial 21 finished with value: 25483.765625 and parameters: {'n_estimators': 836, 'max_depth': 5, 'learning_rate': 0.04315621804698556, 'subsample': 0.6856311673253579, 'colsample_bytree': 0.9119474473901066, 'gamma': 3.427176569591544, 'reg_alpha': 6.699371446660304, 'reg_lambda': 6.6606385433344}. Best is trial 10 with value: 25288.669921875.\n"
     ]
    },
    {
     "name": "stderr",
     "output_type": "stream",
     "text": [
      "Best trial: 10. Best value: 25288.7:  46%|████▌     | 23/50 [00:16<00:21,  1.28it/s]"
     ]
    },
    {
     "name": "stdout",
     "output_type": "stream",
     "text": [
      "[I 2025-07-30 11:15:35,853] Trial 22 finished with value: 25731.34765625 and parameters: {'n_estimators': 925, 'max_depth': 4, 'learning_rate': 0.07911652038780842, 'subsample': 0.7389400473679366, 'colsample_bytree': 0.926222250968713, 'gamma': 4.383690882038665, 'reg_alpha': 4.317405032584863, 'reg_lambda': 6.581433188925276}. Best is trial 10 with value: 25288.669921875.\n"
     ]
    },
    {
     "name": "stderr",
     "output_type": "stream",
     "text": [
      "Best trial: 10. Best value: 25288.7:  48%|████▊     | 24/50 [00:16<00:20,  1.27it/s]"
     ]
    },
    {
     "name": "stdout",
     "output_type": "stream",
     "text": [
      "[I 2025-07-30 11:15:36,638] Trial 23 finished with value: 25597.421875 and parameters: {'n_estimators': 852, 'max_depth': 5, 'learning_rate': 0.051404442880424936, 'subsample': 0.6276185991184264, 'colsample_bytree': 0.8240455543326402, 'gamma': 3.7153196917034084, 'reg_alpha': 8.989622108460502, 'reg_lambda': 4.799187941585115}. Best is trial 10 with value: 25288.669921875.\n"
     ]
    },
    {
     "name": "stderr",
     "output_type": "stream",
     "text": [
      "Best trial: 10. Best value: 25288.7:  50%|█████     | 25/50 [00:17<00:21,  1.15it/s]"
     ]
    },
    {
     "name": "stdout",
     "output_type": "stream",
     "text": [
      "[I 2025-07-30 11:15:37,704] Trial 24 finished with value: 25884.95703125 and parameters: {'n_estimators': 999, 'max_depth': 6, 'learning_rate': 0.02926827838607293, 'subsample': 0.6831533303290103, 'colsample_bytree': 0.7373862430382236, 'gamma': 4.394133647742191, 'reg_alpha': 6.737007638586474, 'reg_lambda': 3.2589572323801352}. Best is trial 10 with value: 25288.669921875.\n"
     ]
    },
    {
     "name": "stderr",
     "output_type": "stream",
     "text": [
      "Best trial: 10. Best value: 25288.7:  52%|█████▏    | 26/50 [00:18<00:19,  1.22it/s]"
     ]
    },
    {
     "name": "stdout",
     "output_type": "stream",
     "text": [
      "[I 2025-07-30 11:15:38,405] Trial 25 finished with value: 26283.884765625 and parameters: {'n_estimators': 715, 'max_depth': 5, 'learning_rate': 0.09429985372355064, 'subsample': 0.6985940860542914, 'colsample_bytree': 0.9599246515477692, 'gamma': 3.348097145033133, 'reg_alpha': 4.842917416767429, 'reg_lambda': 7.36241775886452}. Best is trial 10 with value: 25288.669921875.\n"
     ]
    },
    {
     "name": "stderr",
     "output_type": "stream",
     "text": [
      "Best trial: 10. Best value: 25288.7:  54%|█████▍    | 27/50 [00:19<00:21,  1.08it/s]"
     ]
    },
    {
     "name": "stdout",
     "output_type": "stream",
     "text": [
      "[I 2025-07-30 11:15:39,586] Trial 26 finished with value: 26019.49609375 and parameters: {'n_estimators': 930, 'max_depth': 7, 'learning_rate': 0.049170319543168146, 'subsample': 0.7772299012613031, 'colsample_bytree': 0.8920381995462229, 'gamma': 2.264317123224697, 'reg_alpha': 5.720515129288363, 'reg_lambda': 6.672749566735394}. Best is trial 10 with value: 25288.669921875.\n"
     ]
    },
    {
     "name": "stderr",
     "output_type": "stream",
     "text": [
      "Best trial: 10. Best value: 25288.7:  56%|█████▌    | 28/50 [00:20<00:17,  1.28it/s]"
     ]
    },
    {
     "name": "stdout",
     "output_type": "stream",
     "text": [
      "[I 2025-07-30 11:15:40,033] Trial 27 finished with value: 26056.91015625 and parameters: {'n_estimators': 489, 'max_depth': 4, 'learning_rate': 0.02143746675434776, 'subsample': 0.5630834831923088, 'colsample_bytree': 0.84228034896875, 'gamma': 4.994428998107918, 'reg_alpha': 7.168666002532502, 'reg_lambda': 1.385941118847417}. Best is trial 10 with value: 25288.669921875.\n"
     ]
    },
    {
     "name": "stderr",
     "output_type": "stream",
     "text": [
      "Best trial: 10. Best value: 25288.7:  58%|█████▊    | 29/50 [00:21<00:17,  1.23it/s]"
     ]
    },
    {
     "name": "stdout",
     "output_type": "stream",
     "text": [
      "[I 2025-07-30 11:15:40,923] Trial 28 finished with value: 25568.5078125 and parameters: {'n_estimators': 832, 'max_depth': 6, 'learning_rate': 0.0332732553237591, 'subsample': 0.871535092373266, 'colsample_bytree': 0.8052524763036543, 'gamma': 4.517737454265027, 'reg_alpha': 8.375084197215694, 'reg_lambda': 5.023480487228507}. Best is trial 10 with value: 25288.669921875.\n"
     ]
    },
    {
     "name": "stderr",
     "output_type": "stream",
     "text": [
      "Best trial: 10. Best value: 25288.7:  60%|██████    | 30/50 [00:22<00:16,  1.22it/s]"
     ]
    },
    {
     "name": "stdout",
     "output_type": "stream",
     "text": [
      "[I 2025-07-30 11:15:41,755] Trial 29 finished with value: 25869.80859375 and parameters: {'n_estimators': 772, 'max_depth': 6, 'learning_rate': 0.014222038800501482, 'subsample': 0.7178575080622278, 'colsample_bytree': 0.7547910331694057, 'gamma': 4.13759377452772, 'reg_alpha': 4.975572231400524, 'reg_lambda': 3.267063608991532}. Best is trial 10 with value: 25288.669921875.\n"
     ]
    },
    {
     "name": "stderr",
     "output_type": "stream",
     "text": [
      "Best trial: 10. Best value: 25288.7:  62%|██████▏   | 31/50 [00:22<00:14,  1.27it/s]"
     ]
    },
    {
     "name": "stdout",
     "output_type": "stream",
     "text": [
      "[I 2025-07-30 11:15:42,441] Trial 30 finished with value: 26191.48046875 and parameters: {'n_estimators': 724, 'max_depth': 5, 'learning_rate': 0.042851450607565816, 'subsample': 0.5076623610622719, 'colsample_bytree': 0.9264937707540106, 'gamma': 2.7058193810860787, 'reg_alpha': 5.859586564891129, 'reg_lambda': 4.924798050516724}. Best is trial 10 with value: 25288.669921875.\n"
     ]
    },
    {
     "name": "stderr",
     "output_type": "stream",
     "text": [
      "Best trial: 10. Best value: 25288.7:  64%|██████▍   | 32/50 [00:23<00:14,  1.25it/s]"
     ]
    },
    {
     "name": "stdout",
     "output_type": "stream",
     "text": [
      "[I 2025-07-30 11:15:43,289] Trial 31 finished with value: 25328.83203125 and parameters: {'n_estimators': 807, 'max_depth': 5, 'learning_rate': 0.03895682597606068, 'subsample': 0.6612817594669388, 'colsample_bytree': 0.880625243762688, 'gamma': 3.183209242700942, 'reg_alpha': 6.434431604049324, 'reg_lambda': 9.754453529671881}. Best is trial 10 with value: 25288.669921875.\n"
     ]
    },
    {
     "name": "stderr",
     "output_type": "stream",
     "text": [
      "Best trial: 10. Best value: 25288.7:  66%|██████▌   | 33/50 [00:24<00:14,  1.15it/s]"
     ]
    },
    {
     "name": "stdout",
     "output_type": "stream",
     "text": [
      "[I 2025-07-30 11:15:44,307] Trial 32 finished with value: 25515.640625 and parameters: {'n_estimators': 952, 'max_depth': 6, 'learning_rate': 0.028485167444039037, 'subsample': 0.6149783308532681, 'colsample_bytree': 0.8623062102421823, 'gamma': 3.6028857295153927, 'reg_alpha': 6.727413459215931, 'reg_lambda': 8.212969383148558}. Best is trial 10 with value: 25288.669921875.\n"
     ]
    },
    {
     "name": "stderr",
     "output_type": "stream",
     "text": [
      "Best trial: 10. Best value: 25288.7:  68%|██████▊   | 34/50 [00:25<00:13,  1.21it/s]"
     ]
    },
    {
     "name": "stdout",
     "output_type": "stream",
     "text": [
      "[I 2025-07-30 11:15:45,040] Trial 33 finished with value: 25790.484375 and parameters: {'n_estimators': 849, 'max_depth': 4, 'learning_rate': 0.061048232902502816, 'subsample': 0.6590860878726117, 'colsample_bytree': 0.9034884529797862, 'gamma': 3.1159509585745657, 'reg_alpha': 4.7889064151243215, 'reg_lambda': 9.808454071234106}. Best is trial 10 with value: 25288.669921875.\n"
     ]
    },
    {
     "name": "stderr",
     "output_type": "stream",
     "text": [
      "Best trial: 10. Best value: 25288.7:  70%|███████   | 35/50 [00:25<00:11,  1.31it/s]"
     ]
    },
    {
     "name": "stdout",
     "output_type": "stream",
     "text": [
      "[I 2025-07-30 11:15:45,656] Trial 34 finished with value: 25415.701171875 and parameters: {'n_estimators': 803, 'max_depth': 3, 'learning_rate': 0.043354252072717585, 'subsample': 0.6716769179188726, 'colsample_bytree': 0.9910159240219435, 'gamma': 4.146113252528664, 'reg_alpha': 7.4548138054229325, 'reg_lambda': 6.123545179445439}. Best is trial 10 with value: 25288.669921875.\n"
     ]
    },
    {
     "name": "stderr",
     "output_type": "stream",
     "text": [
      "Best trial: 10. Best value: 25288.7:  72%|███████▏  | 36/50 [00:26<00:09,  1.41it/s]"
     ]
    },
    {
     "name": "stdout",
     "output_type": "stream",
     "text": [
      "[I 2025-07-30 11:15:46,242] Trial 35 finished with value: 25600.00390625 and parameters: {'n_estimators': 652, 'max_depth': 4, 'learning_rate': 0.020277194519992145, 'subsample': 0.5947251601606611, 'colsample_bytree': 0.9954185134440467, 'gamma': 4.132157958904636, 'reg_alpha': 7.567411768868697, 'reg_lambda': 4.2793314239186495}. Best is trial 10 with value: 25288.669921875.\n"
     ]
    },
    {
     "name": "stderr",
     "output_type": "stream",
     "text": [
      "Best trial: 10. Best value: 25288.7:  74%|███████▍  | 37/50 [00:26<00:08,  1.58it/s]"
     ]
    },
    {
     "name": "stdout",
     "output_type": "stream",
     "text": [
      "[I 2025-07-30 11:15:46,694] Trial 36 finished with value: 25914.646484375 and parameters: {'n_estimators': 549, 'max_depth': 3, 'learning_rate': 0.038121065341335386, 'subsample': 0.6557011771138042, 'colsample_bytree': 0.9523413737065558, 'gamma': 4.750360787257343, 'reg_alpha': 8.249410730738582, 'reg_lambda': 3.349421949862338}. Best is trial 10 with value: 25288.669921875.\n"
     ]
    },
    {
     "name": "stderr",
     "output_type": "stream",
     "text": [
      "Best trial: 10. Best value: 25288.7:  76%|███████▌  | 38/50 [00:27<00:07,  1.60it/s]"
     ]
    },
    {
     "name": "stdout",
     "output_type": "stream",
     "text": [
      "[I 2025-07-30 11:15:47,308] Trial 37 finished with value: 26987.5 and parameters: {'n_estimators': 782, 'max_depth': 3, 'learning_rate': 0.0175742409272664, 'subsample': 0.529049662284641, 'colsample_bytree': 0.9512767015938296, 'gamma': 3.919005405943141, 'reg_alpha': 9.448595620932533, 'reg_lambda': 5.840714538099364}. Best is trial 10 with value: 25288.669921875.\n"
     ]
    },
    {
     "name": "stderr",
     "output_type": "stream",
     "text": [
      "Best trial: 10. Best value: 25288.7:  78%|███████▊  | 39/50 [00:28<00:08,  1.25it/s]"
     ]
    },
    {
     "name": "stdout",
     "output_type": "stream",
     "text": [
      "[I 2025-07-30 11:15:48,505] Trial 38 finished with value: 25764.26171875 and parameters: {'n_estimators': 886, 'max_depth': 7, 'learning_rate': 0.03291339158338876, 'subsample': 0.768040252340631, 'colsample_bytree': 0.8074333666218095, 'gamma': 4.247057886272338, 'reg_alpha': 3.5151364028949588, 'reg_lambda': 1.08205588400285}. Best is trial 10 with value: 25288.669921875.\n"
     ]
    },
    {
     "name": "stderr",
     "output_type": "stream",
     "text": [
      "Best trial: 10. Best value: 25288.7:  80%|████████  | 40/50 [00:29<00:06,  1.46it/s]"
     ]
    },
    {
     "name": "stdout",
     "output_type": "stream",
     "text": [
      "[I 2025-07-30 11:15:48,930] Trial 39 finished with value: 26535.478515625 and parameters: {'n_estimators': 245, 'max_depth': 8, 'learning_rate': 0.05505569674622359, 'subsample': 0.6713626934268367, 'colsample_bytree': 0.6219544989773195, 'gamma': 4.693573440471865, 'reg_alpha': 6.006234997491958, 'reg_lambda': 8.754862848570562}. Best is trial 10 with value: 25288.669921875.\n"
     ]
    },
    {
     "name": "stderr",
     "output_type": "stream",
     "text": [
      "Best trial: 10. Best value: 25288.7:  82%|████████▏ | 41/50 [00:29<00:06,  1.48it/s]"
     ]
    },
    {
     "name": "stdout",
     "output_type": "stream",
     "text": [
      "[I 2025-07-30 11:15:49,589] Trial 40 finished with value: 26321.4921875 and parameters: {'n_estimators': 802, 'max_depth': 3, 'learning_rate': 0.024593651238384234, 'subsample': 0.5443439753233213, 'colsample_bytree': 0.9725765104744813, 'gamma': 3.7850537783071854, 'reg_alpha': 7.00933692541223, 'reg_lambda': 2.093991194163558}. Best is trial 10 with value: 25288.669921875.\n"
     ]
    },
    {
     "name": "stderr",
     "output_type": "stream",
     "text": [
      "Best trial: 10. Best value: 25288.7:  84%|████████▍ | 42/50 [00:30<00:06,  1.30it/s]"
     ]
    },
    {
     "name": "stdout",
     "output_type": "stream",
     "text": [
      "[I 2025-07-30 11:15:50,576] Trial 41 finished with value: 25300.484375 and parameters: {'n_estimators': 949, 'max_depth': 5, 'learning_rate': 0.04311602496129073, 'subsample': 0.6999119183170672, 'colsample_bytree': 0.8868912667970702, 'gamma': 3.3487960373120313, 'reg_alpha': 5.374525611727205, 'reg_lambda': 6.664586201774753}. Best is trial 10 with value: 25288.669921875.\n"
     ]
    },
    {
     "name": "stderr",
     "output_type": "stream",
     "text": [
      "Best trial: 10. Best value: 25288.7:  86%|████████▌ | 43/50 [00:31<00:05,  1.18it/s]"
     ]
    },
    {
     "name": "stdout",
     "output_type": "stream",
     "text": [
      "[I 2025-07-30 11:15:51,594] Trial 42 finished with value: 25445.48828125 and parameters: {'n_estimators': 959, 'max_depth': 5, 'learning_rate': 0.04449471968598937, 'subsample': 0.6365193498597919, 'colsample_bytree': 0.854792441853098, 'gamma': 3.1321193406486536, 'reg_alpha': 5.508357176006095, 'reg_lambda': 7.216647514669316}. Best is trial 10 with value: 25288.669921875.\n"
     ]
    },
    {
     "name": "stderr",
     "output_type": "stream",
     "text": [
      "Best trial: 10. Best value: 25288.7:  88%|████████▊ | 44/50 [00:32<00:05,  1.08it/s]"
     ]
    },
    {
     "name": "stdout",
     "output_type": "stream",
     "text": [
      "[I 2025-07-30 11:15:52,713] Trial 43 finished with value: 25596.205078125 and parameters: {'n_estimators': 937, 'max_depth': 6, 'learning_rate': 0.03820571193355364, 'subsample': 0.7241601406780651, 'colsample_bytree': 0.8859739655707064, 'gamma': 2.7215479934707596, 'reg_alpha': 4.605605165353398, 'reg_lambda': 5.218917955754996}. Best is trial 10 with value: 25288.669921875.\n"
     ]
    },
    {
     "name": "stderr",
     "output_type": "stream",
     "text": [
      "Best trial: 10. Best value: 25288.7:  90%|█████████ | 45/50 [00:33<00:04,  1.12it/s]"
     ]
    },
    {
     "name": "stdout",
     "output_type": "stream",
     "text": [
      "[I 2025-07-30 11:15:53,528] Trial 44 finished with value: 25800.8671875 and parameters: {'n_estimators': 869, 'max_depth': 4, 'learning_rate': 0.0910664695028705, 'subsample': 0.7572091387799242, 'colsample_bytree': 0.9457338942369711, 'gamma': 2.437740830973448, 'reg_alpha': 6.159298933730289, 'reg_lambda': 6.153608820460653}. Best is trial 10 with value: 25288.669921875.\n"
     ]
    },
    {
     "name": "stderr",
     "output_type": "stream",
     "text": [
      "Best trial: 10. Best value: 25288.7:  92%|█████████▏| 46/50 [00:34<00:03,  1.18it/s]"
     ]
    },
    {
     "name": "stdout",
     "output_type": "stream",
     "text": [
      "[I 2025-07-30 11:15:54,260] Trial 45 finished with value: 25536.923828125 and parameters: {'n_estimators': 747, 'max_depth': 5, 'learning_rate': 0.028974342328383616, 'subsample': 0.700139498989841, 'colsample_bytree': 0.7665461062537966, 'gamma': 4.62544529397165, 'reg_alpha': 5.240413660560988, 'reg_lambda': 4.613887227059829}. Best is trial 10 with value: 25288.669921875.\n"
     ]
    },
    {
     "name": "stderr",
     "output_type": "stream",
     "text": [
      "Best trial: 10. Best value: 25288.7:  94%|█████████▍| 47/50 [00:35<00:02,  1.15it/s]"
     ]
    },
    {
     "name": "stdout",
     "output_type": "stream",
     "text": [
      "[I 2025-07-30 11:15:55,178] Trial 46 finished with value: 26027.427734375 and parameters: {'n_estimators': 808, 'max_depth': 6, 'learning_rate': 0.057237960536438655, 'subsample': 0.6713268027069162, 'colsample_bytree': 0.8654838475966419, 'gamma': 2.970316098545012, 'reg_alpha': 7.995917711194782, 'reg_lambda': 9.268152692620722}. Best is trial 10 with value: 25288.669921875.\n"
     ]
    },
    {
     "name": "stderr",
     "output_type": "stream",
     "text": [
      "Best trial: 10. Best value: 25288.7:  96%|█████████▌| 48/50 [00:36<00:01,  1.17it/s]"
     ]
    },
    {
     "name": "stdout",
     "output_type": "stream",
     "text": [
      "[I 2025-07-30 11:15:55,995] Trial 47 finished with value: 27404.876953125 and parameters: {'n_estimators': 968, 'max_depth': 4, 'learning_rate': 0.2115550457625738, 'subsample': 0.627052916519174, 'colsample_bytree': 0.5202707962162869, 'gamma': 1.8186718258116148, 'reg_alpha': 2.620209375942762, 'reg_lambda': 8.420365902434948}. Best is trial 10 with value: 25288.669921875.\n"
     ]
    },
    {
     "name": "stderr",
     "output_type": "stream",
     "text": [
      "Best trial: 10. Best value: 25288.7:  98%|█████████▊| 49/50 [00:37<00:00,  1.02it/s]"
     ]
    },
    {
     "name": "stdout",
     "output_type": "stream",
     "text": [
      "[I 2025-07-30 11:15:57,263] Trial 48 finished with value: 25942.4765625 and parameters: {'n_estimators': 906, 'max_depth': 7, 'learning_rate': 0.07131416148270031, 'subsample': 0.8044112112363303, 'colsample_bytree': 0.8096195721070149, 'gamma': 3.298741123023098, 'reg_alpha': 3.8050679835792427, 'reg_lambda': 3.6896981495155208}. Best is trial 10 with value: 25288.669921875.\n"
     ]
    },
    {
     "name": "stderr",
     "output_type": "stream",
     "text": [
      "Best trial: 10. Best value: 25288.7: 100%|██████████| 50/50 [00:38<00:00,  1.29it/s]"
     ]
    },
    {
     "name": "stdout",
     "output_type": "stream",
     "text": [
      "[I 2025-07-30 11:15:58,513] Trial 49 finished with value: 26093.998046875 and parameters: {'n_estimators': 685, 'max_depth': 9, 'learning_rate': 0.025278748405166585, 'subsample': 0.5881065755926517, 'colsample_bytree': 0.9833601383103925, 'gamma': 3.911937421223194, 'reg_alpha': 4.3332297368580335, 'reg_lambda': 5.431052912464292}. Best is trial 10 with value: 25288.669921875.\n"
     ]
    },
    {
     "name": "stderr",
     "output_type": "stream",
     "text": [
      "\n"
     ]
    }
   ],
   "source": [
    "study = optuna.create_study(direction=\"minimize\")\n",
    "study.optimize(objective, n_trials=50, show_progress_bar=True)\n"
   ]
  },
  {
   "cell_type": "code",
   "execution_count": 133,
   "id": "a17c3905",
   "metadata": {},
   "outputs": [
    {
     "data": {
      "text/html": [
       "<style>#sk-container-id-1 {\n",
       "  /* Definition of color scheme common for light and dark mode */\n",
       "  --sklearn-color-text: #000;\n",
       "  --sklearn-color-text-muted: #666;\n",
       "  --sklearn-color-line: gray;\n",
       "  /* Definition of color scheme for unfitted estimators */\n",
       "  --sklearn-color-unfitted-level-0: #fff5e6;\n",
       "  --sklearn-color-unfitted-level-1: #f6e4d2;\n",
       "  --sklearn-color-unfitted-level-2: #ffe0b3;\n",
       "  --sklearn-color-unfitted-level-3: chocolate;\n",
       "  /* Definition of color scheme for fitted estimators */\n",
       "  --sklearn-color-fitted-level-0: #f0f8ff;\n",
       "  --sklearn-color-fitted-level-1: #d4ebff;\n",
       "  --sklearn-color-fitted-level-2: #b3dbfd;\n",
       "  --sklearn-color-fitted-level-3: cornflowerblue;\n",
       "\n",
       "  /* Specific color for light theme */\n",
       "  --sklearn-color-text-on-default-background: var(--sg-text-color, var(--theme-code-foreground, var(--jp-content-font-color1, black)));\n",
       "  --sklearn-color-background: var(--sg-background-color, var(--theme-background, var(--jp-layout-color0, white)));\n",
       "  --sklearn-color-border-box: var(--sg-text-color, var(--theme-code-foreground, var(--jp-content-font-color1, black)));\n",
       "  --sklearn-color-icon: #696969;\n",
       "\n",
       "  @media (prefers-color-scheme: dark) {\n",
       "    /* Redefinition of color scheme for dark theme */\n",
       "    --sklearn-color-text-on-default-background: var(--sg-text-color, var(--theme-code-foreground, var(--jp-content-font-color1, white)));\n",
       "    --sklearn-color-background: var(--sg-background-color, var(--theme-background, var(--jp-layout-color0, #111)));\n",
       "    --sklearn-color-border-box: var(--sg-text-color, var(--theme-code-foreground, var(--jp-content-font-color1, white)));\n",
       "    --sklearn-color-icon: #878787;\n",
       "  }\n",
       "}\n",
       "\n",
       "#sk-container-id-1 {\n",
       "  color: var(--sklearn-color-text);\n",
       "}\n",
       "\n",
       "#sk-container-id-1 pre {\n",
       "  padding: 0;\n",
       "}\n",
       "\n",
       "#sk-container-id-1 input.sk-hidden--visually {\n",
       "  border: 0;\n",
       "  clip: rect(1px 1px 1px 1px);\n",
       "  clip: rect(1px, 1px, 1px, 1px);\n",
       "  height: 1px;\n",
       "  margin: -1px;\n",
       "  overflow: hidden;\n",
       "  padding: 0;\n",
       "  position: absolute;\n",
       "  width: 1px;\n",
       "}\n",
       "\n",
       "#sk-container-id-1 div.sk-dashed-wrapped {\n",
       "  border: 1px dashed var(--sklearn-color-line);\n",
       "  margin: 0 0.4em 0.5em 0.4em;\n",
       "  box-sizing: border-box;\n",
       "  padding-bottom: 0.4em;\n",
       "  background-color: var(--sklearn-color-background);\n",
       "}\n",
       "\n",
       "#sk-container-id-1 div.sk-container {\n",
       "  /* jupyter's `normalize.less` sets `[hidden] { display: none; }`\n",
       "     but bootstrap.min.css set `[hidden] { display: none !important; }`\n",
       "     so we also need the `!important` here to be able to override the\n",
       "     default hidden behavior on the sphinx rendered scikit-learn.org.\n",
       "     See: https://github.com/scikit-learn/scikit-learn/issues/21755 */\n",
       "  display: inline-block !important;\n",
       "  position: relative;\n",
       "}\n",
       "\n",
       "#sk-container-id-1 div.sk-text-repr-fallback {\n",
       "  display: none;\n",
       "}\n",
       "\n",
       "div.sk-parallel-item,\n",
       "div.sk-serial,\n",
       "div.sk-item {\n",
       "  /* draw centered vertical line to link estimators */\n",
       "  background-image: linear-gradient(var(--sklearn-color-text-on-default-background), var(--sklearn-color-text-on-default-background));\n",
       "  background-size: 2px 100%;\n",
       "  background-repeat: no-repeat;\n",
       "  background-position: center center;\n",
       "}\n",
       "\n",
       "/* Parallel-specific style estimator block */\n",
       "\n",
       "#sk-container-id-1 div.sk-parallel-item::after {\n",
       "  content: \"\";\n",
       "  width: 100%;\n",
       "  border-bottom: 2px solid var(--sklearn-color-text-on-default-background);\n",
       "  flex-grow: 1;\n",
       "}\n",
       "\n",
       "#sk-container-id-1 div.sk-parallel {\n",
       "  display: flex;\n",
       "  align-items: stretch;\n",
       "  justify-content: center;\n",
       "  background-color: var(--sklearn-color-background);\n",
       "  position: relative;\n",
       "}\n",
       "\n",
       "#sk-container-id-1 div.sk-parallel-item {\n",
       "  display: flex;\n",
       "  flex-direction: column;\n",
       "}\n",
       "\n",
       "#sk-container-id-1 div.sk-parallel-item:first-child::after {\n",
       "  align-self: flex-end;\n",
       "  width: 50%;\n",
       "}\n",
       "\n",
       "#sk-container-id-1 div.sk-parallel-item:last-child::after {\n",
       "  align-self: flex-start;\n",
       "  width: 50%;\n",
       "}\n",
       "\n",
       "#sk-container-id-1 div.sk-parallel-item:only-child::after {\n",
       "  width: 0;\n",
       "}\n",
       "\n",
       "/* Serial-specific style estimator block */\n",
       "\n",
       "#sk-container-id-1 div.sk-serial {\n",
       "  display: flex;\n",
       "  flex-direction: column;\n",
       "  align-items: center;\n",
       "  background-color: var(--sklearn-color-background);\n",
       "  padding-right: 1em;\n",
       "  padding-left: 1em;\n",
       "}\n",
       "\n",
       "\n",
       "/* Toggleable style: style used for estimator/Pipeline/ColumnTransformer box that is\n",
       "clickable and can be expanded/collapsed.\n",
       "- Pipeline and ColumnTransformer use this feature and define the default style\n",
       "- Estimators will overwrite some part of the style using the `sk-estimator` class\n",
       "*/\n",
       "\n",
       "/* Pipeline and ColumnTransformer style (default) */\n",
       "\n",
       "#sk-container-id-1 div.sk-toggleable {\n",
       "  /* Default theme specific background. It is overwritten whether we have a\n",
       "  specific estimator or a Pipeline/ColumnTransformer */\n",
       "  background-color: var(--sklearn-color-background);\n",
       "}\n",
       "\n",
       "/* Toggleable label */\n",
       "#sk-container-id-1 label.sk-toggleable__label {\n",
       "  cursor: pointer;\n",
       "  display: flex;\n",
       "  width: 100%;\n",
       "  margin-bottom: 0;\n",
       "  padding: 0.5em;\n",
       "  box-sizing: border-box;\n",
       "  text-align: center;\n",
       "  align-items: start;\n",
       "  justify-content: space-between;\n",
       "  gap: 0.5em;\n",
       "}\n",
       "\n",
       "#sk-container-id-1 label.sk-toggleable__label .caption {\n",
       "  font-size: 0.6rem;\n",
       "  font-weight: lighter;\n",
       "  color: var(--sklearn-color-text-muted);\n",
       "}\n",
       "\n",
       "#sk-container-id-1 label.sk-toggleable__label-arrow:before {\n",
       "  /* Arrow on the left of the label */\n",
       "  content: \"▸\";\n",
       "  float: left;\n",
       "  margin-right: 0.25em;\n",
       "  color: var(--sklearn-color-icon);\n",
       "}\n",
       "\n",
       "#sk-container-id-1 label.sk-toggleable__label-arrow:hover:before {\n",
       "  color: var(--sklearn-color-text);\n",
       "}\n",
       "\n",
       "/* Toggleable content - dropdown */\n",
       "\n",
       "#sk-container-id-1 div.sk-toggleable__content {\n",
       "  max-height: 0;\n",
       "  max-width: 0;\n",
       "  overflow: hidden;\n",
       "  text-align: left;\n",
       "  /* unfitted */\n",
       "  background-color: var(--sklearn-color-unfitted-level-0);\n",
       "}\n",
       "\n",
       "#sk-container-id-1 div.sk-toggleable__content.fitted {\n",
       "  /* fitted */\n",
       "  background-color: var(--sklearn-color-fitted-level-0);\n",
       "}\n",
       "\n",
       "#sk-container-id-1 div.sk-toggleable__content pre {\n",
       "  margin: 0.2em;\n",
       "  border-radius: 0.25em;\n",
       "  color: var(--sklearn-color-text);\n",
       "  /* unfitted */\n",
       "  background-color: var(--sklearn-color-unfitted-level-0);\n",
       "}\n",
       "\n",
       "#sk-container-id-1 div.sk-toggleable__content.fitted pre {\n",
       "  /* unfitted */\n",
       "  background-color: var(--sklearn-color-fitted-level-0);\n",
       "}\n",
       "\n",
       "#sk-container-id-1 input.sk-toggleable__control:checked~div.sk-toggleable__content {\n",
       "  /* Expand drop-down */\n",
       "  max-height: 200px;\n",
       "  max-width: 100%;\n",
       "  overflow: auto;\n",
       "}\n",
       "\n",
       "#sk-container-id-1 input.sk-toggleable__control:checked~label.sk-toggleable__label-arrow:before {\n",
       "  content: \"▾\";\n",
       "}\n",
       "\n",
       "/* Pipeline/ColumnTransformer-specific style */\n",
       "\n",
       "#sk-container-id-1 div.sk-label input.sk-toggleable__control:checked~label.sk-toggleable__label {\n",
       "  color: var(--sklearn-color-text);\n",
       "  background-color: var(--sklearn-color-unfitted-level-2);\n",
       "}\n",
       "\n",
       "#sk-container-id-1 div.sk-label.fitted input.sk-toggleable__control:checked~label.sk-toggleable__label {\n",
       "  background-color: var(--sklearn-color-fitted-level-2);\n",
       "}\n",
       "\n",
       "/* Estimator-specific style */\n",
       "\n",
       "/* Colorize estimator box */\n",
       "#sk-container-id-1 div.sk-estimator input.sk-toggleable__control:checked~label.sk-toggleable__label {\n",
       "  /* unfitted */\n",
       "  background-color: var(--sklearn-color-unfitted-level-2);\n",
       "}\n",
       "\n",
       "#sk-container-id-1 div.sk-estimator.fitted input.sk-toggleable__control:checked~label.sk-toggleable__label {\n",
       "  /* fitted */\n",
       "  background-color: var(--sklearn-color-fitted-level-2);\n",
       "}\n",
       "\n",
       "#sk-container-id-1 div.sk-label label.sk-toggleable__label,\n",
       "#sk-container-id-1 div.sk-label label {\n",
       "  /* The background is the default theme color */\n",
       "  color: var(--sklearn-color-text-on-default-background);\n",
       "}\n",
       "\n",
       "/* On hover, darken the color of the background */\n",
       "#sk-container-id-1 div.sk-label:hover label.sk-toggleable__label {\n",
       "  color: var(--sklearn-color-text);\n",
       "  background-color: var(--sklearn-color-unfitted-level-2);\n",
       "}\n",
       "\n",
       "/* Label box, darken color on hover, fitted */\n",
       "#sk-container-id-1 div.sk-label.fitted:hover label.sk-toggleable__label.fitted {\n",
       "  color: var(--sklearn-color-text);\n",
       "  background-color: var(--sklearn-color-fitted-level-2);\n",
       "}\n",
       "\n",
       "/* Estimator label */\n",
       "\n",
       "#sk-container-id-1 div.sk-label label {\n",
       "  font-family: monospace;\n",
       "  font-weight: bold;\n",
       "  display: inline-block;\n",
       "  line-height: 1.2em;\n",
       "}\n",
       "\n",
       "#sk-container-id-1 div.sk-label-container {\n",
       "  text-align: center;\n",
       "}\n",
       "\n",
       "/* Estimator-specific */\n",
       "#sk-container-id-1 div.sk-estimator {\n",
       "  font-family: monospace;\n",
       "  border: 1px dotted var(--sklearn-color-border-box);\n",
       "  border-radius: 0.25em;\n",
       "  box-sizing: border-box;\n",
       "  margin-bottom: 0.5em;\n",
       "  /* unfitted */\n",
       "  background-color: var(--sklearn-color-unfitted-level-0);\n",
       "}\n",
       "\n",
       "#sk-container-id-1 div.sk-estimator.fitted {\n",
       "  /* fitted */\n",
       "  background-color: var(--sklearn-color-fitted-level-0);\n",
       "}\n",
       "\n",
       "/* on hover */\n",
       "#sk-container-id-1 div.sk-estimator:hover {\n",
       "  /* unfitted */\n",
       "  background-color: var(--sklearn-color-unfitted-level-2);\n",
       "}\n",
       "\n",
       "#sk-container-id-1 div.sk-estimator.fitted:hover {\n",
       "  /* fitted */\n",
       "  background-color: var(--sklearn-color-fitted-level-2);\n",
       "}\n",
       "\n",
       "/* Specification for estimator info (e.g. \"i\" and \"?\") */\n",
       "\n",
       "/* Common style for \"i\" and \"?\" */\n",
       "\n",
       ".sk-estimator-doc-link,\n",
       "a:link.sk-estimator-doc-link,\n",
       "a:visited.sk-estimator-doc-link {\n",
       "  float: right;\n",
       "  font-size: smaller;\n",
       "  line-height: 1em;\n",
       "  font-family: monospace;\n",
       "  background-color: var(--sklearn-color-background);\n",
       "  border-radius: 1em;\n",
       "  height: 1em;\n",
       "  width: 1em;\n",
       "  text-decoration: none !important;\n",
       "  margin-left: 0.5em;\n",
       "  text-align: center;\n",
       "  /* unfitted */\n",
       "  border: var(--sklearn-color-unfitted-level-1) 1pt solid;\n",
       "  color: var(--sklearn-color-unfitted-level-1);\n",
       "}\n",
       "\n",
       ".sk-estimator-doc-link.fitted,\n",
       "a:link.sk-estimator-doc-link.fitted,\n",
       "a:visited.sk-estimator-doc-link.fitted {\n",
       "  /* fitted */\n",
       "  border: var(--sklearn-color-fitted-level-1) 1pt solid;\n",
       "  color: var(--sklearn-color-fitted-level-1);\n",
       "}\n",
       "\n",
       "/* On hover */\n",
       "div.sk-estimator:hover .sk-estimator-doc-link:hover,\n",
       ".sk-estimator-doc-link:hover,\n",
       "div.sk-label-container:hover .sk-estimator-doc-link:hover,\n",
       ".sk-estimator-doc-link:hover {\n",
       "  /* unfitted */\n",
       "  background-color: var(--sklearn-color-unfitted-level-3);\n",
       "  color: var(--sklearn-color-background);\n",
       "  text-decoration: none;\n",
       "}\n",
       "\n",
       "div.sk-estimator.fitted:hover .sk-estimator-doc-link.fitted:hover,\n",
       ".sk-estimator-doc-link.fitted:hover,\n",
       "div.sk-label-container:hover .sk-estimator-doc-link.fitted:hover,\n",
       ".sk-estimator-doc-link.fitted:hover {\n",
       "  /* fitted */\n",
       "  background-color: var(--sklearn-color-fitted-level-3);\n",
       "  color: var(--sklearn-color-background);\n",
       "  text-decoration: none;\n",
       "}\n",
       "\n",
       "/* Span, style for the box shown on hovering the info icon */\n",
       ".sk-estimator-doc-link span {\n",
       "  display: none;\n",
       "  z-index: 9999;\n",
       "  position: relative;\n",
       "  font-weight: normal;\n",
       "  right: .2ex;\n",
       "  padding: .5ex;\n",
       "  margin: .5ex;\n",
       "  width: min-content;\n",
       "  min-width: 20ex;\n",
       "  max-width: 50ex;\n",
       "  color: var(--sklearn-color-text);\n",
       "  box-shadow: 2pt 2pt 4pt #999;\n",
       "  /* unfitted */\n",
       "  background: var(--sklearn-color-unfitted-level-0);\n",
       "  border: .5pt solid var(--sklearn-color-unfitted-level-3);\n",
       "}\n",
       "\n",
       ".sk-estimator-doc-link.fitted span {\n",
       "  /* fitted */\n",
       "  background: var(--sklearn-color-fitted-level-0);\n",
       "  border: var(--sklearn-color-fitted-level-3);\n",
       "}\n",
       "\n",
       ".sk-estimator-doc-link:hover span {\n",
       "  display: block;\n",
       "}\n",
       "\n",
       "/* \"?\"-specific style due to the `<a>` HTML tag */\n",
       "\n",
       "#sk-container-id-1 a.estimator_doc_link {\n",
       "  float: right;\n",
       "  font-size: 1rem;\n",
       "  line-height: 1em;\n",
       "  font-family: monospace;\n",
       "  background-color: var(--sklearn-color-background);\n",
       "  border-radius: 1rem;\n",
       "  height: 1rem;\n",
       "  width: 1rem;\n",
       "  text-decoration: none;\n",
       "  /* unfitted */\n",
       "  color: var(--sklearn-color-unfitted-level-1);\n",
       "  border: var(--sklearn-color-unfitted-level-1) 1pt solid;\n",
       "}\n",
       "\n",
       "#sk-container-id-1 a.estimator_doc_link.fitted {\n",
       "  /* fitted */\n",
       "  border: var(--sklearn-color-fitted-level-1) 1pt solid;\n",
       "  color: var(--sklearn-color-fitted-level-1);\n",
       "}\n",
       "\n",
       "/* On hover */\n",
       "#sk-container-id-1 a.estimator_doc_link:hover {\n",
       "  /* unfitted */\n",
       "  background-color: var(--sklearn-color-unfitted-level-3);\n",
       "  color: var(--sklearn-color-background);\n",
       "  text-decoration: none;\n",
       "}\n",
       "\n",
       "#sk-container-id-1 a.estimator_doc_link.fitted:hover {\n",
       "  /* fitted */\n",
       "  background-color: var(--sklearn-color-fitted-level-3);\n",
       "}\n",
       "</style><div id=\"sk-container-id-1\" class=\"sk-top-container\"><div class=\"sk-text-repr-fallback\"><pre>XGBRegressor(base_score=None, booster=None, callbacks=None,\n",
       "             colsample_bylevel=None, colsample_bynode=None,\n",
       "             colsample_bytree=0.8921059165383258, device=None,\n",
       "             early_stopping_rounds=None, enable_categorical=False,\n",
       "             eval_metric=None, feature_types=None, feature_weights=None,\n",
       "             gamma=4.985478393172784, grow_policy=None, importance_type=None,\n",
       "             interaction_constraints=None, learning_rate=0.02719908339375274,\n",
       "             max_bin=None, max_cat_threshold=None, max_cat_to_onehot=None,\n",
       "             max_delta_step=None, max_depth=6, max_leaves=None,\n",
       "             min_child_weight=None, missing=nan, monotone_constraints=None,\n",
       "             multi_strategy=None, n_estimators=915, n_jobs=-1,\n",
       "             num_parallel_tree=None, ...)</pre><b>In a Jupyter environment, please rerun this cell to show the HTML representation or trust the notebook. <br />On GitHub, the HTML representation is unable to render, please try loading this page with nbviewer.org.</b></div><div class=\"sk-container\" hidden><div class=\"sk-item\"><div class=\"sk-estimator fitted sk-toggleable\"><input class=\"sk-toggleable__control sk-hidden--visually\" id=\"sk-estimator-id-1\" type=\"checkbox\" checked><label for=\"sk-estimator-id-1\" class=\"sk-toggleable__label fitted sk-toggleable__label-arrow\"><div><div>XGBRegressor</div></div><div><a class=\"sk-estimator-doc-link fitted\" rel=\"noreferrer\" target=\"_blank\" href=\"https://xgboost.readthedocs.io/en/release_3.0.0/python/python_api.html#xgboost.XGBRegressor\">?<span>Documentation for XGBRegressor</span></a><span class=\"sk-estimator-doc-link fitted\">i<span>Fitted</span></span></div></label><div class=\"sk-toggleable__content fitted\"><pre>XGBRegressor(base_score=None, booster=None, callbacks=None,\n",
       "             colsample_bylevel=None, colsample_bynode=None,\n",
       "             colsample_bytree=0.8921059165383258, device=None,\n",
       "             early_stopping_rounds=None, enable_categorical=False,\n",
       "             eval_metric=None, feature_types=None, feature_weights=None,\n",
       "             gamma=4.985478393172784, grow_policy=None, importance_type=None,\n",
       "             interaction_constraints=None, learning_rate=0.02719908339375274,\n",
       "             max_bin=None, max_cat_threshold=None, max_cat_to_onehot=None,\n",
       "             max_delta_step=None, max_depth=6, max_leaves=None,\n",
       "             min_child_weight=None, missing=nan, monotone_constraints=None,\n",
       "             multi_strategy=None, n_estimators=915, n_jobs=-1,\n",
       "             num_parallel_tree=None, ...)</pre></div> </div></div></div></div>"
      ],
      "text/plain": [
       "XGBRegressor(base_score=None, booster=None, callbacks=None,\n",
       "             colsample_bylevel=None, colsample_bynode=None,\n",
       "             colsample_bytree=0.8921059165383258, device=None,\n",
       "             early_stopping_rounds=None, enable_categorical=False,\n",
       "             eval_metric=None, feature_types=None, feature_weights=None,\n",
       "             gamma=4.985478393172784, grow_policy=None, importance_type=None,\n",
       "             interaction_constraints=None, learning_rate=0.02719908339375274,\n",
       "             max_bin=None, max_cat_threshold=None, max_cat_to_onehot=None,\n",
       "             max_delta_step=None, max_depth=6, max_leaves=None,\n",
       "             min_child_weight=None, missing=nan, monotone_constraints=None,\n",
       "             multi_strategy=None, n_estimators=915, n_jobs=-1,\n",
       "             num_parallel_tree=None, ...)"
      ]
     },
     "execution_count": 133,
     "metadata": {},
     "output_type": "execute_result"
    }
   ],
   "source": [
    "best_params = study.best_params\n",
    "\n",
    "final_model = XGBRegressor(**best_params, random_state=42, n_jobs=-1)\n",
    "final_model.fit(X_full, y_full)\n"
   ]
  },
  {
   "cell_type": "markdown",
   "id": "05802cdf",
   "metadata": {},
   "source": [
    "### Testing"
   ]
  },
  {
   "cell_type": "code",
   "execution_count": 134,
   "id": "841b45f5",
   "metadata": {},
   "outputs": [
    {
     "name": "stdout",
     "output_type": "stream",
     "text": [
      "Final test RMSE: 25694.75\n",
      "Final test MAE: 17542.97\n",
      "Final test R2: 0.9074\n"
     ]
    }
   ],
   "source": [
    "y_pred_test = final_model.predict(X_test)\n",
    "\n",
    "rmse = root_mean_squared_error(y_test, y_pred_test)\n",
    "mae = mean_absolute_error(y_test, y_pred_test)\n",
    "r2 = r2_score(y_test, y_pred_test)\n",
    "\n",
    "print(f\"Final test RMSE: {rmse:.2f}\")\n",
    "print(f\"Final test MAE: {mae:.2f}\")\n",
    "print(f\"Final test R2: {r2:.4f}\")"
   ]
  },
  {
   "cell_type": "markdown",
   "id": "a8a71e3a",
   "metadata": {},
   "source": [
    "### Misc"
   ]
  },
  {
   "cell_type": "code",
   "execution_count": 135,
   "id": "72eb0ce0",
   "metadata": {},
   "outputs": [
    {
     "data": {
      "image/png": "[encoded data removed]",
      "text/plain": [
       "<Figure size 640x480 with 1 Axes>"
      ]
     },
     "metadata": {},
     "output_type": "display_data"
    }
   ],
   "source": [
    "feat_importances = pd.Series(final_model.feature_importances_, index=X.columns)\n",
    "feat_importances.sort_values(ascending=False).head(15).plot(kind='barh')\n",
    "plt.title(\"Final Model - Feature Importances\")\n",
    "plt.show()\n"
   ]
  },
  {
   "cell_type": "code",
   "execution_count": 136,
   "id": "b22b6cec",
   "metadata": {},
   "outputs": [
    {
     "data": {
      "text/plain": [
       "['house_price_final.pkl']"
      ]
     },
     "execution_count": 136,
     "metadata": {},
     "output_type": "execute_result"
    }
   ],
   "source": [
    "import joblib\n",
    "joblib.dump(final_model, \"house_price_final.pkl\")\n",
    "\n"
   ]
  },
  {
   "cell_type": "code",
   "execution_count": null,
   "id": "d26579a6",
   "metadata": {},
   "outputs": [],
   "source": []
  },
  {
   "cell_type": "code",
   "execution_count": null,
   "id": "7cf5da32",
   "metadata": {},
   "outputs": [],
   "source": []
  }
 ],
 "metadata": {
  "kernelspec": {
   "display_name": "Python 3",
   "language": "python",
   "name": "python3"
  },
  "language_info": {
   "codemirror_mode": {
    "name": "ipython",
    "version": 3
   },
   "file_extension": ".py",
   "mimetype": "text/x-python",
   "name": "python",
   "nbconvert_exporter": "python",
   "pygments_lexer": "ipython3",
   "version": "3.11.1"
  }
 },
 "nbformat": 4,
 "nbformat_minor": 5
}
