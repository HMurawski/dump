{
 "cells": [
  {
   "cell_type": "code",
   "execution_count": 2,
   "id": "61627e4d",
   "metadata": {},
   "outputs": [],
   "source": [
    "import pandas as pd\n",
    "import numpy as np\n"
   ]
  },
  {
   "cell_type": "markdown",
   "id": "dfee942c",
   "metadata": {},
   "source": [
    "### quick tasks for muscle refreshment after baby-born break"
   ]
  },
  {
   "cell_type": "code",
   "execution_count": 3,
   "id": "2dec66f6",
   "metadata": {},
   "outputs": [],
   "source": [
    "temperatures = [23.5, 24.1, 22.8, 21.9, 23.3, 24.0, 22.4]"
   ]
  },
  {
   "cell_type": "code",
   "execution_count": 4,
   "id": "674be4be",
   "metadata": {},
   "outputs": [
    {
     "data": {
      "text/plain": [
       "(23.142857142857146, 0.757547061917878)"
      ]
     },
     "execution_count": 4,
     "metadata": {},
     "output_type": "execute_result"
    }
   ],
   "source": [
    "temp_mean, temp_std = np.mean(temperatures), np.std(temperatures)\n",
    "temp_mean, temp_std"
   ]
  },
  {
   "cell_type": "code",
   "execution_count": 5,
   "id": "c0d63df5",
   "metadata": {},
   "outputs": [],
   "source": [
    "df = pd.DataFrame({\"product\": ['A','B','C', 'A', 'B', 'C'], \"sales\" : [100,150,200,120,130,160], \"region\": [\"East\", \"West\", \"East\", \"West\", \"East\", \"West\"]})"
   ]
  },
  {
   "cell_type": "code",
   "execution_count": 6,
   "id": "5b65854c",
   "metadata": {},
   "outputs": [
    {
     "data": {
      "text/html": [
       "<div>\n",
       "<style scoped>\n",
       "    .dataframe tbody tr th:only-of-type {\n",
       "        vertical-align: middle;\n",
       "    }\n",
       "\n",
       "    .dataframe tbody tr th {\n",
       "        vertical-align: top;\n",
       "    }\n",
       "\n",
       "    .dataframe thead th {\n",
       "        text-align: right;\n",
       "    }\n",
       "</style>\n",
       "<table border=\"1\" class=\"dataframe\">\n",
       "  <thead>\n",
       "    <tr style=\"text-align: right;\">\n",
       "      <th></th>\n",
       "      <th>product</th>\n",
       "      <th>sales</th>\n",
       "      <th>region</th>\n",
       "    </tr>\n",
       "  </thead>\n",
       "  <tbody>\n",
       "    <tr>\n",
       "      <th>0</th>\n",
       "      <td>A</td>\n",
       "      <td>100</td>\n",
       "      <td>East</td>\n",
       "    </tr>\n",
       "  </tbody>\n",
       "</table>\n",
       "</div>"
      ],
      "text/plain": [
       "  product  sales region\n",
       "0       A    100   East"
      ]
     },
     "execution_count": 6,
     "metadata": {},
     "output_type": "execute_result"
    }
   ],
   "source": [
    "df.head(1)"
   ]
  },
  {
   "cell_type": "code",
   "execution_count": 9,
   "id": "4b3a1d49",
   "metadata": {},
   "outputs": [],
   "source": [
    "sum_per_prod = df.groupby(\"product\")[\"sales\"].sum()\n",
    "avg_per_region = df.groupby(\"region\")[\"sales\"].mean()"
   ]
  },
  {
   "cell_type": "code",
   "execution_count": 10,
   "id": "5bf40439",
   "metadata": {},
   "outputs": [
    {
     "data": {
      "text/plain": [
       "product\n",
       "A    220\n",
       "B    280\n",
       "C    360\n",
       "Name: sales, dtype: int64"
      ]
     },
     "execution_count": 10,
     "metadata": {},
     "output_type": "execute_result"
    }
   ],
   "source": [
    "sum_per_prod"
   ]
  },
  {
   "cell_type": "code",
   "execution_count": 11,
   "id": "e262523a",
   "metadata": {},
   "outputs": [
    {
     "data": {
      "text/plain": [
       "region\n",
       "East    143.333333\n",
       "West    143.333333\n",
       "Name: sales, dtype: float64"
      ]
     },
     "execution_count": 11,
     "metadata": {},
     "output_type": "execute_result"
    }
   ],
   "source": [
    "avg_per_region"
   ]
  },
  {
   "cell_type": "code",
   "execution_count": 13,
   "id": "e13a3a41",
   "metadata": {},
   "outputs": [],
   "source": [
    "dates = pd.date_range(start='2024-01-01', periods=6, freq='ME')\n",
    "sales = [1000, 1100, 900, 1200, 1050, 1150]\n",
    "df = pd.DataFrame({'date': dates, 'sales': sales})"
   ]
  },
  {
   "cell_type": "code",
   "execution_count": 16,
   "id": "525282a1",
   "metadata": {},
   "outputs": [
    {
     "name": "stdout",
     "output_type": "stream",
     "text": [
      "<class 'pandas.core.frame.DataFrame'>\n",
      "RangeIndex: 6 entries, 0 to 5\n",
      "Data columns (total 2 columns):\n",
      " #   Column  Non-Null Count  Dtype         \n",
      "---  ------  --------------  -----         \n",
      " 0   date    6 non-null      datetime64[ns]\n",
      " 1   sales   6 non-null      int64         \n",
      "dtypes: datetime64[ns](1), int64(1)\n",
      "memory usage: 228.0 bytes\n"
     ]
    }
   ],
   "source": [
    "df.info()"
   ]
  },
  {
   "cell_type": "code",
   "execution_count": 18,
   "id": "ea40887c",
   "metadata": {},
   "outputs": [],
   "source": [
    "df[\"quarter\"] = df[\"date\"].dt.quarter"
   ]
  },
  {
   "cell_type": "code",
   "execution_count": 20,
   "id": "1134b4f0",
   "metadata": {},
   "outputs": [],
   "source": [
    "sales_sum_quarter = df.groupby(\"quarter\")[\"sales\"].sum()"
   ]
  },
  {
   "cell_type": "code",
   "execution_count": 21,
   "id": "cb9009c4",
   "metadata": {},
   "outputs": [
    {
     "data": {
      "text/plain": [
       "quarter\n",
       "1    3000\n",
       "2    3400\n",
       "Name: sales, dtype: int64"
      ]
     },
     "execution_count": 21,
     "metadata": {},
     "output_type": "execute_result"
    }
   ],
   "source": [
    "sales_sum_quarter"
   ]
  },
  {
   "cell_type": "code",
   "execution_count": null,
   "id": "b582fa4a",
   "metadata": {},
   "outputs": [],
   "source": []
  }
 ],
 "metadata": {
  "kernelspec": {
   "display_name": ".venv",
   "language": "python",
   "name": "python3"
  },
  "language_info": {
   "codemirror_mode": {
    "name": "ipython",
    "version": 3
   },
   "file_extension": ".py",
   "mimetype": "text/x-python",
   "name": "python",
   "nbconvert_exporter": "python",
   "pygments_lexer": "ipython3",
   "version": "3.11.3"
  }
 },
 "nbformat": 4,
 "nbformat_minor": 5
}
