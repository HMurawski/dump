{
 "cells": [
  {
   "cell_type": "code",
   "execution_count": 1,
   "id": "1e74a981",
   "metadata": {},
   "outputs": [
    {
     "name": "stdout",
     "output_type": "stream",
     "text": [
      "tensor([[0.6510, 0.4967, 0.1828],\n",
      "        [0.8066, 0.5066, 0.0324],\n",
      "        [0.3653, 0.8238, 0.3998],\n",
      "        [0.9919, 0.1757, 0.1885],\n",
      "        [0.1686, 0.8625, 0.9615]])\n"
     ]
    }
   ],
   "source": [
    "import torch\n",
    "x = torch.rand(5, 3)\n",
    "print(x)"
   ]
  },
  {
   "cell_type": "code",
   "execution_count": 2,
   "id": "39f2b0e3",
   "metadata": {},
   "outputs": [
    {
     "data": {
      "text/plain": [
       "(tensor([[0., 0., 0.],\n",
       "         [0., 0., 0.]]),\n",
       " tensor([[1., 1.],\n",
       "         [1., 1.],\n",
       "         [1., 1.]]))"
      ]
     },
     "execution_count": 2,
     "metadata": {},
     "output_type": "execute_result"
    }
   ],
   "source": [
    "#tensor creation\n",
    "\n",
    "t1 = torch.tensor([1.0, 2.0, 3.0])\n",
    "t2 = torch.tensor([[1.0, 2.0], [3.0, 4.0]])\n",
    "t3 = torch.zeros(2,3)#shape 2,3\n",
    "t4 = torch.rand(2,2)\n",
    "t5 = torch.arange(0,10,3)\n",
    "t6 = torch.ones(3,2)\n",
    "t3,t6"
   ]
  },
  {
   "cell_type": "code",
   "execution_count": 3,
   "id": "d6eb133e",
   "metadata": {},
   "outputs": [
    {
     "name": "stdout",
     "output_type": "stream",
     "text": [
      "torch.Size([2, 2])\n",
      "torch.float32\n",
      "2\n",
      "cpu\n"
     ]
    }
   ],
   "source": [
    "print(t2.shape)\n",
    "print(t2.dtype)\n",
    "print(t2.ndim)\n",
    "print(t2.device)"
   ]
  },
  {
   "cell_type": "code",
   "execution_count": 4,
   "id": "c7b5c2ac",
   "metadata": {},
   "outputs": [
    {
     "name": "stdout",
     "output_type": "stream",
     "text": [
      "2 2\n"
     ]
    }
   ],
   "source": [
    "print(t3.ndim, t6.ndim)"
   ]
  },
  {
   "cell_type": "code",
   "execution_count": 5,
   "id": "41fa07ee",
   "metadata": {},
   "outputs": [
    {
     "name": "stdout",
     "output_type": "stream",
     "text": [
      "tensor([4., 4., 4.])\n",
      "tensor([3., 4., 3.])\n",
      "tensor(10.)\n",
      "tensor(10.)\n"
     ]
    }
   ],
   "source": [
    "a = torch.tensor([1.0,2.0,3.0])\n",
    "b = torch.tensor([3.0,2.0,1.0])\n",
    "\n",
    "print(a+b)\n",
    "print(a*b)\n",
    "print(torch.dot(a,b)) #scalar\n",
    "print(a @ b) #scalar"
   ]
  },
  {
   "cell_type": "code",
   "execution_count": 6,
   "id": "9b2d167e",
   "metadata": {},
   "outputs": [
    {
     "data": {
      "text/plain": [
       "(tensor(2.), tensor(2.))"
      ]
     },
     "execution_count": 6,
     "metadata": {},
     "output_type": "execute_result"
    }
   ],
   "source": [
    "torch.mean(a), torch.mean(b)"
   ]
  },
  {
   "cell_type": "code",
   "execution_count": 7,
   "id": "c4bf4c34",
   "metadata": {},
   "outputs": [
    {
     "data": {
      "text/plain": [
       "(tensor(6.), tensor(3.), tensor(1.))"
      ]
     },
     "execution_count": 7,
     "metadata": {},
     "output_type": "execute_result"
    }
   ],
   "source": [
    "a.sum(), a.max(), a.min()"
   ]
  },
  {
   "cell_type": "code",
   "execution_count": 8,
   "id": "620cd7b7",
   "metadata": {},
   "outputs": [
    {
     "data": {
      "text/plain": [
       "(tensor([1., 4., 9.]), tensor([1.0000, 1.4142, 1.7321]))"
      ]
     },
     "execution_count": 8,
     "metadata": {},
     "output_type": "execute_result"
    }
   ],
   "source": [
    "a**2, torch.sqrt(a)"
   ]
  },
  {
   "cell_type": "code",
   "execution_count": 9,
   "id": "a2a10474",
   "metadata": {},
   "outputs": [
    {
     "name": "stdout",
     "output_type": "stream",
     "text": [
      "torch.Size([12])\n",
      "tensor([[ 0,  1,  2,  3],\n",
      "        [ 4,  5,  6,  7],\n",
      "        [ 8,  9, 10, 11]])\n"
     ]
    }
   ],
   "source": [
    "x = torch.arange(12)\n",
    "print(x.shape)\n",
    "x = x.reshape(3,4)\n",
    "print(x)"
   ]
  },
  {
   "cell_type": "markdown",
   "id": "4b0d720f",
   "metadata": {},
   "source": [
    "### excersises"
   ]
  },
  {
   "cell_type": "code",
   "execution_count": 19,
   "id": "58bcd7b5",
   "metadata": {},
   "outputs": [
    {
     "name": "stdout",
     "output_type": "stream",
     "text": [
      "torch.Size([4, 4])\n",
      "torch.float32\n",
      "torch.int64\n",
      "tensor([[7, 7, 7],\n",
      "        [7, 7, 7],\n",
      "        [7, 7, 7]])\n",
      "tensor([[0, 0, 0, 0],\n",
      "        [0, 0, 0, 0],\n",
      "        [0, 0, 0, 0],\n",
      "        [0, 0, 0, 0]])\n"
     ]
    }
   ],
   "source": [
    "a_7 = torch.tensor([[7,7,7],[7,7,7],[7,7,7]])\n",
    "a_by_5 = torch.arange(5,26,5)\n",
    "tens = torch.rand((4,4))\n",
    "print(tens.shape)\n",
    "print(tens.dtype)\n",
    "tens_64 = tens.type(torch.int64)\n",
    "print(tens_64.dtype)\n",
    "tens_64.device\n",
    "print(torch.full((3,3),7))\n",
    "print(tens.to(torch.int64))"
   ]
  },
  {
   "cell_type": "code",
   "execution_count": null,
   "id": "1bd89742",
   "metadata": {},
   "outputs": [],
   "source": []
  }
 ],
 "metadata": {
  "kernelspec": {
   "display_name": "Python 3",
   "language": "python",
   "name": "python3"
  },
  "language_info": {
   "codemirror_mode": {
    "name": "ipython",
    "version": 3
   },
   "file_extension": ".py",
   "mimetype": "text/x-python",
   "name": "python",
   "nbconvert_exporter": "python",
   "pygments_lexer": "ipython3",
   "version": "3.11.1"
  }
 },
 "nbformat": 4,
 "nbformat_minor": 5
}
