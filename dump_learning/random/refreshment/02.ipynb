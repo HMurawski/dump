{
 "cells": [
  {
   "cell_type": "code",
   "execution_count": 43,
   "id": "875820a7",
   "metadata": {},
   "outputs": [],
   "source": [
    "import pandas as pd\n",
    "import numpy as np"
   ]
  },
  {
   "cell_type": "code",
   "execution_count": 44,
   "id": "f5075aed",
   "metadata": {},
   "outputs": [],
   "source": [
    "url = \"https://raw.githubusercontent.com/datasciencedojo/datasets/master/titanic.csv\"\n",
    "df = pd.read_csv(url)\n"
   ]
  },
  {
   "cell_type": "code",
   "execution_count": 45,
   "id": "03af3f9c",
   "metadata": {},
   "outputs": [
    {
     "data": {
      "text/html": [
       "<div>\n",
       "<style scoped>\n",
       "    .dataframe tbody tr th:only-of-type {\n",
       "        vertical-align: middle;\n",
       "    }\n",
       "\n",
       "    .dataframe tbody tr th {\n",
       "        vertical-align: top;\n",
       "    }\n",
       "\n",
       "    .dataframe thead th {\n",
       "        text-align: right;\n",
       "    }\n",
       "</style>\n",
       "<table border=\"1\" class=\"dataframe\">\n",
       "  <thead>\n",
       "    <tr style=\"text-align: right;\">\n",
       "      <th></th>\n",
       "      <th>PassengerId</th>\n",
       "      <th>Survived</th>\n",
       "      <th>Pclass</th>\n",
       "      <th>Name</th>\n",
       "      <th>Sex</th>\n",
       "      <th>Age</th>\n",
       "      <th>SibSp</th>\n",
       "      <th>Parch</th>\n",
       "      <th>Ticket</th>\n",
       "      <th>Fare</th>\n",
       "      <th>Cabin</th>\n",
       "      <th>Embarked</th>\n",
       "    </tr>\n",
       "  </thead>\n",
       "  <tbody>\n",
       "    <tr>\n",
       "      <th>0</th>\n",
       "      <td>1</td>\n",
       "      <td>0</td>\n",
       "      <td>3</td>\n",
       "      <td>Braund, Mr. Owen Harris</td>\n",
       "      <td>male</td>\n",
       "      <td>22.0</td>\n",
       "      <td>1</td>\n",
       "      <td>0</td>\n",
       "      <td>A/5 21171</td>\n",
       "      <td>7.25</td>\n",
       "      <td>NaN</td>\n",
       "      <td>S</td>\n",
       "    </tr>\n",
       "  </tbody>\n",
       "</table>\n",
       "</div>"
      ],
      "text/plain": [
       "   PassengerId  Survived  Pclass                     Name   Sex   Age  SibSp  \\\n",
       "0            1         0       3  Braund, Mr. Owen Harris  male  22.0      1   \n",
       "\n",
       "   Parch     Ticket  Fare Cabin Embarked  \n",
       "0      0  A/5 21171  7.25   NaN        S  "
      ]
     },
     "execution_count": 45,
     "metadata": {},
     "output_type": "execute_result"
    }
   ],
   "source": [
    "df.head(1)"
   ]
  },
  {
   "cell_type": "code",
   "execution_count": 46,
   "id": "644ae806",
   "metadata": {},
   "outputs": [
    {
     "name": "stdout",
     "output_type": "stream",
     "text": [
      "Number of survivors: 342\n"
     ]
    }
   ],
   "source": [
    "survivors = df[\"Survived\"].value_counts()[1]\n",
    "print(f\"Number of survivors: {survivors}\")"
   ]
  },
  {
   "cell_type": "markdown",
   "id": "13c8b75e",
   "metadata": {},
   "source": [
    "## mean age"
   ]
  },
  {
   "cell_type": "code",
   "execution_count": 47,
   "id": "96e7edf3",
   "metadata": {},
   "outputs": [
    {
     "data": {
      "text/plain": [
       "Pclass\n",
       "1    38.0\n",
       "2    30.0\n",
       "3    25.0\n",
       "Name: Age, dtype: float64"
      ]
     },
     "execution_count": 47,
     "metadata": {},
     "output_type": "execute_result"
    }
   ],
   "source": [
    "#avg age based on pclass\n",
    "round(df.groupby(\"Pclass\")[\"Age\"].mean())"
   ]
  },
  {
   "cell_type": "code",
   "execution_count": 48,
   "id": "236d344c",
   "metadata": {},
   "outputs": [
    {
     "name": "stdout",
     "output_type": "stream",
     "text": [
      "Pclass: 1, avg age: 38.0\n",
      "Pclass: 2, avg age: 30.0\n",
      "Pclass: 3, avg age: 25.0\n"
     ]
    }
   ],
   "source": [
    "a = round(df.groupby(\"Pclass\")[\"Age\"].mean())\n",
    "\n",
    "for index,b in enumerate(a):\n",
    "    print(f\"Pclass: {index+1}, avg age: {b}\")"
   ]
  },
  {
   "cell_type": "markdown",
   "id": "b004dedc",
   "metadata": {},
   "source": [
    "## survived"
   ]
  },
  {
   "cell_type": "code",
   "execution_count": 49,
   "id": "11f10103",
   "metadata": {},
   "outputs": [
    {
     "name": "stdout",
     "output_type": "stream",
     "text": [
      "Sex\n",
      "female    0.742\n",
      "male      0.189\n",
      "Name: Survived, dtype: float64\n"
     ]
    }
   ],
   "source": [
    "survival_by_sex = df.groupby(\"Sex\")[\"Survived\"].mean().round(3)\n",
    "print(survival_by_sex)"
   ]
  },
  {
   "cell_type": "code",
   "execution_count": 50,
   "id": "7b3a7d8c",
   "metadata": {},
   "outputs": [
    {
     "data": {
      "text/plain": [
       "Sex\n",
       "male      577\n",
       "female    314\n",
       "Name: count, dtype: int64"
      ]
     },
     "execution_count": 50,
     "metadata": {},
     "output_type": "execute_result"
    }
   ],
   "source": [
    "df[\"Sex\"].value_counts()"
   ]
  },
  {
   "cell_type": "code",
   "execution_count": 51,
   "id": "a51df780",
   "metadata": {},
   "outputs": [
    {
     "data": {
      "text/plain": [
       "Sex\n",
       "female    233\n",
       "male      109\n",
       "Name: Survived, dtype: int64"
      ]
     },
     "execution_count": 51,
     "metadata": {},
     "output_type": "execute_result"
    }
   ],
   "source": [
    "df.groupby(\"Sex\")[\"Survived\"].sum()"
   ]
  },
  {
   "cell_type": "code",
   "execution_count": 52,
   "id": "0ec9e041",
   "metadata": {},
   "outputs": [],
   "source": [
    "pct_male_survivors = df[(df[\"Sex\"] == \"male\") & df[\"Survived\"] == 1].shape[0] / df[df[\"Sex\"] == \"male\"].shape[0]\n",
    "pct_female_survivors = df[(df[\"Sex\"] == \"female\") & df[\"Survived\"] == 1].shape[0] / df[df[\"Sex\"] == \"female\"].shape[0]"
   ]
  },
  {
   "cell_type": "code",
   "execution_count": 53,
   "id": "6790ba0b",
   "metadata": {},
   "outputs": [
    {
     "name": "stdout",
     "output_type": "stream",
     "text": [
      "Survivors pct:\n",
      "Male: 0.189\n",
      "Female: 0.742\n"
     ]
    }
   ],
   "source": [
    "print(f\"Survivors pct:\\nMale: {round(pct_male_survivors,3)}\\nFemale: {round(pct_female_survivors,3)}\")"
   ]
  },
  {
   "cell_type": "markdown",
   "id": "c7162c82",
   "metadata": {},
   "source": [
    "### feature engineering"
   ]
  },
  {
   "cell_type": "code",
   "execution_count": 54,
   "id": "af552614",
   "metadata": {},
   "outputs": [],
   "source": [
    "#SibSp\tParch\n",
    "df[\"FamilySize\"] = df[\"SibSp\"] + df[\"Parch\"]\n"
   ]
  },
  {
   "cell_type": "code",
   "execution_count": 55,
   "id": "1645b60f",
   "metadata": {},
   "outputs": [],
   "source": [
    "df[\"IsAlone\"] = df[\"FamilySize\"].apply(lambda x: 1 if x == 0 else 0)"
   ]
  },
  {
   "cell_type": "code",
   "execution_count": null,
   "id": "0de24fb7",
   "metadata": {},
   "outputs": [],
   "source": []
  },
  {
   "cell_type": "code",
   "execution_count": 56,
   "id": "3a2e47b1",
   "metadata": {},
   "outputs": [],
   "source": [
    "def get_title(row):\n",
    "    if \"Mr.\" in row:\n",
    "        return \"Mr.\"\n",
    "    elif \"Mrs.\" in row:\n",
    "        return \"Mrs.\"\n",
    "    elif \"Miss.\" in row:\n",
    "        return \"Miss.\"\n",
    "    elif \"Ms.\" in row:\n",
    "        return \"Ms.\"\n",
    "    else:\n",
    "        return None"
   ]
  },
  {
   "cell_type": "code",
   "execution_count": 57,
   "id": "38bbfb87",
   "metadata": {},
   "outputs": [],
   "source": [
    "df[\"Title\"] = df[\"Name\"].apply(get_title)"
   ]
  },
  {
   "cell_type": "code",
   "execution_count": 58,
   "id": "dd2fab6c",
   "metadata": {},
   "outputs": [
    {
     "data": {
      "text/plain": [
       "Title\n",
       "Mr.      517\n",
       "Miss.    182\n",
       "Mrs.     125\n",
       "Ms.        1\n",
       "Name: count, dtype: int64"
      ]
     },
     "execution_count": 58,
     "metadata": {},
     "output_type": "execute_result"
    }
   ],
   "source": [
    "df[\"Title\"].value_counts()"
   ]
  },
  {
   "cell_type": "code",
   "execution_count": 59,
   "id": "5af6161c",
   "metadata": {},
   "outputs": [],
   "source": [
    "df[\"Title\"] = df[\"Name\"].str.extract(r',\\s*([^\\.]+)\\.', expand=False)\n"
   ]
  },
  {
   "cell_type": "code",
   "execution_count": 60,
   "id": "a0f6459a",
   "metadata": {},
   "outputs": [
    {
     "data": {
      "text/plain": [
       "Title\n",
       "Mr              517\n",
       "Miss            182\n",
       "Mrs             125\n",
       "Master           40\n",
       "Dr                7\n",
       "Rev               6\n",
       "Mlle              2\n",
       "Major             2\n",
       "Col               2\n",
       "the Countess      1\n",
       "Capt              1\n",
       "Ms                1\n",
       "Sir               1\n",
       "Lady              1\n",
       "Mme               1\n",
       "Don               1\n",
       "Jonkheer          1\n",
       "Name: count, dtype: int64"
      ]
     },
     "execution_count": 60,
     "metadata": {},
     "output_type": "execute_result"
    }
   ],
   "source": [
    "df[\"Title\"].value_counts()"
   ]
  },
  {
   "cell_type": "code",
   "execution_count": 61,
   "id": "ddb42bfc",
   "metadata": {},
   "outputs": [],
   "source": [
    "df[\"Title\"] = df[\"Title\"].replace([\n",
    "    'Lady', 'the Countess','Capt', 'Col','Don', 'Dr', 'Major', 'Rev', 'Sir', 'Jonkheer', 'Dona'], 'Rare')\n",
    "df[\"Title\"] = df[\"Title\"].replace('Mlle', 'Miss')\n",
    "df[\"Title\"] = df[\"Title\"].replace('Ms', 'Miss')\n",
    "df[\"Title\"] = df[\"Title\"].replace('Mme', 'Mrs')\n"
   ]
  },
  {
   "cell_type": "code",
   "execution_count": 62,
   "id": "0e3badaf",
   "metadata": {},
   "outputs": [
    {
     "data": {
      "text/plain": [
       "Title\n",
       "Mr        517\n",
       "Miss      185\n",
       "Mrs       126\n",
       "Master     40\n",
       "Rare       23\n",
       "Name: count, dtype: int64"
      ]
     },
     "execution_count": 62,
     "metadata": {},
     "output_type": "execute_result"
    }
   ],
   "source": [
    "df[\"Title\"].value_counts()"
   ]
  },
  {
   "cell_type": "markdown",
   "id": "1e970762",
   "metadata": {},
   "source": [
    "### Data Preparation"
   ]
  },
  {
   "cell_type": "code",
   "execution_count": 63,
   "id": "656fdade",
   "metadata": {},
   "outputs": [],
   "source": [
    "# median_age_men = df[df[\"Sex\"] == 'male'][\"Age\"].median()\n",
    "# median_age_female = df[df[\"Sex\"] == 'female'][\"Age\"].median()"
   ]
  },
  {
   "cell_type": "code",
   "execution_count": 64,
   "id": "71efbf09",
   "metadata": {},
   "outputs": [],
   "source": [
    "df[\"Age\"] = df[\"Age\"].fillna(df.groupby(\"Sex\")[\"Age\"].transform(\"median\"))\n"
   ]
  },
  {
   "cell_type": "code",
   "execution_count": 65,
   "id": "075505cc",
   "metadata": {},
   "outputs": [
    {
     "name": "stdout",
     "output_type": "stream",
     "text": [
      "Age cleaning completed\n"
     ]
    }
   ],
   "source": [
    "if df[\"Age\"].isna().sum() != 0:\n",
    "    print('Missing Age')\n",
    "else:\n",
    "    print(\"Age cleaning completed\")"
   ]
  },
  {
   "cell_type": "code",
   "execution_count": 66,
   "id": "f9180c2e",
   "metadata": {},
   "outputs": [],
   "source": [
    "df = pd.get_dummies(df, columns=[\"Sex\", \"Embarked\"], drop_first=True)"
   ]
  },
  {
   "cell_type": "code",
   "execution_count": 67,
   "id": "2a333491",
   "metadata": {},
   "outputs": [
    {
     "data": {
      "text/plain": [
       "Index(['PassengerId', 'Survived', 'Pclass', 'Name', 'Age', 'SibSp', 'Parch',\n",
       "       'Ticket', 'Fare', 'Cabin', 'FamilySize', 'IsAlone', 'Title', 'Sex_male',\n",
       "       'Embarked_Q', 'Embarked_S'],\n",
       "      dtype='object')"
      ]
     },
     "execution_count": 67,
     "metadata": {},
     "output_type": "execute_result"
    }
   ],
   "source": [
    "df.columns"
   ]
  },
  {
   "cell_type": "code",
   "execution_count": 68,
   "id": "c6acf0cc",
   "metadata": {},
   "outputs": [],
   "source": [
    "#Columns to stay: Survived, Pclass, Sex, Age, Fare, IsAlone\n",
    "df = df.drop(columns=['PassengerId', 'Name', 'SibSp', 'Parch',\n",
    "       'Ticket', 'Cabin', 'FamilySize', 'Title',])"
   ]
  },
  {
   "cell_type": "code",
   "execution_count": 69,
   "id": "4d45f768",
   "metadata": {},
   "outputs": [
    {
     "data": {
      "text/html": [
       "<div>\n",
       "<style scoped>\n",
       "    .dataframe tbody tr th:only-of-type {\n",
       "        vertical-align: middle;\n",
       "    }\n",
       "\n",
       "    .dataframe tbody tr th {\n",
       "        vertical-align: top;\n",
       "    }\n",
       "\n",
       "    .dataframe thead th {\n",
       "        text-align: right;\n",
       "    }\n",
       "</style>\n",
       "<table border=\"1\" class=\"dataframe\">\n",
       "  <thead>\n",
       "    <tr style=\"text-align: right;\">\n",
       "      <th></th>\n",
       "      <th>Survived</th>\n",
       "      <th>Pclass</th>\n",
       "      <th>Age</th>\n",
       "      <th>Fare</th>\n",
       "      <th>IsAlone</th>\n",
       "      <th>Sex_male</th>\n",
       "      <th>Embarked_Q</th>\n",
       "      <th>Embarked_S</th>\n",
       "    </tr>\n",
       "  </thead>\n",
       "  <tbody>\n",
       "    <tr>\n",
       "      <th>0</th>\n",
       "      <td>0</td>\n",
       "      <td>3</td>\n",
       "      <td>22.0</td>\n",
       "      <td>7.2500</td>\n",
       "      <td>0</td>\n",
       "      <td>True</td>\n",
       "      <td>False</td>\n",
       "      <td>True</td>\n",
       "    </tr>\n",
       "    <tr>\n",
       "      <th>1</th>\n",
       "      <td>1</td>\n",
       "      <td>1</td>\n",
       "      <td>38.0</td>\n",
       "      <td>71.2833</td>\n",
       "      <td>0</td>\n",
       "      <td>False</td>\n",
       "      <td>False</td>\n",
       "      <td>False</td>\n",
       "    </tr>\n",
       "    <tr>\n",
       "      <th>2</th>\n",
       "      <td>1</td>\n",
       "      <td>3</td>\n",
       "      <td>26.0</td>\n",
       "      <td>7.9250</td>\n",
       "      <td>1</td>\n",
       "      <td>False</td>\n",
       "      <td>False</td>\n",
       "      <td>True</td>\n",
       "    </tr>\n",
       "    <tr>\n",
       "      <th>3</th>\n",
       "      <td>1</td>\n",
       "      <td>1</td>\n",
       "      <td>35.0</td>\n",
       "      <td>53.1000</td>\n",
       "      <td>0</td>\n",
       "      <td>False</td>\n",
       "      <td>False</td>\n",
       "      <td>True</td>\n",
       "    </tr>\n",
       "    <tr>\n",
       "      <th>4</th>\n",
       "      <td>0</td>\n",
       "      <td>3</td>\n",
       "      <td>35.0</td>\n",
       "      <td>8.0500</td>\n",
       "      <td>1</td>\n",
       "      <td>True</td>\n",
       "      <td>False</td>\n",
       "      <td>True</td>\n",
       "    </tr>\n",
       "  </tbody>\n",
       "</table>\n",
       "</div>"
      ],
      "text/plain": [
       "   Survived  Pclass   Age     Fare  IsAlone  Sex_male  Embarked_Q  Embarked_S\n",
       "0         0       3  22.0   7.2500        0      True       False        True\n",
       "1         1       1  38.0  71.2833        0     False       False       False\n",
       "2         1       3  26.0   7.9250        1     False       False        True\n",
       "3         1       1  35.0  53.1000        0     False       False        True\n",
       "4         0       3  35.0   8.0500        1      True       False        True"
      ]
     },
     "execution_count": 69,
     "metadata": {},
     "output_type": "execute_result"
    }
   ],
   "source": [
    "df.head()"
   ]
  },
  {
   "cell_type": "markdown",
   "id": "60f18c7a",
   "metadata": {},
   "source": [
    "### Model Training"
   ]
  },
  {
   "cell_type": "code",
   "execution_count": 70,
   "id": "ed443348",
   "metadata": {},
   "outputs": [],
   "source": [
    "X = df.drop(\"Survived\", axis=1)\n",
    "y = df[\"Survived\"]"
   ]
  },
  {
   "cell_type": "code",
   "execution_count": 74,
   "id": "9abd0339",
   "metadata": {},
   "outputs": [],
   "source": [
    "from sklearn.model_selection import train_test_split\n",
    "\n",
    "X_train, X_test, y_train, y_test = train_test_split(X,y, random_state=42, test_size=0.2)\n",
    "\n"
   ]
  },
  {
   "cell_type": "code",
   "execution_count": 83,
   "id": "82a76941",
   "metadata": {},
   "outputs": [],
   "source": [
    "from sklearn.linear_model import LogisticRegression\n",
    "from sklearn.ensemble import RandomForestClassifier\n",
    "from sklearn.metrics import confusion_matrix, classification_report\n",
    "\n",
    "model_lr = LogisticRegression(max_iter=2000)\n",
    "model_RF = RandomForestClassifier()\n",
    "\n",
    "\n",
    "\n"
   ]
  },
  {
   "cell_type": "markdown",
   "id": "99f7497b",
   "metadata": {},
   "source": [
    "#### LR"
   ]
  },
  {
   "cell_type": "code",
   "execution_count": 85,
   "id": "1a0b423f",
   "metadata": {},
   "outputs": [
    {
     "name": "stdout",
     "output_type": "stream",
     "text": [
      "              precision    recall  f1-score   support\n",
      "\n",
      "           0       0.82      0.84      0.83       105\n",
      "           1       0.76      0.74      0.75        74\n",
      "\n",
      "    accuracy                           0.80       179\n",
      "   macro avg       0.79      0.79      0.79       179\n",
      "weighted avg       0.80      0.80      0.80       179\n",
      "\n"
     ]
    }
   ],
   "source": [
    "model_lr.fit(X_train, y_train)\n",
    "y_pred_lr = model_lr.predict(X_test)\n",
    "lr_conf_matrix = confusion_matrix(y_pred=y_pred_lr, y_true=y_test)\n",
    "lr_class_report = classification_report(y_pred=y_pred_lr, y_true=y_test)\n",
    "print(lr_class_report)"
   ]
  },
  {
   "cell_type": "code",
   "execution_count": 82,
   "id": "afef5efd",
   "metadata": {},
   "outputs": [
    {
     "data": {
      "text/plain": [
       "<Axes: >"
      ]
     },
     "execution_count": 82,
     "metadata": {},
     "output_type": "execute_result"
    },
    {
     "data": {
      "image/png": "[encoded data removed]",
      "text/plain": [
       "<Figure size 640x480 with 2 Axes>"
      ]
     },
     "metadata": {},
     "output_type": "display_data"
    }
   ],
   "source": [
    "import seaborn as sns\n",
    "\n",
    "sns.heatmap(lr_conf_matrix, annot=True, fmt = \".2f\")"
   ]
  },
  {
   "cell_type": "markdown",
   "id": "a9f9d64f",
   "metadata": {},
   "source": [
    "#### RF"
   ]
  },
  {
   "cell_type": "code",
   "execution_count": 87,
   "id": "4dad4d87",
   "metadata": {},
   "outputs": [
    {
     "name": "stdout",
     "output_type": "stream",
     "text": [
      "              precision    recall  f1-score   support\n",
      "\n",
      "           0       0.83      0.84      0.83       105\n",
      "           1       0.77      0.76      0.76        74\n",
      "\n",
      "    accuracy                           0.80       179\n",
      "   macro avg       0.80      0.80      0.80       179\n",
      "weighted avg       0.80      0.80      0.80       179\n",
      "\n"
     ]
    }
   ],
   "source": [
    "model_RF.fit(X_train, y_train)\n",
    "y_pred_rf = model_RF.predict(X_test)\n",
    "rf_conf_matrix = confusion_matrix(y_pred=y_pred_rf, y_true=y_test)\n",
    "rf_class_report = classification_report(y_pred=y_pred_rf, y_true=y_test)\n",
    "print(rf_class_report)"
   ]
  },
  {
   "cell_type": "code",
   "execution_count": 88,
   "id": "f0cb9479",
   "metadata": {},
   "outputs": [
    {
     "data": {
      "text/plain": [
       "<Axes: >"
      ]
     },
     "execution_count": 88,
     "metadata": {},
     "output_type": "execute_result"
    },
    {
     "data": {
      "image/png": "[encoded data removed]",
      "text/plain": [
       "<Figure size 640x480 with 2 Axes>"
      ]
     },
     "metadata": {},
     "output_type": "display_data"
    }
   ],
   "source": [
    "\n",
    "sns.heatmap(rf_conf_matrix, annot=True, fmt = \".2f\")"
   ]
  },
  {
   "cell_type": "code",
   "execution_count": null,
   "id": "a2cd32b0",
   "metadata": {},
   "outputs": [],
   "source": []
  }
 ],
 "metadata": {
  "kernelspec": {
   "display_name": ".venv",
   "language": "python",
   "name": "python3"
  },
  "language_info": {
   "codemirror_mode": {
    "name": "ipython",
    "version": 3
   },
   "file_extension": ".py",
   "mimetype": "text/x-python",
   "name": "python",
   "nbconvert_exporter": "python",
   "pygments_lexer": "ipython3",
   "version": "3.11.3"
  }
 },
 "nbformat": 4,
 "nbformat_minor": 5
}
