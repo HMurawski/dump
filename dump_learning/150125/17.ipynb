{
 "cells": [
  {
   "cell_type": "code",
   "execution_count": 1,
   "metadata": {},
   "outputs": [],
   "source": [
    "import pandas as pd\n",
    "import numpy as np\n"
   ]
  },
  {
   "cell_type": "code",
   "execution_count": 2,
   "metadata": {},
   "outputs": [],
   "source": [
    "\n",
    "data_stack = {\n",
    "    \"Country\": [\"USA\", \"USA\", \"Germany\", \"Germany\", \"Japan\", \"Japan\"],\n",
    "    \"Year\": [2020, 2021, 2020, 2021, 2020, 2021],\n",
    "    \"Population\": [331, 332, 83, 84, 126, 125],\n",
    "    \"GDP\": [21137, 22940, 3845, 4223, 5065, 5315]\n",
    "}\n",
    "df_stack = pd.DataFrame(data_stack)\n",
    "\n",
    "\n",
    "data_pivot = {\n",
    "    \"Country\": [\"USA\", \"USA\", \"Germany\", \"Germany\", \"Japan\", \"Japan\"],\n",
    "    \"Year\": [2020, 2021, 2020, 2021, 2020, 2021],\n",
    "    \"Product\": [\"A\", \"B\", \"A\", \"B\", \"A\", \"B\"],\n",
    "    \"Sales\": [500, 700, 300, 400, 200, 300]\n",
    "}\n",
    "df_pivot = pd.DataFrame(data_pivot)\n",
    "\n",
    "\n",
    "data_multiindex = {\n",
    "    \"Region\": [\"North America\", \"North America\", \"Europe\", \"Europe\", \"Asia\", \"Asia\"],\n",
    "    \"Product\": [\"A\", \"B\", \"A\", \"B\", \"A\", \"B\"],\n",
    "    \"Sales\": [500, 700, 300, 400, 200, 300],\n",
    "    \"Profit\": [200, 300, 100, 150, 50, 75]\n",
    "}\n",
    "df_multiindex = pd.DataFrame(data_multiindex)"
   ]
  },
  {
   "cell_type": "code",
   "execution_count": 26,
   "metadata": {},
   "outputs": [
    {
     "data": {
      "text/plain": [
       "Country  Year            \n",
       "USA      2020  Population      331\n",
       "               GDP           21137\n",
       "         2021  Population      332\n",
       "               GDP           22940\n",
       "Germany  2020  Population       83\n",
       "               GDP            3845\n",
       "         2021  Population       84\n",
       "               GDP            4223\n",
       "Japan    2020  Population      126\n",
       "               GDP            5065\n",
       "         2021  Population      125\n",
       "               GDP            5315\n",
       "dtype: int64"
      ]
     },
     "execution_count": 26,
     "metadata": {},
     "output_type": "execute_result"
    }
   ],
   "source": [
    "stacked_df = df_stack.set_index([\"Country\", \"Year\"]).stack()\n",
    "stacked_df"
   ]
  },
  {
   "cell_type": "code",
   "execution_count": 16,
   "metadata": {},
   "outputs": [
    {
     "data": {
      "text/plain": [
       "Country     0        USA\n",
       "            1        USA\n",
       "            2    Germany\n",
       "            3    Germany\n",
       "            4      Japan\n",
       "            5      Japan\n",
       "Year        0       2020\n",
       "            1       2021\n",
       "            2       2020\n",
       "            3       2021\n",
       "            4       2020\n",
       "            5       2021\n",
       "Population  0        331\n",
       "            1        332\n",
       "            2         83\n",
       "            3         84\n",
       "            4        126\n",
       "            5        125\n",
       "GDP         0      21137\n",
       "            1      22940\n",
       "            2       3845\n",
       "            3       4223\n",
       "            4       5065\n",
       "            5       5315\n",
       "dtype: object"
      ]
     },
     "execution_count": 16,
     "metadata": {},
     "output_type": "execute_result"
    }
   ],
   "source": [
    "df = df_stack.unstack()\n",
    "df"
   ]
  },
  {
   "cell_type": "code",
   "execution_count": 17,
   "metadata": {},
   "outputs": [
    {
     "data": {
      "text/html": [
       "<div>\n",
       "<style scoped>\n",
       "    .dataframe tbody tr th:only-of-type {\n",
       "        vertical-align: middle;\n",
       "    }\n",
       "\n",
       "    .dataframe tbody tr th {\n",
       "        vertical-align: top;\n",
       "    }\n",
       "\n",
       "    .dataframe thead th {\n",
       "        text-align: right;\n",
       "    }\n",
       "</style>\n",
       "<table border=\"1\" class=\"dataframe\">\n",
       "  <thead>\n",
       "    <tr style=\"text-align: right;\">\n",
       "      <th>Year</th>\n",
       "      <th>2020</th>\n",
       "      <th>2021</th>\n",
       "    </tr>\n",
       "    <tr>\n",
       "      <th>Country</th>\n",
       "      <th></th>\n",
       "      <th></th>\n",
       "    </tr>\n",
       "  </thead>\n",
       "  <tbody>\n",
       "    <tr>\n",
       "      <th>Germany</th>\n",
       "      <td>300</td>\n",
       "      <td>400</td>\n",
       "    </tr>\n",
       "    <tr>\n",
       "      <th>Japan</th>\n",
       "      <td>200</td>\n",
       "      <td>300</td>\n",
       "    </tr>\n",
       "    <tr>\n",
       "      <th>USA</th>\n",
       "      <td>500</td>\n",
       "      <td>700</td>\n",
       "    </tr>\n",
       "  </tbody>\n",
       "</table>\n",
       "</div>"
      ],
      "text/plain": [
       "Year     2020  2021\n",
       "Country            \n",
       "Germany   300   400\n",
       "Japan     200   300\n",
       "USA       500   700"
      ]
     },
     "execution_count": 17,
     "metadata": {},
     "output_type": "execute_result"
    }
   ],
   "source": [
    "df_pivot.pivot_table(aggfunc=\"sum\", values=\"Sales\", index=\"Country\", columns=\"Year\")"
   ]
  },
  {
   "cell_type": "code",
   "execution_count": 18,
   "metadata": {},
   "outputs": [
    {
     "data": {
      "text/html": [
       "<div>\n",
       "<style scoped>\n",
       "    .dataframe tbody tr th:only-of-type {\n",
       "        vertical-align: middle;\n",
       "    }\n",
       "\n",
       "    .dataframe tbody tr th {\n",
       "        vertical-align: top;\n",
       "    }\n",
       "\n",
       "    .dataframe thead th {\n",
       "        text-align: right;\n",
       "    }\n",
       "</style>\n",
       "<table border=\"1\" class=\"dataframe\">\n",
       "  <thead>\n",
       "    <tr style=\"text-align: right;\">\n",
       "      <th>Year</th>\n",
       "      <th>2020</th>\n",
       "      <th>2021</th>\n",
       "      <th>All</th>\n",
       "    </tr>\n",
       "    <tr>\n",
       "      <th>Country</th>\n",
       "      <th></th>\n",
       "      <th></th>\n",
       "      <th></th>\n",
       "    </tr>\n",
       "  </thead>\n",
       "  <tbody>\n",
       "    <tr>\n",
       "      <th>Germany</th>\n",
       "      <td>300</td>\n",
       "      <td>400</td>\n",
       "      <td>700</td>\n",
       "    </tr>\n",
       "    <tr>\n",
       "      <th>Japan</th>\n",
       "      <td>200</td>\n",
       "      <td>300</td>\n",
       "      <td>500</td>\n",
       "    </tr>\n",
       "    <tr>\n",
       "      <th>USA</th>\n",
       "      <td>500</td>\n",
       "      <td>700</td>\n",
       "      <td>1200</td>\n",
       "    </tr>\n",
       "    <tr>\n",
       "      <th>All</th>\n",
       "      <td>1000</td>\n",
       "      <td>1400</td>\n",
       "      <td>2400</td>\n",
       "    </tr>\n",
       "  </tbody>\n",
       "</table>\n",
       "</div>"
      ],
      "text/plain": [
       "Year     2020  2021   All\n",
       "Country                  \n",
       "Germany   300   400   700\n",
       "Japan     200   300   500\n",
       "USA       500   700  1200\n",
       "All      1000  1400  2400"
      ]
     },
     "execution_count": 18,
     "metadata": {},
     "output_type": "execute_result"
    }
   ],
   "source": [
    "df_pivot.pivot_table(aggfunc=\"sum\", values=\"Sales\", index=\"Country\", columns=\"Year\", margins=True)"
   ]
  },
  {
   "cell_type": "code",
   "execution_count": 20,
   "metadata": {},
   "outputs": [
    {
     "data": {
      "text/html": [
       "<div>\n",
       "<style scoped>\n",
       "    .dataframe tbody tr th:only-of-type {\n",
       "        vertical-align: middle;\n",
       "    }\n",
       "\n",
       "    .dataframe tbody tr th {\n",
       "        vertical-align: top;\n",
       "    }\n",
       "\n",
       "    .dataframe thead th {\n",
       "        text-align: right;\n",
       "    }\n",
       "</style>\n",
       "<table border=\"1\" class=\"dataframe\">\n",
       "  <thead>\n",
       "    <tr style=\"text-align: right;\">\n",
       "      <th></th>\n",
       "      <th>index</th>\n",
       "      <th>Region</th>\n",
       "      <th>Product</th>\n",
       "      <th>Sales</th>\n",
       "      <th>Profit</th>\n",
       "    </tr>\n",
       "  </thead>\n",
       "  <tbody>\n",
       "    <tr>\n",
       "      <th>0</th>\n",
       "      <td>0</td>\n",
       "      <td>North America</td>\n",
       "      <td>A</td>\n",
       "      <td>500</td>\n",
       "      <td>200</td>\n",
       "    </tr>\n",
       "    <tr>\n",
       "      <th>1</th>\n",
       "      <td>1</td>\n",
       "      <td>North America</td>\n",
       "      <td>B</td>\n",
       "      <td>700</td>\n",
       "      <td>300</td>\n",
       "    </tr>\n",
       "    <tr>\n",
       "      <th>2</th>\n",
       "      <td>2</td>\n",
       "      <td>Europe</td>\n",
       "      <td>A</td>\n",
       "      <td>300</td>\n",
       "      <td>100</td>\n",
       "    </tr>\n",
       "    <tr>\n",
       "      <th>3</th>\n",
       "      <td>3</td>\n",
       "      <td>Europe</td>\n",
       "      <td>B</td>\n",
       "      <td>400</td>\n",
       "      <td>150</td>\n",
       "    </tr>\n",
       "    <tr>\n",
       "      <th>4</th>\n",
       "      <td>4</td>\n",
       "      <td>Asia</td>\n",
       "      <td>A</td>\n",
       "      <td>200</td>\n",
       "      <td>50</td>\n",
       "    </tr>\n",
       "    <tr>\n",
       "      <th>5</th>\n",
       "      <td>5</td>\n",
       "      <td>Asia</td>\n",
       "      <td>B</td>\n",
       "      <td>300</td>\n",
       "      <td>75</td>\n",
       "    </tr>\n",
       "  </tbody>\n",
       "</table>\n",
       "</div>"
      ],
      "text/plain": [
       "   index         Region Product  Sales  Profit\n",
       "0      0  North America       A    500     200\n",
       "1      1  North America       B    700     300\n",
       "2      2         Europe       A    300     100\n",
       "3      3         Europe       B    400     150\n",
       "4      4           Asia       A    200      50\n",
       "5      5           Asia       B    300      75"
      ]
     },
     "execution_count": 20,
     "metadata": {},
     "output_type": "execute_result"
    }
   ],
   "source": [
    "df_multiindex = df_multiindex.reset_index()\n"
   ]
  },
  {
   "cell_type": "code",
   "execution_count": 25,
   "metadata": {},
   "outputs": [
    {
     "data": {
      "text/plain": [
       "MultiIndex([('North America', 'A', 500, 200),\n",
       "            ('North America', 'B', 700, 300),\n",
       "            (       'Europe', 'A', 300, 100),\n",
       "            (       'Europe', 'B', 400, 150),\n",
       "            (         'Asia', 'A', 200,  50),\n",
       "            (         'Asia', 'B', 300,  75)],\n",
       "           names=['Region', 'Product', 'Sales', 'Profit'])"
      ]
     },
     "execution_count": 25,
     "metadata": {},
     "output_type": "execute_result"
    }
   ],
   "source": [
    "tupla = df_multiindex.columns\n",
    "pd.MultiIndex.from_frame(df_multiindex, names=tupla, sortorder=3)"
   ]
  },
  {
   "cell_type": "code",
   "execution_count": 28,
   "metadata": {},
   "outputs": [
    {
     "data": {
      "text/plain": [
       "<Axes: title={'center': 'Sales by Country and Year'}, xlabel='Country'>"
      ]
     },
     "execution_count": 28,
     "metadata": {},
     "output_type": "execute_result"
    },
    {
     "data": {
      "image/png": "[encoded data removed]",
      "text/plain": [
       "<Figure size 1000x600 with 1 Axes>"
      ]
     },
     "metadata": {},
     "output_type": "display_data"
    }
   ],
   "source": [
    "pivot_table = df_pivot.pivot_table(aggfunc=\"sum\", values=\"Sales\", index=\"Country\", columns=\"Year\")\n",
    "pivot_table.plot(kind=\"bar\", figsize=(10, 6), title=\"Sales by Country and Year\")\n"
   ]
  },
  {
   "cell_type": "code",
   "execution_count": 45,
   "metadata": {},
   "outputs": [
    {
     "data": {
      "text/plain": [
       "array([[[ 1,  2,  3],\n",
       "        [ 4,  5,  6]],\n",
       "\n",
       "       [[ 7,  8,  9],\n",
       "        [10, 11, 12]]])"
      ]
     },
     "execution_count": 45,
     "metadata": {},
     "output_type": "execute_result"
    }
   ],
   "source": [
    "t = np.arange(1,13)\n",
    "t = t.reshape((3,4))\n",
    "t = t.reshape((2,2,3))\n",
    "t"
   ]
  },
  {
   "cell_type": "code",
   "execution_count": 37,
   "metadata": {},
   "outputs": [
    {
     "name": "stdout",
     "output_type": "stream",
     "text": [
      "[[1 2 3]\n",
      " [4 5 6]]\n",
      "[[ 7  8  9]\n",
      " [10 11 12]]\n",
      "t3----\n",
      "[[ 1  2  3  7  8  9]\n",
      " [ 4  5  6 10 11 12]]\n",
      "t4-----\n",
      "[[ 1  2  3]\n",
      " [ 4  5  6]\n",
      " [ 7  8  9]\n",
      " [10 11 12]]\n"
     ]
    }
   ],
   "source": [
    "t1 = np.arange(1,7).reshape((2,3))\n",
    "print(t1)\n",
    "t2 = np.arange(7,13).reshape((2,3))\n",
    "print(t2)\n",
    "t3 = np.concatenate((t1,t2), axis=1)\n",
    "t4 = np.concatenate((t1,t2), axis=0)\n",
    "print(\"t3----\")\n",
    "print(t3)\n",
    "print(\"t4-----\")\n",
    "print(t4)"
   ]
  },
  {
   "cell_type": "code",
   "execution_count": 51,
   "metadata": {},
   "outputs": [
    {
     "name": "stdout",
     "output_type": "stream",
     "text": [
      "[array([[1, 2, 3, 4],\n",
      "       [5, 6, 7, 8]]), array([[ 9, 10, 11, 12]])]\n"
     ]
    },
    {
     "data": {
      "text/plain": [
       "[array([[1],\n",
       "        [5],\n",
       "        [9]]),\n",
       " array([[ 2],\n",
       "        [ 6],\n",
       "        [10]]),\n",
       " array([[ 3],\n",
       "        [ 7],\n",
       "        [11]]),\n",
       " array([[ 4],\n",
       "        [ 8],\n",
       "        [12]])]"
      ]
     },
     "execution_count": 51,
     "metadata": {},
     "output_type": "execute_result"
    }
   ],
   "source": [
    "t = t.reshape((3,4))\n",
    "t_split = np.array_split(t,2, axis=0)\n",
    "print(t_split)\n",
    "t_5 = np.split(t, 4, axis=1)\n",
    "t_5"
   ]
  },
  {
   "cell_type": "code",
   "execution_count": 68,
   "metadata": {},
   "outputs": [
    {
     "data": {
      "text/plain": [
       "array([[[18, 16],\n",
       "        [ 7,  7],\n",
       "        [13,  3]],\n",
       "\n",
       "       [[ 5,  3],\n",
       "        [11,  2],\n",
       "        [15,  3]]])"
      ]
     },
     "execution_count": 68,
     "metadata": {},
     "output_type": "execute_result"
    }
   ],
   "source": [
    "arr = np.random.randint(1,20, (3,2,2))\n",
    "arr_t = np.transpose(arr, (2,0,1))\n",
    "arr_t"
   ]
  },
  {
   "cell_type": "code",
   "execution_count": 59,
   "metadata": {},
   "outputs": [
    {
     "data": {
      "text/plain": [
       "array([10, 16,  1, 14, 18,  7, 16,  3, 13,  4, 14,  7])"
      ]
     },
     "execution_count": 59,
     "metadata": {},
     "output_type": "execute_result"
    }
   ],
   "source": [
    "arr_ravel = np.ravel(arr)\n",
    "arr_ravel"
   ]
  },
  {
   "cell_type": "code",
   "execution_count": 67,
   "metadata": {},
   "outputs": [
    {
     "data": {
      "text/plain": [
       "(1, 1, 4)"
      ]
     },
     "execution_count": 67,
     "metadata": {},
     "output_type": "execute_result"
    }
   ],
   "source": [
    "t1d = np.array([1,2,3,4])\n",
    "t141 = np.expand_dims(t1d, axis=(0,1))\n",
    "t141.shape"
   ]
  },
  {
   "cell_type": "code",
   "execution_count": null,
   "metadata": {},
   "outputs": [],
   "source": []
  }
 ],
 "metadata": {
  "kernelspec": {
   "display_name": "Python 3",
   "language": "python",
   "name": "python3"
  },
  "language_info": {
   "codemirror_mode": {
    "name": "ipython",
    "version": 3
   },
   "file_extension": ".py",
   "mimetype": "text/x-python",
   "name": "python",
   "nbconvert_exporter": "python",
   "pygments_lexer": "ipython3",
   "version": "3.11.3"
  }
 },
 "nbformat": 4,
 "nbformat_minor": 2
}
